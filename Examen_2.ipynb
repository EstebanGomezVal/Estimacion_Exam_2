{
 "cells": [
  {
   "cell_type": "markdown",
   "metadata": {},
   "source": [
    "<img src=\"https://oci02.img.iteso.mx/Identidades-De-Instancia/ITESO/Logos%20ITESO/Logo-ITESO-Vertical-SinFondo.png\"\n",
    "     align=\"right\"\n",
    "     width=\"150\"/>\n",
    "\n",
    "# **Segundo Examen Parcial**\n",
    "\n",
    "## **Modelo de predicción lineal**\n",
    "\n",
    "- Esteban Gomez Valerio\n",
    "---"
   ]
  },
  {
   "cell_type": "code",
   "execution_count": 2,
   "metadata": {},
   "outputs": [],
   "source": [
    "import numpy as np\n",
    "import pandas as pd\n",
    "\n",
    "import plotly.express as px\n",
    "import plotly.graph_objects as go\n",
    "import matplotlib.pyplot as plt\n",
    "import seaborn as sns\n",
    "\n",
    "from sklearn.linear_model import LinearRegression\n",
    "from sklearn.linear_model import Ridge\n",
    "from sklearn.linear_model import Lasso\n",
    "from sklearn.linear_model import ElasticNet\n",
    "from sklearn.preprocessing import MinMaxScaler, StandardScaler\n",
    "from sklearn.kernel_ridge import KernelRidge\n"
   ]
  },
  {
   "cell_type": "code",
   "execution_count": 3,
   "metadata": {},
   "outputs": [
    {
     "data": {
      "application/vnd.microsoft.datawrangler.viewer.v0+json": {
       "columns": [
        {
         "name": "index",
         "rawType": "int64",
         "type": "integer"
        },
        {
         "name": "Altura",
         "rawType": "int64",
         "type": "integer"
        },
        {
         "name": "Ancho",
         "rawType": "int64",
         "type": "integer"
        },
        {
         "name": "Pie",
         "rawType": "float64",
         "type": "float"
        }
       ],
       "conversionMethod": "pd.DataFrame",
       "ref": "44e2ec59-a7a3-47d2-9fa9-bacb547627e6",
       "rows": [
        [
         "0",
         "185",
         "55",
         "28.0"
        ],
        [
         "1",
         "173",
         "44",
         "26.5"
        ],
        [
         "2",
         "163",
         "44",
         "24.0"
        ],
        [
         "3",
         "162",
         "44",
         "24.5"
        ],
        [
         "4",
         "172",
         "46",
         "27.0"
        ]
       ],
       "shape": {
        "columns": 3,
        "rows": 5
       }
      },
      "text/html": [
       "<div>\n",
       "<style scoped>\n",
       "    .dataframe tbody tr th:only-of-type {\n",
       "        vertical-align: middle;\n",
       "    }\n",
       "\n",
       "    .dataframe tbody tr th {\n",
       "        vertical-align: top;\n",
       "    }\n",
       "\n",
       "    .dataframe thead th {\n",
       "        text-align: right;\n",
       "    }\n",
       "</style>\n",
       "<table border=\"1\" class=\"dataframe\">\n",
       "  <thead>\n",
       "    <tr style=\"text-align: right;\">\n",
       "      <th></th>\n",
       "      <th>Altura</th>\n",
       "      <th>Ancho</th>\n",
       "      <th>Pie</th>\n",
       "    </tr>\n",
       "  </thead>\n",
       "  <tbody>\n",
       "    <tr>\n",
       "      <th>0</th>\n",
       "      <td>185</td>\n",
       "      <td>55</td>\n",
       "      <td>28.0</td>\n",
       "    </tr>\n",
       "    <tr>\n",
       "      <th>1</th>\n",
       "      <td>173</td>\n",
       "      <td>44</td>\n",
       "      <td>26.5</td>\n",
       "    </tr>\n",
       "    <tr>\n",
       "      <th>2</th>\n",
       "      <td>163</td>\n",
       "      <td>44</td>\n",
       "      <td>24.0</td>\n",
       "    </tr>\n",
       "    <tr>\n",
       "      <th>3</th>\n",
       "      <td>162</td>\n",
       "      <td>44</td>\n",
       "      <td>24.5</td>\n",
       "    </tr>\n",
       "    <tr>\n",
       "      <th>4</th>\n",
       "      <td>172</td>\n",
       "      <td>46</td>\n",
       "      <td>27.0</td>\n",
       "    </tr>\n",
       "  </tbody>\n",
       "</table>\n",
       "</div>"
      ],
      "text/plain": [
       "   Altura  Ancho   Pie\n",
       "0     185     55  28.0\n",
       "1     173     44  26.5\n",
       "2     163     44  24.0\n",
       "3     162     44  24.5\n",
       "4     172     46  27.0"
      ]
     },
     "execution_count": 3,
     "metadata": {},
     "output_type": "execute_result"
    }
   ],
   "source": [
    "df = pd.read_csv('Datos/datos_gente.csv')\n",
    "df.head()"
   ]
  },
  {
   "cell_type": "code",
   "execution_count": 4,
   "metadata": {},
   "outputs": [
    {
     "name": "stdout",
     "output_type": "stream",
     "text": [
      "<class 'pandas.core.frame.DataFrame'>\n",
      "RangeIndex: 18 entries, 0 to 17\n",
      "Data columns (total 3 columns):\n",
      " #   Column  Non-Null Count  Dtype  \n",
      "---  ------  --------------  -----  \n",
      " 0   Altura  18 non-null     int64  \n",
      " 1   Ancho   18 non-null     int64  \n",
      " 2   Pie     18 non-null     float64\n",
      "dtypes: float64(1), int64(2)\n",
      "memory usage: 564.0 bytes\n"
     ]
    }
   ],
   "source": [
    "df.info()"
   ]
  },
  {
   "cell_type": "code",
   "execution_count": 5,
   "metadata": {},
   "outputs": [
    {
     "data": {
      "application/vnd.plotly.v1+json": {
       "config": {
        "plotlyServerURL": "https://plot.ly"
       },
       "data": [
        {
         "hovertemplate": "Altura (cm)=%{x}<br>Ancho (cm)=%{y}<extra></extra>",
         "legendgroup": "",
         "marker": {
          "color": "blue",
          "symbol": "circle"
         },
         "mode": "markers",
         "name": "",
         "orientation": "v",
         "showlegend": false,
         "type": "scatter",
         "x": {
          "bdata": "uQCtAKMAogCsAJ8AuwClAK8AogCbAKgAswCsAJ8ApgCcAJYA",
          "dtype": "i2"
         },
         "xaxis": "x",
         "y": {
          "bdata": "NywsLC4oMCgxLCg9NzImJyYn",
          "dtype": "i1"
         },
         "yaxis": "y"
        }
       ],
       "layout": {
        "legend": {
         "tracegroupgap": 0
        },
        "template": {
         "data": {
          "bar": [
           {
            "error_x": {
             "color": "#2a3f5f"
            },
            "error_y": {
             "color": "#2a3f5f"
            },
            "marker": {
             "line": {
              "color": "#E5ECF6",
              "width": 0.5
             },
             "pattern": {
              "fillmode": "overlay",
              "size": 10,
              "solidity": 0.2
             }
            },
            "type": "bar"
           }
          ],
          "barpolar": [
           {
            "marker": {
             "line": {
              "color": "#E5ECF6",
              "width": 0.5
             },
             "pattern": {
              "fillmode": "overlay",
              "size": 10,
              "solidity": 0.2
             }
            },
            "type": "barpolar"
           }
          ],
          "carpet": [
           {
            "aaxis": {
             "endlinecolor": "#2a3f5f",
             "gridcolor": "white",
             "linecolor": "white",
             "minorgridcolor": "white",
             "startlinecolor": "#2a3f5f"
            },
            "baxis": {
             "endlinecolor": "#2a3f5f",
             "gridcolor": "white",
             "linecolor": "white",
             "minorgridcolor": "white",
             "startlinecolor": "#2a3f5f"
            },
            "type": "carpet"
           }
          ],
          "choropleth": [
           {
            "colorbar": {
             "outlinewidth": 0,
             "ticks": ""
            },
            "type": "choropleth"
           }
          ],
          "contour": [
           {
            "colorbar": {
             "outlinewidth": 0,
             "ticks": ""
            },
            "colorscale": [
             [
              0,
              "#0d0887"
             ],
             [
              0.1111111111111111,
              "#46039f"
             ],
             [
              0.2222222222222222,
              "#7201a8"
             ],
             [
              0.3333333333333333,
              "#9c179e"
             ],
             [
              0.4444444444444444,
              "#bd3786"
             ],
             [
              0.5555555555555556,
              "#d8576b"
             ],
             [
              0.6666666666666666,
              "#ed7953"
             ],
             [
              0.7777777777777778,
              "#fb9f3a"
             ],
             [
              0.8888888888888888,
              "#fdca26"
             ],
             [
              1,
              "#f0f921"
             ]
            ],
            "type": "contour"
           }
          ],
          "contourcarpet": [
           {
            "colorbar": {
             "outlinewidth": 0,
             "ticks": ""
            },
            "type": "contourcarpet"
           }
          ],
          "heatmap": [
           {
            "colorbar": {
             "outlinewidth": 0,
             "ticks": ""
            },
            "colorscale": [
             [
              0,
              "#0d0887"
             ],
             [
              0.1111111111111111,
              "#46039f"
             ],
             [
              0.2222222222222222,
              "#7201a8"
             ],
             [
              0.3333333333333333,
              "#9c179e"
             ],
             [
              0.4444444444444444,
              "#bd3786"
             ],
             [
              0.5555555555555556,
              "#d8576b"
             ],
             [
              0.6666666666666666,
              "#ed7953"
             ],
             [
              0.7777777777777778,
              "#fb9f3a"
             ],
             [
              0.8888888888888888,
              "#fdca26"
             ],
             [
              1,
              "#f0f921"
             ]
            ],
            "type": "heatmap"
           }
          ],
          "histogram": [
           {
            "marker": {
             "pattern": {
              "fillmode": "overlay",
              "size": 10,
              "solidity": 0.2
             }
            },
            "type": "histogram"
           }
          ],
          "histogram2d": [
           {
            "colorbar": {
             "outlinewidth": 0,
             "ticks": ""
            },
            "colorscale": [
             [
              0,
              "#0d0887"
             ],
             [
              0.1111111111111111,
              "#46039f"
             ],
             [
              0.2222222222222222,
              "#7201a8"
             ],
             [
              0.3333333333333333,
              "#9c179e"
             ],
             [
              0.4444444444444444,
              "#bd3786"
             ],
             [
              0.5555555555555556,
              "#d8576b"
             ],
             [
              0.6666666666666666,
              "#ed7953"
             ],
             [
              0.7777777777777778,
              "#fb9f3a"
             ],
             [
              0.8888888888888888,
              "#fdca26"
             ],
             [
              1,
              "#f0f921"
             ]
            ],
            "type": "histogram2d"
           }
          ],
          "histogram2dcontour": [
           {
            "colorbar": {
             "outlinewidth": 0,
             "ticks": ""
            },
            "colorscale": [
             [
              0,
              "#0d0887"
             ],
             [
              0.1111111111111111,
              "#46039f"
             ],
             [
              0.2222222222222222,
              "#7201a8"
             ],
             [
              0.3333333333333333,
              "#9c179e"
             ],
             [
              0.4444444444444444,
              "#bd3786"
             ],
             [
              0.5555555555555556,
              "#d8576b"
             ],
             [
              0.6666666666666666,
              "#ed7953"
             ],
             [
              0.7777777777777778,
              "#fb9f3a"
             ],
             [
              0.8888888888888888,
              "#fdca26"
             ],
             [
              1,
              "#f0f921"
             ]
            ],
            "type": "histogram2dcontour"
           }
          ],
          "mesh3d": [
           {
            "colorbar": {
             "outlinewidth": 0,
             "ticks": ""
            },
            "type": "mesh3d"
           }
          ],
          "parcoords": [
           {
            "line": {
             "colorbar": {
              "outlinewidth": 0,
              "ticks": ""
             }
            },
            "type": "parcoords"
           }
          ],
          "pie": [
           {
            "automargin": true,
            "type": "pie"
           }
          ],
          "scatter": [
           {
            "fillpattern": {
             "fillmode": "overlay",
             "size": 10,
             "solidity": 0.2
            },
            "type": "scatter"
           }
          ],
          "scatter3d": [
           {
            "line": {
             "colorbar": {
              "outlinewidth": 0,
              "ticks": ""
             }
            },
            "marker": {
             "colorbar": {
              "outlinewidth": 0,
              "ticks": ""
             }
            },
            "type": "scatter3d"
           }
          ],
          "scattercarpet": [
           {
            "marker": {
             "colorbar": {
              "outlinewidth": 0,
              "ticks": ""
             }
            },
            "type": "scattercarpet"
           }
          ],
          "scattergeo": [
           {
            "marker": {
             "colorbar": {
              "outlinewidth": 0,
              "ticks": ""
             }
            },
            "type": "scattergeo"
           }
          ],
          "scattergl": [
           {
            "marker": {
             "colorbar": {
              "outlinewidth": 0,
              "ticks": ""
             }
            },
            "type": "scattergl"
           }
          ],
          "scattermap": [
           {
            "marker": {
             "colorbar": {
              "outlinewidth": 0,
              "ticks": ""
             }
            },
            "type": "scattermap"
           }
          ],
          "scattermapbox": [
           {
            "marker": {
             "colorbar": {
              "outlinewidth": 0,
              "ticks": ""
             }
            },
            "type": "scattermapbox"
           }
          ],
          "scatterpolar": [
           {
            "marker": {
             "colorbar": {
              "outlinewidth": 0,
              "ticks": ""
             }
            },
            "type": "scatterpolar"
           }
          ],
          "scatterpolargl": [
           {
            "marker": {
             "colorbar": {
              "outlinewidth": 0,
              "ticks": ""
             }
            },
            "type": "scatterpolargl"
           }
          ],
          "scatterternary": [
           {
            "marker": {
             "colorbar": {
              "outlinewidth": 0,
              "ticks": ""
             }
            },
            "type": "scatterternary"
           }
          ],
          "surface": [
           {
            "colorbar": {
             "outlinewidth": 0,
             "ticks": ""
            },
            "colorscale": [
             [
              0,
              "#0d0887"
             ],
             [
              0.1111111111111111,
              "#46039f"
             ],
             [
              0.2222222222222222,
              "#7201a8"
             ],
             [
              0.3333333333333333,
              "#9c179e"
             ],
             [
              0.4444444444444444,
              "#bd3786"
             ],
             [
              0.5555555555555556,
              "#d8576b"
             ],
             [
              0.6666666666666666,
              "#ed7953"
             ],
             [
              0.7777777777777778,
              "#fb9f3a"
             ],
             [
              0.8888888888888888,
              "#fdca26"
             ],
             [
              1,
              "#f0f921"
             ]
            ],
            "type": "surface"
           }
          ],
          "table": [
           {
            "cells": {
             "fill": {
              "color": "#EBF0F8"
             },
             "line": {
              "color": "white"
             }
            },
            "header": {
             "fill": {
              "color": "#C8D4E3"
             },
             "line": {
              "color": "white"
             }
            },
            "type": "table"
           }
          ]
         },
         "layout": {
          "annotationdefaults": {
           "arrowcolor": "#2a3f5f",
           "arrowhead": 0,
           "arrowwidth": 1
          },
          "autotypenumbers": "strict",
          "coloraxis": {
           "colorbar": {
            "outlinewidth": 0,
            "ticks": ""
           }
          },
          "colorscale": {
           "diverging": [
            [
             0,
             "#8e0152"
            ],
            [
             0.1,
             "#c51b7d"
            ],
            [
             0.2,
             "#de77ae"
            ],
            [
             0.3,
             "#f1b6da"
            ],
            [
             0.4,
             "#fde0ef"
            ],
            [
             0.5,
             "#f7f7f7"
            ],
            [
             0.6,
             "#e6f5d0"
            ],
            [
             0.7,
             "#b8e186"
            ],
            [
             0.8,
             "#7fbc41"
            ],
            [
             0.9,
             "#4d9221"
            ],
            [
             1,
             "#276419"
            ]
           ],
           "sequential": [
            [
             0,
             "#0d0887"
            ],
            [
             0.1111111111111111,
             "#46039f"
            ],
            [
             0.2222222222222222,
             "#7201a8"
            ],
            [
             0.3333333333333333,
             "#9c179e"
            ],
            [
             0.4444444444444444,
             "#bd3786"
            ],
            [
             0.5555555555555556,
             "#d8576b"
            ],
            [
             0.6666666666666666,
             "#ed7953"
            ],
            [
             0.7777777777777778,
             "#fb9f3a"
            ],
            [
             0.8888888888888888,
             "#fdca26"
            ],
            [
             1,
             "#f0f921"
            ]
           ],
           "sequentialminus": [
            [
             0,
             "#0d0887"
            ],
            [
             0.1111111111111111,
             "#46039f"
            ],
            [
             0.2222222222222222,
             "#7201a8"
            ],
            [
             0.3333333333333333,
             "#9c179e"
            ],
            [
             0.4444444444444444,
             "#bd3786"
            ],
            [
             0.5555555555555556,
             "#d8576b"
            ],
            [
             0.6666666666666666,
             "#ed7953"
            ],
            [
             0.7777777777777778,
             "#fb9f3a"
            ],
            [
             0.8888888888888888,
             "#fdca26"
            ],
            [
             1,
             "#f0f921"
            ]
           ]
          },
          "colorway": [
           "#636efa",
           "#EF553B",
           "#00cc96",
           "#ab63fa",
           "#FFA15A",
           "#19d3f3",
           "#FF6692",
           "#B6E880",
           "#FF97FF",
           "#FECB52"
          ],
          "font": {
           "color": "#2a3f5f"
          },
          "geo": {
           "bgcolor": "white",
           "lakecolor": "white",
           "landcolor": "#E5ECF6",
           "showlakes": true,
           "showland": true,
           "subunitcolor": "white"
          },
          "hoverlabel": {
           "align": "left"
          },
          "hovermode": "closest",
          "mapbox": {
           "style": "light"
          },
          "paper_bgcolor": "white",
          "plot_bgcolor": "#E5ECF6",
          "polar": {
           "angularaxis": {
            "gridcolor": "white",
            "linecolor": "white",
            "ticks": ""
           },
           "bgcolor": "#E5ECF6",
           "radialaxis": {
            "gridcolor": "white",
            "linecolor": "white",
            "ticks": ""
           }
          },
          "scene": {
           "xaxis": {
            "backgroundcolor": "#E5ECF6",
            "gridcolor": "white",
            "gridwidth": 2,
            "linecolor": "white",
            "showbackground": true,
            "ticks": "",
            "zerolinecolor": "white"
           },
           "yaxis": {
            "backgroundcolor": "#E5ECF6",
            "gridcolor": "white",
            "gridwidth": 2,
            "linecolor": "white",
            "showbackground": true,
            "ticks": "",
            "zerolinecolor": "white"
           },
           "zaxis": {
            "backgroundcolor": "#E5ECF6",
            "gridcolor": "white",
            "gridwidth": 2,
            "linecolor": "white",
            "showbackground": true,
            "ticks": "",
            "zerolinecolor": "white"
           }
          },
          "shapedefaults": {
           "line": {
            "color": "#2a3f5f"
           }
          },
          "ternary": {
           "aaxis": {
            "gridcolor": "white",
            "linecolor": "white",
            "ticks": ""
           },
           "baxis": {
            "gridcolor": "white",
            "linecolor": "white",
            "ticks": ""
           },
           "bgcolor": "#E5ECF6",
           "caxis": {
            "gridcolor": "white",
            "linecolor": "white",
            "ticks": ""
           }
          },
          "title": {
           "x": 0.05
          },
          "xaxis": {
           "automargin": true,
           "gridcolor": "white",
           "linecolor": "white",
           "ticks": "",
           "title": {
            "standoff": 15
           },
           "zerolinecolor": "white",
           "zerolinewidth": 2
          },
          "yaxis": {
           "automargin": true,
           "gridcolor": "white",
           "linecolor": "white",
           "ticks": "",
           "title": {
            "standoff": 15
           },
           "zerolinecolor": "white",
           "zerolinewidth": 2
          }
         }
        },
        "title": {
         "text": "Altura vs Ancho"
        },
        "xaxis": {
         "anchor": "y",
         "domain": [
          0,
          1
         ],
         "title": {
          "text": "Altura (cm)"
         }
        },
        "yaxis": {
         "anchor": "x",
         "domain": [
          0,
          1
         ],
         "title": {
          "text": "Ancho (cm)"
         }
        }
       }
      }
     },
     "metadata": {},
     "output_type": "display_data"
    },
    {
     "data": {
      "application/vnd.plotly.v1+json": {
       "config": {
        "plotlyServerURL": "https://plot.ly"
       },
       "data": [
        {
         "hovertemplate": "Altura (cm)=%{x}<br>Pie (cm)=%{y}<extra></extra>",
         "legendgroup": "",
         "marker": {
          "color": "red",
          "symbol": "circle"
         },
         "mode": "markers",
         "name": "",
         "orientation": "v",
         "showlegend": false,
         "type": "scatter",
         "x": {
          "bdata": "uQCtAKMAogCsAJ8AuwClAK8AogCbAKgAswCsAJ8ApgCcAJYA",
          "dtype": "i2"
         },
         "xaxis": "x",
         "y": {
          "bdata": "AAAAAAAAPEAAAAAAAIA6QAAAAAAAADhAAAAAAACAOEAAAAAAAAA7QAAAAAAAADdAAAAAAAAAPUAAAAAAAAA4QAAAAAAAgDtAAAAAAAAAN0AAAAAAAAA2QAAAAAAAADpAAAAAAAAAPEAAAAAAAIA7QAAAAAAAADhAAAAAAACAOEAAAAAAAAA4QAAAAAAAgDZA",
          "dtype": "f8"
         },
         "yaxis": "y"
        }
       ],
       "layout": {
        "legend": {
         "tracegroupgap": 0
        },
        "template": {
         "data": {
          "bar": [
           {
            "error_x": {
             "color": "#2a3f5f"
            },
            "error_y": {
             "color": "#2a3f5f"
            },
            "marker": {
             "line": {
              "color": "#E5ECF6",
              "width": 0.5
             },
             "pattern": {
              "fillmode": "overlay",
              "size": 10,
              "solidity": 0.2
             }
            },
            "type": "bar"
           }
          ],
          "barpolar": [
           {
            "marker": {
             "line": {
              "color": "#E5ECF6",
              "width": 0.5
             },
             "pattern": {
              "fillmode": "overlay",
              "size": 10,
              "solidity": 0.2
             }
            },
            "type": "barpolar"
           }
          ],
          "carpet": [
           {
            "aaxis": {
             "endlinecolor": "#2a3f5f",
             "gridcolor": "white",
             "linecolor": "white",
             "minorgridcolor": "white",
             "startlinecolor": "#2a3f5f"
            },
            "baxis": {
             "endlinecolor": "#2a3f5f",
             "gridcolor": "white",
             "linecolor": "white",
             "minorgridcolor": "white",
             "startlinecolor": "#2a3f5f"
            },
            "type": "carpet"
           }
          ],
          "choropleth": [
           {
            "colorbar": {
             "outlinewidth": 0,
             "ticks": ""
            },
            "type": "choropleth"
           }
          ],
          "contour": [
           {
            "colorbar": {
             "outlinewidth": 0,
             "ticks": ""
            },
            "colorscale": [
             [
              0,
              "#0d0887"
             ],
             [
              0.1111111111111111,
              "#46039f"
             ],
             [
              0.2222222222222222,
              "#7201a8"
             ],
             [
              0.3333333333333333,
              "#9c179e"
             ],
             [
              0.4444444444444444,
              "#bd3786"
             ],
             [
              0.5555555555555556,
              "#d8576b"
             ],
             [
              0.6666666666666666,
              "#ed7953"
             ],
             [
              0.7777777777777778,
              "#fb9f3a"
             ],
             [
              0.8888888888888888,
              "#fdca26"
             ],
             [
              1,
              "#f0f921"
             ]
            ],
            "type": "contour"
           }
          ],
          "contourcarpet": [
           {
            "colorbar": {
             "outlinewidth": 0,
             "ticks": ""
            },
            "type": "contourcarpet"
           }
          ],
          "heatmap": [
           {
            "colorbar": {
             "outlinewidth": 0,
             "ticks": ""
            },
            "colorscale": [
             [
              0,
              "#0d0887"
             ],
             [
              0.1111111111111111,
              "#46039f"
             ],
             [
              0.2222222222222222,
              "#7201a8"
             ],
             [
              0.3333333333333333,
              "#9c179e"
             ],
             [
              0.4444444444444444,
              "#bd3786"
             ],
             [
              0.5555555555555556,
              "#d8576b"
             ],
             [
              0.6666666666666666,
              "#ed7953"
             ],
             [
              0.7777777777777778,
              "#fb9f3a"
             ],
             [
              0.8888888888888888,
              "#fdca26"
             ],
             [
              1,
              "#f0f921"
             ]
            ],
            "type": "heatmap"
           }
          ],
          "histogram": [
           {
            "marker": {
             "pattern": {
              "fillmode": "overlay",
              "size": 10,
              "solidity": 0.2
             }
            },
            "type": "histogram"
           }
          ],
          "histogram2d": [
           {
            "colorbar": {
             "outlinewidth": 0,
             "ticks": ""
            },
            "colorscale": [
             [
              0,
              "#0d0887"
             ],
             [
              0.1111111111111111,
              "#46039f"
             ],
             [
              0.2222222222222222,
              "#7201a8"
             ],
             [
              0.3333333333333333,
              "#9c179e"
             ],
             [
              0.4444444444444444,
              "#bd3786"
             ],
             [
              0.5555555555555556,
              "#d8576b"
             ],
             [
              0.6666666666666666,
              "#ed7953"
             ],
             [
              0.7777777777777778,
              "#fb9f3a"
             ],
             [
              0.8888888888888888,
              "#fdca26"
             ],
             [
              1,
              "#f0f921"
             ]
            ],
            "type": "histogram2d"
           }
          ],
          "histogram2dcontour": [
           {
            "colorbar": {
             "outlinewidth": 0,
             "ticks": ""
            },
            "colorscale": [
             [
              0,
              "#0d0887"
             ],
             [
              0.1111111111111111,
              "#46039f"
             ],
             [
              0.2222222222222222,
              "#7201a8"
             ],
             [
              0.3333333333333333,
              "#9c179e"
             ],
             [
              0.4444444444444444,
              "#bd3786"
             ],
             [
              0.5555555555555556,
              "#d8576b"
             ],
             [
              0.6666666666666666,
              "#ed7953"
             ],
             [
              0.7777777777777778,
              "#fb9f3a"
             ],
             [
              0.8888888888888888,
              "#fdca26"
             ],
             [
              1,
              "#f0f921"
             ]
            ],
            "type": "histogram2dcontour"
           }
          ],
          "mesh3d": [
           {
            "colorbar": {
             "outlinewidth": 0,
             "ticks": ""
            },
            "type": "mesh3d"
           }
          ],
          "parcoords": [
           {
            "line": {
             "colorbar": {
              "outlinewidth": 0,
              "ticks": ""
             }
            },
            "type": "parcoords"
           }
          ],
          "pie": [
           {
            "automargin": true,
            "type": "pie"
           }
          ],
          "scatter": [
           {
            "fillpattern": {
             "fillmode": "overlay",
             "size": 10,
             "solidity": 0.2
            },
            "type": "scatter"
           }
          ],
          "scatter3d": [
           {
            "line": {
             "colorbar": {
              "outlinewidth": 0,
              "ticks": ""
             }
            },
            "marker": {
             "colorbar": {
              "outlinewidth": 0,
              "ticks": ""
             }
            },
            "type": "scatter3d"
           }
          ],
          "scattercarpet": [
           {
            "marker": {
             "colorbar": {
              "outlinewidth": 0,
              "ticks": ""
             }
            },
            "type": "scattercarpet"
           }
          ],
          "scattergeo": [
           {
            "marker": {
             "colorbar": {
              "outlinewidth": 0,
              "ticks": ""
             }
            },
            "type": "scattergeo"
           }
          ],
          "scattergl": [
           {
            "marker": {
             "colorbar": {
              "outlinewidth": 0,
              "ticks": ""
             }
            },
            "type": "scattergl"
           }
          ],
          "scattermap": [
           {
            "marker": {
             "colorbar": {
              "outlinewidth": 0,
              "ticks": ""
             }
            },
            "type": "scattermap"
           }
          ],
          "scattermapbox": [
           {
            "marker": {
             "colorbar": {
              "outlinewidth": 0,
              "ticks": ""
             }
            },
            "type": "scattermapbox"
           }
          ],
          "scatterpolar": [
           {
            "marker": {
             "colorbar": {
              "outlinewidth": 0,
              "ticks": ""
             }
            },
            "type": "scatterpolar"
           }
          ],
          "scatterpolargl": [
           {
            "marker": {
             "colorbar": {
              "outlinewidth": 0,
              "ticks": ""
             }
            },
            "type": "scatterpolargl"
           }
          ],
          "scatterternary": [
           {
            "marker": {
             "colorbar": {
              "outlinewidth": 0,
              "ticks": ""
             }
            },
            "type": "scatterternary"
           }
          ],
          "surface": [
           {
            "colorbar": {
             "outlinewidth": 0,
             "ticks": ""
            },
            "colorscale": [
             [
              0,
              "#0d0887"
             ],
             [
              0.1111111111111111,
              "#46039f"
             ],
             [
              0.2222222222222222,
              "#7201a8"
             ],
             [
              0.3333333333333333,
              "#9c179e"
             ],
             [
              0.4444444444444444,
              "#bd3786"
             ],
             [
              0.5555555555555556,
              "#d8576b"
             ],
             [
              0.6666666666666666,
              "#ed7953"
             ],
             [
              0.7777777777777778,
              "#fb9f3a"
             ],
             [
              0.8888888888888888,
              "#fdca26"
             ],
             [
              1,
              "#f0f921"
             ]
            ],
            "type": "surface"
           }
          ],
          "table": [
           {
            "cells": {
             "fill": {
              "color": "#EBF0F8"
             },
             "line": {
              "color": "white"
             }
            },
            "header": {
             "fill": {
              "color": "#C8D4E3"
             },
             "line": {
              "color": "white"
             }
            },
            "type": "table"
           }
          ]
         },
         "layout": {
          "annotationdefaults": {
           "arrowcolor": "#2a3f5f",
           "arrowhead": 0,
           "arrowwidth": 1
          },
          "autotypenumbers": "strict",
          "coloraxis": {
           "colorbar": {
            "outlinewidth": 0,
            "ticks": ""
           }
          },
          "colorscale": {
           "diverging": [
            [
             0,
             "#8e0152"
            ],
            [
             0.1,
             "#c51b7d"
            ],
            [
             0.2,
             "#de77ae"
            ],
            [
             0.3,
             "#f1b6da"
            ],
            [
             0.4,
             "#fde0ef"
            ],
            [
             0.5,
             "#f7f7f7"
            ],
            [
             0.6,
             "#e6f5d0"
            ],
            [
             0.7,
             "#b8e186"
            ],
            [
             0.8,
             "#7fbc41"
            ],
            [
             0.9,
             "#4d9221"
            ],
            [
             1,
             "#276419"
            ]
           ],
           "sequential": [
            [
             0,
             "#0d0887"
            ],
            [
             0.1111111111111111,
             "#46039f"
            ],
            [
             0.2222222222222222,
             "#7201a8"
            ],
            [
             0.3333333333333333,
             "#9c179e"
            ],
            [
             0.4444444444444444,
             "#bd3786"
            ],
            [
             0.5555555555555556,
             "#d8576b"
            ],
            [
             0.6666666666666666,
             "#ed7953"
            ],
            [
             0.7777777777777778,
             "#fb9f3a"
            ],
            [
             0.8888888888888888,
             "#fdca26"
            ],
            [
             1,
             "#f0f921"
            ]
           ],
           "sequentialminus": [
            [
             0,
             "#0d0887"
            ],
            [
             0.1111111111111111,
             "#46039f"
            ],
            [
             0.2222222222222222,
             "#7201a8"
            ],
            [
             0.3333333333333333,
             "#9c179e"
            ],
            [
             0.4444444444444444,
             "#bd3786"
            ],
            [
             0.5555555555555556,
             "#d8576b"
            ],
            [
             0.6666666666666666,
             "#ed7953"
            ],
            [
             0.7777777777777778,
             "#fb9f3a"
            ],
            [
             0.8888888888888888,
             "#fdca26"
            ],
            [
             1,
             "#f0f921"
            ]
           ]
          },
          "colorway": [
           "#636efa",
           "#EF553B",
           "#00cc96",
           "#ab63fa",
           "#FFA15A",
           "#19d3f3",
           "#FF6692",
           "#B6E880",
           "#FF97FF",
           "#FECB52"
          ],
          "font": {
           "color": "#2a3f5f"
          },
          "geo": {
           "bgcolor": "white",
           "lakecolor": "white",
           "landcolor": "#E5ECF6",
           "showlakes": true,
           "showland": true,
           "subunitcolor": "white"
          },
          "hoverlabel": {
           "align": "left"
          },
          "hovermode": "closest",
          "mapbox": {
           "style": "light"
          },
          "paper_bgcolor": "white",
          "plot_bgcolor": "#E5ECF6",
          "polar": {
           "angularaxis": {
            "gridcolor": "white",
            "linecolor": "white",
            "ticks": ""
           },
           "bgcolor": "#E5ECF6",
           "radialaxis": {
            "gridcolor": "white",
            "linecolor": "white",
            "ticks": ""
           }
          },
          "scene": {
           "xaxis": {
            "backgroundcolor": "#E5ECF6",
            "gridcolor": "white",
            "gridwidth": 2,
            "linecolor": "white",
            "showbackground": true,
            "ticks": "",
            "zerolinecolor": "white"
           },
           "yaxis": {
            "backgroundcolor": "#E5ECF6",
            "gridcolor": "white",
            "gridwidth": 2,
            "linecolor": "white",
            "showbackground": true,
            "ticks": "",
            "zerolinecolor": "white"
           },
           "zaxis": {
            "backgroundcolor": "#E5ECF6",
            "gridcolor": "white",
            "gridwidth": 2,
            "linecolor": "white",
            "showbackground": true,
            "ticks": "",
            "zerolinecolor": "white"
           }
          },
          "shapedefaults": {
           "line": {
            "color": "#2a3f5f"
           }
          },
          "ternary": {
           "aaxis": {
            "gridcolor": "white",
            "linecolor": "white",
            "ticks": ""
           },
           "baxis": {
            "gridcolor": "white",
            "linecolor": "white",
            "ticks": ""
           },
           "bgcolor": "#E5ECF6",
           "caxis": {
            "gridcolor": "white",
            "linecolor": "white",
            "ticks": ""
           }
          },
          "title": {
           "x": 0.05
          },
          "xaxis": {
           "automargin": true,
           "gridcolor": "white",
           "linecolor": "white",
           "ticks": "",
           "title": {
            "standoff": 15
           },
           "zerolinecolor": "white",
           "zerolinewidth": 2
          },
          "yaxis": {
           "automargin": true,
           "gridcolor": "white",
           "linecolor": "white",
           "ticks": "",
           "title": {
            "standoff": 15
           },
           "zerolinecolor": "white",
           "zerolinewidth": 2
          }
         }
        },
        "title": {
         "text": "Altura vs Pie"
        },
        "xaxis": {
         "anchor": "y",
         "domain": [
          0,
          1
         ],
         "title": {
          "text": "Altura (cm)"
         }
        },
        "yaxis": {
         "anchor": "x",
         "domain": [
          0,
          1
         ],
         "title": {
          "text": "Pie (cm)"
         }
        }
       }
      }
     },
     "metadata": {},
     "output_type": "display_data"
    }
   ],
   "source": [
    "fig1 = px.scatter(df, x=\"Altura\", y=\"Ancho\", \n",
    "                  title=\"Altura vs Ancho\", \n",
    "                  labels={\"Altura\": \"Altura (cm)\", \"Ancho\": \"Ancho (cm)\"},\n",
    "                  color_discrete_sequence=[\"blue\"])\n",
    "\n",
    "fig2 = px.scatter(df, x=\"Altura\", y=\"Pie\", \n",
    "                  title=\"Altura vs Pie\", \n",
    "                  labels={\"Altura\": \"Altura (cm)\", \"Pie\": \"Pie (cm)\"},\n",
    "                  color_discrete_sequence=[\"red\"])\n",
    "\n",
    "fig1.show()\n",
    "fig2.show()"
   ]
  },
  {
   "cell_type": "code",
   "execution_count": 6,
   "metadata": {},
   "outputs": [
    {
     "data": {
      "application/vnd.plotly.v1+json": {
       "config": {
        "plotlyServerURL": "https://plot.ly"
       },
       "data": [
        {
         "marker": {
          "color": {
           "bdata": "uQCtAKMAogCsAJ8AuwClAK8AogCbAKgAswCsAJ8ApgCcAJYA",
           "dtype": "i2"
          },
          "colorscale": [
           [
            0,
            "#440154"
           ],
           [
            0.1111111111111111,
            "#482878"
           ],
           [
            0.2222222222222222,
            "#3e4989"
           ],
           [
            0.3333333333333333,
            "#31688e"
           ],
           [
            0.4444444444444444,
            "#26828e"
           ],
           [
            0.5555555555555556,
            "#1f9e89"
           ],
           [
            0.6666666666666666,
            "#35b779"
           ],
           [
            0.7777777777777778,
            "#6ece58"
           ],
           [
            0.8888888888888888,
            "#b5de2b"
           ],
           [
            1,
            "#fde725"
           ]
          ],
          "opacity": 0.8,
          "size": 8
         },
         "mode": "markers",
         "type": "scatter3d",
         "x": {
          "bdata": "NywsLC4oMCgxLCg9NzImJyYn",
          "dtype": "i1"
         },
         "y": {
          "bdata": "AAAAAAAAPEAAAAAAAIA6QAAAAAAAADhAAAAAAACAOEAAAAAAAAA7QAAAAAAAADdAAAAAAAAAPUAAAAAAAAA4QAAAAAAAgDtAAAAAAAAAN0AAAAAAAAA2QAAAAAAAADpAAAAAAAAAPEAAAAAAAIA7QAAAAAAAADhAAAAAAACAOEAAAAAAAAA4QAAAAAAAgDZA",
          "dtype": "f8"
         },
         "z": {
          "bdata": "uQCtAKMAogCsAJ8AuwClAK8AogCbAKgAswCsAJ8ApgCcAJYA",
          "dtype": "i2"
         }
        }
       ],
       "layout": {
        "scene": {
         "xaxis": {
          "title": {
           "text": "Ancho (cm)"
          }
         },
         "yaxis": {
          "title": {
           "text": "Pie (cm)"
          }
         },
         "zaxis": {
          "title": {
           "text": "Altura (cm)"
          }
         }
        },
        "template": {
         "data": {
          "bar": [
           {
            "error_x": {
             "color": "#2a3f5f"
            },
            "error_y": {
             "color": "#2a3f5f"
            },
            "marker": {
             "line": {
              "color": "#E5ECF6",
              "width": 0.5
             },
             "pattern": {
              "fillmode": "overlay",
              "size": 10,
              "solidity": 0.2
             }
            },
            "type": "bar"
           }
          ],
          "barpolar": [
           {
            "marker": {
             "line": {
              "color": "#E5ECF6",
              "width": 0.5
             },
             "pattern": {
              "fillmode": "overlay",
              "size": 10,
              "solidity": 0.2
             }
            },
            "type": "barpolar"
           }
          ],
          "carpet": [
           {
            "aaxis": {
             "endlinecolor": "#2a3f5f",
             "gridcolor": "white",
             "linecolor": "white",
             "minorgridcolor": "white",
             "startlinecolor": "#2a3f5f"
            },
            "baxis": {
             "endlinecolor": "#2a3f5f",
             "gridcolor": "white",
             "linecolor": "white",
             "minorgridcolor": "white",
             "startlinecolor": "#2a3f5f"
            },
            "type": "carpet"
           }
          ],
          "choropleth": [
           {
            "colorbar": {
             "outlinewidth": 0,
             "ticks": ""
            },
            "type": "choropleth"
           }
          ],
          "contour": [
           {
            "colorbar": {
             "outlinewidth": 0,
             "ticks": ""
            },
            "colorscale": [
             [
              0,
              "#0d0887"
             ],
             [
              0.1111111111111111,
              "#46039f"
             ],
             [
              0.2222222222222222,
              "#7201a8"
             ],
             [
              0.3333333333333333,
              "#9c179e"
             ],
             [
              0.4444444444444444,
              "#bd3786"
             ],
             [
              0.5555555555555556,
              "#d8576b"
             ],
             [
              0.6666666666666666,
              "#ed7953"
             ],
             [
              0.7777777777777778,
              "#fb9f3a"
             ],
             [
              0.8888888888888888,
              "#fdca26"
             ],
             [
              1,
              "#f0f921"
             ]
            ],
            "type": "contour"
           }
          ],
          "contourcarpet": [
           {
            "colorbar": {
             "outlinewidth": 0,
             "ticks": ""
            },
            "type": "contourcarpet"
           }
          ],
          "heatmap": [
           {
            "colorbar": {
             "outlinewidth": 0,
             "ticks": ""
            },
            "colorscale": [
             [
              0,
              "#0d0887"
             ],
             [
              0.1111111111111111,
              "#46039f"
             ],
             [
              0.2222222222222222,
              "#7201a8"
             ],
             [
              0.3333333333333333,
              "#9c179e"
             ],
             [
              0.4444444444444444,
              "#bd3786"
             ],
             [
              0.5555555555555556,
              "#d8576b"
             ],
             [
              0.6666666666666666,
              "#ed7953"
             ],
             [
              0.7777777777777778,
              "#fb9f3a"
             ],
             [
              0.8888888888888888,
              "#fdca26"
             ],
             [
              1,
              "#f0f921"
             ]
            ],
            "type": "heatmap"
           }
          ],
          "histogram": [
           {
            "marker": {
             "pattern": {
              "fillmode": "overlay",
              "size": 10,
              "solidity": 0.2
             }
            },
            "type": "histogram"
           }
          ],
          "histogram2d": [
           {
            "colorbar": {
             "outlinewidth": 0,
             "ticks": ""
            },
            "colorscale": [
             [
              0,
              "#0d0887"
             ],
             [
              0.1111111111111111,
              "#46039f"
             ],
             [
              0.2222222222222222,
              "#7201a8"
             ],
             [
              0.3333333333333333,
              "#9c179e"
             ],
             [
              0.4444444444444444,
              "#bd3786"
             ],
             [
              0.5555555555555556,
              "#d8576b"
             ],
             [
              0.6666666666666666,
              "#ed7953"
             ],
             [
              0.7777777777777778,
              "#fb9f3a"
             ],
             [
              0.8888888888888888,
              "#fdca26"
             ],
             [
              1,
              "#f0f921"
             ]
            ],
            "type": "histogram2d"
           }
          ],
          "histogram2dcontour": [
           {
            "colorbar": {
             "outlinewidth": 0,
             "ticks": ""
            },
            "colorscale": [
             [
              0,
              "#0d0887"
             ],
             [
              0.1111111111111111,
              "#46039f"
             ],
             [
              0.2222222222222222,
              "#7201a8"
             ],
             [
              0.3333333333333333,
              "#9c179e"
             ],
             [
              0.4444444444444444,
              "#bd3786"
             ],
             [
              0.5555555555555556,
              "#d8576b"
             ],
             [
              0.6666666666666666,
              "#ed7953"
             ],
             [
              0.7777777777777778,
              "#fb9f3a"
             ],
             [
              0.8888888888888888,
              "#fdca26"
             ],
             [
              1,
              "#f0f921"
             ]
            ],
            "type": "histogram2dcontour"
           }
          ],
          "mesh3d": [
           {
            "colorbar": {
             "outlinewidth": 0,
             "ticks": ""
            },
            "type": "mesh3d"
           }
          ],
          "parcoords": [
           {
            "line": {
             "colorbar": {
              "outlinewidth": 0,
              "ticks": ""
             }
            },
            "type": "parcoords"
           }
          ],
          "pie": [
           {
            "automargin": true,
            "type": "pie"
           }
          ],
          "scatter": [
           {
            "fillpattern": {
             "fillmode": "overlay",
             "size": 10,
             "solidity": 0.2
            },
            "type": "scatter"
           }
          ],
          "scatter3d": [
           {
            "line": {
             "colorbar": {
              "outlinewidth": 0,
              "ticks": ""
             }
            },
            "marker": {
             "colorbar": {
              "outlinewidth": 0,
              "ticks": ""
             }
            },
            "type": "scatter3d"
           }
          ],
          "scattercarpet": [
           {
            "marker": {
             "colorbar": {
              "outlinewidth": 0,
              "ticks": ""
             }
            },
            "type": "scattercarpet"
           }
          ],
          "scattergeo": [
           {
            "marker": {
             "colorbar": {
              "outlinewidth": 0,
              "ticks": ""
             }
            },
            "type": "scattergeo"
           }
          ],
          "scattergl": [
           {
            "marker": {
             "colorbar": {
              "outlinewidth": 0,
              "ticks": ""
             }
            },
            "type": "scattergl"
           }
          ],
          "scattermap": [
           {
            "marker": {
             "colorbar": {
              "outlinewidth": 0,
              "ticks": ""
             }
            },
            "type": "scattermap"
           }
          ],
          "scattermapbox": [
           {
            "marker": {
             "colorbar": {
              "outlinewidth": 0,
              "ticks": ""
             }
            },
            "type": "scattermapbox"
           }
          ],
          "scatterpolar": [
           {
            "marker": {
             "colorbar": {
              "outlinewidth": 0,
              "ticks": ""
             }
            },
            "type": "scatterpolar"
           }
          ],
          "scatterpolargl": [
           {
            "marker": {
             "colorbar": {
              "outlinewidth": 0,
              "ticks": ""
             }
            },
            "type": "scatterpolargl"
           }
          ],
          "scatterternary": [
           {
            "marker": {
             "colorbar": {
              "outlinewidth": 0,
              "ticks": ""
             }
            },
            "type": "scatterternary"
           }
          ],
          "surface": [
           {
            "colorbar": {
             "outlinewidth": 0,
             "ticks": ""
            },
            "colorscale": [
             [
              0,
              "#0d0887"
             ],
             [
              0.1111111111111111,
              "#46039f"
             ],
             [
              0.2222222222222222,
              "#7201a8"
             ],
             [
              0.3333333333333333,
              "#9c179e"
             ],
             [
              0.4444444444444444,
              "#bd3786"
             ],
             [
              0.5555555555555556,
              "#d8576b"
             ],
             [
              0.6666666666666666,
              "#ed7953"
             ],
             [
              0.7777777777777778,
              "#fb9f3a"
             ],
             [
              0.8888888888888888,
              "#fdca26"
             ],
             [
              1,
              "#f0f921"
             ]
            ],
            "type": "surface"
           }
          ],
          "table": [
           {
            "cells": {
             "fill": {
              "color": "#EBF0F8"
             },
             "line": {
              "color": "white"
             }
            },
            "header": {
             "fill": {
              "color": "#C8D4E3"
             },
             "line": {
              "color": "white"
             }
            },
            "type": "table"
           }
          ]
         },
         "layout": {
          "annotationdefaults": {
           "arrowcolor": "#2a3f5f",
           "arrowhead": 0,
           "arrowwidth": 1
          },
          "autotypenumbers": "strict",
          "coloraxis": {
           "colorbar": {
            "outlinewidth": 0,
            "ticks": ""
           }
          },
          "colorscale": {
           "diverging": [
            [
             0,
             "#8e0152"
            ],
            [
             0.1,
             "#c51b7d"
            ],
            [
             0.2,
             "#de77ae"
            ],
            [
             0.3,
             "#f1b6da"
            ],
            [
             0.4,
             "#fde0ef"
            ],
            [
             0.5,
             "#f7f7f7"
            ],
            [
             0.6,
             "#e6f5d0"
            ],
            [
             0.7,
             "#b8e186"
            ],
            [
             0.8,
             "#7fbc41"
            ],
            [
             0.9,
             "#4d9221"
            ],
            [
             1,
             "#276419"
            ]
           ],
           "sequential": [
            [
             0,
             "#0d0887"
            ],
            [
             0.1111111111111111,
             "#46039f"
            ],
            [
             0.2222222222222222,
             "#7201a8"
            ],
            [
             0.3333333333333333,
             "#9c179e"
            ],
            [
             0.4444444444444444,
             "#bd3786"
            ],
            [
             0.5555555555555556,
             "#d8576b"
            ],
            [
             0.6666666666666666,
             "#ed7953"
            ],
            [
             0.7777777777777778,
             "#fb9f3a"
            ],
            [
             0.8888888888888888,
             "#fdca26"
            ],
            [
             1,
             "#f0f921"
            ]
           ],
           "sequentialminus": [
            [
             0,
             "#0d0887"
            ],
            [
             0.1111111111111111,
             "#46039f"
            ],
            [
             0.2222222222222222,
             "#7201a8"
            ],
            [
             0.3333333333333333,
             "#9c179e"
            ],
            [
             0.4444444444444444,
             "#bd3786"
            ],
            [
             0.5555555555555556,
             "#d8576b"
            ],
            [
             0.6666666666666666,
             "#ed7953"
            ],
            [
             0.7777777777777778,
             "#fb9f3a"
            ],
            [
             0.8888888888888888,
             "#fdca26"
            ],
            [
             1,
             "#f0f921"
            ]
           ]
          },
          "colorway": [
           "#636efa",
           "#EF553B",
           "#00cc96",
           "#ab63fa",
           "#FFA15A",
           "#19d3f3",
           "#FF6692",
           "#B6E880",
           "#FF97FF",
           "#FECB52"
          ],
          "font": {
           "color": "#2a3f5f"
          },
          "geo": {
           "bgcolor": "white",
           "lakecolor": "white",
           "landcolor": "#E5ECF6",
           "showlakes": true,
           "showland": true,
           "subunitcolor": "white"
          },
          "hoverlabel": {
           "align": "left"
          },
          "hovermode": "closest",
          "mapbox": {
           "style": "light"
          },
          "paper_bgcolor": "white",
          "plot_bgcolor": "#E5ECF6",
          "polar": {
           "angularaxis": {
            "gridcolor": "white",
            "linecolor": "white",
            "ticks": ""
           },
           "bgcolor": "#E5ECF6",
           "radialaxis": {
            "gridcolor": "white",
            "linecolor": "white",
            "ticks": ""
           }
          },
          "scene": {
           "xaxis": {
            "backgroundcolor": "#E5ECF6",
            "gridcolor": "white",
            "gridwidth": 2,
            "linecolor": "white",
            "showbackground": true,
            "ticks": "",
            "zerolinecolor": "white"
           },
           "yaxis": {
            "backgroundcolor": "#E5ECF6",
            "gridcolor": "white",
            "gridwidth": 2,
            "linecolor": "white",
            "showbackground": true,
            "ticks": "",
            "zerolinecolor": "white"
           },
           "zaxis": {
            "backgroundcolor": "#E5ECF6",
            "gridcolor": "white",
            "gridwidth": 2,
            "linecolor": "white",
            "showbackground": true,
            "ticks": "",
            "zerolinecolor": "white"
           }
          },
          "shapedefaults": {
           "line": {
            "color": "#2a3f5f"
           }
          },
          "ternary": {
           "aaxis": {
            "gridcolor": "white",
            "linecolor": "white",
            "ticks": ""
           },
           "baxis": {
            "gridcolor": "white",
            "linecolor": "white",
            "ticks": ""
           },
           "bgcolor": "#E5ECF6",
           "caxis": {
            "gridcolor": "white",
            "linecolor": "white",
            "ticks": ""
           }
          },
          "title": {
           "x": 0.05
          },
          "xaxis": {
           "automargin": true,
           "gridcolor": "white",
           "linecolor": "white",
           "ticks": "",
           "title": {
            "standoff": 15
           },
           "zerolinecolor": "white",
           "zerolinewidth": 2
          },
          "yaxis": {
           "automargin": true,
           "gridcolor": "white",
           "linecolor": "white",
           "ticks": "",
           "title": {
            "standoff": 15
           },
           "zerolinecolor": "white",
           "zerolinewidth": 2
          }
         }
        },
        "title": {
         "text": "Gráfica 3D: Altura vs Ancho vs Pie"
        }
       }
      }
     },
     "metadata": {},
     "output_type": "display_data"
    }
   ],
   "source": [
    "fig = go.Figure(data=[go.Scatter3d(\n",
    "    x=df['Ancho'], \n",
    "    y=df['Pie'], \n",
    "    z=df['Altura'],\n",
    "    mode='markers',\n",
    "    marker=dict(size=8, color=df['Altura'], colorscale='Viridis', opacity=0.8)\n",
    ")])\n",
    "\n",
    "fig.update_layout(\n",
    "    title=\"Gráfica 3D: Altura vs Ancho vs Pie\",\n",
    "    scene=dict(\n",
    "        xaxis_title=\"Ancho (cm)\",\n",
    "        yaxis_title=\"Pie (cm)\",\n",
    "        zaxis_title=\"Altura (cm)\"\n",
    "    )\n",
    ")\n",
    "\n",
    "fig.show()"
   ]
  },
  {
   "cell_type": "markdown",
   "metadata": {},
   "source": [
    "## **Modelos Lineales**"
   ]
  },
  {
   "cell_type": "markdown",
   "metadata": {},
   "source": [
    "### **Sampleo de Datos**"
   ]
  },
  {
   "cell_type": "code",
   "execution_count": 7,
   "metadata": {},
   "outputs": [],
   "source": [
    "from sklearn.mixture import GaussianMixture\n",
    "from sklearn.model_selection import GridSearchCV"
   ]
  },
  {
   "cell_type": "code",
   "execution_count": 8,
   "metadata": {},
   "outputs": [],
   "source": [
    "param_grid = {\n",
    "    'n_components': range(1, 11),  \n",
    "    'covariance_type': ['full', 'tied', 'diag', 'spherical'],  \n",
    "    'reg_covar': [1e-6, 1e-4, 1e-2, 1e-1]  \n",
    "}"
   ]
  },
  {
   "cell_type": "code",
   "execution_count": 9,
   "metadata": {},
   "outputs": [
    {
     "name": "stdout",
     "output_type": "stream",
     "text": [
      "Fitting 3 folds for each of 160 candidates, totalling 480 fits\n"
     ]
    },
    {
     "name": "stderr",
     "output_type": "stream",
     "text": [
      "c:\\Users\\sofi\\miniconda3\\envs\\EO\\Lib\\site-packages\\joblib\\externals\\loky\\backend\\context.py:136: UserWarning:\n",
      "\n",
      "Could not find the number of physical cores for the following reason:\n",
      "[WinError 2] The system cannot find the file specified\n",
      "Returning the number of logical cores instead. You can silence this warning by setting LOKY_MAX_CPU_COUNT to the number of cores you want to use.\n",
      "\n",
      "  File \"c:\\Users\\sofi\\miniconda3\\envs\\EO\\Lib\\site-packages\\joblib\\externals\\loky\\backend\\context.py\", line 257, in _count_physical_cores\n",
      "    cpu_info = subprocess.run(\n",
      "               ^^^^^^^^^^^^^^^\n",
      "  File \"c:\\Users\\sofi\\miniconda3\\envs\\EO\\Lib\\subprocess.py\", line 548, in run\n",
      "    with Popen(*popenargs, **kwargs) as process:\n",
      "         ^^^^^^^^^^^^^^^^^^^^^^^^^^^\n",
      "  File \"c:\\Users\\sofi\\miniconda3\\envs\\EO\\Lib\\subprocess.py\", line 1026, in __init__\n",
      "    self._execute_child(args, executable, preexec_fn, close_fds,\n",
      "  File \"c:\\Users\\sofi\\miniconda3\\envs\\EO\\Lib\\subprocess.py\", line 1538, in _execute_child\n",
      "    hp, ht, pid, tid = _winapi.CreateProcess(executable, args,\n",
      "                       ^^^^^^^^^^^^^^^^^^^^^^^^^^^^^^^^^^^^^^^\n"
     ]
    },
    {
     "data": {
      "text/html": [
       "<style>#sk-container-id-1 {\n",
       "  /* Definition of color scheme common for light and dark mode */\n",
       "  --sklearn-color-text: #000;\n",
       "  --sklearn-color-text-muted: #666;\n",
       "  --sklearn-color-line: gray;\n",
       "  /* Definition of color scheme for unfitted estimators */\n",
       "  --sklearn-color-unfitted-level-0: #fff5e6;\n",
       "  --sklearn-color-unfitted-level-1: #f6e4d2;\n",
       "  --sklearn-color-unfitted-level-2: #ffe0b3;\n",
       "  --sklearn-color-unfitted-level-3: chocolate;\n",
       "  /* Definition of color scheme for fitted estimators */\n",
       "  --sklearn-color-fitted-level-0: #f0f8ff;\n",
       "  --sklearn-color-fitted-level-1: #d4ebff;\n",
       "  --sklearn-color-fitted-level-2: #b3dbfd;\n",
       "  --sklearn-color-fitted-level-3: cornflowerblue;\n",
       "\n",
       "  /* Specific color for light theme */\n",
       "  --sklearn-color-text-on-default-background: var(--sg-text-color, var(--theme-code-foreground, var(--jp-content-font-color1, black)));\n",
       "  --sklearn-color-background: var(--sg-background-color, var(--theme-background, var(--jp-layout-color0, white)));\n",
       "  --sklearn-color-border-box: var(--sg-text-color, var(--theme-code-foreground, var(--jp-content-font-color1, black)));\n",
       "  --sklearn-color-icon: #696969;\n",
       "\n",
       "  @media (prefers-color-scheme: dark) {\n",
       "    /* Redefinition of color scheme for dark theme */\n",
       "    --sklearn-color-text-on-default-background: var(--sg-text-color, var(--theme-code-foreground, var(--jp-content-font-color1, white)));\n",
       "    --sklearn-color-background: var(--sg-background-color, var(--theme-background, var(--jp-layout-color0, #111)));\n",
       "    --sklearn-color-border-box: var(--sg-text-color, var(--theme-code-foreground, var(--jp-content-font-color1, white)));\n",
       "    --sklearn-color-icon: #878787;\n",
       "  }\n",
       "}\n",
       "\n",
       "#sk-container-id-1 {\n",
       "  color: var(--sklearn-color-text);\n",
       "}\n",
       "\n",
       "#sk-container-id-1 pre {\n",
       "  padding: 0;\n",
       "}\n",
       "\n",
       "#sk-container-id-1 input.sk-hidden--visually {\n",
       "  border: 0;\n",
       "  clip: rect(1px 1px 1px 1px);\n",
       "  clip: rect(1px, 1px, 1px, 1px);\n",
       "  height: 1px;\n",
       "  margin: -1px;\n",
       "  overflow: hidden;\n",
       "  padding: 0;\n",
       "  position: absolute;\n",
       "  width: 1px;\n",
       "}\n",
       "\n",
       "#sk-container-id-1 div.sk-dashed-wrapped {\n",
       "  border: 1px dashed var(--sklearn-color-line);\n",
       "  margin: 0 0.4em 0.5em 0.4em;\n",
       "  box-sizing: border-box;\n",
       "  padding-bottom: 0.4em;\n",
       "  background-color: var(--sklearn-color-background);\n",
       "}\n",
       "\n",
       "#sk-container-id-1 div.sk-container {\n",
       "  /* jupyter's `normalize.less` sets `[hidden] { display: none; }`\n",
       "     but bootstrap.min.css set `[hidden] { display: none !important; }`\n",
       "     so we also need the `!important` here to be able to override the\n",
       "     default hidden behavior on the sphinx rendered scikit-learn.org.\n",
       "     See: https://github.com/scikit-learn/scikit-learn/issues/21755 */\n",
       "  display: inline-block !important;\n",
       "  position: relative;\n",
       "}\n",
       "\n",
       "#sk-container-id-1 div.sk-text-repr-fallback {\n",
       "  display: none;\n",
       "}\n",
       "\n",
       "div.sk-parallel-item,\n",
       "div.sk-serial,\n",
       "div.sk-item {\n",
       "  /* draw centered vertical line to link estimators */\n",
       "  background-image: linear-gradient(var(--sklearn-color-text-on-default-background), var(--sklearn-color-text-on-default-background));\n",
       "  background-size: 2px 100%;\n",
       "  background-repeat: no-repeat;\n",
       "  background-position: center center;\n",
       "}\n",
       "\n",
       "/* Parallel-specific style estimator block */\n",
       "\n",
       "#sk-container-id-1 div.sk-parallel-item::after {\n",
       "  content: \"\";\n",
       "  width: 100%;\n",
       "  border-bottom: 2px solid var(--sklearn-color-text-on-default-background);\n",
       "  flex-grow: 1;\n",
       "}\n",
       "\n",
       "#sk-container-id-1 div.sk-parallel {\n",
       "  display: flex;\n",
       "  align-items: stretch;\n",
       "  justify-content: center;\n",
       "  background-color: var(--sklearn-color-background);\n",
       "  position: relative;\n",
       "}\n",
       "\n",
       "#sk-container-id-1 div.sk-parallel-item {\n",
       "  display: flex;\n",
       "  flex-direction: column;\n",
       "}\n",
       "\n",
       "#sk-container-id-1 div.sk-parallel-item:first-child::after {\n",
       "  align-self: flex-end;\n",
       "  width: 50%;\n",
       "}\n",
       "\n",
       "#sk-container-id-1 div.sk-parallel-item:last-child::after {\n",
       "  align-self: flex-start;\n",
       "  width: 50%;\n",
       "}\n",
       "\n",
       "#sk-container-id-1 div.sk-parallel-item:only-child::after {\n",
       "  width: 0;\n",
       "}\n",
       "\n",
       "/* Serial-specific style estimator block */\n",
       "\n",
       "#sk-container-id-1 div.sk-serial {\n",
       "  display: flex;\n",
       "  flex-direction: column;\n",
       "  align-items: center;\n",
       "  background-color: var(--sklearn-color-background);\n",
       "  padding-right: 1em;\n",
       "  padding-left: 1em;\n",
       "}\n",
       "\n",
       "\n",
       "/* Toggleable style: style used for estimator/Pipeline/ColumnTransformer box that is\n",
       "clickable and can be expanded/collapsed.\n",
       "- Pipeline and ColumnTransformer use this feature and define the default style\n",
       "- Estimators will overwrite some part of the style using the `sk-estimator` class\n",
       "*/\n",
       "\n",
       "/* Pipeline and ColumnTransformer style (default) */\n",
       "\n",
       "#sk-container-id-1 div.sk-toggleable {\n",
       "  /* Default theme specific background. It is overwritten whether we have a\n",
       "  specific estimator or a Pipeline/ColumnTransformer */\n",
       "  background-color: var(--sklearn-color-background);\n",
       "}\n",
       "\n",
       "/* Toggleable label */\n",
       "#sk-container-id-1 label.sk-toggleable__label {\n",
       "  cursor: pointer;\n",
       "  display: flex;\n",
       "  width: 100%;\n",
       "  margin-bottom: 0;\n",
       "  padding: 0.5em;\n",
       "  box-sizing: border-box;\n",
       "  text-align: center;\n",
       "  align-items: start;\n",
       "  justify-content: space-between;\n",
       "  gap: 0.5em;\n",
       "}\n",
       "\n",
       "#sk-container-id-1 label.sk-toggleable__label .caption {\n",
       "  font-size: 0.6rem;\n",
       "  font-weight: lighter;\n",
       "  color: var(--sklearn-color-text-muted);\n",
       "}\n",
       "\n",
       "#sk-container-id-1 label.sk-toggleable__label-arrow:before {\n",
       "  /* Arrow on the left of the label */\n",
       "  content: \"▸\";\n",
       "  float: left;\n",
       "  margin-right: 0.25em;\n",
       "  color: var(--sklearn-color-icon);\n",
       "}\n",
       "\n",
       "#sk-container-id-1 label.sk-toggleable__label-arrow:hover:before {\n",
       "  color: var(--sklearn-color-text);\n",
       "}\n",
       "\n",
       "/* Toggleable content - dropdown */\n",
       "\n",
       "#sk-container-id-1 div.sk-toggleable__content {\n",
       "  max-height: 0;\n",
       "  max-width: 0;\n",
       "  overflow: hidden;\n",
       "  text-align: left;\n",
       "  /* unfitted */\n",
       "  background-color: var(--sklearn-color-unfitted-level-0);\n",
       "}\n",
       "\n",
       "#sk-container-id-1 div.sk-toggleable__content.fitted {\n",
       "  /* fitted */\n",
       "  background-color: var(--sklearn-color-fitted-level-0);\n",
       "}\n",
       "\n",
       "#sk-container-id-1 div.sk-toggleable__content pre {\n",
       "  margin: 0.2em;\n",
       "  border-radius: 0.25em;\n",
       "  color: var(--sklearn-color-text);\n",
       "  /* unfitted */\n",
       "  background-color: var(--sklearn-color-unfitted-level-0);\n",
       "}\n",
       "\n",
       "#sk-container-id-1 div.sk-toggleable__content.fitted pre {\n",
       "  /* unfitted */\n",
       "  background-color: var(--sklearn-color-fitted-level-0);\n",
       "}\n",
       "\n",
       "#sk-container-id-1 input.sk-toggleable__control:checked~div.sk-toggleable__content {\n",
       "  /* Expand drop-down */\n",
       "  max-height: 200px;\n",
       "  max-width: 100%;\n",
       "  overflow: auto;\n",
       "}\n",
       "\n",
       "#sk-container-id-1 input.sk-toggleable__control:checked~label.sk-toggleable__label-arrow:before {\n",
       "  content: \"▾\";\n",
       "}\n",
       "\n",
       "/* Pipeline/ColumnTransformer-specific style */\n",
       "\n",
       "#sk-container-id-1 div.sk-label input.sk-toggleable__control:checked~label.sk-toggleable__label {\n",
       "  color: var(--sklearn-color-text);\n",
       "  background-color: var(--sklearn-color-unfitted-level-2);\n",
       "}\n",
       "\n",
       "#sk-container-id-1 div.sk-label.fitted input.sk-toggleable__control:checked~label.sk-toggleable__label {\n",
       "  background-color: var(--sklearn-color-fitted-level-2);\n",
       "}\n",
       "\n",
       "/* Estimator-specific style */\n",
       "\n",
       "/* Colorize estimator box */\n",
       "#sk-container-id-1 div.sk-estimator input.sk-toggleable__control:checked~label.sk-toggleable__label {\n",
       "  /* unfitted */\n",
       "  background-color: var(--sklearn-color-unfitted-level-2);\n",
       "}\n",
       "\n",
       "#sk-container-id-1 div.sk-estimator.fitted input.sk-toggleable__control:checked~label.sk-toggleable__label {\n",
       "  /* fitted */\n",
       "  background-color: var(--sklearn-color-fitted-level-2);\n",
       "}\n",
       "\n",
       "#sk-container-id-1 div.sk-label label.sk-toggleable__label,\n",
       "#sk-container-id-1 div.sk-label label {\n",
       "  /* The background is the default theme color */\n",
       "  color: var(--sklearn-color-text-on-default-background);\n",
       "}\n",
       "\n",
       "/* On hover, darken the color of the background */\n",
       "#sk-container-id-1 div.sk-label:hover label.sk-toggleable__label {\n",
       "  color: var(--sklearn-color-text);\n",
       "  background-color: var(--sklearn-color-unfitted-level-2);\n",
       "}\n",
       "\n",
       "/* Label box, darken color on hover, fitted */\n",
       "#sk-container-id-1 div.sk-label.fitted:hover label.sk-toggleable__label.fitted {\n",
       "  color: var(--sklearn-color-text);\n",
       "  background-color: var(--sklearn-color-fitted-level-2);\n",
       "}\n",
       "\n",
       "/* Estimator label */\n",
       "\n",
       "#sk-container-id-1 div.sk-label label {\n",
       "  font-family: monospace;\n",
       "  font-weight: bold;\n",
       "  display: inline-block;\n",
       "  line-height: 1.2em;\n",
       "}\n",
       "\n",
       "#sk-container-id-1 div.sk-label-container {\n",
       "  text-align: center;\n",
       "}\n",
       "\n",
       "/* Estimator-specific */\n",
       "#sk-container-id-1 div.sk-estimator {\n",
       "  font-family: monospace;\n",
       "  border: 1px dotted var(--sklearn-color-border-box);\n",
       "  border-radius: 0.25em;\n",
       "  box-sizing: border-box;\n",
       "  margin-bottom: 0.5em;\n",
       "  /* unfitted */\n",
       "  background-color: var(--sklearn-color-unfitted-level-0);\n",
       "}\n",
       "\n",
       "#sk-container-id-1 div.sk-estimator.fitted {\n",
       "  /* fitted */\n",
       "  background-color: var(--sklearn-color-fitted-level-0);\n",
       "}\n",
       "\n",
       "/* on hover */\n",
       "#sk-container-id-1 div.sk-estimator:hover {\n",
       "  /* unfitted */\n",
       "  background-color: var(--sklearn-color-unfitted-level-2);\n",
       "}\n",
       "\n",
       "#sk-container-id-1 div.sk-estimator.fitted:hover {\n",
       "  /* fitted */\n",
       "  background-color: var(--sklearn-color-fitted-level-2);\n",
       "}\n",
       "\n",
       "/* Specification for estimator info (e.g. \"i\" and \"?\") */\n",
       "\n",
       "/* Common style for \"i\" and \"?\" */\n",
       "\n",
       ".sk-estimator-doc-link,\n",
       "a:link.sk-estimator-doc-link,\n",
       "a:visited.sk-estimator-doc-link {\n",
       "  float: right;\n",
       "  font-size: smaller;\n",
       "  line-height: 1em;\n",
       "  font-family: monospace;\n",
       "  background-color: var(--sklearn-color-background);\n",
       "  border-radius: 1em;\n",
       "  height: 1em;\n",
       "  width: 1em;\n",
       "  text-decoration: none !important;\n",
       "  margin-left: 0.5em;\n",
       "  text-align: center;\n",
       "  /* unfitted */\n",
       "  border: var(--sklearn-color-unfitted-level-1) 1pt solid;\n",
       "  color: var(--sklearn-color-unfitted-level-1);\n",
       "}\n",
       "\n",
       ".sk-estimator-doc-link.fitted,\n",
       "a:link.sk-estimator-doc-link.fitted,\n",
       "a:visited.sk-estimator-doc-link.fitted {\n",
       "  /* fitted */\n",
       "  border: var(--sklearn-color-fitted-level-1) 1pt solid;\n",
       "  color: var(--sklearn-color-fitted-level-1);\n",
       "}\n",
       "\n",
       "/* On hover */\n",
       "div.sk-estimator:hover .sk-estimator-doc-link:hover,\n",
       ".sk-estimator-doc-link:hover,\n",
       "div.sk-label-container:hover .sk-estimator-doc-link:hover,\n",
       ".sk-estimator-doc-link:hover {\n",
       "  /* unfitted */\n",
       "  background-color: var(--sklearn-color-unfitted-level-3);\n",
       "  color: var(--sklearn-color-background);\n",
       "  text-decoration: none;\n",
       "}\n",
       "\n",
       "div.sk-estimator.fitted:hover .sk-estimator-doc-link.fitted:hover,\n",
       ".sk-estimator-doc-link.fitted:hover,\n",
       "div.sk-label-container:hover .sk-estimator-doc-link.fitted:hover,\n",
       ".sk-estimator-doc-link.fitted:hover {\n",
       "  /* fitted */\n",
       "  background-color: var(--sklearn-color-fitted-level-3);\n",
       "  color: var(--sklearn-color-background);\n",
       "  text-decoration: none;\n",
       "}\n",
       "\n",
       "/* Span, style for the box shown on hovering the info icon */\n",
       ".sk-estimator-doc-link span {\n",
       "  display: none;\n",
       "  z-index: 9999;\n",
       "  position: relative;\n",
       "  font-weight: normal;\n",
       "  right: .2ex;\n",
       "  padding: .5ex;\n",
       "  margin: .5ex;\n",
       "  width: min-content;\n",
       "  min-width: 20ex;\n",
       "  max-width: 50ex;\n",
       "  color: var(--sklearn-color-text);\n",
       "  box-shadow: 2pt 2pt 4pt #999;\n",
       "  /* unfitted */\n",
       "  background: var(--sklearn-color-unfitted-level-0);\n",
       "  border: .5pt solid var(--sklearn-color-unfitted-level-3);\n",
       "}\n",
       "\n",
       ".sk-estimator-doc-link.fitted span {\n",
       "  /* fitted */\n",
       "  background: var(--sklearn-color-fitted-level-0);\n",
       "  border: var(--sklearn-color-fitted-level-3);\n",
       "}\n",
       "\n",
       ".sk-estimator-doc-link:hover span {\n",
       "  display: block;\n",
       "}\n",
       "\n",
       "/* \"?\"-specific style due to the `<a>` HTML tag */\n",
       "\n",
       "#sk-container-id-1 a.estimator_doc_link {\n",
       "  float: right;\n",
       "  font-size: 1rem;\n",
       "  line-height: 1em;\n",
       "  font-family: monospace;\n",
       "  background-color: var(--sklearn-color-background);\n",
       "  border-radius: 1rem;\n",
       "  height: 1rem;\n",
       "  width: 1rem;\n",
       "  text-decoration: none;\n",
       "  /* unfitted */\n",
       "  color: var(--sklearn-color-unfitted-level-1);\n",
       "  border: var(--sklearn-color-unfitted-level-1) 1pt solid;\n",
       "}\n",
       "\n",
       "#sk-container-id-1 a.estimator_doc_link.fitted {\n",
       "  /* fitted */\n",
       "  border: var(--sklearn-color-fitted-level-1) 1pt solid;\n",
       "  color: var(--sklearn-color-fitted-level-1);\n",
       "}\n",
       "\n",
       "/* On hover */\n",
       "#sk-container-id-1 a.estimator_doc_link:hover {\n",
       "  /* unfitted */\n",
       "  background-color: var(--sklearn-color-unfitted-level-3);\n",
       "  color: var(--sklearn-color-background);\n",
       "  text-decoration: none;\n",
       "}\n",
       "\n",
       "#sk-container-id-1 a.estimator_doc_link.fitted:hover {\n",
       "  /* fitted */\n",
       "  background-color: var(--sklearn-color-fitted-level-3);\n",
       "}\n",
       "</style><div id=\"sk-container-id-1\" class=\"sk-top-container\"><div class=\"sk-text-repr-fallback\"><pre>GridSearchCV(cv=3, estimator=GaussianMixture(random_state=42),\n",
       "             param_grid={&#x27;covariance_type&#x27;: [&#x27;full&#x27;, &#x27;tied&#x27;, &#x27;diag&#x27;,\n",
       "                                             &#x27;spherical&#x27;],\n",
       "                         &#x27;n_components&#x27;: range(1, 11),\n",
       "                         &#x27;reg_covar&#x27;: [1e-06, 0.0001, 0.01, 0.1]},\n",
       "             verbose=1)</pre><b>In a Jupyter environment, please rerun this cell to show the HTML representation or trust the notebook. <br />On GitHub, the HTML representation is unable to render, please try loading this page with nbviewer.org.</b></div><div class=\"sk-container\" hidden><div class=\"sk-item sk-dashed-wrapped\"><div class=\"sk-label-container\"><div class=\"sk-label fitted sk-toggleable\"><input class=\"sk-toggleable__control sk-hidden--visually\" id=\"sk-estimator-id-1\" type=\"checkbox\" ><label for=\"sk-estimator-id-1\" class=\"sk-toggleable__label fitted sk-toggleable__label-arrow\"><div><div>GridSearchCV</div></div><div><a class=\"sk-estimator-doc-link fitted\" rel=\"noreferrer\" target=\"_blank\" href=\"https://scikit-learn.org/1.6/modules/generated/sklearn.model_selection.GridSearchCV.html\">?<span>Documentation for GridSearchCV</span></a><span class=\"sk-estimator-doc-link fitted\">i<span>Fitted</span></span></div></label><div class=\"sk-toggleable__content fitted\"><pre>GridSearchCV(cv=3, estimator=GaussianMixture(random_state=42),\n",
       "             param_grid={&#x27;covariance_type&#x27;: [&#x27;full&#x27;, &#x27;tied&#x27;, &#x27;diag&#x27;,\n",
       "                                             &#x27;spherical&#x27;],\n",
       "                         &#x27;n_components&#x27;: range(1, 11),\n",
       "                         &#x27;reg_covar&#x27;: [1e-06, 0.0001, 0.01, 0.1]},\n",
       "             verbose=1)</pre></div> </div></div><div class=\"sk-parallel\"><div class=\"sk-parallel-item\"><div class=\"sk-item\"><div class=\"sk-label-container\"><div class=\"sk-label fitted sk-toggleable\"><input class=\"sk-toggleable__control sk-hidden--visually\" id=\"sk-estimator-id-2\" type=\"checkbox\" ><label for=\"sk-estimator-id-2\" class=\"sk-toggleable__label fitted sk-toggleable__label-arrow\"><div><div>best_estimator_: GaussianMixture</div></div></label><div class=\"sk-toggleable__content fitted\"><pre>GaussianMixture(covariance_type=&#x27;diag&#x27;, n_components=2, random_state=42,\n",
       "                reg_covar=0.1)</pre></div> </div></div><div class=\"sk-serial\"><div class=\"sk-item\"><div class=\"sk-estimator fitted sk-toggleable\"><input class=\"sk-toggleable__control sk-hidden--visually\" id=\"sk-estimator-id-3\" type=\"checkbox\" ><label for=\"sk-estimator-id-3\" class=\"sk-toggleable__label fitted sk-toggleable__label-arrow\"><div><div>GaussianMixture</div></div><div><a class=\"sk-estimator-doc-link fitted\" rel=\"noreferrer\" target=\"_blank\" href=\"https://scikit-learn.org/1.6/modules/generated/sklearn.mixture.GaussianMixture.html\">?<span>Documentation for GaussianMixture</span></a></div></label><div class=\"sk-toggleable__content fitted\"><pre>GaussianMixture(covariance_type=&#x27;diag&#x27;, n_components=2, random_state=42,\n",
       "                reg_covar=0.1)</pre></div> </div></div></div></div></div></div></div></div></div>"
      ],
      "text/plain": [
       "GridSearchCV(cv=3, estimator=GaussianMixture(random_state=42),\n",
       "             param_grid={'covariance_type': ['full', 'tied', 'diag',\n",
       "                                             'spherical'],\n",
       "                         'n_components': range(1, 11),\n",
       "                         'reg_covar': [1e-06, 0.0001, 0.01, 0.1]},\n",
       "             verbose=1)"
      ]
     },
     "execution_count": 9,
     "metadata": {},
     "output_type": "execute_result"
    }
   ],
   "source": [
    "gmm = GaussianMixture(random_state=42)\n",
    "grid_search = GridSearchCV(gmm, param_grid, scoring=None, cv=3, verbose=1)\n",
    "grid_search.fit(df)"
   ]
  },
  {
   "cell_type": "code",
   "execution_count": 10,
   "metadata": {},
   "outputs": [
    {
     "name": "stdout",
     "output_type": "stream",
     "text": [
      "Mejores hiperparámetros encontrados:\n"
     ]
    },
    {
     "data": {
      "text/plain": [
       "{'covariance_type': 'diag', 'n_components': 2, 'reg_covar': 0.1}"
      ]
     },
     "execution_count": 10,
     "metadata": {},
     "output_type": "execute_result"
    }
   ],
   "source": [
    "print(\"Mejores hiperparámetros encontrados:\")\n",
    "grid_search.best_params_"
   ]
  },
  {
   "cell_type": "code",
   "execution_count": 11,
   "metadata": {},
   "outputs": [],
   "source": [
    "best_gmm = grid_search.best_estimator_"
   ]
  },
  {
   "cell_type": "code",
   "execution_count": 12,
   "metadata": {},
   "outputs": [],
   "source": [
    "synthetic_n = 50"
   ]
  },
  {
   "cell_type": "code",
   "execution_count": 13,
   "metadata": {},
   "outputs": [],
   "source": [
    "synthetic_samples, _ = best_gmm.sample(synthetic_n)\n",
    "synthetic_data = pd.DataFrame(synthetic_samples, columns=df.columns)"
   ]
  },
  {
   "cell_type": "code",
   "execution_count": 14,
   "metadata": {},
   "outputs": [
    {
     "name": "stdout",
     "output_type": "stream",
     "text": [
      "Datos sintéticos generados:\n"
     ]
    },
    {
     "data": {
      "application/vnd.microsoft.datawrangler.viewer.v0+json": {
       "columns": [
        {
         "name": "index",
         "rawType": "int64",
         "type": "integer"
        },
        {
         "name": "Altura",
         "rawType": "float64",
         "type": "float"
        },
        {
         "name": "Ancho",
         "rawType": "float64",
         "type": "float"
        },
        {
         "name": "Pie",
         "rawType": "float64",
         "type": "float"
        }
       ],
       "conversionMethod": "pd.DataFrame",
       "ref": "7dbad2ba-6e47-4f88-9afb-af3d601a6a14",
       "rows": [
        [
         "0",
         "169.37775500006728",
         "52.675201781868566",
         "27.69878920185222"
        ],
        [
         "1",
         "182.7328985515632",
         "47.947897236860136",
         "26.94525597994246"
        ],
        [
         "2",
         "172.77884343191272",
         "46.14475360053163",
         "24.98941431188356"
        ],
        [
         "3",
         "182.35443318498176",
         "55.28921405344197",
         "26.009483899696935"
        ],
        [
         "4",
         "173.68077127241975",
         "47.099250787929456",
         "26.778309733786493"
        ],
        [
         "5",
         "162.91071195963295",
         "47.692577137161294",
         "27.997386604278372"
        ],
        [
         "6",
         "192.47978801215157",
         "53.070978174864145",
         "27.5518493216399"
        ],
        [
         "7",
         "173.13087344305697",
         "47.846100266206086",
         "28.325068169340756"
        ],
        [
         "8",
         "178.20557258231602",
         "47.660608661656504",
         "26.480153446491506"
        ],
        [
         "9",
         "175.35640165843478",
         "48.1960327234663",
         "27.43215235485078"
        ],
        [
         "10",
         "174.9304313881922",
         "53.045317834874595",
         "26.251935052648463"
        ],
        [
         "11",
         "183.24559131210393",
         "65.59656034005853",
         "28.555753628000147"
        ],
        [
         "12",
         "177.75002374011342",
         "55.63237384331581",
         "26.49183469165101"
        ],
        [
         "13",
         "166.4113883612201",
         "55.06464029831999",
         "26.933101555175575"
        ],
        [
         "14",
         "167.90029198109852",
         "46.37325149084008",
         "26.378022048224544"
        ],
        [
         "15",
         "177.22013705157264",
         "54.05812154597796",
         "28.269138297257612"
        ],
        [
         "16",
         "182.001818925147",
         "54.966379670978355",
         "27.24322067652228"
        ],
        [
         "17",
         "172.45102234161195",
         "43.07613913544679",
         "28.46768389274503"
        ],
        [
         "18",
         "175.2558682764702",
         "48.84365028452621",
         "28.54270763909982"
        ],
        [
         "19",
         "170.72228421182982",
         "55.38562385008358",
         "27.71520525415516"
        ],
        [
         "20",
         "169.84371511491946",
         "50.60147878894432",
         "28.34898348894738"
        ],
        [
         "21",
         "163.44193926521376",
         "44.119926345380875",
         "23.847377680603234"
        ],
        [
         "22",
         "175.55982546182295",
         "38.43368925784951",
         "23.1996278764706"
        ],
        [
         "23",
         "159.41412221448297",
         "37.260677521974365",
         "24.46654806530946"
        ],
        [
         "24",
         "163.94955295925465",
         "40.64477681171766",
         "23.08026323263398"
        ],
        [
         "25",
         "152.66931558108845",
         "38.7423417192758",
         "24.203885547220345"
        ],
        [
         "26",
         "158.70259067560977",
         "39.5953144150117",
         "23.990908353183492"
        ],
        [
         "27",
         "165.14715811799786",
         "41.205242517099286",
         "23.826570454284386"
        ],
        [
         "28",
         "166.15204590607595",
         "41.01326262604992",
         "23.278176737511256"
        ],
        [
         "29",
         "162.86597908493445",
         "39.996012761270755",
         "23.226715778519125"
        ],
        [
         "30",
         "165.690560364997",
         "39.912872617747084",
         "21.21586992220328"
        ],
        [
         "31",
         "161.3252836609482",
         "39.669109846467734",
         "23.295892406977437"
        ],
        [
         "32",
         "161.830458239813",
         "40.20918977301523",
         "23.73903331775751"
        ],
        [
         "33",
         "150.1896758901685",
         "38.38033925689047",
         "24.784319530246368"
        ],
        [
         "34",
         "159.61311604007395",
         "36.661051084888676",
         "22.6071974881605"
        ],
        [
         "35",
         "155.03235529693745",
         "40.8409552558546",
         "23.169763529167295"
        ],
        [
         "36",
         "156.60031004538658",
         "40.60932228226143",
         "23.970078378897842"
        ],
        [
         "37",
         "158.48218026658637",
         "39.24733572345376",
         "23.179531437978603"
        ],
        [
         "38",
         "161.29849151186755",
         "40.58268387622399",
         "24.22461998169874"
        ],
        [
         "39",
         "154.29303420500472",
         "38.775111086838265",
         "24.229757549659354"
        ],
        [
         "40",
         "155.92946675689566",
         "43.85767548499499",
         "24.785415407209793"
        ],
        [
         "41",
         "166.2482836293761",
         "38.52725060532172",
         "23.617676757600968"
        ],
        [
         "42",
         "157.37980973223367",
         "42.772944601555956",
         "25.050380605879152"
        ],
        [
         "43",
         "163.80873460092718",
         "40.62157833172519",
         "23.22872581293113"
        ],
        [
         "44",
         "162.7529278986722",
         "37.721721923482285",
         "24.021578682947403"
        ],
        [
         "45",
         "155.39868644256455",
         "42.06066737125323",
         "23.408594597677588"
        ],
        [
         "46",
         "157.87440144778554",
         "38.51578420450581",
         "23.236456995753418"
        ],
        [
         "47",
         "162.3157259945435",
         "43.05703696841996",
         "24.01288609907876"
        ],
        [
         "48",
         "166.1145376613455",
         "46.576597402038786",
         "23.264812057153808"
        ],
        [
         "49",
         "158.73219384664284",
         "37.21056395459954",
         "24.596864360515347"
        ]
       ],
       "shape": {
        "columns": 3,
        "rows": 50
       }
      },
      "text/html": [
       "<div>\n",
       "<style scoped>\n",
       "    .dataframe tbody tr th:only-of-type {\n",
       "        vertical-align: middle;\n",
       "    }\n",
       "\n",
       "    .dataframe tbody tr th {\n",
       "        vertical-align: top;\n",
       "    }\n",
       "\n",
       "    .dataframe thead th {\n",
       "        text-align: right;\n",
       "    }\n",
       "</style>\n",
       "<table border=\"1\" class=\"dataframe\">\n",
       "  <thead>\n",
       "    <tr style=\"text-align: right;\">\n",
       "      <th></th>\n",
       "      <th>Altura</th>\n",
       "      <th>Ancho</th>\n",
       "      <th>Pie</th>\n",
       "    </tr>\n",
       "  </thead>\n",
       "  <tbody>\n",
       "    <tr>\n",
       "      <th>0</th>\n",
       "      <td>169.377755</td>\n",
       "      <td>52.675202</td>\n",
       "      <td>27.698789</td>\n",
       "    </tr>\n",
       "    <tr>\n",
       "      <th>1</th>\n",
       "      <td>182.732899</td>\n",
       "      <td>47.947897</td>\n",
       "      <td>26.945256</td>\n",
       "    </tr>\n",
       "    <tr>\n",
       "      <th>2</th>\n",
       "      <td>172.778843</td>\n",
       "      <td>46.144754</td>\n",
       "      <td>24.989414</td>\n",
       "    </tr>\n",
       "    <tr>\n",
       "      <th>3</th>\n",
       "      <td>182.354433</td>\n",
       "      <td>55.289214</td>\n",
       "      <td>26.009484</td>\n",
       "    </tr>\n",
       "    <tr>\n",
       "      <th>4</th>\n",
       "      <td>173.680771</td>\n",
       "      <td>47.099251</td>\n",
       "      <td>26.778310</td>\n",
       "    </tr>\n",
       "    <tr>\n",
       "      <th>5</th>\n",
       "      <td>162.910712</td>\n",
       "      <td>47.692577</td>\n",
       "      <td>27.997387</td>\n",
       "    </tr>\n",
       "    <tr>\n",
       "      <th>6</th>\n",
       "      <td>192.479788</td>\n",
       "      <td>53.070978</td>\n",
       "      <td>27.551849</td>\n",
       "    </tr>\n",
       "    <tr>\n",
       "      <th>7</th>\n",
       "      <td>173.130873</td>\n",
       "      <td>47.846100</td>\n",
       "      <td>28.325068</td>\n",
       "    </tr>\n",
       "    <tr>\n",
       "      <th>8</th>\n",
       "      <td>178.205573</td>\n",
       "      <td>47.660609</td>\n",
       "      <td>26.480153</td>\n",
       "    </tr>\n",
       "    <tr>\n",
       "      <th>9</th>\n",
       "      <td>175.356402</td>\n",
       "      <td>48.196033</td>\n",
       "      <td>27.432152</td>\n",
       "    </tr>\n",
       "    <tr>\n",
       "      <th>10</th>\n",
       "      <td>174.930431</td>\n",
       "      <td>53.045318</td>\n",
       "      <td>26.251935</td>\n",
       "    </tr>\n",
       "    <tr>\n",
       "      <th>11</th>\n",
       "      <td>183.245591</td>\n",
       "      <td>65.596560</td>\n",
       "      <td>28.555754</td>\n",
       "    </tr>\n",
       "    <tr>\n",
       "      <th>12</th>\n",
       "      <td>177.750024</td>\n",
       "      <td>55.632374</td>\n",
       "      <td>26.491835</td>\n",
       "    </tr>\n",
       "    <tr>\n",
       "      <th>13</th>\n",
       "      <td>166.411388</td>\n",
       "      <td>55.064640</td>\n",
       "      <td>26.933102</td>\n",
       "    </tr>\n",
       "    <tr>\n",
       "      <th>14</th>\n",
       "      <td>167.900292</td>\n",
       "      <td>46.373251</td>\n",
       "      <td>26.378022</td>\n",
       "    </tr>\n",
       "    <tr>\n",
       "      <th>15</th>\n",
       "      <td>177.220137</td>\n",
       "      <td>54.058122</td>\n",
       "      <td>28.269138</td>\n",
       "    </tr>\n",
       "    <tr>\n",
       "      <th>16</th>\n",
       "      <td>182.001819</td>\n",
       "      <td>54.966380</td>\n",
       "      <td>27.243221</td>\n",
       "    </tr>\n",
       "    <tr>\n",
       "      <th>17</th>\n",
       "      <td>172.451022</td>\n",
       "      <td>43.076139</td>\n",
       "      <td>28.467684</td>\n",
       "    </tr>\n",
       "    <tr>\n",
       "      <th>18</th>\n",
       "      <td>175.255868</td>\n",
       "      <td>48.843650</td>\n",
       "      <td>28.542708</td>\n",
       "    </tr>\n",
       "    <tr>\n",
       "      <th>19</th>\n",
       "      <td>170.722284</td>\n",
       "      <td>55.385624</td>\n",
       "      <td>27.715205</td>\n",
       "    </tr>\n",
       "    <tr>\n",
       "      <th>20</th>\n",
       "      <td>169.843715</td>\n",
       "      <td>50.601479</td>\n",
       "      <td>28.348983</td>\n",
       "    </tr>\n",
       "    <tr>\n",
       "      <th>21</th>\n",
       "      <td>163.441939</td>\n",
       "      <td>44.119926</td>\n",
       "      <td>23.847378</td>\n",
       "    </tr>\n",
       "    <tr>\n",
       "      <th>22</th>\n",
       "      <td>175.559825</td>\n",
       "      <td>38.433689</td>\n",
       "      <td>23.199628</td>\n",
       "    </tr>\n",
       "    <tr>\n",
       "      <th>23</th>\n",
       "      <td>159.414122</td>\n",
       "      <td>37.260678</td>\n",
       "      <td>24.466548</td>\n",
       "    </tr>\n",
       "    <tr>\n",
       "      <th>24</th>\n",
       "      <td>163.949553</td>\n",
       "      <td>40.644777</td>\n",
       "      <td>23.080263</td>\n",
       "    </tr>\n",
       "    <tr>\n",
       "      <th>25</th>\n",
       "      <td>152.669316</td>\n",
       "      <td>38.742342</td>\n",
       "      <td>24.203886</td>\n",
       "    </tr>\n",
       "    <tr>\n",
       "      <th>26</th>\n",
       "      <td>158.702591</td>\n",
       "      <td>39.595314</td>\n",
       "      <td>23.990908</td>\n",
       "    </tr>\n",
       "    <tr>\n",
       "      <th>27</th>\n",
       "      <td>165.147158</td>\n",
       "      <td>41.205243</td>\n",
       "      <td>23.826570</td>\n",
       "    </tr>\n",
       "    <tr>\n",
       "      <th>28</th>\n",
       "      <td>166.152046</td>\n",
       "      <td>41.013263</td>\n",
       "      <td>23.278177</td>\n",
       "    </tr>\n",
       "    <tr>\n",
       "      <th>29</th>\n",
       "      <td>162.865979</td>\n",
       "      <td>39.996013</td>\n",
       "      <td>23.226716</td>\n",
       "    </tr>\n",
       "    <tr>\n",
       "      <th>30</th>\n",
       "      <td>165.690560</td>\n",
       "      <td>39.912873</td>\n",
       "      <td>21.215870</td>\n",
       "    </tr>\n",
       "    <tr>\n",
       "      <th>31</th>\n",
       "      <td>161.325284</td>\n",
       "      <td>39.669110</td>\n",
       "      <td>23.295892</td>\n",
       "    </tr>\n",
       "    <tr>\n",
       "      <th>32</th>\n",
       "      <td>161.830458</td>\n",
       "      <td>40.209190</td>\n",
       "      <td>23.739033</td>\n",
       "    </tr>\n",
       "    <tr>\n",
       "      <th>33</th>\n",
       "      <td>150.189676</td>\n",
       "      <td>38.380339</td>\n",
       "      <td>24.784320</td>\n",
       "    </tr>\n",
       "    <tr>\n",
       "      <th>34</th>\n",
       "      <td>159.613116</td>\n",
       "      <td>36.661051</td>\n",
       "      <td>22.607197</td>\n",
       "    </tr>\n",
       "    <tr>\n",
       "      <th>35</th>\n",
       "      <td>155.032355</td>\n",
       "      <td>40.840955</td>\n",
       "      <td>23.169764</td>\n",
       "    </tr>\n",
       "    <tr>\n",
       "      <th>36</th>\n",
       "      <td>156.600310</td>\n",
       "      <td>40.609322</td>\n",
       "      <td>23.970078</td>\n",
       "    </tr>\n",
       "    <tr>\n",
       "      <th>37</th>\n",
       "      <td>158.482180</td>\n",
       "      <td>39.247336</td>\n",
       "      <td>23.179531</td>\n",
       "    </tr>\n",
       "    <tr>\n",
       "      <th>38</th>\n",
       "      <td>161.298492</td>\n",
       "      <td>40.582684</td>\n",
       "      <td>24.224620</td>\n",
       "    </tr>\n",
       "    <tr>\n",
       "      <th>39</th>\n",
       "      <td>154.293034</td>\n",
       "      <td>38.775111</td>\n",
       "      <td>24.229758</td>\n",
       "    </tr>\n",
       "    <tr>\n",
       "      <th>40</th>\n",
       "      <td>155.929467</td>\n",
       "      <td>43.857675</td>\n",
       "      <td>24.785415</td>\n",
       "    </tr>\n",
       "    <tr>\n",
       "      <th>41</th>\n",
       "      <td>166.248284</td>\n",
       "      <td>38.527251</td>\n",
       "      <td>23.617677</td>\n",
       "    </tr>\n",
       "    <tr>\n",
       "      <th>42</th>\n",
       "      <td>157.379810</td>\n",
       "      <td>42.772945</td>\n",
       "      <td>25.050381</td>\n",
       "    </tr>\n",
       "    <tr>\n",
       "      <th>43</th>\n",
       "      <td>163.808735</td>\n",
       "      <td>40.621578</td>\n",
       "      <td>23.228726</td>\n",
       "    </tr>\n",
       "    <tr>\n",
       "      <th>44</th>\n",
       "      <td>162.752928</td>\n",
       "      <td>37.721722</td>\n",
       "      <td>24.021579</td>\n",
       "    </tr>\n",
       "    <tr>\n",
       "      <th>45</th>\n",
       "      <td>155.398686</td>\n",
       "      <td>42.060667</td>\n",
       "      <td>23.408595</td>\n",
       "    </tr>\n",
       "    <tr>\n",
       "      <th>46</th>\n",
       "      <td>157.874401</td>\n",
       "      <td>38.515784</td>\n",
       "      <td>23.236457</td>\n",
       "    </tr>\n",
       "    <tr>\n",
       "      <th>47</th>\n",
       "      <td>162.315726</td>\n",
       "      <td>43.057037</td>\n",
       "      <td>24.012886</td>\n",
       "    </tr>\n",
       "    <tr>\n",
       "      <th>48</th>\n",
       "      <td>166.114538</td>\n",
       "      <td>46.576597</td>\n",
       "      <td>23.264812</td>\n",
       "    </tr>\n",
       "    <tr>\n",
       "      <th>49</th>\n",
       "      <td>158.732194</td>\n",
       "      <td>37.210564</td>\n",
       "      <td>24.596864</td>\n",
       "    </tr>\n",
       "  </tbody>\n",
       "</table>\n",
       "</div>"
      ],
      "text/plain": [
       "        Altura      Ancho        Pie\n",
       "0   169.377755  52.675202  27.698789\n",
       "1   182.732899  47.947897  26.945256\n",
       "2   172.778843  46.144754  24.989414\n",
       "3   182.354433  55.289214  26.009484\n",
       "4   173.680771  47.099251  26.778310\n",
       "5   162.910712  47.692577  27.997387\n",
       "6   192.479788  53.070978  27.551849\n",
       "7   173.130873  47.846100  28.325068\n",
       "8   178.205573  47.660609  26.480153\n",
       "9   175.356402  48.196033  27.432152\n",
       "10  174.930431  53.045318  26.251935\n",
       "11  183.245591  65.596560  28.555754\n",
       "12  177.750024  55.632374  26.491835\n",
       "13  166.411388  55.064640  26.933102\n",
       "14  167.900292  46.373251  26.378022\n",
       "15  177.220137  54.058122  28.269138\n",
       "16  182.001819  54.966380  27.243221\n",
       "17  172.451022  43.076139  28.467684\n",
       "18  175.255868  48.843650  28.542708\n",
       "19  170.722284  55.385624  27.715205\n",
       "20  169.843715  50.601479  28.348983\n",
       "21  163.441939  44.119926  23.847378\n",
       "22  175.559825  38.433689  23.199628\n",
       "23  159.414122  37.260678  24.466548\n",
       "24  163.949553  40.644777  23.080263\n",
       "25  152.669316  38.742342  24.203886\n",
       "26  158.702591  39.595314  23.990908\n",
       "27  165.147158  41.205243  23.826570\n",
       "28  166.152046  41.013263  23.278177\n",
       "29  162.865979  39.996013  23.226716\n",
       "30  165.690560  39.912873  21.215870\n",
       "31  161.325284  39.669110  23.295892\n",
       "32  161.830458  40.209190  23.739033\n",
       "33  150.189676  38.380339  24.784320\n",
       "34  159.613116  36.661051  22.607197\n",
       "35  155.032355  40.840955  23.169764\n",
       "36  156.600310  40.609322  23.970078\n",
       "37  158.482180  39.247336  23.179531\n",
       "38  161.298492  40.582684  24.224620\n",
       "39  154.293034  38.775111  24.229758\n",
       "40  155.929467  43.857675  24.785415\n",
       "41  166.248284  38.527251  23.617677\n",
       "42  157.379810  42.772945  25.050381\n",
       "43  163.808735  40.621578  23.228726\n",
       "44  162.752928  37.721722  24.021579\n",
       "45  155.398686  42.060667  23.408595\n",
       "46  157.874401  38.515784  23.236457\n",
       "47  162.315726  43.057037  24.012886\n",
       "48  166.114538  46.576597  23.264812\n",
       "49  158.732194  37.210564  24.596864"
      ]
     },
     "execution_count": 14,
     "metadata": {},
     "output_type": "execute_result"
    }
   ],
   "source": [
    "print(\"Datos sintéticos generados:\")\n",
    "synthetic_data"
   ]
  },
  {
   "cell_type": "code",
   "execution_count": 15,
   "metadata": {},
   "outputs": [
    {
     "data": {
      "text/plain": [
       "(18, 3)"
      ]
     },
     "execution_count": 15,
     "metadata": {},
     "output_type": "execute_result"
    }
   ],
   "source": [
    "df.shape"
   ]
  },
  {
   "cell_type": "code",
   "execution_count": 16,
   "metadata": {},
   "outputs": [],
   "source": [
    "df_ori = df.copy()"
   ]
  },
  {
   "cell_type": "code",
   "execution_count": 73,
   "metadata": {},
   "outputs": [
    {
     "data": {
      "text/plain": [
       "(168, 3)"
      ]
     },
     "execution_count": 73,
     "metadata": {},
     "output_type": "execute_result"
    }
   ],
   "source": [
    "df = pd.concat([synthetic_data, df])\n",
    "df.shape"
   ]
  },
  {
   "cell_type": "code",
   "execution_count": 18,
   "metadata": {},
   "outputs": [
    {
     "data": {
      "application/vnd.plotly.v1+json": {
       "config": {
        "plotlyServerURL": "https://plot.ly"
       },
       "data": [
        {
         "hovertemplate": "Altura (cm)=%{x}<br>Ancho (cm)=%{y}<extra></extra>",
         "legendgroup": "",
         "marker": {
          "color": "blue",
          "symbol": "circle"
         },
         "mode": "markers",
         "name": "",
         "orientation": "v",
         "showlegend": false,
         "type": "scatter",
         "x": {
          "bdata": "EGankRYsZUD+x6nnc9dmQKCYD0nsmGVApENDhFfLZkAs49XgyLVlQGNWaI0kXWRAhqZjbFoPaEAHu4AdMKRlQA3A8wyURmZA9mZzpGfrZUCj7gsYxt1lQGG1T+Lb52ZAWGDJMQA4ZkCnrOwXKs1kQGr1IDHP/GRAjqTbXAsnZkCmAJDmDsBmQKPfZ8ZujmVAwPCqEjDoZUA9h8fzHFdlQAo317b/OmVAKl3QXSRuZEDtPxYX6vFlQAz4On1A7WNAMzrjvGJ+ZEBNb4IIaxVjQP7GcJ971mNAiQTxhLWkZEDIQmCP3cRkQAgaxRm2W2RAbvIMEhm2ZEBDtke5aCpkQBmWKB2TOmRAoSMs0xHGYkCpmIelnvNjQFzG+Q0JYWNAqYxpvTWTY0B7eE8Fbs9jQFozEj6NKWRAWeNEiWBJY0DBchExvn1jQK6JgvDxx2RArVS9ZiesY0AHxGIn4XlkQGGhP/wXWGRAjAUSCsJsY0AMur4Y+7tjQPehZm0aSmRAdbTiSqrDZEA7NcohbtdjQAAAAAAAIGdAAAAAAACgZUAAAAAAAGBkQAAAAAAAQGRAAAAAAACAZUAAAAAAAOBjQAAAAAAAYGdAAAAAAACgZEAAAAAAAOBlQAAAAAAAQGRAAAAAAABgY0AAAAAAAABlQAAAAAAAYGZAAAAAAACAZUAAAAAAAOBjQAAAAAAAwGRAAAAAAACAY0AAAAAAAMBiQA==",
          "dtype": "f8"
         },
         "xaxis": "x",
         "y": {
          "bdata": "yKkRA21WSkA7JFiyVPlHQHwhNkmHEkdA1olS9wSlS0AvIfQ/tIxHQFQIHV6m2EdAueIV0BWJSkD7PnYDTexHQG+iGtOO1EdA5h2smRcZSEAgW435zIVKQBepawsuZlBAkfFHoPHQS0DfpB8iRohLQLMrcbTGL0dAi5XdhnAHS0CGLz1UsntLQEdYXO2+iUVAjaaGu/xrSEBTVVAfXLFLQHTgx0H9TElAeqsZv1kPRkCKiy0hgzdDQFPXi+FdoUJA9MXrC4hSREB8X68NBV9DQASoQ0MzzENAV1gFY0WaREBekviWsoFEQD0Hnlh9/0NAnlGLAtn0Q0BYATZkpdVDQAnhALvGGkRAYd3u9K4wQ0CFSmtSnVRCQL2l/Guka0RAuoTFRf5NREDmrm2yqJ9DQO8koGKVSkRAYl4Q1zZjQ0A1UW9PyO1FQJVTpfJ8Q0NAu6ZE2e9iRUC6VPfgj09EQNEUTWJh3EJAxLvL8sMHRUCrEoE3BUJDQGsDxfxMh0VAiluU8c1JR0BZXHnC85pCQAAAAAAAgEtAAAAAAAAARkAAAAAAAABGQAAAAAAAAEZAAAAAAAAAR0AAAAAAAABEQAAAAAAAAEhAAAAAAAAAREAAAAAAAIBIQAAAAAAAAEZAAAAAAAAAREAAAAAAAIBOQAAAAAAAgEtAAAAAAAAASUAAAAAAAABDQAAAAAAAgENAAAAAAAAAQ0AAAAAAAIBDQA==",
          "dtype": "f8"
         },
         "yaxis": "y"
        }
       ],
       "layout": {
        "legend": {
         "tracegroupgap": 0
        },
        "template": {
         "data": {
          "bar": [
           {
            "error_x": {
             "color": "#2a3f5f"
            },
            "error_y": {
             "color": "#2a3f5f"
            },
            "marker": {
             "line": {
              "color": "#E5ECF6",
              "width": 0.5
             },
             "pattern": {
              "fillmode": "overlay",
              "size": 10,
              "solidity": 0.2
             }
            },
            "type": "bar"
           }
          ],
          "barpolar": [
           {
            "marker": {
             "line": {
              "color": "#E5ECF6",
              "width": 0.5
             },
             "pattern": {
              "fillmode": "overlay",
              "size": 10,
              "solidity": 0.2
             }
            },
            "type": "barpolar"
           }
          ],
          "carpet": [
           {
            "aaxis": {
             "endlinecolor": "#2a3f5f",
             "gridcolor": "white",
             "linecolor": "white",
             "minorgridcolor": "white",
             "startlinecolor": "#2a3f5f"
            },
            "baxis": {
             "endlinecolor": "#2a3f5f",
             "gridcolor": "white",
             "linecolor": "white",
             "minorgridcolor": "white",
             "startlinecolor": "#2a3f5f"
            },
            "type": "carpet"
           }
          ],
          "choropleth": [
           {
            "colorbar": {
             "outlinewidth": 0,
             "ticks": ""
            },
            "type": "choropleth"
           }
          ],
          "contour": [
           {
            "colorbar": {
             "outlinewidth": 0,
             "ticks": ""
            },
            "colorscale": [
             [
              0,
              "#0d0887"
             ],
             [
              0.1111111111111111,
              "#46039f"
             ],
             [
              0.2222222222222222,
              "#7201a8"
             ],
             [
              0.3333333333333333,
              "#9c179e"
             ],
             [
              0.4444444444444444,
              "#bd3786"
             ],
             [
              0.5555555555555556,
              "#d8576b"
             ],
             [
              0.6666666666666666,
              "#ed7953"
             ],
             [
              0.7777777777777778,
              "#fb9f3a"
             ],
             [
              0.8888888888888888,
              "#fdca26"
             ],
             [
              1,
              "#f0f921"
             ]
            ],
            "type": "contour"
           }
          ],
          "contourcarpet": [
           {
            "colorbar": {
             "outlinewidth": 0,
             "ticks": ""
            },
            "type": "contourcarpet"
           }
          ],
          "heatmap": [
           {
            "colorbar": {
             "outlinewidth": 0,
             "ticks": ""
            },
            "colorscale": [
             [
              0,
              "#0d0887"
             ],
             [
              0.1111111111111111,
              "#46039f"
             ],
             [
              0.2222222222222222,
              "#7201a8"
             ],
             [
              0.3333333333333333,
              "#9c179e"
             ],
             [
              0.4444444444444444,
              "#bd3786"
             ],
             [
              0.5555555555555556,
              "#d8576b"
             ],
             [
              0.6666666666666666,
              "#ed7953"
             ],
             [
              0.7777777777777778,
              "#fb9f3a"
             ],
             [
              0.8888888888888888,
              "#fdca26"
             ],
             [
              1,
              "#f0f921"
             ]
            ],
            "type": "heatmap"
           }
          ],
          "histogram": [
           {
            "marker": {
             "pattern": {
              "fillmode": "overlay",
              "size": 10,
              "solidity": 0.2
             }
            },
            "type": "histogram"
           }
          ],
          "histogram2d": [
           {
            "colorbar": {
             "outlinewidth": 0,
             "ticks": ""
            },
            "colorscale": [
             [
              0,
              "#0d0887"
             ],
             [
              0.1111111111111111,
              "#46039f"
             ],
             [
              0.2222222222222222,
              "#7201a8"
             ],
             [
              0.3333333333333333,
              "#9c179e"
             ],
             [
              0.4444444444444444,
              "#bd3786"
             ],
             [
              0.5555555555555556,
              "#d8576b"
             ],
             [
              0.6666666666666666,
              "#ed7953"
             ],
             [
              0.7777777777777778,
              "#fb9f3a"
             ],
             [
              0.8888888888888888,
              "#fdca26"
             ],
             [
              1,
              "#f0f921"
             ]
            ],
            "type": "histogram2d"
           }
          ],
          "histogram2dcontour": [
           {
            "colorbar": {
             "outlinewidth": 0,
             "ticks": ""
            },
            "colorscale": [
             [
              0,
              "#0d0887"
             ],
             [
              0.1111111111111111,
              "#46039f"
             ],
             [
              0.2222222222222222,
              "#7201a8"
             ],
             [
              0.3333333333333333,
              "#9c179e"
             ],
             [
              0.4444444444444444,
              "#bd3786"
             ],
             [
              0.5555555555555556,
              "#d8576b"
             ],
             [
              0.6666666666666666,
              "#ed7953"
             ],
             [
              0.7777777777777778,
              "#fb9f3a"
             ],
             [
              0.8888888888888888,
              "#fdca26"
             ],
             [
              1,
              "#f0f921"
             ]
            ],
            "type": "histogram2dcontour"
           }
          ],
          "mesh3d": [
           {
            "colorbar": {
             "outlinewidth": 0,
             "ticks": ""
            },
            "type": "mesh3d"
           }
          ],
          "parcoords": [
           {
            "line": {
             "colorbar": {
              "outlinewidth": 0,
              "ticks": ""
             }
            },
            "type": "parcoords"
           }
          ],
          "pie": [
           {
            "automargin": true,
            "type": "pie"
           }
          ],
          "scatter": [
           {
            "fillpattern": {
             "fillmode": "overlay",
             "size": 10,
             "solidity": 0.2
            },
            "type": "scatter"
           }
          ],
          "scatter3d": [
           {
            "line": {
             "colorbar": {
              "outlinewidth": 0,
              "ticks": ""
             }
            },
            "marker": {
             "colorbar": {
              "outlinewidth": 0,
              "ticks": ""
             }
            },
            "type": "scatter3d"
           }
          ],
          "scattercarpet": [
           {
            "marker": {
             "colorbar": {
              "outlinewidth": 0,
              "ticks": ""
             }
            },
            "type": "scattercarpet"
           }
          ],
          "scattergeo": [
           {
            "marker": {
             "colorbar": {
              "outlinewidth": 0,
              "ticks": ""
             }
            },
            "type": "scattergeo"
           }
          ],
          "scattergl": [
           {
            "marker": {
             "colorbar": {
              "outlinewidth": 0,
              "ticks": ""
             }
            },
            "type": "scattergl"
           }
          ],
          "scattermap": [
           {
            "marker": {
             "colorbar": {
              "outlinewidth": 0,
              "ticks": ""
             }
            },
            "type": "scattermap"
           }
          ],
          "scattermapbox": [
           {
            "marker": {
             "colorbar": {
              "outlinewidth": 0,
              "ticks": ""
             }
            },
            "type": "scattermapbox"
           }
          ],
          "scatterpolar": [
           {
            "marker": {
             "colorbar": {
              "outlinewidth": 0,
              "ticks": ""
             }
            },
            "type": "scatterpolar"
           }
          ],
          "scatterpolargl": [
           {
            "marker": {
             "colorbar": {
              "outlinewidth": 0,
              "ticks": ""
             }
            },
            "type": "scatterpolargl"
           }
          ],
          "scatterternary": [
           {
            "marker": {
             "colorbar": {
              "outlinewidth": 0,
              "ticks": ""
             }
            },
            "type": "scatterternary"
           }
          ],
          "surface": [
           {
            "colorbar": {
             "outlinewidth": 0,
             "ticks": ""
            },
            "colorscale": [
             [
              0,
              "#0d0887"
             ],
             [
              0.1111111111111111,
              "#46039f"
             ],
             [
              0.2222222222222222,
              "#7201a8"
             ],
             [
              0.3333333333333333,
              "#9c179e"
             ],
             [
              0.4444444444444444,
              "#bd3786"
             ],
             [
              0.5555555555555556,
              "#d8576b"
             ],
             [
              0.6666666666666666,
              "#ed7953"
             ],
             [
              0.7777777777777778,
              "#fb9f3a"
             ],
             [
              0.8888888888888888,
              "#fdca26"
             ],
             [
              1,
              "#f0f921"
             ]
            ],
            "type": "surface"
           }
          ],
          "table": [
           {
            "cells": {
             "fill": {
              "color": "#EBF0F8"
             },
             "line": {
              "color": "white"
             }
            },
            "header": {
             "fill": {
              "color": "#C8D4E3"
             },
             "line": {
              "color": "white"
             }
            },
            "type": "table"
           }
          ]
         },
         "layout": {
          "annotationdefaults": {
           "arrowcolor": "#2a3f5f",
           "arrowhead": 0,
           "arrowwidth": 1
          },
          "autotypenumbers": "strict",
          "coloraxis": {
           "colorbar": {
            "outlinewidth": 0,
            "ticks": ""
           }
          },
          "colorscale": {
           "diverging": [
            [
             0,
             "#8e0152"
            ],
            [
             0.1,
             "#c51b7d"
            ],
            [
             0.2,
             "#de77ae"
            ],
            [
             0.3,
             "#f1b6da"
            ],
            [
             0.4,
             "#fde0ef"
            ],
            [
             0.5,
             "#f7f7f7"
            ],
            [
             0.6,
             "#e6f5d0"
            ],
            [
             0.7,
             "#b8e186"
            ],
            [
             0.8,
             "#7fbc41"
            ],
            [
             0.9,
             "#4d9221"
            ],
            [
             1,
             "#276419"
            ]
           ],
           "sequential": [
            [
             0,
             "#0d0887"
            ],
            [
             0.1111111111111111,
             "#46039f"
            ],
            [
             0.2222222222222222,
             "#7201a8"
            ],
            [
             0.3333333333333333,
             "#9c179e"
            ],
            [
             0.4444444444444444,
             "#bd3786"
            ],
            [
             0.5555555555555556,
             "#d8576b"
            ],
            [
             0.6666666666666666,
             "#ed7953"
            ],
            [
             0.7777777777777778,
             "#fb9f3a"
            ],
            [
             0.8888888888888888,
             "#fdca26"
            ],
            [
             1,
             "#f0f921"
            ]
           ],
           "sequentialminus": [
            [
             0,
             "#0d0887"
            ],
            [
             0.1111111111111111,
             "#46039f"
            ],
            [
             0.2222222222222222,
             "#7201a8"
            ],
            [
             0.3333333333333333,
             "#9c179e"
            ],
            [
             0.4444444444444444,
             "#bd3786"
            ],
            [
             0.5555555555555556,
             "#d8576b"
            ],
            [
             0.6666666666666666,
             "#ed7953"
            ],
            [
             0.7777777777777778,
             "#fb9f3a"
            ],
            [
             0.8888888888888888,
             "#fdca26"
            ],
            [
             1,
             "#f0f921"
            ]
           ]
          },
          "colorway": [
           "#636efa",
           "#EF553B",
           "#00cc96",
           "#ab63fa",
           "#FFA15A",
           "#19d3f3",
           "#FF6692",
           "#B6E880",
           "#FF97FF",
           "#FECB52"
          ],
          "font": {
           "color": "#2a3f5f"
          },
          "geo": {
           "bgcolor": "white",
           "lakecolor": "white",
           "landcolor": "#E5ECF6",
           "showlakes": true,
           "showland": true,
           "subunitcolor": "white"
          },
          "hoverlabel": {
           "align": "left"
          },
          "hovermode": "closest",
          "mapbox": {
           "style": "light"
          },
          "paper_bgcolor": "white",
          "plot_bgcolor": "#E5ECF6",
          "polar": {
           "angularaxis": {
            "gridcolor": "white",
            "linecolor": "white",
            "ticks": ""
           },
           "bgcolor": "#E5ECF6",
           "radialaxis": {
            "gridcolor": "white",
            "linecolor": "white",
            "ticks": ""
           }
          },
          "scene": {
           "xaxis": {
            "backgroundcolor": "#E5ECF6",
            "gridcolor": "white",
            "gridwidth": 2,
            "linecolor": "white",
            "showbackground": true,
            "ticks": "",
            "zerolinecolor": "white"
           },
           "yaxis": {
            "backgroundcolor": "#E5ECF6",
            "gridcolor": "white",
            "gridwidth": 2,
            "linecolor": "white",
            "showbackground": true,
            "ticks": "",
            "zerolinecolor": "white"
           },
           "zaxis": {
            "backgroundcolor": "#E5ECF6",
            "gridcolor": "white",
            "gridwidth": 2,
            "linecolor": "white",
            "showbackground": true,
            "ticks": "",
            "zerolinecolor": "white"
           }
          },
          "shapedefaults": {
           "line": {
            "color": "#2a3f5f"
           }
          },
          "ternary": {
           "aaxis": {
            "gridcolor": "white",
            "linecolor": "white",
            "ticks": ""
           },
           "baxis": {
            "gridcolor": "white",
            "linecolor": "white",
            "ticks": ""
           },
           "bgcolor": "#E5ECF6",
           "caxis": {
            "gridcolor": "white",
            "linecolor": "white",
            "ticks": ""
           }
          },
          "title": {
           "x": 0.05
          },
          "xaxis": {
           "automargin": true,
           "gridcolor": "white",
           "linecolor": "white",
           "ticks": "",
           "title": {
            "standoff": 15
           },
           "zerolinecolor": "white",
           "zerolinewidth": 2
          },
          "yaxis": {
           "automargin": true,
           "gridcolor": "white",
           "linecolor": "white",
           "ticks": "",
           "title": {
            "standoff": 15
           },
           "zerolinecolor": "white",
           "zerolinewidth": 2
          }
         }
        },
        "title": {
         "text": "Altura vs Ancho"
        },
        "xaxis": {
         "anchor": "y",
         "domain": [
          0,
          1
         ],
         "title": {
          "text": "Altura (cm)"
         }
        },
        "yaxis": {
         "anchor": "x",
         "domain": [
          0,
          1
         ],
         "title": {
          "text": "Ancho (cm)"
         }
        }
       }
      }
     },
     "metadata": {},
     "output_type": "display_data"
    },
    {
     "data": {
      "application/vnd.plotly.v1+json": {
       "config": {
        "plotlyServerURL": "https://plot.ly"
       },
       "data": [
        {
         "hovertemplate": "Altura (cm)=%{x}<br>Pie (cm)=%{y}<extra></extra>",
         "legendgroup": "",
         "marker": {
          "color": "red",
          "symbol": "circle"
         },
         "mode": "markers",
         "name": "",
         "orientation": "v",
         "showlegend": false,
         "type": "scatter",
         "x": {
          "bdata": "EGankRYsZUD+x6nnc9dmQKCYD0nsmGVApENDhFfLZkAs49XgyLVlQGNWaI0kXWRAhqZjbFoPaEAHu4AdMKRlQA3A8wyURmZA9mZzpGfrZUCj7gsYxt1lQGG1T+Lb52ZAWGDJMQA4ZkCnrOwXKs1kQGr1IDHP/GRAjqTbXAsnZkCmAJDmDsBmQKPfZ8ZujmVAwPCqEjDoZUA9h8fzHFdlQAo317b/OmVAKl3QXSRuZEDtPxYX6vFlQAz4On1A7WNAMzrjvGJ+ZEBNb4IIaxVjQP7GcJ971mNAiQTxhLWkZEDIQmCP3cRkQAgaxRm2W2RAbvIMEhm2ZEBDtke5aCpkQBmWKB2TOmRAoSMs0xHGYkCpmIelnvNjQFzG+Q0JYWNAqYxpvTWTY0B7eE8Fbs9jQFozEj6NKWRAWeNEiWBJY0DBchExvn1jQK6JgvDxx2RArVS9ZiesY0AHxGIn4XlkQGGhP/wXWGRAjAUSCsJsY0AMur4Y+7tjQPehZm0aSmRAdbTiSqrDZEA7NcohbtdjQAAAAAAAIGdAAAAAAACgZUAAAAAAAGBkQAAAAAAAQGRAAAAAAACAZUAAAAAAAOBjQAAAAAAAYGdAAAAAAACgZEAAAAAAAOBlQAAAAAAAQGRAAAAAAABgY0AAAAAAAABlQAAAAAAAYGZAAAAAAACAZUAAAAAAAOBjQAAAAAAAwGRAAAAAAACAY0AAAAAAAMBiQA==",
          "dtype": "f8"
         },
         "xaxis": "x",
         "y": {
          "bdata": "1MBg2eOyO0CIM8BL/PE6QPe7n0FK/ThAcQlviW0COkB+xYROP8c6QBfYfrpU/ztAXsNE/0WNO0AFSuSqN1M8QCK+FVbrejpANvlmiaFuO0BY18vQfkA6QNzkqN5FjjxA6a3b4Oh9OkBqU1e+3+46QJZKjg3GYDpAlNJYP+ZEPEDLX9O1Qz47QLQ0sCG6dzxAHTlJ4+6KPEAWhgixF7c7QHvfX/tWWTxAHY1hvu3YN0CozwDQGjM3QCaEqrFvdzhA8zuXIYwUN0A+cN3XMTQ4QJ5Beius/TdAxv0MH5rTN0BrHjaXNkc3QBE6lgsKOjdAmw1QQEM3NUBSGtOav0s3QEJsmkkxvTdAsQUsKsnIOEDa3GlLcZs2QLvTZZ91KzdARex/Dlf4N0DSuLbF9S03QJls87GAOThAyMsJZNE6OECXve/7EMk4QD5lYRAgnjdAh5pOvuUMOUBMSl7GjTo3QMOMOS6GBThA91jSp5loN0DdqxdyiDw3QMUd3oBMAzhA5Q8VucpDN0C2j0wazJg4QAAAAAAAADxAAAAAAACAOkAAAAAAAAA4QAAAAAAAgDhAAAAAAAAAO0AAAAAAAAA3QAAAAAAAAD1AAAAAAAAAOEAAAAAAAIA7QAAAAAAAADdAAAAAAAAANkAAAAAAAAA6QAAAAAAAADxAAAAAAACAO0AAAAAAAAA4QAAAAAAAgDhAAAAAAAAAOEAAAAAAAIA2QA==",
          "dtype": "f8"
         },
         "yaxis": "y"
        }
       ],
       "layout": {
        "legend": {
         "tracegroupgap": 0
        },
        "template": {
         "data": {
          "bar": [
           {
            "error_x": {
             "color": "#2a3f5f"
            },
            "error_y": {
             "color": "#2a3f5f"
            },
            "marker": {
             "line": {
              "color": "#E5ECF6",
              "width": 0.5
             },
             "pattern": {
              "fillmode": "overlay",
              "size": 10,
              "solidity": 0.2
             }
            },
            "type": "bar"
           }
          ],
          "barpolar": [
           {
            "marker": {
             "line": {
              "color": "#E5ECF6",
              "width": 0.5
             },
             "pattern": {
              "fillmode": "overlay",
              "size": 10,
              "solidity": 0.2
             }
            },
            "type": "barpolar"
           }
          ],
          "carpet": [
           {
            "aaxis": {
             "endlinecolor": "#2a3f5f",
             "gridcolor": "white",
             "linecolor": "white",
             "minorgridcolor": "white",
             "startlinecolor": "#2a3f5f"
            },
            "baxis": {
             "endlinecolor": "#2a3f5f",
             "gridcolor": "white",
             "linecolor": "white",
             "minorgridcolor": "white",
             "startlinecolor": "#2a3f5f"
            },
            "type": "carpet"
           }
          ],
          "choropleth": [
           {
            "colorbar": {
             "outlinewidth": 0,
             "ticks": ""
            },
            "type": "choropleth"
           }
          ],
          "contour": [
           {
            "colorbar": {
             "outlinewidth": 0,
             "ticks": ""
            },
            "colorscale": [
             [
              0,
              "#0d0887"
             ],
             [
              0.1111111111111111,
              "#46039f"
             ],
             [
              0.2222222222222222,
              "#7201a8"
             ],
             [
              0.3333333333333333,
              "#9c179e"
             ],
             [
              0.4444444444444444,
              "#bd3786"
             ],
             [
              0.5555555555555556,
              "#d8576b"
             ],
             [
              0.6666666666666666,
              "#ed7953"
             ],
             [
              0.7777777777777778,
              "#fb9f3a"
             ],
             [
              0.8888888888888888,
              "#fdca26"
             ],
             [
              1,
              "#f0f921"
             ]
            ],
            "type": "contour"
           }
          ],
          "contourcarpet": [
           {
            "colorbar": {
             "outlinewidth": 0,
             "ticks": ""
            },
            "type": "contourcarpet"
           }
          ],
          "heatmap": [
           {
            "colorbar": {
             "outlinewidth": 0,
             "ticks": ""
            },
            "colorscale": [
             [
              0,
              "#0d0887"
             ],
             [
              0.1111111111111111,
              "#46039f"
             ],
             [
              0.2222222222222222,
              "#7201a8"
             ],
             [
              0.3333333333333333,
              "#9c179e"
             ],
             [
              0.4444444444444444,
              "#bd3786"
             ],
             [
              0.5555555555555556,
              "#d8576b"
             ],
             [
              0.6666666666666666,
              "#ed7953"
             ],
             [
              0.7777777777777778,
              "#fb9f3a"
             ],
             [
              0.8888888888888888,
              "#fdca26"
             ],
             [
              1,
              "#f0f921"
             ]
            ],
            "type": "heatmap"
           }
          ],
          "histogram": [
           {
            "marker": {
             "pattern": {
              "fillmode": "overlay",
              "size": 10,
              "solidity": 0.2
             }
            },
            "type": "histogram"
           }
          ],
          "histogram2d": [
           {
            "colorbar": {
             "outlinewidth": 0,
             "ticks": ""
            },
            "colorscale": [
             [
              0,
              "#0d0887"
             ],
             [
              0.1111111111111111,
              "#46039f"
             ],
             [
              0.2222222222222222,
              "#7201a8"
             ],
             [
              0.3333333333333333,
              "#9c179e"
             ],
             [
              0.4444444444444444,
              "#bd3786"
             ],
             [
              0.5555555555555556,
              "#d8576b"
             ],
             [
              0.6666666666666666,
              "#ed7953"
             ],
             [
              0.7777777777777778,
              "#fb9f3a"
             ],
             [
              0.8888888888888888,
              "#fdca26"
             ],
             [
              1,
              "#f0f921"
             ]
            ],
            "type": "histogram2d"
           }
          ],
          "histogram2dcontour": [
           {
            "colorbar": {
             "outlinewidth": 0,
             "ticks": ""
            },
            "colorscale": [
             [
              0,
              "#0d0887"
             ],
             [
              0.1111111111111111,
              "#46039f"
             ],
             [
              0.2222222222222222,
              "#7201a8"
             ],
             [
              0.3333333333333333,
              "#9c179e"
             ],
             [
              0.4444444444444444,
              "#bd3786"
             ],
             [
              0.5555555555555556,
              "#d8576b"
             ],
             [
              0.6666666666666666,
              "#ed7953"
             ],
             [
              0.7777777777777778,
              "#fb9f3a"
             ],
             [
              0.8888888888888888,
              "#fdca26"
             ],
             [
              1,
              "#f0f921"
             ]
            ],
            "type": "histogram2dcontour"
           }
          ],
          "mesh3d": [
           {
            "colorbar": {
             "outlinewidth": 0,
             "ticks": ""
            },
            "type": "mesh3d"
           }
          ],
          "parcoords": [
           {
            "line": {
             "colorbar": {
              "outlinewidth": 0,
              "ticks": ""
             }
            },
            "type": "parcoords"
           }
          ],
          "pie": [
           {
            "automargin": true,
            "type": "pie"
           }
          ],
          "scatter": [
           {
            "fillpattern": {
             "fillmode": "overlay",
             "size": 10,
             "solidity": 0.2
            },
            "type": "scatter"
           }
          ],
          "scatter3d": [
           {
            "line": {
             "colorbar": {
              "outlinewidth": 0,
              "ticks": ""
             }
            },
            "marker": {
             "colorbar": {
              "outlinewidth": 0,
              "ticks": ""
             }
            },
            "type": "scatter3d"
           }
          ],
          "scattercarpet": [
           {
            "marker": {
             "colorbar": {
              "outlinewidth": 0,
              "ticks": ""
             }
            },
            "type": "scattercarpet"
           }
          ],
          "scattergeo": [
           {
            "marker": {
             "colorbar": {
              "outlinewidth": 0,
              "ticks": ""
             }
            },
            "type": "scattergeo"
           }
          ],
          "scattergl": [
           {
            "marker": {
             "colorbar": {
              "outlinewidth": 0,
              "ticks": ""
             }
            },
            "type": "scattergl"
           }
          ],
          "scattermap": [
           {
            "marker": {
             "colorbar": {
              "outlinewidth": 0,
              "ticks": ""
             }
            },
            "type": "scattermap"
           }
          ],
          "scattermapbox": [
           {
            "marker": {
             "colorbar": {
              "outlinewidth": 0,
              "ticks": ""
             }
            },
            "type": "scattermapbox"
           }
          ],
          "scatterpolar": [
           {
            "marker": {
             "colorbar": {
              "outlinewidth": 0,
              "ticks": ""
             }
            },
            "type": "scatterpolar"
           }
          ],
          "scatterpolargl": [
           {
            "marker": {
             "colorbar": {
              "outlinewidth": 0,
              "ticks": ""
             }
            },
            "type": "scatterpolargl"
           }
          ],
          "scatterternary": [
           {
            "marker": {
             "colorbar": {
              "outlinewidth": 0,
              "ticks": ""
             }
            },
            "type": "scatterternary"
           }
          ],
          "surface": [
           {
            "colorbar": {
             "outlinewidth": 0,
             "ticks": ""
            },
            "colorscale": [
             [
              0,
              "#0d0887"
             ],
             [
              0.1111111111111111,
              "#46039f"
             ],
             [
              0.2222222222222222,
              "#7201a8"
             ],
             [
              0.3333333333333333,
              "#9c179e"
             ],
             [
              0.4444444444444444,
              "#bd3786"
             ],
             [
              0.5555555555555556,
              "#d8576b"
             ],
             [
              0.6666666666666666,
              "#ed7953"
             ],
             [
              0.7777777777777778,
              "#fb9f3a"
             ],
             [
              0.8888888888888888,
              "#fdca26"
             ],
             [
              1,
              "#f0f921"
             ]
            ],
            "type": "surface"
           }
          ],
          "table": [
           {
            "cells": {
             "fill": {
              "color": "#EBF0F8"
             },
             "line": {
              "color": "white"
             }
            },
            "header": {
             "fill": {
              "color": "#C8D4E3"
             },
             "line": {
              "color": "white"
             }
            },
            "type": "table"
           }
          ]
         },
         "layout": {
          "annotationdefaults": {
           "arrowcolor": "#2a3f5f",
           "arrowhead": 0,
           "arrowwidth": 1
          },
          "autotypenumbers": "strict",
          "coloraxis": {
           "colorbar": {
            "outlinewidth": 0,
            "ticks": ""
           }
          },
          "colorscale": {
           "diverging": [
            [
             0,
             "#8e0152"
            ],
            [
             0.1,
             "#c51b7d"
            ],
            [
             0.2,
             "#de77ae"
            ],
            [
             0.3,
             "#f1b6da"
            ],
            [
             0.4,
             "#fde0ef"
            ],
            [
             0.5,
             "#f7f7f7"
            ],
            [
             0.6,
             "#e6f5d0"
            ],
            [
             0.7,
             "#b8e186"
            ],
            [
             0.8,
             "#7fbc41"
            ],
            [
             0.9,
             "#4d9221"
            ],
            [
             1,
             "#276419"
            ]
           ],
           "sequential": [
            [
             0,
             "#0d0887"
            ],
            [
             0.1111111111111111,
             "#46039f"
            ],
            [
             0.2222222222222222,
             "#7201a8"
            ],
            [
             0.3333333333333333,
             "#9c179e"
            ],
            [
             0.4444444444444444,
             "#bd3786"
            ],
            [
             0.5555555555555556,
             "#d8576b"
            ],
            [
             0.6666666666666666,
             "#ed7953"
            ],
            [
             0.7777777777777778,
             "#fb9f3a"
            ],
            [
             0.8888888888888888,
             "#fdca26"
            ],
            [
             1,
             "#f0f921"
            ]
           ],
           "sequentialminus": [
            [
             0,
             "#0d0887"
            ],
            [
             0.1111111111111111,
             "#46039f"
            ],
            [
             0.2222222222222222,
             "#7201a8"
            ],
            [
             0.3333333333333333,
             "#9c179e"
            ],
            [
             0.4444444444444444,
             "#bd3786"
            ],
            [
             0.5555555555555556,
             "#d8576b"
            ],
            [
             0.6666666666666666,
             "#ed7953"
            ],
            [
             0.7777777777777778,
             "#fb9f3a"
            ],
            [
             0.8888888888888888,
             "#fdca26"
            ],
            [
             1,
             "#f0f921"
            ]
           ]
          },
          "colorway": [
           "#636efa",
           "#EF553B",
           "#00cc96",
           "#ab63fa",
           "#FFA15A",
           "#19d3f3",
           "#FF6692",
           "#B6E880",
           "#FF97FF",
           "#FECB52"
          ],
          "font": {
           "color": "#2a3f5f"
          },
          "geo": {
           "bgcolor": "white",
           "lakecolor": "white",
           "landcolor": "#E5ECF6",
           "showlakes": true,
           "showland": true,
           "subunitcolor": "white"
          },
          "hoverlabel": {
           "align": "left"
          },
          "hovermode": "closest",
          "mapbox": {
           "style": "light"
          },
          "paper_bgcolor": "white",
          "plot_bgcolor": "#E5ECF6",
          "polar": {
           "angularaxis": {
            "gridcolor": "white",
            "linecolor": "white",
            "ticks": ""
           },
           "bgcolor": "#E5ECF6",
           "radialaxis": {
            "gridcolor": "white",
            "linecolor": "white",
            "ticks": ""
           }
          },
          "scene": {
           "xaxis": {
            "backgroundcolor": "#E5ECF6",
            "gridcolor": "white",
            "gridwidth": 2,
            "linecolor": "white",
            "showbackground": true,
            "ticks": "",
            "zerolinecolor": "white"
           },
           "yaxis": {
            "backgroundcolor": "#E5ECF6",
            "gridcolor": "white",
            "gridwidth": 2,
            "linecolor": "white",
            "showbackground": true,
            "ticks": "",
            "zerolinecolor": "white"
           },
           "zaxis": {
            "backgroundcolor": "#E5ECF6",
            "gridcolor": "white",
            "gridwidth": 2,
            "linecolor": "white",
            "showbackground": true,
            "ticks": "",
            "zerolinecolor": "white"
           }
          },
          "shapedefaults": {
           "line": {
            "color": "#2a3f5f"
           }
          },
          "ternary": {
           "aaxis": {
            "gridcolor": "white",
            "linecolor": "white",
            "ticks": ""
           },
           "baxis": {
            "gridcolor": "white",
            "linecolor": "white",
            "ticks": ""
           },
           "bgcolor": "#E5ECF6",
           "caxis": {
            "gridcolor": "white",
            "linecolor": "white",
            "ticks": ""
           }
          },
          "title": {
           "x": 0.05
          },
          "xaxis": {
           "automargin": true,
           "gridcolor": "white",
           "linecolor": "white",
           "ticks": "",
           "title": {
            "standoff": 15
           },
           "zerolinecolor": "white",
           "zerolinewidth": 2
          },
          "yaxis": {
           "automargin": true,
           "gridcolor": "white",
           "linecolor": "white",
           "ticks": "",
           "title": {
            "standoff": 15
           },
           "zerolinecolor": "white",
           "zerolinewidth": 2
          }
         }
        },
        "title": {
         "text": "Altura vs Pie"
        },
        "xaxis": {
         "anchor": "y",
         "domain": [
          0,
          1
         ],
         "title": {
          "text": "Altura (cm)"
         }
        },
        "yaxis": {
         "anchor": "x",
         "domain": [
          0,
          1
         ],
         "title": {
          "text": "Pie (cm)"
         }
        }
       }
      }
     },
     "metadata": {},
     "output_type": "display_data"
    }
   ],
   "source": [
    "fig1 = px.scatter(df, x=\"Altura\", y=\"Ancho\", \n",
    "                  title=\"Altura vs Ancho\", \n",
    "                  labels={\"Altura\": \"Altura (cm)\", \"Ancho\": \"Ancho (cm)\"},\n",
    "                  color_discrete_sequence=[\"blue\"])\n",
    "\n",
    "fig2 = px.scatter(df, x=\"Altura\", y=\"Pie\", \n",
    "                  title=\"Altura vs Pie\", \n",
    "                  labels={\"Altura\": \"Altura (cm)\", \"Pie\": \"Pie (cm)\"},\n",
    "                  color_discrete_sequence=[\"red\"])\n",
    "\n",
    "fig1.show()\n",
    "fig2.show()"
   ]
  },
  {
   "cell_type": "markdown",
   "metadata": {},
   "source": [
    "### **Modelo 1: Linnear Regression**"
   ]
  },
  {
   "cell_type": "code",
   "execution_count": 19,
   "metadata": {},
   "outputs": [],
   "source": [
    "from sklearn.model_selection import train_test_split\n",
    "from sklearn.metrics import mean_squared_error, r2_score\n",
    "from sklearn.model_selection import train_test_split"
   ]
  },
  {
   "cell_type": "code",
   "execution_count": 20,
   "metadata": {},
   "outputs": [],
   "source": [
    "X = df_ori[['Pie', 'Ancho']]\n",
    "y = df_ori['Altura']"
   ]
  },
  {
   "cell_type": "code",
   "execution_count": 21,
   "metadata": {},
   "outputs": [],
   "source": [
    "X_train, X_test, y_train, y_test = train_test_split(X, y, test_size=0.2, random_state=42)"
   ]
  },
  {
   "cell_type": "code",
   "execution_count": 22,
   "metadata": {},
   "outputs": [
    {
     "data": {
      "text/html": [
       "<style>#sk-container-id-2 {\n",
       "  /* Definition of color scheme common for light and dark mode */\n",
       "  --sklearn-color-text: #000;\n",
       "  --sklearn-color-text-muted: #666;\n",
       "  --sklearn-color-line: gray;\n",
       "  /* Definition of color scheme for unfitted estimators */\n",
       "  --sklearn-color-unfitted-level-0: #fff5e6;\n",
       "  --sklearn-color-unfitted-level-1: #f6e4d2;\n",
       "  --sklearn-color-unfitted-level-2: #ffe0b3;\n",
       "  --sklearn-color-unfitted-level-3: chocolate;\n",
       "  /* Definition of color scheme for fitted estimators */\n",
       "  --sklearn-color-fitted-level-0: #f0f8ff;\n",
       "  --sklearn-color-fitted-level-1: #d4ebff;\n",
       "  --sklearn-color-fitted-level-2: #b3dbfd;\n",
       "  --sklearn-color-fitted-level-3: cornflowerblue;\n",
       "\n",
       "  /* Specific color for light theme */\n",
       "  --sklearn-color-text-on-default-background: var(--sg-text-color, var(--theme-code-foreground, var(--jp-content-font-color1, black)));\n",
       "  --sklearn-color-background: var(--sg-background-color, var(--theme-background, var(--jp-layout-color0, white)));\n",
       "  --sklearn-color-border-box: var(--sg-text-color, var(--theme-code-foreground, var(--jp-content-font-color1, black)));\n",
       "  --sklearn-color-icon: #696969;\n",
       "\n",
       "  @media (prefers-color-scheme: dark) {\n",
       "    /* Redefinition of color scheme for dark theme */\n",
       "    --sklearn-color-text-on-default-background: var(--sg-text-color, var(--theme-code-foreground, var(--jp-content-font-color1, white)));\n",
       "    --sklearn-color-background: var(--sg-background-color, var(--theme-background, var(--jp-layout-color0, #111)));\n",
       "    --sklearn-color-border-box: var(--sg-text-color, var(--theme-code-foreground, var(--jp-content-font-color1, white)));\n",
       "    --sklearn-color-icon: #878787;\n",
       "  }\n",
       "}\n",
       "\n",
       "#sk-container-id-2 {\n",
       "  color: var(--sklearn-color-text);\n",
       "}\n",
       "\n",
       "#sk-container-id-2 pre {\n",
       "  padding: 0;\n",
       "}\n",
       "\n",
       "#sk-container-id-2 input.sk-hidden--visually {\n",
       "  border: 0;\n",
       "  clip: rect(1px 1px 1px 1px);\n",
       "  clip: rect(1px, 1px, 1px, 1px);\n",
       "  height: 1px;\n",
       "  margin: -1px;\n",
       "  overflow: hidden;\n",
       "  padding: 0;\n",
       "  position: absolute;\n",
       "  width: 1px;\n",
       "}\n",
       "\n",
       "#sk-container-id-2 div.sk-dashed-wrapped {\n",
       "  border: 1px dashed var(--sklearn-color-line);\n",
       "  margin: 0 0.4em 0.5em 0.4em;\n",
       "  box-sizing: border-box;\n",
       "  padding-bottom: 0.4em;\n",
       "  background-color: var(--sklearn-color-background);\n",
       "}\n",
       "\n",
       "#sk-container-id-2 div.sk-container {\n",
       "  /* jupyter's `normalize.less` sets `[hidden] { display: none; }`\n",
       "     but bootstrap.min.css set `[hidden] { display: none !important; }`\n",
       "     so we also need the `!important` here to be able to override the\n",
       "     default hidden behavior on the sphinx rendered scikit-learn.org.\n",
       "     See: https://github.com/scikit-learn/scikit-learn/issues/21755 */\n",
       "  display: inline-block !important;\n",
       "  position: relative;\n",
       "}\n",
       "\n",
       "#sk-container-id-2 div.sk-text-repr-fallback {\n",
       "  display: none;\n",
       "}\n",
       "\n",
       "div.sk-parallel-item,\n",
       "div.sk-serial,\n",
       "div.sk-item {\n",
       "  /* draw centered vertical line to link estimators */\n",
       "  background-image: linear-gradient(var(--sklearn-color-text-on-default-background), var(--sklearn-color-text-on-default-background));\n",
       "  background-size: 2px 100%;\n",
       "  background-repeat: no-repeat;\n",
       "  background-position: center center;\n",
       "}\n",
       "\n",
       "/* Parallel-specific style estimator block */\n",
       "\n",
       "#sk-container-id-2 div.sk-parallel-item::after {\n",
       "  content: \"\";\n",
       "  width: 100%;\n",
       "  border-bottom: 2px solid var(--sklearn-color-text-on-default-background);\n",
       "  flex-grow: 1;\n",
       "}\n",
       "\n",
       "#sk-container-id-2 div.sk-parallel {\n",
       "  display: flex;\n",
       "  align-items: stretch;\n",
       "  justify-content: center;\n",
       "  background-color: var(--sklearn-color-background);\n",
       "  position: relative;\n",
       "}\n",
       "\n",
       "#sk-container-id-2 div.sk-parallel-item {\n",
       "  display: flex;\n",
       "  flex-direction: column;\n",
       "}\n",
       "\n",
       "#sk-container-id-2 div.sk-parallel-item:first-child::after {\n",
       "  align-self: flex-end;\n",
       "  width: 50%;\n",
       "}\n",
       "\n",
       "#sk-container-id-2 div.sk-parallel-item:last-child::after {\n",
       "  align-self: flex-start;\n",
       "  width: 50%;\n",
       "}\n",
       "\n",
       "#sk-container-id-2 div.sk-parallel-item:only-child::after {\n",
       "  width: 0;\n",
       "}\n",
       "\n",
       "/* Serial-specific style estimator block */\n",
       "\n",
       "#sk-container-id-2 div.sk-serial {\n",
       "  display: flex;\n",
       "  flex-direction: column;\n",
       "  align-items: center;\n",
       "  background-color: var(--sklearn-color-background);\n",
       "  padding-right: 1em;\n",
       "  padding-left: 1em;\n",
       "}\n",
       "\n",
       "\n",
       "/* Toggleable style: style used for estimator/Pipeline/ColumnTransformer box that is\n",
       "clickable and can be expanded/collapsed.\n",
       "- Pipeline and ColumnTransformer use this feature and define the default style\n",
       "- Estimators will overwrite some part of the style using the `sk-estimator` class\n",
       "*/\n",
       "\n",
       "/* Pipeline and ColumnTransformer style (default) */\n",
       "\n",
       "#sk-container-id-2 div.sk-toggleable {\n",
       "  /* Default theme specific background. It is overwritten whether we have a\n",
       "  specific estimator or a Pipeline/ColumnTransformer */\n",
       "  background-color: var(--sklearn-color-background);\n",
       "}\n",
       "\n",
       "/* Toggleable label */\n",
       "#sk-container-id-2 label.sk-toggleable__label {\n",
       "  cursor: pointer;\n",
       "  display: flex;\n",
       "  width: 100%;\n",
       "  margin-bottom: 0;\n",
       "  padding: 0.5em;\n",
       "  box-sizing: border-box;\n",
       "  text-align: center;\n",
       "  align-items: start;\n",
       "  justify-content: space-between;\n",
       "  gap: 0.5em;\n",
       "}\n",
       "\n",
       "#sk-container-id-2 label.sk-toggleable__label .caption {\n",
       "  font-size: 0.6rem;\n",
       "  font-weight: lighter;\n",
       "  color: var(--sklearn-color-text-muted);\n",
       "}\n",
       "\n",
       "#sk-container-id-2 label.sk-toggleable__label-arrow:before {\n",
       "  /* Arrow on the left of the label */\n",
       "  content: \"▸\";\n",
       "  float: left;\n",
       "  margin-right: 0.25em;\n",
       "  color: var(--sklearn-color-icon);\n",
       "}\n",
       "\n",
       "#sk-container-id-2 label.sk-toggleable__label-arrow:hover:before {\n",
       "  color: var(--sklearn-color-text);\n",
       "}\n",
       "\n",
       "/* Toggleable content - dropdown */\n",
       "\n",
       "#sk-container-id-2 div.sk-toggleable__content {\n",
       "  max-height: 0;\n",
       "  max-width: 0;\n",
       "  overflow: hidden;\n",
       "  text-align: left;\n",
       "  /* unfitted */\n",
       "  background-color: var(--sklearn-color-unfitted-level-0);\n",
       "}\n",
       "\n",
       "#sk-container-id-2 div.sk-toggleable__content.fitted {\n",
       "  /* fitted */\n",
       "  background-color: var(--sklearn-color-fitted-level-0);\n",
       "}\n",
       "\n",
       "#sk-container-id-2 div.sk-toggleable__content pre {\n",
       "  margin: 0.2em;\n",
       "  border-radius: 0.25em;\n",
       "  color: var(--sklearn-color-text);\n",
       "  /* unfitted */\n",
       "  background-color: var(--sklearn-color-unfitted-level-0);\n",
       "}\n",
       "\n",
       "#sk-container-id-2 div.sk-toggleable__content.fitted pre {\n",
       "  /* unfitted */\n",
       "  background-color: var(--sklearn-color-fitted-level-0);\n",
       "}\n",
       "\n",
       "#sk-container-id-2 input.sk-toggleable__control:checked~div.sk-toggleable__content {\n",
       "  /* Expand drop-down */\n",
       "  max-height: 200px;\n",
       "  max-width: 100%;\n",
       "  overflow: auto;\n",
       "}\n",
       "\n",
       "#sk-container-id-2 input.sk-toggleable__control:checked~label.sk-toggleable__label-arrow:before {\n",
       "  content: \"▾\";\n",
       "}\n",
       "\n",
       "/* Pipeline/ColumnTransformer-specific style */\n",
       "\n",
       "#sk-container-id-2 div.sk-label input.sk-toggleable__control:checked~label.sk-toggleable__label {\n",
       "  color: var(--sklearn-color-text);\n",
       "  background-color: var(--sklearn-color-unfitted-level-2);\n",
       "}\n",
       "\n",
       "#sk-container-id-2 div.sk-label.fitted input.sk-toggleable__control:checked~label.sk-toggleable__label {\n",
       "  background-color: var(--sklearn-color-fitted-level-2);\n",
       "}\n",
       "\n",
       "/* Estimator-specific style */\n",
       "\n",
       "/* Colorize estimator box */\n",
       "#sk-container-id-2 div.sk-estimator input.sk-toggleable__control:checked~label.sk-toggleable__label {\n",
       "  /* unfitted */\n",
       "  background-color: var(--sklearn-color-unfitted-level-2);\n",
       "}\n",
       "\n",
       "#sk-container-id-2 div.sk-estimator.fitted input.sk-toggleable__control:checked~label.sk-toggleable__label {\n",
       "  /* fitted */\n",
       "  background-color: var(--sklearn-color-fitted-level-2);\n",
       "}\n",
       "\n",
       "#sk-container-id-2 div.sk-label label.sk-toggleable__label,\n",
       "#sk-container-id-2 div.sk-label label {\n",
       "  /* The background is the default theme color */\n",
       "  color: var(--sklearn-color-text-on-default-background);\n",
       "}\n",
       "\n",
       "/* On hover, darken the color of the background */\n",
       "#sk-container-id-2 div.sk-label:hover label.sk-toggleable__label {\n",
       "  color: var(--sklearn-color-text);\n",
       "  background-color: var(--sklearn-color-unfitted-level-2);\n",
       "}\n",
       "\n",
       "/* Label box, darken color on hover, fitted */\n",
       "#sk-container-id-2 div.sk-label.fitted:hover label.sk-toggleable__label.fitted {\n",
       "  color: var(--sklearn-color-text);\n",
       "  background-color: var(--sklearn-color-fitted-level-2);\n",
       "}\n",
       "\n",
       "/* Estimator label */\n",
       "\n",
       "#sk-container-id-2 div.sk-label label {\n",
       "  font-family: monospace;\n",
       "  font-weight: bold;\n",
       "  display: inline-block;\n",
       "  line-height: 1.2em;\n",
       "}\n",
       "\n",
       "#sk-container-id-2 div.sk-label-container {\n",
       "  text-align: center;\n",
       "}\n",
       "\n",
       "/* Estimator-specific */\n",
       "#sk-container-id-2 div.sk-estimator {\n",
       "  font-family: monospace;\n",
       "  border: 1px dotted var(--sklearn-color-border-box);\n",
       "  border-radius: 0.25em;\n",
       "  box-sizing: border-box;\n",
       "  margin-bottom: 0.5em;\n",
       "  /* unfitted */\n",
       "  background-color: var(--sklearn-color-unfitted-level-0);\n",
       "}\n",
       "\n",
       "#sk-container-id-2 div.sk-estimator.fitted {\n",
       "  /* fitted */\n",
       "  background-color: var(--sklearn-color-fitted-level-0);\n",
       "}\n",
       "\n",
       "/* on hover */\n",
       "#sk-container-id-2 div.sk-estimator:hover {\n",
       "  /* unfitted */\n",
       "  background-color: var(--sklearn-color-unfitted-level-2);\n",
       "}\n",
       "\n",
       "#sk-container-id-2 div.sk-estimator.fitted:hover {\n",
       "  /* fitted */\n",
       "  background-color: var(--sklearn-color-fitted-level-2);\n",
       "}\n",
       "\n",
       "/* Specification for estimator info (e.g. \"i\" and \"?\") */\n",
       "\n",
       "/* Common style for \"i\" and \"?\" */\n",
       "\n",
       ".sk-estimator-doc-link,\n",
       "a:link.sk-estimator-doc-link,\n",
       "a:visited.sk-estimator-doc-link {\n",
       "  float: right;\n",
       "  font-size: smaller;\n",
       "  line-height: 1em;\n",
       "  font-family: monospace;\n",
       "  background-color: var(--sklearn-color-background);\n",
       "  border-radius: 1em;\n",
       "  height: 1em;\n",
       "  width: 1em;\n",
       "  text-decoration: none !important;\n",
       "  margin-left: 0.5em;\n",
       "  text-align: center;\n",
       "  /* unfitted */\n",
       "  border: var(--sklearn-color-unfitted-level-1) 1pt solid;\n",
       "  color: var(--sklearn-color-unfitted-level-1);\n",
       "}\n",
       "\n",
       ".sk-estimator-doc-link.fitted,\n",
       "a:link.sk-estimator-doc-link.fitted,\n",
       "a:visited.sk-estimator-doc-link.fitted {\n",
       "  /* fitted */\n",
       "  border: var(--sklearn-color-fitted-level-1) 1pt solid;\n",
       "  color: var(--sklearn-color-fitted-level-1);\n",
       "}\n",
       "\n",
       "/* On hover */\n",
       "div.sk-estimator:hover .sk-estimator-doc-link:hover,\n",
       ".sk-estimator-doc-link:hover,\n",
       "div.sk-label-container:hover .sk-estimator-doc-link:hover,\n",
       ".sk-estimator-doc-link:hover {\n",
       "  /* unfitted */\n",
       "  background-color: var(--sklearn-color-unfitted-level-3);\n",
       "  color: var(--sklearn-color-background);\n",
       "  text-decoration: none;\n",
       "}\n",
       "\n",
       "div.sk-estimator.fitted:hover .sk-estimator-doc-link.fitted:hover,\n",
       ".sk-estimator-doc-link.fitted:hover,\n",
       "div.sk-label-container:hover .sk-estimator-doc-link.fitted:hover,\n",
       ".sk-estimator-doc-link.fitted:hover {\n",
       "  /* fitted */\n",
       "  background-color: var(--sklearn-color-fitted-level-3);\n",
       "  color: var(--sklearn-color-background);\n",
       "  text-decoration: none;\n",
       "}\n",
       "\n",
       "/* Span, style for the box shown on hovering the info icon */\n",
       ".sk-estimator-doc-link span {\n",
       "  display: none;\n",
       "  z-index: 9999;\n",
       "  position: relative;\n",
       "  font-weight: normal;\n",
       "  right: .2ex;\n",
       "  padding: .5ex;\n",
       "  margin: .5ex;\n",
       "  width: min-content;\n",
       "  min-width: 20ex;\n",
       "  max-width: 50ex;\n",
       "  color: var(--sklearn-color-text);\n",
       "  box-shadow: 2pt 2pt 4pt #999;\n",
       "  /* unfitted */\n",
       "  background: var(--sklearn-color-unfitted-level-0);\n",
       "  border: .5pt solid var(--sklearn-color-unfitted-level-3);\n",
       "}\n",
       "\n",
       ".sk-estimator-doc-link.fitted span {\n",
       "  /* fitted */\n",
       "  background: var(--sklearn-color-fitted-level-0);\n",
       "  border: var(--sklearn-color-fitted-level-3);\n",
       "}\n",
       "\n",
       ".sk-estimator-doc-link:hover span {\n",
       "  display: block;\n",
       "}\n",
       "\n",
       "/* \"?\"-specific style due to the `<a>` HTML tag */\n",
       "\n",
       "#sk-container-id-2 a.estimator_doc_link {\n",
       "  float: right;\n",
       "  font-size: 1rem;\n",
       "  line-height: 1em;\n",
       "  font-family: monospace;\n",
       "  background-color: var(--sklearn-color-background);\n",
       "  border-radius: 1rem;\n",
       "  height: 1rem;\n",
       "  width: 1rem;\n",
       "  text-decoration: none;\n",
       "  /* unfitted */\n",
       "  color: var(--sklearn-color-unfitted-level-1);\n",
       "  border: var(--sklearn-color-unfitted-level-1) 1pt solid;\n",
       "}\n",
       "\n",
       "#sk-container-id-2 a.estimator_doc_link.fitted {\n",
       "  /* fitted */\n",
       "  border: var(--sklearn-color-fitted-level-1) 1pt solid;\n",
       "  color: var(--sklearn-color-fitted-level-1);\n",
       "}\n",
       "\n",
       "/* On hover */\n",
       "#sk-container-id-2 a.estimator_doc_link:hover {\n",
       "  /* unfitted */\n",
       "  background-color: var(--sklearn-color-unfitted-level-3);\n",
       "  color: var(--sklearn-color-background);\n",
       "  text-decoration: none;\n",
       "}\n",
       "\n",
       "#sk-container-id-2 a.estimator_doc_link.fitted:hover {\n",
       "  /* fitted */\n",
       "  background-color: var(--sklearn-color-fitted-level-3);\n",
       "}\n",
       "</style><div id=\"sk-container-id-2\" class=\"sk-top-container\"><div class=\"sk-text-repr-fallback\"><pre>LinearRegression(positive=True)</pre><b>In a Jupyter environment, please rerun this cell to show the HTML representation or trust the notebook. <br />On GitHub, the HTML representation is unable to render, please try loading this page with nbviewer.org.</b></div><div class=\"sk-container\" hidden><div class=\"sk-item\"><div class=\"sk-estimator fitted sk-toggleable\"><input class=\"sk-toggleable__control sk-hidden--visually\" id=\"sk-estimator-id-4\" type=\"checkbox\" checked><label for=\"sk-estimator-id-4\" class=\"sk-toggleable__label fitted sk-toggleable__label-arrow\"><div><div>LinearRegression</div></div><div><a class=\"sk-estimator-doc-link fitted\" rel=\"noreferrer\" target=\"_blank\" href=\"https://scikit-learn.org/1.6/modules/generated/sklearn.linear_model.LinearRegression.html\">?<span>Documentation for LinearRegression</span></a><span class=\"sk-estimator-doc-link fitted\">i<span>Fitted</span></span></div></label><div class=\"sk-toggleable__content fitted\"><pre>LinearRegression(positive=True)</pre></div> </div></div></div></div>"
      ],
      "text/plain": [
       "LinearRegression(positive=True)"
      ]
     },
     "execution_count": 22,
     "metadata": {},
     "output_type": "execute_result"
    }
   ],
   "source": [
    "model = LinearRegression(positive=True)\n",
    "model.fit(X_train, y_train)"
   ]
  },
  {
   "cell_type": "code",
   "execution_count": 23,
   "metadata": {},
   "outputs": [],
   "source": [
    "y_pred = model.predict(X_test)"
   ]
  },
  {
   "cell_type": "code",
   "execution_count": 24,
   "metadata": {},
   "outputs": [
    {
     "name": "stdout",
     "output_type": "stream",
     "text": [
      "Shape de y_pred (4,)\n"
     ]
    }
   ],
   "source": [
    "print(f'Shape de y_pred {y_pred.shape}')"
   ]
  },
  {
   "cell_type": "code",
   "execution_count": 25,
   "metadata": {},
   "outputs": [
    {
     "name": "stdout",
     "output_type": "stream",
     "text": [
      "El r2: 0.846\n",
      "El rmse: 3.635\n"
     ]
    }
   ],
   "source": [
    "r2 = r2_score(y_test, y_pred)\n",
    "rmse = np.sqrt(mean_squared_error(y_test, y_pred))\n",
    "print(f'El r2: {r2:.3f}')\n",
    "print(f'El rmse: {rmse:.3f}')"
   ]
  },
  {
   "cell_type": "code",
   "execution_count": 26,
   "metadata": {},
   "outputs": [
    {
     "data": {
      "image/png": "[encoded data removed]",
      "text/plain": [
       "<Figure size 1000x600 with 1 Axes>"
      ]
     },
     "metadata": {},
     "output_type": "display_data"
    }
   ],
   "source": [
    "plt.figure(figsize=(10, 6))\n",
    "sns.scatterplot(x=y_test, y=y_pred)\n",
    "plt.plot([y_test.min(), y_test.max()], [y_test.min(), y_test.max()], color='red', linestyle='--')  # Línea de identidad\n",
    "plt.title(f\"Modelo de Regresión Lineal\\n$R^2 = {r2:.3f}$, RMSE = {rmse:.3f}\")\n",
    "plt.xlabel(\"Altura Real\")\n",
    "plt.ylabel(\"Altura Predicha\")\n",
    "plt.show()"
   ]
  },
  {
   "cell_type": "code",
   "execution_count": 27,
   "metadata": {},
   "outputs": [
    {
     "data": {
      "text/plain": [
       "array([4.26666667, 0.        ])"
      ]
     },
     "execution_count": 27,
     "metadata": {},
     "output_type": "execute_result"
    }
   ],
   "source": [
    "model.coef_"
   ]
  },
  {
   "cell_type": "markdown",
   "metadata": {},
   "source": [
    "### **Modelo 2: Lineal Dividido**"
   ]
  },
  {
   "cell_type": "code",
   "execution_count": 28,
   "metadata": {},
   "outputs": [],
   "source": [
    "altura_median = df['Altura'].median()\n",
    "\n",
    "df_bajo = df[df['Altura'] <= altura_median]\n",
    "df_alto = df[df['Altura'] > altura_median]"
   ]
  },
  {
   "cell_type": "code",
   "execution_count": 29,
   "metadata": {},
   "outputs": [
    {
     "data": {
      "application/vnd.plotly.v1+json": {
       "config": {
        "plotlyServerURL": "https://plot.ly"
       },
       "data": [
        {
         "hovertemplate": "Altura (cm)=%{x}<br>Ancho (cm)=%{y}<extra></extra>",
         "legendgroup": "",
         "marker": {
          "color": "blue",
          "symbol": "circle"
         },
         "mode": "markers",
         "name": "",
         "orientation": "v",
         "showlegend": false,
         "type": "scatter",
         "x": {
          "bdata": "Y1ZojSRdZEAqXdBdJG5kQAz4On1A7WNAMzrjvGJ+ZEBNb4IIaxVjQP7GcJ971mNAiQTxhLWkZEAIGsUZtltkQEO2R7loKmRAGZYoHZM6ZEChIyzTEcZiQKmYh6We82NAXMb5DQlhY0CpjGm9NZNjQHt4TwVuz2NAWjMSPo0pZEBZ40SJYEljQMFyETG+fWNArVS9ZiesY0AHxGIn4XlkQGGhP/wXWGRAjAUSCsJsY0AMur4Y+7tjQPehZm0aSmRAOzXKIW7XY0AAAAAAAGBkQAAAAAAAQGRAAAAAAADgY0AAAAAAAKBkQAAAAAAAQGRAAAAAAABgY0AAAAAAAOBjQAAAAAAAgGNAAAAAAADAYkA=",
          "dtype": "f8"
         },
         "xaxis": "x",
         "y": {
          "bdata": "VAgdXqbYR0B6qxm/WQ9GQFPXi+FdoUJA9MXrC4hSREB8X68NBV9DQASoQ0MzzENAV1gFY0WaREA9B55Yff9DQFgBNmSl1UNACeEAu8YaREBh3e70rjBDQIVKa1KdVEJAvaX8a6RrREC6hMVF/k1EQOaubbKon0NA7ySgYpVKREBiXhDXNmNDQDVRb0/I7UVAu6ZE2e9iRUC6VPfgj09EQNEUTWJh3EJAxLvL8sMHRUCrEoE3BUJDQGsDxfxMh0VAWVx5wvOaQkAAAAAAAABGQAAAAAAAAEZAAAAAAAAAREAAAAAAAABEQAAAAAAAAEZAAAAAAAAAREAAAAAAAABDQAAAAAAAAENAAAAAAACAQ0A=",
          "dtype": "f8"
         },
         "yaxis": "y"
        }
       ],
       "layout": {
        "legend": {
         "tracegroupgap": 0
        },
        "template": {
         "data": {
          "bar": [
           {
            "error_x": {
             "color": "#2a3f5f"
            },
            "error_y": {
             "color": "#2a3f5f"
            },
            "marker": {
             "line": {
              "color": "#E5ECF6",
              "width": 0.5
             },
             "pattern": {
              "fillmode": "overlay",
              "size": 10,
              "solidity": 0.2
             }
            },
            "type": "bar"
           }
          ],
          "barpolar": [
           {
            "marker": {
             "line": {
              "color": "#E5ECF6",
              "width": 0.5
             },
             "pattern": {
              "fillmode": "overlay",
              "size": 10,
              "solidity": 0.2
             }
            },
            "type": "barpolar"
           }
          ],
          "carpet": [
           {
            "aaxis": {
             "endlinecolor": "#2a3f5f",
             "gridcolor": "white",
             "linecolor": "white",
             "minorgridcolor": "white",
             "startlinecolor": "#2a3f5f"
            },
            "baxis": {
             "endlinecolor": "#2a3f5f",
             "gridcolor": "white",
             "linecolor": "white",
             "minorgridcolor": "white",
             "startlinecolor": "#2a3f5f"
            },
            "type": "carpet"
           }
          ],
          "choropleth": [
           {
            "colorbar": {
             "outlinewidth": 0,
             "ticks": ""
            },
            "type": "choropleth"
           }
          ],
          "contour": [
           {
            "colorbar": {
             "outlinewidth": 0,
             "ticks": ""
            },
            "colorscale": [
             [
              0,
              "#0d0887"
             ],
             [
              0.1111111111111111,
              "#46039f"
             ],
             [
              0.2222222222222222,
              "#7201a8"
             ],
             [
              0.3333333333333333,
              "#9c179e"
             ],
             [
              0.4444444444444444,
              "#bd3786"
             ],
             [
              0.5555555555555556,
              "#d8576b"
             ],
             [
              0.6666666666666666,
              "#ed7953"
             ],
             [
              0.7777777777777778,
              "#fb9f3a"
             ],
             [
              0.8888888888888888,
              "#fdca26"
             ],
             [
              1,
              "#f0f921"
             ]
            ],
            "type": "contour"
           }
          ],
          "contourcarpet": [
           {
            "colorbar": {
             "outlinewidth": 0,
             "ticks": ""
            },
            "type": "contourcarpet"
           }
          ],
          "heatmap": [
           {
            "colorbar": {
             "outlinewidth": 0,
             "ticks": ""
            },
            "colorscale": [
             [
              0,
              "#0d0887"
             ],
             [
              0.1111111111111111,
              "#46039f"
             ],
             [
              0.2222222222222222,
              "#7201a8"
             ],
             [
              0.3333333333333333,
              "#9c179e"
             ],
             [
              0.4444444444444444,
              "#bd3786"
             ],
             [
              0.5555555555555556,
              "#d8576b"
             ],
             [
              0.6666666666666666,
              "#ed7953"
             ],
             [
              0.7777777777777778,
              "#fb9f3a"
             ],
             [
              0.8888888888888888,
              "#fdca26"
             ],
             [
              1,
              "#f0f921"
             ]
            ],
            "type": "heatmap"
           }
          ],
          "histogram": [
           {
            "marker": {
             "pattern": {
              "fillmode": "overlay",
              "size": 10,
              "solidity": 0.2
             }
            },
            "type": "histogram"
           }
          ],
          "histogram2d": [
           {
            "colorbar": {
             "outlinewidth": 0,
             "ticks": ""
            },
            "colorscale": [
             [
              0,
              "#0d0887"
             ],
             [
              0.1111111111111111,
              "#46039f"
             ],
             [
              0.2222222222222222,
              "#7201a8"
             ],
             [
              0.3333333333333333,
              "#9c179e"
             ],
             [
              0.4444444444444444,
              "#bd3786"
             ],
             [
              0.5555555555555556,
              "#d8576b"
             ],
             [
              0.6666666666666666,
              "#ed7953"
             ],
             [
              0.7777777777777778,
              "#fb9f3a"
             ],
             [
              0.8888888888888888,
              "#fdca26"
             ],
             [
              1,
              "#f0f921"
             ]
            ],
            "type": "histogram2d"
           }
          ],
          "histogram2dcontour": [
           {
            "colorbar": {
             "outlinewidth": 0,
             "ticks": ""
            },
            "colorscale": [
             [
              0,
              "#0d0887"
             ],
             [
              0.1111111111111111,
              "#46039f"
             ],
             [
              0.2222222222222222,
              "#7201a8"
             ],
             [
              0.3333333333333333,
              "#9c179e"
             ],
             [
              0.4444444444444444,
              "#bd3786"
             ],
             [
              0.5555555555555556,
              "#d8576b"
             ],
             [
              0.6666666666666666,
              "#ed7953"
             ],
             [
              0.7777777777777778,
              "#fb9f3a"
             ],
             [
              0.8888888888888888,
              "#fdca26"
             ],
             [
              1,
              "#f0f921"
             ]
            ],
            "type": "histogram2dcontour"
           }
          ],
          "mesh3d": [
           {
            "colorbar": {
             "outlinewidth": 0,
             "ticks": ""
            },
            "type": "mesh3d"
           }
          ],
          "parcoords": [
           {
            "line": {
             "colorbar": {
              "outlinewidth": 0,
              "ticks": ""
             }
            },
            "type": "parcoords"
           }
          ],
          "pie": [
           {
            "automargin": true,
            "type": "pie"
           }
          ],
          "scatter": [
           {
            "fillpattern": {
             "fillmode": "overlay",
             "size": 10,
             "solidity": 0.2
            },
            "type": "scatter"
           }
          ],
          "scatter3d": [
           {
            "line": {
             "colorbar": {
              "outlinewidth": 0,
              "ticks": ""
             }
            },
            "marker": {
             "colorbar": {
              "outlinewidth": 0,
              "ticks": ""
             }
            },
            "type": "scatter3d"
           }
          ],
          "scattercarpet": [
           {
            "marker": {
             "colorbar": {
              "outlinewidth": 0,
              "ticks": ""
             }
            },
            "type": "scattercarpet"
           }
          ],
          "scattergeo": [
           {
            "marker": {
             "colorbar": {
              "outlinewidth": 0,
              "ticks": ""
             }
            },
            "type": "scattergeo"
           }
          ],
          "scattergl": [
           {
            "marker": {
             "colorbar": {
              "outlinewidth": 0,
              "ticks": ""
             }
            },
            "type": "scattergl"
           }
          ],
          "scattermap": [
           {
            "marker": {
             "colorbar": {
              "outlinewidth": 0,
              "ticks": ""
             }
            },
            "type": "scattermap"
           }
          ],
          "scattermapbox": [
           {
            "marker": {
             "colorbar": {
              "outlinewidth": 0,
              "ticks": ""
             }
            },
            "type": "scattermapbox"
           }
          ],
          "scatterpolar": [
           {
            "marker": {
             "colorbar": {
              "outlinewidth": 0,
              "ticks": ""
             }
            },
            "type": "scatterpolar"
           }
          ],
          "scatterpolargl": [
           {
            "marker": {
             "colorbar": {
              "outlinewidth": 0,
              "ticks": ""
             }
            },
            "type": "scatterpolargl"
           }
          ],
          "scatterternary": [
           {
            "marker": {
             "colorbar": {
              "outlinewidth": 0,
              "ticks": ""
             }
            },
            "type": "scatterternary"
           }
          ],
          "surface": [
           {
            "colorbar": {
             "outlinewidth": 0,
             "ticks": ""
            },
            "colorscale": [
             [
              0,
              "#0d0887"
             ],
             [
              0.1111111111111111,
              "#46039f"
             ],
             [
              0.2222222222222222,
              "#7201a8"
             ],
             [
              0.3333333333333333,
              "#9c179e"
             ],
             [
              0.4444444444444444,
              "#bd3786"
             ],
             [
              0.5555555555555556,
              "#d8576b"
             ],
             [
              0.6666666666666666,
              "#ed7953"
             ],
             [
              0.7777777777777778,
              "#fb9f3a"
             ],
             [
              0.8888888888888888,
              "#fdca26"
             ],
             [
              1,
              "#f0f921"
             ]
            ],
            "type": "surface"
           }
          ],
          "table": [
           {
            "cells": {
             "fill": {
              "color": "#EBF0F8"
             },
             "line": {
              "color": "white"
             }
            },
            "header": {
             "fill": {
              "color": "#C8D4E3"
             },
             "line": {
              "color": "white"
             }
            },
            "type": "table"
           }
          ]
         },
         "layout": {
          "annotationdefaults": {
           "arrowcolor": "#2a3f5f",
           "arrowhead": 0,
           "arrowwidth": 1
          },
          "autotypenumbers": "strict",
          "coloraxis": {
           "colorbar": {
            "outlinewidth": 0,
            "ticks": ""
           }
          },
          "colorscale": {
           "diverging": [
            [
             0,
             "#8e0152"
            ],
            [
             0.1,
             "#c51b7d"
            ],
            [
             0.2,
             "#de77ae"
            ],
            [
             0.3,
             "#f1b6da"
            ],
            [
             0.4,
             "#fde0ef"
            ],
            [
             0.5,
             "#f7f7f7"
            ],
            [
             0.6,
             "#e6f5d0"
            ],
            [
             0.7,
             "#b8e186"
            ],
            [
             0.8,
             "#7fbc41"
            ],
            [
             0.9,
             "#4d9221"
            ],
            [
             1,
             "#276419"
            ]
           ],
           "sequential": [
            [
             0,
             "#0d0887"
            ],
            [
             0.1111111111111111,
             "#46039f"
            ],
            [
             0.2222222222222222,
             "#7201a8"
            ],
            [
             0.3333333333333333,
             "#9c179e"
            ],
            [
             0.4444444444444444,
             "#bd3786"
            ],
            [
             0.5555555555555556,
             "#d8576b"
            ],
            [
             0.6666666666666666,
             "#ed7953"
            ],
            [
             0.7777777777777778,
             "#fb9f3a"
            ],
            [
             0.8888888888888888,
             "#fdca26"
            ],
            [
             1,
             "#f0f921"
            ]
           ],
           "sequentialminus": [
            [
             0,
             "#0d0887"
            ],
            [
             0.1111111111111111,
             "#46039f"
            ],
            [
             0.2222222222222222,
             "#7201a8"
            ],
            [
             0.3333333333333333,
             "#9c179e"
            ],
            [
             0.4444444444444444,
             "#bd3786"
            ],
            [
             0.5555555555555556,
             "#d8576b"
            ],
            [
             0.6666666666666666,
             "#ed7953"
            ],
            [
             0.7777777777777778,
             "#fb9f3a"
            ],
            [
             0.8888888888888888,
             "#fdca26"
            ],
            [
             1,
             "#f0f921"
            ]
           ]
          },
          "colorway": [
           "#636efa",
           "#EF553B",
           "#00cc96",
           "#ab63fa",
           "#FFA15A",
           "#19d3f3",
           "#FF6692",
           "#B6E880",
           "#FF97FF",
           "#FECB52"
          ],
          "font": {
           "color": "#2a3f5f"
          },
          "geo": {
           "bgcolor": "white",
           "lakecolor": "white",
           "landcolor": "#E5ECF6",
           "showlakes": true,
           "showland": true,
           "subunitcolor": "white"
          },
          "hoverlabel": {
           "align": "left"
          },
          "hovermode": "closest",
          "mapbox": {
           "style": "light"
          },
          "paper_bgcolor": "white",
          "plot_bgcolor": "#E5ECF6",
          "polar": {
           "angularaxis": {
            "gridcolor": "white",
            "linecolor": "white",
            "ticks": ""
           },
           "bgcolor": "#E5ECF6",
           "radialaxis": {
            "gridcolor": "white",
            "linecolor": "white",
            "ticks": ""
           }
          },
          "scene": {
           "xaxis": {
            "backgroundcolor": "#E5ECF6",
            "gridcolor": "white",
            "gridwidth": 2,
            "linecolor": "white",
            "showbackground": true,
            "ticks": "",
            "zerolinecolor": "white"
           },
           "yaxis": {
            "backgroundcolor": "#E5ECF6",
            "gridcolor": "white",
            "gridwidth": 2,
            "linecolor": "white",
            "showbackground": true,
            "ticks": "",
            "zerolinecolor": "white"
           },
           "zaxis": {
            "backgroundcolor": "#E5ECF6",
            "gridcolor": "white",
            "gridwidth": 2,
            "linecolor": "white",
            "showbackground": true,
            "ticks": "",
            "zerolinecolor": "white"
           }
          },
          "shapedefaults": {
           "line": {
            "color": "#2a3f5f"
           }
          },
          "ternary": {
           "aaxis": {
            "gridcolor": "white",
            "linecolor": "white",
            "ticks": ""
           },
           "baxis": {
            "gridcolor": "white",
            "linecolor": "white",
            "ticks": ""
           },
           "bgcolor": "#E5ECF6",
           "caxis": {
            "gridcolor": "white",
            "linecolor": "white",
            "ticks": ""
           }
          },
          "title": {
           "x": 0.05
          },
          "xaxis": {
           "automargin": true,
           "gridcolor": "white",
           "linecolor": "white",
           "ticks": "",
           "title": {
            "standoff": 15
           },
           "zerolinecolor": "white",
           "zerolinewidth": 2
          },
          "yaxis": {
           "automargin": true,
           "gridcolor": "white",
           "linecolor": "white",
           "ticks": "",
           "title": {
            "standoff": 15
           },
           "zerolinecolor": "white",
           "zerolinewidth": 2
          }
         }
        },
        "title": {
         "text": "Altura vs Ancho Grupo Bajo"
        },
        "xaxis": {
         "anchor": "y",
         "domain": [
          0,
          1
         ],
         "title": {
          "text": "Altura (cm)"
         }
        },
        "yaxis": {
         "anchor": "x",
         "domain": [
          0,
          1
         ],
         "title": {
          "text": "Ancho (cm)"
         }
        }
       }
      }
     },
     "metadata": {},
     "output_type": "display_data"
    },
    {
     "data": {
      "application/vnd.plotly.v1+json": {
       "config": {
        "plotlyServerURL": "https://plot.ly"
       },
       "data": [
        {
         "hovertemplate": "Altura (cm)=%{x}<br>Pie (cm)=%{y}<extra></extra>",
         "legendgroup": "",
         "marker": {
          "color": "red",
          "symbol": "circle"
         },
         "mode": "markers",
         "name": "",
         "orientation": "v",
         "showlegend": false,
         "type": "scatter",
         "x": {
          "bdata": "Y1ZojSRdZEAqXdBdJG5kQAz4On1A7WNAMzrjvGJ+ZEBNb4IIaxVjQP7GcJ971mNAiQTxhLWkZEAIGsUZtltkQEO2R7loKmRAGZYoHZM6ZEChIyzTEcZiQKmYh6We82NAXMb5DQlhY0CpjGm9NZNjQHt4TwVuz2NAWjMSPo0pZEBZ40SJYEljQMFyETG+fWNArVS9ZiesY0AHxGIn4XlkQGGhP/wXWGRAjAUSCsJsY0AMur4Y+7tjQPehZm0aSmRAOzXKIW7XY0AAAAAAAGBkQAAAAAAAQGRAAAAAAADgY0AAAAAAAKBkQAAAAAAAQGRAAAAAAABgY0AAAAAAAOBjQAAAAAAAgGNAAAAAAADAYkA=",
          "dtype": "f8"
         },
         "xaxis": "x",
         "y": {
          "bdata": "F9h+ulT/O0AdjWG+7dg3QCaEqrFvdzhA8zuXIYwUN0A+cN3XMTQ4QJ5Beius/TdAxv0MH5rTN0AROpYLCjo3QFIa05q/SzdAQmyaSTG9N0CxBSwqycg4QNrcaUtxmzZAu9Nln3UrN0BF7H8OV/g3QNK4tsX1LTdAmWzzsYA5OEDIywlk0To4QJe97/sQyThAh5pOvuUMOUBMSl7GjTo3QMOMOS6GBThA91jSp5loN0DdqxdyiDw3QMUd3oBMAzhAto9MGsyYOEAAAAAAAAA4QAAAAAAAgDhAAAAAAAAAN0AAAAAAAAA4QAAAAAAAADdAAAAAAAAANkAAAAAAAAA4QAAAAAAAADhAAAAAAACANkA=",
          "dtype": "f8"
         },
         "yaxis": "y"
        }
       ],
       "layout": {
        "legend": {
         "tracegroupgap": 0
        },
        "template": {
         "data": {
          "bar": [
           {
            "error_x": {
             "color": "#2a3f5f"
            },
            "error_y": {
             "color": "#2a3f5f"
            },
            "marker": {
             "line": {
              "color": "#E5ECF6",
              "width": 0.5
             },
             "pattern": {
              "fillmode": "overlay",
              "size": 10,
              "solidity": 0.2
             }
            },
            "type": "bar"
           }
          ],
          "barpolar": [
           {
            "marker": {
             "line": {
              "color": "#E5ECF6",
              "width": 0.5
             },
             "pattern": {
              "fillmode": "overlay",
              "size": 10,
              "solidity": 0.2
             }
            },
            "type": "barpolar"
           }
          ],
          "carpet": [
           {
            "aaxis": {
             "endlinecolor": "#2a3f5f",
             "gridcolor": "white",
             "linecolor": "white",
             "minorgridcolor": "white",
             "startlinecolor": "#2a3f5f"
            },
            "baxis": {
             "endlinecolor": "#2a3f5f",
             "gridcolor": "white",
             "linecolor": "white",
             "minorgridcolor": "white",
             "startlinecolor": "#2a3f5f"
            },
            "type": "carpet"
           }
          ],
          "choropleth": [
           {
            "colorbar": {
             "outlinewidth": 0,
             "ticks": ""
            },
            "type": "choropleth"
           }
          ],
          "contour": [
           {
            "colorbar": {
             "outlinewidth": 0,
             "ticks": ""
            },
            "colorscale": [
             [
              0,
              "#0d0887"
             ],
             [
              0.1111111111111111,
              "#46039f"
             ],
             [
              0.2222222222222222,
              "#7201a8"
             ],
             [
              0.3333333333333333,
              "#9c179e"
             ],
             [
              0.4444444444444444,
              "#bd3786"
             ],
             [
              0.5555555555555556,
              "#d8576b"
             ],
             [
              0.6666666666666666,
              "#ed7953"
             ],
             [
              0.7777777777777778,
              "#fb9f3a"
             ],
             [
              0.8888888888888888,
              "#fdca26"
             ],
             [
              1,
              "#f0f921"
             ]
            ],
            "type": "contour"
           }
          ],
          "contourcarpet": [
           {
            "colorbar": {
             "outlinewidth": 0,
             "ticks": ""
            },
            "type": "contourcarpet"
           }
          ],
          "heatmap": [
           {
            "colorbar": {
             "outlinewidth": 0,
             "ticks": ""
            },
            "colorscale": [
             [
              0,
              "#0d0887"
             ],
             [
              0.1111111111111111,
              "#46039f"
             ],
             [
              0.2222222222222222,
              "#7201a8"
             ],
             [
              0.3333333333333333,
              "#9c179e"
             ],
             [
              0.4444444444444444,
              "#bd3786"
             ],
             [
              0.5555555555555556,
              "#d8576b"
             ],
             [
              0.6666666666666666,
              "#ed7953"
             ],
             [
              0.7777777777777778,
              "#fb9f3a"
             ],
             [
              0.8888888888888888,
              "#fdca26"
             ],
             [
              1,
              "#f0f921"
             ]
            ],
            "type": "heatmap"
           }
          ],
          "histogram": [
           {
            "marker": {
             "pattern": {
              "fillmode": "overlay",
              "size": 10,
              "solidity": 0.2
             }
            },
            "type": "histogram"
           }
          ],
          "histogram2d": [
           {
            "colorbar": {
             "outlinewidth": 0,
             "ticks": ""
            },
            "colorscale": [
             [
              0,
              "#0d0887"
             ],
             [
              0.1111111111111111,
              "#46039f"
             ],
             [
              0.2222222222222222,
              "#7201a8"
             ],
             [
              0.3333333333333333,
              "#9c179e"
             ],
             [
              0.4444444444444444,
              "#bd3786"
             ],
             [
              0.5555555555555556,
              "#d8576b"
             ],
             [
              0.6666666666666666,
              "#ed7953"
             ],
             [
              0.7777777777777778,
              "#fb9f3a"
             ],
             [
              0.8888888888888888,
              "#fdca26"
             ],
             [
              1,
              "#f0f921"
             ]
            ],
            "type": "histogram2d"
           }
          ],
          "histogram2dcontour": [
           {
            "colorbar": {
             "outlinewidth": 0,
             "ticks": ""
            },
            "colorscale": [
             [
              0,
              "#0d0887"
             ],
             [
              0.1111111111111111,
              "#46039f"
             ],
             [
              0.2222222222222222,
              "#7201a8"
             ],
             [
              0.3333333333333333,
              "#9c179e"
             ],
             [
              0.4444444444444444,
              "#bd3786"
             ],
             [
              0.5555555555555556,
              "#d8576b"
             ],
             [
              0.6666666666666666,
              "#ed7953"
             ],
             [
              0.7777777777777778,
              "#fb9f3a"
             ],
             [
              0.8888888888888888,
              "#fdca26"
             ],
             [
              1,
              "#f0f921"
             ]
            ],
            "type": "histogram2dcontour"
           }
          ],
          "mesh3d": [
           {
            "colorbar": {
             "outlinewidth": 0,
             "ticks": ""
            },
            "type": "mesh3d"
           }
          ],
          "parcoords": [
           {
            "line": {
             "colorbar": {
              "outlinewidth": 0,
              "ticks": ""
             }
            },
            "type": "parcoords"
           }
          ],
          "pie": [
           {
            "automargin": true,
            "type": "pie"
           }
          ],
          "scatter": [
           {
            "fillpattern": {
             "fillmode": "overlay",
             "size": 10,
             "solidity": 0.2
            },
            "type": "scatter"
           }
          ],
          "scatter3d": [
           {
            "line": {
             "colorbar": {
              "outlinewidth": 0,
              "ticks": ""
             }
            },
            "marker": {
             "colorbar": {
              "outlinewidth": 0,
              "ticks": ""
             }
            },
            "type": "scatter3d"
           }
          ],
          "scattercarpet": [
           {
            "marker": {
             "colorbar": {
              "outlinewidth": 0,
              "ticks": ""
             }
            },
            "type": "scattercarpet"
           }
          ],
          "scattergeo": [
           {
            "marker": {
             "colorbar": {
              "outlinewidth": 0,
              "ticks": ""
             }
            },
            "type": "scattergeo"
           }
          ],
          "scattergl": [
           {
            "marker": {
             "colorbar": {
              "outlinewidth": 0,
              "ticks": ""
             }
            },
            "type": "scattergl"
           }
          ],
          "scattermap": [
           {
            "marker": {
             "colorbar": {
              "outlinewidth": 0,
              "ticks": ""
             }
            },
            "type": "scattermap"
           }
          ],
          "scattermapbox": [
           {
            "marker": {
             "colorbar": {
              "outlinewidth": 0,
              "ticks": ""
             }
            },
            "type": "scattermapbox"
           }
          ],
          "scatterpolar": [
           {
            "marker": {
             "colorbar": {
              "outlinewidth": 0,
              "ticks": ""
             }
            },
            "type": "scatterpolar"
           }
          ],
          "scatterpolargl": [
           {
            "marker": {
             "colorbar": {
              "outlinewidth": 0,
              "ticks": ""
             }
            },
            "type": "scatterpolargl"
           }
          ],
          "scatterternary": [
           {
            "marker": {
             "colorbar": {
              "outlinewidth": 0,
              "ticks": ""
             }
            },
            "type": "scatterternary"
           }
          ],
          "surface": [
           {
            "colorbar": {
             "outlinewidth": 0,
             "ticks": ""
            },
            "colorscale": [
             [
              0,
              "#0d0887"
             ],
             [
              0.1111111111111111,
              "#46039f"
             ],
             [
              0.2222222222222222,
              "#7201a8"
             ],
             [
              0.3333333333333333,
              "#9c179e"
             ],
             [
              0.4444444444444444,
              "#bd3786"
             ],
             [
              0.5555555555555556,
              "#d8576b"
             ],
             [
              0.6666666666666666,
              "#ed7953"
             ],
             [
              0.7777777777777778,
              "#fb9f3a"
             ],
             [
              0.8888888888888888,
              "#fdca26"
             ],
             [
              1,
              "#f0f921"
             ]
            ],
            "type": "surface"
           }
          ],
          "table": [
           {
            "cells": {
             "fill": {
              "color": "#EBF0F8"
             },
             "line": {
              "color": "white"
             }
            },
            "header": {
             "fill": {
              "color": "#C8D4E3"
             },
             "line": {
              "color": "white"
             }
            },
            "type": "table"
           }
          ]
         },
         "layout": {
          "annotationdefaults": {
           "arrowcolor": "#2a3f5f",
           "arrowhead": 0,
           "arrowwidth": 1
          },
          "autotypenumbers": "strict",
          "coloraxis": {
           "colorbar": {
            "outlinewidth": 0,
            "ticks": ""
           }
          },
          "colorscale": {
           "diverging": [
            [
             0,
             "#8e0152"
            ],
            [
             0.1,
             "#c51b7d"
            ],
            [
             0.2,
             "#de77ae"
            ],
            [
             0.3,
             "#f1b6da"
            ],
            [
             0.4,
             "#fde0ef"
            ],
            [
             0.5,
             "#f7f7f7"
            ],
            [
             0.6,
             "#e6f5d0"
            ],
            [
             0.7,
             "#b8e186"
            ],
            [
             0.8,
             "#7fbc41"
            ],
            [
             0.9,
             "#4d9221"
            ],
            [
             1,
             "#276419"
            ]
           ],
           "sequential": [
            [
             0,
             "#0d0887"
            ],
            [
             0.1111111111111111,
             "#46039f"
            ],
            [
             0.2222222222222222,
             "#7201a8"
            ],
            [
             0.3333333333333333,
             "#9c179e"
            ],
            [
             0.4444444444444444,
             "#bd3786"
            ],
            [
             0.5555555555555556,
             "#d8576b"
            ],
            [
             0.6666666666666666,
             "#ed7953"
            ],
            [
             0.7777777777777778,
             "#fb9f3a"
            ],
            [
             0.8888888888888888,
             "#fdca26"
            ],
            [
             1,
             "#f0f921"
            ]
           ],
           "sequentialminus": [
            [
             0,
             "#0d0887"
            ],
            [
             0.1111111111111111,
             "#46039f"
            ],
            [
             0.2222222222222222,
             "#7201a8"
            ],
            [
             0.3333333333333333,
             "#9c179e"
            ],
            [
             0.4444444444444444,
             "#bd3786"
            ],
            [
             0.5555555555555556,
             "#d8576b"
            ],
            [
             0.6666666666666666,
             "#ed7953"
            ],
            [
             0.7777777777777778,
             "#fb9f3a"
            ],
            [
             0.8888888888888888,
             "#fdca26"
            ],
            [
             1,
             "#f0f921"
            ]
           ]
          },
          "colorway": [
           "#636efa",
           "#EF553B",
           "#00cc96",
           "#ab63fa",
           "#FFA15A",
           "#19d3f3",
           "#FF6692",
           "#B6E880",
           "#FF97FF",
           "#FECB52"
          ],
          "font": {
           "color": "#2a3f5f"
          },
          "geo": {
           "bgcolor": "white",
           "lakecolor": "white",
           "landcolor": "#E5ECF6",
           "showlakes": true,
           "showland": true,
           "subunitcolor": "white"
          },
          "hoverlabel": {
           "align": "left"
          },
          "hovermode": "closest",
          "mapbox": {
           "style": "light"
          },
          "paper_bgcolor": "white",
          "plot_bgcolor": "#E5ECF6",
          "polar": {
           "angularaxis": {
            "gridcolor": "white",
            "linecolor": "white",
            "ticks": ""
           },
           "bgcolor": "#E5ECF6",
           "radialaxis": {
            "gridcolor": "white",
            "linecolor": "white",
            "ticks": ""
           }
          },
          "scene": {
           "xaxis": {
            "backgroundcolor": "#E5ECF6",
            "gridcolor": "white",
            "gridwidth": 2,
            "linecolor": "white",
            "showbackground": true,
            "ticks": "",
            "zerolinecolor": "white"
           },
           "yaxis": {
            "backgroundcolor": "#E5ECF6",
            "gridcolor": "white",
            "gridwidth": 2,
            "linecolor": "white",
            "showbackground": true,
            "ticks": "",
            "zerolinecolor": "white"
           },
           "zaxis": {
            "backgroundcolor": "#E5ECF6",
            "gridcolor": "white",
            "gridwidth": 2,
            "linecolor": "white",
            "showbackground": true,
            "ticks": "",
            "zerolinecolor": "white"
           }
          },
          "shapedefaults": {
           "line": {
            "color": "#2a3f5f"
           }
          },
          "ternary": {
           "aaxis": {
            "gridcolor": "white",
            "linecolor": "white",
            "ticks": ""
           },
           "baxis": {
            "gridcolor": "white",
            "linecolor": "white",
            "ticks": ""
           },
           "bgcolor": "#E5ECF6",
           "caxis": {
            "gridcolor": "white",
            "linecolor": "white",
            "ticks": ""
           }
          },
          "title": {
           "x": 0.05
          },
          "xaxis": {
           "automargin": true,
           "gridcolor": "white",
           "linecolor": "white",
           "ticks": "",
           "title": {
            "standoff": 15
           },
           "zerolinecolor": "white",
           "zerolinewidth": 2
          },
          "yaxis": {
           "automargin": true,
           "gridcolor": "white",
           "linecolor": "white",
           "ticks": "",
           "title": {
            "standoff": 15
           },
           "zerolinecolor": "white",
           "zerolinewidth": 2
          }
         }
        },
        "title": {
         "text": "Altura vs Pie Grupo Bajo"
        },
        "xaxis": {
         "anchor": "y",
         "domain": [
          0,
          1
         ],
         "title": {
          "text": "Altura (cm)"
         }
        },
        "yaxis": {
         "anchor": "x",
         "domain": [
          0,
          1
         ],
         "title": {
          "text": "Pie (cm)"
         }
        }
       }
      }
     },
     "metadata": {},
     "output_type": "display_data"
    }
   ],
   "source": [
    "fig1 = px.scatter(df_bajo, x=\"Altura\", y=\"Ancho\", \n",
    "                  title=\"Altura vs Ancho Grupo Bajo\", \n",
    "                  labels={\"Altura\": \"Altura (cm)\", \"Ancho\": \"Ancho (cm)\"},\n",
    "                  color_discrete_sequence=[\"blue\"])\n",
    "\n",
    "fig2 = px.scatter(df_bajo, x=\"Altura\", y=\"Pie\", \n",
    "                  title=\"Altura vs Pie Grupo Bajo\" , \n",
    "                  labels={\"Altura\": \"Altura (cm)\", \"Pie\": \"Pie (cm)\"},\n",
    "                  color_discrete_sequence=[\"red\"])\n",
    "\n",
    "fig1.show()\n",
    "fig2.show()"
   ]
  },
  {
   "cell_type": "code",
   "execution_count": 30,
   "metadata": {},
   "outputs": [
    {
     "data": {
      "application/vnd.plotly.v1+json": {
       "config": {
        "plotlyServerURL": "https://plot.ly"
       },
       "data": [
        {
         "hovertemplate": "Altura (cm)=%{x}<br>Ancho (cm)=%{y}<extra></extra>",
         "legendgroup": "",
         "marker": {
          "color": "blue",
          "symbol": "circle"
         },
         "mode": "markers",
         "name": "",
         "orientation": "v",
         "showlegend": false,
         "type": "scatter",
         "x": {
          "bdata": "EGankRYsZUD+x6nnc9dmQKCYD0nsmGVApENDhFfLZkAs49XgyLVlQIamY2xaD2hAB7uAHTCkZUANwPMMlEZmQPZmc6Rn62VAo+4LGMbdZUBhtU/i2+dmQFhgyTEAOGZAp6zsFyrNZEBq9SAxz/xkQI6k21wLJ2ZApgCQ5g7AZkCj32fGbo5lQMDwqhIw6GVAPYfH8xxXZUAKN9e2/zplQO0/Fhfq8WVAyEJgj93EZEBu8gwSGbZkQK6JgvDxx2RAdbTiSqrDZEAAAAAAACBnQAAAAAAAoGVAAAAAAACAZUAAAAAAAGBnQAAAAAAA4GVAAAAAAAAAZUAAAAAAAGBmQAAAAAAAgGVAAAAAAADAZEA=",
          "dtype": "f8"
         },
         "xaxis": "x",
         "y": {
          "bdata": "yKkRA21WSkA7JFiyVPlHQHwhNkmHEkdA1olS9wSlS0AvIfQ/tIxHQLniFdAViUpA+z52A03sR0BvohrTjtRHQOYdrJkXGUhAIFuN+cyFSkAXqWsLLmZQQJHxR6Dx0EtA36QfIkaIS0CzK3G0xi9HQIuV3YZwB0tAhi89VLJ7S0BHWFztvolFQI2mhrv8a0hAU1VQH1yxS0B04MdB/UxJQIqLLSGDN0NAXpL4lrKBRECeUYsC2fRDQJVTpfJ8Q0NAiluU8c1JR0AAAAAAAIBLQAAAAAAAAEZAAAAAAAAAR0AAAAAAAABIQAAAAAAAgEhAAAAAAACATkAAAAAAAIBLQAAAAAAAAElAAAAAAACAQ0A=",
          "dtype": "f8"
         },
         "yaxis": "y"
        }
       ],
       "layout": {
        "legend": {
         "tracegroupgap": 0
        },
        "template": {
         "data": {
          "bar": [
           {
            "error_x": {
             "color": "#2a3f5f"
            },
            "error_y": {
             "color": "#2a3f5f"
            },
            "marker": {
             "line": {
              "color": "#E5ECF6",
              "width": 0.5
             },
             "pattern": {
              "fillmode": "overlay",
              "size": 10,
              "solidity": 0.2
             }
            },
            "type": "bar"
           }
          ],
          "barpolar": [
           {
            "marker": {
             "line": {
              "color": "#E5ECF6",
              "width": 0.5
             },
             "pattern": {
              "fillmode": "overlay",
              "size": 10,
              "solidity": 0.2
             }
            },
            "type": "barpolar"
           }
          ],
          "carpet": [
           {
            "aaxis": {
             "endlinecolor": "#2a3f5f",
             "gridcolor": "white",
             "linecolor": "white",
             "minorgridcolor": "white",
             "startlinecolor": "#2a3f5f"
            },
            "baxis": {
             "endlinecolor": "#2a3f5f",
             "gridcolor": "white",
             "linecolor": "white",
             "minorgridcolor": "white",
             "startlinecolor": "#2a3f5f"
            },
            "type": "carpet"
           }
          ],
          "choropleth": [
           {
            "colorbar": {
             "outlinewidth": 0,
             "ticks": ""
            },
            "type": "choropleth"
           }
          ],
          "contour": [
           {
            "colorbar": {
             "outlinewidth": 0,
             "ticks": ""
            },
            "colorscale": [
             [
              0,
              "#0d0887"
             ],
             [
              0.1111111111111111,
              "#46039f"
             ],
             [
              0.2222222222222222,
              "#7201a8"
             ],
             [
              0.3333333333333333,
              "#9c179e"
             ],
             [
              0.4444444444444444,
              "#bd3786"
             ],
             [
              0.5555555555555556,
              "#d8576b"
             ],
             [
              0.6666666666666666,
              "#ed7953"
             ],
             [
              0.7777777777777778,
              "#fb9f3a"
             ],
             [
              0.8888888888888888,
              "#fdca26"
             ],
             [
              1,
              "#f0f921"
             ]
            ],
            "type": "contour"
           }
          ],
          "contourcarpet": [
           {
            "colorbar": {
             "outlinewidth": 0,
             "ticks": ""
            },
            "type": "contourcarpet"
           }
          ],
          "heatmap": [
           {
            "colorbar": {
             "outlinewidth": 0,
             "ticks": ""
            },
            "colorscale": [
             [
              0,
              "#0d0887"
             ],
             [
              0.1111111111111111,
              "#46039f"
             ],
             [
              0.2222222222222222,
              "#7201a8"
             ],
             [
              0.3333333333333333,
              "#9c179e"
             ],
             [
              0.4444444444444444,
              "#bd3786"
             ],
             [
              0.5555555555555556,
              "#d8576b"
             ],
             [
              0.6666666666666666,
              "#ed7953"
             ],
             [
              0.7777777777777778,
              "#fb9f3a"
             ],
             [
              0.8888888888888888,
              "#fdca26"
             ],
             [
              1,
              "#f0f921"
             ]
            ],
            "type": "heatmap"
           }
          ],
          "histogram": [
           {
            "marker": {
             "pattern": {
              "fillmode": "overlay",
              "size": 10,
              "solidity": 0.2
             }
            },
            "type": "histogram"
           }
          ],
          "histogram2d": [
           {
            "colorbar": {
             "outlinewidth": 0,
             "ticks": ""
            },
            "colorscale": [
             [
              0,
              "#0d0887"
             ],
             [
              0.1111111111111111,
              "#46039f"
             ],
             [
              0.2222222222222222,
              "#7201a8"
             ],
             [
              0.3333333333333333,
              "#9c179e"
             ],
             [
              0.4444444444444444,
              "#bd3786"
             ],
             [
              0.5555555555555556,
              "#d8576b"
             ],
             [
              0.6666666666666666,
              "#ed7953"
             ],
             [
              0.7777777777777778,
              "#fb9f3a"
             ],
             [
              0.8888888888888888,
              "#fdca26"
             ],
             [
              1,
              "#f0f921"
             ]
            ],
            "type": "histogram2d"
           }
          ],
          "histogram2dcontour": [
           {
            "colorbar": {
             "outlinewidth": 0,
             "ticks": ""
            },
            "colorscale": [
             [
              0,
              "#0d0887"
             ],
             [
              0.1111111111111111,
              "#46039f"
             ],
             [
              0.2222222222222222,
              "#7201a8"
             ],
             [
              0.3333333333333333,
              "#9c179e"
             ],
             [
              0.4444444444444444,
              "#bd3786"
             ],
             [
              0.5555555555555556,
              "#d8576b"
             ],
             [
              0.6666666666666666,
              "#ed7953"
             ],
             [
              0.7777777777777778,
              "#fb9f3a"
             ],
             [
              0.8888888888888888,
              "#fdca26"
             ],
             [
              1,
              "#f0f921"
             ]
            ],
            "type": "histogram2dcontour"
           }
          ],
          "mesh3d": [
           {
            "colorbar": {
             "outlinewidth": 0,
             "ticks": ""
            },
            "type": "mesh3d"
           }
          ],
          "parcoords": [
           {
            "line": {
             "colorbar": {
              "outlinewidth": 0,
              "ticks": ""
             }
            },
            "type": "parcoords"
           }
          ],
          "pie": [
           {
            "automargin": true,
            "type": "pie"
           }
          ],
          "scatter": [
           {
            "fillpattern": {
             "fillmode": "overlay",
             "size": 10,
             "solidity": 0.2
            },
            "type": "scatter"
           }
          ],
          "scatter3d": [
           {
            "line": {
             "colorbar": {
              "outlinewidth": 0,
              "ticks": ""
             }
            },
            "marker": {
             "colorbar": {
              "outlinewidth": 0,
              "ticks": ""
             }
            },
            "type": "scatter3d"
           }
          ],
          "scattercarpet": [
           {
            "marker": {
             "colorbar": {
              "outlinewidth": 0,
              "ticks": ""
             }
            },
            "type": "scattercarpet"
           }
          ],
          "scattergeo": [
           {
            "marker": {
             "colorbar": {
              "outlinewidth": 0,
              "ticks": ""
             }
            },
            "type": "scattergeo"
           }
          ],
          "scattergl": [
           {
            "marker": {
             "colorbar": {
              "outlinewidth": 0,
              "ticks": ""
             }
            },
            "type": "scattergl"
           }
          ],
          "scattermap": [
           {
            "marker": {
             "colorbar": {
              "outlinewidth": 0,
              "ticks": ""
             }
            },
            "type": "scattermap"
           }
          ],
          "scattermapbox": [
           {
            "marker": {
             "colorbar": {
              "outlinewidth": 0,
              "ticks": ""
             }
            },
            "type": "scattermapbox"
           }
          ],
          "scatterpolar": [
           {
            "marker": {
             "colorbar": {
              "outlinewidth": 0,
              "ticks": ""
             }
            },
            "type": "scatterpolar"
           }
          ],
          "scatterpolargl": [
           {
            "marker": {
             "colorbar": {
              "outlinewidth": 0,
              "ticks": ""
             }
            },
            "type": "scatterpolargl"
           }
          ],
          "scatterternary": [
           {
            "marker": {
             "colorbar": {
              "outlinewidth": 0,
              "ticks": ""
             }
            },
            "type": "scatterternary"
           }
          ],
          "surface": [
           {
            "colorbar": {
             "outlinewidth": 0,
             "ticks": ""
            },
            "colorscale": [
             [
              0,
              "#0d0887"
             ],
             [
              0.1111111111111111,
              "#46039f"
             ],
             [
              0.2222222222222222,
              "#7201a8"
             ],
             [
              0.3333333333333333,
              "#9c179e"
             ],
             [
              0.4444444444444444,
              "#bd3786"
             ],
             [
              0.5555555555555556,
              "#d8576b"
             ],
             [
              0.6666666666666666,
              "#ed7953"
             ],
             [
              0.7777777777777778,
              "#fb9f3a"
             ],
             [
              0.8888888888888888,
              "#fdca26"
             ],
             [
              1,
              "#f0f921"
             ]
            ],
            "type": "surface"
           }
          ],
          "table": [
           {
            "cells": {
             "fill": {
              "color": "#EBF0F8"
             },
             "line": {
              "color": "white"
             }
            },
            "header": {
             "fill": {
              "color": "#C8D4E3"
             },
             "line": {
              "color": "white"
             }
            },
            "type": "table"
           }
          ]
         },
         "layout": {
          "annotationdefaults": {
           "arrowcolor": "#2a3f5f",
           "arrowhead": 0,
           "arrowwidth": 1
          },
          "autotypenumbers": "strict",
          "coloraxis": {
           "colorbar": {
            "outlinewidth": 0,
            "ticks": ""
           }
          },
          "colorscale": {
           "diverging": [
            [
             0,
             "#8e0152"
            ],
            [
             0.1,
             "#c51b7d"
            ],
            [
             0.2,
             "#de77ae"
            ],
            [
             0.3,
             "#f1b6da"
            ],
            [
             0.4,
             "#fde0ef"
            ],
            [
             0.5,
             "#f7f7f7"
            ],
            [
             0.6,
             "#e6f5d0"
            ],
            [
             0.7,
             "#b8e186"
            ],
            [
             0.8,
             "#7fbc41"
            ],
            [
             0.9,
             "#4d9221"
            ],
            [
             1,
             "#276419"
            ]
           ],
           "sequential": [
            [
             0,
             "#0d0887"
            ],
            [
             0.1111111111111111,
             "#46039f"
            ],
            [
             0.2222222222222222,
             "#7201a8"
            ],
            [
             0.3333333333333333,
             "#9c179e"
            ],
            [
             0.4444444444444444,
             "#bd3786"
            ],
            [
             0.5555555555555556,
             "#d8576b"
            ],
            [
             0.6666666666666666,
             "#ed7953"
            ],
            [
             0.7777777777777778,
             "#fb9f3a"
            ],
            [
             0.8888888888888888,
             "#fdca26"
            ],
            [
             1,
             "#f0f921"
            ]
           ],
           "sequentialminus": [
            [
             0,
             "#0d0887"
            ],
            [
             0.1111111111111111,
             "#46039f"
            ],
            [
             0.2222222222222222,
             "#7201a8"
            ],
            [
             0.3333333333333333,
             "#9c179e"
            ],
            [
             0.4444444444444444,
             "#bd3786"
            ],
            [
             0.5555555555555556,
             "#d8576b"
            ],
            [
             0.6666666666666666,
             "#ed7953"
            ],
            [
             0.7777777777777778,
             "#fb9f3a"
            ],
            [
             0.8888888888888888,
             "#fdca26"
            ],
            [
             1,
             "#f0f921"
            ]
           ]
          },
          "colorway": [
           "#636efa",
           "#EF553B",
           "#00cc96",
           "#ab63fa",
           "#FFA15A",
           "#19d3f3",
           "#FF6692",
           "#B6E880",
           "#FF97FF",
           "#FECB52"
          ],
          "font": {
           "color": "#2a3f5f"
          },
          "geo": {
           "bgcolor": "white",
           "lakecolor": "white",
           "landcolor": "#E5ECF6",
           "showlakes": true,
           "showland": true,
           "subunitcolor": "white"
          },
          "hoverlabel": {
           "align": "left"
          },
          "hovermode": "closest",
          "mapbox": {
           "style": "light"
          },
          "paper_bgcolor": "white",
          "plot_bgcolor": "#E5ECF6",
          "polar": {
           "angularaxis": {
            "gridcolor": "white",
            "linecolor": "white",
            "ticks": ""
           },
           "bgcolor": "#E5ECF6",
           "radialaxis": {
            "gridcolor": "white",
            "linecolor": "white",
            "ticks": ""
           }
          },
          "scene": {
           "xaxis": {
            "backgroundcolor": "#E5ECF6",
            "gridcolor": "white",
            "gridwidth": 2,
            "linecolor": "white",
            "showbackground": true,
            "ticks": "",
            "zerolinecolor": "white"
           },
           "yaxis": {
            "backgroundcolor": "#E5ECF6",
            "gridcolor": "white",
            "gridwidth": 2,
            "linecolor": "white",
            "showbackground": true,
            "ticks": "",
            "zerolinecolor": "white"
           },
           "zaxis": {
            "backgroundcolor": "#E5ECF6",
            "gridcolor": "white",
            "gridwidth": 2,
            "linecolor": "white",
            "showbackground": true,
            "ticks": "",
            "zerolinecolor": "white"
           }
          },
          "shapedefaults": {
           "line": {
            "color": "#2a3f5f"
           }
          },
          "ternary": {
           "aaxis": {
            "gridcolor": "white",
            "linecolor": "white",
            "ticks": ""
           },
           "baxis": {
            "gridcolor": "white",
            "linecolor": "white",
            "ticks": ""
           },
           "bgcolor": "#E5ECF6",
           "caxis": {
            "gridcolor": "white",
            "linecolor": "white",
            "ticks": ""
           }
          },
          "title": {
           "x": 0.05
          },
          "xaxis": {
           "automargin": true,
           "gridcolor": "white",
           "linecolor": "white",
           "ticks": "",
           "title": {
            "standoff": 15
           },
           "zerolinecolor": "white",
           "zerolinewidth": 2
          },
          "yaxis": {
           "automargin": true,
           "gridcolor": "white",
           "linecolor": "white",
           "ticks": "",
           "title": {
            "standoff": 15
           },
           "zerolinecolor": "white",
           "zerolinewidth": 2
          }
         }
        },
        "title": {
         "text": "Altura vs Ancho Grupo Alto"
        },
        "xaxis": {
         "anchor": "y",
         "domain": [
          0,
          1
         ],
         "title": {
          "text": "Altura (cm)"
         }
        },
        "yaxis": {
         "anchor": "x",
         "domain": [
          0,
          1
         ],
         "title": {
          "text": "Ancho (cm)"
         }
        }
       }
      }
     },
     "metadata": {},
     "output_type": "display_data"
    },
    {
     "data": {
      "application/vnd.plotly.v1+json": {
       "config": {
        "plotlyServerURL": "https://plot.ly"
       },
       "data": [
        {
         "hovertemplate": "Altura (cm)=%{x}<br>Pie (cm)=%{y}<extra></extra>",
         "legendgroup": "",
         "marker": {
          "color": "red",
          "symbol": "circle"
         },
         "mode": "markers",
         "name": "",
         "orientation": "v",
         "showlegend": false,
         "type": "scatter",
         "x": {
          "bdata": "EGankRYsZUD+x6nnc9dmQKCYD0nsmGVApENDhFfLZkAs49XgyLVlQIamY2xaD2hAB7uAHTCkZUANwPMMlEZmQPZmc6Rn62VAo+4LGMbdZUBhtU/i2+dmQFhgyTEAOGZAp6zsFyrNZEBq9SAxz/xkQI6k21wLJ2ZApgCQ5g7AZkCj32fGbo5lQMDwqhIw6GVAPYfH8xxXZUAKN9e2/zplQO0/Fhfq8WVAyEJgj93EZEBu8gwSGbZkQK6JgvDxx2RAdbTiSqrDZEAAAAAAACBnQAAAAAAAoGVAAAAAAACAZUAAAAAAAGBnQAAAAAAA4GVAAAAAAAAAZUAAAAAAAGBmQAAAAAAAgGVAAAAAAADAZEA=",
          "dtype": "f8"
         },
         "xaxis": "x",
         "y": {
          "bdata": "1MBg2eOyO0CIM8BL/PE6QPe7n0FK/ThAcQlviW0COkB+xYROP8c6QF7DRP9FjTtABUrkqjdTPEAivhVW63o6QDb5ZomhbjtAWNfL0H5AOkDc5KjeRY48QOmt2+DofTpAalNXvt/uOkCWSo4NxmA6QJTSWD/mRDxAy1/TtUM+O0C0NLAhunc8QB05SePuijxAFoYIsRe3O0B731/7Vlk8QKjPANAaMzdAax42lzZHN0CbDVBAQzc1QD5lYRAgnjdA5Q8VucpDN0AAAAAAAAA8QAAAAAAAgDpAAAAAAAAAO0AAAAAAAAA9QAAAAAAAgDtAAAAAAAAAOkAAAAAAAAA8QAAAAAAAgDtAAAAAAACAOEA=",
          "dtype": "f8"
         },
         "yaxis": "y"
        }
       ],
       "layout": {
        "legend": {
         "tracegroupgap": 0
        },
        "template": {
         "data": {
          "bar": [
           {
            "error_x": {
             "color": "#2a3f5f"
            },
            "error_y": {
             "color": "#2a3f5f"
            },
            "marker": {
             "line": {
              "color": "#E5ECF6",
              "width": 0.5
             },
             "pattern": {
              "fillmode": "overlay",
              "size": 10,
              "solidity": 0.2
             }
            },
            "type": "bar"
           }
          ],
          "barpolar": [
           {
            "marker": {
             "line": {
              "color": "#E5ECF6",
              "width": 0.5
             },
             "pattern": {
              "fillmode": "overlay",
              "size": 10,
              "solidity": 0.2
             }
            },
            "type": "barpolar"
           }
          ],
          "carpet": [
           {
            "aaxis": {
             "endlinecolor": "#2a3f5f",
             "gridcolor": "white",
             "linecolor": "white",
             "minorgridcolor": "white",
             "startlinecolor": "#2a3f5f"
            },
            "baxis": {
             "endlinecolor": "#2a3f5f",
             "gridcolor": "white",
             "linecolor": "white",
             "minorgridcolor": "white",
             "startlinecolor": "#2a3f5f"
            },
            "type": "carpet"
           }
          ],
          "choropleth": [
           {
            "colorbar": {
             "outlinewidth": 0,
             "ticks": ""
            },
            "type": "choropleth"
           }
          ],
          "contour": [
           {
            "colorbar": {
             "outlinewidth": 0,
             "ticks": ""
            },
            "colorscale": [
             [
              0,
              "#0d0887"
             ],
             [
              0.1111111111111111,
              "#46039f"
             ],
             [
              0.2222222222222222,
              "#7201a8"
             ],
             [
              0.3333333333333333,
              "#9c179e"
             ],
             [
              0.4444444444444444,
              "#bd3786"
             ],
             [
              0.5555555555555556,
              "#d8576b"
             ],
             [
              0.6666666666666666,
              "#ed7953"
             ],
             [
              0.7777777777777778,
              "#fb9f3a"
             ],
             [
              0.8888888888888888,
              "#fdca26"
             ],
             [
              1,
              "#f0f921"
             ]
            ],
            "type": "contour"
           }
          ],
          "contourcarpet": [
           {
            "colorbar": {
             "outlinewidth": 0,
             "ticks": ""
            },
            "type": "contourcarpet"
           }
          ],
          "heatmap": [
           {
            "colorbar": {
             "outlinewidth": 0,
             "ticks": ""
            },
            "colorscale": [
             [
              0,
              "#0d0887"
             ],
             [
              0.1111111111111111,
              "#46039f"
             ],
             [
              0.2222222222222222,
              "#7201a8"
             ],
             [
              0.3333333333333333,
              "#9c179e"
             ],
             [
              0.4444444444444444,
              "#bd3786"
             ],
             [
              0.5555555555555556,
              "#d8576b"
             ],
             [
              0.6666666666666666,
              "#ed7953"
             ],
             [
              0.7777777777777778,
              "#fb9f3a"
             ],
             [
              0.8888888888888888,
              "#fdca26"
             ],
             [
              1,
              "#f0f921"
             ]
            ],
            "type": "heatmap"
           }
          ],
          "histogram": [
           {
            "marker": {
             "pattern": {
              "fillmode": "overlay",
              "size": 10,
              "solidity": 0.2
             }
            },
            "type": "histogram"
           }
          ],
          "histogram2d": [
           {
            "colorbar": {
             "outlinewidth": 0,
             "ticks": ""
            },
            "colorscale": [
             [
              0,
              "#0d0887"
             ],
             [
              0.1111111111111111,
              "#46039f"
             ],
             [
              0.2222222222222222,
              "#7201a8"
             ],
             [
              0.3333333333333333,
              "#9c179e"
             ],
             [
              0.4444444444444444,
              "#bd3786"
             ],
             [
              0.5555555555555556,
              "#d8576b"
             ],
             [
              0.6666666666666666,
              "#ed7953"
             ],
             [
              0.7777777777777778,
              "#fb9f3a"
             ],
             [
              0.8888888888888888,
              "#fdca26"
             ],
             [
              1,
              "#f0f921"
             ]
            ],
            "type": "histogram2d"
           }
          ],
          "histogram2dcontour": [
           {
            "colorbar": {
             "outlinewidth": 0,
             "ticks": ""
            },
            "colorscale": [
             [
              0,
              "#0d0887"
             ],
             [
              0.1111111111111111,
              "#46039f"
             ],
             [
              0.2222222222222222,
              "#7201a8"
             ],
             [
              0.3333333333333333,
              "#9c179e"
             ],
             [
              0.4444444444444444,
              "#bd3786"
             ],
             [
              0.5555555555555556,
              "#d8576b"
             ],
             [
              0.6666666666666666,
              "#ed7953"
             ],
             [
              0.7777777777777778,
              "#fb9f3a"
             ],
             [
              0.8888888888888888,
              "#fdca26"
             ],
             [
              1,
              "#f0f921"
             ]
            ],
            "type": "histogram2dcontour"
           }
          ],
          "mesh3d": [
           {
            "colorbar": {
             "outlinewidth": 0,
             "ticks": ""
            },
            "type": "mesh3d"
           }
          ],
          "parcoords": [
           {
            "line": {
             "colorbar": {
              "outlinewidth": 0,
              "ticks": ""
             }
            },
            "type": "parcoords"
           }
          ],
          "pie": [
           {
            "automargin": true,
            "type": "pie"
           }
          ],
          "scatter": [
           {
            "fillpattern": {
             "fillmode": "overlay",
             "size": 10,
             "solidity": 0.2
            },
            "type": "scatter"
           }
          ],
          "scatter3d": [
           {
            "line": {
             "colorbar": {
              "outlinewidth": 0,
              "ticks": ""
             }
            },
            "marker": {
             "colorbar": {
              "outlinewidth": 0,
              "ticks": ""
             }
            },
            "type": "scatter3d"
           }
          ],
          "scattercarpet": [
           {
            "marker": {
             "colorbar": {
              "outlinewidth": 0,
              "ticks": ""
             }
            },
            "type": "scattercarpet"
           }
          ],
          "scattergeo": [
           {
            "marker": {
             "colorbar": {
              "outlinewidth": 0,
              "ticks": ""
             }
            },
            "type": "scattergeo"
           }
          ],
          "scattergl": [
           {
            "marker": {
             "colorbar": {
              "outlinewidth": 0,
              "ticks": ""
             }
            },
            "type": "scattergl"
           }
          ],
          "scattermap": [
           {
            "marker": {
             "colorbar": {
              "outlinewidth": 0,
              "ticks": ""
             }
            },
            "type": "scattermap"
           }
          ],
          "scattermapbox": [
           {
            "marker": {
             "colorbar": {
              "outlinewidth": 0,
              "ticks": ""
             }
            },
            "type": "scattermapbox"
           }
          ],
          "scatterpolar": [
           {
            "marker": {
             "colorbar": {
              "outlinewidth": 0,
              "ticks": ""
             }
            },
            "type": "scatterpolar"
           }
          ],
          "scatterpolargl": [
           {
            "marker": {
             "colorbar": {
              "outlinewidth": 0,
              "ticks": ""
             }
            },
            "type": "scatterpolargl"
           }
          ],
          "scatterternary": [
           {
            "marker": {
             "colorbar": {
              "outlinewidth": 0,
              "ticks": ""
             }
            },
            "type": "scatterternary"
           }
          ],
          "surface": [
           {
            "colorbar": {
             "outlinewidth": 0,
             "ticks": ""
            },
            "colorscale": [
             [
              0,
              "#0d0887"
             ],
             [
              0.1111111111111111,
              "#46039f"
             ],
             [
              0.2222222222222222,
              "#7201a8"
             ],
             [
              0.3333333333333333,
              "#9c179e"
             ],
             [
              0.4444444444444444,
              "#bd3786"
             ],
             [
              0.5555555555555556,
              "#d8576b"
             ],
             [
              0.6666666666666666,
              "#ed7953"
             ],
             [
              0.7777777777777778,
              "#fb9f3a"
             ],
             [
              0.8888888888888888,
              "#fdca26"
             ],
             [
              1,
              "#f0f921"
             ]
            ],
            "type": "surface"
           }
          ],
          "table": [
           {
            "cells": {
             "fill": {
              "color": "#EBF0F8"
             },
             "line": {
              "color": "white"
             }
            },
            "header": {
             "fill": {
              "color": "#C8D4E3"
             },
             "line": {
              "color": "white"
             }
            },
            "type": "table"
           }
          ]
         },
         "layout": {
          "annotationdefaults": {
           "arrowcolor": "#2a3f5f",
           "arrowhead": 0,
           "arrowwidth": 1
          },
          "autotypenumbers": "strict",
          "coloraxis": {
           "colorbar": {
            "outlinewidth": 0,
            "ticks": ""
           }
          },
          "colorscale": {
           "diverging": [
            [
             0,
             "#8e0152"
            ],
            [
             0.1,
             "#c51b7d"
            ],
            [
             0.2,
             "#de77ae"
            ],
            [
             0.3,
             "#f1b6da"
            ],
            [
             0.4,
             "#fde0ef"
            ],
            [
             0.5,
             "#f7f7f7"
            ],
            [
             0.6,
             "#e6f5d0"
            ],
            [
             0.7,
             "#b8e186"
            ],
            [
             0.8,
             "#7fbc41"
            ],
            [
             0.9,
             "#4d9221"
            ],
            [
             1,
             "#276419"
            ]
           ],
           "sequential": [
            [
             0,
             "#0d0887"
            ],
            [
             0.1111111111111111,
             "#46039f"
            ],
            [
             0.2222222222222222,
             "#7201a8"
            ],
            [
             0.3333333333333333,
             "#9c179e"
            ],
            [
             0.4444444444444444,
             "#bd3786"
            ],
            [
             0.5555555555555556,
             "#d8576b"
            ],
            [
             0.6666666666666666,
             "#ed7953"
            ],
            [
             0.7777777777777778,
             "#fb9f3a"
            ],
            [
             0.8888888888888888,
             "#fdca26"
            ],
            [
             1,
             "#f0f921"
            ]
           ],
           "sequentialminus": [
            [
             0,
             "#0d0887"
            ],
            [
             0.1111111111111111,
             "#46039f"
            ],
            [
             0.2222222222222222,
             "#7201a8"
            ],
            [
             0.3333333333333333,
             "#9c179e"
            ],
            [
             0.4444444444444444,
             "#bd3786"
            ],
            [
             0.5555555555555556,
             "#d8576b"
            ],
            [
             0.6666666666666666,
             "#ed7953"
            ],
            [
             0.7777777777777778,
             "#fb9f3a"
            ],
            [
             0.8888888888888888,
             "#fdca26"
            ],
            [
             1,
             "#f0f921"
            ]
           ]
          },
          "colorway": [
           "#636efa",
           "#EF553B",
           "#00cc96",
           "#ab63fa",
           "#FFA15A",
           "#19d3f3",
           "#FF6692",
           "#B6E880",
           "#FF97FF",
           "#FECB52"
          ],
          "font": {
           "color": "#2a3f5f"
          },
          "geo": {
           "bgcolor": "white",
           "lakecolor": "white",
           "landcolor": "#E5ECF6",
           "showlakes": true,
           "showland": true,
           "subunitcolor": "white"
          },
          "hoverlabel": {
           "align": "left"
          },
          "hovermode": "closest",
          "mapbox": {
           "style": "light"
          },
          "paper_bgcolor": "white",
          "plot_bgcolor": "#E5ECF6",
          "polar": {
           "angularaxis": {
            "gridcolor": "white",
            "linecolor": "white",
            "ticks": ""
           },
           "bgcolor": "#E5ECF6",
           "radialaxis": {
            "gridcolor": "white",
            "linecolor": "white",
            "ticks": ""
           }
          },
          "scene": {
           "xaxis": {
            "backgroundcolor": "#E5ECF6",
            "gridcolor": "white",
            "gridwidth": 2,
            "linecolor": "white",
            "showbackground": true,
            "ticks": "",
            "zerolinecolor": "white"
           },
           "yaxis": {
            "backgroundcolor": "#E5ECF6",
            "gridcolor": "white",
            "gridwidth": 2,
            "linecolor": "white",
            "showbackground": true,
            "ticks": "",
            "zerolinecolor": "white"
           },
           "zaxis": {
            "backgroundcolor": "#E5ECF6",
            "gridcolor": "white",
            "gridwidth": 2,
            "linecolor": "white",
            "showbackground": true,
            "ticks": "",
            "zerolinecolor": "white"
           }
          },
          "shapedefaults": {
           "line": {
            "color": "#2a3f5f"
           }
          },
          "ternary": {
           "aaxis": {
            "gridcolor": "white",
            "linecolor": "white",
            "ticks": ""
           },
           "baxis": {
            "gridcolor": "white",
            "linecolor": "white",
            "ticks": ""
           },
           "bgcolor": "#E5ECF6",
           "caxis": {
            "gridcolor": "white",
            "linecolor": "white",
            "ticks": ""
           }
          },
          "title": {
           "x": 0.05
          },
          "xaxis": {
           "automargin": true,
           "gridcolor": "white",
           "linecolor": "white",
           "ticks": "",
           "title": {
            "standoff": 15
           },
           "zerolinecolor": "white",
           "zerolinewidth": 2
          },
          "yaxis": {
           "automargin": true,
           "gridcolor": "white",
           "linecolor": "white",
           "ticks": "",
           "title": {
            "standoff": 15
           },
           "zerolinecolor": "white",
           "zerolinewidth": 2
          }
         }
        },
        "title": {
         "text": "Altura vs Pie Grupo Alto"
        },
        "xaxis": {
         "anchor": "y",
         "domain": [
          0,
          1
         ],
         "title": {
          "text": "Altura (cm)"
         }
        },
        "yaxis": {
         "anchor": "x",
         "domain": [
          0,
          1
         ],
         "title": {
          "text": "Pie (cm)"
         }
        }
       }
      }
     },
     "metadata": {},
     "output_type": "display_data"
    }
   ],
   "source": [
    "fig1 = px.scatter(df_alto, x=\"Altura\", y=\"Ancho\", \n",
    "                  title=\"Altura vs Ancho Grupo Alto\", \n",
    "                  labels={\"Altura\": \"Altura (cm)\", \"Ancho\": \"Ancho (cm)\"},\n",
    "                  color_discrete_sequence=[\"blue\"])\n",
    "\n",
    "fig2 = px.scatter(df_alto, x=\"Altura\", y=\"Pie\", \n",
    "                  title=\"Altura vs Pie Grupo Alto\" , \n",
    "                  labels={\"Altura\": \"Altura (cm)\", \"Pie\": \"Pie (cm)\"},\n",
    "                  color_discrete_sequence=[\"red\"])\n",
    "\n",
    "fig1.show()\n",
    "fig2.show()"
   ]
  },
  {
   "cell_type": "code",
   "execution_count": 31,
   "metadata": {},
   "outputs": [
    {
     "data": {
      "text/html": [
       "<style>#sk-container-id-3 {\n",
       "  /* Definition of color scheme common for light and dark mode */\n",
       "  --sklearn-color-text: #000;\n",
       "  --sklearn-color-text-muted: #666;\n",
       "  --sklearn-color-line: gray;\n",
       "  /* Definition of color scheme for unfitted estimators */\n",
       "  --sklearn-color-unfitted-level-0: #fff5e6;\n",
       "  --sklearn-color-unfitted-level-1: #f6e4d2;\n",
       "  --sklearn-color-unfitted-level-2: #ffe0b3;\n",
       "  --sklearn-color-unfitted-level-3: chocolate;\n",
       "  /* Definition of color scheme for fitted estimators */\n",
       "  --sklearn-color-fitted-level-0: #f0f8ff;\n",
       "  --sklearn-color-fitted-level-1: #d4ebff;\n",
       "  --sklearn-color-fitted-level-2: #b3dbfd;\n",
       "  --sklearn-color-fitted-level-3: cornflowerblue;\n",
       "\n",
       "  /* Specific color for light theme */\n",
       "  --sklearn-color-text-on-default-background: var(--sg-text-color, var(--theme-code-foreground, var(--jp-content-font-color1, black)));\n",
       "  --sklearn-color-background: var(--sg-background-color, var(--theme-background, var(--jp-layout-color0, white)));\n",
       "  --sklearn-color-border-box: var(--sg-text-color, var(--theme-code-foreground, var(--jp-content-font-color1, black)));\n",
       "  --sklearn-color-icon: #696969;\n",
       "\n",
       "  @media (prefers-color-scheme: dark) {\n",
       "    /* Redefinition of color scheme for dark theme */\n",
       "    --sklearn-color-text-on-default-background: var(--sg-text-color, var(--theme-code-foreground, var(--jp-content-font-color1, white)));\n",
       "    --sklearn-color-background: var(--sg-background-color, var(--theme-background, var(--jp-layout-color0, #111)));\n",
       "    --sklearn-color-border-box: var(--sg-text-color, var(--theme-code-foreground, var(--jp-content-font-color1, white)));\n",
       "    --sklearn-color-icon: #878787;\n",
       "  }\n",
       "}\n",
       "\n",
       "#sk-container-id-3 {\n",
       "  color: var(--sklearn-color-text);\n",
       "}\n",
       "\n",
       "#sk-container-id-3 pre {\n",
       "  padding: 0;\n",
       "}\n",
       "\n",
       "#sk-container-id-3 input.sk-hidden--visually {\n",
       "  border: 0;\n",
       "  clip: rect(1px 1px 1px 1px);\n",
       "  clip: rect(1px, 1px, 1px, 1px);\n",
       "  height: 1px;\n",
       "  margin: -1px;\n",
       "  overflow: hidden;\n",
       "  padding: 0;\n",
       "  position: absolute;\n",
       "  width: 1px;\n",
       "}\n",
       "\n",
       "#sk-container-id-3 div.sk-dashed-wrapped {\n",
       "  border: 1px dashed var(--sklearn-color-line);\n",
       "  margin: 0 0.4em 0.5em 0.4em;\n",
       "  box-sizing: border-box;\n",
       "  padding-bottom: 0.4em;\n",
       "  background-color: var(--sklearn-color-background);\n",
       "}\n",
       "\n",
       "#sk-container-id-3 div.sk-container {\n",
       "  /* jupyter's `normalize.less` sets `[hidden] { display: none; }`\n",
       "     but bootstrap.min.css set `[hidden] { display: none !important; }`\n",
       "     so we also need the `!important` here to be able to override the\n",
       "     default hidden behavior on the sphinx rendered scikit-learn.org.\n",
       "     See: https://github.com/scikit-learn/scikit-learn/issues/21755 */\n",
       "  display: inline-block !important;\n",
       "  position: relative;\n",
       "}\n",
       "\n",
       "#sk-container-id-3 div.sk-text-repr-fallback {\n",
       "  display: none;\n",
       "}\n",
       "\n",
       "div.sk-parallel-item,\n",
       "div.sk-serial,\n",
       "div.sk-item {\n",
       "  /* draw centered vertical line to link estimators */\n",
       "  background-image: linear-gradient(var(--sklearn-color-text-on-default-background), var(--sklearn-color-text-on-default-background));\n",
       "  background-size: 2px 100%;\n",
       "  background-repeat: no-repeat;\n",
       "  background-position: center center;\n",
       "}\n",
       "\n",
       "/* Parallel-specific style estimator block */\n",
       "\n",
       "#sk-container-id-3 div.sk-parallel-item::after {\n",
       "  content: \"\";\n",
       "  width: 100%;\n",
       "  border-bottom: 2px solid var(--sklearn-color-text-on-default-background);\n",
       "  flex-grow: 1;\n",
       "}\n",
       "\n",
       "#sk-container-id-3 div.sk-parallel {\n",
       "  display: flex;\n",
       "  align-items: stretch;\n",
       "  justify-content: center;\n",
       "  background-color: var(--sklearn-color-background);\n",
       "  position: relative;\n",
       "}\n",
       "\n",
       "#sk-container-id-3 div.sk-parallel-item {\n",
       "  display: flex;\n",
       "  flex-direction: column;\n",
       "}\n",
       "\n",
       "#sk-container-id-3 div.sk-parallel-item:first-child::after {\n",
       "  align-self: flex-end;\n",
       "  width: 50%;\n",
       "}\n",
       "\n",
       "#sk-container-id-3 div.sk-parallel-item:last-child::after {\n",
       "  align-self: flex-start;\n",
       "  width: 50%;\n",
       "}\n",
       "\n",
       "#sk-container-id-3 div.sk-parallel-item:only-child::after {\n",
       "  width: 0;\n",
       "}\n",
       "\n",
       "/* Serial-specific style estimator block */\n",
       "\n",
       "#sk-container-id-3 div.sk-serial {\n",
       "  display: flex;\n",
       "  flex-direction: column;\n",
       "  align-items: center;\n",
       "  background-color: var(--sklearn-color-background);\n",
       "  padding-right: 1em;\n",
       "  padding-left: 1em;\n",
       "}\n",
       "\n",
       "\n",
       "/* Toggleable style: style used for estimator/Pipeline/ColumnTransformer box that is\n",
       "clickable and can be expanded/collapsed.\n",
       "- Pipeline and ColumnTransformer use this feature and define the default style\n",
       "- Estimators will overwrite some part of the style using the `sk-estimator` class\n",
       "*/\n",
       "\n",
       "/* Pipeline and ColumnTransformer style (default) */\n",
       "\n",
       "#sk-container-id-3 div.sk-toggleable {\n",
       "  /* Default theme specific background. It is overwritten whether we have a\n",
       "  specific estimator or a Pipeline/ColumnTransformer */\n",
       "  background-color: var(--sklearn-color-background);\n",
       "}\n",
       "\n",
       "/* Toggleable label */\n",
       "#sk-container-id-3 label.sk-toggleable__label {\n",
       "  cursor: pointer;\n",
       "  display: flex;\n",
       "  width: 100%;\n",
       "  margin-bottom: 0;\n",
       "  padding: 0.5em;\n",
       "  box-sizing: border-box;\n",
       "  text-align: center;\n",
       "  align-items: start;\n",
       "  justify-content: space-between;\n",
       "  gap: 0.5em;\n",
       "}\n",
       "\n",
       "#sk-container-id-3 label.sk-toggleable__label .caption {\n",
       "  font-size: 0.6rem;\n",
       "  font-weight: lighter;\n",
       "  color: var(--sklearn-color-text-muted);\n",
       "}\n",
       "\n",
       "#sk-container-id-3 label.sk-toggleable__label-arrow:before {\n",
       "  /* Arrow on the left of the label */\n",
       "  content: \"▸\";\n",
       "  float: left;\n",
       "  margin-right: 0.25em;\n",
       "  color: var(--sklearn-color-icon);\n",
       "}\n",
       "\n",
       "#sk-container-id-3 label.sk-toggleable__label-arrow:hover:before {\n",
       "  color: var(--sklearn-color-text);\n",
       "}\n",
       "\n",
       "/* Toggleable content - dropdown */\n",
       "\n",
       "#sk-container-id-3 div.sk-toggleable__content {\n",
       "  max-height: 0;\n",
       "  max-width: 0;\n",
       "  overflow: hidden;\n",
       "  text-align: left;\n",
       "  /* unfitted */\n",
       "  background-color: var(--sklearn-color-unfitted-level-0);\n",
       "}\n",
       "\n",
       "#sk-container-id-3 div.sk-toggleable__content.fitted {\n",
       "  /* fitted */\n",
       "  background-color: var(--sklearn-color-fitted-level-0);\n",
       "}\n",
       "\n",
       "#sk-container-id-3 div.sk-toggleable__content pre {\n",
       "  margin: 0.2em;\n",
       "  border-radius: 0.25em;\n",
       "  color: var(--sklearn-color-text);\n",
       "  /* unfitted */\n",
       "  background-color: var(--sklearn-color-unfitted-level-0);\n",
       "}\n",
       "\n",
       "#sk-container-id-3 div.sk-toggleable__content.fitted pre {\n",
       "  /* unfitted */\n",
       "  background-color: var(--sklearn-color-fitted-level-0);\n",
       "}\n",
       "\n",
       "#sk-container-id-3 input.sk-toggleable__control:checked~div.sk-toggleable__content {\n",
       "  /* Expand drop-down */\n",
       "  max-height: 200px;\n",
       "  max-width: 100%;\n",
       "  overflow: auto;\n",
       "}\n",
       "\n",
       "#sk-container-id-3 input.sk-toggleable__control:checked~label.sk-toggleable__label-arrow:before {\n",
       "  content: \"▾\";\n",
       "}\n",
       "\n",
       "/* Pipeline/ColumnTransformer-specific style */\n",
       "\n",
       "#sk-container-id-3 div.sk-label input.sk-toggleable__control:checked~label.sk-toggleable__label {\n",
       "  color: var(--sklearn-color-text);\n",
       "  background-color: var(--sklearn-color-unfitted-level-2);\n",
       "}\n",
       "\n",
       "#sk-container-id-3 div.sk-label.fitted input.sk-toggleable__control:checked~label.sk-toggleable__label {\n",
       "  background-color: var(--sklearn-color-fitted-level-2);\n",
       "}\n",
       "\n",
       "/* Estimator-specific style */\n",
       "\n",
       "/* Colorize estimator box */\n",
       "#sk-container-id-3 div.sk-estimator input.sk-toggleable__control:checked~label.sk-toggleable__label {\n",
       "  /* unfitted */\n",
       "  background-color: var(--sklearn-color-unfitted-level-2);\n",
       "}\n",
       "\n",
       "#sk-container-id-3 div.sk-estimator.fitted input.sk-toggleable__control:checked~label.sk-toggleable__label {\n",
       "  /* fitted */\n",
       "  background-color: var(--sklearn-color-fitted-level-2);\n",
       "}\n",
       "\n",
       "#sk-container-id-3 div.sk-label label.sk-toggleable__label,\n",
       "#sk-container-id-3 div.sk-label label {\n",
       "  /* The background is the default theme color */\n",
       "  color: var(--sklearn-color-text-on-default-background);\n",
       "}\n",
       "\n",
       "/* On hover, darken the color of the background */\n",
       "#sk-container-id-3 div.sk-label:hover label.sk-toggleable__label {\n",
       "  color: var(--sklearn-color-text);\n",
       "  background-color: var(--sklearn-color-unfitted-level-2);\n",
       "}\n",
       "\n",
       "/* Label box, darken color on hover, fitted */\n",
       "#sk-container-id-3 div.sk-label.fitted:hover label.sk-toggleable__label.fitted {\n",
       "  color: var(--sklearn-color-text);\n",
       "  background-color: var(--sklearn-color-fitted-level-2);\n",
       "}\n",
       "\n",
       "/* Estimator label */\n",
       "\n",
       "#sk-container-id-3 div.sk-label label {\n",
       "  font-family: monospace;\n",
       "  font-weight: bold;\n",
       "  display: inline-block;\n",
       "  line-height: 1.2em;\n",
       "}\n",
       "\n",
       "#sk-container-id-3 div.sk-label-container {\n",
       "  text-align: center;\n",
       "}\n",
       "\n",
       "/* Estimator-specific */\n",
       "#sk-container-id-3 div.sk-estimator {\n",
       "  font-family: monospace;\n",
       "  border: 1px dotted var(--sklearn-color-border-box);\n",
       "  border-radius: 0.25em;\n",
       "  box-sizing: border-box;\n",
       "  margin-bottom: 0.5em;\n",
       "  /* unfitted */\n",
       "  background-color: var(--sklearn-color-unfitted-level-0);\n",
       "}\n",
       "\n",
       "#sk-container-id-3 div.sk-estimator.fitted {\n",
       "  /* fitted */\n",
       "  background-color: var(--sklearn-color-fitted-level-0);\n",
       "}\n",
       "\n",
       "/* on hover */\n",
       "#sk-container-id-3 div.sk-estimator:hover {\n",
       "  /* unfitted */\n",
       "  background-color: var(--sklearn-color-unfitted-level-2);\n",
       "}\n",
       "\n",
       "#sk-container-id-3 div.sk-estimator.fitted:hover {\n",
       "  /* fitted */\n",
       "  background-color: var(--sklearn-color-fitted-level-2);\n",
       "}\n",
       "\n",
       "/* Specification for estimator info (e.g. \"i\" and \"?\") */\n",
       "\n",
       "/* Common style for \"i\" and \"?\" */\n",
       "\n",
       ".sk-estimator-doc-link,\n",
       "a:link.sk-estimator-doc-link,\n",
       "a:visited.sk-estimator-doc-link {\n",
       "  float: right;\n",
       "  font-size: smaller;\n",
       "  line-height: 1em;\n",
       "  font-family: monospace;\n",
       "  background-color: var(--sklearn-color-background);\n",
       "  border-radius: 1em;\n",
       "  height: 1em;\n",
       "  width: 1em;\n",
       "  text-decoration: none !important;\n",
       "  margin-left: 0.5em;\n",
       "  text-align: center;\n",
       "  /* unfitted */\n",
       "  border: var(--sklearn-color-unfitted-level-1) 1pt solid;\n",
       "  color: var(--sklearn-color-unfitted-level-1);\n",
       "}\n",
       "\n",
       ".sk-estimator-doc-link.fitted,\n",
       "a:link.sk-estimator-doc-link.fitted,\n",
       "a:visited.sk-estimator-doc-link.fitted {\n",
       "  /* fitted */\n",
       "  border: var(--sklearn-color-fitted-level-1) 1pt solid;\n",
       "  color: var(--sklearn-color-fitted-level-1);\n",
       "}\n",
       "\n",
       "/* On hover */\n",
       "div.sk-estimator:hover .sk-estimator-doc-link:hover,\n",
       ".sk-estimator-doc-link:hover,\n",
       "div.sk-label-container:hover .sk-estimator-doc-link:hover,\n",
       ".sk-estimator-doc-link:hover {\n",
       "  /* unfitted */\n",
       "  background-color: var(--sklearn-color-unfitted-level-3);\n",
       "  color: var(--sklearn-color-background);\n",
       "  text-decoration: none;\n",
       "}\n",
       "\n",
       "div.sk-estimator.fitted:hover .sk-estimator-doc-link.fitted:hover,\n",
       ".sk-estimator-doc-link.fitted:hover,\n",
       "div.sk-label-container:hover .sk-estimator-doc-link.fitted:hover,\n",
       ".sk-estimator-doc-link.fitted:hover {\n",
       "  /* fitted */\n",
       "  background-color: var(--sklearn-color-fitted-level-3);\n",
       "  color: var(--sklearn-color-background);\n",
       "  text-decoration: none;\n",
       "}\n",
       "\n",
       "/* Span, style for the box shown on hovering the info icon */\n",
       ".sk-estimator-doc-link span {\n",
       "  display: none;\n",
       "  z-index: 9999;\n",
       "  position: relative;\n",
       "  font-weight: normal;\n",
       "  right: .2ex;\n",
       "  padding: .5ex;\n",
       "  margin: .5ex;\n",
       "  width: min-content;\n",
       "  min-width: 20ex;\n",
       "  max-width: 50ex;\n",
       "  color: var(--sklearn-color-text);\n",
       "  box-shadow: 2pt 2pt 4pt #999;\n",
       "  /* unfitted */\n",
       "  background: var(--sklearn-color-unfitted-level-0);\n",
       "  border: .5pt solid var(--sklearn-color-unfitted-level-3);\n",
       "}\n",
       "\n",
       ".sk-estimator-doc-link.fitted span {\n",
       "  /* fitted */\n",
       "  background: var(--sklearn-color-fitted-level-0);\n",
       "  border: var(--sklearn-color-fitted-level-3);\n",
       "}\n",
       "\n",
       ".sk-estimator-doc-link:hover span {\n",
       "  display: block;\n",
       "}\n",
       "\n",
       "/* \"?\"-specific style due to the `<a>` HTML tag */\n",
       "\n",
       "#sk-container-id-3 a.estimator_doc_link {\n",
       "  float: right;\n",
       "  font-size: 1rem;\n",
       "  line-height: 1em;\n",
       "  font-family: monospace;\n",
       "  background-color: var(--sklearn-color-background);\n",
       "  border-radius: 1rem;\n",
       "  height: 1rem;\n",
       "  width: 1rem;\n",
       "  text-decoration: none;\n",
       "  /* unfitted */\n",
       "  color: var(--sklearn-color-unfitted-level-1);\n",
       "  border: var(--sklearn-color-unfitted-level-1) 1pt solid;\n",
       "}\n",
       "\n",
       "#sk-container-id-3 a.estimator_doc_link.fitted {\n",
       "  /* fitted */\n",
       "  border: var(--sklearn-color-fitted-level-1) 1pt solid;\n",
       "  color: var(--sklearn-color-fitted-level-1);\n",
       "}\n",
       "\n",
       "/* On hover */\n",
       "#sk-container-id-3 a.estimator_doc_link:hover {\n",
       "  /* unfitted */\n",
       "  background-color: var(--sklearn-color-unfitted-level-3);\n",
       "  color: var(--sklearn-color-background);\n",
       "  text-decoration: none;\n",
       "}\n",
       "\n",
       "#sk-container-id-3 a.estimator_doc_link.fitted:hover {\n",
       "  /* fitted */\n",
       "  background-color: var(--sklearn-color-fitted-level-3);\n",
       "}\n",
       "</style><div id=\"sk-container-id-3\" class=\"sk-top-container\"><div class=\"sk-text-repr-fallback\"><pre>LinearRegression()</pre><b>In a Jupyter environment, please rerun this cell to show the HTML representation or trust the notebook. <br />On GitHub, the HTML representation is unable to render, please try loading this page with nbviewer.org.</b></div><div class=\"sk-container\" hidden><div class=\"sk-item\"><div class=\"sk-estimator fitted sk-toggleable\"><input class=\"sk-toggleable__control sk-hidden--visually\" id=\"sk-estimator-id-5\" type=\"checkbox\" checked><label for=\"sk-estimator-id-5\" class=\"sk-toggleable__label fitted sk-toggleable__label-arrow\"><div><div>LinearRegression</div></div><div><a class=\"sk-estimator-doc-link fitted\" rel=\"noreferrer\" target=\"_blank\" href=\"https://scikit-learn.org/1.6/modules/generated/sklearn.linear_model.LinearRegression.html\">?<span>Documentation for LinearRegression</span></a><span class=\"sk-estimator-doc-link fitted\">i<span>Fitted</span></span></div></label><div class=\"sk-toggleable__content fitted\"><pre>LinearRegression()</pre></div> </div></div></div></div>"
      ],
      "text/plain": [
       "LinearRegression()"
      ]
     },
     "execution_count": 31,
     "metadata": {},
     "output_type": "execute_result"
    }
   ],
   "source": [
    "X_bajo = df_bajo[['Pie', 'Ancho']]\n",
    "y_bajo = df_bajo['Altura']\n",
    "\n",
    "X_alto = df_alto[['Pie', 'Ancho']]\n",
    "y_alto = df_alto['Altura']\n",
    "\n",
    "X_train_bajo, X_test_bajo, y_train_bajo, y_test_bajo = train_test_split(X_bajo, y_bajo, test_size=0.2, random_state=42)\n",
    "X_train_alto, X_test_alto, y_train_alto, y_test_alto = train_test_split(X_alto, y_alto, test_size=0.2, random_state=42)\n",
    "\n",
    "model_bajo = LinearRegression()\n",
    "model_bajo.fit(X_train_bajo, y_train_bajo)\n",
    "\n",
    "model_alto = LinearRegression()\n",
    "model_alto.fit(X_train_alto, y_train_alto)"
   ]
  },
  {
   "cell_type": "code",
   "execution_count": 32,
   "metadata": {},
   "outputs": [],
   "source": [
    "y_pred_bajo = model_bajo.predict(X_test_bajo)\n",
    "y_pred_alto = model_alto.predict(X_test_alto)"
   ]
  },
  {
   "cell_type": "code",
   "execution_count": 33,
   "metadata": {},
   "outputs": [
    {
     "data": {
      "application/vnd.plotly.v1+json": {
       "config": {
        "plotlyServerURL": "https://plot.ly"
       },
       "data": [
        {
         "marker": {
          "color": "blue"
         },
         "mode": "markers",
         "name": "Datos (Bajo)",
         "type": "scatter",
         "x": {
          "bdata": "WjMSPo0pZEAHxGIn4XlkQAAAAAAA4GNAAAAAAABAZEBDtke5aCpkQDs1yiFu12NAjAUSCsJsY0A=",
          "dtype": "f8"
         },
         "y": {
          "bdata": "1wix46DcY0Ct1VDopehjQPgawhRs3WNAMrj9PFklZECRYHtwxNJjQK3pBN2njWNAZsh+TI4GZEA=",
          "dtype": "f8"
         }
        },
        {
         "line": {
          "color": "red",
          "dash": "dash"
         },
         "mode": "lines",
         "name": "Línea Ideal",
         "type": "scatter",
         "x": {
          "bdata": "WjMSPo0pZEAHxGIn4XlkQAAAAAAA4GNAAAAAAABAZEBDtke5aCpkQDs1yiFu12NAjAUSCsJsY0A=",
          "dtype": "f8"
         },
         "y": {
          "bdata": "WjMSPo0pZEAHxGIn4XlkQAAAAAAA4GNAAAAAAABAZEBDtke5aCpkQDs1yiFu12NAjAUSCsJsY0A=",
          "dtype": "f8"
         }
        }
       ],
       "layout": {
        "height": 500,
        "template": {
         "data": {
          "bar": [
           {
            "error_x": {
             "color": "#2a3f5f"
            },
            "error_y": {
             "color": "#2a3f5f"
            },
            "marker": {
             "line": {
              "color": "#E5ECF6",
              "width": 0.5
             },
             "pattern": {
              "fillmode": "overlay",
              "size": 10,
              "solidity": 0.2
             }
            },
            "type": "bar"
           }
          ],
          "barpolar": [
           {
            "marker": {
             "line": {
              "color": "#E5ECF6",
              "width": 0.5
             },
             "pattern": {
              "fillmode": "overlay",
              "size": 10,
              "solidity": 0.2
             }
            },
            "type": "barpolar"
           }
          ],
          "carpet": [
           {
            "aaxis": {
             "endlinecolor": "#2a3f5f",
             "gridcolor": "white",
             "linecolor": "white",
             "minorgridcolor": "white",
             "startlinecolor": "#2a3f5f"
            },
            "baxis": {
             "endlinecolor": "#2a3f5f",
             "gridcolor": "white",
             "linecolor": "white",
             "minorgridcolor": "white",
             "startlinecolor": "#2a3f5f"
            },
            "type": "carpet"
           }
          ],
          "choropleth": [
           {
            "colorbar": {
             "outlinewidth": 0,
             "ticks": ""
            },
            "type": "choropleth"
           }
          ],
          "contour": [
           {
            "colorbar": {
             "outlinewidth": 0,
             "ticks": ""
            },
            "colorscale": [
             [
              0,
              "#0d0887"
             ],
             [
              0.1111111111111111,
              "#46039f"
             ],
             [
              0.2222222222222222,
              "#7201a8"
             ],
             [
              0.3333333333333333,
              "#9c179e"
             ],
             [
              0.4444444444444444,
              "#bd3786"
             ],
             [
              0.5555555555555556,
              "#d8576b"
             ],
             [
              0.6666666666666666,
              "#ed7953"
             ],
             [
              0.7777777777777778,
              "#fb9f3a"
             ],
             [
              0.8888888888888888,
              "#fdca26"
             ],
             [
              1,
              "#f0f921"
             ]
            ],
            "type": "contour"
           }
          ],
          "contourcarpet": [
           {
            "colorbar": {
             "outlinewidth": 0,
             "ticks": ""
            },
            "type": "contourcarpet"
           }
          ],
          "heatmap": [
           {
            "colorbar": {
             "outlinewidth": 0,
             "ticks": ""
            },
            "colorscale": [
             [
              0,
              "#0d0887"
             ],
             [
              0.1111111111111111,
              "#46039f"
             ],
             [
              0.2222222222222222,
              "#7201a8"
             ],
             [
              0.3333333333333333,
              "#9c179e"
             ],
             [
              0.4444444444444444,
              "#bd3786"
             ],
             [
              0.5555555555555556,
              "#d8576b"
             ],
             [
              0.6666666666666666,
              "#ed7953"
             ],
             [
              0.7777777777777778,
              "#fb9f3a"
             ],
             [
              0.8888888888888888,
              "#fdca26"
             ],
             [
              1,
              "#f0f921"
             ]
            ],
            "type": "heatmap"
           }
          ],
          "histogram": [
           {
            "marker": {
             "pattern": {
              "fillmode": "overlay",
              "size": 10,
              "solidity": 0.2
             }
            },
            "type": "histogram"
           }
          ],
          "histogram2d": [
           {
            "colorbar": {
             "outlinewidth": 0,
             "ticks": ""
            },
            "colorscale": [
             [
              0,
              "#0d0887"
             ],
             [
              0.1111111111111111,
              "#46039f"
             ],
             [
              0.2222222222222222,
              "#7201a8"
             ],
             [
              0.3333333333333333,
              "#9c179e"
             ],
             [
              0.4444444444444444,
              "#bd3786"
             ],
             [
              0.5555555555555556,
              "#d8576b"
             ],
             [
              0.6666666666666666,
              "#ed7953"
             ],
             [
              0.7777777777777778,
              "#fb9f3a"
             ],
             [
              0.8888888888888888,
              "#fdca26"
             ],
             [
              1,
              "#f0f921"
             ]
            ],
            "type": "histogram2d"
           }
          ],
          "histogram2dcontour": [
           {
            "colorbar": {
             "outlinewidth": 0,
             "ticks": ""
            },
            "colorscale": [
             [
              0,
              "#0d0887"
             ],
             [
              0.1111111111111111,
              "#46039f"
             ],
             [
              0.2222222222222222,
              "#7201a8"
             ],
             [
              0.3333333333333333,
              "#9c179e"
             ],
             [
              0.4444444444444444,
              "#bd3786"
             ],
             [
              0.5555555555555556,
              "#d8576b"
             ],
             [
              0.6666666666666666,
              "#ed7953"
             ],
             [
              0.7777777777777778,
              "#fb9f3a"
             ],
             [
              0.8888888888888888,
              "#fdca26"
             ],
             [
              1,
              "#f0f921"
             ]
            ],
            "type": "histogram2dcontour"
           }
          ],
          "mesh3d": [
           {
            "colorbar": {
             "outlinewidth": 0,
             "ticks": ""
            },
            "type": "mesh3d"
           }
          ],
          "parcoords": [
           {
            "line": {
             "colorbar": {
              "outlinewidth": 0,
              "ticks": ""
             }
            },
            "type": "parcoords"
           }
          ],
          "pie": [
           {
            "automargin": true,
            "type": "pie"
           }
          ],
          "scatter": [
           {
            "fillpattern": {
             "fillmode": "overlay",
             "size": 10,
             "solidity": 0.2
            },
            "type": "scatter"
           }
          ],
          "scatter3d": [
           {
            "line": {
             "colorbar": {
              "outlinewidth": 0,
              "ticks": ""
             }
            },
            "marker": {
             "colorbar": {
              "outlinewidth": 0,
              "ticks": ""
             }
            },
            "type": "scatter3d"
           }
          ],
          "scattercarpet": [
           {
            "marker": {
             "colorbar": {
              "outlinewidth": 0,
              "ticks": ""
             }
            },
            "type": "scattercarpet"
           }
          ],
          "scattergeo": [
           {
            "marker": {
             "colorbar": {
              "outlinewidth": 0,
              "ticks": ""
             }
            },
            "type": "scattergeo"
           }
          ],
          "scattergl": [
           {
            "marker": {
             "colorbar": {
              "outlinewidth": 0,
              "ticks": ""
             }
            },
            "type": "scattergl"
           }
          ],
          "scattermap": [
           {
            "marker": {
             "colorbar": {
              "outlinewidth": 0,
              "ticks": ""
             }
            },
            "type": "scattermap"
           }
          ],
          "scattermapbox": [
           {
            "marker": {
             "colorbar": {
              "outlinewidth": 0,
              "ticks": ""
             }
            },
            "type": "scattermapbox"
           }
          ],
          "scatterpolar": [
           {
            "marker": {
             "colorbar": {
              "outlinewidth": 0,
              "ticks": ""
             }
            },
            "type": "scatterpolar"
           }
          ],
          "scatterpolargl": [
           {
            "marker": {
             "colorbar": {
              "outlinewidth": 0,
              "ticks": ""
             }
            },
            "type": "scatterpolargl"
           }
          ],
          "scatterternary": [
           {
            "marker": {
             "colorbar": {
              "outlinewidth": 0,
              "ticks": ""
             }
            },
            "type": "scatterternary"
           }
          ],
          "surface": [
           {
            "colorbar": {
             "outlinewidth": 0,
             "ticks": ""
            },
            "colorscale": [
             [
              0,
              "#0d0887"
             ],
             [
              0.1111111111111111,
              "#46039f"
             ],
             [
              0.2222222222222222,
              "#7201a8"
             ],
             [
              0.3333333333333333,
              "#9c179e"
             ],
             [
              0.4444444444444444,
              "#bd3786"
             ],
             [
              0.5555555555555556,
              "#d8576b"
             ],
             [
              0.6666666666666666,
              "#ed7953"
             ],
             [
              0.7777777777777778,
              "#fb9f3a"
             ],
             [
              0.8888888888888888,
              "#fdca26"
             ],
             [
              1,
              "#f0f921"
             ]
            ],
            "type": "surface"
           }
          ],
          "table": [
           {
            "cells": {
             "fill": {
              "color": "#EBF0F8"
             },
             "line": {
              "color": "white"
             }
            },
            "header": {
             "fill": {
              "color": "#C8D4E3"
             },
             "line": {
              "color": "white"
             }
            },
            "type": "table"
           }
          ]
         },
         "layout": {
          "annotationdefaults": {
           "arrowcolor": "#2a3f5f",
           "arrowhead": 0,
           "arrowwidth": 1
          },
          "autotypenumbers": "strict",
          "coloraxis": {
           "colorbar": {
            "outlinewidth": 0,
            "ticks": ""
           }
          },
          "colorscale": {
           "diverging": [
            [
             0,
             "#8e0152"
            ],
            [
             0.1,
             "#c51b7d"
            ],
            [
             0.2,
             "#de77ae"
            ],
            [
             0.3,
             "#f1b6da"
            ],
            [
             0.4,
             "#fde0ef"
            ],
            [
             0.5,
             "#f7f7f7"
            ],
            [
             0.6,
             "#e6f5d0"
            ],
            [
             0.7,
             "#b8e186"
            ],
            [
             0.8,
             "#7fbc41"
            ],
            [
             0.9,
             "#4d9221"
            ],
            [
             1,
             "#276419"
            ]
           ],
           "sequential": [
            [
             0,
             "#0d0887"
            ],
            [
             0.1111111111111111,
             "#46039f"
            ],
            [
             0.2222222222222222,
             "#7201a8"
            ],
            [
             0.3333333333333333,
             "#9c179e"
            ],
            [
             0.4444444444444444,
             "#bd3786"
            ],
            [
             0.5555555555555556,
             "#d8576b"
            ],
            [
             0.6666666666666666,
             "#ed7953"
            ],
            [
             0.7777777777777778,
             "#fb9f3a"
            ],
            [
             0.8888888888888888,
             "#fdca26"
            ],
            [
             1,
             "#f0f921"
            ]
           ],
           "sequentialminus": [
            [
             0,
             "#0d0887"
            ],
            [
             0.1111111111111111,
             "#46039f"
            ],
            [
             0.2222222222222222,
             "#7201a8"
            ],
            [
             0.3333333333333333,
             "#9c179e"
            ],
            [
             0.4444444444444444,
             "#bd3786"
            ],
            [
             0.5555555555555556,
             "#d8576b"
            ],
            [
             0.6666666666666666,
             "#ed7953"
            ],
            [
             0.7777777777777778,
             "#fb9f3a"
            ],
            [
             0.8888888888888888,
             "#fdca26"
            ],
            [
             1,
             "#f0f921"
            ]
           ]
          },
          "colorway": [
           "#636efa",
           "#EF553B",
           "#00cc96",
           "#ab63fa",
           "#FFA15A",
           "#19d3f3",
           "#FF6692",
           "#B6E880",
           "#FF97FF",
           "#FECB52"
          ],
          "font": {
           "color": "#2a3f5f"
          },
          "geo": {
           "bgcolor": "white",
           "lakecolor": "white",
           "landcolor": "#E5ECF6",
           "showlakes": true,
           "showland": true,
           "subunitcolor": "white"
          },
          "hoverlabel": {
           "align": "left"
          },
          "hovermode": "closest",
          "mapbox": {
           "style": "light"
          },
          "paper_bgcolor": "white",
          "plot_bgcolor": "#E5ECF6",
          "polar": {
           "angularaxis": {
            "gridcolor": "white",
            "linecolor": "white",
            "ticks": ""
           },
           "bgcolor": "#E5ECF6",
           "radialaxis": {
            "gridcolor": "white",
            "linecolor": "white",
            "ticks": ""
           }
          },
          "scene": {
           "xaxis": {
            "backgroundcolor": "#E5ECF6",
            "gridcolor": "white",
            "gridwidth": 2,
            "linecolor": "white",
            "showbackground": true,
            "ticks": "",
            "zerolinecolor": "white"
           },
           "yaxis": {
            "backgroundcolor": "#E5ECF6",
            "gridcolor": "white",
            "gridwidth": 2,
            "linecolor": "white",
            "showbackground": true,
            "ticks": "",
            "zerolinecolor": "white"
           },
           "zaxis": {
            "backgroundcolor": "#E5ECF6",
            "gridcolor": "white",
            "gridwidth": 2,
            "linecolor": "white",
            "showbackground": true,
            "ticks": "",
            "zerolinecolor": "white"
           }
          },
          "shapedefaults": {
           "line": {
            "color": "#2a3f5f"
           }
          },
          "ternary": {
           "aaxis": {
            "gridcolor": "white",
            "linecolor": "white",
            "ticks": ""
           },
           "baxis": {
            "gridcolor": "white",
            "linecolor": "white",
            "ticks": ""
           },
           "bgcolor": "#E5ECF6",
           "caxis": {
            "gridcolor": "white",
            "linecolor": "white",
            "ticks": ""
           }
          },
          "title": {
           "x": 0.05
          },
          "xaxis": {
           "automargin": true,
           "gridcolor": "white",
           "linecolor": "white",
           "ticks": "",
           "title": {
            "standoff": 15
           },
           "zerolinecolor": "white",
           "zerolinewidth": 2
          },
          "yaxis": {
           "automargin": true,
           "gridcolor": "white",
           "linecolor": "white",
           "ticks": "",
           "title": {
            "standoff": 15
           },
           "zerolinecolor": "white",
           "zerolinewidth": 2
          }
         }
        },
        "title": {
         "text": "Predicción Altura (Grupo Bajo)"
        },
        "width": 700,
        "xaxis": {
         "title": {
          "text": "Altura Real"
         }
        },
        "yaxis": {
         "title": {
          "text": "Altura Predicha"
         }
        }
       }
      }
     },
     "metadata": {},
     "output_type": "display_data"
    }
   ],
   "source": [
    "fig_bajo = go.Figure()\n",
    "\n",
    "fig_bajo.add_trace(go.Scatter(\n",
    "    x=y_test_bajo, \n",
    "    y=y_pred_bajo,\n",
    "    mode='markers',\n",
    "    name='Datos (Bajo)',\n",
    "    marker=dict(color='blue')\n",
    "))\n",
    "\n",
    "fig_bajo.add_trace(go.Scatter(\n",
    "    x=y_test_bajo,\n",
    "    y=y_test_bajo,\n",
    "    mode='lines',\n",
    "    name='Línea Ideal',\n",
    "    line=dict(color='red', dash='dash')\n",
    "))\n",
    "\n",
    "fig_bajo.update_layout(\n",
    "    title='Predicción Altura (Grupo Bajo)',\n",
    "    xaxis_title='Altura Real',\n",
    "    yaxis_title='Altura Predicha',\n",
    "    width=700,\n",
    "    height=500\n",
    ")\n",
    "\n",
    "fig_bajo.show()"
   ]
  },
  {
   "cell_type": "code",
   "execution_count": 34,
   "metadata": {},
   "outputs": [
    {
     "data": {
      "application/vnd.plotly.v1+json": {
       "config": {
        "plotlyServerURL": "https://plot.ly"
       },
       "data": [
        {
         "marker": {
          "color": "green"
         },
         "mode": "markers",
         "name": "Datos (Alto)",
         "type": "scatter",
         "x": {
          "bdata": "pgCQ5g7AZkAKN9e2/zplQAAAAAAAgGVAAAAAAACgZUD2ZnOkZ+tlQHW04kqqw2RAyEJgj93EZEA=",
          "dtype": "f8"
         },
         "y": {
          "bdata": "vpvyr7UYZkDqsqqzWTdmQIP7q7GY4GVAfi/l/Pm+ZUAUTYOx+v9lQDPJAwagMmVACjh6D5YXZUA=",
          "dtype": "f8"
         }
        },
        {
         "line": {
          "color": "red",
          "dash": "dash"
         },
         "mode": "lines",
         "name": "Línea Ideal",
         "type": "scatter",
         "x": {
          "bdata": "pgCQ5g7AZkAKN9e2/zplQAAAAAAAgGVAAAAAAACgZUD2ZnOkZ+tlQHW04kqqw2RAyEJgj93EZEA=",
          "dtype": "f8"
         },
         "y": {
          "bdata": "pgCQ5g7AZkAKN9e2/zplQAAAAAAAgGVAAAAAAACgZUD2ZnOkZ+tlQHW04kqqw2RAyEJgj93EZEA=",
          "dtype": "f8"
         }
        }
       ],
       "layout": {
        "height": 500,
        "template": {
         "data": {
          "bar": [
           {
            "error_x": {
             "color": "#2a3f5f"
            },
            "error_y": {
             "color": "#2a3f5f"
            },
            "marker": {
             "line": {
              "color": "#E5ECF6",
              "width": 0.5
             },
             "pattern": {
              "fillmode": "overlay",
              "size": 10,
              "solidity": 0.2
             }
            },
            "type": "bar"
           }
          ],
          "barpolar": [
           {
            "marker": {
             "line": {
              "color": "#E5ECF6",
              "width": 0.5
             },
             "pattern": {
              "fillmode": "overlay",
              "size": 10,
              "solidity": 0.2
             }
            },
            "type": "barpolar"
           }
          ],
          "carpet": [
           {
            "aaxis": {
             "endlinecolor": "#2a3f5f",
             "gridcolor": "white",
             "linecolor": "white",
             "minorgridcolor": "white",
             "startlinecolor": "#2a3f5f"
            },
            "baxis": {
             "endlinecolor": "#2a3f5f",
             "gridcolor": "white",
             "linecolor": "white",
             "minorgridcolor": "white",
             "startlinecolor": "#2a3f5f"
            },
            "type": "carpet"
           }
          ],
          "choropleth": [
           {
            "colorbar": {
             "outlinewidth": 0,
             "ticks": ""
            },
            "type": "choropleth"
           }
          ],
          "contour": [
           {
            "colorbar": {
             "outlinewidth": 0,
             "ticks": ""
            },
            "colorscale": [
             [
              0,
              "#0d0887"
             ],
             [
              0.1111111111111111,
              "#46039f"
             ],
             [
              0.2222222222222222,
              "#7201a8"
             ],
             [
              0.3333333333333333,
              "#9c179e"
             ],
             [
              0.4444444444444444,
              "#bd3786"
             ],
             [
              0.5555555555555556,
              "#d8576b"
             ],
             [
              0.6666666666666666,
              "#ed7953"
             ],
             [
              0.7777777777777778,
              "#fb9f3a"
             ],
             [
              0.8888888888888888,
              "#fdca26"
             ],
             [
              1,
              "#f0f921"
             ]
            ],
            "type": "contour"
           }
          ],
          "contourcarpet": [
           {
            "colorbar": {
             "outlinewidth": 0,
             "ticks": ""
            },
            "type": "contourcarpet"
           }
          ],
          "heatmap": [
           {
            "colorbar": {
             "outlinewidth": 0,
             "ticks": ""
            },
            "colorscale": [
             [
              0,
              "#0d0887"
             ],
             [
              0.1111111111111111,
              "#46039f"
             ],
             [
              0.2222222222222222,
              "#7201a8"
             ],
             [
              0.3333333333333333,
              "#9c179e"
             ],
             [
              0.4444444444444444,
              "#bd3786"
             ],
             [
              0.5555555555555556,
              "#d8576b"
             ],
             [
              0.6666666666666666,
              "#ed7953"
             ],
             [
              0.7777777777777778,
              "#fb9f3a"
             ],
             [
              0.8888888888888888,
              "#fdca26"
             ],
             [
              1,
              "#f0f921"
             ]
            ],
            "type": "heatmap"
           }
          ],
          "histogram": [
           {
            "marker": {
             "pattern": {
              "fillmode": "overlay",
              "size": 10,
              "solidity": 0.2
             }
            },
            "type": "histogram"
           }
          ],
          "histogram2d": [
           {
            "colorbar": {
             "outlinewidth": 0,
             "ticks": ""
            },
            "colorscale": [
             [
              0,
              "#0d0887"
             ],
             [
              0.1111111111111111,
              "#46039f"
             ],
             [
              0.2222222222222222,
              "#7201a8"
             ],
             [
              0.3333333333333333,
              "#9c179e"
             ],
             [
              0.4444444444444444,
              "#bd3786"
             ],
             [
              0.5555555555555556,
              "#d8576b"
             ],
             [
              0.6666666666666666,
              "#ed7953"
             ],
             [
              0.7777777777777778,
              "#fb9f3a"
             ],
             [
              0.8888888888888888,
              "#fdca26"
             ],
             [
              1,
              "#f0f921"
             ]
            ],
            "type": "histogram2d"
           }
          ],
          "histogram2dcontour": [
           {
            "colorbar": {
             "outlinewidth": 0,
             "ticks": ""
            },
            "colorscale": [
             [
              0,
              "#0d0887"
             ],
             [
              0.1111111111111111,
              "#46039f"
             ],
             [
              0.2222222222222222,
              "#7201a8"
             ],
             [
              0.3333333333333333,
              "#9c179e"
             ],
             [
              0.4444444444444444,
              "#bd3786"
             ],
             [
              0.5555555555555556,
              "#d8576b"
             ],
             [
              0.6666666666666666,
              "#ed7953"
             ],
             [
              0.7777777777777778,
              "#fb9f3a"
             ],
             [
              0.8888888888888888,
              "#fdca26"
             ],
             [
              1,
              "#f0f921"
             ]
            ],
            "type": "histogram2dcontour"
           }
          ],
          "mesh3d": [
           {
            "colorbar": {
             "outlinewidth": 0,
             "ticks": ""
            },
            "type": "mesh3d"
           }
          ],
          "parcoords": [
           {
            "line": {
             "colorbar": {
              "outlinewidth": 0,
              "ticks": ""
             }
            },
            "type": "parcoords"
           }
          ],
          "pie": [
           {
            "automargin": true,
            "type": "pie"
           }
          ],
          "scatter": [
           {
            "fillpattern": {
             "fillmode": "overlay",
             "size": 10,
             "solidity": 0.2
            },
            "type": "scatter"
           }
          ],
          "scatter3d": [
           {
            "line": {
             "colorbar": {
              "outlinewidth": 0,
              "ticks": ""
             }
            },
            "marker": {
             "colorbar": {
              "outlinewidth": 0,
              "ticks": ""
             }
            },
            "type": "scatter3d"
           }
          ],
          "scattercarpet": [
           {
            "marker": {
             "colorbar": {
              "outlinewidth": 0,
              "ticks": ""
             }
            },
            "type": "scattercarpet"
           }
          ],
          "scattergeo": [
           {
            "marker": {
             "colorbar": {
              "outlinewidth": 0,
              "ticks": ""
             }
            },
            "type": "scattergeo"
           }
          ],
          "scattergl": [
           {
            "marker": {
             "colorbar": {
              "outlinewidth": 0,
              "ticks": ""
             }
            },
            "type": "scattergl"
           }
          ],
          "scattermap": [
           {
            "marker": {
             "colorbar": {
              "outlinewidth": 0,
              "ticks": ""
             }
            },
            "type": "scattermap"
           }
          ],
          "scattermapbox": [
           {
            "marker": {
             "colorbar": {
              "outlinewidth": 0,
              "ticks": ""
             }
            },
            "type": "scattermapbox"
           }
          ],
          "scatterpolar": [
           {
            "marker": {
             "colorbar": {
              "outlinewidth": 0,
              "ticks": ""
             }
            },
            "type": "scatterpolar"
           }
          ],
          "scatterpolargl": [
           {
            "marker": {
             "colorbar": {
              "outlinewidth": 0,
              "ticks": ""
             }
            },
            "type": "scatterpolargl"
           }
          ],
          "scatterternary": [
           {
            "marker": {
             "colorbar": {
              "outlinewidth": 0,
              "ticks": ""
             }
            },
            "type": "scatterternary"
           }
          ],
          "surface": [
           {
            "colorbar": {
             "outlinewidth": 0,
             "ticks": ""
            },
            "colorscale": [
             [
              0,
              "#0d0887"
             ],
             [
              0.1111111111111111,
              "#46039f"
             ],
             [
              0.2222222222222222,
              "#7201a8"
             ],
             [
              0.3333333333333333,
              "#9c179e"
             ],
             [
              0.4444444444444444,
              "#bd3786"
             ],
             [
              0.5555555555555556,
              "#d8576b"
             ],
             [
              0.6666666666666666,
              "#ed7953"
             ],
             [
              0.7777777777777778,
              "#fb9f3a"
             ],
             [
              0.8888888888888888,
              "#fdca26"
             ],
             [
              1,
              "#f0f921"
             ]
            ],
            "type": "surface"
           }
          ],
          "table": [
           {
            "cells": {
             "fill": {
              "color": "#EBF0F8"
             },
             "line": {
              "color": "white"
             }
            },
            "header": {
             "fill": {
              "color": "#C8D4E3"
             },
             "line": {
              "color": "white"
             }
            },
            "type": "table"
           }
          ]
         },
         "layout": {
          "annotationdefaults": {
           "arrowcolor": "#2a3f5f",
           "arrowhead": 0,
           "arrowwidth": 1
          },
          "autotypenumbers": "strict",
          "coloraxis": {
           "colorbar": {
            "outlinewidth": 0,
            "ticks": ""
           }
          },
          "colorscale": {
           "diverging": [
            [
             0,
             "#8e0152"
            ],
            [
             0.1,
             "#c51b7d"
            ],
            [
             0.2,
             "#de77ae"
            ],
            [
             0.3,
             "#f1b6da"
            ],
            [
             0.4,
             "#fde0ef"
            ],
            [
             0.5,
             "#f7f7f7"
            ],
            [
             0.6,
             "#e6f5d0"
            ],
            [
             0.7,
             "#b8e186"
            ],
            [
             0.8,
             "#7fbc41"
            ],
            [
             0.9,
             "#4d9221"
            ],
            [
             1,
             "#276419"
            ]
           ],
           "sequential": [
            [
             0,
             "#0d0887"
            ],
            [
             0.1111111111111111,
             "#46039f"
            ],
            [
             0.2222222222222222,
             "#7201a8"
            ],
            [
             0.3333333333333333,
             "#9c179e"
            ],
            [
             0.4444444444444444,
             "#bd3786"
            ],
            [
             0.5555555555555556,
             "#d8576b"
            ],
            [
             0.6666666666666666,
             "#ed7953"
            ],
            [
             0.7777777777777778,
             "#fb9f3a"
            ],
            [
             0.8888888888888888,
             "#fdca26"
            ],
            [
             1,
             "#f0f921"
            ]
           ],
           "sequentialminus": [
            [
             0,
             "#0d0887"
            ],
            [
             0.1111111111111111,
             "#46039f"
            ],
            [
             0.2222222222222222,
             "#7201a8"
            ],
            [
             0.3333333333333333,
             "#9c179e"
            ],
            [
             0.4444444444444444,
             "#bd3786"
            ],
            [
             0.5555555555555556,
             "#d8576b"
            ],
            [
             0.6666666666666666,
             "#ed7953"
            ],
            [
             0.7777777777777778,
             "#fb9f3a"
            ],
            [
             0.8888888888888888,
             "#fdca26"
            ],
            [
             1,
             "#f0f921"
            ]
           ]
          },
          "colorway": [
           "#636efa",
           "#EF553B",
           "#00cc96",
           "#ab63fa",
           "#FFA15A",
           "#19d3f3",
           "#FF6692",
           "#B6E880",
           "#FF97FF",
           "#FECB52"
          ],
          "font": {
           "color": "#2a3f5f"
          },
          "geo": {
           "bgcolor": "white",
           "lakecolor": "white",
           "landcolor": "#E5ECF6",
           "showlakes": true,
           "showland": true,
           "subunitcolor": "white"
          },
          "hoverlabel": {
           "align": "left"
          },
          "hovermode": "closest",
          "mapbox": {
           "style": "light"
          },
          "paper_bgcolor": "white",
          "plot_bgcolor": "#E5ECF6",
          "polar": {
           "angularaxis": {
            "gridcolor": "white",
            "linecolor": "white",
            "ticks": ""
           },
           "bgcolor": "#E5ECF6",
           "radialaxis": {
            "gridcolor": "white",
            "linecolor": "white",
            "ticks": ""
           }
          },
          "scene": {
           "xaxis": {
            "backgroundcolor": "#E5ECF6",
            "gridcolor": "white",
            "gridwidth": 2,
            "linecolor": "white",
            "showbackground": true,
            "ticks": "",
            "zerolinecolor": "white"
           },
           "yaxis": {
            "backgroundcolor": "#E5ECF6",
            "gridcolor": "white",
            "gridwidth": 2,
            "linecolor": "white",
            "showbackground": true,
            "ticks": "",
            "zerolinecolor": "white"
           },
           "zaxis": {
            "backgroundcolor": "#E5ECF6",
            "gridcolor": "white",
            "gridwidth": 2,
            "linecolor": "white",
            "showbackground": true,
            "ticks": "",
            "zerolinecolor": "white"
           }
          },
          "shapedefaults": {
           "line": {
            "color": "#2a3f5f"
           }
          },
          "ternary": {
           "aaxis": {
            "gridcolor": "white",
            "linecolor": "white",
            "ticks": ""
           },
           "baxis": {
            "gridcolor": "white",
            "linecolor": "white",
            "ticks": ""
           },
           "bgcolor": "#E5ECF6",
           "caxis": {
            "gridcolor": "white",
            "linecolor": "white",
            "ticks": ""
           }
          },
          "title": {
           "x": 0.05
          },
          "xaxis": {
           "automargin": true,
           "gridcolor": "white",
           "linecolor": "white",
           "ticks": "",
           "title": {
            "standoff": 15
           },
           "zerolinecolor": "white",
           "zerolinewidth": 2
          },
          "yaxis": {
           "automargin": true,
           "gridcolor": "white",
           "linecolor": "white",
           "ticks": "",
           "title": {
            "standoff": 15
           },
           "zerolinecolor": "white",
           "zerolinewidth": 2
          }
         }
        },
        "title": {
         "text": "Predicción Altura (Grupo Alto)"
        },
        "width": 700,
        "xaxis": {
         "title": {
          "text": "Altura Real"
         }
        },
        "yaxis": {
         "title": {
          "text": "Altura Predicha"
         }
        }
       }
      }
     },
     "metadata": {},
     "output_type": "display_data"
    }
   ],
   "source": [
    "fig_alto = go.Figure()\n",
    "\n",
    "fig_alto.add_trace(go.Scatter(\n",
    "    x=y_test_alto, \n",
    "    y=y_pred_alto,\n",
    "    mode='markers',\n",
    "    name='Datos (Alto)',\n",
    "    marker=dict(color='green')\n",
    "))\n",
    "\n",
    "fig_alto.add_trace(go.Scatter(\n",
    "    x=y_test_alto,\n",
    "    y=y_test_alto,\n",
    "    mode='lines',\n",
    "    name='Línea Ideal',\n",
    "    line=dict(color='red', dash='dash')\n",
    "))\n",
    "\n",
    "fig_alto.update_layout(\n",
    "    title='Predicción Altura (Grupo Alto)',\n",
    "    xaxis_title='Altura Real',\n",
    "    yaxis_title='Altura Predicha',\n",
    "    width=700,\n",
    "    height=500\n",
    ")\n",
    "\n",
    "fig_alto.show()\n"
   ]
  },
  {
   "cell_type": "code",
   "execution_count": 35,
   "metadata": {},
   "outputs": [
    {
     "name": "stdout",
     "output_type": "stream",
     "text": [
      "Ensamble R2: 0.018, RMSE: 9.191\n"
     ]
    },
    {
     "name": "stderr",
     "output_type": "stream",
     "text": [
      "c:\\Users\\sofi\\miniconda3\\envs\\EO\\Lib\\site-packages\\sklearn\\utils\\validation.py:2739: UserWarning:\n",
      "\n",
      "X does not have valid feature names, but LinearRegression was fitted with feature names\n",
      "\n",
      "c:\\Users\\sofi\\miniconda3\\envs\\EO\\Lib\\site-packages\\sklearn\\utils\\validation.py:2739: UserWarning:\n",
      "\n",
      "X does not have valid feature names, but LinearRegression was fitted with feature names\n",
      "\n",
      "c:\\Users\\sofi\\miniconda3\\envs\\EO\\Lib\\site-packages\\sklearn\\utils\\validation.py:2739: UserWarning:\n",
      "\n",
      "X does not have valid feature names, but LinearRegression was fitted with feature names\n",
      "\n",
      "c:\\Users\\sofi\\miniconda3\\envs\\EO\\Lib\\site-packages\\sklearn\\utils\\validation.py:2739: UserWarning:\n",
      "\n",
      "X does not have valid feature names, but LinearRegression was fitted with feature names\n",
      "\n",
      "c:\\Users\\sofi\\miniconda3\\envs\\EO\\Lib\\site-packages\\sklearn\\utils\\validation.py:2739: UserWarning:\n",
      "\n",
      "X does not have valid feature names, but LinearRegression was fitted with feature names\n",
      "\n",
      "c:\\Users\\sofi\\miniconda3\\envs\\EO\\Lib\\site-packages\\sklearn\\utils\\validation.py:2739: UserWarning:\n",
      "\n",
      "X does not have valid feature names, but LinearRegression was fitted with feature names\n",
      "\n",
      "c:\\Users\\sofi\\miniconda3\\envs\\EO\\Lib\\site-packages\\sklearn\\utils\\validation.py:2739: UserWarning:\n",
      "\n",
      "X does not have valid feature names, but LinearRegression was fitted with feature names\n",
      "\n",
      "c:\\Users\\sofi\\miniconda3\\envs\\EO\\Lib\\site-packages\\sklearn\\utils\\validation.py:2739: UserWarning:\n",
      "\n",
      "X does not have valid feature names, but LinearRegression was fitted with feature names\n",
      "\n"
     ]
    }
   ],
   "source": [
    "def modelo_ensamble(x_row, umbral):\n",
    "    if model_bajo.predict([x_row])[0] <= umbral:\n",
    "        return model_bajo.predict([x_row])[0]\n",
    "    else:\n",
    "        return model_alto.predict([x_row])[0]\n",
    "\n",
    "y_pred_ensamble = [modelo_ensamble(x, altura_median) for x in X_test.values]\n",
    "\n",
    "r2_ensamble = r2_score(y_test, y_pred_ensamble)\n",
    "rmse_ensamble = np.sqrt(mean_squared_error(y_test, y_pred_ensamble))\n",
    "\n",
    "print(f'Ensamble R2: {r2_ensamble:.3f}, RMSE: {rmse_ensamble:.3f}')\n"
   ]
  },
  {
   "cell_type": "code",
   "execution_count": 36,
   "metadata": {},
   "outputs": [
    {
     "data": {
      "application/vnd.plotly.v1+json": {
       "config": {
        "plotlyServerURL": "https://plot.ly"
       },
       "data": [
        {
         "marker": {
          "color": "purple"
         },
         "mode": "markers",
         "name": "Datos (Ensamble)",
         "type": "scatter",
         "x": {
          "bdata": "uQCtAK8AnwA=",
          "dtype": "i2"
         },
         "y": [
          177.89706315018086,
          160.4669673157526,
          163.58291913737318,
          158.91944349204255
         ]
        },
        {
         "line": {
          "color": "red",
          "dash": "dash"
         },
         "mode": "lines",
         "name": "Línea Ideal",
         "type": "scatter",
         "x": {
          "bdata": "uQCtAK8AnwA=",
          "dtype": "i2"
         },
         "y": {
          "bdata": "uQCtAK8AnwA=",
          "dtype": "i2"
         }
        }
       ],
       "layout": {
        "height": 500,
        "template": {
         "data": {
          "bar": [
           {
            "error_x": {
             "color": "#2a3f5f"
            },
            "error_y": {
             "color": "#2a3f5f"
            },
            "marker": {
             "line": {
              "color": "#E5ECF6",
              "width": 0.5
             },
             "pattern": {
              "fillmode": "overlay",
              "size": 10,
              "solidity": 0.2
             }
            },
            "type": "bar"
           }
          ],
          "barpolar": [
           {
            "marker": {
             "line": {
              "color": "#E5ECF6",
              "width": 0.5
             },
             "pattern": {
              "fillmode": "overlay",
              "size": 10,
              "solidity": 0.2
             }
            },
            "type": "barpolar"
           }
          ],
          "carpet": [
           {
            "aaxis": {
             "endlinecolor": "#2a3f5f",
             "gridcolor": "white",
             "linecolor": "white",
             "minorgridcolor": "white",
             "startlinecolor": "#2a3f5f"
            },
            "baxis": {
             "endlinecolor": "#2a3f5f",
             "gridcolor": "white",
             "linecolor": "white",
             "minorgridcolor": "white",
             "startlinecolor": "#2a3f5f"
            },
            "type": "carpet"
           }
          ],
          "choropleth": [
           {
            "colorbar": {
             "outlinewidth": 0,
             "ticks": ""
            },
            "type": "choropleth"
           }
          ],
          "contour": [
           {
            "colorbar": {
             "outlinewidth": 0,
             "ticks": ""
            },
            "colorscale": [
             [
              0,
              "#0d0887"
             ],
             [
              0.1111111111111111,
              "#46039f"
             ],
             [
              0.2222222222222222,
              "#7201a8"
             ],
             [
              0.3333333333333333,
              "#9c179e"
             ],
             [
              0.4444444444444444,
              "#bd3786"
             ],
             [
              0.5555555555555556,
              "#d8576b"
             ],
             [
              0.6666666666666666,
              "#ed7953"
             ],
             [
              0.7777777777777778,
              "#fb9f3a"
             ],
             [
              0.8888888888888888,
              "#fdca26"
             ],
             [
              1,
              "#f0f921"
             ]
            ],
            "type": "contour"
           }
          ],
          "contourcarpet": [
           {
            "colorbar": {
             "outlinewidth": 0,
             "ticks": ""
            },
            "type": "contourcarpet"
           }
          ],
          "heatmap": [
           {
            "colorbar": {
             "outlinewidth": 0,
             "ticks": ""
            },
            "colorscale": [
             [
              0,
              "#0d0887"
             ],
             [
              0.1111111111111111,
              "#46039f"
             ],
             [
              0.2222222222222222,
              "#7201a8"
             ],
             [
              0.3333333333333333,
              "#9c179e"
             ],
             [
              0.4444444444444444,
              "#bd3786"
             ],
             [
              0.5555555555555556,
              "#d8576b"
             ],
             [
              0.6666666666666666,
              "#ed7953"
             ],
             [
              0.7777777777777778,
              "#fb9f3a"
             ],
             [
              0.8888888888888888,
              "#fdca26"
             ],
             [
              1,
              "#f0f921"
             ]
            ],
            "type": "heatmap"
           }
          ],
          "histogram": [
           {
            "marker": {
             "pattern": {
              "fillmode": "overlay",
              "size": 10,
              "solidity": 0.2
             }
            },
            "type": "histogram"
           }
          ],
          "histogram2d": [
           {
            "colorbar": {
             "outlinewidth": 0,
             "ticks": ""
            },
            "colorscale": [
             [
              0,
              "#0d0887"
             ],
             [
              0.1111111111111111,
              "#46039f"
             ],
             [
              0.2222222222222222,
              "#7201a8"
             ],
             [
              0.3333333333333333,
              "#9c179e"
             ],
             [
              0.4444444444444444,
              "#bd3786"
             ],
             [
              0.5555555555555556,
              "#d8576b"
             ],
             [
              0.6666666666666666,
              "#ed7953"
             ],
             [
              0.7777777777777778,
              "#fb9f3a"
             ],
             [
              0.8888888888888888,
              "#fdca26"
             ],
             [
              1,
              "#f0f921"
             ]
            ],
            "type": "histogram2d"
           }
          ],
          "histogram2dcontour": [
           {
            "colorbar": {
             "outlinewidth": 0,
             "ticks": ""
            },
            "colorscale": [
             [
              0,
              "#0d0887"
             ],
             [
              0.1111111111111111,
              "#46039f"
             ],
             [
              0.2222222222222222,
              "#7201a8"
             ],
             [
              0.3333333333333333,
              "#9c179e"
             ],
             [
              0.4444444444444444,
              "#bd3786"
             ],
             [
              0.5555555555555556,
              "#d8576b"
             ],
             [
              0.6666666666666666,
              "#ed7953"
             ],
             [
              0.7777777777777778,
              "#fb9f3a"
             ],
             [
              0.8888888888888888,
              "#fdca26"
             ],
             [
              1,
              "#f0f921"
             ]
            ],
            "type": "histogram2dcontour"
           }
          ],
          "mesh3d": [
           {
            "colorbar": {
             "outlinewidth": 0,
             "ticks": ""
            },
            "type": "mesh3d"
           }
          ],
          "parcoords": [
           {
            "line": {
             "colorbar": {
              "outlinewidth": 0,
              "ticks": ""
             }
            },
            "type": "parcoords"
           }
          ],
          "pie": [
           {
            "automargin": true,
            "type": "pie"
           }
          ],
          "scatter": [
           {
            "fillpattern": {
             "fillmode": "overlay",
             "size": 10,
             "solidity": 0.2
            },
            "type": "scatter"
           }
          ],
          "scatter3d": [
           {
            "line": {
             "colorbar": {
              "outlinewidth": 0,
              "ticks": ""
             }
            },
            "marker": {
             "colorbar": {
              "outlinewidth": 0,
              "ticks": ""
             }
            },
            "type": "scatter3d"
           }
          ],
          "scattercarpet": [
           {
            "marker": {
             "colorbar": {
              "outlinewidth": 0,
              "ticks": ""
             }
            },
            "type": "scattercarpet"
           }
          ],
          "scattergeo": [
           {
            "marker": {
             "colorbar": {
              "outlinewidth": 0,
              "ticks": ""
             }
            },
            "type": "scattergeo"
           }
          ],
          "scattergl": [
           {
            "marker": {
             "colorbar": {
              "outlinewidth": 0,
              "ticks": ""
             }
            },
            "type": "scattergl"
           }
          ],
          "scattermap": [
           {
            "marker": {
             "colorbar": {
              "outlinewidth": 0,
              "ticks": ""
             }
            },
            "type": "scattermap"
           }
          ],
          "scattermapbox": [
           {
            "marker": {
             "colorbar": {
              "outlinewidth": 0,
              "ticks": ""
             }
            },
            "type": "scattermapbox"
           }
          ],
          "scatterpolar": [
           {
            "marker": {
             "colorbar": {
              "outlinewidth": 0,
              "ticks": ""
             }
            },
            "type": "scatterpolar"
           }
          ],
          "scatterpolargl": [
           {
            "marker": {
             "colorbar": {
              "outlinewidth": 0,
              "ticks": ""
             }
            },
            "type": "scatterpolargl"
           }
          ],
          "scatterternary": [
           {
            "marker": {
             "colorbar": {
              "outlinewidth": 0,
              "ticks": ""
             }
            },
            "type": "scatterternary"
           }
          ],
          "surface": [
           {
            "colorbar": {
             "outlinewidth": 0,
             "ticks": ""
            },
            "colorscale": [
             [
              0,
              "#0d0887"
             ],
             [
              0.1111111111111111,
              "#46039f"
             ],
             [
              0.2222222222222222,
              "#7201a8"
             ],
             [
              0.3333333333333333,
              "#9c179e"
             ],
             [
              0.4444444444444444,
              "#bd3786"
             ],
             [
              0.5555555555555556,
              "#d8576b"
             ],
             [
              0.6666666666666666,
              "#ed7953"
             ],
             [
              0.7777777777777778,
              "#fb9f3a"
             ],
             [
              0.8888888888888888,
              "#fdca26"
             ],
             [
              1,
              "#f0f921"
             ]
            ],
            "type": "surface"
           }
          ],
          "table": [
           {
            "cells": {
             "fill": {
              "color": "#EBF0F8"
             },
             "line": {
              "color": "white"
             }
            },
            "header": {
             "fill": {
              "color": "#C8D4E3"
             },
             "line": {
              "color": "white"
             }
            },
            "type": "table"
           }
          ]
         },
         "layout": {
          "annotationdefaults": {
           "arrowcolor": "#2a3f5f",
           "arrowhead": 0,
           "arrowwidth": 1
          },
          "autotypenumbers": "strict",
          "coloraxis": {
           "colorbar": {
            "outlinewidth": 0,
            "ticks": ""
           }
          },
          "colorscale": {
           "diverging": [
            [
             0,
             "#8e0152"
            ],
            [
             0.1,
             "#c51b7d"
            ],
            [
             0.2,
             "#de77ae"
            ],
            [
             0.3,
             "#f1b6da"
            ],
            [
             0.4,
             "#fde0ef"
            ],
            [
             0.5,
             "#f7f7f7"
            ],
            [
             0.6,
             "#e6f5d0"
            ],
            [
             0.7,
             "#b8e186"
            ],
            [
             0.8,
             "#7fbc41"
            ],
            [
             0.9,
             "#4d9221"
            ],
            [
             1,
             "#276419"
            ]
           ],
           "sequential": [
            [
             0,
             "#0d0887"
            ],
            [
             0.1111111111111111,
             "#46039f"
            ],
            [
             0.2222222222222222,
             "#7201a8"
            ],
            [
             0.3333333333333333,
             "#9c179e"
            ],
            [
             0.4444444444444444,
             "#bd3786"
            ],
            [
             0.5555555555555556,
             "#d8576b"
            ],
            [
             0.6666666666666666,
             "#ed7953"
            ],
            [
             0.7777777777777778,
             "#fb9f3a"
            ],
            [
             0.8888888888888888,
             "#fdca26"
            ],
            [
             1,
             "#f0f921"
            ]
           ],
           "sequentialminus": [
            [
             0,
             "#0d0887"
            ],
            [
             0.1111111111111111,
             "#46039f"
            ],
            [
             0.2222222222222222,
             "#7201a8"
            ],
            [
             0.3333333333333333,
             "#9c179e"
            ],
            [
             0.4444444444444444,
             "#bd3786"
            ],
            [
             0.5555555555555556,
             "#d8576b"
            ],
            [
             0.6666666666666666,
             "#ed7953"
            ],
            [
             0.7777777777777778,
             "#fb9f3a"
            ],
            [
             0.8888888888888888,
             "#fdca26"
            ],
            [
             1,
             "#f0f921"
            ]
           ]
          },
          "colorway": [
           "#636efa",
           "#EF553B",
           "#00cc96",
           "#ab63fa",
           "#FFA15A",
           "#19d3f3",
           "#FF6692",
           "#B6E880",
           "#FF97FF",
           "#FECB52"
          ],
          "font": {
           "color": "#2a3f5f"
          },
          "geo": {
           "bgcolor": "white",
           "lakecolor": "white",
           "landcolor": "#E5ECF6",
           "showlakes": true,
           "showland": true,
           "subunitcolor": "white"
          },
          "hoverlabel": {
           "align": "left"
          },
          "hovermode": "closest",
          "mapbox": {
           "style": "light"
          },
          "paper_bgcolor": "white",
          "plot_bgcolor": "#E5ECF6",
          "polar": {
           "angularaxis": {
            "gridcolor": "white",
            "linecolor": "white",
            "ticks": ""
           },
           "bgcolor": "#E5ECF6",
           "radialaxis": {
            "gridcolor": "white",
            "linecolor": "white",
            "ticks": ""
           }
          },
          "scene": {
           "xaxis": {
            "backgroundcolor": "#E5ECF6",
            "gridcolor": "white",
            "gridwidth": 2,
            "linecolor": "white",
            "showbackground": true,
            "ticks": "",
            "zerolinecolor": "white"
           },
           "yaxis": {
            "backgroundcolor": "#E5ECF6",
            "gridcolor": "white",
            "gridwidth": 2,
            "linecolor": "white",
            "showbackground": true,
            "ticks": "",
            "zerolinecolor": "white"
           },
           "zaxis": {
            "backgroundcolor": "#E5ECF6",
            "gridcolor": "white",
            "gridwidth": 2,
            "linecolor": "white",
            "showbackground": true,
            "ticks": "",
            "zerolinecolor": "white"
           }
          },
          "shapedefaults": {
           "line": {
            "color": "#2a3f5f"
           }
          },
          "ternary": {
           "aaxis": {
            "gridcolor": "white",
            "linecolor": "white",
            "ticks": ""
           },
           "baxis": {
            "gridcolor": "white",
            "linecolor": "white",
            "ticks": ""
           },
           "bgcolor": "#E5ECF6",
           "caxis": {
            "gridcolor": "white",
            "linecolor": "white",
            "ticks": ""
           }
          },
          "title": {
           "x": 0.05
          },
          "xaxis": {
           "automargin": true,
           "gridcolor": "white",
           "linecolor": "white",
           "ticks": "",
           "title": {
            "standoff": 15
           },
           "zerolinecolor": "white",
           "zerolinewidth": 2
          },
          "yaxis": {
           "automargin": true,
           "gridcolor": "white",
           "linecolor": "white",
           "ticks": "",
           "title": {
            "standoff": 15
           },
           "zerolinecolor": "white",
           "zerolinewidth": 2
          }
         }
        },
        "title": {
         "text": "Predicción Altura (Modelo Ensamble)"
        },
        "width": 700,
        "xaxis": {
         "title": {
          "text": "Altura Real"
         }
        },
        "yaxis": {
         "title": {
          "text": "Altura Predicha"
         }
        }
       }
      }
     },
     "metadata": {},
     "output_type": "display_data"
    }
   ],
   "source": [
    "fig_ensamble = go.Figure()\n",
    "\n",
    "fig_ensamble.add_trace(go.Scatter(\n",
    "    x=y_test, \n",
    "    y=y_pred_ensamble,\n",
    "    mode='markers',\n",
    "    name='Datos (Ensamble)',\n",
    "    marker=dict(color='purple')\n",
    "))\n",
    "\n",
    "fig_ensamble.add_trace(go.Scatter(\n",
    "    x=y_test,\n",
    "    y=y_test,\n",
    "    mode='lines',\n",
    "    name='Línea Ideal',\n",
    "    line=dict(color='red', dash='dash')\n",
    "))\n",
    "\n",
    "fig_ensamble.update_layout(\n",
    "    title='Predicción Altura (Modelo Ensamble)',\n",
    "    xaxis_title='Altura Real',\n",
    "    yaxis_title='Altura Predicha',\n",
    "    width=700,\n",
    "    height=500\n",
    ")\n",
    "\n",
    "fig_ensamble.show()\n"
   ]
  },
  {
   "cell_type": "markdown",
   "metadata": {},
   "source": [
    "### **Modelo 3: AnchoPie**"
   ]
  },
  {
   "cell_type": "code",
   "execution_count": 37,
   "metadata": {},
   "outputs": [
    {
     "data": {
      "application/vnd.microsoft.datawrangler.viewer.v0+json": {
       "columns": [
        {
         "name": "index",
         "rawType": "int64",
         "type": "integer"
        },
        {
         "name": "Altura",
         "rawType": "float64",
         "type": "float"
        },
        {
         "name": "Ancho",
         "rawType": "float64",
         "type": "float"
        },
        {
         "name": "Pie",
         "rawType": "float64",
         "type": "float"
        },
        {
         "name": "AnchoPie",
         "rawType": "float64",
         "type": "float"
        }
       ],
       "conversionMethod": "pd.DataFrame",
       "ref": "435ed54c-4059-4cf0-b958-1c27ac8e256c",
       "rows": [
        [
         "0",
         "169.37775500006728",
         "52.675201781868566",
         "27.69878920185222",
         "1459.0393103210079"
        ],
        [
         "1",
         "182.7328985515632",
         "47.947897236860136",
         "26.94525597994246",
         "1291.968364747172"
        ],
        [
         "2",
         "172.77884343191272",
         "46.14475360053163",
         "24.98941431188356",
         "1153.1303660434655"
        ],
        [
         "3",
         "182.35443318498176",
         "55.28921405344197",
         "26.009483899696935",
         "1438.0439227498964"
        ],
        [
         "4",
         "173.68077127241975",
         "47.099250787929456",
         "26.778309733786493",
         "1261.2383258284626"
        ]
       ],
       "shape": {
        "columns": 4,
        "rows": 5
       }
      },
      "text/html": [
       "<div>\n",
       "<style scoped>\n",
       "    .dataframe tbody tr th:only-of-type {\n",
       "        vertical-align: middle;\n",
       "    }\n",
       "\n",
       "    .dataframe tbody tr th {\n",
       "        vertical-align: top;\n",
       "    }\n",
       "\n",
       "    .dataframe thead th {\n",
       "        text-align: right;\n",
       "    }\n",
       "</style>\n",
       "<table border=\"1\" class=\"dataframe\">\n",
       "  <thead>\n",
       "    <tr style=\"text-align: right;\">\n",
       "      <th></th>\n",
       "      <th>Altura</th>\n",
       "      <th>Ancho</th>\n",
       "      <th>Pie</th>\n",
       "      <th>AnchoPie</th>\n",
       "    </tr>\n",
       "  </thead>\n",
       "  <tbody>\n",
       "    <tr>\n",
       "      <th>0</th>\n",
       "      <td>169.377755</td>\n",
       "      <td>52.675202</td>\n",
       "      <td>27.698789</td>\n",
       "      <td>1459.039310</td>\n",
       "    </tr>\n",
       "    <tr>\n",
       "      <th>1</th>\n",
       "      <td>182.732899</td>\n",
       "      <td>47.947897</td>\n",
       "      <td>26.945256</td>\n",
       "      <td>1291.968365</td>\n",
       "    </tr>\n",
       "    <tr>\n",
       "      <th>2</th>\n",
       "      <td>172.778843</td>\n",
       "      <td>46.144754</td>\n",
       "      <td>24.989414</td>\n",
       "      <td>1153.130366</td>\n",
       "    </tr>\n",
       "    <tr>\n",
       "      <th>3</th>\n",
       "      <td>182.354433</td>\n",
       "      <td>55.289214</td>\n",
       "      <td>26.009484</td>\n",
       "      <td>1438.043923</td>\n",
       "    </tr>\n",
       "    <tr>\n",
       "      <th>4</th>\n",
       "      <td>173.680771</td>\n",
       "      <td>47.099251</td>\n",
       "      <td>26.778310</td>\n",
       "      <td>1261.238326</td>\n",
       "    </tr>\n",
       "  </tbody>\n",
       "</table>\n",
       "</div>"
      ],
      "text/plain": [
       "       Altura      Ancho        Pie     AnchoPie\n",
       "0  169.377755  52.675202  27.698789  1459.039310\n",
       "1  182.732899  47.947897  26.945256  1291.968365\n",
       "2  172.778843  46.144754  24.989414  1153.130366\n",
       "3  182.354433  55.289214  26.009484  1438.043923\n",
       "4  173.680771  47.099251  26.778310  1261.238326"
      ]
     },
     "execution_count": 37,
     "metadata": {},
     "output_type": "execute_result"
    }
   ],
   "source": [
    "df_AnchoPie = df.copy()\n",
    "df_AnchoPie['AnchoPie'] = df_AnchoPie['Pie'] * df_AnchoPie['Ancho']\n",
    "df_AnchoPie.head()"
   ]
  },
  {
   "cell_type": "code",
   "execution_count": 38,
   "metadata": {},
   "outputs": [
    {
     "data": {
      "application/vnd.plotly.v1+json": {
       "config": {
        "plotlyServerURL": "https://plot.ly"
       },
       "data": [
        {
         "hovertemplate": "Altura (cm)=%{x}<br>AnchoPie=%{y}<extra></extra>",
         "legendgroup": "",
         "marker": {
          "color": "blue",
          "symbol": "circle"
         },
         "mode": "markers",
         "name": "",
         "orientation": "v",
         "showlegend": false,
         "type": "scatter",
         "x": {
          "bdata": "EGankRYsZUD+x6nnc9dmQKCYD0nsmGVApENDhFfLZkAs49XgyLVlQGNWaI0kXWRAhqZjbFoPaEAHu4AdMKRlQA3A8wyURmZA9mZzpGfrZUCj7gsYxt1lQGG1T+Lb52ZAWGDJMQA4ZkCnrOwXKs1kQGr1IDHP/GRAjqTbXAsnZkCmAJDmDsBmQKPfZ8ZujmVAwPCqEjDoZUA9h8fzHFdlQAo317b/OmVAKl3QXSRuZEDtPxYX6vFlQAz4On1A7WNAMzrjvGJ+ZEBNb4IIaxVjQP7GcJ971mNAiQTxhLWkZEDIQmCP3cRkQAgaxRm2W2RAbvIMEhm2ZEBDtke5aCpkQBmWKB2TOmRAoSMs0xHGYkCpmIelnvNjQFzG+Q0JYWNAqYxpvTWTY0B7eE8Fbs9jQFozEj6NKWRAWeNEiWBJY0DBchExvn1jQK6JgvDxx2RArVS9ZiesY0AHxGIn4XlkQGGhP/wXWGRAjAUSCsJsY0AMur4Y+7tjQPehZm0aSmRAdbTiSqrDZEA7NcohbtdjQAAAAAAAIGdAAAAAAACgZUAAAAAAAGBkQAAAAAAAQGRAAAAAAACAZUAAAAAAAOBjQAAAAAAAYGdAAAAAAACgZEAAAAAAAOBlQAAAAAAAQGRAAAAAAABgY0AAAAAAAABlQAAAAAAAYGZAAAAAAACAZUAAAAAAAOBjQAAAAAAAwGRAAAAAAACAY0AAAAAAAMBiQA==",
          "dtype": "f8"
         },
         "xaxis": "x",
         "y": {
          "bdata": "f/z2QCjMlkDQHgKb3y+UQMYUrX6FBJJAbNkV+ix4lkAonK8L9LSTQIf61PAR3ZRAjMvzetDYlkDg067o+SyVQL7IHq09uJNAvC6B0HuolED7sptAK8KVQPkufwmjRJ1A2+dh8DYHl0DKgcQGPyyXQEdGKUjwHJNA7e4awLTgl0CXab1H2GWXQEfmBZUcKZNA5COcJoXIlUDWd+2BGPyXQNUoln8AapZAinQTBJRwkEDE8bKlLd2LQLw66goffYxAN4sCuLxQjUBb70u9uE2NQGsCPKRrr41AeP84pjyujkAfYQs5ttWNQJwo7uPOB41A75HTXkp2ikBUxae9BOGMQAgPz+Y31I1A0XKGQNi5jUCu9V7RbeaJQI5ir8Mzko1AHJUC5ERrjkD4kzj64G2MQPVxeP7MuI5Aq3eYohdcjUDh/E9xH/yQQAduXKlkb4xAXX/jBuq9kEAgP+c1s3yNQJldDx4VUYxA/FOGHabEjkCT6dhNw/eLQP3v1OSxJ5BAAHhqFWLukEA9TqYFG5qMQAAAAAAAEJhAAAAAAAA4kkAAAAAAAICQQAAAAAAA2JBAAAAAAABok0AAAAAAAMCMQAAAAAAAwJVAAAAAAAAAjkAAAAAAAA6VQAAAAAAAoI9AAAAAAACAi0AAAAAAAMiYQAAAAAAAEJhAAAAAAAB8lUAAAAAAAICMQAAAAAAA3I1AAAAAAACAjEAAAAAAAGyLQA==",
          "dtype": "f8"
         },
         "yaxis": "y"
        }
       ],
       "layout": {
        "legend": {
         "tracegroupgap": 0
        },
        "template": {
         "data": {
          "bar": [
           {
            "error_x": {
             "color": "#2a3f5f"
            },
            "error_y": {
             "color": "#2a3f5f"
            },
            "marker": {
             "line": {
              "color": "#E5ECF6",
              "width": 0.5
             },
             "pattern": {
              "fillmode": "overlay",
              "size": 10,
              "solidity": 0.2
             }
            },
            "type": "bar"
           }
          ],
          "barpolar": [
           {
            "marker": {
             "line": {
              "color": "#E5ECF6",
              "width": 0.5
             },
             "pattern": {
              "fillmode": "overlay",
              "size": 10,
              "solidity": 0.2
             }
            },
            "type": "barpolar"
           }
          ],
          "carpet": [
           {
            "aaxis": {
             "endlinecolor": "#2a3f5f",
             "gridcolor": "white",
             "linecolor": "white",
             "minorgridcolor": "white",
             "startlinecolor": "#2a3f5f"
            },
            "baxis": {
             "endlinecolor": "#2a3f5f",
             "gridcolor": "white",
             "linecolor": "white",
             "minorgridcolor": "white",
             "startlinecolor": "#2a3f5f"
            },
            "type": "carpet"
           }
          ],
          "choropleth": [
           {
            "colorbar": {
             "outlinewidth": 0,
             "ticks": ""
            },
            "type": "choropleth"
           }
          ],
          "contour": [
           {
            "colorbar": {
             "outlinewidth": 0,
             "ticks": ""
            },
            "colorscale": [
             [
              0,
              "#0d0887"
             ],
             [
              0.1111111111111111,
              "#46039f"
             ],
             [
              0.2222222222222222,
              "#7201a8"
             ],
             [
              0.3333333333333333,
              "#9c179e"
             ],
             [
              0.4444444444444444,
              "#bd3786"
             ],
             [
              0.5555555555555556,
              "#d8576b"
             ],
             [
              0.6666666666666666,
              "#ed7953"
             ],
             [
              0.7777777777777778,
              "#fb9f3a"
             ],
             [
              0.8888888888888888,
              "#fdca26"
             ],
             [
              1,
              "#f0f921"
             ]
            ],
            "type": "contour"
           }
          ],
          "contourcarpet": [
           {
            "colorbar": {
             "outlinewidth": 0,
             "ticks": ""
            },
            "type": "contourcarpet"
           }
          ],
          "heatmap": [
           {
            "colorbar": {
             "outlinewidth": 0,
             "ticks": ""
            },
            "colorscale": [
             [
              0,
              "#0d0887"
             ],
             [
              0.1111111111111111,
              "#46039f"
             ],
             [
              0.2222222222222222,
              "#7201a8"
             ],
             [
              0.3333333333333333,
              "#9c179e"
             ],
             [
              0.4444444444444444,
              "#bd3786"
             ],
             [
              0.5555555555555556,
              "#d8576b"
             ],
             [
              0.6666666666666666,
              "#ed7953"
             ],
             [
              0.7777777777777778,
              "#fb9f3a"
             ],
             [
              0.8888888888888888,
              "#fdca26"
             ],
             [
              1,
              "#f0f921"
             ]
            ],
            "type": "heatmap"
           }
          ],
          "histogram": [
           {
            "marker": {
             "pattern": {
              "fillmode": "overlay",
              "size": 10,
              "solidity": 0.2
             }
            },
            "type": "histogram"
           }
          ],
          "histogram2d": [
           {
            "colorbar": {
             "outlinewidth": 0,
             "ticks": ""
            },
            "colorscale": [
             [
              0,
              "#0d0887"
             ],
             [
              0.1111111111111111,
              "#46039f"
             ],
             [
              0.2222222222222222,
              "#7201a8"
             ],
             [
              0.3333333333333333,
              "#9c179e"
             ],
             [
              0.4444444444444444,
              "#bd3786"
             ],
             [
              0.5555555555555556,
              "#d8576b"
             ],
             [
              0.6666666666666666,
              "#ed7953"
             ],
             [
              0.7777777777777778,
              "#fb9f3a"
             ],
             [
              0.8888888888888888,
              "#fdca26"
             ],
             [
              1,
              "#f0f921"
             ]
            ],
            "type": "histogram2d"
           }
          ],
          "histogram2dcontour": [
           {
            "colorbar": {
             "outlinewidth": 0,
             "ticks": ""
            },
            "colorscale": [
             [
              0,
              "#0d0887"
             ],
             [
              0.1111111111111111,
              "#46039f"
             ],
             [
              0.2222222222222222,
              "#7201a8"
             ],
             [
              0.3333333333333333,
              "#9c179e"
             ],
             [
              0.4444444444444444,
              "#bd3786"
             ],
             [
              0.5555555555555556,
              "#d8576b"
             ],
             [
              0.6666666666666666,
              "#ed7953"
             ],
             [
              0.7777777777777778,
              "#fb9f3a"
             ],
             [
              0.8888888888888888,
              "#fdca26"
             ],
             [
              1,
              "#f0f921"
             ]
            ],
            "type": "histogram2dcontour"
           }
          ],
          "mesh3d": [
           {
            "colorbar": {
             "outlinewidth": 0,
             "ticks": ""
            },
            "type": "mesh3d"
           }
          ],
          "parcoords": [
           {
            "line": {
             "colorbar": {
              "outlinewidth": 0,
              "ticks": ""
             }
            },
            "type": "parcoords"
           }
          ],
          "pie": [
           {
            "automargin": true,
            "type": "pie"
           }
          ],
          "scatter": [
           {
            "fillpattern": {
             "fillmode": "overlay",
             "size": 10,
             "solidity": 0.2
            },
            "type": "scatter"
           }
          ],
          "scatter3d": [
           {
            "line": {
             "colorbar": {
              "outlinewidth": 0,
              "ticks": ""
             }
            },
            "marker": {
             "colorbar": {
              "outlinewidth": 0,
              "ticks": ""
             }
            },
            "type": "scatter3d"
           }
          ],
          "scattercarpet": [
           {
            "marker": {
             "colorbar": {
              "outlinewidth": 0,
              "ticks": ""
             }
            },
            "type": "scattercarpet"
           }
          ],
          "scattergeo": [
           {
            "marker": {
             "colorbar": {
              "outlinewidth": 0,
              "ticks": ""
             }
            },
            "type": "scattergeo"
           }
          ],
          "scattergl": [
           {
            "marker": {
             "colorbar": {
              "outlinewidth": 0,
              "ticks": ""
             }
            },
            "type": "scattergl"
           }
          ],
          "scattermap": [
           {
            "marker": {
             "colorbar": {
              "outlinewidth": 0,
              "ticks": ""
             }
            },
            "type": "scattermap"
           }
          ],
          "scattermapbox": [
           {
            "marker": {
             "colorbar": {
              "outlinewidth": 0,
              "ticks": ""
             }
            },
            "type": "scattermapbox"
           }
          ],
          "scatterpolar": [
           {
            "marker": {
             "colorbar": {
              "outlinewidth": 0,
              "ticks": ""
             }
            },
            "type": "scatterpolar"
           }
          ],
          "scatterpolargl": [
           {
            "marker": {
             "colorbar": {
              "outlinewidth": 0,
              "ticks": ""
             }
            },
            "type": "scatterpolargl"
           }
          ],
          "scatterternary": [
           {
            "marker": {
             "colorbar": {
              "outlinewidth": 0,
              "ticks": ""
             }
            },
            "type": "scatterternary"
           }
          ],
          "surface": [
           {
            "colorbar": {
             "outlinewidth": 0,
             "ticks": ""
            },
            "colorscale": [
             [
              0,
              "#0d0887"
             ],
             [
              0.1111111111111111,
              "#46039f"
             ],
             [
              0.2222222222222222,
              "#7201a8"
             ],
             [
              0.3333333333333333,
              "#9c179e"
             ],
             [
              0.4444444444444444,
              "#bd3786"
             ],
             [
              0.5555555555555556,
              "#d8576b"
             ],
             [
              0.6666666666666666,
              "#ed7953"
             ],
             [
              0.7777777777777778,
              "#fb9f3a"
             ],
             [
              0.8888888888888888,
              "#fdca26"
             ],
             [
              1,
              "#f0f921"
             ]
            ],
            "type": "surface"
           }
          ],
          "table": [
           {
            "cells": {
             "fill": {
              "color": "#EBF0F8"
             },
             "line": {
              "color": "white"
             }
            },
            "header": {
             "fill": {
              "color": "#C8D4E3"
             },
             "line": {
              "color": "white"
             }
            },
            "type": "table"
           }
          ]
         },
         "layout": {
          "annotationdefaults": {
           "arrowcolor": "#2a3f5f",
           "arrowhead": 0,
           "arrowwidth": 1
          },
          "autotypenumbers": "strict",
          "coloraxis": {
           "colorbar": {
            "outlinewidth": 0,
            "ticks": ""
           }
          },
          "colorscale": {
           "diverging": [
            [
             0,
             "#8e0152"
            ],
            [
             0.1,
             "#c51b7d"
            ],
            [
             0.2,
             "#de77ae"
            ],
            [
             0.3,
             "#f1b6da"
            ],
            [
             0.4,
             "#fde0ef"
            ],
            [
             0.5,
             "#f7f7f7"
            ],
            [
             0.6,
             "#e6f5d0"
            ],
            [
             0.7,
             "#b8e186"
            ],
            [
             0.8,
             "#7fbc41"
            ],
            [
             0.9,
             "#4d9221"
            ],
            [
             1,
             "#276419"
            ]
           ],
           "sequential": [
            [
             0,
             "#0d0887"
            ],
            [
             0.1111111111111111,
             "#46039f"
            ],
            [
             0.2222222222222222,
             "#7201a8"
            ],
            [
             0.3333333333333333,
             "#9c179e"
            ],
            [
             0.4444444444444444,
             "#bd3786"
            ],
            [
             0.5555555555555556,
             "#d8576b"
            ],
            [
             0.6666666666666666,
             "#ed7953"
            ],
            [
             0.7777777777777778,
             "#fb9f3a"
            ],
            [
             0.8888888888888888,
             "#fdca26"
            ],
            [
             1,
             "#f0f921"
            ]
           ],
           "sequentialminus": [
            [
             0,
             "#0d0887"
            ],
            [
             0.1111111111111111,
             "#46039f"
            ],
            [
             0.2222222222222222,
             "#7201a8"
            ],
            [
             0.3333333333333333,
             "#9c179e"
            ],
            [
             0.4444444444444444,
             "#bd3786"
            ],
            [
             0.5555555555555556,
             "#d8576b"
            ],
            [
             0.6666666666666666,
             "#ed7953"
            ],
            [
             0.7777777777777778,
             "#fb9f3a"
            ],
            [
             0.8888888888888888,
             "#fdca26"
            ],
            [
             1,
             "#f0f921"
            ]
           ]
          },
          "colorway": [
           "#636efa",
           "#EF553B",
           "#00cc96",
           "#ab63fa",
           "#FFA15A",
           "#19d3f3",
           "#FF6692",
           "#B6E880",
           "#FF97FF",
           "#FECB52"
          ],
          "font": {
           "color": "#2a3f5f"
          },
          "geo": {
           "bgcolor": "white",
           "lakecolor": "white",
           "landcolor": "#E5ECF6",
           "showlakes": true,
           "showland": true,
           "subunitcolor": "white"
          },
          "hoverlabel": {
           "align": "left"
          },
          "hovermode": "closest",
          "mapbox": {
           "style": "light"
          },
          "paper_bgcolor": "white",
          "plot_bgcolor": "#E5ECF6",
          "polar": {
           "angularaxis": {
            "gridcolor": "white",
            "linecolor": "white",
            "ticks": ""
           },
           "bgcolor": "#E5ECF6",
           "radialaxis": {
            "gridcolor": "white",
            "linecolor": "white",
            "ticks": ""
           }
          },
          "scene": {
           "xaxis": {
            "backgroundcolor": "#E5ECF6",
            "gridcolor": "white",
            "gridwidth": 2,
            "linecolor": "white",
            "showbackground": true,
            "ticks": "",
            "zerolinecolor": "white"
           },
           "yaxis": {
            "backgroundcolor": "#E5ECF6",
            "gridcolor": "white",
            "gridwidth": 2,
            "linecolor": "white",
            "showbackground": true,
            "ticks": "",
            "zerolinecolor": "white"
           },
           "zaxis": {
            "backgroundcolor": "#E5ECF6",
            "gridcolor": "white",
            "gridwidth": 2,
            "linecolor": "white",
            "showbackground": true,
            "ticks": "",
            "zerolinecolor": "white"
           }
          },
          "shapedefaults": {
           "line": {
            "color": "#2a3f5f"
           }
          },
          "ternary": {
           "aaxis": {
            "gridcolor": "white",
            "linecolor": "white",
            "ticks": ""
           },
           "baxis": {
            "gridcolor": "white",
            "linecolor": "white",
            "ticks": ""
           },
           "bgcolor": "#E5ECF6",
           "caxis": {
            "gridcolor": "white",
            "linecolor": "white",
            "ticks": ""
           }
          },
          "title": {
           "x": 0.05
          },
          "xaxis": {
           "automargin": true,
           "gridcolor": "white",
           "linecolor": "white",
           "ticks": "",
           "title": {
            "standoff": 15
           },
           "zerolinecolor": "white",
           "zerolinewidth": 2
          },
          "yaxis": {
           "automargin": true,
           "gridcolor": "white",
           "linecolor": "white",
           "ticks": "",
           "title": {
            "standoff": 15
           },
           "zerolinecolor": "white",
           "zerolinewidth": 2
          }
         }
        },
        "title": {
         "text": "Altura vs AnchoPie"
        },
        "xaxis": {
         "anchor": "y",
         "domain": [
          0,
          1
         ],
         "title": {
          "text": "Altura (cm)"
         }
        },
        "yaxis": {
         "anchor": "x",
         "domain": [
          0,
          1
         ],
         "title": {
          "text": "AnchoPie"
         }
        }
       }
      }
     },
     "metadata": {},
     "output_type": "display_data"
    }
   ],
   "source": [
    "fig1 = px.scatter(df_AnchoPie, x=\"Altura\", y=\"AnchoPie\", \n",
    "                  title=\"Altura vs AnchoPie\", \n",
    "                  labels={\"Altura\": \"Altura (cm)\", \"AnchoPie\": \"AnchoPie\"},\n",
    "                  color_discrete_sequence=[\"blue\"])\n",
    "\n",
    "fig1.show()"
   ]
  },
  {
   "cell_type": "code",
   "execution_count": 39,
   "metadata": {},
   "outputs": [],
   "source": [
    "X_anchopie = df_AnchoPie[['AnchoPie']]\n",
    "y_anchopie = df_AnchoPie['Altura']\n",
    "\n",
    "X_train_anchopie, X_test_anchopie, y_train_anchopie, y_test_anchopie = train_test_split(X_anchopie, y_anchopie, test_size=0.2, random_state=42)"
   ]
  },
  {
   "cell_type": "code",
   "execution_count": 40,
   "metadata": {},
   "outputs": [
    {
     "data": {
      "text/html": [
       "<style>#sk-container-id-4 {\n",
       "  /* Definition of color scheme common for light and dark mode */\n",
       "  --sklearn-color-text: #000;\n",
       "  --sklearn-color-text-muted: #666;\n",
       "  --sklearn-color-line: gray;\n",
       "  /* Definition of color scheme for unfitted estimators */\n",
       "  --sklearn-color-unfitted-level-0: #fff5e6;\n",
       "  --sklearn-color-unfitted-level-1: #f6e4d2;\n",
       "  --sklearn-color-unfitted-level-2: #ffe0b3;\n",
       "  --sklearn-color-unfitted-level-3: chocolate;\n",
       "  /* Definition of color scheme for fitted estimators */\n",
       "  --sklearn-color-fitted-level-0: #f0f8ff;\n",
       "  --sklearn-color-fitted-level-1: #d4ebff;\n",
       "  --sklearn-color-fitted-level-2: #b3dbfd;\n",
       "  --sklearn-color-fitted-level-3: cornflowerblue;\n",
       "\n",
       "  /* Specific color for light theme */\n",
       "  --sklearn-color-text-on-default-background: var(--sg-text-color, var(--theme-code-foreground, var(--jp-content-font-color1, black)));\n",
       "  --sklearn-color-background: var(--sg-background-color, var(--theme-background, var(--jp-layout-color0, white)));\n",
       "  --sklearn-color-border-box: var(--sg-text-color, var(--theme-code-foreground, var(--jp-content-font-color1, black)));\n",
       "  --sklearn-color-icon: #696969;\n",
       "\n",
       "  @media (prefers-color-scheme: dark) {\n",
       "    /* Redefinition of color scheme for dark theme */\n",
       "    --sklearn-color-text-on-default-background: var(--sg-text-color, var(--theme-code-foreground, var(--jp-content-font-color1, white)));\n",
       "    --sklearn-color-background: var(--sg-background-color, var(--theme-background, var(--jp-layout-color0, #111)));\n",
       "    --sklearn-color-border-box: var(--sg-text-color, var(--theme-code-foreground, var(--jp-content-font-color1, white)));\n",
       "    --sklearn-color-icon: #878787;\n",
       "  }\n",
       "}\n",
       "\n",
       "#sk-container-id-4 {\n",
       "  color: var(--sklearn-color-text);\n",
       "}\n",
       "\n",
       "#sk-container-id-4 pre {\n",
       "  padding: 0;\n",
       "}\n",
       "\n",
       "#sk-container-id-4 input.sk-hidden--visually {\n",
       "  border: 0;\n",
       "  clip: rect(1px 1px 1px 1px);\n",
       "  clip: rect(1px, 1px, 1px, 1px);\n",
       "  height: 1px;\n",
       "  margin: -1px;\n",
       "  overflow: hidden;\n",
       "  padding: 0;\n",
       "  position: absolute;\n",
       "  width: 1px;\n",
       "}\n",
       "\n",
       "#sk-container-id-4 div.sk-dashed-wrapped {\n",
       "  border: 1px dashed var(--sklearn-color-line);\n",
       "  margin: 0 0.4em 0.5em 0.4em;\n",
       "  box-sizing: border-box;\n",
       "  padding-bottom: 0.4em;\n",
       "  background-color: var(--sklearn-color-background);\n",
       "}\n",
       "\n",
       "#sk-container-id-4 div.sk-container {\n",
       "  /* jupyter's `normalize.less` sets `[hidden] { display: none; }`\n",
       "     but bootstrap.min.css set `[hidden] { display: none !important; }`\n",
       "     so we also need the `!important` here to be able to override the\n",
       "     default hidden behavior on the sphinx rendered scikit-learn.org.\n",
       "     See: https://github.com/scikit-learn/scikit-learn/issues/21755 */\n",
       "  display: inline-block !important;\n",
       "  position: relative;\n",
       "}\n",
       "\n",
       "#sk-container-id-4 div.sk-text-repr-fallback {\n",
       "  display: none;\n",
       "}\n",
       "\n",
       "div.sk-parallel-item,\n",
       "div.sk-serial,\n",
       "div.sk-item {\n",
       "  /* draw centered vertical line to link estimators */\n",
       "  background-image: linear-gradient(var(--sklearn-color-text-on-default-background), var(--sklearn-color-text-on-default-background));\n",
       "  background-size: 2px 100%;\n",
       "  background-repeat: no-repeat;\n",
       "  background-position: center center;\n",
       "}\n",
       "\n",
       "/* Parallel-specific style estimator block */\n",
       "\n",
       "#sk-container-id-4 div.sk-parallel-item::after {\n",
       "  content: \"\";\n",
       "  width: 100%;\n",
       "  border-bottom: 2px solid var(--sklearn-color-text-on-default-background);\n",
       "  flex-grow: 1;\n",
       "}\n",
       "\n",
       "#sk-container-id-4 div.sk-parallel {\n",
       "  display: flex;\n",
       "  align-items: stretch;\n",
       "  justify-content: center;\n",
       "  background-color: var(--sklearn-color-background);\n",
       "  position: relative;\n",
       "}\n",
       "\n",
       "#sk-container-id-4 div.sk-parallel-item {\n",
       "  display: flex;\n",
       "  flex-direction: column;\n",
       "}\n",
       "\n",
       "#sk-container-id-4 div.sk-parallel-item:first-child::after {\n",
       "  align-self: flex-end;\n",
       "  width: 50%;\n",
       "}\n",
       "\n",
       "#sk-container-id-4 div.sk-parallel-item:last-child::after {\n",
       "  align-self: flex-start;\n",
       "  width: 50%;\n",
       "}\n",
       "\n",
       "#sk-container-id-4 div.sk-parallel-item:only-child::after {\n",
       "  width: 0;\n",
       "}\n",
       "\n",
       "/* Serial-specific style estimator block */\n",
       "\n",
       "#sk-container-id-4 div.sk-serial {\n",
       "  display: flex;\n",
       "  flex-direction: column;\n",
       "  align-items: center;\n",
       "  background-color: var(--sklearn-color-background);\n",
       "  padding-right: 1em;\n",
       "  padding-left: 1em;\n",
       "}\n",
       "\n",
       "\n",
       "/* Toggleable style: style used for estimator/Pipeline/ColumnTransformer box that is\n",
       "clickable and can be expanded/collapsed.\n",
       "- Pipeline and ColumnTransformer use this feature and define the default style\n",
       "- Estimators will overwrite some part of the style using the `sk-estimator` class\n",
       "*/\n",
       "\n",
       "/* Pipeline and ColumnTransformer style (default) */\n",
       "\n",
       "#sk-container-id-4 div.sk-toggleable {\n",
       "  /* Default theme specific background. It is overwritten whether we have a\n",
       "  specific estimator or a Pipeline/ColumnTransformer */\n",
       "  background-color: var(--sklearn-color-background);\n",
       "}\n",
       "\n",
       "/* Toggleable label */\n",
       "#sk-container-id-4 label.sk-toggleable__label {\n",
       "  cursor: pointer;\n",
       "  display: flex;\n",
       "  width: 100%;\n",
       "  margin-bottom: 0;\n",
       "  padding: 0.5em;\n",
       "  box-sizing: border-box;\n",
       "  text-align: center;\n",
       "  align-items: start;\n",
       "  justify-content: space-between;\n",
       "  gap: 0.5em;\n",
       "}\n",
       "\n",
       "#sk-container-id-4 label.sk-toggleable__label .caption {\n",
       "  font-size: 0.6rem;\n",
       "  font-weight: lighter;\n",
       "  color: var(--sklearn-color-text-muted);\n",
       "}\n",
       "\n",
       "#sk-container-id-4 label.sk-toggleable__label-arrow:before {\n",
       "  /* Arrow on the left of the label */\n",
       "  content: \"▸\";\n",
       "  float: left;\n",
       "  margin-right: 0.25em;\n",
       "  color: var(--sklearn-color-icon);\n",
       "}\n",
       "\n",
       "#sk-container-id-4 label.sk-toggleable__label-arrow:hover:before {\n",
       "  color: var(--sklearn-color-text);\n",
       "}\n",
       "\n",
       "/* Toggleable content - dropdown */\n",
       "\n",
       "#sk-container-id-4 div.sk-toggleable__content {\n",
       "  max-height: 0;\n",
       "  max-width: 0;\n",
       "  overflow: hidden;\n",
       "  text-align: left;\n",
       "  /* unfitted */\n",
       "  background-color: var(--sklearn-color-unfitted-level-0);\n",
       "}\n",
       "\n",
       "#sk-container-id-4 div.sk-toggleable__content.fitted {\n",
       "  /* fitted */\n",
       "  background-color: var(--sklearn-color-fitted-level-0);\n",
       "}\n",
       "\n",
       "#sk-container-id-4 div.sk-toggleable__content pre {\n",
       "  margin: 0.2em;\n",
       "  border-radius: 0.25em;\n",
       "  color: var(--sklearn-color-text);\n",
       "  /* unfitted */\n",
       "  background-color: var(--sklearn-color-unfitted-level-0);\n",
       "}\n",
       "\n",
       "#sk-container-id-4 div.sk-toggleable__content.fitted pre {\n",
       "  /* unfitted */\n",
       "  background-color: var(--sklearn-color-fitted-level-0);\n",
       "}\n",
       "\n",
       "#sk-container-id-4 input.sk-toggleable__control:checked~div.sk-toggleable__content {\n",
       "  /* Expand drop-down */\n",
       "  max-height: 200px;\n",
       "  max-width: 100%;\n",
       "  overflow: auto;\n",
       "}\n",
       "\n",
       "#sk-container-id-4 input.sk-toggleable__control:checked~label.sk-toggleable__label-arrow:before {\n",
       "  content: \"▾\";\n",
       "}\n",
       "\n",
       "/* Pipeline/ColumnTransformer-specific style */\n",
       "\n",
       "#sk-container-id-4 div.sk-label input.sk-toggleable__control:checked~label.sk-toggleable__label {\n",
       "  color: var(--sklearn-color-text);\n",
       "  background-color: var(--sklearn-color-unfitted-level-2);\n",
       "}\n",
       "\n",
       "#sk-container-id-4 div.sk-label.fitted input.sk-toggleable__control:checked~label.sk-toggleable__label {\n",
       "  background-color: var(--sklearn-color-fitted-level-2);\n",
       "}\n",
       "\n",
       "/* Estimator-specific style */\n",
       "\n",
       "/* Colorize estimator box */\n",
       "#sk-container-id-4 div.sk-estimator input.sk-toggleable__control:checked~label.sk-toggleable__label {\n",
       "  /* unfitted */\n",
       "  background-color: var(--sklearn-color-unfitted-level-2);\n",
       "}\n",
       "\n",
       "#sk-container-id-4 div.sk-estimator.fitted input.sk-toggleable__control:checked~label.sk-toggleable__label {\n",
       "  /* fitted */\n",
       "  background-color: var(--sklearn-color-fitted-level-2);\n",
       "}\n",
       "\n",
       "#sk-container-id-4 div.sk-label label.sk-toggleable__label,\n",
       "#sk-container-id-4 div.sk-label label {\n",
       "  /* The background is the default theme color */\n",
       "  color: var(--sklearn-color-text-on-default-background);\n",
       "}\n",
       "\n",
       "/* On hover, darken the color of the background */\n",
       "#sk-container-id-4 div.sk-label:hover label.sk-toggleable__label {\n",
       "  color: var(--sklearn-color-text);\n",
       "  background-color: var(--sklearn-color-unfitted-level-2);\n",
       "}\n",
       "\n",
       "/* Label box, darken color on hover, fitted */\n",
       "#sk-container-id-4 div.sk-label.fitted:hover label.sk-toggleable__label.fitted {\n",
       "  color: var(--sklearn-color-text);\n",
       "  background-color: var(--sklearn-color-fitted-level-2);\n",
       "}\n",
       "\n",
       "/* Estimator label */\n",
       "\n",
       "#sk-container-id-4 div.sk-label label {\n",
       "  font-family: monospace;\n",
       "  font-weight: bold;\n",
       "  display: inline-block;\n",
       "  line-height: 1.2em;\n",
       "}\n",
       "\n",
       "#sk-container-id-4 div.sk-label-container {\n",
       "  text-align: center;\n",
       "}\n",
       "\n",
       "/* Estimator-specific */\n",
       "#sk-container-id-4 div.sk-estimator {\n",
       "  font-family: monospace;\n",
       "  border: 1px dotted var(--sklearn-color-border-box);\n",
       "  border-radius: 0.25em;\n",
       "  box-sizing: border-box;\n",
       "  margin-bottom: 0.5em;\n",
       "  /* unfitted */\n",
       "  background-color: var(--sklearn-color-unfitted-level-0);\n",
       "}\n",
       "\n",
       "#sk-container-id-4 div.sk-estimator.fitted {\n",
       "  /* fitted */\n",
       "  background-color: var(--sklearn-color-fitted-level-0);\n",
       "}\n",
       "\n",
       "/* on hover */\n",
       "#sk-container-id-4 div.sk-estimator:hover {\n",
       "  /* unfitted */\n",
       "  background-color: var(--sklearn-color-unfitted-level-2);\n",
       "}\n",
       "\n",
       "#sk-container-id-4 div.sk-estimator.fitted:hover {\n",
       "  /* fitted */\n",
       "  background-color: var(--sklearn-color-fitted-level-2);\n",
       "}\n",
       "\n",
       "/* Specification for estimator info (e.g. \"i\" and \"?\") */\n",
       "\n",
       "/* Common style for \"i\" and \"?\" */\n",
       "\n",
       ".sk-estimator-doc-link,\n",
       "a:link.sk-estimator-doc-link,\n",
       "a:visited.sk-estimator-doc-link {\n",
       "  float: right;\n",
       "  font-size: smaller;\n",
       "  line-height: 1em;\n",
       "  font-family: monospace;\n",
       "  background-color: var(--sklearn-color-background);\n",
       "  border-radius: 1em;\n",
       "  height: 1em;\n",
       "  width: 1em;\n",
       "  text-decoration: none !important;\n",
       "  margin-left: 0.5em;\n",
       "  text-align: center;\n",
       "  /* unfitted */\n",
       "  border: var(--sklearn-color-unfitted-level-1) 1pt solid;\n",
       "  color: var(--sklearn-color-unfitted-level-1);\n",
       "}\n",
       "\n",
       ".sk-estimator-doc-link.fitted,\n",
       "a:link.sk-estimator-doc-link.fitted,\n",
       "a:visited.sk-estimator-doc-link.fitted {\n",
       "  /* fitted */\n",
       "  border: var(--sklearn-color-fitted-level-1) 1pt solid;\n",
       "  color: var(--sklearn-color-fitted-level-1);\n",
       "}\n",
       "\n",
       "/* On hover */\n",
       "div.sk-estimator:hover .sk-estimator-doc-link:hover,\n",
       ".sk-estimator-doc-link:hover,\n",
       "div.sk-label-container:hover .sk-estimator-doc-link:hover,\n",
       ".sk-estimator-doc-link:hover {\n",
       "  /* unfitted */\n",
       "  background-color: var(--sklearn-color-unfitted-level-3);\n",
       "  color: var(--sklearn-color-background);\n",
       "  text-decoration: none;\n",
       "}\n",
       "\n",
       "div.sk-estimator.fitted:hover .sk-estimator-doc-link.fitted:hover,\n",
       ".sk-estimator-doc-link.fitted:hover,\n",
       "div.sk-label-container:hover .sk-estimator-doc-link.fitted:hover,\n",
       ".sk-estimator-doc-link.fitted:hover {\n",
       "  /* fitted */\n",
       "  background-color: var(--sklearn-color-fitted-level-3);\n",
       "  color: var(--sklearn-color-background);\n",
       "  text-decoration: none;\n",
       "}\n",
       "\n",
       "/* Span, style for the box shown on hovering the info icon */\n",
       ".sk-estimator-doc-link span {\n",
       "  display: none;\n",
       "  z-index: 9999;\n",
       "  position: relative;\n",
       "  font-weight: normal;\n",
       "  right: .2ex;\n",
       "  padding: .5ex;\n",
       "  margin: .5ex;\n",
       "  width: min-content;\n",
       "  min-width: 20ex;\n",
       "  max-width: 50ex;\n",
       "  color: var(--sklearn-color-text);\n",
       "  box-shadow: 2pt 2pt 4pt #999;\n",
       "  /* unfitted */\n",
       "  background: var(--sklearn-color-unfitted-level-0);\n",
       "  border: .5pt solid var(--sklearn-color-unfitted-level-3);\n",
       "}\n",
       "\n",
       ".sk-estimator-doc-link.fitted span {\n",
       "  /* fitted */\n",
       "  background: var(--sklearn-color-fitted-level-0);\n",
       "  border: var(--sklearn-color-fitted-level-3);\n",
       "}\n",
       "\n",
       ".sk-estimator-doc-link:hover span {\n",
       "  display: block;\n",
       "}\n",
       "\n",
       "/* \"?\"-specific style due to the `<a>` HTML tag */\n",
       "\n",
       "#sk-container-id-4 a.estimator_doc_link {\n",
       "  float: right;\n",
       "  font-size: 1rem;\n",
       "  line-height: 1em;\n",
       "  font-family: monospace;\n",
       "  background-color: var(--sklearn-color-background);\n",
       "  border-radius: 1rem;\n",
       "  height: 1rem;\n",
       "  width: 1rem;\n",
       "  text-decoration: none;\n",
       "  /* unfitted */\n",
       "  color: var(--sklearn-color-unfitted-level-1);\n",
       "  border: var(--sklearn-color-unfitted-level-1) 1pt solid;\n",
       "}\n",
       "\n",
       "#sk-container-id-4 a.estimator_doc_link.fitted {\n",
       "  /* fitted */\n",
       "  border: var(--sklearn-color-fitted-level-1) 1pt solid;\n",
       "  color: var(--sklearn-color-fitted-level-1);\n",
       "}\n",
       "\n",
       "/* On hover */\n",
       "#sk-container-id-4 a.estimator_doc_link:hover {\n",
       "  /* unfitted */\n",
       "  background-color: var(--sklearn-color-unfitted-level-3);\n",
       "  color: var(--sklearn-color-background);\n",
       "  text-decoration: none;\n",
       "}\n",
       "\n",
       "#sk-container-id-4 a.estimator_doc_link.fitted:hover {\n",
       "  /* fitted */\n",
       "  background-color: var(--sklearn-color-fitted-level-3);\n",
       "}\n",
       "</style><div id=\"sk-container-id-4\" class=\"sk-top-container\"><div class=\"sk-text-repr-fallback\"><pre>LinearRegression()</pre><b>In a Jupyter environment, please rerun this cell to show the HTML representation or trust the notebook. <br />On GitHub, the HTML representation is unable to render, please try loading this page with nbviewer.org.</b></div><div class=\"sk-container\" hidden><div class=\"sk-item\"><div class=\"sk-estimator fitted sk-toggleable\"><input class=\"sk-toggleable__control sk-hidden--visually\" id=\"sk-estimator-id-6\" type=\"checkbox\" checked><label for=\"sk-estimator-id-6\" class=\"sk-toggleable__label fitted sk-toggleable__label-arrow\"><div><div>LinearRegression</div></div><div><a class=\"sk-estimator-doc-link fitted\" rel=\"noreferrer\" target=\"_blank\" href=\"https://scikit-learn.org/1.6/modules/generated/sklearn.linear_model.LinearRegression.html\">?<span>Documentation for LinearRegression</span></a><span class=\"sk-estimator-doc-link fitted\">i<span>Fitted</span></span></div></label><div class=\"sk-toggleable__content fitted\"><pre>LinearRegression()</pre></div> </div></div></div></div>"
      ],
      "text/plain": [
       "LinearRegression()"
      ]
     },
     "execution_count": 40,
     "metadata": {},
     "output_type": "execute_result"
    }
   ],
   "source": [
    "modelo_anchopie = LinearRegression()\n",
    "modelo_anchopie.fit(X_train_anchopie, y_train_anchopie)"
   ]
  },
  {
   "cell_type": "code",
   "execution_count": 41,
   "metadata": {},
   "outputs": [],
   "source": [
    "y_pred_anchopie = modelo_anchopie.predict(X_test_anchopie)"
   ]
  },
  {
   "cell_type": "code",
   "execution_count": 42,
   "metadata": {},
   "outputs": [
    {
     "name": "stdout",
     "output_type": "stream",
     "text": [
      "Ensamble R2: 0.365, RMSE: 6.150\n"
     ]
    }
   ],
   "source": [
    "r2_anchopie = r2_score(y_test_anchopie, y_pred_anchopie)\n",
    "rmse_anchopie = np.sqrt(mean_squared_error(y_test_anchopie, y_pred_anchopie))\n",
    "print(f'Ensamble R2: {r2_anchopie:.3f}, RMSE: {rmse_anchopie:.3f}')"
   ]
  },
  {
   "cell_type": "markdown",
   "metadata": {},
   "source": [
    "### **Modelo 4: ElasticNet**"
   ]
  },
  {
   "cell_type": "code",
   "execution_count": 43,
   "metadata": {},
   "outputs": [],
   "source": [
    "from sklearn.pipeline import Pipeline\n",
    "from sklearn.linear_model import ElasticNet\n",
    "from sklearn.preprocessing import StandardScaler\n",
    "\n",
    "X = df[['Pie', 'Ancho']]\n",
    "y = df['Altura']\n",
    "\n",
    "X_train_net, X_test_net, y_train_net, y_test_net = train_test_split(X, y, test_size=0.2, random_state=42)\n",
    "\n",
    "pipeline = Pipeline([\n",
    "    ('scaler', StandardScaler()),\n",
    "    ('model', ElasticNet(max_iter=10000))\n",
    "])"
   ]
  },
  {
   "cell_type": "code",
   "execution_count": 44,
   "metadata": {},
   "outputs": [],
   "source": [
    "param_grid = {\n",
    "    'model__alpha': np.logspace(-5, 2, 50),       # 50 valores desde 1e-5 hasta 1e2\n",
    "    'model__l1_ratio': np.linspace(0, 1, 50)       # 50 valores entre 0 y 1 (Ridge ←→ Lasso)\n",
    "}"
   ]
  },
  {
   "cell_type": "code",
   "execution_count": 45,
   "metadata": {},
   "outputs": [
    {
     "name": "stdout",
     "output_type": "stream",
     "text": [
      "Fitting 5 folds for each of 2500 candidates, totalling 12500 fits\n"
     ]
    },
    {
     "name": "stderr",
     "output_type": "stream",
     "text": [
      "c:\\Users\\sofi\\miniconda3\\envs\\EO\\Lib\\site-packages\\sklearn\\linear_model\\_coordinate_descent.py:695: ConvergenceWarning:\n",
      "\n",
      "Objective did not converge. You might want to increase the number of iterations, check the scale of the features or consider increasing regularisation. Duality gap: 1.068e+03, tolerance: 5.180e-01 Linear regression models with null weight for the l1 regularization term are more efficiently fitted using one of the solvers implemented in sklearn.linear_model.Ridge/RidgeCV instead.\n",
      "\n"
     ]
    },
    {
     "data": {
      "text/html": [
       "<style>#sk-container-id-5 {\n",
       "  /* Definition of color scheme common for light and dark mode */\n",
       "  --sklearn-color-text: #000;\n",
       "  --sklearn-color-text-muted: #666;\n",
       "  --sklearn-color-line: gray;\n",
       "  /* Definition of color scheme for unfitted estimators */\n",
       "  --sklearn-color-unfitted-level-0: #fff5e6;\n",
       "  --sklearn-color-unfitted-level-1: #f6e4d2;\n",
       "  --sklearn-color-unfitted-level-2: #ffe0b3;\n",
       "  --sklearn-color-unfitted-level-3: chocolate;\n",
       "  /* Definition of color scheme for fitted estimators */\n",
       "  --sklearn-color-fitted-level-0: #f0f8ff;\n",
       "  --sklearn-color-fitted-level-1: #d4ebff;\n",
       "  --sklearn-color-fitted-level-2: #b3dbfd;\n",
       "  --sklearn-color-fitted-level-3: cornflowerblue;\n",
       "\n",
       "  /* Specific color for light theme */\n",
       "  --sklearn-color-text-on-default-background: var(--sg-text-color, var(--theme-code-foreground, var(--jp-content-font-color1, black)));\n",
       "  --sklearn-color-background: var(--sg-background-color, var(--theme-background, var(--jp-layout-color0, white)));\n",
       "  --sklearn-color-border-box: var(--sg-text-color, var(--theme-code-foreground, var(--jp-content-font-color1, black)));\n",
       "  --sklearn-color-icon: #696969;\n",
       "\n",
       "  @media (prefers-color-scheme: dark) {\n",
       "    /* Redefinition of color scheme for dark theme */\n",
       "    --sklearn-color-text-on-default-background: var(--sg-text-color, var(--theme-code-foreground, var(--jp-content-font-color1, white)));\n",
       "    --sklearn-color-background: var(--sg-background-color, var(--theme-background, var(--jp-layout-color0, #111)));\n",
       "    --sklearn-color-border-box: var(--sg-text-color, var(--theme-code-foreground, var(--jp-content-font-color1, white)));\n",
       "    --sklearn-color-icon: #878787;\n",
       "  }\n",
       "}\n",
       "\n",
       "#sk-container-id-5 {\n",
       "  color: var(--sklearn-color-text);\n",
       "}\n",
       "\n",
       "#sk-container-id-5 pre {\n",
       "  padding: 0;\n",
       "}\n",
       "\n",
       "#sk-container-id-5 input.sk-hidden--visually {\n",
       "  border: 0;\n",
       "  clip: rect(1px 1px 1px 1px);\n",
       "  clip: rect(1px, 1px, 1px, 1px);\n",
       "  height: 1px;\n",
       "  margin: -1px;\n",
       "  overflow: hidden;\n",
       "  padding: 0;\n",
       "  position: absolute;\n",
       "  width: 1px;\n",
       "}\n",
       "\n",
       "#sk-container-id-5 div.sk-dashed-wrapped {\n",
       "  border: 1px dashed var(--sklearn-color-line);\n",
       "  margin: 0 0.4em 0.5em 0.4em;\n",
       "  box-sizing: border-box;\n",
       "  padding-bottom: 0.4em;\n",
       "  background-color: var(--sklearn-color-background);\n",
       "}\n",
       "\n",
       "#sk-container-id-5 div.sk-container {\n",
       "  /* jupyter's `normalize.less` sets `[hidden] { display: none; }`\n",
       "     but bootstrap.min.css set `[hidden] { display: none !important; }`\n",
       "     so we also need the `!important` here to be able to override the\n",
       "     default hidden behavior on the sphinx rendered scikit-learn.org.\n",
       "     See: https://github.com/scikit-learn/scikit-learn/issues/21755 */\n",
       "  display: inline-block !important;\n",
       "  position: relative;\n",
       "}\n",
       "\n",
       "#sk-container-id-5 div.sk-text-repr-fallback {\n",
       "  display: none;\n",
       "}\n",
       "\n",
       "div.sk-parallel-item,\n",
       "div.sk-serial,\n",
       "div.sk-item {\n",
       "  /* draw centered vertical line to link estimators */\n",
       "  background-image: linear-gradient(var(--sklearn-color-text-on-default-background), var(--sklearn-color-text-on-default-background));\n",
       "  background-size: 2px 100%;\n",
       "  background-repeat: no-repeat;\n",
       "  background-position: center center;\n",
       "}\n",
       "\n",
       "/* Parallel-specific style estimator block */\n",
       "\n",
       "#sk-container-id-5 div.sk-parallel-item::after {\n",
       "  content: \"\";\n",
       "  width: 100%;\n",
       "  border-bottom: 2px solid var(--sklearn-color-text-on-default-background);\n",
       "  flex-grow: 1;\n",
       "}\n",
       "\n",
       "#sk-container-id-5 div.sk-parallel {\n",
       "  display: flex;\n",
       "  align-items: stretch;\n",
       "  justify-content: center;\n",
       "  background-color: var(--sklearn-color-background);\n",
       "  position: relative;\n",
       "}\n",
       "\n",
       "#sk-container-id-5 div.sk-parallel-item {\n",
       "  display: flex;\n",
       "  flex-direction: column;\n",
       "}\n",
       "\n",
       "#sk-container-id-5 div.sk-parallel-item:first-child::after {\n",
       "  align-self: flex-end;\n",
       "  width: 50%;\n",
       "}\n",
       "\n",
       "#sk-container-id-5 div.sk-parallel-item:last-child::after {\n",
       "  align-self: flex-start;\n",
       "  width: 50%;\n",
       "}\n",
       "\n",
       "#sk-container-id-5 div.sk-parallel-item:only-child::after {\n",
       "  width: 0;\n",
       "}\n",
       "\n",
       "/* Serial-specific style estimator block */\n",
       "\n",
       "#sk-container-id-5 div.sk-serial {\n",
       "  display: flex;\n",
       "  flex-direction: column;\n",
       "  align-items: center;\n",
       "  background-color: var(--sklearn-color-background);\n",
       "  padding-right: 1em;\n",
       "  padding-left: 1em;\n",
       "}\n",
       "\n",
       "\n",
       "/* Toggleable style: style used for estimator/Pipeline/ColumnTransformer box that is\n",
       "clickable and can be expanded/collapsed.\n",
       "- Pipeline and ColumnTransformer use this feature and define the default style\n",
       "- Estimators will overwrite some part of the style using the `sk-estimator` class\n",
       "*/\n",
       "\n",
       "/* Pipeline and ColumnTransformer style (default) */\n",
       "\n",
       "#sk-container-id-5 div.sk-toggleable {\n",
       "  /* Default theme specific background. It is overwritten whether we have a\n",
       "  specific estimator or a Pipeline/ColumnTransformer */\n",
       "  background-color: var(--sklearn-color-background);\n",
       "}\n",
       "\n",
       "/* Toggleable label */\n",
       "#sk-container-id-5 label.sk-toggleable__label {\n",
       "  cursor: pointer;\n",
       "  display: flex;\n",
       "  width: 100%;\n",
       "  margin-bottom: 0;\n",
       "  padding: 0.5em;\n",
       "  box-sizing: border-box;\n",
       "  text-align: center;\n",
       "  align-items: start;\n",
       "  justify-content: space-between;\n",
       "  gap: 0.5em;\n",
       "}\n",
       "\n",
       "#sk-container-id-5 label.sk-toggleable__label .caption {\n",
       "  font-size: 0.6rem;\n",
       "  font-weight: lighter;\n",
       "  color: var(--sklearn-color-text-muted);\n",
       "}\n",
       "\n",
       "#sk-container-id-5 label.sk-toggleable__label-arrow:before {\n",
       "  /* Arrow on the left of the label */\n",
       "  content: \"▸\";\n",
       "  float: left;\n",
       "  margin-right: 0.25em;\n",
       "  color: var(--sklearn-color-icon);\n",
       "}\n",
       "\n",
       "#sk-container-id-5 label.sk-toggleable__label-arrow:hover:before {\n",
       "  color: var(--sklearn-color-text);\n",
       "}\n",
       "\n",
       "/* Toggleable content - dropdown */\n",
       "\n",
       "#sk-container-id-5 div.sk-toggleable__content {\n",
       "  max-height: 0;\n",
       "  max-width: 0;\n",
       "  overflow: hidden;\n",
       "  text-align: left;\n",
       "  /* unfitted */\n",
       "  background-color: var(--sklearn-color-unfitted-level-0);\n",
       "}\n",
       "\n",
       "#sk-container-id-5 div.sk-toggleable__content.fitted {\n",
       "  /* fitted */\n",
       "  background-color: var(--sklearn-color-fitted-level-0);\n",
       "}\n",
       "\n",
       "#sk-container-id-5 div.sk-toggleable__content pre {\n",
       "  margin: 0.2em;\n",
       "  border-radius: 0.25em;\n",
       "  color: var(--sklearn-color-text);\n",
       "  /* unfitted */\n",
       "  background-color: var(--sklearn-color-unfitted-level-0);\n",
       "}\n",
       "\n",
       "#sk-container-id-5 div.sk-toggleable__content.fitted pre {\n",
       "  /* unfitted */\n",
       "  background-color: var(--sklearn-color-fitted-level-0);\n",
       "}\n",
       "\n",
       "#sk-container-id-5 input.sk-toggleable__control:checked~div.sk-toggleable__content {\n",
       "  /* Expand drop-down */\n",
       "  max-height: 200px;\n",
       "  max-width: 100%;\n",
       "  overflow: auto;\n",
       "}\n",
       "\n",
       "#sk-container-id-5 input.sk-toggleable__control:checked~label.sk-toggleable__label-arrow:before {\n",
       "  content: \"▾\";\n",
       "}\n",
       "\n",
       "/* Pipeline/ColumnTransformer-specific style */\n",
       "\n",
       "#sk-container-id-5 div.sk-label input.sk-toggleable__control:checked~label.sk-toggleable__label {\n",
       "  color: var(--sklearn-color-text);\n",
       "  background-color: var(--sklearn-color-unfitted-level-2);\n",
       "}\n",
       "\n",
       "#sk-container-id-5 div.sk-label.fitted input.sk-toggleable__control:checked~label.sk-toggleable__label {\n",
       "  background-color: var(--sklearn-color-fitted-level-2);\n",
       "}\n",
       "\n",
       "/* Estimator-specific style */\n",
       "\n",
       "/* Colorize estimator box */\n",
       "#sk-container-id-5 div.sk-estimator input.sk-toggleable__control:checked~label.sk-toggleable__label {\n",
       "  /* unfitted */\n",
       "  background-color: var(--sklearn-color-unfitted-level-2);\n",
       "}\n",
       "\n",
       "#sk-container-id-5 div.sk-estimator.fitted input.sk-toggleable__control:checked~label.sk-toggleable__label {\n",
       "  /* fitted */\n",
       "  background-color: var(--sklearn-color-fitted-level-2);\n",
       "}\n",
       "\n",
       "#sk-container-id-5 div.sk-label label.sk-toggleable__label,\n",
       "#sk-container-id-5 div.sk-label label {\n",
       "  /* The background is the default theme color */\n",
       "  color: var(--sklearn-color-text-on-default-background);\n",
       "}\n",
       "\n",
       "/* On hover, darken the color of the background */\n",
       "#sk-container-id-5 div.sk-label:hover label.sk-toggleable__label {\n",
       "  color: var(--sklearn-color-text);\n",
       "  background-color: var(--sklearn-color-unfitted-level-2);\n",
       "}\n",
       "\n",
       "/* Label box, darken color on hover, fitted */\n",
       "#sk-container-id-5 div.sk-label.fitted:hover label.sk-toggleable__label.fitted {\n",
       "  color: var(--sklearn-color-text);\n",
       "  background-color: var(--sklearn-color-fitted-level-2);\n",
       "}\n",
       "\n",
       "/* Estimator label */\n",
       "\n",
       "#sk-container-id-5 div.sk-label label {\n",
       "  font-family: monospace;\n",
       "  font-weight: bold;\n",
       "  display: inline-block;\n",
       "  line-height: 1.2em;\n",
       "}\n",
       "\n",
       "#sk-container-id-5 div.sk-label-container {\n",
       "  text-align: center;\n",
       "}\n",
       "\n",
       "/* Estimator-specific */\n",
       "#sk-container-id-5 div.sk-estimator {\n",
       "  font-family: monospace;\n",
       "  border: 1px dotted var(--sklearn-color-border-box);\n",
       "  border-radius: 0.25em;\n",
       "  box-sizing: border-box;\n",
       "  margin-bottom: 0.5em;\n",
       "  /* unfitted */\n",
       "  background-color: var(--sklearn-color-unfitted-level-0);\n",
       "}\n",
       "\n",
       "#sk-container-id-5 div.sk-estimator.fitted {\n",
       "  /* fitted */\n",
       "  background-color: var(--sklearn-color-fitted-level-0);\n",
       "}\n",
       "\n",
       "/* on hover */\n",
       "#sk-container-id-5 div.sk-estimator:hover {\n",
       "  /* unfitted */\n",
       "  background-color: var(--sklearn-color-unfitted-level-2);\n",
       "}\n",
       "\n",
       "#sk-container-id-5 div.sk-estimator.fitted:hover {\n",
       "  /* fitted */\n",
       "  background-color: var(--sklearn-color-fitted-level-2);\n",
       "}\n",
       "\n",
       "/* Specification for estimator info (e.g. \"i\" and \"?\") */\n",
       "\n",
       "/* Common style for \"i\" and \"?\" */\n",
       "\n",
       ".sk-estimator-doc-link,\n",
       "a:link.sk-estimator-doc-link,\n",
       "a:visited.sk-estimator-doc-link {\n",
       "  float: right;\n",
       "  font-size: smaller;\n",
       "  line-height: 1em;\n",
       "  font-family: monospace;\n",
       "  background-color: var(--sklearn-color-background);\n",
       "  border-radius: 1em;\n",
       "  height: 1em;\n",
       "  width: 1em;\n",
       "  text-decoration: none !important;\n",
       "  margin-left: 0.5em;\n",
       "  text-align: center;\n",
       "  /* unfitted */\n",
       "  border: var(--sklearn-color-unfitted-level-1) 1pt solid;\n",
       "  color: var(--sklearn-color-unfitted-level-1);\n",
       "}\n",
       "\n",
       ".sk-estimator-doc-link.fitted,\n",
       "a:link.sk-estimator-doc-link.fitted,\n",
       "a:visited.sk-estimator-doc-link.fitted {\n",
       "  /* fitted */\n",
       "  border: var(--sklearn-color-fitted-level-1) 1pt solid;\n",
       "  color: var(--sklearn-color-fitted-level-1);\n",
       "}\n",
       "\n",
       "/* On hover */\n",
       "div.sk-estimator:hover .sk-estimator-doc-link:hover,\n",
       ".sk-estimator-doc-link:hover,\n",
       "div.sk-label-container:hover .sk-estimator-doc-link:hover,\n",
       ".sk-estimator-doc-link:hover {\n",
       "  /* unfitted */\n",
       "  background-color: var(--sklearn-color-unfitted-level-3);\n",
       "  color: var(--sklearn-color-background);\n",
       "  text-decoration: none;\n",
       "}\n",
       "\n",
       "div.sk-estimator.fitted:hover .sk-estimator-doc-link.fitted:hover,\n",
       ".sk-estimator-doc-link.fitted:hover,\n",
       "div.sk-label-container:hover .sk-estimator-doc-link.fitted:hover,\n",
       ".sk-estimator-doc-link.fitted:hover {\n",
       "  /* fitted */\n",
       "  background-color: var(--sklearn-color-fitted-level-3);\n",
       "  color: var(--sklearn-color-background);\n",
       "  text-decoration: none;\n",
       "}\n",
       "\n",
       "/* Span, style for the box shown on hovering the info icon */\n",
       ".sk-estimator-doc-link span {\n",
       "  display: none;\n",
       "  z-index: 9999;\n",
       "  position: relative;\n",
       "  font-weight: normal;\n",
       "  right: .2ex;\n",
       "  padding: .5ex;\n",
       "  margin: .5ex;\n",
       "  width: min-content;\n",
       "  min-width: 20ex;\n",
       "  max-width: 50ex;\n",
       "  color: var(--sklearn-color-text);\n",
       "  box-shadow: 2pt 2pt 4pt #999;\n",
       "  /* unfitted */\n",
       "  background: var(--sklearn-color-unfitted-level-0);\n",
       "  border: .5pt solid var(--sklearn-color-unfitted-level-3);\n",
       "}\n",
       "\n",
       ".sk-estimator-doc-link.fitted span {\n",
       "  /* fitted */\n",
       "  background: var(--sklearn-color-fitted-level-0);\n",
       "  border: var(--sklearn-color-fitted-level-3);\n",
       "}\n",
       "\n",
       ".sk-estimator-doc-link:hover span {\n",
       "  display: block;\n",
       "}\n",
       "\n",
       "/* \"?\"-specific style due to the `<a>` HTML tag */\n",
       "\n",
       "#sk-container-id-5 a.estimator_doc_link {\n",
       "  float: right;\n",
       "  font-size: 1rem;\n",
       "  line-height: 1em;\n",
       "  font-family: monospace;\n",
       "  background-color: var(--sklearn-color-background);\n",
       "  border-radius: 1rem;\n",
       "  height: 1rem;\n",
       "  width: 1rem;\n",
       "  text-decoration: none;\n",
       "  /* unfitted */\n",
       "  color: var(--sklearn-color-unfitted-level-1);\n",
       "  border: var(--sklearn-color-unfitted-level-1) 1pt solid;\n",
       "}\n",
       "\n",
       "#sk-container-id-5 a.estimator_doc_link.fitted {\n",
       "  /* fitted */\n",
       "  border: var(--sklearn-color-fitted-level-1) 1pt solid;\n",
       "  color: var(--sklearn-color-fitted-level-1);\n",
       "}\n",
       "\n",
       "/* On hover */\n",
       "#sk-container-id-5 a.estimator_doc_link:hover {\n",
       "  /* unfitted */\n",
       "  background-color: var(--sklearn-color-unfitted-level-3);\n",
       "  color: var(--sklearn-color-background);\n",
       "  text-decoration: none;\n",
       "}\n",
       "\n",
       "#sk-container-id-5 a.estimator_doc_link.fitted:hover {\n",
       "  /* fitted */\n",
       "  background-color: var(--sklearn-color-fitted-level-3);\n",
       "}\n",
       "</style><div id=\"sk-container-id-5\" class=\"sk-top-container\"><div class=\"sk-text-repr-fallback\"><pre>GridSearchCV(cv=5,\n",
       "             estimator=Pipeline(steps=[(&#x27;scaler&#x27;, StandardScaler()),\n",
       "                                       (&#x27;model&#x27;, ElasticNet(max_iter=10000))]),\n",
       "             n_jobs=-1,\n",
       "             param_grid={&#x27;model__alpha&#x27;: array([1.00000000e-05, 1.38949549e-05, 1.93069773e-05, 2.68269580e-05,\n",
       "       3.72759372e-05, 5.17947468e-05, 7.19685673e-05, 1.00000000e-04,\n",
       "       1.38949549e-04, 1.93069773e-04, 2.68269580e-04, 3.72759372e-04,\n",
       "       5.17947468e-04,...\n",
       "       0.30612245, 0.32653061, 0.34693878, 0.36734694, 0.3877551 ,\n",
       "       0.40816327, 0.42857143, 0.44897959, 0.46938776, 0.48979592,\n",
       "       0.51020408, 0.53061224, 0.55102041, 0.57142857, 0.59183673,\n",
       "       0.6122449 , 0.63265306, 0.65306122, 0.67346939, 0.69387755,\n",
       "       0.71428571, 0.73469388, 0.75510204, 0.7755102 , 0.79591837,\n",
       "       0.81632653, 0.83673469, 0.85714286, 0.87755102, 0.89795918,\n",
       "       0.91836735, 0.93877551, 0.95918367, 0.97959184, 1.        ])},\n",
       "             scoring=&#x27;r2&#x27;, verbose=2)</pre><b>In a Jupyter environment, please rerun this cell to show the HTML representation or trust the notebook. <br />On GitHub, the HTML representation is unable to render, please try loading this page with nbviewer.org.</b></div><div class=\"sk-container\" hidden><div class=\"sk-item sk-dashed-wrapped\"><div class=\"sk-label-container\"><div class=\"sk-label fitted sk-toggleable\"><input class=\"sk-toggleable__control sk-hidden--visually\" id=\"sk-estimator-id-7\" type=\"checkbox\" ><label for=\"sk-estimator-id-7\" class=\"sk-toggleable__label fitted sk-toggleable__label-arrow\"><div><div>GridSearchCV</div></div><div><a class=\"sk-estimator-doc-link fitted\" rel=\"noreferrer\" target=\"_blank\" href=\"https://scikit-learn.org/1.6/modules/generated/sklearn.model_selection.GridSearchCV.html\">?<span>Documentation for GridSearchCV</span></a><span class=\"sk-estimator-doc-link fitted\">i<span>Fitted</span></span></div></label><div class=\"sk-toggleable__content fitted\"><pre>GridSearchCV(cv=5,\n",
       "             estimator=Pipeline(steps=[(&#x27;scaler&#x27;, StandardScaler()),\n",
       "                                       (&#x27;model&#x27;, ElasticNet(max_iter=10000))]),\n",
       "             n_jobs=-1,\n",
       "             param_grid={&#x27;model__alpha&#x27;: array([1.00000000e-05, 1.38949549e-05, 1.93069773e-05, 2.68269580e-05,\n",
       "       3.72759372e-05, 5.17947468e-05, 7.19685673e-05, 1.00000000e-04,\n",
       "       1.38949549e-04, 1.93069773e-04, 2.68269580e-04, 3.72759372e-04,\n",
       "       5.17947468e-04,...\n",
       "       0.30612245, 0.32653061, 0.34693878, 0.36734694, 0.3877551 ,\n",
       "       0.40816327, 0.42857143, 0.44897959, 0.46938776, 0.48979592,\n",
       "       0.51020408, 0.53061224, 0.55102041, 0.57142857, 0.59183673,\n",
       "       0.6122449 , 0.63265306, 0.65306122, 0.67346939, 0.69387755,\n",
       "       0.71428571, 0.73469388, 0.75510204, 0.7755102 , 0.79591837,\n",
       "       0.81632653, 0.83673469, 0.85714286, 0.87755102, 0.89795918,\n",
       "       0.91836735, 0.93877551, 0.95918367, 0.97959184, 1.        ])},\n",
       "             scoring=&#x27;r2&#x27;, verbose=2)</pre></div> </div></div><div class=\"sk-parallel\"><div class=\"sk-parallel-item\"><div class=\"sk-item\"><div class=\"sk-label-container\"><div class=\"sk-label fitted sk-toggleable\"><input class=\"sk-toggleable__control sk-hidden--visually\" id=\"sk-estimator-id-8\" type=\"checkbox\" ><label for=\"sk-estimator-id-8\" class=\"sk-toggleable__label fitted sk-toggleable__label-arrow\"><div><div>best_estimator_: Pipeline</div></div></label><div class=\"sk-toggleable__content fitted\"><pre>Pipeline(steps=[(&#x27;scaler&#x27;, StandardScaler()),\n",
       "                (&#x27;model&#x27;,\n",
       "                 ElasticNet(alpha=np.float64(0.1389495494373136),\n",
       "                            l1_ratio=np.float64(0.0), max_iter=10000))])</pre></div> </div></div><div class=\"sk-serial\"><div class=\"sk-item\"><div class=\"sk-serial\"><div class=\"sk-item\"><div class=\"sk-estimator fitted sk-toggleable\"><input class=\"sk-toggleable__control sk-hidden--visually\" id=\"sk-estimator-id-9\" type=\"checkbox\" ><label for=\"sk-estimator-id-9\" class=\"sk-toggleable__label fitted sk-toggleable__label-arrow\"><div><div>StandardScaler</div></div><div><a class=\"sk-estimator-doc-link fitted\" rel=\"noreferrer\" target=\"_blank\" href=\"https://scikit-learn.org/1.6/modules/generated/sklearn.preprocessing.StandardScaler.html\">?<span>Documentation for StandardScaler</span></a></div></label><div class=\"sk-toggleable__content fitted\"><pre>StandardScaler()</pre></div> </div></div><div class=\"sk-item\"><div class=\"sk-estimator fitted sk-toggleable\"><input class=\"sk-toggleable__control sk-hidden--visually\" id=\"sk-estimator-id-10\" type=\"checkbox\" ><label for=\"sk-estimator-id-10\" class=\"sk-toggleable__label fitted sk-toggleable__label-arrow\"><div><div>ElasticNet</div></div><div><a class=\"sk-estimator-doc-link fitted\" rel=\"noreferrer\" target=\"_blank\" href=\"https://scikit-learn.org/1.6/modules/generated/sklearn.linear_model.ElasticNet.html\">?<span>Documentation for ElasticNet</span></a></div></label><div class=\"sk-toggleable__content fitted\"><pre>ElasticNet(alpha=np.float64(0.1389495494373136), l1_ratio=np.float64(0.0),\n",
       "           max_iter=10000)</pre></div> </div></div></div></div></div></div></div></div></div></div></div>"
      ],
      "text/plain": [
       "GridSearchCV(cv=5,\n",
       "             estimator=Pipeline(steps=[('scaler', StandardScaler()),\n",
       "                                       ('model', ElasticNet(max_iter=10000))]),\n",
       "             n_jobs=-1,\n",
       "             param_grid={'model__alpha': array([1.00000000e-05, 1.38949549e-05, 1.93069773e-05, 2.68269580e-05,\n",
       "       3.72759372e-05, 5.17947468e-05, 7.19685673e-05, 1.00000000e-04,\n",
       "       1.38949549e-04, 1.93069773e-04, 2.68269580e-04, 3.72759372e-04,\n",
       "       5.17947468e-04,...\n",
       "       0.30612245, 0.32653061, 0.34693878, 0.36734694, 0.3877551 ,\n",
       "       0.40816327, 0.42857143, 0.44897959, 0.46938776, 0.48979592,\n",
       "       0.51020408, 0.53061224, 0.55102041, 0.57142857, 0.59183673,\n",
       "       0.6122449 , 0.63265306, 0.65306122, 0.67346939, 0.69387755,\n",
       "       0.71428571, 0.73469388, 0.75510204, 0.7755102 , 0.79591837,\n",
       "       0.81632653, 0.83673469, 0.85714286, 0.87755102, 0.89795918,\n",
       "       0.91836735, 0.93877551, 0.95918367, 0.97959184, 1.        ])},\n",
       "             scoring='r2', verbose=2)"
      ]
     },
     "execution_count": 45,
     "metadata": {},
     "output_type": "execute_result"
    }
   ],
   "source": [
    "grid_search = GridSearchCV(\n",
    "    estimator=pipeline,\n",
    "    param_grid=param_grid,\n",
    "    cv=5,\n",
    "    scoring='r2',\n",
    "    verbose=2,\n",
    "    n_jobs=-1  \n",
    ")\n",
    "\n",
    "grid_search.fit(X_train_net, y_train_net)\n"
   ]
  },
  {
   "cell_type": "code",
   "execution_count": 46,
   "metadata": {},
   "outputs": [
    {
     "name": "stdout",
     "output_type": "stream",
     "text": [
      "Mejores hiperparámetros:\n",
      "{'model__alpha': np.float64(0.1389495494373136), 'model__l1_ratio': np.float64(0.0)}\n"
     ]
    }
   ],
   "source": [
    "print(\"Mejores hiperparámetros:\")\n",
    "print(grid_search.best_params_)"
   ]
  },
  {
   "cell_type": "code",
   "execution_count": 47,
   "metadata": {},
   "outputs": [
    {
     "name": "stdout",
     "output_type": "stream",
     "text": [
      "ElasticNet R2: 0.4247, RMSE: 5.8537\n"
     ]
    }
   ],
   "source": [
    "y_pred_elastic = grid_search.predict(X_test_net)\n",
    "\n",
    "r2_elastic = r2_score(y_test_net, y_pred_elastic)\n",
    "rmse_elastic = np.sqrt(mean_squared_error(y_test_net, y_pred_elastic))\n",
    "\n",
    "print(f\"ElasticNet R2: {r2_elastic:.4f}, RMSE: {rmse_elastic:.4f}\")"
   ]
  },
  {
   "cell_type": "code",
   "execution_count": 48,
   "metadata": {},
   "outputs": [
    {
     "data": {
      "application/vnd.plotly.v1+json": {
       "config": {
        "plotlyServerURL": "https://plot.ly"
       },
       "data": [
        {
         "marker": {
          "color": "orange"
         },
         "mode": "markers",
         "name": "ElasticNet Pred",
         "type": "scatter",
         "x": {
          "bdata": "uQCtAK8AnwA=",
          "dtype": "i2"
         },
         "y": {
          "bdata": "mFtKRbTsY0ABd7mSziFmQKOb7jENZmVAsiLljLWhZUAtWZBjSiJkQH2zheSbAmRAcBjJcQ22ZUBb2SK5g7dlQICKTDfeVmZAfioe18AEZkAMkI5wVyhkQI/D7A91PmRAUdrO7fZ1ZEDeaOPmtwxmQA==",
          "dtype": "f8"
         }
        },
        {
         "line": {
          "color": "red",
          "dash": "dash"
         },
         "mode": "lines",
         "name": "Línea Ideal",
         "type": "scatter",
         "x": {
          "bdata": "uQCtAK8AnwA=",
          "dtype": "i2"
         },
         "y": {
          "bdata": "uQCtAK8AnwA=",
          "dtype": "i2"
         }
        }
       ],
       "layout": {
        "height": 500,
        "template": {
         "data": {
          "bar": [
           {
            "error_x": {
             "color": "#2a3f5f"
            },
            "error_y": {
             "color": "#2a3f5f"
            },
            "marker": {
             "line": {
              "color": "#E5ECF6",
              "width": 0.5
             },
             "pattern": {
              "fillmode": "overlay",
              "size": 10,
              "solidity": 0.2
             }
            },
            "type": "bar"
           }
          ],
          "barpolar": [
           {
            "marker": {
             "line": {
              "color": "#E5ECF6",
              "width": 0.5
             },
             "pattern": {
              "fillmode": "overlay",
              "size": 10,
              "solidity": 0.2
             }
            },
            "type": "barpolar"
           }
          ],
          "carpet": [
           {
            "aaxis": {
             "endlinecolor": "#2a3f5f",
             "gridcolor": "white",
             "linecolor": "white",
             "minorgridcolor": "white",
             "startlinecolor": "#2a3f5f"
            },
            "baxis": {
             "endlinecolor": "#2a3f5f",
             "gridcolor": "white",
             "linecolor": "white",
             "minorgridcolor": "white",
             "startlinecolor": "#2a3f5f"
            },
            "type": "carpet"
           }
          ],
          "choropleth": [
           {
            "colorbar": {
             "outlinewidth": 0,
             "ticks": ""
            },
            "type": "choropleth"
           }
          ],
          "contour": [
           {
            "colorbar": {
             "outlinewidth": 0,
             "ticks": ""
            },
            "colorscale": [
             [
              0,
              "#0d0887"
             ],
             [
              0.1111111111111111,
              "#46039f"
             ],
             [
              0.2222222222222222,
              "#7201a8"
             ],
             [
              0.3333333333333333,
              "#9c179e"
             ],
             [
              0.4444444444444444,
              "#bd3786"
             ],
             [
              0.5555555555555556,
              "#d8576b"
             ],
             [
              0.6666666666666666,
              "#ed7953"
             ],
             [
              0.7777777777777778,
              "#fb9f3a"
             ],
             [
              0.8888888888888888,
              "#fdca26"
             ],
             [
              1,
              "#f0f921"
             ]
            ],
            "type": "contour"
           }
          ],
          "contourcarpet": [
           {
            "colorbar": {
             "outlinewidth": 0,
             "ticks": ""
            },
            "type": "contourcarpet"
           }
          ],
          "heatmap": [
           {
            "colorbar": {
             "outlinewidth": 0,
             "ticks": ""
            },
            "colorscale": [
             [
              0,
              "#0d0887"
             ],
             [
              0.1111111111111111,
              "#46039f"
             ],
             [
              0.2222222222222222,
              "#7201a8"
             ],
             [
              0.3333333333333333,
              "#9c179e"
             ],
             [
              0.4444444444444444,
              "#bd3786"
             ],
             [
              0.5555555555555556,
              "#d8576b"
             ],
             [
              0.6666666666666666,
              "#ed7953"
             ],
             [
              0.7777777777777778,
              "#fb9f3a"
             ],
             [
              0.8888888888888888,
              "#fdca26"
             ],
             [
              1,
              "#f0f921"
             ]
            ],
            "type": "heatmap"
           }
          ],
          "histogram": [
           {
            "marker": {
             "pattern": {
              "fillmode": "overlay",
              "size": 10,
              "solidity": 0.2
             }
            },
            "type": "histogram"
           }
          ],
          "histogram2d": [
           {
            "colorbar": {
             "outlinewidth": 0,
             "ticks": ""
            },
            "colorscale": [
             [
              0,
              "#0d0887"
             ],
             [
              0.1111111111111111,
              "#46039f"
             ],
             [
              0.2222222222222222,
              "#7201a8"
             ],
             [
              0.3333333333333333,
              "#9c179e"
             ],
             [
              0.4444444444444444,
              "#bd3786"
             ],
             [
              0.5555555555555556,
              "#d8576b"
             ],
             [
              0.6666666666666666,
              "#ed7953"
             ],
             [
              0.7777777777777778,
              "#fb9f3a"
             ],
             [
              0.8888888888888888,
              "#fdca26"
             ],
             [
              1,
              "#f0f921"
             ]
            ],
            "type": "histogram2d"
           }
          ],
          "histogram2dcontour": [
           {
            "colorbar": {
             "outlinewidth": 0,
             "ticks": ""
            },
            "colorscale": [
             [
              0,
              "#0d0887"
             ],
             [
              0.1111111111111111,
              "#46039f"
             ],
             [
              0.2222222222222222,
              "#7201a8"
             ],
             [
              0.3333333333333333,
              "#9c179e"
             ],
             [
              0.4444444444444444,
              "#bd3786"
             ],
             [
              0.5555555555555556,
              "#d8576b"
             ],
             [
              0.6666666666666666,
              "#ed7953"
             ],
             [
              0.7777777777777778,
              "#fb9f3a"
             ],
             [
              0.8888888888888888,
              "#fdca26"
             ],
             [
              1,
              "#f0f921"
             ]
            ],
            "type": "histogram2dcontour"
           }
          ],
          "mesh3d": [
           {
            "colorbar": {
             "outlinewidth": 0,
             "ticks": ""
            },
            "type": "mesh3d"
           }
          ],
          "parcoords": [
           {
            "line": {
             "colorbar": {
              "outlinewidth": 0,
              "ticks": ""
             }
            },
            "type": "parcoords"
           }
          ],
          "pie": [
           {
            "automargin": true,
            "type": "pie"
           }
          ],
          "scatter": [
           {
            "fillpattern": {
             "fillmode": "overlay",
             "size": 10,
             "solidity": 0.2
            },
            "type": "scatter"
           }
          ],
          "scatter3d": [
           {
            "line": {
             "colorbar": {
              "outlinewidth": 0,
              "ticks": ""
             }
            },
            "marker": {
             "colorbar": {
              "outlinewidth": 0,
              "ticks": ""
             }
            },
            "type": "scatter3d"
           }
          ],
          "scattercarpet": [
           {
            "marker": {
             "colorbar": {
              "outlinewidth": 0,
              "ticks": ""
             }
            },
            "type": "scattercarpet"
           }
          ],
          "scattergeo": [
           {
            "marker": {
             "colorbar": {
              "outlinewidth": 0,
              "ticks": ""
             }
            },
            "type": "scattergeo"
           }
          ],
          "scattergl": [
           {
            "marker": {
             "colorbar": {
              "outlinewidth": 0,
              "ticks": ""
             }
            },
            "type": "scattergl"
           }
          ],
          "scattermap": [
           {
            "marker": {
             "colorbar": {
              "outlinewidth": 0,
              "ticks": ""
             }
            },
            "type": "scattermap"
           }
          ],
          "scattermapbox": [
           {
            "marker": {
             "colorbar": {
              "outlinewidth": 0,
              "ticks": ""
             }
            },
            "type": "scattermapbox"
           }
          ],
          "scatterpolar": [
           {
            "marker": {
             "colorbar": {
              "outlinewidth": 0,
              "ticks": ""
             }
            },
            "type": "scatterpolar"
           }
          ],
          "scatterpolargl": [
           {
            "marker": {
             "colorbar": {
              "outlinewidth": 0,
              "ticks": ""
             }
            },
            "type": "scatterpolargl"
           }
          ],
          "scatterternary": [
           {
            "marker": {
             "colorbar": {
              "outlinewidth": 0,
              "ticks": ""
             }
            },
            "type": "scatterternary"
           }
          ],
          "surface": [
           {
            "colorbar": {
             "outlinewidth": 0,
             "ticks": ""
            },
            "colorscale": [
             [
              0,
              "#0d0887"
             ],
             [
              0.1111111111111111,
              "#46039f"
             ],
             [
              0.2222222222222222,
              "#7201a8"
             ],
             [
              0.3333333333333333,
              "#9c179e"
             ],
             [
              0.4444444444444444,
              "#bd3786"
             ],
             [
              0.5555555555555556,
              "#d8576b"
             ],
             [
              0.6666666666666666,
              "#ed7953"
             ],
             [
              0.7777777777777778,
              "#fb9f3a"
             ],
             [
              0.8888888888888888,
              "#fdca26"
             ],
             [
              1,
              "#f0f921"
             ]
            ],
            "type": "surface"
           }
          ],
          "table": [
           {
            "cells": {
             "fill": {
              "color": "#EBF0F8"
             },
             "line": {
              "color": "white"
             }
            },
            "header": {
             "fill": {
              "color": "#C8D4E3"
             },
             "line": {
              "color": "white"
             }
            },
            "type": "table"
           }
          ]
         },
         "layout": {
          "annotationdefaults": {
           "arrowcolor": "#2a3f5f",
           "arrowhead": 0,
           "arrowwidth": 1
          },
          "autotypenumbers": "strict",
          "coloraxis": {
           "colorbar": {
            "outlinewidth": 0,
            "ticks": ""
           }
          },
          "colorscale": {
           "diverging": [
            [
             0,
             "#8e0152"
            ],
            [
             0.1,
             "#c51b7d"
            ],
            [
             0.2,
             "#de77ae"
            ],
            [
             0.3,
             "#f1b6da"
            ],
            [
             0.4,
             "#fde0ef"
            ],
            [
             0.5,
             "#f7f7f7"
            ],
            [
             0.6,
             "#e6f5d0"
            ],
            [
             0.7,
             "#b8e186"
            ],
            [
             0.8,
             "#7fbc41"
            ],
            [
             0.9,
             "#4d9221"
            ],
            [
             1,
             "#276419"
            ]
           ],
           "sequential": [
            [
             0,
             "#0d0887"
            ],
            [
             0.1111111111111111,
             "#46039f"
            ],
            [
             0.2222222222222222,
             "#7201a8"
            ],
            [
             0.3333333333333333,
             "#9c179e"
            ],
            [
             0.4444444444444444,
             "#bd3786"
            ],
            [
             0.5555555555555556,
             "#d8576b"
            ],
            [
             0.6666666666666666,
             "#ed7953"
            ],
            [
             0.7777777777777778,
             "#fb9f3a"
            ],
            [
             0.8888888888888888,
             "#fdca26"
            ],
            [
             1,
             "#f0f921"
            ]
           ],
           "sequentialminus": [
            [
             0,
             "#0d0887"
            ],
            [
             0.1111111111111111,
             "#46039f"
            ],
            [
             0.2222222222222222,
             "#7201a8"
            ],
            [
             0.3333333333333333,
             "#9c179e"
            ],
            [
             0.4444444444444444,
             "#bd3786"
            ],
            [
             0.5555555555555556,
             "#d8576b"
            ],
            [
             0.6666666666666666,
             "#ed7953"
            ],
            [
             0.7777777777777778,
             "#fb9f3a"
            ],
            [
             0.8888888888888888,
             "#fdca26"
            ],
            [
             1,
             "#f0f921"
            ]
           ]
          },
          "colorway": [
           "#636efa",
           "#EF553B",
           "#00cc96",
           "#ab63fa",
           "#FFA15A",
           "#19d3f3",
           "#FF6692",
           "#B6E880",
           "#FF97FF",
           "#FECB52"
          ],
          "font": {
           "color": "#2a3f5f"
          },
          "geo": {
           "bgcolor": "white",
           "lakecolor": "white",
           "landcolor": "#E5ECF6",
           "showlakes": true,
           "showland": true,
           "subunitcolor": "white"
          },
          "hoverlabel": {
           "align": "left"
          },
          "hovermode": "closest",
          "mapbox": {
           "style": "light"
          },
          "paper_bgcolor": "white",
          "plot_bgcolor": "#E5ECF6",
          "polar": {
           "angularaxis": {
            "gridcolor": "white",
            "linecolor": "white",
            "ticks": ""
           },
           "bgcolor": "#E5ECF6",
           "radialaxis": {
            "gridcolor": "white",
            "linecolor": "white",
            "ticks": ""
           }
          },
          "scene": {
           "xaxis": {
            "backgroundcolor": "#E5ECF6",
            "gridcolor": "white",
            "gridwidth": 2,
            "linecolor": "white",
            "showbackground": true,
            "ticks": "",
            "zerolinecolor": "white"
           },
           "yaxis": {
            "backgroundcolor": "#E5ECF6",
            "gridcolor": "white",
            "gridwidth": 2,
            "linecolor": "white",
            "showbackground": true,
            "ticks": "",
            "zerolinecolor": "white"
           },
           "zaxis": {
            "backgroundcolor": "#E5ECF6",
            "gridcolor": "white",
            "gridwidth": 2,
            "linecolor": "white",
            "showbackground": true,
            "ticks": "",
            "zerolinecolor": "white"
           }
          },
          "shapedefaults": {
           "line": {
            "color": "#2a3f5f"
           }
          },
          "ternary": {
           "aaxis": {
            "gridcolor": "white",
            "linecolor": "white",
            "ticks": ""
           },
           "baxis": {
            "gridcolor": "white",
            "linecolor": "white",
            "ticks": ""
           },
           "bgcolor": "#E5ECF6",
           "caxis": {
            "gridcolor": "white",
            "linecolor": "white",
            "ticks": ""
           }
          },
          "title": {
           "x": 0.05
          },
          "xaxis": {
           "automargin": true,
           "gridcolor": "white",
           "linecolor": "white",
           "ticks": "",
           "title": {
            "standoff": 15
           },
           "zerolinecolor": "white",
           "zerolinewidth": 2
          },
          "yaxis": {
           "automargin": true,
           "gridcolor": "white",
           "linecolor": "white",
           "ticks": "",
           "title": {
            "standoff": 15
           },
           "zerolinecolor": "white",
           "zerolinewidth": 2
          }
         }
        },
        "title": {
         "text": "ElasticNet con GridSearch (Malla Amplia)"
        },
        "width": 700,
        "xaxis": {
         "title": {
          "text": "Altura Real"
         }
        },
        "yaxis": {
         "title": {
          "text": "Altura Predicha"
         }
        }
       }
      }
     },
     "metadata": {},
     "output_type": "display_data"
    }
   ],
   "source": [
    "fig_elastic = go.Figure()\n",
    "\n",
    "fig_elastic.add_trace(go.Scatter(\n",
    "    x=y_test, \n",
    "    y=y_pred_elastic,\n",
    "    mode='markers',\n",
    "    name='ElasticNet Pred',\n",
    "    marker=dict(color='orange')\n",
    "))\n",
    "\n",
    "fig_elastic.add_trace(go.Scatter(\n",
    "    x=y_test,\n",
    "    y=y_test,\n",
    "    mode='lines',\n",
    "    name='Línea Ideal',\n",
    "    line=dict(color='red', dash='dash')\n",
    "))\n",
    "\n",
    "fig_elastic.update_layout(\n",
    "    title='ElasticNet con GridSearch (Malla Amplia)',\n",
    "    xaxis_title='Altura Real',\n",
    "    yaxis_title='Altura Predicha',\n",
    "    width=700,\n",
    "    height=500\n",
    ")\n",
    "\n",
    "fig_elastic.show()\n"
   ]
  },
  {
   "cell_type": "markdown",
   "metadata": {},
   "source": [
    "### **Modelo 5: Pie Coef_ Intercep_**"
   ]
  },
  {
   "cell_type": "code",
   "execution_count": 49,
   "metadata": {},
   "outputs": [],
   "source": [
    "X = df_ori[['Pie']]\n",
    "y = df_ori['Altura']\n",
    "\n",
    "X_train_5, X_test_5, y_train_5, y_test_5 = train_test_split(X, y, test_size=0.2, random_state=42)"
   ]
  },
  {
   "cell_type": "code",
   "execution_count": 50,
   "metadata": {},
   "outputs": [
    {
     "data": {
      "text/html": [
       "<style>#sk-container-id-6 {\n",
       "  /* Definition of color scheme common for light and dark mode */\n",
       "  --sklearn-color-text: #000;\n",
       "  --sklearn-color-text-muted: #666;\n",
       "  --sklearn-color-line: gray;\n",
       "  /* Definition of color scheme for unfitted estimators */\n",
       "  --sklearn-color-unfitted-level-0: #fff5e6;\n",
       "  --sklearn-color-unfitted-level-1: #f6e4d2;\n",
       "  --sklearn-color-unfitted-level-2: #ffe0b3;\n",
       "  --sklearn-color-unfitted-level-3: chocolate;\n",
       "  /* Definition of color scheme for fitted estimators */\n",
       "  --sklearn-color-fitted-level-0: #f0f8ff;\n",
       "  --sklearn-color-fitted-level-1: #d4ebff;\n",
       "  --sklearn-color-fitted-level-2: #b3dbfd;\n",
       "  --sklearn-color-fitted-level-3: cornflowerblue;\n",
       "\n",
       "  /* Specific color for light theme */\n",
       "  --sklearn-color-text-on-default-background: var(--sg-text-color, var(--theme-code-foreground, var(--jp-content-font-color1, black)));\n",
       "  --sklearn-color-background: var(--sg-background-color, var(--theme-background, var(--jp-layout-color0, white)));\n",
       "  --sklearn-color-border-box: var(--sg-text-color, var(--theme-code-foreground, var(--jp-content-font-color1, black)));\n",
       "  --sklearn-color-icon: #696969;\n",
       "\n",
       "  @media (prefers-color-scheme: dark) {\n",
       "    /* Redefinition of color scheme for dark theme */\n",
       "    --sklearn-color-text-on-default-background: var(--sg-text-color, var(--theme-code-foreground, var(--jp-content-font-color1, white)));\n",
       "    --sklearn-color-background: var(--sg-background-color, var(--theme-background, var(--jp-layout-color0, #111)));\n",
       "    --sklearn-color-border-box: var(--sg-text-color, var(--theme-code-foreground, var(--jp-content-font-color1, white)));\n",
       "    --sklearn-color-icon: #878787;\n",
       "  }\n",
       "}\n",
       "\n",
       "#sk-container-id-6 {\n",
       "  color: var(--sklearn-color-text);\n",
       "}\n",
       "\n",
       "#sk-container-id-6 pre {\n",
       "  padding: 0;\n",
       "}\n",
       "\n",
       "#sk-container-id-6 input.sk-hidden--visually {\n",
       "  border: 0;\n",
       "  clip: rect(1px 1px 1px 1px);\n",
       "  clip: rect(1px, 1px, 1px, 1px);\n",
       "  height: 1px;\n",
       "  margin: -1px;\n",
       "  overflow: hidden;\n",
       "  padding: 0;\n",
       "  position: absolute;\n",
       "  width: 1px;\n",
       "}\n",
       "\n",
       "#sk-container-id-6 div.sk-dashed-wrapped {\n",
       "  border: 1px dashed var(--sklearn-color-line);\n",
       "  margin: 0 0.4em 0.5em 0.4em;\n",
       "  box-sizing: border-box;\n",
       "  padding-bottom: 0.4em;\n",
       "  background-color: var(--sklearn-color-background);\n",
       "}\n",
       "\n",
       "#sk-container-id-6 div.sk-container {\n",
       "  /* jupyter's `normalize.less` sets `[hidden] { display: none; }`\n",
       "     but bootstrap.min.css set `[hidden] { display: none !important; }`\n",
       "     so we also need the `!important` here to be able to override the\n",
       "     default hidden behavior on the sphinx rendered scikit-learn.org.\n",
       "     See: https://github.com/scikit-learn/scikit-learn/issues/21755 */\n",
       "  display: inline-block !important;\n",
       "  position: relative;\n",
       "}\n",
       "\n",
       "#sk-container-id-6 div.sk-text-repr-fallback {\n",
       "  display: none;\n",
       "}\n",
       "\n",
       "div.sk-parallel-item,\n",
       "div.sk-serial,\n",
       "div.sk-item {\n",
       "  /* draw centered vertical line to link estimators */\n",
       "  background-image: linear-gradient(var(--sklearn-color-text-on-default-background), var(--sklearn-color-text-on-default-background));\n",
       "  background-size: 2px 100%;\n",
       "  background-repeat: no-repeat;\n",
       "  background-position: center center;\n",
       "}\n",
       "\n",
       "/* Parallel-specific style estimator block */\n",
       "\n",
       "#sk-container-id-6 div.sk-parallel-item::after {\n",
       "  content: \"\";\n",
       "  width: 100%;\n",
       "  border-bottom: 2px solid var(--sklearn-color-text-on-default-background);\n",
       "  flex-grow: 1;\n",
       "}\n",
       "\n",
       "#sk-container-id-6 div.sk-parallel {\n",
       "  display: flex;\n",
       "  align-items: stretch;\n",
       "  justify-content: center;\n",
       "  background-color: var(--sklearn-color-background);\n",
       "  position: relative;\n",
       "}\n",
       "\n",
       "#sk-container-id-6 div.sk-parallel-item {\n",
       "  display: flex;\n",
       "  flex-direction: column;\n",
       "}\n",
       "\n",
       "#sk-container-id-6 div.sk-parallel-item:first-child::after {\n",
       "  align-self: flex-end;\n",
       "  width: 50%;\n",
       "}\n",
       "\n",
       "#sk-container-id-6 div.sk-parallel-item:last-child::after {\n",
       "  align-self: flex-start;\n",
       "  width: 50%;\n",
       "}\n",
       "\n",
       "#sk-container-id-6 div.sk-parallel-item:only-child::after {\n",
       "  width: 0;\n",
       "}\n",
       "\n",
       "/* Serial-specific style estimator block */\n",
       "\n",
       "#sk-container-id-6 div.sk-serial {\n",
       "  display: flex;\n",
       "  flex-direction: column;\n",
       "  align-items: center;\n",
       "  background-color: var(--sklearn-color-background);\n",
       "  padding-right: 1em;\n",
       "  padding-left: 1em;\n",
       "}\n",
       "\n",
       "\n",
       "/* Toggleable style: style used for estimator/Pipeline/ColumnTransformer box that is\n",
       "clickable and can be expanded/collapsed.\n",
       "- Pipeline and ColumnTransformer use this feature and define the default style\n",
       "- Estimators will overwrite some part of the style using the `sk-estimator` class\n",
       "*/\n",
       "\n",
       "/* Pipeline and ColumnTransformer style (default) */\n",
       "\n",
       "#sk-container-id-6 div.sk-toggleable {\n",
       "  /* Default theme specific background. It is overwritten whether we have a\n",
       "  specific estimator or a Pipeline/ColumnTransformer */\n",
       "  background-color: var(--sklearn-color-background);\n",
       "}\n",
       "\n",
       "/* Toggleable label */\n",
       "#sk-container-id-6 label.sk-toggleable__label {\n",
       "  cursor: pointer;\n",
       "  display: flex;\n",
       "  width: 100%;\n",
       "  margin-bottom: 0;\n",
       "  padding: 0.5em;\n",
       "  box-sizing: border-box;\n",
       "  text-align: center;\n",
       "  align-items: start;\n",
       "  justify-content: space-between;\n",
       "  gap: 0.5em;\n",
       "}\n",
       "\n",
       "#sk-container-id-6 label.sk-toggleable__label .caption {\n",
       "  font-size: 0.6rem;\n",
       "  font-weight: lighter;\n",
       "  color: var(--sklearn-color-text-muted);\n",
       "}\n",
       "\n",
       "#sk-container-id-6 label.sk-toggleable__label-arrow:before {\n",
       "  /* Arrow on the left of the label */\n",
       "  content: \"▸\";\n",
       "  float: left;\n",
       "  margin-right: 0.25em;\n",
       "  color: var(--sklearn-color-icon);\n",
       "}\n",
       "\n",
       "#sk-container-id-6 label.sk-toggleable__label-arrow:hover:before {\n",
       "  color: var(--sklearn-color-text);\n",
       "}\n",
       "\n",
       "/* Toggleable content - dropdown */\n",
       "\n",
       "#sk-container-id-6 div.sk-toggleable__content {\n",
       "  max-height: 0;\n",
       "  max-width: 0;\n",
       "  overflow: hidden;\n",
       "  text-align: left;\n",
       "  /* unfitted */\n",
       "  background-color: var(--sklearn-color-unfitted-level-0);\n",
       "}\n",
       "\n",
       "#sk-container-id-6 div.sk-toggleable__content.fitted {\n",
       "  /* fitted */\n",
       "  background-color: var(--sklearn-color-fitted-level-0);\n",
       "}\n",
       "\n",
       "#sk-container-id-6 div.sk-toggleable__content pre {\n",
       "  margin: 0.2em;\n",
       "  border-radius: 0.25em;\n",
       "  color: var(--sklearn-color-text);\n",
       "  /* unfitted */\n",
       "  background-color: var(--sklearn-color-unfitted-level-0);\n",
       "}\n",
       "\n",
       "#sk-container-id-6 div.sk-toggleable__content.fitted pre {\n",
       "  /* unfitted */\n",
       "  background-color: var(--sklearn-color-fitted-level-0);\n",
       "}\n",
       "\n",
       "#sk-container-id-6 input.sk-toggleable__control:checked~div.sk-toggleable__content {\n",
       "  /* Expand drop-down */\n",
       "  max-height: 200px;\n",
       "  max-width: 100%;\n",
       "  overflow: auto;\n",
       "}\n",
       "\n",
       "#sk-container-id-6 input.sk-toggleable__control:checked~label.sk-toggleable__label-arrow:before {\n",
       "  content: \"▾\";\n",
       "}\n",
       "\n",
       "/* Pipeline/ColumnTransformer-specific style */\n",
       "\n",
       "#sk-container-id-6 div.sk-label input.sk-toggleable__control:checked~label.sk-toggleable__label {\n",
       "  color: var(--sklearn-color-text);\n",
       "  background-color: var(--sklearn-color-unfitted-level-2);\n",
       "}\n",
       "\n",
       "#sk-container-id-6 div.sk-label.fitted input.sk-toggleable__control:checked~label.sk-toggleable__label {\n",
       "  background-color: var(--sklearn-color-fitted-level-2);\n",
       "}\n",
       "\n",
       "/* Estimator-specific style */\n",
       "\n",
       "/* Colorize estimator box */\n",
       "#sk-container-id-6 div.sk-estimator input.sk-toggleable__control:checked~label.sk-toggleable__label {\n",
       "  /* unfitted */\n",
       "  background-color: var(--sklearn-color-unfitted-level-2);\n",
       "}\n",
       "\n",
       "#sk-container-id-6 div.sk-estimator.fitted input.sk-toggleable__control:checked~label.sk-toggleable__label {\n",
       "  /* fitted */\n",
       "  background-color: var(--sklearn-color-fitted-level-2);\n",
       "}\n",
       "\n",
       "#sk-container-id-6 div.sk-label label.sk-toggleable__label,\n",
       "#sk-container-id-6 div.sk-label label {\n",
       "  /* The background is the default theme color */\n",
       "  color: var(--sklearn-color-text-on-default-background);\n",
       "}\n",
       "\n",
       "/* On hover, darken the color of the background */\n",
       "#sk-container-id-6 div.sk-label:hover label.sk-toggleable__label {\n",
       "  color: var(--sklearn-color-text);\n",
       "  background-color: var(--sklearn-color-unfitted-level-2);\n",
       "}\n",
       "\n",
       "/* Label box, darken color on hover, fitted */\n",
       "#sk-container-id-6 div.sk-label.fitted:hover label.sk-toggleable__label.fitted {\n",
       "  color: var(--sklearn-color-text);\n",
       "  background-color: var(--sklearn-color-fitted-level-2);\n",
       "}\n",
       "\n",
       "/* Estimator label */\n",
       "\n",
       "#sk-container-id-6 div.sk-label label {\n",
       "  font-family: monospace;\n",
       "  font-weight: bold;\n",
       "  display: inline-block;\n",
       "  line-height: 1.2em;\n",
       "}\n",
       "\n",
       "#sk-container-id-6 div.sk-label-container {\n",
       "  text-align: center;\n",
       "}\n",
       "\n",
       "/* Estimator-specific */\n",
       "#sk-container-id-6 div.sk-estimator {\n",
       "  font-family: monospace;\n",
       "  border: 1px dotted var(--sklearn-color-border-box);\n",
       "  border-radius: 0.25em;\n",
       "  box-sizing: border-box;\n",
       "  margin-bottom: 0.5em;\n",
       "  /* unfitted */\n",
       "  background-color: var(--sklearn-color-unfitted-level-0);\n",
       "}\n",
       "\n",
       "#sk-container-id-6 div.sk-estimator.fitted {\n",
       "  /* fitted */\n",
       "  background-color: var(--sklearn-color-fitted-level-0);\n",
       "}\n",
       "\n",
       "/* on hover */\n",
       "#sk-container-id-6 div.sk-estimator:hover {\n",
       "  /* unfitted */\n",
       "  background-color: var(--sklearn-color-unfitted-level-2);\n",
       "}\n",
       "\n",
       "#sk-container-id-6 div.sk-estimator.fitted:hover {\n",
       "  /* fitted */\n",
       "  background-color: var(--sklearn-color-fitted-level-2);\n",
       "}\n",
       "\n",
       "/* Specification for estimator info (e.g. \"i\" and \"?\") */\n",
       "\n",
       "/* Common style for \"i\" and \"?\" */\n",
       "\n",
       ".sk-estimator-doc-link,\n",
       "a:link.sk-estimator-doc-link,\n",
       "a:visited.sk-estimator-doc-link {\n",
       "  float: right;\n",
       "  font-size: smaller;\n",
       "  line-height: 1em;\n",
       "  font-family: monospace;\n",
       "  background-color: var(--sklearn-color-background);\n",
       "  border-radius: 1em;\n",
       "  height: 1em;\n",
       "  width: 1em;\n",
       "  text-decoration: none !important;\n",
       "  margin-left: 0.5em;\n",
       "  text-align: center;\n",
       "  /* unfitted */\n",
       "  border: var(--sklearn-color-unfitted-level-1) 1pt solid;\n",
       "  color: var(--sklearn-color-unfitted-level-1);\n",
       "}\n",
       "\n",
       ".sk-estimator-doc-link.fitted,\n",
       "a:link.sk-estimator-doc-link.fitted,\n",
       "a:visited.sk-estimator-doc-link.fitted {\n",
       "  /* fitted */\n",
       "  border: var(--sklearn-color-fitted-level-1) 1pt solid;\n",
       "  color: var(--sklearn-color-fitted-level-1);\n",
       "}\n",
       "\n",
       "/* On hover */\n",
       "div.sk-estimator:hover .sk-estimator-doc-link:hover,\n",
       ".sk-estimator-doc-link:hover,\n",
       "div.sk-label-container:hover .sk-estimator-doc-link:hover,\n",
       ".sk-estimator-doc-link:hover {\n",
       "  /* unfitted */\n",
       "  background-color: var(--sklearn-color-unfitted-level-3);\n",
       "  color: var(--sklearn-color-background);\n",
       "  text-decoration: none;\n",
       "}\n",
       "\n",
       "div.sk-estimator.fitted:hover .sk-estimator-doc-link.fitted:hover,\n",
       ".sk-estimator-doc-link.fitted:hover,\n",
       "div.sk-label-container:hover .sk-estimator-doc-link.fitted:hover,\n",
       ".sk-estimator-doc-link.fitted:hover {\n",
       "  /* fitted */\n",
       "  background-color: var(--sklearn-color-fitted-level-3);\n",
       "  color: var(--sklearn-color-background);\n",
       "  text-decoration: none;\n",
       "}\n",
       "\n",
       "/* Span, style for the box shown on hovering the info icon */\n",
       ".sk-estimator-doc-link span {\n",
       "  display: none;\n",
       "  z-index: 9999;\n",
       "  position: relative;\n",
       "  font-weight: normal;\n",
       "  right: .2ex;\n",
       "  padding: .5ex;\n",
       "  margin: .5ex;\n",
       "  width: min-content;\n",
       "  min-width: 20ex;\n",
       "  max-width: 50ex;\n",
       "  color: var(--sklearn-color-text);\n",
       "  box-shadow: 2pt 2pt 4pt #999;\n",
       "  /* unfitted */\n",
       "  background: var(--sklearn-color-unfitted-level-0);\n",
       "  border: .5pt solid var(--sklearn-color-unfitted-level-3);\n",
       "}\n",
       "\n",
       ".sk-estimator-doc-link.fitted span {\n",
       "  /* fitted */\n",
       "  background: var(--sklearn-color-fitted-level-0);\n",
       "  border: var(--sklearn-color-fitted-level-3);\n",
       "}\n",
       "\n",
       ".sk-estimator-doc-link:hover span {\n",
       "  display: block;\n",
       "}\n",
       "\n",
       "/* \"?\"-specific style due to the `<a>` HTML tag */\n",
       "\n",
       "#sk-container-id-6 a.estimator_doc_link {\n",
       "  float: right;\n",
       "  font-size: 1rem;\n",
       "  line-height: 1em;\n",
       "  font-family: monospace;\n",
       "  background-color: var(--sklearn-color-background);\n",
       "  border-radius: 1rem;\n",
       "  height: 1rem;\n",
       "  width: 1rem;\n",
       "  text-decoration: none;\n",
       "  /* unfitted */\n",
       "  color: var(--sklearn-color-unfitted-level-1);\n",
       "  border: var(--sklearn-color-unfitted-level-1) 1pt solid;\n",
       "}\n",
       "\n",
       "#sk-container-id-6 a.estimator_doc_link.fitted {\n",
       "  /* fitted */\n",
       "  border: var(--sklearn-color-fitted-level-1) 1pt solid;\n",
       "  color: var(--sklearn-color-fitted-level-1);\n",
       "}\n",
       "\n",
       "/* On hover */\n",
       "#sk-container-id-6 a.estimator_doc_link:hover {\n",
       "  /* unfitted */\n",
       "  background-color: var(--sklearn-color-unfitted-level-3);\n",
       "  color: var(--sklearn-color-background);\n",
       "  text-decoration: none;\n",
       "}\n",
       "\n",
       "#sk-container-id-6 a.estimator_doc_link.fitted:hover {\n",
       "  /* fitted */\n",
       "  background-color: var(--sklearn-color-fitted-level-3);\n",
       "}\n",
       "</style><div id=\"sk-container-id-6\" class=\"sk-top-container\"><div class=\"sk-text-repr-fallback\"><pre>LinearRegression()</pre><b>In a Jupyter environment, please rerun this cell to show the HTML representation or trust the notebook. <br />On GitHub, the HTML representation is unable to render, please try loading this page with nbviewer.org.</b></div><div class=\"sk-container\" hidden><div class=\"sk-item\"><div class=\"sk-estimator fitted sk-toggleable\"><input class=\"sk-toggleable__control sk-hidden--visually\" id=\"sk-estimator-id-11\" type=\"checkbox\" checked><label for=\"sk-estimator-id-11\" class=\"sk-toggleable__label fitted sk-toggleable__label-arrow\"><div><div>LinearRegression</div></div><div><a class=\"sk-estimator-doc-link fitted\" rel=\"noreferrer\" target=\"_blank\" href=\"https://scikit-learn.org/1.6/modules/generated/sklearn.linear_model.LinearRegression.html\">?<span>Documentation for LinearRegression</span></a><span class=\"sk-estimator-doc-link fitted\">i<span>Fitted</span></span></div></label><div class=\"sk-toggleable__content fitted\"><pre>LinearRegression()</pre></div> </div></div></div></div>"
      ],
      "text/plain": [
       "LinearRegression()"
      ]
     },
     "execution_count": 50,
     "metadata": {},
     "output_type": "execute_result"
    }
   ],
   "source": [
    "Linear_model_coeffs = LinearRegression()\n",
    "Linear_model_coeffs.fit(X_train_5, y_train_5)"
   ]
  },
  {
   "cell_type": "code",
   "execution_count": 51,
   "metadata": {},
   "outputs": [],
   "source": [
    "y_pred_pos = Linear_model_coeffs.predict(X_test_5)"
   ]
  },
  {
   "cell_type": "code",
   "execution_count": 52,
   "metadata": {},
   "outputs": [
    {
     "name": "stdout",
     "output_type": "stream",
     "text": [
      "Modelo 5 (positive=True) - R2: 0.8464, RMSE: 3.6350\n"
     ]
    }
   ],
   "source": [
    "r2_pos = r2_score(y_test_5, y_pred_pos)\n",
    "rmse_pos = np.sqrt(mean_squared_error(y_test_5, y_pred_pos))\n",
    "\n",
    "print(f\"Modelo 5 (positive=True) - R2: {r2_pos:.4f}, RMSE: {rmse_pos:.4f}\")"
   ]
  },
  {
   "cell_type": "code",
   "execution_count": 53,
   "metadata": {},
   "outputs": [],
   "source": [
    "original_coef = Linear_model_coeffs.coef_.copy()\n",
    "original_intercept = Linear_model_coeffs.intercept_\n"
   ]
  },
  {
   "cell_type": "code",
   "execution_count": 54,
   "metadata": {},
   "outputs": [
    {
     "name": "stdout",
     "output_type": "stream",
     "text": [
      "Los coeficientes son: [4.26666667]\n",
      "El Intercepto es: 58.761904761904745\n"
     ]
    }
   ],
   "source": [
    "print(f'Los coeficientes son: {Linear_model_coeffs.coef_}')\n",
    "print(f'El Intercepto es: {Linear_model_coeffs.intercept_}')"
   ]
  },
  {
   "cell_type": "code",
   "execution_count": 55,
   "metadata": {},
   "outputs": [
    {
     "name": "stderr",
     "output_type": "stream",
     "text": [
      "c:\\Users\\sofi\\miniconda3\\envs\\EO\\Lib\\site-packages\\sklearn\\utils\\validation.py:2739: UserWarning:\n",
      "\n",
      "X does not have valid feature names, but LinearRegression was fitted with feature names\n",
      "\n"
     ]
    },
    {
     "data": {
      "application/vnd.plotly.v1+json": {
       "config": {
        "plotlyServerURL": "https://plot.ly"
       },
       "data": [
        {
         "marker": {
          "color": "blue"
         },
         "mode": "markers",
         "name": "Datos reales",
         "type": "scatter",
         "x": {
          "bdata": "AAAAAAAAPEAAAAAAAIA6QAAAAAAAADhAAAAAAACAOEAAAAAAAAA7QAAAAAAAADdAAAAAAAAAPUAAAAAAAAA4QAAAAAAAgDtAAAAAAAAAN0AAAAAAAAA2QAAAAAAAADpAAAAAAAAAPEAAAAAAAIA7QAAAAAAAADhAAAAAAACAOEAAAAAAAAA4QAAAAAAAgDZA",
          "dtype": "f8"
         },
         "y": {
          "bdata": "uQCtAKMAogCsAJ8AuwClAK8AogCbAKgAswCsAJ8ApgCcAJYA",
          "dtype": "i2"
         }
        },
        {
         "line": {
          "color": "red"
         },
         "mode": "lines",
         "name": "Línea del modelo",
         "type": "scatter",
         "x": {
          "bdata": "AAAAAAAANkBnSMzbGRI2QM+QmLczJDZANtlkk002NkCeITFvZ0g2QAVq/UqBWjZAbbLJJptsNkDU+pUCtX42QDtDYt7OkDZAo4suuuiiNkAK1PqVArU2QHIcx3EcxzZA2WSTTTbZNkBBrV8pUOs2QKj1KwVq/TZAED744IMPN0B3hsS8nSE3QN7OkJi3MzdARhdddNFFN0CtXylQ61c3QBWo9SsFajdAfPDBBx98N0DkOI7jOI43QEuBWr9SoDdAsskmm2yyN0AaEvN2hsQ3QIFav1Kg1jdA6aKLLrroN0BQ61cK1Po3QLgzJObtDDhAH3zwwQcfOECGxLydITE4QO4MiXk7QzhAVVVVVVVVOEC9nSExb2c4QCTm7QyJeThAjC666KKLOEDzdobEvJ04QFq/UqDWrzhAwgcffPDBOEApUOtXCtQ4QJGYtzMk5jhA+OCDDz74OEBgKVDrVwo5QMdxHMdxHDlALrrooosuOUCWArV+pUA5QP1KgVq/UjlAZZNNNtlkOUDM2xkS83Y5QDQk5u0MiTlAm2yyySabOUACtX6lQK05QGr9SoFavzlA0UUXXXTROUA5juM4juM5QKDWrxSo9TlACB988MEHOkBvZ0jM2xk6QNavFKj1KzpAPvjggw8+OkCmQK1fKVA6QA2JeTtDYjpAdNFFF110OkDcGRLzdoY6QENi3s6QmDpAqqqqqqqqOkAS83aGxLw6QHo7Q2LezjpA4YMPPvjgOkBIzNsZEvM6QLAUqPUrBTtAF1100UUXO0B/pUCtXyk7QObtDIl5OztATjbZZJNNO0C1fqVArV87QBzHcRzHcTtAhA8++OCDO0DrVwrU+pU7QFOg1q8UqDtAuuiiiy66O0AiMW9nSMw7QIl5O0Ni3jtA8MEHH3zwO0BYCtT6lQI8QL9SoNavFDxAJ5tssskmPECO4ziO4zg8QPYrBWr9SjxAXXTRRRddPEDEvJ0hMW88QCwFav1KgTxAk0022WSTPED7lQK1fqU8QGLezpCYtzxAyiabbLLJPEAxb2dIzNs8QJi3MyTm7TxAAAAAAAAAPUA=",
          "dtype": "f8"
         },
         "y": {
          "bdata": "QR3UQR0UY0BnzPylxB1jQI57JQpsJ2NAtCpObhMxY0Da2XbSujpjQACJnzZiRGNAJjjImglOY0BM5/D+sFdjQHKWGWNYYWNAmEVCx/9qY0C+9Gorp3RjQOSjk49OfmNAClO88/WHY0AwAuVXnZFjQFaxDbxEm2NAfWA2IOykY0CjD1+Ek65jQMi+h+g6uGNA722wTOLBY0AVHdmwictjQDzMARUx1WNAYXsqedjeY0CIKlPdf+hjQK7Ze0En8mNA1Iikpc77Y0D6N80JdgVkQCDn9W0dD2RARpYe0sQYZEBsRUc2bCJkQJL0b5oTLGRAuKOY/ro1ZEDeUsFiYj9kQAQC6sYJSWRAKrESK7FSZEBQYDuPWFxkQHYPZPP/ZWRAnb6MV6dvZEDDbbW7TnlkQOgc3h/2gmRAD8wGhJ2MZEA1ey/oRJZkQFwqWEzsn2RAgdmAsJOpZECoiKkUO7NkQM430njivGRA9Ob63InGZEAaliNBMdBkQEBFTKXY2WRAZvR0CYDjZECMo51tJ+1kQLJSxtHO9mRA2AHvNXYAZUD+sBeaHQplQCRgQP7EE2VASg9pYmwdZUBwvpHGEydlQJZtuiq7MGVAvRzjjmI6ZUDjywvzCURlQAh7NFexTWVALypdu1hXZUBW2YUfAGFlQHyIroOnamVAoTfX5050ZUDI5v9L9n1lQO6VKLCdh2VAFEVRFEWRZUA69Hl47JplQGCjotyTpGVAhlLLQDuuZUCsAfSk4rdlQNKwHAmKwWVA+F9FbTHLZUAeD27R2NRlQES+ljWA3mVAa22/mSfoZUCQHOj9zvFlQLbLEGJ2+2VA3Xo5xh0FZkADKmIqxQ5mQCnZio5sGGZAT4iz8hMiZkB2N9xWuytmQJzmBLtiNWZAwZUtHwo/ZkDoRFaDsUhmQA70fudYUmZANKOnSwBcZkBaUtCvp2VmQIAB+RNPb2ZAprAhePZ4ZkDMX0rcnYJmQPIOc0BFjGZAGL6bpOyVZkA+bcQIlJ9mQGQc7Ww7qWZAi8sV0eKyZkCwej41irxmQNYpZ5kxxmZA/diP/djPZkA=",
          "dtype": "f8"
         }
        }
       ],
       "layout": {
        "height": 500,
        "template": {
         "data": {
          "bar": [
           {
            "error_x": {
             "color": "#2a3f5f"
            },
            "error_y": {
             "color": "#2a3f5f"
            },
            "marker": {
             "line": {
              "color": "#E5ECF6",
              "width": 0.5
             },
             "pattern": {
              "fillmode": "overlay",
              "size": 10,
              "solidity": 0.2
             }
            },
            "type": "bar"
           }
          ],
          "barpolar": [
           {
            "marker": {
             "line": {
              "color": "#E5ECF6",
              "width": 0.5
             },
             "pattern": {
              "fillmode": "overlay",
              "size": 10,
              "solidity": 0.2
             }
            },
            "type": "barpolar"
           }
          ],
          "carpet": [
           {
            "aaxis": {
             "endlinecolor": "#2a3f5f",
             "gridcolor": "white",
             "linecolor": "white",
             "minorgridcolor": "white",
             "startlinecolor": "#2a3f5f"
            },
            "baxis": {
             "endlinecolor": "#2a3f5f",
             "gridcolor": "white",
             "linecolor": "white",
             "minorgridcolor": "white",
             "startlinecolor": "#2a3f5f"
            },
            "type": "carpet"
           }
          ],
          "choropleth": [
           {
            "colorbar": {
             "outlinewidth": 0,
             "ticks": ""
            },
            "type": "choropleth"
           }
          ],
          "contour": [
           {
            "colorbar": {
             "outlinewidth": 0,
             "ticks": ""
            },
            "colorscale": [
             [
              0,
              "#0d0887"
             ],
             [
              0.1111111111111111,
              "#46039f"
             ],
             [
              0.2222222222222222,
              "#7201a8"
             ],
             [
              0.3333333333333333,
              "#9c179e"
             ],
             [
              0.4444444444444444,
              "#bd3786"
             ],
             [
              0.5555555555555556,
              "#d8576b"
             ],
             [
              0.6666666666666666,
              "#ed7953"
             ],
             [
              0.7777777777777778,
              "#fb9f3a"
             ],
             [
              0.8888888888888888,
              "#fdca26"
             ],
             [
              1,
              "#f0f921"
             ]
            ],
            "type": "contour"
           }
          ],
          "contourcarpet": [
           {
            "colorbar": {
             "outlinewidth": 0,
             "ticks": ""
            },
            "type": "contourcarpet"
           }
          ],
          "heatmap": [
           {
            "colorbar": {
             "outlinewidth": 0,
             "ticks": ""
            },
            "colorscale": [
             [
              0,
              "#0d0887"
             ],
             [
              0.1111111111111111,
              "#46039f"
             ],
             [
              0.2222222222222222,
              "#7201a8"
             ],
             [
              0.3333333333333333,
              "#9c179e"
             ],
             [
              0.4444444444444444,
              "#bd3786"
             ],
             [
              0.5555555555555556,
              "#d8576b"
             ],
             [
              0.6666666666666666,
              "#ed7953"
             ],
             [
              0.7777777777777778,
              "#fb9f3a"
             ],
             [
              0.8888888888888888,
              "#fdca26"
             ],
             [
              1,
              "#f0f921"
             ]
            ],
            "type": "heatmap"
           }
          ],
          "histogram": [
           {
            "marker": {
             "pattern": {
              "fillmode": "overlay",
              "size": 10,
              "solidity": 0.2
             }
            },
            "type": "histogram"
           }
          ],
          "histogram2d": [
           {
            "colorbar": {
             "outlinewidth": 0,
             "ticks": ""
            },
            "colorscale": [
             [
              0,
              "#0d0887"
             ],
             [
              0.1111111111111111,
              "#46039f"
             ],
             [
              0.2222222222222222,
              "#7201a8"
             ],
             [
              0.3333333333333333,
              "#9c179e"
             ],
             [
              0.4444444444444444,
              "#bd3786"
             ],
             [
              0.5555555555555556,
              "#d8576b"
             ],
             [
              0.6666666666666666,
              "#ed7953"
             ],
             [
              0.7777777777777778,
              "#fb9f3a"
             ],
             [
              0.8888888888888888,
              "#fdca26"
             ],
             [
              1,
              "#f0f921"
             ]
            ],
            "type": "histogram2d"
           }
          ],
          "histogram2dcontour": [
           {
            "colorbar": {
             "outlinewidth": 0,
             "ticks": ""
            },
            "colorscale": [
             [
              0,
              "#0d0887"
             ],
             [
              0.1111111111111111,
              "#46039f"
             ],
             [
              0.2222222222222222,
              "#7201a8"
             ],
             [
              0.3333333333333333,
              "#9c179e"
             ],
             [
              0.4444444444444444,
              "#bd3786"
             ],
             [
              0.5555555555555556,
              "#d8576b"
             ],
             [
              0.6666666666666666,
              "#ed7953"
             ],
             [
              0.7777777777777778,
              "#fb9f3a"
             ],
             [
              0.8888888888888888,
              "#fdca26"
             ],
             [
              1,
              "#f0f921"
             ]
            ],
            "type": "histogram2dcontour"
           }
          ],
          "mesh3d": [
           {
            "colorbar": {
             "outlinewidth": 0,
             "ticks": ""
            },
            "type": "mesh3d"
           }
          ],
          "parcoords": [
           {
            "line": {
             "colorbar": {
              "outlinewidth": 0,
              "ticks": ""
             }
            },
            "type": "parcoords"
           }
          ],
          "pie": [
           {
            "automargin": true,
            "type": "pie"
           }
          ],
          "scatter": [
           {
            "fillpattern": {
             "fillmode": "overlay",
             "size": 10,
             "solidity": 0.2
            },
            "type": "scatter"
           }
          ],
          "scatter3d": [
           {
            "line": {
             "colorbar": {
              "outlinewidth": 0,
              "ticks": ""
             }
            },
            "marker": {
             "colorbar": {
              "outlinewidth": 0,
              "ticks": ""
             }
            },
            "type": "scatter3d"
           }
          ],
          "scattercarpet": [
           {
            "marker": {
             "colorbar": {
              "outlinewidth": 0,
              "ticks": ""
             }
            },
            "type": "scattercarpet"
           }
          ],
          "scattergeo": [
           {
            "marker": {
             "colorbar": {
              "outlinewidth": 0,
              "ticks": ""
             }
            },
            "type": "scattergeo"
           }
          ],
          "scattergl": [
           {
            "marker": {
             "colorbar": {
              "outlinewidth": 0,
              "ticks": ""
             }
            },
            "type": "scattergl"
           }
          ],
          "scattermap": [
           {
            "marker": {
             "colorbar": {
              "outlinewidth": 0,
              "ticks": ""
             }
            },
            "type": "scattermap"
           }
          ],
          "scattermapbox": [
           {
            "marker": {
             "colorbar": {
              "outlinewidth": 0,
              "ticks": ""
             }
            },
            "type": "scattermapbox"
           }
          ],
          "scatterpolar": [
           {
            "marker": {
             "colorbar": {
              "outlinewidth": 0,
              "ticks": ""
             }
            },
            "type": "scatterpolar"
           }
          ],
          "scatterpolargl": [
           {
            "marker": {
             "colorbar": {
              "outlinewidth": 0,
              "ticks": ""
             }
            },
            "type": "scatterpolargl"
           }
          ],
          "scatterternary": [
           {
            "marker": {
             "colorbar": {
              "outlinewidth": 0,
              "ticks": ""
             }
            },
            "type": "scatterternary"
           }
          ],
          "surface": [
           {
            "colorbar": {
             "outlinewidth": 0,
             "ticks": ""
            },
            "colorscale": [
             [
              0,
              "#0d0887"
             ],
             [
              0.1111111111111111,
              "#46039f"
             ],
             [
              0.2222222222222222,
              "#7201a8"
             ],
             [
              0.3333333333333333,
              "#9c179e"
             ],
             [
              0.4444444444444444,
              "#bd3786"
             ],
             [
              0.5555555555555556,
              "#d8576b"
             ],
             [
              0.6666666666666666,
              "#ed7953"
             ],
             [
              0.7777777777777778,
              "#fb9f3a"
             ],
             [
              0.8888888888888888,
              "#fdca26"
             ],
             [
              1,
              "#f0f921"
             ]
            ],
            "type": "surface"
           }
          ],
          "table": [
           {
            "cells": {
             "fill": {
              "color": "#EBF0F8"
             },
             "line": {
              "color": "white"
             }
            },
            "header": {
             "fill": {
              "color": "#C8D4E3"
             },
             "line": {
              "color": "white"
             }
            },
            "type": "table"
           }
          ]
         },
         "layout": {
          "annotationdefaults": {
           "arrowcolor": "#2a3f5f",
           "arrowhead": 0,
           "arrowwidth": 1
          },
          "autotypenumbers": "strict",
          "coloraxis": {
           "colorbar": {
            "outlinewidth": 0,
            "ticks": ""
           }
          },
          "colorscale": {
           "diverging": [
            [
             0,
             "#8e0152"
            ],
            [
             0.1,
             "#c51b7d"
            ],
            [
             0.2,
             "#de77ae"
            ],
            [
             0.3,
             "#f1b6da"
            ],
            [
             0.4,
             "#fde0ef"
            ],
            [
             0.5,
             "#f7f7f7"
            ],
            [
             0.6,
             "#e6f5d0"
            ],
            [
             0.7,
             "#b8e186"
            ],
            [
             0.8,
             "#7fbc41"
            ],
            [
             0.9,
             "#4d9221"
            ],
            [
             1,
             "#276419"
            ]
           ],
           "sequential": [
            [
             0,
             "#0d0887"
            ],
            [
             0.1111111111111111,
             "#46039f"
            ],
            [
             0.2222222222222222,
             "#7201a8"
            ],
            [
             0.3333333333333333,
             "#9c179e"
            ],
            [
             0.4444444444444444,
             "#bd3786"
            ],
            [
             0.5555555555555556,
             "#d8576b"
            ],
            [
             0.6666666666666666,
             "#ed7953"
            ],
            [
             0.7777777777777778,
             "#fb9f3a"
            ],
            [
             0.8888888888888888,
             "#fdca26"
            ],
            [
             1,
             "#f0f921"
            ]
           ],
           "sequentialminus": [
            [
             0,
             "#0d0887"
            ],
            [
             0.1111111111111111,
             "#46039f"
            ],
            [
             0.2222222222222222,
             "#7201a8"
            ],
            [
             0.3333333333333333,
             "#9c179e"
            ],
            [
             0.4444444444444444,
             "#bd3786"
            ],
            [
             0.5555555555555556,
             "#d8576b"
            ],
            [
             0.6666666666666666,
             "#ed7953"
            ],
            [
             0.7777777777777778,
             "#fb9f3a"
            ],
            [
             0.8888888888888888,
             "#fdca26"
            ],
            [
             1,
             "#f0f921"
            ]
           ]
          },
          "colorway": [
           "#636efa",
           "#EF553B",
           "#00cc96",
           "#ab63fa",
           "#FFA15A",
           "#19d3f3",
           "#FF6692",
           "#B6E880",
           "#FF97FF",
           "#FECB52"
          ],
          "font": {
           "color": "#2a3f5f"
          },
          "geo": {
           "bgcolor": "white",
           "lakecolor": "white",
           "landcolor": "#E5ECF6",
           "showlakes": true,
           "showland": true,
           "subunitcolor": "white"
          },
          "hoverlabel": {
           "align": "left"
          },
          "hovermode": "closest",
          "mapbox": {
           "style": "light"
          },
          "paper_bgcolor": "white",
          "plot_bgcolor": "#E5ECF6",
          "polar": {
           "angularaxis": {
            "gridcolor": "white",
            "linecolor": "white",
            "ticks": ""
           },
           "bgcolor": "#E5ECF6",
           "radialaxis": {
            "gridcolor": "white",
            "linecolor": "white",
            "ticks": ""
           }
          },
          "scene": {
           "xaxis": {
            "backgroundcolor": "#E5ECF6",
            "gridcolor": "white",
            "gridwidth": 2,
            "linecolor": "white",
            "showbackground": true,
            "ticks": "",
            "zerolinecolor": "white"
           },
           "yaxis": {
            "backgroundcolor": "#E5ECF6",
            "gridcolor": "white",
            "gridwidth": 2,
            "linecolor": "white",
            "showbackground": true,
            "ticks": "",
            "zerolinecolor": "white"
           },
           "zaxis": {
            "backgroundcolor": "#E5ECF6",
            "gridcolor": "white",
            "gridwidth": 2,
            "linecolor": "white",
            "showbackground": true,
            "ticks": "",
            "zerolinecolor": "white"
           }
          },
          "shapedefaults": {
           "line": {
            "color": "#2a3f5f"
           }
          },
          "ternary": {
           "aaxis": {
            "gridcolor": "white",
            "linecolor": "white",
            "ticks": ""
           },
           "baxis": {
            "gridcolor": "white",
            "linecolor": "white",
            "ticks": ""
           },
           "bgcolor": "#E5ECF6",
           "caxis": {
            "gridcolor": "white",
            "linecolor": "white",
            "ticks": ""
           }
          },
          "title": {
           "x": 0.05
          },
          "xaxis": {
           "automargin": true,
           "gridcolor": "white",
           "linecolor": "white",
           "ticks": "",
           "title": {
            "standoff": 15
           },
           "zerolinecolor": "white",
           "zerolinewidth": 2
          },
          "yaxis": {
           "automargin": true,
           "gridcolor": "white",
           "linecolor": "white",
           "ticks": "",
           "title": {
            "standoff": 15
           },
           "zerolinecolor": "white",
           "zerolinewidth": 2
          }
         }
        },
        "title": {
         "text": "Modelo 5: Regresión Lineal (positive=True)\nAltura vs Pie"
        },
        "width": 700,
        "xaxis": {
         "title": {
          "text": "Tamaño del Pie (cm)"
         }
        },
        "yaxis": {
         "title": {
          "text": "Altura (cm)"
         }
        }
       }
      }
     },
     "metadata": {},
     "output_type": "display_data"
    }
   ],
   "source": [
    "# Datos de entrada para la gráfica\n",
    "x_range = np.linspace(X['Pie'].min(), X['Pie'].max(), 100).reshape(-1, 1)\n",
    "y_line = Linear_model_coeffs.predict(x_range)\n",
    "\n",
    "# Crear la figura\n",
    "fig_model5 = go.Figure()\n",
    "\n",
    "# Scatter de datos reales\n",
    "fig_model5.add_trace(go.Scatter(\n",
    "    x=X['Pie'], \n",
    "    y=y,\n",
    "    mode='markers',\n",
    "    name='Datos reales',\n",
    "    marker=dict(color='blue')\n",
    "))\n",
    "\n",
    "# Línea del modelo\n",
    "fig_model5.add_trace(go.Scatter(\n",
    "    x=x_range.flatten(),\n",
    "    y=y_line,\n",
    "    mode='lines',\n",
    "    name='Línea del modelo',\n",
    "    line=dict(color='red')\n",
    "))\n",
    "\n",
    "# Layout\n",
    "fig_model5.update_layout(\n",
    "    title='Modelo 5: Regresión Lineal (positive=True)\\nAltura vs Pie',\n",
    "    xaxis_title='Tamaño del Pie (cm)',\n",
    "    yaxis_title='Altura (cm)',\n",
    "    width=700,\n",
    "    height=500\n",
    ")\n",
    "\n",
    "fig_model5.show()\n"
   ]
  },
  {
   "cell_type": "code",
   "execution_count": 56,
   "metadata": {},
   "outputs": [],
   "source": [
    "coef_range = np.linspace(original_coef[0] - 0.2, original_coef[0] + 0.2, 100)\n",
    "intercept_range = np.linspace(original_intercept - 5, original_intercept + 5, 100)"
   ]
  },
  {
   "cell_type": "code",
   "execution_count": 57,
   "metadata": {},
   "outputs": [
    {
     "name": "stdout",
     "output_type": "stream",
     "text": [
      "Mejor combinación encontrada:\n",
      "Coeficiente: 4.4667\n",
      "Intercepto: 55.7821\n",
      "R2: 0.9074, RMSE: 2.8222\n"
     ]
    }
   ],
   "source": [
    "best_r2 = -np.inf\n",
    "best_rmse = np.inf\n",
    "best_coef = None\n",
    "best_intercept = None\n",
    "\n",
    "for coef in coef_range:\n",
    "    for intercept in intercept_range:\n",
    "        y_pred_custom = X_test_5['Pie'] * coef + intercept\n",
    "        r2 = r2_score(y_test_5, y_pred_custom)\n",
    "        rmse = np.sqrt(mean_squared_error(y_test_5, y_pred_custom))\n",
    "\n",
    "        if r2 > best_r2:  # puedes usar otra lógica si priorizas bajo RMSE\n",
    "            best_r2 = r2\n",
    "            best_rmse = rmse\n",
    "            best_coef = coef\n",
    "            best_intercept = intercept\n",
    "\n",
    "print(f\"Mejor combinación encontrada:\")\n",
    "print(f\"Coeficiente: {best_coef:.4f}\")\n",
    "print(f\"Intercepto: {best_intercept:.4f}\")\n",
    "print(f\"R2: {best_r2:.4f}, RMSE: {best_rmse:.4f}\")"
   ]
  },
  {
   "cell_type": "code",
   "execution_count": 58,
   "metadata": {},
   "outputs": [
    {
     "data": {
      "application/vnd.plotly.v1+json": {
       "config": {
        "plotlyServerURL": "https://plot.ly"
       },
       "data": [
        {
         "marker": {
          "color": "blue"
         },
         "mode": "markers",
         "name": "Datos reales",
         "type": "scatter",
         "x": {
          "bdata": "AAAAAAAAPEAAAAAAAIA6QAAAAAAAADhAAAAAAACAOEAAAAAAAAA7QAAAAAAAADdAAAAAAAAAPUAAAAAAAAA4QAAAAAAAgDtAAAAAAAAAN0AAAAAAAAA2QAAAAAAAADpAAAAAAAAAPEAAAAAAAIA7QAAAAAAAADhAAAAAAACAOEAAAAAAAAA4QAAAAAAAgDZA",
          "dtype": "f8"
         },
         "y": {
          "bdata": "uQCtAKMAogCsAJ8AuwClAK8AogCbAKgAswCsAJ8ApgCcAJYA",
          "dtype": "i2"
         }
        },
        {
         "line": {
          "color": "green"
         },
         "mode": "lines",
         "name": "Mejor línea ajustada",
         "type": "scatter",
         "x": {
          "bdata": "AAAAAAAANkBnSMzbGRI2QM+QmLczJDZANtlkk002NkCeITFvZ0g2QAVq/UqBWjZAbbLJJptsNkDU+pUCtX42QDtDYt7OkDZAo4suuuiiNkAK1PqVArU2QHIcx3EcxzZA2WSTTTbZNkBBrV8pUOs2QKj1KwVq/TZAED744IMPN0B3hsS8nSE3QN7OkJi3MzdARhdddNFFN0CtXylQ61c3QBWo9SsFajdAfPDBBx98N0DkOI7jOI43QEuBWr9SoDdAsskmm2yyN0AaEvN2hsQ3QIFav1Kg1jdA6aKLLrroN0BQ61cK1Po3QLgzJObtDDhAH3zwwQcfOECGxLydITE4QO4MiXk7QzhAVVVVVVVVOEC9nSExb2c4QCTm7QyJeThAjC666KKLOEDzdobEvJ04QFq/UqDWrzhAwgcffPDBOEApUOtXCtQ4QJGYtzMk5jhA+OCDDz74OEBgKVDrVwo5QMdxHMdxHDlALrrooosuOUCWArV+pUA5QP1KgVq/UjlAZZNNNtlkOUDM2xkS83Y5QDQk5u0MiTlAm2yyySabOUACtX6lQK05QGr9SoFavzlA0UUXXXTROUA5juM4juM5QKDWrxSo9TlACB988MEHOkBvZ0jM2xk6QNavFKj1KzpAPvjggw8+OkCmQK1fKVA6QA2JeTtDYjpAdNFFF110OkDcGRLzdoY6QENi3s6QmDpAqqqqqqqqOkAS83aGxLw6QHo7Q2LezjpA4YMPPvjgOkBIzNsZEvM6QLAUqPUrBTtAF1100UUXO0B/pUCtXyk7QObtDIl5OztATjbZZJNNO0C1fqVArV87QBzHcRzHcTtAhA8++OCDO0DrVwrU+pU7QFOg1q8UqDtAuuiiiy66O0AiMW9nSMw7QIl5O0Ni3jtA8MEHH3zwO0BYCtT6lQI8QL9SoNavFDxAJ5tssskmPECO4ziO4zg8QPYrBWr9SjxAXXTRRRddPEDEvJ0hMW88QCwFav1KgTxAk0022WSTPED7lQK1fqU8QGLezpCYtzxAyiabbLLJPEAxb2dIzNs8QJi3MyTm7TxAAAAAAAAAPUA=",
          "dtype": "f8"
         },
         "y": {
          "bdata": "pOxVjY9BY0AAhDDKqktjQFwbCwfGVWNAuLLlQ+FfY0AUSsCA/GljQHDhmr0XdGNAzHh1+jJ+Y0AoEFA3TohjQIOnKnRpkmNA3z4FsYScY0A71t/tn6ZjQJdtuiq7sGNA8gSVZ9a6Y0BPnG+k8cRjQKozSuEMz2NABsskHijZY0BiYv9aQ+NjQL752Zde7WNAGpG01Hn3Y0B2KI8RlQFkQNK/aU6wC2RALldEi8sVZECK7h7I5h9kQOaF+QQCKmRAQR3UQR00ZECetK5+OD5kQPlLibtTSGRAVeNj+G5SZECxej41ilxkQA0SGXKlZmRAaKnzrsBwZEDEQM7r23pkQCDYqCj3hGRAfG+DZRKPZEDYBl6iLZlkQDSeON9Io2RAkDUTHGStZEDszO1Yf7dkQEhkyJWawWRApPui0rXLZEAAk30P0dVkQFwqWEzs32RAt8EyiQfqZEAUWQ3GIvRkQG/w5wI+/mRAyofCP1kIZUAnH518dBJlQIK2d7mPHGVA3k1S9qomZUA65SwzxjBlQJZ8B3DhOmVA8hPirPxEZUBOq7zpF09lQKpClyYzWWVABtpxY05jZUBicUygaW1lQL4IJ92Ed2VAGqABGqCBZUB2N9xWu4tlQNHOtpPWlWVALWaR0PGfZUCK/WsNDaplQOWURkootGVAQCwhh0O+ZUCdw/vDXshlQPha1gB60mVAVPKwPZXcZUCwiYt6sOZlQAwhZrfL8GVAaLhA9Ob6ZUDETxsxAgVmQCDn9W0dD2ZAfH7QqjgZZkDYFavnUyNmQDSthSRvLWZAkERgYYo3ZkDs2zqepUFmQEdzFdvAS2ZAowrwF9xVZkD/ocpU919mQFs5pZESamZAttB/zi10ZkATaFoLSX5mQG7/NEhkiGZAypYPhX+SZkAmLurBmpxmQILFxP61pmZA3lyfO9GwZkA69Hl47LpmQJaLVLUHxWZA8iIv8iLPZkBOugkvPtlmQKpR5GtZ42ZABem+qHTtZkBigJnlj/dmQL4XdCKrAWdAGq9OX8YLZ0B0Rimc4RVnQNDdA9n8H2dALHXeFRgqZ0A=",
          "dtype": "f8"
         }
        }
       ],
       "layout": {
        "height": 500,
        "template": {
         "data": {
          "bar": [
           {
            "error_x": {
             "color": "#2a3f5f"
            },
            "error_y": {
             "color": "#2a3f5f"
            },
            "marker": {
             "line": {
              "color": "#E5ECF6",
              "width": 0.5
             },
             "pattern": {
              "fillmode": "overlay",
              "size": 10,
              "solidity": 0.2
             }
            },
            "type": "bar"
           }
          ],
          "barpolar": [
           {
            "marker": {
             "line": {
              "color": "#E5ECF6",
              "width": 0.5
             },
             "pattern": {
              "fillmode": "overlay",
              "size": 10,
              "solidity": 0.2
             }
            },
            "type": "barpolar"
           }
          ],
          "carpet": [
           {
            "aaxis": {
             "endlinecolor": "#2a3f5f",
             "gridcolor": "white",
             "linecolor": "white",
             "minorgridcolor": "white",
             "startlinecolor": "#2a3f5f"
            },
            "baxis": {
             "endlinecolor": "#2a3f5f",
             "gridcolor": "white",
             "linecolor": "white",
             "minorgridcolor": "white",
             "startlinecolor": "#2a3f5f"
            },
            "type": "carpet"
           }
          ],
          "choropleth": [
           {
            "colorbar": {
             "outlinewidth": 0,
             "ticks": ""
            },
            "type": "choropleth"
           }
          ],
          "contour": [
           {
            "colorbar": {
             "outlinewidth": 0,
             "ticks": ""
            },
            "colorscale": [
             [
              0,
              "#0d0887"
             ],
             [
              0.1111111111111111,
              "#46039f"
             ],
             [
              0.2222222222222222,
              "#7201a8"
             ],
             [
              0.3333333333333333,
              "#9c179e"
             ],
             [
              0.4444444444444444,
              "#bd3786"
             ],
             [
              0.5555555555555556,
              "#d8576b"
             ],
             [
              0.6666666666666666,
              "#ed7953"
             ],
             [
              0.7777777777777778,
              "#fb9f3a"
             ],
             [
              0.8888888888888888,
              "#fdca26"
             ],
             [
              1,
              "#f0f921"
             ]
            ],
            "type": "contour"
           }
          ],
          "contourcarpet": [
           {
            "colorbar": {
             "outlinewidth": 0,
             "ticks": ""
            },
            "type": "contourcarpet"
           }
          ],
          "heatmap": [
           {
            "colorbar": {
             "outlinewidth": 0,
             "ticks": ""
            },
            "colorscale": [
             [
              0,
              "#0d0887"
             ],
             [
              0.1111111111111111,
              "#46039f"
             ],
             [
              0.2222222222222222,
              "#7201a8"
             ],
             [
              0.3333333333333333,
              "#9c179e"
             ],
             [
              0.4444444444444444,
              "#bd3786"
             ],
             [
              0.5555555555555556,
              "#d8576b"
             ],
             [
              0.6666666666666666,
              "#ed7953"
             ],
             [
              0.7777777777777778,
              "#fb9f3a"
             ],
             [
              0.8888888888888888,
              "#fdca26"
             ],
             [
              1,
              "#f0f921"
             ]
            ],
            "type": "heatmap"
           }
          ],
          "histogram": [
           {
            "marker": {
             "pattern": {
              "fillmode": "overlay",
              "size": 10,
              "solidity": 0.2
             }
            },
            "type": "histogram"
           }
          ],
          "histogram2d": [
           {
            "colorbar": {
             "outlinewidth": 0,
             "ticks": ""
            },
            "colorscale": [
             [
              0,
              "#0d0887"
             ],
             [
              0.1111111111111111,
              "#46039f"
             ],
             [
              0.2222222222222222,
              "#7201a8"
             ],
             [
              0.3333333333333333,
              "#9c179e"
             ],
             [
              0.4444444444444444,
              "#bd3786"
             ],
             [
              0.5555555555555556,
              "#d8576b"
             ],
             [
              0.6666666666666666,
              "#ed7953"
             ],
             [
              0.7777777777777778,
              "#fb9f3a"
             ],
             [
              0.8888888888888888,
              "#fdca26"
             ],
             [
              1,
              "#f0f921"
             ]
            ],
            "type": "histogram2d"
           }
          ],
          "histogram2dcontour": [
           {
            "colorbar": {
             "outlinewidth": 0,
             "ticks": ""
            },
            "colorscale": [
             [
              0,
              "#0d0887"
             ],
             [
              0.1111111111111111,
              "#46039f"
             ],
             [
              0.2222222222222222,
              "#7201a8"
             ],
             [
              0.3333333333333333,
              "#9c179e"
             ],
             [
              0.4444444444444444,
              "#bd3786"
             ],
             [
              0.5555555555555556,
              "#d8576b"
             ],
             [
              0.6666666666666666,
              "#ed7953"
             ],
             [
              0.7777777777777778,
              "#fb9f3a"
             ],
             [
              0.8888888888888888,
              "#fdca26"
             ],
             [
              1,
              "#f0f921"
             ]
            ],
            "type": "histogram2dcontour"
           }
          ],
          "mesh3d": [
           {
            "colorbar": {
             "outlinewidth": 0,
             "ticks": ""
            },
            "type": "mesh3d"
           }
          ],
          "parcoords": [
           {
            "line": {
             "colorbar": {
              "outlinewidth": 0,
              "ticks": ""
             }
            },
            "type": "parcoords"
           }
          ],
          "pie": [
           {
            "automargin": true,
            "type": "pie"
           }
          ],
          "scatter": [
           {
            "fillpattern": {
             "fillmode": "overlay",
             "size": 10,
             "solidity": 0.2
            },
            "type": "scatter"
           }
          ],
          "scatter3d": [
           {
            "line": {
             "colorbar": {
              "outlinewidth": 0,
              "ticks": ""
             }
            },
            "marker": {
             "colorbar": {
              "outlinewidth": 0,
              "ticks": ""
             }
            },
            "type": "scatter3d"
           }
          ],
          "scattercarpet": [
           {
            "marker": {
             "colorbar": {
              "outlinewidth": 0,
              "ticks": ""
             }
            },
            "type": "scattercarpet"
           }
          ],
          "scattergeo": [
           {
            "marker": {
             "colorbar": {
              "outlinewidth": 0,
              "ticks": ""
             }
            },
            "type": "scattergeo"
           }
          ],
          "scattergl": [
           {
            "marker": {
             "colorbar": {
              "outlinewidth": 0,
              "ticks": ""
             }
            },
            "type": "scattergl"
           }
          ],
          "scattermap": [
           {
            "marker": {
             "colorbar": {
              "outlinewidth": 0,
              "ticks": ""
             }
            },
            "type": "scattermap"
           }
          ],
          "scattermapbox": [
           {
            "marker": {
             "colorbar": {
              "outlinewidth": 0,
              "ticks": ""
             }
            },
            "type": "scattermapbox"
           }
          ],
          "scatterpolar": [
           {
            "marker": {
             "colorbar": {
              "outlinewidth": 0,
              "ticks": ""
             }
            },
            "type": "scatterpolar"
           }
          ],
          "scatterpolargl": [
           {
            "marker": {
             "colorbar": {
              "outlinewidth": 0,
              "ticks": ""
             }
            },
            "type": "scatterpolargl"
           }
          ],
          "scatterternary": [
           {
            "marker": {
             "colorbar": {
              "outlinewidth": 0,
              "ticks": ""
             }
            },
            "type": "scatterternary"
           }
          ],
          "surface": [
           {
            "colorbar": {
             "outlinewidth": 0,
             "ticks": ""
            },
            "colorscale": [
             [
              0,
              "#0d0887"
             ],
             [
              0.1111111111111111,
              "#46039f"
             ],
             [
              0.2222222222222222,
              "#7201a8"
             ],
             [
              0.3333333333333333,
              "#9c179e"
             ],
             [
              0.4444444444444444,
              "#bd3786"
             ],
             [
              0.5555555555555556,
              "#d8576b"
             ],
             [
              0.6666666666666666,
              "#ed7953"
             ],
             [
              0.7777777777777778,
              "#fb9f3a"
             ],
             [
              0.8888888888888888,
              "#fdca26"
             ],
             [
              1,
              "#f0f921"
             ]
            ],
            "type": "surface"
           }
          ],
          "table": [
           {
            "cells": {
             "fill": {
              "color": "#EBF0F8"
             },
             "line": {
              "color": "white"
             }
            },
            "header": {
             "fill": {
              "color": "#C8D4E3"
             },
             "line": {
              "color": "white"
             }
            },
            "type": "table"
           }
          ]
         },
         "layout": {
          "annotationdefaults": {
           "arrowcolor": "#2a3f5f",
           "arrowhead": 0,
           "arrowwidth": 1
          },
          "autotypenumbers": "strict",
          "coloraxis": {
           "colorbar": {
            "outlinewidth": 0,
            "ticks": ""
           }
          },
          "colorscale": {
           "diverging": [
            [
             0,
             "#8e0152"
            ],
            [
             0.1,
             "#c51b7d"
            ],
            [
             0.2,
             "#de77ae"
            ],
            [
             0.3,
             "#f1b6da"
            ],
            [
             0.4,
             "#fde0ef"
            ],
            [
             0.5,
             "#f7f7f7"
            ],
            [
             0.6,
             "#e6f5d0"
            ],
            [
             0.7,
             "#b8e186"
            ],
            [
             0.8,
             "#7fbc41"
            ],
            [
             0.9,
             "#4d9221"
            ],
            [
             1,
             "#276419"
            ]
           ],
           "sequential": [
            [
             0,
             "#0d0887"
            ],
            [
             0.1111111111111111,
             "#46039f"
            ],
            [
             0.2222222222222222,
             "#7201a8"
            ],
            [
             0.3333333333333333,
             "#9c179e"
            ],
            [
             0.4444444444444444,
             "#bd3786"
            ],
            [
             0.5555555555555556,
             "#d8576b"
            ],
            [
             0.6666666666666666,
             "#ed7953"
            ],
            [
             0.7777777777777778,
             "#fb9f3a"
            ],
            [
             0.8888888888888888,
             "#fdca26"
            ],
            [
             1,
             "#f0f921"
            ]
           ],
           "sequentialminus": [
            [
             0,
             "#0d0887"
            ],
            [
             0.1111111111111111,
             "#46039f"
            ],
            [
             0.2222222222222222,
             "#7201a8"
            ],
            [
             0.3333333333333333,
             "#9c179e"
            ],
            [
             0.4444444444444444,
             "#bd3786"
            ],
            [
             0.5555555555555556,
             "#d8576b"
            ],
            [
             0.6666666666666666,
             "#ed7953"
            ],
            [
             0.7777777777777778,
             "#fb9f3a"
            ],
            [
             0.8888888888888888,
             "#fdca26"
            ],
            [
             1,
             "#f0f921"
            ]
           ]
          },
          "colorway": [
           "#636efa",
           "#EF553B",
           "#00cc96",
           "#ab63fa",
           "#FFA15A",
           "#19d3f3",
           "#FF6692",
           "#B6E880",
           "#FF97FF",
           "#FECB52"
          ],
          "font": {
           "color": "#2a3f5f"
          },
          "geo": {
           "bgcolor": "white",
           "lakecolor": "white",
           "landcolor": "#E5ECF6",
           "showlakes": true,
           "showland": true,
           "subunitcolor": "white"
          },
          "hoverlabel": {
           "align": "left"
          },
          "hovermode": "closest",
          "mapbox": {
           "style": "light"
          },
          "paper_bgcolor": "white",
          "plot_bgcolor": "#E5ECF6",
          "polar": {
           "angularaxis": {
            "gridcolor": "white",
            "linecolor": "white",
            "ticks": ""
           },
           "bgcolor": "#E5ECF6",
           "radialaxis": {
            "gridcolor": "white",
            "linecolor": "white",
            "ticks": ""
           }
          },
          "scene": {
           "xaxis": {
            "backgroundcolor": "#E5ECF6",
            "gridcolor": "white",
            "gridwidth": 2,
            "linecolor": "white",
            "showbackground": true,
            "ticks": "",
            "zerolinecolor": "white"
           },
           "yaxis": {
            "backgroundcolor": "#E5ECF6",
            "gridcolor": "white",
            "gridwidth": 2,
            "linecolor": "white",
            "showbackground": true,
            "ticks": "",
            "zerolinecolor": "white"
           },
           "zaxis": {
            "backgroundcolor": "#E5ECF6",
            "gridcolor": "white",
            "gridwidth": 2,
            "linecolor": "white",
            "showbackground": true,
            "ticks": "",
            "zerolinecolor": "white"
           }
          },
          "shapedefaults": {
           "line": {
            "color": "#2a3f5f"
           }
          },
          "ternary": {
           "aaxis": {
            "gridcolor": "white",
            "linecolor": "white",
            "ticks": ""
           },
           "baxis": {
            "gridcolor": "white",
            "linecolor": "white",
            "ticks": ""
           },
           "bgcolor": "#E5ECF6",
           "caxis": {
            "gridcolor": "white",
            "linecolor": "white",
            "ticks": ""
           }
          },
          "title": {
           "x": 0.05
          },
          "xaxis": {
           "automargin": true,
           "gridcolor": "white",
           "linecolor": "white",
           "ticks": "",
           "title": {
            "standoff": 15
           },
           "zerolinecolor": "white",
           "zerolinewidth": 2
          },
          "yaxis": {
           "automargin": true,
           "gridcolor": "white",
           "linecolor": "white",
           "ticks": "",
           "title": {
            "standoff": 15
           },
           "zerolinecolor": "white",
           "zerolinewidth": 2
          }
         }
        },
        "title": {
         "text": "Línea ajustada manualmente (GridSearch de coef/intercept)"
        },
        "width": 700,
        "xaxis": {
         "title": {
          "text": "Tamaño del Pie (cm)"
         }
        },
        "yaxis": {
         "title": {
          "text": "Altura (cm)"
         }
        }
       }
      }
     },
     "metadata": {},
     "output_type": "display_data"
    }
   ],
   "source": [
    "# Línea de mejor ajuste\n",
    "y_line_best = x_range.flatten() * best_coef + best_intercept\n",
    "\n",
    "fig_best = go.Figure()\n",
    "\n",
    "# Datos reales\n",
    "fig_best.add_trace(go.Scatter(\n",
    "    x=X['Pie'], y=y,\n",
    "    mode='markers',\n",
    "    name='Datos reales',\n",
    "    marker=dict(color='blue')\n",
    "))\n",
    "\n",
    "# Línea best fit\n",
    "fig_best.add_trace(go.Scatter(\n",
    "    x=x_range.flatten(), y=y_line_best,\n",
    "    mode='lines',\n",
    "    name='Mejor línea ajustada',\n",
    "    line=dict(color='green')\n",
    "))\n",
    "\n",
    "fig_best.update_layout(\n",
    "    title='Línea ajustada manualmente (GridSearch de coef/intercept)',\n",
    "    xaxis_title='Tamaño del Pie (cm)',\n",
    "    yaxis_title='Altura (cm)',\n",
    "    width=700,\n",
    "    height=500\n",
    ")\n",
    "\n",
    "fig_best.show()\n"
   ]
  },
  {
   "cell_type": "code",
   "execution_count": 59,
   "metadata": {},
   "outputs": [
    {
     "name": "stderr",
     "output_type": "stream",
     "text": [
      "c:\\Users\\sofi\\miniconda3\\envs\\EO\\Lib\\site-packages\\tqdm\\auto.py:21: TqdmWarning:\n",
      "\n",
      "IProgress not found. Please update jupyter and ipywidgets. See https://ipywidgets.readthedocs.io/en/stable/user_install.html\n",
      "\n"
     ]
    }
   ],
   "source": [
    "import gradio as gr\n",
    "\n",
    "# Usamos los mejores coeficientes encontrados en el gridsearch manual\n",
    "def predecir_altura_pie(pie_input):\n",
    "    altura = best_coef * pie_input + best_intercept\n",
    "    return f\"Altura estimada: {altura:.2f} cm\"\n",
    "\n",
    "interface_modelo_5 = gr.Interface(\n",
    "    fn=predecir_altura_pie,\n",
    "    inputs=gr.Number(label=\"Tamaño del Pie (cm)\"),\n",
    "    outputs=gr.Textbox(label=\"Predicción de Altura\"),\n",
    "    title=\"Modelo 5 - Altura según Pie\",\n",
    "    description=\"Ingresa el tamaño del pie para predecir la altura usando un modelo lineal optimizado.\"\n",
    ")\n"
   ]
  },
  {
   "cell_type": "markdown",
   "metadata": {},
   "source": [
    "### **Modelo 6: Coef_ Intercep_**"
   ]
  },
  {
   "cell_type": "code",
   "execution_count": 60,
   "metadata": {},
   "outputs": [],
   "source": [
    "X = df_ori[['Pie', 'Ancho']]\n",
    "y = df_ori['Altura']\n",
    "\n",
    "X_train_6, X_test_6, y_train_6, y_test_6 = train_test_split(X, y, test_size=0.2, random_state=42)"
   ]
  },
  {
   "cell_type": "code",
   "execution_count": 61,
   "metadata": {},
   "outputs": [
    {
     "data": {
      "text/html": [
       "<style>#sk-container-id-7 {\n",
       "  /* Definition of color scheme common for light and dark mode */\n",
       "  --sklearn-color-text: #000;\n",
       "  --sklearn-color-text-muted: #666;\n",
       "  --sklearn-color-line: gray;\n",
       "  /* Definition of color scheme for unfitted estimators */\n",
       "  --sklearn-color-unfitted-level-0: #fff5e6;\n",
       "  --sklearn-color-unfitted-level-1: #f6e4d2;\n",
       "  --sklearn-color-unfitted-level-2: #ffe0b3;\n",
       "  --sklearn-color-unfitted-level-3: chocolate;\n",
       "  /* Definition of color scheme for fitted estimators */\n",
       "  --sklearn-color-fitted-level-0: #f0f8ff;\n",
       "  --sklearn-color-fitted-level-1: #d4ebff;\n",
       "  --sklearn-color-fitted-level-2: #b3dbfd;\n",
       "  --sklearn-color-fitted-level-3: cornflowerblue;\n",
       "\n",
       "  /* Specific color for light theme */\n",
       "  --sklearn-color-text-on-default-background: var(--sg-text-color, var(--theme-code-foreground, var(--jp-content-font-color1, black)));\n",
       "  --sklearn-color-background: var(--sg-background-color, var(--theme-background, var(--jp-layout-color0, white)));\n",
       "  --sklearn-color-border-box: var(--sg-text-color, var(--theme-code-foreground, var(--jp-content-font-color1, black)));\n",
       "  --sklearn-color-icon: #696969;\n",
       "\n",
       "  @media (prefers-color-scheme: dark) {\n",
       "    /* Redefinition of color scheme for dark theme */\n",
       "    --sklearn-color-text-on-default-background: var(--sg-text-color, var(--theme-code-foreground, var(--jp-content-font-color1, white)));\n",
       "    --sklearn-color-background: var(--sg-background-color, var(--theme-background, var(--jp-layout-color0, #111)));\n",
       "    --sklearn-color-border-box: var(--sg-text-color, var(--theme-code-foreground, var(--jp-content-font-color1, white)));\n",
       "    --sklearn-color-icon: #878787;\n",
       "  }\n",
       "}\n",
       "\n",
       "#sk-container-id-7 {\n",
       "  color: var(--sklearn-color-text);\n",
       "}\n",
       "\n",
       "#sk-container-id-7 pre {\n",
       "  padding: 0;\n",
       "}\n",
       "\n",
       "#sk-container-id-7 input.sk-hidden--visually {\n",
       "  border: 0;\n",
       "  clip: rect(1px 1px 1px 1px);\n",
       "  clip: rect(1px, 1px, 1px, 1px);\n",
       "  height: 1px;\n",
       "  margin: -1px;\n",
       "  overflow: hidden;\n",
       "  padding: 0;\n",
       "  position: absolute;\n",
       "  width: 1px;\n",
       "}\n",
       "\n",
       "#sk-container-id-7 div.sk-dashed-wrapped {\n",
       "  border: 1px dashed var(--sklearn-color-line);\n",
       "  margin: 0 0.4em 0.5em 0.4em;\n",
       "  box-sizing: border-box;\n",
       "  padding-bottom: 0.4em;\n",
       "  background-color: var(--sklearn-color-background);\n",
       "}\n",
       "\n",
       "#sk-container-id-7 div.sk-container {\n",
       "  /* jupyter's `normalize.less` sets `[hidden] { display: none; }`\n",
       "     but bootstrap.min.css set `[hidden] { display: none !important; }`\n",
       "     so we also need the `!important` here to be able to override the\n",
       "     default hidden behavior on the sphinx rendered scikit-learn.org.\n",
       "     See: https://github.com/scikit-learn/scikit-learn/issues/21755 */\n",
       "  display: inline-block !important;\n",
       "  position: relative;\n",
       "}\n",
       "\n",
       "#sk-container-id-7 div.sk-text-repr-fallback {\n",
       "  display: none;\n",
       "}\n",
       "\n",
       "div.sk-parallel-item,\n",
       "div.sk-serial,\n",
       "div.sk-item {\n",
       "  /* draw centered vertical line to link estimators */\n",
       "  background-image: linear-gradient(var(--sklearn-color-text-on-default-background), var(--sklearn-color-text-on-default-background));\n",
       "  background-size: 2px 100%;\n",
       "  background-repeat: no-repeat;\n",
       "  background-position: center center;\n",
       "}\n",
       "\n",
       "/* Parallel-specific style estimator block */\n",
       "\n",
       "#sk-container-id-7 div.sk-parallel-item::after {\n",
       "  content: \"\";\n",
       "  width: 100%;\n",
       "  border-bottom: 2px solid var(--sklearn-color-text-on-default-background);\n",
       "  flex-grow: 1;\n",
       "}\n",
       "\n",
       "#sk-container-id-7 div.sk-parallel {\n",
       "  display: flex;\n",
       "  align-items: stretch;\n",
       "  justify-content: center;\n",
       "  background-color: var(--sklearn-color-background);\n",
       "  position: relative;\n",
       "}\n",
       "\n",
       "#sk-container-id-7 div.sk-parallel-item {\n",
       "  display: flex;\n",
       "  flex-direction: column;\n",
       "}\n",
       "\n",
       "#sk-container-id-7 div.sk-parallel-item:first-child::after {\n",
       "  align-self: flex-end;\n",
       "  width: 50%;\n",
       "}\n",
       "\n",
       "#sk-container-id-7 div.sk-parallel-item:last-child::after {\n",
       "  align-self: flex-start;\n",
       "  width: 50%;\n",
       "}\n",
       "\n",
       "#sk-container-id-7 div.sk-parallel-item:only-child::after {\n",
       "  width: 0;\n",
       "}\n",
       "\n",
       "/* Serial-specific style estimator block */\n",
       "\n",
       "#sk-container-id-7 div.sk-serial {\n",
       "  display: flex;\n",
       "  flex-direction: column;\n",
       "  align-items: center;\n",
       "  background-color: var(--sklearn-color-background);\n",
       "  padding-right: 1em;\n",
       "  padding-left: 1em;\n",
       "}\n",
       "\n",
       "\n",
       "/* Toggleable style: style used for estimator/Pipeline/ColumnTransformer box that is\n",
       "clickable and can be expanded/collapsed.\n",
       "- Pipeline and ColumnTransformer use this feature and define the default style\n",
       "- Estimators will overwrite some part of the style using the `sk-estimator` class\n",
       "*/\n",
       "\n",
       "/* Pipeline and ColumnTransformer style (default) */\n",
       "\n",
       "#sk-container-id-7 div.sk-toggleable {\n",
       "  /* Default theme specific background. It is overwritten whether we have a\n",
       "  specific estimator or a Pipeline/ColumnTransformer */\n",
       "  background-color: var(--sklearn-color-background);\n",
       "}\n",
       "\n",
       "/* Toggleable label */\n",
       "#sk-container-id-7 label.sk-toggleable__label {\n",
       "  cursor: pointer;\n",
       "  display: flex;\n",
       "  width: 100%;\n",
       "  margin-bottom: 0;\n",
       "  padding: 0.5em;\n",
       "  box-sizing: border-box;\n",
       "  text-align: center;\n",
       "  align-items: start;\n",
       "  justify-content: space-between;\n",
       "  gap: 0.5em;\n",
       "}\n",
       "\n",
       "#sk-container-id-7 label.sk-toggleable__label .caption {\n",
       "  font-size: 0.6rem;\n",
       "  font-weight: lighter;\n",
       "  color: var(--sklearn-color-text-muted);\n",
       "}\n",
       "\n",
       "#sk-container-id-7 label.sk-toggleable__label-arrow:before {\n",
       "  /* Arrow on the left of the label */\n",
       "  content: \"▸\";\n",
       "  float: left;\n",
       "  margin-right: 0.25em;\n",
       "  color: var(--sklearn-color-icon);\n",
       "}\n",
       "\n",
       "#sk-container-id-7 label.sk-toggleable__label-arrow:hover:before {\n",
       "  color: var(--sklearn-color-text);\n",
       "}\n",
       "\n",
       "/* Toggleable content - dropdown */\n",
       "\n",
       "#sk-container-id-7 div.sk-toggleable__content {\n",
       "  max-height: 0;\n",
       "  max-width: 0;\n",
       "  overflow: hidden;\n",
       "  text-align: left;\n",
       "  /* unfitted */\n",
       "  background-color: var(--sklearn-color-unfitted-level-0);\n",
       "}\n",
       "\n",
       "#sk-container-id-7 div.sk-toggleable__content.fitted {\n",
       "  /* fitted */\n",
       "  background-color: var(--sklearn-color-fitted-level-0);\n",
       "}\n",
       "\n",
       "#sk-container-id-7 div.sk-toggleable__content pre {\n",
       "  margin: 0.2em;\n",
       "  border-radius: 0.25em;\n",
       "  color: var(--sklearn-color-text);\n",
       "  /* unfitted */\n",
       "  background-color: var(--sklearn-color-unfitted-level-0);\n",
       "}\n",
       "\n",
       "#sk-container-id-7 div.sk-toggleable__content.fitted pre {\n",
       "  /* unfitted */\n",
       "  background-color: var(--sklearn-color-fitted-level-0);\n",
       "}\n",
       "\n",
       "#sk-container-id-7 input.sk-toggleable__control:checked~div.sk-toggleable__content {\n",
       "  /* Expand drop-down */\n",
       "  max-height: 200px;\n",
       "  max-width: 100%;\n",
       "  overflow: auto;\n",
       "}\n",
       "\n",
       "#sk-container-id-7 input.sk-toggleable__control:checked~label.sk-toggleable__label-arrow:before {\n",
       "  content: \"▾\";\n",
       "}\n",
       "\n",
       "/* Pipeline/ColumnTransformer-specific style */\n",
       "\n",
       "#sk-container-id-7 div.sk-label input.sk-toggleable__control:checked~label.sk-toggleable__label {\n",
       "  color: var(--sklearn-color-text);\n",
       "  background-color: var(--sklearn-color-unfitted-level-2);\n",
       "}\n",
       "\n",
       "#sk-container-id-7 div.sk-label.fitted input.sk-toggleable__control:checked~label.sk-toggleable__label {\n",
       "  background-color: var(--sklearn-color-fitted-level-2);\n",
       "}\n",
       "\n",
       "/* Estimator-specific style */\n",
       "\n",
       "/* Colorize estimator box */\n",
       "#sk-container-id-7 div.sk-estimator input.sk-toggleable__control:checked~label.sk-toggleable__label {\n",
       "  /* unfitted */\n",
       "  background-color: var(--sklearn-color-unfitted-level-2);\n",
       "}\n",
       "\n",
       "#sk-container-id-7 div.sk-estimator.fitted input.sk-toggleable__control:checked~label.sk-toggleable__label {\n",
       "  /* fitted */\n",
       "  background-color: var(--sklearn-color-fitted-level-2);\n",
       "}\n",
       "\n",
       "#sk-container-id-7 div.sk-label label.sk-toggleable__label,\n",
       "#sk-container-id-7 div.sk-label label {\n",
       "  /* The background is the default theme color */\n",
       "  color: var(--sklearn-color-text-on-default-background);\n",
       "}\n",
       "\n",
       "/* On hover, darken the color of the background */\n",
       "#sk-container-id-7 div.sk-label:hover label.sk-toggleable__label {\n",
       "  color: var(--sklearn-color-text);\n",
       "  background-color: var(--sklearn-color-unfitted-level-2);\n",
       "}\n",
       "\n",
       "/* Label box, darken color on hover, fitted */\n",
       "#sk-container-id-7 div.sk-label.fitted:hover label.sk-toggleable__label.fitted {\n",
       "  color: var(--sklearn-color-text);\n",
       "  background-color: var(--sklearn-color-fitted-level-2);\n",
       "}\n",
       "\n",
       "/* Estimator label */\n",
       "\n",
       "#sk-container-id-7 div.sk-label label {\n",
       "  font-family: monospace;\n",
       "  font-weight: bold;\n",
       "  display: inline-block;\n",
       "  line-height: 1.2em;\n",
       "}\n",
       "\n",
       "#sk-container-id-7 div.sk-label-container {\n",
       "  text-align: center;\n",
       "}\n",
       "\n",
       "/* Estimator-specific */\n",
       "#sk-container-id-7 div.sk-estimator {\n",
       "  font-family: monospace;\n",
       "  border: 1px dotted var(--sklearn-color-border-box);\n",
       "  border-radius: 0.25em;\n",
       "  box-sizing: border-box;\n",
       "  margin-bottom: 0.5em;\n",
       "  /* unfitted */\n",
       "  background-color: var(--sklearn-color-unfitted-level-0);\n",
       "}\n",
       "\n",
       "#sk-container-id-7 div.sk-estimator.fitted {\n",
       "  /* fitted */\n",
       "  background-color: var(--sklearn-color-fitted-level-0);\n",
       "}\n",
       "\n",
       "/* on hover */\n",
       "#sk-container-id-7 div.sk-estimator:hover {\n",
       "  /* unfitted */\n",
       "  background-color: var(--sklearn-color-unfitted-level-2);\n",
       "}\n",
       "\n",
       "#sk-container-id-7 div.sk-estimator.fitted:hover {\n",
       "  /* fitted */\n",
       "  background-color: var(--sklearn-color-fitted-level-2);\n",
       "}\n",
       "\n",
       "/* Specification for estimator info (e.g. \"i\" and \"?\") */\n",
       "\n",
       "/* Common style for \"i\" and \"?\" */\n",
       "\n",
       ".sk-estimator-doc-link,\n",
       "a:link.sk-estimator-doc-link,\n",
       "a:visited.sk-estimator-doc-link {\n",
       "  float: right;\n",
       "  font-size: smaller;\n",
       "  line-height: 1em;\n",
       "  font-family: monospace;\n",
       "  background-color: var(--sklearn-color-background);\n",
       "  border-radius: 1em;\n",
       "  height: 1em;\n",
       "  width: 1em;\n",
       "  text-decoration: none !important;\n",
       "  margin-left: 0.5em;\n",
       "  text-align: center;\n",
       "  /* unfitted */\n",
       "  border: var(--sklearn-color-unfitted-level-1) 1pt solid;\n",
       "  color: var(--sklearn-color-unfitted-level-1);\n",
       "}\n",
       "\n",
       ".sk-estimator-doc-link.fitted,\n",
       "a:link.sk-estimator-doc-link.fitted,\n",
       "a:visited.sk-estimator-doc-link.fitted {\n",
       "  /* fitted */\n",
       "  border: var(--sklearn-color-fitted-level-1) 1pt solid;\n",
       "  color: var(--sklearn-color-fitted-level-1);\n",
       "}\n",
       "\n",
       "/* On hover */\n",
       "div.sk-estimator:hover .sk-estimator-doc-link:hover,\n",
       ".sk-estimator-doc-link:hover,\n",
       "div.sk-label-container:hover .sk-estimator-doc-link:hover,\n",
       ".sk-estimator-doc-link:hover {\n",
       "  /* unfitted */\n",
       "  background-color: var(--sklearn-color-unfitted-level-3);\n",
       "  color: var(--sklearn-color-background);\n",
       "  text-decoration: none;\n",
       "}\n",
       "\n",
       "div.sk-estimator.fitted:hover .sk-estimator-doc-link.fitted:hover,\n",
       ".sk-estimator-doc-link.fitted:hover,\n",
       "div.sk-label-container:hover .sk-estimator-doc-link.fitted:hover,\n",
       ".sk-estimator-doc-link.fitted:hover {\n",
       "  /* fitted */\n",
       "  background-color: var(--sklearn-color-fitted-level-3);\n",
       "  color: var(--sklearn-color-background);\n",
       "  text-decoration: none;\n",
       "}\n",
       "\n",
       "/* Span, style for the box shown on hovering the info icon */\n",
       ".sk-estimator-doc-link span {\n",
       "  display: none;\n",
       "  z-index: 9999;\n",
       "  position: relative;\n",
       "  font-weight: normal;\n",
       "  right: .2ex;\n",
       "  padding: .5ex;\n",
       "  margin: .5ex;\n",
       "  width: min-content;\n",
       "  min-width: 20ex;\n",
       "  max-width: 50ex;\n",
       "  color: var(--sklearn-color-text);\n",
       "  box-shadow: 2pt 2pt 4pt #999;\n",
       "  /* unfitted */\n",
       "  background: var(--sklearn-color-unfitted-level-0);\n",
       "  border: .5pt solid var(--sklearn-color-unfitted-level-3);\n",
       "}\n",
       "\n",
       ".sk-estimator-doc-link.fitted span {\n",
       "  /* fitted */\n",
       "  background: var(--sklearn-color-fitted-level-0);\n",
       "  border: var(--sklearn-color-fitted-level-3);\n",
       "}\n",
       "\n",
       ".sk-estimator-doc-link:hover span {\n",
       "  display: block;\n",
       "}\n",
       "\n",
       "/* \"?\"-specific style due to the `<a>` HTML tag */\n",
       "\n",
       "#sk-container-id-7 a.estimator_doc_link {\n",
       "  float: right;\n",
       "  font-size: 1rem;\n",
       "  line-height: 1em;\n",
       "  font-family: monospace;\n",
       "  background-color: var(--sklearn-color-background);\n",
       "  border-radius: 1rem;\n",
       "  height: 1rem;\n",
       "  width: 1rem;\n",
       "  text-decoration: none;\n",
       "  /* unfitted */\n",
       "  color: var(--sklearn-color-unfitted-level-1);\n",
       "  border: var(--sklearn-color-unfitted-level-1) 1pt solid;\n",
       "}\n",
       "\n",
       "#sk-container-id-7 a.estimator_doc_link.fitted {\n",
       "  /* fitted */\n",
       "  border: var(--sklearn-color-fitted-level-1) 1pt solid;\n",
       "  color: var(--sklearn-color-fitted-level-1);\n",
       "}\n",
       "\n",
       "/* On hover */\n",
       "#sk-container-id-7 a.estimator_doc_link:hover {\n",
       "  /* unfitted */\n",
       "  background-color: var(--sklearn-color-unfitted-level-3);\n",
       "  color: var(--sklearn-color-background);\n",
       "  text-decoration: none;\n",
       "}\n",
       "\n",
       "#sk-container-id-7 a.estimator_doc_link.fitted:hover {\n",
       "  /* fitted */\n",
       "  background-color: var(--sklearn-color-fitted-level-3);\n",
       "}\n",
       "</style><div id=\"sk-container-id-7\" class=\"sk-top-container\"><div class=\"sk-text-repr-fallback\"><pre>LinearRegression()</pre><b>In a Jupyter environment, please rerun this cell to show the HTML representation or trust the notebook. <br />On GitHub, the HTML representation is unable to render, please try loading this page with nbviewer.org.</b></div><div class=\"sk-container\" hidden><div class=\"sk-item\"><div class=\"sk-estimator fitted sk-toggleable\"><input class=\"sk-toggleable__control sk-hidden--visually\" id=\"sk-estimator-id-12\" type=\"checkbox\" checked><label for=\"sk-estimator-id-12\" class=\"sk-toggleable__label fitted sk-toggleable__label-arrow\"><div><div>LinearRegression</div></div><div><a class=\"sk-estimator-doc-link fitted\" rel=\"noreferrer\" target=\"_blank\" href=\"https://scikit-learn.org/1.6/modules/generated/sklearn.linear_model.LinearRegression.html\">?<span>Documentation for LinearRegression</span></a><span class=\"sk-estimator-doc-link fitted\">i<span>Fitted</span></span></div></label><div class=\"sk-toggleable__content fitted\"><pre>LinearRegression()</pre></div> </div></div></div></div>"
      ],
      "text/plain": [
       "LinearRegression()"
      ]
     },
     "execution_count": 61,
     "metadata": {},
     "output_type": "execute_result"
    }
   ],
   "source": [
    "Linear_model_2D = LinearRegression()\n",
    "Linear_model_2D.fit(X_train_6, y_train_6)"
   ]
  },
  {
   "cell_type": "code",
   "execution_count": 62,
   "metadata": {},
   "outputs": [],
   "source": [
    "y_pred_2D = Linear_model_2D.predict(X_test_6)"
   ]
  },
  {
   "cell_type": "code",
   "execution_count": 63,
   "metadata": {},
   "outputs": [
    {
     "name": "stdout",
     "output_type": "stream",
     "text": [
      "Modelo 6 - R2: 0.8458, RMSE: 3.6414\n"
     ]
    }
   ],
   "source": [
    "r2_2D = r2_score(y_test_6, y_pred_2D)\n",
    "rmse_2D = np.sqrt(mean_squared_error(y_test_6, y_pred_2D))\n",
    "\n",
    "print(f\"Modelo 6 - R2: {r2_2D:.4f}, RMSE: {rmse_2D:.4f}\")"
   ]
  },
  {
   "cell_type": "code",
   "execution_count": 64,
   "metadata": {},
   "outputs": [
    {
     "name": "stdout",
     "output_type": "stream",
     "text": [
      "Coef Pie: 4.2756, Coef Ancho: -0.0042, Intercepto: 58.7259\n"
     ]
    }
   ],
   "source": [
    "coef_pie = Linear_model_2D.coef_[0]\n",
    "coef_ancho = Linear_model_2D.coef_[1]\n",
    "intercept = Linear_model_2D.intercept_\n",
    "\n",
    "print(f\"Coef Pie: {coef_pie:.4f}, Coef Ancho: {coef_ancho:.4f}, Intercepto: {intercept:.4f}\")"
   ]
  },
  {
   "cell_type": "code",
   "execution_count": 65,
   "metadata": {},
   "outputs": [
    {
     "data": {
      "application/vnd.plotly.v1+json": {
       "config": {
        "plotlyServerURL": "https://plot.ly"
       },
       "data": [
        {
         "marker": {
          "color": "blue",
          "opacity": 0.7,
          "size": 4
         },
         "mode": "markers",
         "name": "Datos reales",
         "type": "scatter3d",
         "x": {
          "bdata": "AAAAAAAAPEAAAAAAAIA6QAAAAAAAADhAAAAAAACAOEAAAAAAAAA7QAAAAAAAADdAAAAAAAAAPUAAAAAAAAA4QAAAAAAAgDtAAAAAAAAAN0AAAAAAAAA2QAAAAAAAADpAAAAAAAAAPEAAAAAAAIA7QAAAAAAAADhAAAAAAACAOEAAAAAAAAA4QAAAAAAAgDZA",
          "dtype": "f8"
         },
         "y": {
          "bdata": "NywsLC4oMCgxLCg9NzImJyYn",
          "dtype": "i1"
         },
         "z": {
          "bdata": "uQCtAKMAogCsAJ8AuwClAK8AogCbAKgAswCsAJ8ApgCcAJYA",
          "dtype": "i2"
         }
        },
        {
         "colorscale": [
          [
           0,
           "#440154"
          ],
          [
           0.1111111111111111,
           "#482878"
          ],
          [
           0.2222222222222222,
           "#3e4989"
          ],
          [
           0.3333333333333333,
           "#31688e"
          ],
          [
           0.4444444444444444,
           "#26828e"
          ],
          [
           0.5555555555555556,
           "#1f9e89"
          ],
          [
           0.6666666666666666,
           "#35b779"
          ],
          [
           0.7777777777777778,
           "#6ece58"
          ],
          [
           0.8888888888888888,
           "#b5de2b"
          ],
          [
           1,
           "#fde725"
          ]
         ],
         "name": "Plano del modelo",
         "opacity": 0.6,
         "showscale": false,
         "type": "surface",
         "x": {
          "bdata": "AAAAAAAANkBJkiRJkiQ2QJIkSZIkSTZA27Zt27ZtNkAlSZIkSZI2QG7btm3btjZAt23btm3bNkAAAAAAAAA3QEmSJEmSJDdAkiRJkiRJN0Dbtm3btm03QCVJkiRJkjdAbtu2bdu2N0C3bdu2bds3QAAAAAAAADhASZIkSZIkOECSJEmSJEk4QNu2bdu2bThAJEmSJEmSOEBu27Zt27Y4QLdt27Zt2zhAAAAAAAAAOUBJkiRJkiQ5QJIkSZIkSTlA27Zt27ZtOUAkSZIkSZI5QG7btm3btjlAt23btm3bOUAAAAAAAAA6QEmSJEmSJDpAkiRJkiRJOkDbtm3btm06QCRJkiRJkjpAbtu2bdu2OkC3bdu2bds6QAAAAAAAADtASZIkSZIkO0CSJEmSJEk7QNu2bdu2bTtAJEmSJEmSO0Bu27Zt27Y7QLdt27Zt2ztAAAAAAAAAPEBJkiRJkiQ8QJIkSZIkSTxA27Zt27ZtPEAkSZIkSZI8QG7btm3btjxAt23btm3bPEAAAAAAAAA9QA==",
          "dtype": "f8"
         },
         "y": {
          "bdata": "AAAAAAAAQ0Avp+DlFDxDQF5OwcspeENAjfWhsT60Q0C8nIKXU/BDQOtDY31oLERAGutDY31oREBJkiRJkqREQHg5BS+n4ERAp+DlFLwcRUDWh8b60FhFQAUvp+DllEVANNaHxvrQRUBjfWisDw1GQJIkSZIkSUZAwcspeDmFRkDwcgpeTsFGQB8a60Nj/UZATsHLKXg5R0B+aKwPjXVHQKwPjfWhsUdA3LZt27btR0AKXk7ByylIQDoFL6fgZUhAaKwPjfWhSECYU/ByCt5IQMb60FgfGklA9qGxPjRWSUAlSZIkSZJJQFTwcgpezklAg5dT8HIKSkCyPjTWh0ZKQOHlFLycgkpAEI31obG+SkA/NNaHxvpKQG7btm3bNktAnYKXU/ByS0DMKXg5Ba9LQPvQWB8a60tAKng5BS8nTEBZHxrrQ2NMQIjG+tBYn0xAt23btm3bTEDmFLycghdNQBW8nIKXU01ARGN9aKyPTUBzCl5OwctNQKKxPjTWB05A0VgfGutDTkAAAAAAAIBOQA==",
          "dtype": "f8"
         },
         "z": {
          "bdata": "kzBpAigUY0BwZ6insydjQEye50w/O2NAKdUm8spOY0AGDGaXVmJjQONCpTzidWNAwHnk4W2JY0CcsCOH+ZxjQHnnYiyFsGNAVh6i0RDEY0AyVeF2nNdjQBCMIBwo62NA7MJfwbP+Y0DI+Z5mPxJkQKYw3gvLJWRAgmcdsVY5ZEBenlxW4kxkQDvVm/ttYGRAGAzboPlzZED1QhpGhYdkQNJ5WesQm2RArrCYkJyuZECL59c1KMJkQGgeF9uz1WRARFVWgD/pZEAhjJUly/xkQP7C1MpWEGVA2/kTcOIjZUC4MFMVbjdlQJRnkrr5SmVAcZ7RX4VeZUBO1RAFEXJlQCoMUKqchWVACEOPTyiZZUDkec70s6xlQMCwDZo/wGVAnudMP8vTZUB6HozkVudlQFZVy4ni+mVANIwKL24OZkAQw0nU+SFmQO35iHmFNWZAyjDIHhFJZkCmZwfEnFxmQIOeRmkocGZAYNWFDrSDZkA8DMWzP5dmQBpDBFnLqmZA9nlD/la+ZkDTsIKj4tFmQD5MafMXFGNAGoOomKMnY0D3uec9LztjQNTwJuO6TmNAsCdmiEZiY0COXqUt0nVjQGqV5NJdiWNARswjeOmcY0AkA2MddbBjQAA6osIAxGNA3HDhZ4zXY0C6pyANGOtjQJbeX7Kj/mNAcxWfVy8SZEBQTN78uiVkQCyDHaJGOWRACbpcR9JMZEDm8JvsXWBkQMIn25Hpc2RAoF4aN3WHZEB8lVncAJtkQFnMmIGMrmRANgPYJhjCZEASOhfMo9VkQO9wVnEv6WRAzKeVFrv8ZECo3tS7RhBlQIYVFGHSI2VAYkxTBl43ZUA+g5Kr6UplQBy60VB1XmVA+PAQ9gByZUDUJ1CbjIVlQLJej0AYmWVAjpXO5aOsZUBrzA2LL8BlQEgDTTC702VAJDqM1UbnZUABcct60vplQN6nCiBeDmZAu95JxekhZkCYFYlqdTVmQHRMyA8BSWZAUYMHtYxcZkAuukZaGHBmQArxhf+jg2ZA5yfFpC+XZkDEXgRKu6pmQKGVQ+9GvmZAfsyClNLRZkDoZ2nkBxRjQMSeqImTJ2NAotXnLh87Y0B+DCfUqk5jQFtDZnk2YmNAOHqlHsJ1Y0AUseTDTYljQPHnI2nZnGNAzh5jDmWwY0CqVaKz8MNjQIeM4Vh812NAZMMg/gfrY0BB+l+jk/5jQB4xn0gfEmRA+mfe7aolZEDXnh2TNjlkQLTVXDjCTGRAkAyc3U1gZEBtQ9uC2XNkQEp6Gihlh2RAJrFZzfCaZEAE6JhyfK5kQOAe2BcIwmRAvFUXvZPVZECajFZiH+lkQHbDlQer/GRAU/rUrDYQZUAwMRRSwiNlQAxoU/dNN2VA6Z6SnNlKZUDG1dFBZV5lQKIMEefwcWVAf0NQjHyFZUBceo8xCJllQDmxztaTrGVAFugNfB/AZUDyHk0hq9NlQM9VjMY252VArIzLa8L6ZUCIwwoRTg5mQGb6SbbZIWZAQjGJW2U1ZkAfaMgA8UhmQPyeB6Z8XGZA2NVGSwhwZkC1DIbwk4NmQJJDxZUfl2ZAbnoEO6uqZkBMsUPgNr5mQCjogoXC0WZAkoNp1fcTY0Bvuqh6gydjQEzx5x8PO2NAKCgnxZpOY0AGX2ZqJmJjQOKVpQ+ydWNAv8zktD2JY0CcAyRayZxjQHg6Y/9UsGNAVXGipODDY0AyqOFJbNdjQA/fIO/36mNA7BVglIP+Y0DITJ85DxJkQKWD3t6aJWRAgrodhCY5ZEBe8VwpskxkQDoonM49YGRAGF/bc8lzZED0lRoZVYdkQNHMWb7gmmRArgOZY2yuZECKOtgI+MFkQGdxF66D1WRARKhWUw/pZEAg35X4mvxkQP4V1Z0mEGVA2kwUQ7IjZUC3g1PoPTdlQJS6ko3JSmVAcPHRMlVeZUBNKBHY4HFlQCpfUH1shWVAB5aPIviYZUDkzM7Hg6xlQMADDm0PwGVAnTpNEpvTZUB6cYy3JudlQFaoy1yy+mVAM98KAj4OZkAQFkqnySFmQOxMiUxVNWZAyoPI8eBIZkCmugeXbFxmQILxRjz4b2ZAYCiG4YODZkA8X8WGD5dmQBmWBCybqmZA9sxD0Sa+ZkDSA4N2stFmQD2facbnE2NAGtaoa3MnY0D2DOgQ/zpjQNNDJ7aKTmNAsHpmWxZiY0CNsaUAonVjQGro5KUtiWNARh8kS7mcY0AjVmPwRLBjQACNopXQw2NA3MPhOlzXY0C6+iDg5+pjQJYxYIVz/mNAcmifKv8RZEBQn97PiiVkQCzWHXUWOWRACA1dGqJMZEDlQ5y/LWBkQMJ622S5c2RAn7EaCkWHZEB86Fmv0JpkQFgfmVRcrmRANVbY+efBZEASjRefc9VkQO7DVkT/6GRAy/qV6Yr8ZECoMdWOFhBlQIVoFDSiI2VAYp9T2S03ZUA+1pJ+uUplQBsN0iNFXmVA+EMRydBxZUDUelBuXIVlQLKxjxPomGVAjujOuHOsZUBqHw5e/79lQEhWTQOL02VAJI2MqBbnZUAAxMtNovplQN76CvMtDmZAujFKmLkhZkCXaIk9RTVmQHSfyOLQSGZAUNYHiFxcZkAtDUct6G9mQApEhtJzg2ZA5nrFd/+WZkDEsQQdi6pmQKDoQ8IWvmZAfR+DZ6LRZkDnumm31xNjQMTxqFxjJ2NAoCjoAe86Y0B9Xyenek5jQFqWZkwGYmNAN82l8ZF1Y0AUBOWWHYljQPA6JDypnGNAzXFj4TSwY0CqqKKGwMNjQIbf4StM12NAZBYh0dfqY0BATWB2Y/5jQByEnxvvEWRA+rrewHolZEDW8R1mBjlkQLIoXQuSTGRAj1+csB1gZEBslttVqXNkQEnNGvs0h2RAJgRaoMCaZEACO5lFTK5kQN9x2OrXwWRAvKgXkGPVZECY31Y17+hkQHUWltp6/GRAUk3VfwYQZUAvhBQlkiNlQAy7U8odN2VA6PGSb6lKZUDFKNIUNV5lQKJfEbrAcWVAfpZQX0yFZUBczY8E2JhlQDgEz6ljrGVAFDsOT++/ZUDycU30etNlQM6ojJkG52VAqt/LPpL6ZUCIFgvkHQ5mQGRNSompIWZAQYSJLjU1ZkAeu8jTwEhmQPrxB3lMXGZA1yhHHthvZkC0X4bDY4NmQJCWxWjvlmZAbs0EDnuqZkBKBESzBr5mQCc7g1iS0WZAktZpqMcTY0BuDalNUydjQEtE6PLeOmNAKHsnmGpOY0AEsmY99mFjQOLopeKBdWNAvh/lhw2JY0CaViQtmZxjQHiNY9IksGNAVMSid7DDY0Aw++EcPNdjQA4yIcLH6mNA6mhgZ1P+Y0DHn58M3xFkQKTW3rFqJWRAgA0eV/Y4ZEBdRF38gUxkQDp7nKENYGRAFrLbRplzZED06BrsJIdkQNAfWpGwmmRArVaZNjyuZECKjdjbx8FkQGbEF4FT1WRAQ/tWJt/oZEAgMpbLavxkQPxo1XD2D2VA2p8UFoIjZUC21lO7DTdlQJINk2CZSmVAcETSBSVeZUBMexGrsHFlQCiyUFA8hWVABumP9ceYZUDiH8+aU6xlQL9WDkDfv2VAnI1N5WrTZUB4xIyK9uZlQFX7yy+C+mVAMjIL1Q0OZkAPaUp6mSFmQOyfiR8lNWZAyNbIxLBIZkClDQhqPFxmQIJERw/Ib2ZAXnuGtFODZkA7ssVZ35ZmQBjpBP9qqmZA9R9EpPa9ZkDSVoNJgtFmQDzyaZm3E2NAGCmpPkMnY0D2X+jjzjpjQNKWJ4laTmNAr81mLuZhY0CMBKbTcXVjQGg75Xj9iGNARXIkHomcY0AiqWPDFLBjQP7fomigw2NA2xbiDSzXY0C4TSGzt+pjQJWEYFhD/mNAcruf/c4RZEBO8t6iWiVkQCspHkjmOGRACGBd7XFMZEDklpyS/V9kQMHN2zeJc2RAngQb3RSHZEB6O1qCoJpkQFhymScsrmRANKnYzLfBZEAQ4BdyQ9VkQO4WVxfP6GRAyk2WvFr8ZECnhNVh5g9lQIS7FAdyI2VAYPJTrP02ZUA9KZNRiUplQBpg0vYUXmVA9pYRnKBxZUDTzVBBLIVlQLAEkOa3mGVAjTvPi0OsZUBqcg4xz79lQEapTdZa02VAI+CMe+bmZUAAF8wgcvplQNxNC8b9DWZAuoRKa4khZkCWu4kQFTVmQHPyyLWgSGZAUCkIWyxcZkAsYEcAuG9mQAmXhqVDg2ZA5s3FSs+WZkDCBAXwWqpmQKA7RJXmvWZAfHKDOnLRZkDmDWqKpxNjQMNEqS8zJ2NAoHvo1L46Y0B8sid6Sk5jQFrpZh/WYWNANiCmxGF1Y0ATV+Vp7YhjQPCNJA95nGNAzMRjtASwY0Cp+6JZkMNjQIYy4v4b12NAY2khpKfqY0BAoGBJM/5jQBzXn+6+EWRA+Q3fk0olZEDWRB451jhkQLJ7Xd5hTGRAjrKcg+1fZEBs6dsoeXNkQEggG84Eh2RAJVdac5CaZEACjpkYHK5kQN7E2L2nwWRAu/sXYzPVZECYMlcIv+hkQHRplq1K/GRAUqDVUtYPZUAu1xT4YSNlQAsOVJ3tNmVA6ESTQnlKZUDEe9LnBF5lQKGyEY2QcWVAfulQMhyFZUBbIJDXp5hlQDhXz3wzrGVAFI4OIr+/ZUDxxE3HStNlQM77jGzW5mVAqjLMEWL6ZUCHaQu37Q1mQGSgSlx5IWZAQNeJAQU1ZkAeDsmmkEhmQPpECEwcXGZA1ntH8advZkC0soaWM4NmQJDpxTu/lmZAbSAF4UqqZkBKV0SG1r1mQCaOgyti0WZAkClqe5cTY0BtYKkgIydjQEqX6MWuOmNAJs4nazpOY0AEBWcQxmFjQOA7prVRdWNAvXLlWt2IY0CaqSQAaZxjQHbgY6X0r2NAUxejSoDDY0AwTuLvC9djQA2FIZWX6mNA6rtgOiP+Y0DG8p/frhFkQKMp34Q6JWRAgGAeKsY4ZEBcl13PUUxkQDjOnHTdX2RAFgXcGWlzZEDyOxu/9IZkQM9yWmSAmmRArKmZCQyuZECI4Niul8FkQGUXGFQj1WRAQk5X+a7oZEAehZaeOvxkQPy71UPGD2VA2PIU6VEjZUC1KVSO3TZlQJJgkzNpSmVAbpfS2PRdZUBLzhF+gHFlQCgFUSMMhWVABTyQyJeYZUDics9tI6xlQL6pDhOvv2VAm+BNuDrTZUB4F41dxuZlQFROzAJS+mVAMYULqN0NZkAOvEpNaSFmQOryifL0NGZAyCnJl4BIZkCkYAg9DFxmQICXR+KXb2ZAXs6GhyODZkA6BcYsr5ZmQBc8BdI6qmZA9HJEd8a9ZkDQqYMcUtFmQDtFamyHE2NAGHypERMnY0D0sui2njpjQNHpJ1wqTmNAriBnAbZhY0CLV6amQXVjQGiO5UvNiGNARMUk8VicY0Ah/GOW5K9jQP4yoztww2NA2mni4PvWY0C4oCGGh+pjQJTXYCsT/mNAcA6g0J4RZEBORd91KiVkQCp8Hhu2OGRABrNdwEFMZEDj6ZxlzV9kQMAg3ApZc2RAnVcbsOSGZEB6jlpVcJpkQFbFmfr7rWRAM/zYn4fBZEAQMxhFE9VkQOxpV+qe6GRAyaCWjyr8ZECm19U0tg9lQIMOFdpBI2VAYEVUf802ZUA8fJMkWUplQBmz0snkXWVA9ukRb3BxZUDSIFEU/IRlQLBXkLmHmGVAjI7PXhOsZUBoxQ4En79lQEb8Takq02VAIjONTrbmZUD+aczzQfplQNygC5nNDWZAuNdKPlkhZkCVDorj5DRmQHJFyYhwSGZATnwILvxbZkArs0fTh29mQAjqhngTg2ZA5CDGHZ+WZkDCVwXDKqpmQJ6ORGi2vWZAe8WDDULRZkDmYGpddxNjQMKXqQIDJ2NAn87op446Y0B8BShNGk5jQFg8Z/KlYWNANnOmlzF1Y0ASquU8vYhjQO7gJOJInGNAzBdkh9SvY0CoTqMsYMNjQISF4tHr1mNAYrwhd3fqY0A+82AcA/5jQBsqoMGOEWRA+GDfZholZEDUlx4MpjhkQLHOXbExTGRAjgWdVr1fZEBqPNz7SHNkQEhzG6HUhmRAJKpaRmCaZEAB4Znr661kQN4X2ZB3wWRAuk4YNgPVZECXhVfbjuhkQHS8loAa/GRAUPPVJaYPZUAuKhXLMSNlQAphVHC9NmVA5peTFUlKZUDEztK61F1lQKAFEmBgcWVAfDxRBeyEZUBac5Cqd5hlQDaqz08DrGVAE+EO9Y6/ZUDwF06aGtNlQMxOjT+m5mVAqYXM5DH6ZUCGvAuKvQ1mQGPzSi9JIWZAQCqK1NQ0ZkAcYcl5YEhmQPmXCB/sW2ZA1s5HxHdvZkCyBYdpA4NmQI88xg6PlmZAbHMFtBqqZkBJqkRZpr1mQCbhg/4x0WZAkHxqTmcTY0Bss6nz8iZjQErq6Jh+OmNAJiEoPgpOY0ADWGfjlWFjQOCOpoghdWNAvMXlLa2IY0CZ/CTTOJxjQHYzZHjEr2NAUmqjHVDDY0AvoeLC29ZjQAzYIWhn6mNA6Q5hDfP9Y0DGRaCyfhFkQKJ831cKJWRAf7Me/ZU4ZEBc6l2iIUxkQDghnUetX2RAFVjc7DhzZEDyjhuSxIZkQM7FWjdQmmRArPyZ3NutZECIM9mBZ8FkQGRqGCfz1GRAQqFXzH7oZEAe2JZxCvxkQPsO1haWD2VA2EUVvCEjZUC0fFRhrTZlQJGzkwY5SmVAburSq8RdZUBKIRJRUHFlQCdYUfbbhGVABI+Qm2eYZUDhxc9A86tlQL78DuZ+v2VAmjNOiwrTZUB3ao0wluZlQFShzNUh+mVAMNgLe60NZkAOD0sgOSFmQOpFisXENGZAx3zJalBIZkCkswgQ3FtmQIDqR7Vnb2ZAXSGHWvOCZkA6WMb/fpZmQBaPBaUKqmZA9MVESpa9ZkDQ/IPvIdFmQDqYaj9XE2NAFs+p5OImY0D0BemJbjpjQNA8KC/6TWNArnNn1IVhY0CKqqZ5EXVjQGbh5R6diGNARBglxCicY0AgT2RptK9jQPyFow5Aw2NA2rzis8vWY0C28yFZV+pjQJQqYf7i/WNAcGGgo24RZEBMmN9I+iRkQCrPHu6FOGRABgZekxFMZEDiPJ04nV9kQMBz3N0oc2RAnKobg7SGZEB44VooQJpkQFYYms3LrWRAMk/ZclfBZEAOhhgY49RkQOy8V71u6GRAyPOWYvr7ZECmKtYHhg9lQIJhFa0RI2VAXphUUp02ZUA8z5P3KEplQBgG05y0XWVA9DwSQkBxZUDSc1Hny4RlQK6qkIxXmGVAjOHPMeOrZUBoGA/Xbr9lQERPTnz60mVAIoaNIYbmZUD+vMzGEfplQNrzC2ydDWZAuCpLESkhZkCUYYq2tDRmQHKYyVtASGZATs8IAcxbZkAqBkimV29mQAg9h0vjgmZA5HPG8G6WZkDAqgWW+qlmQJ7hRDuGvWZAehiE4BHRZkDks2owRxNjQMHqqdXSJmNAniHpel46Y0B6WCgg6k1jQFiPZ8V1YWNANMamagF1Y0AR/eUPjYhjQO4zJbUYnGNAympkWqSvY0CnoaP/L8NjQITY4qS71mNAYQ8iSkfqY0A+RmHv0v1jQBp9oJReEWRA97PfOeokZEDU6h7fdThkQLAhXoQBTGRAjFidKY1fZEBqj9zOGHNkQEbGG3SkhmRAI/1aGTCaZEAANJq+u61kQNxq2WNHwWRAuaEYCdPUZECW2FeuXuhkQHIPl1Pq+2RAUEbW+HUPZUAsfRWeASNlQAm0VEONNmVA5uqT6BhKZUDCIdONpF1lQJ9YEjMwcWVAfI9R2LuEZUBZxpB9R5hlQDb9zyLTq2VAEjQPyF6/ZUDvak5t6tJlQMyhjRJ25mVAqNjMtwH6ZUCFDwxdjQ1mQGJGSwIZIWZAPn2Kp6Q0ZkActMlMMEhmQPjqCPK7W2ZA1CFIl0dvZkCyWIc804JmQI6PxuFelmZAa8YFh+qpZkBI/UQsdr1mQCQ0hNEB0WZAj89qITcTY0BsBqrGwiZjQEg96WtOOmNAJXQoEdpNY0ACq2e2ZWFjQN/hplvxdGNAvBjmAH2IY0CYTyWmCJxjQHWGZEuUr2NAUr2j8B/DY0Au9OKVq9ZjQAwrIjs36mNA6GFh4ML9Y0DEmKCFThFkQKLP3yraJGRAfgYf0GU4ZEBaPV518UtkQDd0nRp9X2RAFKvcvwhzZEDx4RtllIZkQM4YWwogmmRAqk+ar6utZECHhtlUN8FkQGS9GPrC1GRAQPRXn07oZEAdK5dE2vtkQPph1ullD2VA15gVj/EiZUC0z1Q0fTZlQJAGlNkISmVAbT3TfpRdZUBKdBIkIHFlQCarUcmrhGVABOKQbjeYZUDgGNATw6tlQLxPD7lOv2VAmoZOXtrSZUB2vY0DZuZlQFL0zKjx+WVAMCsMTn0NZkAMYkvzCCFmQOmYipiUNGZAxs/JPSBIZkCiBgnjq1tmQH89SIg3b2ZAXHSHLcOCZkA4q8bSTpZmQBbiBXjaqWZA8hhFHWa9ZkDPT4TC8dBmQDrrahInE2NAFiKqt7ImY0DzWOlcPjpjQNCPKALKTWNArMZnp1VhY0CK/aZM4XRjQGY05vFsiGNAQmsll/ibY0AgomQ8hK9jQPzYo+EPw2NA2A/jhpvWY0C2RiIsJ+pjQJJ9YdGy/WNAb7Sgdj4RZEBM698byiRkQCgiH8FVOGRABVleZuFLZEDij50LbV9kQL7G3LD4cmRAnP0bVoSGZEB4NFv7D5pkQFVrmqCbrWRAMqLZRSfBZEAO2RjrstRkQOsPWJA+6GRAyEaXNcr7ZECkfdbaVQ9lQIK0FYDhImVAXutUJW02ZUA6IpTK+EllQBhZ02+EXWVA9I8SFRBxZUDQxlG6m4RlQK79kF8nmGVAijTQBLOrZUBnaw+qPr9lQESiTk/K0mVAINmN9FXmZUD9D82Z4fllQNpGDD9tDWZAt31L5PggZkCUtIqJhDRmQHDryS4QSGZATSIJ1JtbZkAqWUh5J29mQAaQhx6zgmZA48bGwz6WZkDA/QVpyqlmQJ00RQ5WvWZAemuEs+HQZkDkBmsDFxNjQMA9qqiiJmNAnnTpTS46Y0B6qyjzuU1jQFfiZ5hFYWNANBmnPdF0Y0AQUObiXIhjQO2GJYjom2NAyr1kLXSvY0Cm9KPS/8JjQIMr43eL1mNAYGIiHRfqY0A9mWHCov1jQBrQoGcuEWRA9gbgDLokZEDTPR+yRThkQLB0XlfRS2RAjKud/FxfZEBp4tyh6HJkQEYZHEd0hmRAIlBb7P+ZZEAAh5qRi61kQNy92TYXwWRAuPQY3KLUZECWK1iBLuhkQHJilya6+2RAT5nWy0UPZUAs0BVx0SJlQAgHVRZdNmVA5T2Uu+hJZUDCdNNgdF1lQJ6rEgYAcWVAe+JRq4uEZUBYGZFQF5hlQDVQ0PWiq2VAEocPmy6/ZUDuvU5AutJlQMv0jeVF5mVAqCvNitH5ZUCEYgwwXQ1mQGKZS9XoIGZAPtCKenQ0ZkAbB8ofAEhmQPg9CcWLW2ZA1HRIahdvZkCxq4cPo4JmQI7ixrQulmZAahkGWrqpZkBIUEX/Rb1mQCSHhKTR0GZAjiJr9AYTY0BqWaqZkiZjQEiQ6T4eOmNAJMco5KlNY0AB/meJNWFjQN40py7BdGNAumvm00yIY0CXoiV52JtjQHTZZB5kr2NAUBCkw+/CY0AtR+Noe9ZjQAp+Ig4H6mNA57Rhs5L9Y0DE66BYHhFkQKAi4P2pJGRAfVkfozU4ZEBakF5IwUtkQDbHne1MX2RAE/7ckthyZEDwNBw4ZIZkQMxrW93vmWRAqqKagnutZECG2dknB8FkQGIQGc2S1GRAQEdYch7oZEAcfpcXqvtkQPm01rw1D2VA1usVYsEiZUCyIlUHTTZlQI9ZlKzYSWVAbJDTUWRdZUBIxxL373BlQCX+UZx7hGVAAjWRQQeYZUDfa9DmkqtlQLyiD4wev2VAmNlOMarSZUB1EI7WNeZlQFJHzXvB+WVALn4MIU0NZkAMtUvG2CBmQOjrimtkNGZAxSLKEPBHZkCiWQm2e1tmQH6QSFsHb2ZAW8eHAJOCZkA4/salHpZmQBQ1BkuqqWZA8mtF8DW9ZkDOooSVwdBmQDg+a+X2EmNAFXWqioImY0Dyq+kvDjpjQM7iKNWZTWNArBloeiVhY0CIUKcfsXRjQGWH5sQ8iGNAQr4lasibY0Ae9WQPVK9jQPsrpLTfwmNA2GLjWWvWY0C1mSL/9uljQJLQYaSC/WNAbgehSQ4RZEBLPuDumSRkQCh1H5QlOGRABKxeObFLZEDg4p3ePF9kQL4Z3YPIcmRAmlAcKVSGZEB3h1vO35lkQFS+mnNrrWRAMPXZGPfAZEANLBm+gtRkQOpiWGMO6GRAxpmXCJr7ZECk0NatJQ9lQIAHFlOxImVAXT5V+Dw2ZUA6dZSdyEllQBas00JUXWVA8+IS6N9wZUDQGVKNa4RlQK1QkTL3l2VAiofQ14KrZUBmvg99Dr9lQEP1TiKa0mVAICyOxyXmZUD8Ys1ssfllQNmZDBI9DWZAttBLt8ggZkCSB4tcVDRmQHA+ygHgR2ZATHUJp2tbZkAorEhM925mQAbjh/GCgmZA4hnHlg6WZkC/UAY8mqlmQJyHReElvWZAeL6EhrHQZkDjWWvW5hJjQMCQqntyJmNAnMfpIP45Y0B5/ijGiU1jQFY1aGsVYWNAM2ynEKF0Y0AQo+a1LIhjQOzZJVu4m2NAyRBlAESvY0CmR6Slz8JjQIJ+40pb1mNAYLUi8ObpY0A87GGVcv1jQBgjoTr+EGRA9lng34kkZEDSkB+FFThkQK7HXiqhS2RAi/6dzyxfZEBoNd10uHJkQEVsHBpEhmRAIqNbv8+ZZED+2ZpkW61kQNsQ2gnnwGRAuEcZr3LUZECUflhU/udkQHG1l/mJ+2RATuzWnhUPZUArIxZEoSJlQAhaVeksNmVA5JCUjrhJZUDBx9MzRF1lQJ7+EtnPcGVAejVSfluEZUBYbJEj55dlQDSj0Mhyq2VAENoPbv6+ZUDuEE8TitJlQMpHjrgV5mVApn7NXaH5ZUCEtQwDLQ1mQGDsS6i4IGZAPSOLTUQ0ZkAaWsryz0dmQPaQCZhbW2ZA08dIPeduZkCw/oficoJmQIw1x4f+lWZAamwGLYqpZkBGo0XSFb1mQCPahHeh0GZAjnVrx9YSY0BqrKpsYiZjQEfj6RHuOWNAJBopt3lNY0AAUWhcBWFjQN6HpwGRdGNAur7mphyIY0CW9SVMqJtjQHQsZfEzr2NAUGOklr/CY0AsmuM7S9ZjQArRIuHW6WNA5gdihmL9Y0DDPqEr7hBkQKB14NB5JGRAfKwfdgU4ZEBZ414bkUtkQDYansAcX2RAElHdZahyZEDwhxwLNIZkQMy+W7C/mWRAqfWaVUutZECGLNr61sBkQGJjGaBi1GRAP5pYRe7nZEAc0ZfqeftkQPgH148FD2VA1j4WNZEiZUCydVXaHDZlQI6slH+oSWVAbOPTJDRdZUBIGhPKv3BlQCRRUm9LhGVAAoiRFNeXZUDevtC5YqtlQLv1D1/uvmVAmCxPBHrSZUB0Y46pBeZlQFGazU6R+WVALtEM9BwNZkALCEyZqCBmQOg+iz40NGZAxHXK479HZkChrAmJS1tmQH7jSC7XbmZAWhqI02KCZkA3Ucd47pVmQBSIBh56qWZA8b5FwwW9ZkDO9YRokdBmQDiRa7jGEmNAFMiqXVImY0Dx/ukC3jljQM41KahpTWNAqmxoTfVgY0CIo6fygHRjQGTa5pcMiGNAQBEmPZibY0AeSGXiI69jQPp+pIevwmNA1rXjLDvWY0C07CLSxuljQJAjYndS/WNAbVqhHN4QZEBKkeDBaSRkQCbIH2f1N2RAA/9eDIFLZEDgNZ6xDF9kQLxs3VaYcmRAmqMc/COGZEB22luhr5lkQFMRm0Y7rWRAMEja68bAZEAMfxmRUtRkQOm1WDbe52RAxuyX22n7ZECiI9eA9Q5lQIBaFiaBImVAXJFVyww2ZUA4yJRwmEllQBb/0xUkXWVA8jUTu69wZUDObFJgO4RlQKyjkQXHl2VAiNrQqlKrZUBlERBQ3r5lQEJIT/Vp0mVAHn+OmvXlZUD7tc0/gfllQNjsDOUMDWZAtSNMipggZkCSWosvJDRmQG6RytSvR2ZAS8gJejtbZkAo/0gfx25mQAQ2iMRSgmZA4WzHad6VZkC+owYPaqlmQJvaRbT1vGZAeBGFWYHQZkDirGupthJjQL7jqk5CJmNAnBrq8805Y0B4USmZWU1jQFWIaD7lYGNAMr+n43B0Y0AO9uaI/IdjQOssJi6Im2NAyGNl0xOvY0CkmqR4n8JjQIHR4x0r1mNAXggjw7bpY0A7P2JoQv1jQBh2oQ3OEGRA9KzgslkkZEDR4x9Y5TdkQK4aX/1wS2RAilGeovxeZEBniN1HiHJkQES/HO0ThmRAIPZbkp+ZZED+LJs3K61kQNpj2ty2wGRAtpoZgkLUZECU0VgnzudkQHAImMxZ+2RATT/XceUOZUAqdhYXcSJlQAatVbz8NWVA4+OUYYhJZUDAGtQGFF1lQJxRE6yfcGVAeYhSUSuEZUBWv5H2tpdlQDP20JtCq2VAEC0QQc6+ZUDsY0/mWdJlQMmajovl5WVAptHNMHH5ZUCCCA3W/AxmQGA/THuIIGZAPHaLIBQ0ZkAZrcrFn0dmQPbjCWsrW2ZA0hpJELduZkCvUYi1QoJmQIyIx1rOlWZAaL8GAFqpZkBG9kWl5bxmQCIthUpx0GZAjMhrmqYSY0Bp/6o/MiZjQEY26uS9OWNAIm0piklNY0AApGgv1WBjQNzap9RgdGNAuRHneeyHY0CWSCYfeJtjQHJ/ZcQDr2NAT7akaY/CY0As7eMOG9ZjQAkkI7Sm6WNA5lpiWTL9Y0DCkaH+vRBkQJ/I4KNJJGRAfP8fSdU3ZEBYNl/uYEtkQDRtnpPsXmRAEqTdOHhyZEDu2hzeA4ZkQMsRXIOPmWRAqEibKButZECEf9rNpsBkQGG2GXMy1GRAPu1YGL7nZEAaJJi9SftkQPha12LVDmVA1JEWCGEiZUCxyFWt7DVlQI7/lFJ4SWVAajbU9wNdZUBHbROdj3BlQCSkUkIbhGVAAduR56aXZUDeEdGMMqtlQLpIEDK+vmVAl39P10nSZUB0to581eVlQFDtzSFh+WVALSQNx+wMZkAKW0xseCBmQOaRixEENGZAxMjKto9HZkCg/wlcG1tmQHw2SQGnbmZAWm2IpjKCZkA2pMdLvpVmQBPbBvFJqWZA8BFGltW8ZkDMSIU7YdBmQDfka4uWEmNAFBurMCImY0DwUerVrTljQM2IKXs5TWNAqr9oIMVgY0CH9qfFUHRjQGQt52rch2NAQGQmEGibY0Adm2W1865jQPrRpFp/wmNA1gjk/wrWY0C0PyOlluljQJB2Ykoi/WNAbK2h760QZEBK5OCUOSRkQCYbIDrFN2RAAlJf31BLZEDfiJ6E3F5kQLy/3SlocmRAmfYcz/OFZEB2LVx0f5lkQFJkmxkLrWRAL5vavpbAZEAM0hlkItRkQOgIWQmu52RAxT+Yrjn7ZECidtdTxQ5lQH+tFvlQImVAXORVntw1ZUA4G5VDaEllQBVS1OjzXGVA8ogTjn9wZUDOv1IzC4RlQKz2kdiWl2VAiC3RfSKrZUBkZBAjrr5lQEKbT8g50mVAHtKObcXlZUD6CM4SUfllQNg/DbjcDGZAtHZMXWggZkCRrYsC9DNmQG7kyqd/R2ZAShsKTQtbZkAnUknylm5mQASJiJcigmZA4L/HPK6VZkC+9gbiOalmQJotRofFvGZAd2SFLFHQZkDi/2t8hhJjQL42qyESJmNAm23qxp05Y0B4pClsKU1jQFTbaBG1YGNAMhKotkB0Y0AOSedbzIdjQOp/JgFYm2NAyLZlpuOuY0Ck7aRLb8JjQIAk5PD61WNAXlsjlobpY0A6kmI7Ev1jQBfJoeCdEGRA9P/ghSkkZEDQNiArtTdkQK1tX9BAS2RAiqSedcxeZEBm290aWHJkQEQSHcDjhWRAIElcZW+ZZED9f5sK+6xkQNq22q+GwGRAtu0ZVRLUZECTJFn6nedkQHBbmJ8p+2RATJLXRLUOZUAqyRbqQCJlQAYAVo/MNWVA4jaVNFhJZUDAbdTZ41xlQJykE39vcGVAeNtSJPuDZUBWEpLJhpdlQDJJ0W4Sq2VAD4AQFJ6+ZUDstk+5KdJlQMjtjl615WVApSTOA0H5ZUCCWw2pzAxmQF+STE5YIGZAPMmL8+MzZkAYAMuYb0dmQPU2Cj77WmZA0m1J44ZuZkCupIiIEoJmQIvbxy2elWZAaBIH0ympZkBFSUZ4tbxmQCKAhR1B0GZAjBtsbXYSY0BoUqsSAiZjQEWJ6reNOWNAIsApXRlNY0D+9mgCpWBjQNwtqKcwdGNAuGTnTLyHY0CUmybyR5tjQHLSZZfTrmNATgmlPF/CY0AqQOTh6tVjQAh3I4d26WNA5K1iLAL9Y0DB5KHRjRBkQJ4b4XYZJGRAelIgHKU3ZEBXiV/BMEtkQDTAnma8XmRAEPfdC0hyZEDuLR2x04VkQMpkXFZfmWRAp5ub++qsZECE0tqgdsBkQGAJGkYC1GRAPUBZ643nZEAad5iQGftkQPat1zWlDmVA1OQW2zAiZUCwG1aAvDVlQIxSlSVISWVAaonUytNcZUBGwBNwX3BlQCL3UhXrg2VAAC6SunaXZUDcZNFfAqtlQLmbEAWOvmVAltJPqhnSZUByCY9PpeVlQE9AzvQw+WVALHcNmrwMZkAJrkw/SCBmQObki+TTM2ZAwhvLiV9HZkCfUgov61pmQHyJSdR2bmZAWMCIeQKCZkA198cejpVmQBIuB8QZqWZA72RGaaW8ZkDMm4UOMdBmQDY3bF5mEmNAEm6rA/IlY0DwpOqofTljQMzbKU4JTWNAqRJp85RgY0CGSaiYIHRjQGKA5z2sh2NAP7cm4zebY0Ac7mWIw65jQPgkpS1PwmNA1Vvk0trVY0CykiN4ZuljQI/JYh3y/GNAbACiwn0QZEBIN+FnCSRkQCVuIA2VN2RAAqVfsiBLZEDe255XrF5kQLsS3vw3cmRAmEkdosOFZEB0gFxHT5lkQFK3m+zarGRALu7akWbAZEAKJRo38tNkQOhbWdx952RAxJKYgQn7ZEChydcmlQ5lQH4AF8wgImVAWjdWcaw1ZUA3bpUWOEllQBSl1LvDXGVA8NsTYU9wZUDNElMG24NlQKpJkqtml2VAh4DRUPKqZUBktxD2fb5lQEDuT5sJ0mVAHSWPQJXlZUD6W87lIPllQNaSDYusDGZAtMlMMDggZkCQAIzVwzNmQG03y3pPR2ZASm4KINtaZkAmpUnFZm5mQAPciGrygWZA4BLID36VZkC8SQe1CalmQJqARlqVvGZAdreF/yDQZkDgUmxPVhJjQL2Jq/ThJWNAmsDqmW05Y0B29yk/+UxjQFQuaeSEYGNAMGWoiRB0Y0ANnOcunIdjQOrSJtQnm2NAxglmebOuY0CjQKUeP8JjQIB35MPK1WNAXa4jaVbpY0A65WIO4vxjQBYcorNtEGRA81LhWPkjZEDQiSD+hDdkQKzAX6MQS2RAiPeeSJxeZEBmLt7tJ3JkQEJlHZOzhWRAH5xcOD+ZZED80pvdyqxkQNgJ24JWwGRAtUAaKOLTZECSd1nNbedkQG6umHL5+mRATOXXF4UOZUAoHBe9ECJlQAVTVmKcNWVA4omVByhJZUC+wNSss1xlQJv3E1I/cGVAeC5T98qDZUBVZZKcVpdlQDKc0UHiqmVADtMQ522+ZUDrCVCM+dFlQMhAjzGF5WVApHfO1hD5ZUCBrg18nAxmQF7lTCEoIGZAOhyMxrMzZkAYU8trP0dmQPSJChHLWmZA0MBJtlZuZkCu94hb4oFmQIouyABulWZAZ2UHpvmoZkBEnEZLhbxmQCDThfAQ0GZAi25sQEYSY0Bopavl0SVjQETc6opdOWNAIRMqMOlMY0D+SWnVdGBjQNuAqHoAdGNAuLfnH4yHY0CU7ibFF5tjQHElZmqjrmNATlylDy/CY0Aqk+S0utVjQAjKI1pG6WNA5ABj/9H8Y0DAN6KkXRBkQJ5u4UnpI2RAeqUg73Q3ZEBW3F+UAEtkQDMTnzmMXmRAEEre3hdyZEDtgB2Eo4VkQMq3XCkvmWRApu6bzrqsZECDJdtzRsBkQGBcGhnS02RAPJNZvl3nZEAZyphj6fpkQPYA2Ah1DmVA0zcXrgAiZUCwblZTjDVlQIyllfgXSWVAadzUnaNcZUBGExRDL3BlQCJKU+i6g2VAAIGSjUaXZUDct9Ey0qplQLjuENhdvmVAliVQfenRZUByXI8ideVlQE6TzscA+WVALMoNbYwMZkAIAU0SGCBmQOU3jLejM2ZAwm7LXC9HZkCepQoCu1pmQHvcSadGbmZAWBOJTNKBZkA0SsjxXZVmQBKBB5fpqGZA7rdGPHW8ZkDL7oXhANBmQDWKbDE2EmNAEsGr1sElY0Du9+p7TTljQMsuKiHZTGNAqGVpxmRgY0CFnKhr8HNjQGLT5xB8h2NAPgontgebY0AbQWZbk65jQPh3pQAfwmNA1K7kparVY0Cy5SNLNuljQI4cY/DB/GNAalOilU0QZEBIiuE62SNkQCTBIOBkN2RAAPhfhfBKZEDdLp8qfF5kQLpl3s8HcmRAl5wddZOFZEB001waH5lkQFAKnL+qrGRALUHbZDbAZEAKeBoKwtNkQOauWa9N52RAw+WYVNn6ZECgHNj5ZA5lQH1TF5/wIWVAWopWRHw1ZUA2wZXpB0llQBP41I6TXGVA8C4UNB9wZUDMZVPZqoNlQKqckn42l2VAhtPRI8KqZUBiChHJTb5lQEBBUG7Z0WVAHHiPE2XlZUD4rs648PhlQNblDV58DGZAshxNAwggZkCPU4yokzNmQGyKy00fR2ZASMEK86paZkAl+EmYNm5mQAIviT3CgWZA3mXI4k2VZkC8nAeI2ahmQJjTRi1lvGZAdQqG0vDPZkDgpWwiJhJjQLzcq8exJWNAmRPrbD05Y0B2SioSyUxjQFKBabdUYGNAMLioXOBzY0AM7+cBbIdjQOglJ6f3mmNAxlxmTIOuY0Cik6XxDsJjQH7K5Jaa1WNAXAEkPCbpY0A4OGPhsfxjQBVvooY9EGRA8qXhK8kjZEDO3CDRVDdkQKsTYHbgSmRAiEqfG2xeZEBkgd7A93FkQEK4HWaDhWRAHu9cCw+ZZED7JZywmqxkQNhc21UmwGRAtJMa+7HTZECRylmgPedkQG4BmUXJ+mRASjjY6lQOZUAobxeQ4CFlQASmVjVsNWVA4NyV2vdIZUC+E9V/g1xlQJpKFCUPcGVAdoFTypqDZUBUuJJvJpdlQDDv0RSyqmVADSYRuj2+ZUDqXFBfydFlQMaTjwRV5WVAo8rOqeD4ZUCAAQ5PbAxmQF04TfT3H2ZAOm+MmYMzZkAWpss+D0dmQPPcCuSaWmZA0BNKiSZuZkCsSokusoFmQImByNM9lWZAZrgHecmoZkBD70YeVbxmQCAmhsPgz2ZAisFsExYSY0Bm+Ku4oSVjQEQv610tOWNAIGYqA7lMY0D9nGmoRGBjQNrTqE3Qc2NAtgro8luHY0CTQSeY55pjQHB4Zj1zrmNATK+l4v7BY0Ap5uSHitVjQAYdJC0W6WNA41Nj0qH8Y0DAiqJ3LRBkQJzB4Ry5I2RAefggwkQ3ZEBWL2Bn0EpkQDJmnwxcXmRAD53esedxZEDs0x1Xc4VkQMgKXfz+mGRApkGcoYqsZECCeNtGFsBkQF6vGuyh02RAPOZZkS3nZEAYHZk2ufpkQPVT2NtEDmVA0ooXgdAhZUCuwVYmXDVlQIv4lcvnSGVAaC/VcHNcZUBEZhQW/29lQCGdU7uKg2VA/tOSYBaXZUDbCtIFoqplQLhBEastvmVAlHhQULnRZUBxr4/1ROVlQE7mzprQ+GVAKh0OQFwMZkAIVE3l5x9mQOSKjIpzM2ZAwcHLL/9GZkCe+ArVilpmQHovSnoWbmZAV2aJH6KBZkA0ncjELZVmQBDUB2q5qGZA7gpHD0W8ZkDKQYa00M9mQDTdbAQGEmNAERSsqZElY0DuSutOHTljQMqBKvSoTGNAqLhpmTRgY0CE76g+wHNjQGEm6ONLh2NAPl0nideaY0AalGYuY65jQPfKpdPuwWNA1AHleHrVY0CxOCQeBuljQI5vY8OR/GNAaqaiaB0QZEBH3eENqSNkQCQUIbM0N2RAAEtgWMBKZEDcgZ/9S15kQLq43qLXcWRAlu8dSGOFZEBzJl3t7phkQFBdnJJ6rGRALJTbNwbAZEAJyxrdkdNkQOYBWoId52RAwjiZJ6n6ZECgb9jMNA5lQHymF3LAIWVAWd1WF0w1ZUA2FJa810hlQBJL1WFjXGVA74EUB+9vZUDMuFOseoNlQKnvklEGl2VAhibS9pGqZUBiXRGcHb5lQD+UUEGp0WVAHMuP5jTlZUD4Ac+LwPhlQNU4DjFMDGZAsm9N1tcfZkCOpox7YzNmQGzdyyDvRmZASBQLxnpaZkAkS0prBm5mQAKCiRCSgWZA3rjItR2VZkC77wdbqahmQJgmRwA1vGZAdF2GpcDPZkDe+Gz19RFjQLsvrJqBJWNAmGbrPw05Y0B0nSrlmExjQFLUaYokYGNALgupL7BzY0ALQujUO4djQOh4J3rHmmNAxK9mH1OuY0Ch5qXE3sFjQH4d5Wlq1WNAW1QkD/boY0A4i2O0gfxjQBTColkNEGRA8fjh/pgjZEDOLyGkJDdkQKpmYEmwSmRAhp2f7jteZEBk1N6Tx3FkQEALHjlThWRAHUJd3t6YZED6eJyDaqxkQNav2yj2v2RAs+YazoHTZECQHVpzDedkQGxUmRiZ+mRASovYvSQOZUAmwhdjsCFlQAP5Vgg8NWVA4C+WrcdIZUC8ZtVSU1xlQJmdFPjeb2VAdtRTnWqDZUBTC5NC9pZlQDBC0ueBqmVADHkRjQ2+ZUDpr1AymdFlQMbmj9ck5WVAoh3PfLD4ZUB/VA4iPAxmQFyLTcfHH2ZAOMKMbFMzZkAW+csR30ZmQPIvC7dqWmZAzmZKXPZtZkCsnYkBgoFmQIjUyKYNlWZAZQsITJmoZkBCQkfxJLxmQB55hpawz2ZAiRRt5uURY0BmS6yLcSVjQEKC6zD9OGNAH7kq1ohMY0D872l7FGBjQNkmqSCgc2NAtl3oxSuHY0CSlCdrt5pjQG/LZhBDrmNATAKmtc7BY0AoOeVaWtVjQAZwJADm6GNA4qZjpXH8Y0C+3aJK/Q9kQJwU4u+II2RAeEshlRQ3ZEBUgmA6oEpkQDG5n98rXmRADvDehLdxZEDrJh4qQ4VkQMhdXc/OmGRApJScdFqsZECBy9sZ5r9kQF4CG79x02RAOjlaZP3mZEAXcJkJifpkQPSm2K4UDmVA0d0XVKAhZUCuFFf5KzVlQIpLlp63SGVAZ4LVQ0NcZUBEuRTpzm9lQCDwU45ag2VA/iaTM+aWZUDaXdLYcaplQLaUEX79vWVAlMtQI4nRZUBwApDIFOVlQEw5z22g+GVAKnAOEywMZkAGp024tx9mQOPdjF1DM2ZAwBTMAs9GZkCcSwuoWlpmQHmCSk3mbWZAVrmJ8nGBZkAy8MiX/ZRmQBAnCD2JqGZA7F1H4hS8ZkDJlIaHoM9mQDQwbdfVEWNAEGesfGElY0Dtnesh7ThjQMrUKsd4TGNApgtqbARgY0CEQqkRkHNjQGB56LYbh2NAPLAnXKeaY0Aa52YBM65jQPYdpqa+wWNA0lTlS0rVY0CwiyTx1ehjQIzCY5Zh/GNAafmiO+0PZEBGMOLgeCNkQCJnIYYEN2RA/51gK5BKZEDc1J/QG15kQLgL33WncWRAlkIeGzOFZEByeV3AvphkQE+wnGVKrGRALOfbCta/ZEAIHhuwYdNkQOVUWlXt5mRAwouZ+nj6ZECewtifBA5lQHz5F0WQIWVAWDBX6hs1ZUA0Z5aPp0hlQBKe1TQzXGVA7tQU2r5vZUDKC1R/SoNlQKhCkyTWlmVAhHnSyWGqZUBhsBFv7b1lQD7nUBR50WVAGh6QuQTlZUD3VM9ekPhlQNSLDgQcDGZAscJNqacfZkCO+YxOMzNmQGowzPO+RmZAR2cLmUpaZkAknko+1m1mQADVieNhgWZA3QvJiO2UZkC6QggueahmQJd5R9MEvGZAdLCGeJDPZkDeS23IxRFjQLqCrG1RJWNAmLnrEt04Y0B08Cq4aExjQFEnal30X2NALl6pAoBzY0AKleinC4djQOfLJ02XmmNAxAJn8iKuY0CgOaaXrsFjQH1w5Tw61WNAWqck4sXoY0A33mOHUfxjQBQVoyzdD2RA8Evi0WgjZEDNgiF39DZkQKq5YByASmRAhvCfwQteZEBjJ99ml3FkQEBeHgwjhWRAHJVdsa6YZED6y5xWOqxkQNYC3PvFv2RAsjkboVHTZECQcFpG3eZkQGynmeto+mRASd7YkPQNZUAmFRg2gCFlQAJMV9sLNWVA34KWgJdIZUC8udUlI1xlQJjwFMuub2VAdSdUcDqDZUBSXpMVxpZlQC+V0rpRqmVADMwRYN29ZUDoAlEFadFlQMU5kKr05GVAonDPT4D4ZUB+pw71CwxmQFzeTZqXH2ZAOBWNPyMzZkAVTMzkrkZmQPKCC4o6WmZAzrlKL8ZtZkCr8InUUYFmQIgnyXndlGZAZF4IH2moZkBClUfE9LtmQB7MhmmAz2ZAiGdtubURY0BlnqxeQSVjQELV6wPNOGNAHgwrqVhMY0D8QmpO5F9jQNh5qfNvc2NAtbDomPuGY0CS5yc+h5pjQG4eZ+MSrmNAS1WmiJ7BY0AojOUtKtVjQAXDJNO16GNA4vljeEH8Y0C+MKMdzQ9kQJtn4sJYI2RAeJ4haOQ2ZEBU1WANcEpkQDAMoLL7XWRADkPfV4dxZEDqeR79EoVkQMewXaKemGRApOecRyqsZECAHtzstb9kQF1VG5JB02RAOoxaN83mZEAWw5ncWPpkQPT52IHkDWVA0DAYJ3AhZUCtZ1fM+zRlQIqelnGHSGVAZtXVFhNcZUBDDBW8nm9lQCBDVGEqg2VA/XmTBraWZUDasNKrQaplQLbnEVHNvWVAkx5R9ljRZUBwVZCb5ORlQEyMz0Bw+GVAKcMO5vsLZkAG+k2Lhx9mQOIwjTATM2ZAwGfM1Z5GZkCcngt7KlpmQHjVSiC2bWZAVgyKxUGBZkAyQ8lqzZRmQA96CBBZqGZA7LBHteS7ZkDI54ZacM9mQDKDbaqlEWNAD7qsTzElY0Ds8Ov0vDhjQMgnK5pITGNApl5qP9RfY0CClankX3NjQF/M6InrhmNAPAMoL3eaY0AYOmfUAq5jQPVwpnmOwWNA0qflHhrVY0Cv3iTEpehjQIwVZGkx/GNAaEyjDr0PZEBFg+KzSCNkQCK6IVnUNmRA/vBg/l9KZEDaJ6Cj611kQLhe30h3cWRAlJUe7gKFZEBxzF2TjphkQE4DnTgarGRAKjrc3aW/ZEAHcRuDMdNkQOSnWii95mRAwN6ZzUj6ZECeFdly1A1lQHpMGBhgIWVAV4NXves0ZUA0upZid0hlQBDx1QcDXGVA7ScVrY5vZUDKXlRSGoNlQKeVk/ellmVAhMzSnDGqZUBgAxJCvb1lQD06UedI0WVAGnGQjNTkZUD2p88xYPhlQNPeDtfrC2ZAsBVOfHcfZkCMTI0hAzNmQGqDzMaORmZARroLbBpaZkAi8UoRpm1mQAAoirYxgWZA3F7JW72UZkC5lQgBSahmQJbMR6bUu2ZAcgOHS2DPZkDdnm2blRFjQLrVrEAhJWNAlgzs5aw4Y0BzQyuLOExjQFB6ajDEX2NALbGp1U9zY0AK6Oh624ZjQOYeKCBnmmNAw1VnxfKtY0CgjKZqfsFjQHzD5Q8K1WNAWvoktZXoY0A2MWRaIfxjQBJoo/+sD2RA8J7ipDgjZEDM1SFKxDZkQKgMYe9PSmRAhUOglNtdZEBiet85Z3FkQD+xHt/yhGRAHOhdhH6YZED4Hp0pCqxkQNVV3M6Vv2RAsowbdCHTZECOw1oZreZkQGv6mb44+mRASDHZY8QNZUAlaBgJUCFlQAKfV67bNGVA3tWWU2dIZUC7DNb48ltlQJhDFZ5+b2VAdHpUQwqDZUBSsZPolZZlQC7o0o0hqmVACh8SM629ZUDoVVHYONFlQMSMkH3E5GVAoMPPIlD4ZUB++g7I2wtmQFoxTm1nH2ZAN2iNEvMyZkAUn8y3fkZmQPDVC10KWmZAzQxLApZtZkCqQ4qnIYFmQIZ6yUytlGZAZLEI8jioZkBA6EeXxLtmQB0fhzxQz2ZAiLptjIURY0Bk8awxESVjQEEo7NacOGNAHl8rfChMY0D6lWohtF9jQNjMqcY/c2NAtAPpa8uGY0CQOigRV5pjQG5xZ7birWNASqimW27BY0Am3+UA+tRjQAQWJaaF6GNA4ExkSxH8Y0C9g6PwnA9kQJq64pUoI2RAdvEhO7Q2ZEBTKGHgP0pkQDBfoIXLXWRADJbfKldxZEDqzB7Q4oRkQMYDXnVumGRAozqdGvqrZECAcdy/hb9kQFyoG2UR02RAOd9aCp3mZEAWFpqvKPpkQPJM2VS0DWVA0IMY+j8hZUCsulefyzRlQIjxlkRXSGVAZijW6eJbZUBCXxWPbm9lQB6WVDT6gmVA/MyT2YWWZUDYA9N+EaplQLU6EiSdvWVAknFRySjRZUBuqJButORlQEvfzxNA+GVAKBYPucsLZkAFTU5eVx9mQOKDjQPjMmZAvrrMqG5GZkCb8QtO+llmQHgoS/OFbWZAVF+KmBGBZkAxlsk9nZRmQA7NCOMoqGZA6wNIiLS7ZkDIOoctQM9mQDLWbX11EWNADg2tIgElY0DsQ+zHjDhjQMh6K20YTGNApbFqEqRfY0CC6Km3L3NjQF4f6Vy7hmNAO1YoAkeaY0AYjWen0q1jQPTDpkxewWNA0frl8enUY0CuMSWXdehjQItoZDwB/GNAaJ+j4YwPZEBE1uKGGCNkQCENIiykNmRA/kNh0S9KZEDaeqB2u11kQLex3xtHcWRAlOgewdKEZEBwH15mXphkQE5WnQvqq2RAKo3csHW/ZEAGxBtWAdNkQOT6WvuM5mRAwDGaoBj6ZECdaNlFpA1lQHqfGOsvIWVAVtZXkLs0ZUAzDZc1R0hlQBBE1trSW2VA7HoVgF5vZUDJsVQl6oJlQKbok8p1lmVAgx/TbwGqZUBgVhIVjb1lQDyNUboY0WVAGcSQX6TkZUD2+s8EMPhlQNIxD6q7C2ZAsGhOT0cfZkCMn4300jJmQGnWzJleRmZARg0MP+pZZkAiREvkdW1mQP96iokBgWZA3LHJLo2UZkC46AjUGKhmQJYfSHmku2ZAclaHHjDPZkDc8W1uZRFjQLgorRPxJGNAll/suHw4Y0ByliteCExjQE/NagOUX2NALASqqB9zY0AIO+lNq4ZjQOVxKPM2mmNAwqhnmMKtY0Ce36Y9TsFjQHsW5uLZ1GNAWE0liGXoY0A1hGQt8ftjQBK7o9J8D2RA7vHidwgjZEDLKCIdlDZkQKhfYcIfSmRAhJagZ6tdZEBhzd8MN3FkQD4EH7LChGRAGjteV06YZED4cZ382atkQNSo3KFlv2RAsN8bR/HSZECOFlvsfOZkQGpNmpEI+mRAR4TZNpQNZUAkuxjcHyFlQADyV4GrNGVA3SiXJjdIZUC6X9bLwltlQJaWFXFOb2VAc81UFtqCZUBQBJS7ZZZlQC0702DxqWVACnISBn29ZUDmqFGrCNFlQMPfkFCU5GVAoBbQ9R/4ZUB8TQ+bqwtmQFqETkA3H2ZANruN5cIyZkAT8syKTkZmQPAoDDDaWWZAzF9L1WVtZkCplop68YBmQIbNyR99lGZAYgQJxQioZkBAO0hqlLtmQBxyhw8gz2ZAhg1uX1URY0BjRK0E4SRjQEB77KlsOGNAHLIrT/hLY0D66Gr0g19jQNYfqpkPc2NAs1bpPpuGY0CQjSjkJppjQGzEZ4myrWNASfumLj7BY0AmMubTydRjQANpJXlV6GNA4J9kHuH7Y0C81qPDbA9kQJkN42j4ImRAdkQiDoQ2ZEBSe2GzD0pkQC6yoFibXWRADOnf/SZxZEDoHx+jsoRkQMVWXkg+mGRAoo2d7cmrZEB+xNySVb9kQFv7Gzjh0mRAODJb3WzmZEAUaZqC+PlkQPKf2SeEDWVAztYYzQ8hZUCrDVhymzRlQIhElxcnSGVAZHvWvLJbZUBBshViPm9lQB7pVAfKgmVA+x+UrFWWZUDYVtNR4allQLSNEvdsvWVAkcRRnPjQZUBu+5BBhORlQEoy0OYP+GVAJ2kPjJsLZkAEoE4xJx9mQODWjdayMmZAvg3Nez5GZkCaRAwhyllmQHZ7S8ZVbWZAVLKKa+GAZkAw6ckQbZRmQA0gCbb4p2ZA6lZIW4S7ZkDGjYcAEM9mQDEpblBFEWNADmCt9dAkY0DqluyaXDhjQMfNK0DoS2NApARr5XNfY0CBO6qK/3JjQF5y6S+LhmNAOqko1RaaY0AX4Gd6oq1jQPQWpx8uwWNA0E3mxLnUY0CuhCVqRehjQIq7ZA/R+2NAZvKjtFwPZEBEKeNZ6CJkQCBgIv9zNmRA/JZhpP9JZEDZzaBJi11kQLYE4O4WcWRAkzsflKKEZEBwcl45LphkQEypnd65q2RAKeDcg0W/ZEAGFxwp0dJkQOJNW85c5mRAv4Sac+j5ZECcu9kYdA1lQHnyGL7/IGVAVilYY4s0ZUAyYJcIF0hlQA+X1q2iW2VA7M0VUy5vZUDIBFX4uYJlQKY7lJ1FlmVAgnLTQtGpZUBeqRLoXL1lQDzgUY3o0GVAGBeRMnTkZUD0TdDX//dlQNKED32LC2ZArrtOIhcfZkCL8o3HojJmQGgpzWwuRmZARGAMErpZZkAhl0u3RW1mQP7NilzRgGZA2gTKAV2UZkC4Owmn6KdmQJRySEx0u2ZAcamH8f/OZkDcRG5BNRFjQLh7rebAJGNAlbLsi0w4Y0By6Ssx2EtjQE4ga9ZjX2NALFeqe+9yY0AIjukge4ZjQOTEKMYGmmNAwvtna5KtY0CeMqcQHsFjQHpp5rWp1GNAWKAlWzXoY0A012QAwftjQBEOpKVMD2RA7kTjStgiZEDKeyLwYzZkQKeyYZXvSWRAhOmgOntdZEBgIODfBnFkQD5XH4WShGRAGo5eKh6YZED3xJ3PqatkQNT73HQ1v2RAsDIcGsHSZECNaVu/TOZkQGqgmmTY+WRARtfZCWQNZUAkDhmv7yBlQABFWFR7NGVA3HuX+QZIZUC6staekltlQJbpFUQeb2VAciBV6amCZUBQV5SONZZlQCyO0zPBqWVACcUS2Uy9ZUDm+1F+2NBlQMIykSNk5GVAn2nQyO/3ZUB8oA9uewtmQFnXThMHH2ZANg6OuJIyZkASRc1dHkZmQO97DAOqWWZAzLJLqDVtZkCo6YpNwYBmQIUgyvJMlGZAYlcJmNinZkA/jkg9ZLtmQBzFh+LvzmZAhmBuMiURY0Bil63XsCRjQD/O7Hw8OGNAHAUsIshLY0D4O2vHU19jQNZyqmzfcmNAsqnpEWuGY0CO4Ci39pljQGwXaFyCrWNASE6nAQ7BY0AkheammdRjQAK8JUwl6GNA3vJk8bD7Y0C7KaSWPA9kQJhg4zvIImRAdJci4VM2ZEBRzmGG30lkQC4FoStrXWRACjzg0PZwZEDoch92goRkQMSpXhsOmGRAoeCdwJmrZEB+F91lJb9kQFpOHAux0mRAN4VbsDzmZEAUvJpVyPlkQPDy2fpTDWVAzikZoN8gZUCqYFhFazRlQIaXl+r2R2VAZM7Wj4JbZUBABRY1Dm9lQBw8VdqZgmVA+nKUfyWWZUDWqdMksallQLPgEso8vWVAkBdSb8jQZUBsTpEUVORlQEmF0Lnf92VAJrwPX2sLZkAD804E9x5mQOApjqmCMmZAvGDNTg5GZkCZlwz0mVlmQHbOS5klbWZAUgWLPrGAZkAvPMrjPJRmQAxzCYnIp2ZA6alILlS7ZkDG4IfT385mQDB8biMVEWNADLOtyKAkY0Dq6extLDhjQMYgLBO4S2NAo1druENfY0CAjqpdz3JjQFzF6QJbhmNAOfwoqOaZY0AWM2hNcq1jQPJpp/L9wGNAz6Dml4nUY0Cs1yU9FehjQIkOZeKg+2NAZkWkhywPZEBCfOMsuCJkQB+zItJDNmRA/Olhd89JZEDYIKEcW11kQLVX4MHmcGRAko4fZ3KEZEBuxV4M/pdkQEz8nbGJq2RAKDPdVhW/ZEAEahz8oNJkQOKgW6Es5mRAvteaRrj5ZECbDtrrQw1lQHhFGZHPIGVAVHxYNls0ZUAxs5fb5kdlQA7q1oByW2VA6iAWJv5uZUDHV1XLiYJlQKSOlHAVlmVAgcXTFaGpZUBe/BK7LL1lQDozUmC40GVAF2qRBUTkZUD0oNCqz/dlQNDXD1BbC2ZArg5P9eYeZkCKRY6acjJmQGd8zT/+RWZARLMM5YlZZkAg6kuKFW1mQP0giy+hgGZA2lfK1CyUZkC2jgl6uKdmQJTFSB9Eu2ZAcPyHxM/OZkA=",
          "dtype": "f8",
          "shape": "50, 50"
         }
        }
       ],
       "layout": {
        "height": 600,
        "scene": {
         "xaxis": {
          "title": {
           "text": "Tamaño del Pie (cm)"
          }
         },
         "yaxis": {
          "title": {
           "text": "Ancho Corporal (cm)"
          }
         },
         "zaxis": {
          "title": {
           "text": "Altura (cm)"
          }
         }
        },
        "template": {
         "data": {
          "bar": [
           {
            "error_x": {
             "color": "#2a3f5f"
            },
            "error_y": {
             "color": "#2a3f5f"
            },
            "marker": {
             "line": {
              "color": "#E5ECF6",
              "width": 0.5
             },
             "pattern": {
              "fillmode": "overlay",
              "size": 10,
              "solidity": 0.2
             }
            },
            "type": "bar"
           }
          ],
          "barpolar": [
           {
            "marker": {
             "line": {
              "color": "#E5ECF6",
              "width": 0.5
             },
             "pattern": {
              "fillmode": "overlay",
              "size": 10,
              "solidity": 0.2
             }
            },
            "type": "barpolar"
           }
          ],
          "carpet": [
           {
            "aaxis": {
             "endlinecolor": "#2a3f5f",
             "gridcolor": "white",
             "linecolor": "white",
             "minorgridcolor": "white",
             "startlinecolor": "#2a3f5f"
            },
            "baxis": {
             "endlinecolor": "#2a3f5f",
             "gridcolor": "white",
             "linecolor": "white",
             "minorgridcolor": "white",
             "startlinecolor": "#2a3f5f"
            },
            "type": "carpet"
           }
          ],
          "choropleth": [
           {
            "colorbar": {
             "outlinewidth": 0,
             "ticks": ""
            },
            "type": "choropleth"
           }
          ],
          "contour": [
           {
            "colorbar": {
             "outlinewidth": 0,
             "ticks": ""
            },
            "colorscale": [
             [
              0,
              "#0d0887"
             ],
             [
              0.1111111111111111,
              "#46039f"
             ],
             [
              0.2222222222222222,
              "#7201a8"
             ],
             [
              0.3333333333333333,
              "#9c179e"
             ],
             [
              0.4444444444444444,
              "#bd3786"
             ],
             [
              0.5555555555555556,
              "#d8576b"
             ],
             [
              0.6666666666666666,
              "#ed7953"
             ],
             [
              0.7777777777777778,
              "#fb9f3a"
             ],
             [
              0.8888888888888888,
              "#fdca26"
             ],
             [
              1,
              "#f0f921"
             ]
            ],
            "type": "contour"
           }
          ],
          "contourcarpet": [
           {
            "colorbar": {
             "outlinewidth": 0,
             "ticks": ""
            },
            "type": "contourcarpet"
           }
          ],
          "heatmap": [
           {
            "colorbar": {
             "outlinewidth": 0,
             "ticks": ""
            },
            "colorscale": [
             [
              0,
              "#0d0887"
             ],
             [
              0.1111111111111111,
              "#46039f"
             ],
             [
              0.2222222222222222,
              "#7201a8"
             ],
             [
              0.3333333333333333,
              "#9c179e"
             ],
             [
              0.4444444444444444,
              "#bd3786"
             ],
             [
              0.5555555555555556,
              "#d8576b"
             ],
             [
              0.6666666666666666,
              "#ed7953"
             ],
             [
              0.7777777777777778,
              "#fb9f3a"
             ],
             [
              0.8888888888888888,
              "#fdca26"
             ],
             [
              1,
              "#f0f921"
             ]
            ],
            "type": "heatmap"
           }
          ],
          "histogram": [
           {
            "marker": {
             "pattern": {
              "fillmode": "overlay",
              "size": 10,
              "solidity": 0.2
             }
            },
            "type": "histogram"
           }
          ],
          "histogram2d": [
           {
            "colorbar": {
             "outlinewidth": 0,
             "ticks": ""
            },
            "colorscale": [
             [
              0,
              "#0d0887"
             ],
             [
              0.1111111111111111,
              "#46039f"
             ],
             [
              0.2222222222222222,
              "#7201a8"
             ],
             [
              0.3333333333333333,
              "#9c179e"
             ],
             [
              0.4444444444444444,
              "#bd3786"
             ],
             [
              0.5555555555555556,
              "#d8576b"
             ],
             [
              0.6666666666666666,
              "#ed7953"
             ],
             [
              0.7777777777777778,
              "#fb9f3a"
             ],
             [
              0.8888888888888888,
              "#fdca26"
             ],
             [
              1,
              "#f0f921"
             ]
            ],
            "type": "histogram2d"
           }
          ],
          "histogram2dcontour": [
           {
            "colorbar": {
             "outlinewidth": 0,
             "ticks": ""
            },
            "colorscale": [
             [
              0,
              "#0d0887"
             ],
             [
              0.1111111111111111,
              "#46039f"
             ],
             [
              0.2222222222222222,
              "#7201a8"
             ],
             [
              0.3333333333333333,
              "#9c179e"
             ],
             [
              0.4444444444444444,
              "#bd3786"
             ],
             [
              0.5555555555555556,
              "#d8576b"
             ],
             [
              0.6666666666666666,
              "#ed7953"
             ],
             [
              0.7777777777777778,
              "#fb9f3a"
             ],
             [
              0.8888888888888888,
              "#fdca26"
             ],
             [
              1,
              "#f0f921"
             ]
            ],
            "type": "histogram2dcontour"
           }
          ],
          "mesh3d": [
           {
            "colorbar": {
             "outlinewidth": 0,
             "ticks": ""
            },
            "type": "mesh3d"
           }
          ],
          "parcoords": [
           {
            "line": {
             "colorbar": {
              "outlinewidth": 0,
              "ticks": ""
             }
            },
            "type": "parcoords"
           }
          ],
          "pie": [
           {
            "automargin": true,
            "type": "pie"
           }
          ],
          "scatter": [
           {
            "fillpattern": {
             "fillmode": "overlay",
             "size": 10,
             "solidity": 0.2
            },
            "type": "scatter"
           }
          ],
          "scatter3d": [
           {
            "line": {
             "colorbar": {
              "outlinewidth": 0,
              "ticks": ""
             }
            },
            "marker": {
             "colorbar": {
              "outlinewidth": 0,
              "ticks": ""
             }
            },
            "type": "scatter3d"
           }
          ],
          "scattercarpet": [
           {
            "marker": {
             "colorbar": {
              "outlinewidth": 0,
              "ticks": ""
             }
            },
            "type": "scattercarpet"
           }
          ],
          "scattergeo": [
           {
            "marker": {
             "colorbar": {
              "outlinewidth": 0,
              "ticks": ""
             }
            },
            "type": "scattergeo"
           }
          ],
          "scattergl": [
           {
            "marker": {
             "colorbar": {
              "outlinewidth": 0,
              "ticks": ""
             }
            },
            "type": "scattergl"
           }
          ],
          "scattermap": [
           {
            "marker": {
             "colorbar": {
              "outlinewidth": 0,
              "ticks": ""
             }
            },
            "type": "scattermap"
           }
          ],
          "scattermapbox": [
           {
            "marker": {
             "colorbar": {
              "outlinewidth": 0,
              "ticks": ""
             }
            },
            "type": "scattermapbox"
           }
          ],
          "scatterpolar": [
           {
            "marker": {
             "colorbar": {
              "outlinewidth": 0,
              "ticks": ""
             }
            },
            "type": "scatterpolar"
           }
          ],
          "scatterpolargl": [
           {
            "marker": {
             "colorbar": {
              "outlinewidth": 0,
              "ticks": ""
             }
            },
            "type": "scatterpolargl"
           }
          ],
          "scatterternary": [
           {
            "marker": {
             "colorbar": {
              "outlinewidth": 0,
              "ticks": ""
             }
            },
            "type": "scatterternary"
           }
          ],
          "surface": [
           {
            "colorbar": {
             "outlinewidth": 0,
             "ticks": ""
            },
            "colorscale": [
             [
              0,
              "#0d0887"
             ],
             [
              0.1111111111111111,
              "#46039f"
             ],
             [
              0.2222222222222222,
              "#7201a8"
             ],
             [
              0.3333333333333333,
              "#9c179e"
             ],
             [
              0.4444444444444444,
              "#bd3786"
             ],
             [
              0.5555555555555556,
              "#d8576b"
             ],
             [
              0.6666666666666666,
              "#ed7953"
             ],
             [
              0.7777777777777778,
              "#fb9f3a"
             ],
             [
              0.8888888888888888,
              "#fdca26"
             ],
             [
              1,
              "#f0f921"
             ]
            ],
            "type": "surface"
           }
          ],
          "table": [
           {
            "cells": {
             "fill": {
              "color": "#EBF0F8"
             },
             "line": {
              "color": "white"
             }
            },
            "header": {
             "fill": {
              "color": "#C8D4E3"
             },
             "line": {
              "color": "white"
             }
            },
            "type": "table"
           }
          ]
         },
         "layout": {
          "annotationdefaults": {
           "arrowcolor": "#2a3f5f",
           "arrowhead": 0,
           "arrowwidth": 1
          },
          "autotypenumbers": "strict",
          "coloraxis": {
           "colorbar": {
            "outlinewidth": 0,
            "ticks": ""
           }
          },
          "colorscale": {
           "diverging": [
            [
             0,
             "#8e0152"
            ],
            [
             0.1,
             "#c51b7d"
            ],
            [
             0.2,
             "#de77ae"
            ],
            [
             0.3,
             "#f1b6da"
            ],
            [
             0.4,
             "#fde0ef"
            ],
            [
             0.5,
             "#f7f7f7"
            ],
            [
             0.6,
             "#e6f5d0"
            ],
            [
             0.7,
             "#b8e186"
            ],
            [
             0.8,
             "#7fbc41"
            ],
            [
             0.9,
             "#4d9221"
            ],
            [
             1,
             "#276419"
            ]
           ],
           "sequential": [
            [
             0,
             "#0d0887"
            ],
            [
             0.1111111111111111,
             "#46039f"
            ],
            [
             0.2222222222222222,
             "#7201a8"
            ],
            [
             0.3333333333333333,
             "#9c179e"
            ],
            [
             0.4444444444444444,
             "#bd3786"
            ],
            [
             0.5555555555555556,
             "#d8576b"
            ],
            [
             0.6666666666666666,
             "#ed7953"
            ],
            [
             0.7777777777777778,
             "#fb9f3a"
            ],
            [
             0.8888888888888888,
             "#fdca26"
            ],
            [
             1,
             "#f0f921"
            ]
           ],
           "sequentialminus": [
            [
             0,
             "#0d0887"
            ],
            [
             0.1111111111111111,
             "#46039f"
            ],
            [
             0.2222222222222222,
             "#7201a8"
            ],
            [
             0.3333333333333333,
             "#9c179e"
            ],
            [
             0.4444444444444444,
             "#bd3786"
            ],
            [
             0.5555555555555556,
             "#d8576b"
            ],
            [
             0.6666666666666666,
             "#ed7953"
            ],
            [
             0.7777777777777778,
             "#fb9f3a"
            ],
            [
             0.8888888888888888,
             "#fdca26"
            ],
            [
             1,
             "#f0f921"
            ]
           ]
          },
          "colorway": [
           "#636efa",
           "#EF553B",
           "#00cc96",
           "#ab63fa",
           "#FFA15A",
           "#19d3f3",
           "#FF6692",
           "#B6E880",
           "#FF97FF",
           "#FECB52"
          ],
          "font": {
           "color": "#2a3f5f"
          },
          "geo": {
           "bgcolor": "white",
           "lakecolor": "white",
           "landcolor": "#E5ECF6",
           "showlakes": true,
           "showland": true,
           "subunitcolor": "white"
          },
          "hoverlabel": {
           "align": "left"
          },
          "hovermode": "closest",
          "mapbox": {
           "style": "light"
          },
          "paper_bgcolor": "white",
          "plot_bgcolor": "#E5ECF6",
          "polar": {
           "angularaxis": {
            "gridcolor": "white",
            "linecolor": "white",
            "ticks": ""
           },
           "bgcolor": "#E5ECF6",
           "radialaxis": {
            "gridcolor": "white",
            "linecolor": "white",
            "ticks": ""
           }
          },
          "scene": {
           "xaxis": {
            "backgroundcolor": "#E5ECF6",
            "gridcolor": "white",
            "gridwidth": 2,
            "linecolor": "white",
            "showbackground": true,
            "ticks": "",
            "zerolinecolor": "white"
           },
           "yaxis": {
            "backgroundcolor": "#E5ECF6",
            "gridcolor": "white",
            "gridwidth": 2,
            "linecolor": "white",
            "showbackground": true,
            "ticks": "",
            "zerolinecolor": "white"
           },
           "zaxis": {
            "backgroundcolor": "#E5ECF6",
            "gridcolor": "white",
            "gridwidth": 2,
            "linecolor": "white",
            "showbackground": true,
            "ticks": "",
            "zerolinecolor": "white"
           }
          },
          "shapedefaults": {
           "line": {
            "color": "#2a3f5f"
           }
          },
          "ternary": {
           "aaxis": {
            "gridcolor": "white",
            "linecolor": "white",
            "ticks": ""
           },
           "baxis": {
            "gridcolor": "white",
            "linecolor": "white",
            "ticks": ""
           },
           "bgcolor": "#E5ECF6",
           "caxis": {
            "gridcolor": "white",
            "linecolor": "white",
            "ticks": ""
           }
          },
          "title": {
           "x": 0.05
          },
          "xaxis": {
           "automargin": true,
           "gridcolor": "white",
           "linecolor": "white",
           "ticks": "",
           "title": {
            "standoff": 15
           },
           "zerolinecolor": "white",
           "zerolinewidth": 2
          },
          "yaxis": {
           "automargin": true,
           "gridcolor": "white",
           "linecolor": "white",
           "ticks": "",
           "title": {
            "standoff": 15
           },
           "zerolinecolor": "white",
           "zerolinewidth": 2
          }
         }
        },
        "title": {
         "text": "Modelo 6: Regresión Lineal\nAltura vs Pie y Ancho"
        },
        "width": 800
       }
      }
     },
     "metadata": {},
     "output_type": "display_data"
    }
   ],
   "source": [
    "pie_range = np.linspace(X['Pie'].min(), X['Pie'].max(), 50)\n",
    "ancho_range = np.linspace(X['Ancho'].min(), X['Ancho'].max(), 50)\n",
    "pie_grid, ancho_grid = np.meshgrid(pie_range, ancho_range)\n",
    "\n",
    "altura_plane = coef_pie * pie_grid + coef_ancho * ancho_grid + intercept\n",
    "\n",
    "fig_3d = go.Figure()\n",
    "\n",
    "fig_3d.add_trace(go.Scatter3d(\n",
    "    x=X['Pie'],\n",
    "    y=X['Ancho'],\n",
    "    z=y,\n",
    "    mode='markers',\n",
    "    name='Datos reales',\n",
    "    marker=dict(size=4, color='blue', opacity=0.7)\n",
    "))\n",
    "\n",
    "fig_3d.add_trace(go.Surface(\n",
    "    x=pie_range,\n",
    "    y=ancho_range,\n",
    "    z=altura_plane,\n",
    "    name='Plano del modelo',\n",
    "    showscale=False,\n",
    "    opacity=0.6,\n",
    "    colorscale='Viridis'\n",
    "))\n",
    "\n",
    "fig_3d.update_layout(\n",
    "    title='Modelo 6: Regresión Lineal\\nAltura vs Pie y Ancho',\n",
    "    scene=dict(\n",
    "        xaxis_title='Tamaño del Pie (cm)',\n",
    "        yaxis_title='Ancho Corporal (cm)',\n",
    "        zaxis_title='Altura (cm)'\n",
    "    ),\n",
    "    width=800,\n",
    "    height=600\n",
    ")\n",
    "\n",
    "fig_3d.show()\n"
   ]
  },
  {
   "cell_type": "code",
   "execution_count": 66,
   "metadata": {},
   "outputs": [],
   "source": [
    "coef_pie_base = coef_pie\n",
    "coef_ancho_base = coef_ancho\n",
    "intercept_base = intercept\n",
    "\n",
    "pie_range = np.linspace(coef_pie_base - 0.2, coef_pie_base + 0.2, 25)\n",
    "ancho_range = np.linspace(coef_ancho_base - 0.2, coef_ancho_base + 0.2, 25)\n",
    "intercept_range = np.linspace(intercept_base - 5, intercept_base + 5, 25)"
   ]
  },
  {
   "cell_type": "code",
   "execution_count": 67,
   "metadata": {},
   "outputs": [
    {
     "name": "stdout",
     "output_type": "stream",
     "text": [
      "Mejor combinación:\n",
      "Coef Pie: 4.0756\n",
      "Coef Ancho: 0.1958\n",
      "Intercepto: 56.6426\n",
      "R2: 0.9310, RMSE: 2.4358\n"
     ]
    }
   ],
   "source": [
    "best_r2 = -np.inf\n",
    "best_rmse = np.inf\n",
    "best_params = {}\n",
    "\n",
    "for a in pie_range:\n",
    "    for b in ancho_range:\n",
    "        for c in intercept_range:\n",
    "            y_pred = a * X_test_6['Pie'].values + b * X_test_6['Ancho'].values + c\n",
    "            r2 = r2_score(y_test_6, y_pred)\n",
    "            rmse = np.sqrt(mean_squared_error(y_test_6, y_pred))\n",
    "\n",
    "            if r2 > best_r2:\n",
    "                best_r2 = r2\n",
    "                best_rmse = rmse\n",
    "                best_params = {'coef_pie': a, 'coef_ancho': b, 'intercept': c}\n",
    "\n",
    "print(f\"Mejor combinación:\")\n",
    "print(f\"Coef Pie: {best_params['coef_pie']:.4f}\")\n",
    "print(f\"Coef Ancho: {best_params['coef_ancho']:.4f}\")\n",
    "print(f\"Intercepto: {best_params['intercept']:.4f}\")\n",
    "print(f\"R2: {best_r2:.4f}, RMSE: {best_rmse:.4f}\")\n"
   ]
  },
  {
   "cell_type": "code",
   "execution_count": 68,
   "metadata": {},
   "outputs": [
    {
     "data": {
      "application/vnd.plotly.v1+json": {
       "config": {
        "plotlyServerURL": "https://plot.ly"
       },
       "data": [
        {
         "marker": {
          "color": "blue",
          "opacity": 0.7,
          "size": 4
         },
         "mode": "markers",
         "name": "Datos reales",
         "type": "scatter3d",
         "x": {
          "bdata": "AAAAAAAAPEAAAAAAAIA6QAAAAAAAADhAAAAAAACAOEAAAAAAAAA7QAAAAAAAADdAAAAAAAAAPUAAAAAAAAA4QAAAAAAAgDtAAAAAAAAAN0AAAAAAAAA2QAAAAAAAADpAAAAAAAAAPEAAAAAAAIA7QAAAAAAAADhAAAAAAACAOEAAAAAAAAA4QAAAAAAAgDZA",
          "dtype": "f8"
         },
         "y": {
          "bdata": "NywsLC4oMCgxLCg9NzImJyYn",
          "dtype": "i1"
         },
         "z": {
          "bdata": "uQCtAKMAogCsAJ8AuwClAK8AogCbAKgAswCsAJ8ApgCcAJYA",
          "dtype": "i2"
         }
        },
        {
         "colorscale": [
          [
           0,
           "#440154"
          ],
          [
           0.1111111111111111,
           "#482878"
          ],
          [
           0.2222222222222222,
           "#3e4989"
          ],
          [
           0.3333333333333333,
           "#31688e"
          ],
          [
           0.4444444444444444,
           "#26828e"
          ],
          [
           0.5555555555555556,
           "#1f9e89"
          ],
          [
           0.6666666666666666,
           "#35b779"
          ],
          [
           0.7777777777777778,
           "#6ece58"
          ],
          [
           0.8888888888888888,
           "#b5de2b"
          ],
          [
           1,
           "#fde725"
          ]
         ],
         "name": "Plano Ajustado",
         "opacity": 0.6,
         "showscale": false,
         "type": "surface",
         "x": {
          "bdata": "WDSDymNNEEBpRZTbdF4QQHpWpeyFbxBAi2e2/ZaAEECceMcOqJEQQK2J2B+5ohBAvprpMMqzEEDQq/pB28QQQOG8C1Ps1RBA8s0cZP3mEEAD3y11DvgQQBTwPoYfCRFAJQFQlzAaEUA2EmGoQSsRQEcjcrlSPBFAWDSDymNNEUBpRZTbdF4RQHpWpeyFbxFAjGe2/ZaAEUCdeMcOqJERQK6J2B+5ohFAv5rpMMqzEUDQq/pB28QRQOG8C1Ps1RFA8s0cZP3mEUA=",
          "dtype": "f8"
         },
         "y": {
          "bdata": "16pJd3Iiyr+1iCdVUADIv5NmBTMu3sW/cETjEAy8w79OIsHu6ZnBv1kAPpmP776/FLz5VEurur/Qd7UQB2e2v4wzcczCIrK/kN5ZEP28q78IVtGHdDSjvwCbkf7XV5W/oCcCthsbcb9QDiFHlJSJPziYoTRb250/pFTZIjZ2pz8s3WGrvv6vP9oy9ZmjQ7Q/Hnc53ueHuD9iu30iLMy8P9P/YDM4iMA/9SGDVVqqwj8XRKV3fMzEPzlmx5me7sY/XYjpu8AQyT8=",
          "dtype": "f8"
         },
         "z": {
          "bdata": "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",
          "dtype": "f8",
          "shape": "25, 25"
         }
        }
       ],
       "layout": {
        "height": 600,
        "scene": {
         "xaxis": {
          "title": {
           "text": "Pie (cm)"
          }
         },
         "yaxis": {
          "title": {
           "text": "Ancho (cm)"
          }
         },
         "zaxis": {
          "title": {
           "text": "Altura (cm)"
          }
         }
        },
        "template": {
         "data": {
          "bar": [
           {
            "error_x": {
             "color": "#2a3f5f"
            },
            "error_y": {
             "color": "#2a3f5f"
            },
            "marker": {
             "line": {
              "color": "#E5ECF6",
              "width": 0.5
             },
             "pattern": {
              "fillmode": "overlay",
              "size": 10,
              "solidity": 0.2
             }
            },
            "type": "bar"
           }
          ],
          "barpolar": [
           {
            "marker": {
             "line": {
              "color": "#E5ECF6",
              "width": 0.5
             },
             "pattern": {
              "fillmode": "overlay",
              "size": 10,
              "solidity": 0.2
             }
            },
            "type": "barpolar"
           }
          ],
          "carpet": [
           {
            "aaxis": {
             "endlinecolor": "#2a3f5f",
             "gridcolor": "white",
             "linecolor": "white",
             "minorgridcolor": "white",
             "startlinecolor": "#2a3f5f"
            },
            "baxis": {
             "endlinecolor": "#2a3f5f",
             "gridcolor": "white",
             "linecolor": "white",
             "minorgridcolor": "white",
             "startlinecolor": "#2a3f5f"
            },
            "type": "carpet"
           }
          ],
          "choropleth": [
           {
            "colorbar": {
             "outlinewidth": 0,
             "ticks": ""
            },
            "type": "choropleth"
           }
          ],
          "contour": [
           {
            "colorbar": {
             "outlinewidth": 0,
             "ticks": ""
            },
            "colorscale": [
             [
              0,
              "#0d0887"
             ],
             [
              0.1111111111111111,
              "#46039f"
             ],
             [
              0.2222222222222222,
              "#7201a8"
             ],
             [
              0.3333333333333333,
              "#9c179e"
             ],
             [
              0.4444444444444444,
              "#bd3786"
             ],
             [
              0.5555555555555556,
              "#d8576b"
             ],
             [
              0.6666666666666666,
              "#ed7953"
             ],
             [
              0.7777777777777778,
              "#fb9f3a"
             ],
             [
              0.8888888888888888,
              "#fdca26"
             ],
             [
              1,
              "#f0f921"
             ]
            ],
            "type": "contour"
           }
          ],
          "contourcarpet": [
           {
            "colorbar": {
             "outlinewidth": 0,
             "ticks": ""
            },
            "type": "contourcarpet"
           }
          ],
          "heatmap": [
           {
            "colorbar": {
             "outlinewidth": 0,
             "ticks": ""
            },
            "colorscale": [
             [
              0,
              "#0d0887"
             ],
             [
              0.1111111111111111,
              "#46039f"
             ],
             [
              0.2222222222222222,
              "#7201a8"
             ],
             [
              0.3333333333333333,
              "#9c179e"
             ],
             [
              0.4444444444444444,
              "#bd3786"
             ],
             [
              0.5555555555555556,
              "#d8576b"
             ],
             [
              0.6666666666666666,
              "#ed7953"
             ],
             [
              0.7777777777777778,
              "#fb9f3a"
             ],
             [
              0.8888888888888888,
              "#fdca26"
             ],
             [
              1,
              "#f0f921"
             ]
            ],
            "type": "heatmap"
           }
          ],
          "histogram": [
           {
            "marker": {
             "pattern": {
              "fillmode": "overlay",
              "size": 10,
              "solidity": 0.2
             }
            },
            "type": "histogram"
           }
          ],
          "histogram2d": [
           {
            "colorbar": {
             "outlinewidth": 0,
             "ticks": ""
            },
            "colorscale": [
             [
              0,
              "#0d0887"
             ],
             [
              0.1111111111111111,
              "#46039f"
             ],
             [
              0.2222222222222222,
              "#7201a8"
             ],
             [
              0.3333333333333333,
              "#9c179e"
             ],
             [
              0.4444444444444444,
              "#bd3786"
             ],
             [
              0.5555555555555556,
              "#d8576b"
             ],
             [
              0.6666666666666666,
              "#ed7953"
             ],
             [
              0.7777777777777778,
              "#fb9f3a"
             ],
             [
              0.8888888888888888,
              "#fdca26"
             ],
             [
              1,
              "#f0f921"
             ]
            ],
            "type": "histogram2d"
           }
          ],
          "histogram2dcontour": [
           {
            "colorbar": {
             "outlinewidth": 0,
             "ticks": ""
            },
            "colorscale": [
             [
              0,
              "#0d0887"
             ],
             [
              0.1111111111111111,
              "#46039f"
             ],
             [
              0.2222222222222222,
              "#7201a8"
             ],
             [
              0.3333333333333333,
              "#9c179e"
             ],
             [
              0.4444444444444444,
              "#bd3786"
             ],
             [
              0.5555555555555556,
              "#d8576b"
             ],
             [
              0.6666666666666666,
              "#ed7953"
             ],
             [
              0.7777777777777778,
              "#fb9f3a"
             ],
             [
              0.8888888888888888,
              "#fdca26"
             ],
             [
              1,
              "#f0f921"
             ]
            ],
            "type": "histogram2dcontour"
           }
          ],
          "mesh3d": [
           {
            "colorbar": {
             "outlinewidth": 0,
             "ticks": ""
            },
            "type": "mesh3d"
           }
          ],
          "parcoords": [
           {
            "line": {
             "colorbar": {
              "outlinewidth": 0,
              "ticks": ""
             }
            },
            "type": "parcoords"
           }
          ],
          "pie": [
           {
            "automargin": true,
            "type": "pie"
           }
          ],
          "scatter": [
           {
            "fillpattern": {
             "fillmode": "overlay",
             "size": 10,
             "solidity": 0.2
            },
            "type": "scatter"
           }
          ],
          "scatter3d": [
           {
            "line": {
             "colorbar": {
              "outlinewidth": 0,
              "ticks": ""
             }
            },
            "marker": {
             "colorbar": {
              "outlinewidth": 0,
              "ticks": ""
             }
            },
            "type": "scatter3d"
           }
          ],
          "scattercarpet": [
           {
            "marker": {
             "colorbar": {
              "outlinewidth": 0,
              "ticks": ""
             }
            },
            "type": "scattercarpet"
           }
          ],
          "scattergeo": [
           {
            "marker": {
             "colorbar": {
              "outlinewidth": 0,
              "ticks": ""
             }
            },
            "type": "scattergeo"
           }
          ],
          "scattergl": [
           {
            "marker": {
             "colorbar": {
              "outlinewidth": 0,
              "ticks": ""
             }
            },
            "type": "scattergl"
           }
          ],
          "scattermap": [
           {
            "marker": {
             "colorbar": {
              "outlinewidth": 0,
              "ticks": ""
             }
            },
            "type": "scattermap"
           }
          ],
          "scattermapbox": [
           {
            "marker": {
             "colorbar": {
              "outlinewidth": 0,
              "ticks": ""
             }
            },
            "type": "scattermapbox"
           }
          ],
          "scatterpolar": [
           {
            "marker": {
             "colorbar": {
              "outlinewidth": 0,
              "ticks": ""
             }
            },
            "type": "scatterpolar"
           }
          ],
          "scatterpolargl": [
           {
            "marker": {
             "colorbar": {
              "outlinewidth": 0,
              "ticks": ""
             }
            },
            "type": "scatterpolargl"
           }
          ],
          "scatterternary": [
           {
            "marker": {
             "colorbar": {
              "outlinewidth": 0,
              "ticks": ""
             }
            },
            "type": "scatterternary"
           }
          ],
          "surface": [
           {
            "colorbar": {
             "outlinewidth": 0,
             "ticks": ""
            },
            "colorscale": [
             [
              0,
              "#0d0887"
             ],
             [
              0.1111111111111111,
              "#46039f"
             ],
             [
              0.2222222222222222,
              "#7201a8"
             ],
             [
              0.3333333333333333,
              "#9c179e"
             ],
             [
              0.4444444444444444,
              "#bd3786"
             ],
             [
              0.5555555555555556,
              "#d8576b"
             ],
             [
              0.6666666666666666,
              "#ed7953"
             ],
             [
              0.7777777777777778,
              "#fb9f3a"
             ],
             [
              0.8888888888888888,
              "#fdca26"
             ],
             [
              1,
              "#f0f921"
             ]
            ],
            "type": "surface"
           }
          ],
          "table": [
           {
            "cells": {
             "fill": {
              "color": "#EBF0F8"
             },
             "line": {
              "color": "white"
             }
            },
            "header": {
             "fill": {
              "color": "#C8D4E3"
             },
             "line": {
              "color": "white"
             }
            },
            "type": "table"
           }
          ]
         },
         "layout": {
          "annotationdefaults": {
           "arrowcolor": "#2a3f5f",
           "arrowhead": 0,
           "arrowwidth": 1
          },
          "autotypenumbers": "strict",
          "coloraxis": {
           "colorbar": {
            "outlinewidth": 0,
            "ticks": ""
           }
          },
          "colorscale": {
           "diverging": [
            [
             0,
             "#8e0152"
            ],
            [
             0.1,
             "#c51b7d"
            ],
            [
             0.2,
             "#de77ae"
            ],
            [
             0.3,
             "#f1b6da"
            ],
            [
             0.4,
             "#fde0ef"
            ],
            [
             0.5,
             "#f7f7f7"
            ],
            [
             0.6,
             "#e6f5d0"
            ],
            [
             0.7,
             "#b8e186"
            ],
            [
             0.8,
             "#7fbc41"
            ],
            [
             0.9,
             "#4d9221"
            ],
            [
             1,
             "#276419"
            ]
           ],
           "sequential": [
            [
             0,
             "#0d0887"
            ],
            [
             0.1111111111111111,
             "#46039f"
            ],
            [
             0.2222222222222222,
             "#7201a8"
            ],
            [
             0.3333333333333333,
             "#9c179e"
            ],
            [
             0.4444444444444444,
             "#bd3786"
            ],
            [
             0.5555555555555556,
             "#d8576b"
            ],
            [
             0.6666666666666666,
             "#ed7953"
            ],
            [
             0.7777777777777778,
             "#fb9f3a"
            ],
            [
             0.8888888888888888,
             "#fdca26"
            ],
            [
             1,
             "#f0f921"
            ]
           ],
           "sequentialminus": [
            [
             0,
             "#0d0887"
            ],
            [
             0.1111111111111111,
             "#46039f"
            ],
            [
             0.2222222222222222,
             "#7201a8"
            ],
            [
             0.3333333333333333,
             "#9c179e"
            ],
            [
             0.4444444444444444,
             "#bd3786"
            ],
            [
             0.5555555555555556,
             "#d8576b"
            ],
            [
             0.6666666666666666,
             "#ed7953"
            ],
            [
             0.7777777777777778,
             "#fb9f3a"
            ],
            [
             0.8888888888888888,
             "#fdca26"
            ],
            [
             1,
             "#f0f921"
            ]
           ]
          },
          "colorway": [
           "#636efa",
           "#EF553B",
           "#00cc96",
           "#ab63fa",
           "#FFA15A",
           "#19d3f3",
           "#FF6692",
           "#B6E880",
           "#FF97FF",
           "#FECB52"
          ],
          "font": {
           "color": "#2a3f5f"
          },
          "geo": {
           "bgcolor": "white",
           "lakecolor": "white",
           "landcolor": "#E5ECF6",
           "showlakes": true,
           "showland": true,
           "subunitcolor": "white"
          },
          "hoverlabel": {
           "align": "left"
          },
          "hovermode": "closest",
          "mapbox": {
           "style": "light"
          },
          "paper_bgcolor": "white",
          "plot_bgcolor": "#E5ECF6",
          "polar": {
           "angularaxis": {
            "gridcolor": "white",
            "linecolor": "white",
            "ticks": ""
           },
           "bgcolor": "#E5ECF6",
           "radialaxis": {
            "gridcolor": "white",
            "linecolor": "white",
            "ticks": ""
           }
          },
          "scene": {
           "xaxis": {
            "backgroundcolor": "#E5ECF6",
            "gridcolor": "white",
            "gridwidth": 2,
            "linecolor": "white",
            "showbackground": true,
            "ticks": "",
            "zerolinecolor": "white"
           },
           "yaxis": {
            "backgroundcolor": "#E5ECF6",
            "gridcolor": "white",
            "gridwidth": 2,
            "linecolor": "white",
            "showbackground": true,
            "ticks": "",
            "zerolinecolor": "white"
           },
           "zaxis": {
            "backgroundcolor": "#E5ECF6",
            "gridcolor": "white",
            "gridwidth": 2,
            "linecolor": "white",
            "showbackground": true,
            "ticks": "",
            "zerolinecolor": "white"
           }
          },
          "shapedefaults": {
           "line": {
            "color": "#2a3f5f"
           }
          },
          "ternary": {
           "aaxis": {
            "gridcolor": "white",
            "linecolor": "white",
            "ticks": ""
           },
           "baxis": {
            "gridcolor": "white",
            "linecolor": "white",
            "ticks": ""
           },
           "bgcolor": "#E5ECF6",
           "caxis": {
            "gridcolor": "white",
            "linecolor": "white",
            "ticks": ""
           }
          },
          "title": {
           "x": 0.05
          },
          "xaxis": {
           "automargin": true,
           "gridcolor": "white",
           "linecolor": "white",
           "ticks": "",
           "title": {
            "standoff": 15
           },
           "zerolinecolor": "white",
           "zerolinewidth": 2
          },
          "yaxis": {
           "automargin": true,
           "gridcolor": "white",
           "linecolor": "white",
           "ticks": "",
           "title": {
            "standoff": 15
           },
           "zerolinecolor": "white",
           "zerolinewidth": 2
          }
         }
        },
        "title": {
         "text": "Plano ajustado manualmente (GridSearch coef_pie, coef_ancho, intercept)"
        },
        "width": 800
       }
      }
     },
     "metadata": {},
     "output_type": "display_data"
    }
   ],
   "source": [
    "pie_grid, ancho_grid = np.meshgrid(pie_range, ancho_range)\n",
    "\n",
    "altura_best_plane = (\n",
    "    best_params['coef_pie'] * pie_grid +\n",
    "    best_params['coef_ancho'] * ancho_grid +\n",
    "    best_params['intercept']\n",
    ")\n",
    "\n",
    "fig_best3d = go.Figure()\n",
    "\n",
    "fig_best3d.add_trace(go.Scatter3d(\n",
    "    x=X['Pie'], y=X['Ancho'], z=y,\n",
    "    mode='markers',\n",
    "    name='Datos reales',\n",
    "    marker=dict(size=4, color='blue', opacity=0.7)\n",
    "))\n",
    "\n",
    "fig_best3d.add_trace(go.Surface(\n",
    "    x=pie_range,\n",
    "    y=ancho_range,\n",
    "    z=altura_best_plane,\n",
    "    name='Plano Ajustado',\n",
    "    opacity=0.6,\n",
    "    colorscale='Viridis',\n",
    "    showscale=False\n",
    "))\n",
    "\n",
    "fig_best3d.update_layout(\n",
    "    title='Plano ajustado manualmente (GridSearch coef_pie, coef_ancho, intercept)',\n",
    "    scene=dict(\n",
    "        xaxis_title='Pie (cm)',\n",
    "        yaxis_title='Ancho (cm)',\n",
    "        zaxis_title='Altura (cm)'\n",
    "    ),\n",
    "    width=800,\n",
    "    height=600\n",
    ")\n",
    "\n",
    "fig_best3d.show()"
   ]
  },
  {
   "cell_type": "code",
   "execution_count": 69,
   "metadata": {},
   "outputs": [],
   "source": [
    "def predecir_altura_pie_ancho(pie_input, ancho_input):\n",
    "    altura = (best_params['coef_pie'] * pie_input +\n",
    "              best_params['coef_ancho'] * ancho_input +\n",
    "              best_params['intercept'])\n",
    "    return f\"Altura estimada: {altura:.2f} cm\"\n",
    "\n",
    "interface_modelo_6 = gr.Interface(\n",
    "    fn=predecir_altura_pie_ancho,\n",
    "    inputs=[\n",
    "        gr.Number(label=\"Tamaño del Pie (cm)\"),\n",
    "        gr.Number(label=\"Ancho de Espalda (cm)\")\n",
    "    ],\n",
    "    outputs=gr.Textbox(label=\"Predicción de Altura\"),\n",
    "    title=\"Modelo 6 - Altura según Pie y Ancho\",\n",
    "    description=\"Ingresa el tamaño del pie y el ancho corporal para predecir la altura usando un plano optimizado.\"\n",
    ")\n"
   ]
  },
  {
   "cell_type": "code",
   "execution_count": 70,
   "metadata": {},
   "outputs": [],
   "source": [
    "def predecir_altura_pie_ancho(pie_input, ancho_input):\n",
    "    altura = (best_params['coef_pie'] * pie_input +\n",
    "              best_params['coef_ancho'] * ancho_input +\n",
    "              best_params['intercept'])\n",
    "    return f\"Altura estimada: {altura:.2f} cm\"\n",
    "\n",
    "interface_modelo_6 = gr.Interface(\n",
    "    fn=predecir_altura_pie_ancho,\n",
    "    inputs=[\n",
    "        gr.Number(label=\"Tamaño del Pie (cm)\"),\n",
    "        gr.Number(label=\"Ancho de Espalda (cm)\")\n",
    "    ],\n",
    "    outputs=gr.Textbox(label=\"Predicción de Altura\"),\n",
    "    title=\"Modelo 6 - Altura según Pie y Ancho\",\n",
    "    description=\"Ingresa el tamaño del pie y el ancho corporal para predecir la altura usando un plano optimizado.\"\n",
    ")\n"
   ]
  },
  {
   "cell_type": "markdown",
   "metadata": {},
   "source": [
    "## **Interfaz**"
   ]
  },
  {
   "cell_type": "code",
   "execution_count": 71,
   "metadata": {},
   "outputs": [
    {
     "name": "stdout",
     "output_type": "stream",
     "text": [
      "* Running on local URL:  http://127.0.0.1:7860\n",
      "\n",
      "To create a public link, set `share=True` in `launch()`.\n"
     ]
    },
    {
     "data": {
      "text/html": [
       "<div><iframe src=\"http://127.0.0.1:7860/\" width=\"100%\" height=\"500\" allow=\"autoplay; camera; microphone; clipboard-read; clipboard-write;\" frameborder=\"0\" allowfullscreen></iframe></div>"
      ],
      "text/plain": [
       "<IPython.core.display.HTML object>"
      ]
     },
     "metadata": {},
     "output_type": "display_data"
    },
    {
     "data": {
      "text/plain": []
     },
     "execution_count": 71,
     "metadata": {},
     "output_type": "execute_result"
    }
   ],
   "source": [
    "gr.TabbedInterface(\n",
    "    [interface_modelo_5, interface_modelo_6],\n",
    "    [\"Modelo 5\", \"Modelo 6\"]\n",
    ").launch()\n"
   ]
  },
  {
   "cell_type": "markdown",
   "metadata": {},
   "source": [
    "# Datos Países Bajos\n",
    "\n",
    "En este link (https://www.firstinarchitecture.co.uk/metric-data-01-average-dimensions-of-person-standing/) se encontró que, en los Países Bajos, los hombres tienen un ancho de espalda de approx. 46 cm y las mujeres de 40.5 cm. Para hombres, su tamaño de pie es 28.5 cm en promedio, y para mujeres es de 24 cm. Estos datos se usaron para crear datos sintéticos."
   ]
  },
  {
   "cell_type": "code",
   "execution_count": 257,
   "metadata": {},
   "outputs": [
    {
     "data": {
      "application/vnd.microsoft.datawrangler.viewer.v0+json": {
       "columns": [
        {
         "name": "index",
         "rawType": "int64",
         "type": "integer"
        },
        {
         "name": "Altura",
         "rawType": "float64",
         "type": "float"
        },
        {
         "name": "Ancho",
         "rawType": "float64",
         "type": "float"
        },
        {
         "name": "Pie",
         "rawType": "float64",
         "type": "float"
        }
       ],
       "conversionMethod": "pd.DataFrame",
       "ref": "e706d1ff-fd9a-474a-8185-b8b4e3d9f1fb",
       "rows": [
        [
         "0",
         "183.62854812458352",
         "46.043179444627505",
         "28.790037407564053"
        ],
        [
         "1",
         "182.6570122384147",
         "46.06942565074915",
         "28.413152849886668"
        ],
        [
         "2",
         "170.0199513503268",
         "40.906582535746736",
         "24.70900199608083"
        ],
        [
         "3",
         "184.02876785389918",
         "46.1592750697848",
         "27.261316515664916"
        ],
        [
         "4",
         "183.7500655920636",
         "47.67523312483005",
         "27.865330623134792"
        ],
        [
         "5",
         "168.66484479709746",
         "41.84043497479038",
         "24.744882098237948"
        ],
        [
         "6",
         "168.93032960696067",
         "41.31585827515375",
         "22.286822983770463"
        ],
        [
         "7",
         "183.71483377867676",
         "46.270484456051015",
         "28.529942218731396"
        ],
        [
         "8",
         "171.5925908955136",
         "40.52915925889262",
         "23.258867485490526"
        ],
        [
         "9",
         "170.52192265895982",
         "40.64973092630527",
         "24.270564974627337"
        ],
        [
         "10",
         "182.18234393859242",
         "45.91255336186838",
         "29.102279689473995"
        ],
        [
         "11",
         "169.71964024802222",
         "40.746610941259554",
         "24.24613802601479"
        ],
        [
         "12",
         "168.84834376176",
         "39.83484158983874",
         "23.001509709958686"
        ],
        [
         "13",
         "183.53548351618358",
         "46.558352906616335",
         "30.574575382801395"
        ],
        [
         "14",
         "184.1318584958817",
         "47.04215394901134",
         "28.11526987483748"
        ],
        [
         "15",
         "168.97901466441755",
         "39.801591279856375",
         "22.54604677901899"
        ],
        [
         "16",
         "168.1850306230497",
         "37.92731354287062",
         "25.969985779327256"
        ],
        [
         "17",
         "170.89329922494125",
         "40.486848474764734",
         "24.71855047855806"
        ],
        [
         "18",
         "171.7370945057485",
         "40.72631303901101",
         "23.922295241093618"
        ],
        [
         "19",
         "184.02302760412775",
         "47.02003436177046",
         "27.68141642654669"
        ],
        [
         "20",
         "170.07166603255428",
         "40.94173702598523",
         "24.07149798058442"
        ],
        [
         "21",
         "182.13340952579318",
         "44.42515616690349",
         "27.66830162194112"
        ],
        [
         "22",
         "171.1482370780511",
         "40.93862859913327",
         "25.089875829447305"
        ],
        [
         "23",
         "169.29466661560514",
         "40.35880353359355",
         "24.474514391654814"
        ],
        [
         "24",
         "170.16409019665883",
         "41.21758233661861",
         "24.92536615599007"
        ],
        [
         "25",
         "170.50451717393",
         "40.95892616983146",
         "23.526466310955044"
        ],
        [
         "26",
         "184.01345190364702",
         "48.30744170079707",
         "28.09386436926855"
        ],
        [
         "27",
         "171.1065573540397",
         "41.90529548251434",
         "23.239924452696812"
        ],
        [
         "28",
         "170.90505032741547",
         "39.31131526838765",
         "22.648603709527308"
        ],
        [
         "29",
         "183.8862176244799",
         "47.4981529311007",
         "28.615453511963437"
        ],
        [
         "30",
         "183.84666341599385",
         "47.45601420470346",
         "26.97216845416575"
        ],
        [
         "31",
         "183.9866900947416",
         "44.26438455210692",
         "28.096327649744644"
        ],
        [
         "32",
         "171.25432203816374",
         "41.94931422553948",
         "23.025830062971668"
        ],
        [
         "33",
         "169.1228919788127",
         "39.59330547778203",
         "23.463720637106277"
        ],
        [
         "34",
         "181.35368670180213",
         "45.38990933428606",
         "27.655826292641674"
        ],
        [
         "35",
         "169.81462899272492",
         "41.03652950542285",
         "23.38271939718127"
        ],
        [
         "36",
         "168.02925303969977",
         "41.24183761965746",
         "26.46551396464934"
        ],
        [
         "37",
         "169.02843972982288",
         "40.55232530450948",
         "23.208441594651166"
        ],
        [
         "38",
         "167.6855793567635",
         "41.12315928047433",
         "23.635237314925668"
        ],
        [
         "39",
         "171.16193834810812",
         "40.101911591133835",
         "22.94892807754706"
        ],
        [
         "40",
         "169.51143661586124",
         "40.25574890524344",
         "23.878192843267726"
        ],
        [
         "41",
         "169.46819485741847",
         "39.405854883607354",
         "23.91415885360601"
        ],
        [
         "42",
         "181.7637148737446",
         "45.53108742916224",
         "25.274928762835728"
        ],
        [
         "43",
         "169.82483471023355",
         "39.453329220680025",
         "23.645051991919363"
        ],
        [
         "44",
         "170.4098531919177",
         "41.091479516853404",
         "24.551883277966347"
        ],
        [
         "45",
         "180.70094490089005",
         "45.76793528016703",
         "28.316480246960463"
        ],
        [
         "46",
         "169.85523089275782",
         "42.422349177832054",
         "23.96499141638358"
        ],
        [
         "47",
         "169.05128985945316",
         "42.12930192246816",
         "23.528659359374114"
        ],
        [
         "48",
         "170.74768475497896",
         "43.34299844242758",
         "25.226692377162777"
        ],
        [
         "49",
         "170.80738060809952",
         "39.92576033807374",
         "22.82980620875091"
        ]
       ],
       "shape": {
        "columns": 3,
        "rows": 1000
       }
      },
      "text/html": [
       "<div>\n",
       "<style scoped>\n",
       "    .dataframe tbody tr th:only-of-type {\n",
       "        vertical-align: middle;\n",
       "    }\n",
       "\n",
       "    .dataframe tbody tr th {\n",
       "        vertical-align: top;\n",
       "    }\n",
       "\n",
       "    .dataframe thead th {\n",
       "        text-align: right;\n",
       "    }\n",
       "</style>\n",
       "<table border=\"1\" class=\"dataframe\">\n",
       "  <thead>\n",
       "    <tr style=\"text-align: right;\">\n",
       "      <th></th>\n",
       "      <th>Altura</th>\n",
       "      <th>Ancho</th>\n",
       "      <th>Pie</th>\n",
       "    </tr>\n",
       "  </thead>\n",
       "  <tbody>\n",
       "    <tr>\n",
       "      <th>0</th>\n",
       "      <td>183.628548</td>\n",
       "      <td>46.043179</td>\n",
       "      <td>28.790037</td>\n",
       "    </tr>\n",
       "    <tr>\n",
       "      <th>1</th>\n",
       "      <td>182.657012</td>\n",
       "      <td>46.069426</td>\n",
       "      <td>28.413153</td>\n",
       "    </tr>\n",
       "    <tr>\n",
       "      <th>2</th>\n",
       "      <td>170.019951</td>\n",
       "      <td>40.906583</td>\n",
       "      <td>24.709002</td>\n",
       "    </tr>\n",
       "    <tr>\n",
       "      <th>3</th>\n",
       "      <td>184.028768</td>\n",
       "      <td>46.159275</td>\n",
       "      <td>27.261317</td>\n",
       "    </tr>\n",
       "    <tr>\n",
       "      <th>4</th>\n",
       "      <td>183.750066</td>\n",
       "      <td>47.675233</td>\n",
       "      <td>27.865331</td>\n",
       "    </tr>\n",
       "    <tr>\n",
       "      <th>...</th>\n",
       "      <td>...</td>\n",
       "      <td>...</td>\n",
       "      <td>...</td>\n",
       "    </tr>\n",
       "    <tr>\n",
       "      <th>995</th>\n",
       "      <td>182.317822</td>\n",
       "      <td>45.364209</td>\n",
       "      <td>27.560687</td>\n",
       "    </tr>\n",
       "    <tr>\n",
       "      <th>996</th>\n",
       "      <td>182.802247</td>\n",
       "      <td>46.571614</td>\n",
       "      <td>27.521555</td>\n",
       "    </tr>\n",
       "    <tr>\n",
       "      <th>997</th>\n",
       "      <td>170.699386</td>\n",
       "      <td>39.867865</td>\n",
       "      <td>22.642808</td>\n",
       "    </tr>\n",
       "    <tr>\n",
       "      <th>998</th>\n",
       "      <td>183.910817</td>\n",
       "      <td>46.382214</td>\n",
       "      <td>27.310814</td>\n",
       "    </tr>\n",
       "    <tr>\n",
       "      <th>999</th>\n",
       "      <td>183.491739</td>\n",
       "      <td>47.224449</td>\n",
       "      <td>29.360214</td>\n",
       "    </tr>\n",
       "  </tbody>\n",
       "</table>\n",
       "<p>1000 rows × 3 columns</p>\n",
       "</div>"
      ],
      "text/plain": [
       "         Altura      Ancho        Pie\n",
       "0    183.628548  46.043179  28.790037\n",
       "1    182.657012  46.069426  28.413153\n",
       "2    170.019951  40.906583  24.709002\n",
       "3    184.028768  46.159275  27.261317\n",
       "4    183.750066  47.675233  27.865331\n",
       "..          ...        ...        ...\n",
       "995  182.317822  45.364209  27.560687\n",
       "996  182.802247  46.571614  27.521555\n",
       "997  170.699386  39.867865  22.642808\n",
       "998  183.910817  46.382214  27.310814\n",
       "999  183.491739  47.224449  29.360214\n",
       "\n",
       "[1000 rows x 3 columns]"
      ]
     },
     "execution_count": 257,
     "metadata": {},
     "output_type": "execute_result"
    }
   ],
   "source": [
    "pb_altura_h = np.random.normal(183, scale=1.25, size=500)\n",
    "pb_altura_m = np.random.normal(170, scale=1.25, size=500)\n",
    "pb_ancho_h = np.random.normal(46, scale=1.25, size=500)\n",
    "pb_ancho_m = np.random.normal(40.5, scale=1.25, size=500)\n",
    "pb_pie_h = np.random.normal(28.5, scale=1.25, size=500)\n",
    "pb_pie_m = np.random.normal(24, scale=1.25, size=500)\n",
    "pb_altura = np.concat((pb_altura_h,pb_altura_m))\n",
    "pb_ancho = np.concat((pb_ancho_h, pb_ancho_m))\n",
    "pb_pie = np.concat((pb_pie_h, pb_pie_m))\n",
    "df_pb = pd.DataFrame(data = {\n",
    "    'Altura': pb_altura,\n",
    "    'Ancho': pb_ancho,\n",
    "    'Pie': pb_pie\n",
    "})\n",
    "df_pb = df_pb.sample(n=len(df_pb))\n",
    "df_pb = df_pb.reset_index(drop=True)\n",
    "df_pb\n"
   ]
  },
  {
   "cell_type": "code",
   "execution_count": 258,
   "metadata": {},
   "outputs": [
    {
     "data": {
      "application/vnd.plotly.v1+json": {
       "config": {
        "plotlyServerURL": "https://plot.ly"
       },
       "data": [
        {
         "hovertemplate": "Altura (cm)=%{x}<br>Ancho (cm)=%{y}<extra></extra>",
         "legendgroup": "",
         "marker": {
          "color": "blue",
          "symbol": "circle"
         },
         "mode": "markers",
         "name": "",
         "orientation": "v",
         "showlegend": false,
         "type": "scatter",
         "x": {
          "bdata": "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",
          "dtype": "f8"
         },
         "xaxis": "x",
         "y": {
          "bdata": "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",
          "dtype": "f8"
         },
         "yaxis": "y"
        }
       ],
       "layout": {
        "legend": {
         "tracegroupgap": 0
        },
        "template": {
         "data": {
          "bar": [
           {
            "error_x": {
             "color": "#2a3f5f"
            },
            "error_y": {
             "color": "#2a3f5f"
            },
            "marker": {
             "line": {
              "color": "#E5ECF6",
              "width": 0.5
             },
             "pattern": {
              "fillmode": "overlay",
              "size": 10,
              "solidity": 0.2
             }
            },
            "type": "bar"
           }
          ],
          "barpolar": [
           {
            "marker": {
             "line": {
              "color": "#E5ECF6",
              "width": 0.5
             },
             "pattern": {
              "fillmode": "overlay",
              "size": 10,
              "solidity": 0.2
             }
            },
            "type": "barpolar"
           }
          ],
          "carpet": [
           {
            "aaxis": {
             "endlinecolor": "#2a3f5f",
             "gridcolor": "white",
             "linecolor": "white",
             "minorgridcolor": "white",
             "startlinecolor": "#2a3f5f"
            },
            "baxis": {
             "endlinecolor": "#2a3f5f",
             "gridcolor": "white",
             "linecolor": "white",
             "minorgridcolor": "white",
             "startlinecolor": "#2a3f5f"
            },
            "type": "carpet"
           }
          ],
          "choropleth": [
           {
            "colorbar": {
             "outlinewidth": 0,
             "ticks": ""
            },
            "type": "choropleth"
           }
          ],
          "contour": [
           {
            "colorbar": {
             "outlinewidth": 0,
             "ticks": ""
            },
            "colorscale": [
             [
              0,
              "#0d0887"
             ],
             [
              0.1111111111111111,
              "#46039f"
             ],
             [
              0.2222222222222222,
              "#7201a8"
             ],
             [
              0.3333333333333333,
              "#9c179e"
             ],
             [
              0.4444444444444444,
              "#bd3786"
             ],
             [
              0.5555555555555556,
              "#d8576b"
             ],
             [
              0.6666666666666666,
              "#ed7953"
             ],
             [
              0.7777777777777778,
              "#fb9f3a"
             ],
             [
              0.8888888888888888,
              "#fdca26"
             ],
             [
              1,
              "#f0f921"
             ]
            ],
            "type": "contour"
           }
          ],
          "contourcarpet": [
           {
            "colorbar": {
             "outlinewidth": 0,
             "ticks": ""
            },
            "type": "contourcarpet"
           }
          ],
          "heatmap": [
           {
            "colorbar": {
             "outlinewidth": 0,
             "ticks": ""
            },
            "colorscale": [
             [
              0,
              "#0d0887"
             ],
             [
              0.1111111111111111,
              "#46039f"
             ],
             [
              0.2222222222222222,
              "#7201a8"
             ],
             [
              0.3333333333333333,
              "#9c179e"
             ],
             [
              0.4444444444444444,
              "#bd3786"
             ],
             [
              0.5555555555555556,
              "#d8576b"
             ],
             [
              0.6666666666666666,
              "#ed7953"
             ],
             [
              0.7777777777777778,
              "#fb9f3a"
             ],
             [
              0.8888888888888888,
              "#fdca26"
             ],
             [
              1,
              "#f0f921"
             ]
            ],
            "type": "heatmap"
           }
          ],
          "histogram": [
           {
            "marker": {
             "pattern": {
              "fillmode": "overlay",
              "size": 10,
              "solidity": 0.2
             }
            },
            "type": "histogram"
           }
          ],
          "histogram2d": [
           {
            "colorbar": {
             "outlinewidth": 0,
             "ticks": ""
            },
            "colorscale": [
             [
              0,
              "#0d0887"
             ],
             [
              0.1111111111111111,
              "#46039f"
             ],
             [
              0.2222222222222222,
              "#7201a8"
             ],
             [
              0.3333333333333333,
              "#9c179e"
             ],
             [
              0.4444444444444444,
              "#bd3786"
             ],
             [
              0.5555555555555556,
              "#d8576b"
             ],
             [
              0.6666666666666666,
              "#ed7953"
             ],
             [
              0.7777777777777778,
              "#fb9f3a"
             ],
             [
              0.8888888888888888,
              "#fdca26"
             ],
             [
              1,
              "#f0f921"
             ]
            ],
            "type": "histogram2d"
           }
          ],
          "histogram2dcontour": [
           {
            "colorbar": {
             "outlinewidth": 0,
             "ticks": ""
            },
            "colorscale": [
             [
              0,
              "#0d0887"
             ],
             [
              0.1111111111111111,
              "#46039f"
             ],
             [
              0.2222222222222222,
              "#7201a8"
             ],
             [
              0.3333333333333333,
              "#9c179e"
             ],
             [
              0.4444444444444444,
              "#bd3786"
             ],
             [
              0.5555555555555556,
              "#d8576b"
             ],
             [
              0.6666666666666666,
              "#ed7953"
             ],
             [
              0.7777777777777778,
              "#fb9f3a"
             ],
             [
              0.8888888888888888,
              "#fdca26"
             ],
             [
              1,
              "#f0f921"
             ]
            ],
            "type": "histogram2dcontour"
           }
          ],
          "mesh3d": [
           {
            "colorbar": {
             "outlinewidth": 0,
             "ticks": ""
            },
            "type": "mesh3d"
           }
          ],
          "parcoords": [
           {
            "line": {
             "colorbar": {
              "outlinewidth": 0,
              "ticks": ""
             }
            },
            "type": "parcoords"
           }
          ],
          "pie": [
           {
            "automargin": true,
            "type": "pie"
           }
          ],
          "scatter": [
           {
            "fillpattern": {
             "fillmode": "overlay",
             "size": 10,
             "solidity": 0.2
            },
            "type": "scatter"
           }
          ],
          "scatter3d": [
           {
            "line": {
             "colorbar": {
              "outlinewidth": 0,
              "ticks": ""
             }
            },
            "marker": {
             "colorbar": {
              "outlinewidth": 0,
              "ticks": ""
             }
            },
            "type": "scatter3d"
           }
          ],
          "scattercarpet": [
           {
            "marker": {
             "colorbar": {
              "outlinewidth": 0,
              "ticks": ""
             }
            },
            "type": "scattercarpet"
           }
          ],
          "scattergeo": [
           {
            "marker": {
             "colorbar": {
              "outlinewidth": 0,
              "ticks": ""
             }
            },
            "type": "scattergeo"
           }
          ],
          "scattergl": [
           {
            "marker": {
             "colorbar": {
              "outlinewidth": 0,
              "ticks": ""
             }
            },
            "type": "scattergl"
           }
          ],
          "scattermap": [
           {
            "marker": {
             "colorbar": {
              "outlinewidth": 0,
              "ticks": ""
             }
            },
            "type": "scattermap"
           }
          ],
          "scattermapbox": [
           {
            "marker": {
             "colorbar": {
              "outlinewidth": 0,
              "ticks": ""
             }
            },
            "type": "scattermapbox"
           }
          ],
          "scatterpolar": [
           {
            "marker": {
             "colorbar": {
              "outlinewidth": 0,
              "ticks": ""
             }
            },
            "type": "scatterpolar"
           }
          ],
          "scatterpolargl": [
           {
            "marker": {
             "colorbar": {
              "outlinewidth": 0,
              "ticks": ""
             }
            },
            "type": "scatterpolargl"
           }
          ],
          "scatterternary": [
           {
            "marker": {
             "colorbar": {
              "outlinewidth": 0,
              "ticks": ""
             }
            },
            "type": "scatterternary"
           }
          ],
          "surface": [
           {
            "colorbar": {
             "outlinewidth": 0,
             "ticks": ""
            },
            "colorscale": [
             [
              0,
              "#0d0887"
             ],
             [
              0.1111111111111111,
              "#46039f"
             ],
             [
              0.2222222222222222,
              "#7201a8"
             ],
             [
              0.3333333333333333,
              "#9c179e"
             ],
             [
              0.4444444444444444,
              "#bd3786"
             ],
             [
              0.5555555555555556,
              "#d8576b"
             ],
             [
              0.6666666666666666,
              "#ed7953"
             ],
             [
              0.7777777777777778,
              "#fb9f3a"
             ],
             [
              0.8888888888888888,
              "#fdca26"
             ],
             [
              1,
              "#f0f921"
             ]
            ],
            "type": "surface"
           }
          ],
          "table": [
           {
            "cells": {
             "fill": {
              "color": "#EBF0F8"
             },
             "line": {
              "color": "white"
             }
            },
            "header": {
             "fill": {
              "color": "#C8D4E3"
             },
             "line": {
              "color": "white"
             }
            },
            "type": "table"
           }
          ]
         },
         "layout": {
          "annotationdefaults": {
           "arrowcolor": "#2a3f5f",
           "arrowhead": 0,
           "arrowwidth": 1
          },
          "autotypenumbers": "strict",
          "coloraxis": {
           "colorbar": {
            "outlinewidth": 0,
            "ticks": ""
           }
          },
          "colorscale": {
           "diverging": [
            [
             0,
             "#8e0152"
            ],
            [
             0.1,
             "#c51b7d"
            ],
            [
             0.2,
             "#de77ae"
            ],
            [
             0.3,
             "#f1b6da"
            ],
            [
             0.4,
             "#fde0ef"
            ],
            [
             0.5,
             "#f7f7f7"
            ],
            [
             0.6,
             "#e6f5d0"
            ],
            [
             0.7,
             "#b8e186"
            ],
            [
             0.8,
             "#7fbc41"
            ],
            [
             0.9,
             "#4d9221"
            ],
            [
             1,
             "#276419"
            ]
           ],
           "sequential": [
            [
             0,
             "#0d0887"
            ],
            [
             0.1111111111111111,
             "#46039f"
            ],
            [
             0.2222222222222222,
             "#7201a8"
            ],
            [
             0.3333333333333333,
             "#9c179e"
            ],
            [
             0.4444444444444444,
             "#bd3786"
            ],
            [
             0.5555555555555556,
             "#d8576b"
            ],
            [
             0.6666666666666666,
             "#ed7953"
            ],
            [
             0.7777777777777778,
             "#fb9f3a"
            ],
            [
             0.8888888888888888,
             "#fdca26"
            ],
            [
             1,
             "#f0f921"
            ]
           ],
           "sequentialminus": [
            [
             0,
             "#0d0887"
            ],
            [
             0.1111111111111111,
             "#46039f"
            ],
            [
             0.2222222222222222,
             "#7201a8"
            ],
            [
             0.3333333333333333,
             "#9c179e"
            ],
            [
             0.4444444444444444,
             "#bd3786"
            ],
            [
             0.5555555555555556,
             "#d8576b"
            ],
            [
             0.6666666666666666,
             "#ed7953"
            ],
            [
             0.7777777777777778,
             "#fb9f3a"
            ],
            [
             0.8888888888888888,
             "#fdca26"
            ],
            [
             1,
             "#f0f921"
            ]
           ]
          },
          "colorway": [
           "#636efa",
           "#EF553B",
           "#00cc96",
           "#ab63fa",
           "#FFA15A",
           "#19d3f3",
           "#FF6692",
           "#B6E880",
           "#FF97FF",
           "#FECB52"
          ],
          "font": {
           "color": "#2a3f5f"
          },
          "geo": {
           "bgcolor": "white",
           "lakecolor": "white",
           "landcolor": "#E5ECF6",
           "showlakes": true,
           "showland": true,
           "subunitcolor": "white"
          },
          "hoverlabel": {
           "align": "left"
          },
          "hovermode": "closest",
          "mapbox": {
           "style": "light"
          },
          "paper_bgcolor": "white",
          "plot_bgcolor": "#E5ECF6",
          "polar": {
           "angularaxis": {
            "gridcolor": "white",
            "linecolor": "white",
            "ticks": ""
           },
           "bgcolor": "#E5ECF6",
           "radialaxis": {
            "gridcolor": "white",
            "linecolor": "white",
            "ticks": ""
           }
          },
          "scene": {
           "xaxis": {
            "backgroundcolor": "#E5ECF6",
            "gridcolor": "white",
            "gridwidth": 2,
            "linecolor": "white",
            "showbackground": true,
            "ticks": "",
            "zerolinecolor": "white"
           },
           "yaxis": {
            "backgroundcolor": "#E5ECF6",
            "gridcolor": "white",
            "gridwidth": 2,
            "linecolor": "white",
            "showbackground": true,
            "ticks": "",
            "zerolinecolor": "white"
           },
           "zaxis": {
            "backgroundcolor": "#E5ECF6",
            "gridcolor": "white",
            "gridwidth": 2,
            "linecolor": "white",
            "showbackground": true,
            "ticks": "",
            "zerolinecolor": "white"
           }
          },
          "shapedefaults": {
           "line": {
            "color": "#2a3f5f"
           }
          },
          "ternary": {
           "aaxis": {
            "gridcolor": "white",
            "linecolor": "white",
            "ticks": ""
           },
           "baxis": {
            "gridcolor": "white",
            "linecolor": "white",
            "ticks": ""
           },
           "bgcolor": "#E5ECF6",
           "caxis": {
            "gridcolor": "white",
            "linecolor": "white",
            "ticks": ""
           }
          },
          "title": {
           "x": 0.05
          },
          "xaxis": {
           "automargin": true,
           "gridcolor": "white",
           "linecolor": "white",
           "ticks": "",
           "title": {
            "standoff": 15
           },
           "zerolinecolor": "white",
           "zerolinewidth": 2
          },
          "yaxis": {
           "automargin": true,
           "gridcolor": "white",
           "linecolor": "white",
           "ticks": "",
           "title": {
            "standoff": 15
           },
           "zerolinecolor": "white",
           "zerolinewidth": 2
          }
         }
        },
        "title": {
         "text": "Altura vs Ancho"
        },
        "xaxis": {
         "anchor": "y",
         "domain": [
          0,
          1
         ],
         "title": {
          "text": "Altura (cm)"
         }
        },
        "yaxis": {
         "anchor": "x",
         "domain": [
          0,
          1
         ],
         "title": {
          "text": "Ancho (cm)"
         }
        }
       }
      }
     },
     "metadata": {},
     "output_type": "display_data"
    },
    {
     "data": {
      "application/vnd.plotly.v1+json": {
       "config": {
        "plotlyServerURL": "https://plot.ly"
       },
       "data": [
        {
         "hovertemplate": "Altura (cm)=%{x}<br>Pie (cm)=%{y}<extra></extra>",
         "legendgroup": "",
         "marker": {
          "color": "red",
          "symbol": "circle"
         },
         "mode": "markers",
         "name": "",
         "orientation": "v",
         "showlegend": false,
         "type": "scatter",
         "x": {
          "bdata": "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",
          "dtype": "f8"
         },
         "xaxis": "x",
         "y": {
          "bdata": "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",
          "dtype": "f8"
         },
         "yaxis": "y"
        }
       ],
       "layout": {
        "legend": {
         "tracegroupgap": 0
        },
        "template": {
         "data": {
          "bar": [
           {
            "error_x": {
             "color": "#2a3f5f"
            },
            "error_y": {
             "color": "#2a3f5f"
            },
            "marker": {
             "line": {
              "color": "#E5ECF6",
              "width": 0.5
             },
             "pattern": {
              "fillmode": "overlay",
              "size": 10,
              "solidity": 0.2
             }
            },
            "type": "bar"
           }
          ],
          "barpolar": [
           {
            "marker": {
             "line": {
              "color": "#E5ECF6",
              "width": 0.5
             },
             "pattern": {
              "fillmode": "overlay",
              "size": 10,
              "solidity": 0.2
             }
            },
            "type": "barpolar"
           }
          ],
          "carpet": [
           {
            "aaxis": {
             "endlinecolor": "#2a3f5f",
             "gridcolor": "white",
             "linecolor": "white",
             "minorgridcolor": "white",
             "startlinecolor": "#2a3f5f"
            },
            "baxis": {
             "endlinecolor": "#2a3f5f",
             "gridcolor": "white",
             "linecolor": "white",
             "minorgridcolor": "white",
             "startlinecolor": "#2a3f5f"
            },
            "type": "carpet"
           }
          ],
          "choropleth": [
           {
            "colorbar": {
             "outlinewidth": 0,
             "ticks": ""
            },
            "type": "choropleth"
           }
          ],
          "contour": [
           {
            "colorbar": {
             "outlinewidth": 0,
             "ticks": ""
            },
            "colorscale": [
             [
              0,
              "#0d0887"
             ],
             [
              0.1111111111111111,
              "#46039f"
             ],
             [
              0.2222222222222222,
              "#7201a8"
             ],
             [
              0.3333333333333333,
              "#9c179e"
             ],
             [
              0.4444444444444444,
              "#bd3786"
             ],
             [
              0.5555555555555556,
              "#d8576b"
             ],
             [
              0.6666666666666666,
              "#ed7953"
             ],
             [
              0.7777777777777778,
              "#fb9f3a"
             ],
             [
              0.8888888888888888,
              "#fdca26"
             ],
             [
              1,
              "#f0f921"
             ]
            ],
            "type": "contour"
           }
          ],
          "contourcarpet": [
           {
            "colorbar": {
             "outlinewidth": 0,
             "ticks": ""
            },
            "type": "contourcarpet"
           }
          ],
          "heatmap": [
           {
            "colorbar": {
             "outlinewidth": 0,
             "ticks": ""
            },
            "colorscale": [
             [
              0,
              "#0d0887"
             ],
             [
              0.1111111111111111,
              "#46039f"
             ],
             [
              0.2222222222222222,
              "#7201a8"
             ],
             [
              0.3333333333333333,
              "#9c179e"
             ],
             [
              0.4444444444444444,
              "#bd3786"
             ],
             [
              0.5555555555555556,
              "#d8576b"
             ],
             [
              0.6666666666666666,
              "#ed7953"
             ],
             [
              0.7777777777777778,
              "#fb9f3a"
             ],
             [
              0.8888888888888888,
              "#fdca26"
             ],
             [
              1,
              "#f0f921"
             ]
            ],
            "type": "heatmap"
           }
          ],
          "histogram": [
           {
            "marker": {
             "pattern": {
              "fillmode": "overlay",
              "size": 10,
              "solidity": 0.2
             }
            },
            "type": "histogram"
           }
          ],
          "histogram2d": [
           {
            "colorbar": {
             "outlinewidth": 0,
             "ticks": ""
            },
            "colorscale": [
             [
              0,
              "#0d0887"
             ],
             [
              0.1111111111111111,
              "#46039f"
             ],
             [
              0.2222222222222222,
              "#7201a8"
             ],
             [
              0.3333333333333333,
              "#9c179e"
             ],
             [
              0.4444444444444444,
              "#bd3786"
             ],
             [
              0.5555555555555556,
              "#d8576b"
             ],
             [
              0.6666666666666666,
              "#ed7953"
             ],
             [
              0.7777777777777778,
              "#fb9f3a"
             ],
             [
              0.8888888888888888,
              "#fdca26"
             ],
             [
              1,
              "#f0f921"
             ]
            ],
            "type": "histogram2d"
           }
          ],
          "histogram2dcontour": [
           {
            "colorbar": {
             "outlinewidth": 0,
             "ticks": ""
            },
            "colorscale": [
             [
              0,
              "#0d0887"
             ],
             [
              0.1111111111111111,
              "#46039f"
             ],
             [
              0.2222222222222222,
              "#7201a8"
             ],
             [
              0.3333333333333333,
              "#9c179e"
             ],
             [
              0.4444444444444444,
              "#bd3786"
             ],
             [
              0.5555555555555556,
              "#d8576b"
             ],
             [
              0.6666666666666666,
              "#ed7953"
             ],
             [
              0.7777777777777778,
              "#fb9f3a"
             ],
             [
              0.8888888888888888,
              "#fdca26"
             ],
             [
              1,
              "#f0f921"
             ]
            ],
            "type": "histogram2dcontour"
           }
          ],
          "mesh3d": [
           {
            "colorbar": {
             "outlinewidth": 0,
             "ticks": ""
            },
            "type": "mesh3d"
           }
          ],
          "parcoords": [
           {
            "line": {
             "colorbar": {
              "outlinewidth": 0,
              "ticks": ""
             }
            },
            "type": "parcoords"
           }
          ],
          "pie": [
           {
            "automargin": true,
            "type": "pie"
           }
          ],
          "scatter": [
           {
            "fillpattern": {
             "fillmode": "overlay",
             "size": 10,
             "solidity": 0.2
            },
            "type": "scatter"
           }
          ],
          "scatter3d": [
           {
            "line": {
             "colorbar": {
              "outlinewidth": 0,
              "ticks": ""
             }
            },
            "marker": {
             "colorbar": {
              "outlinewidth": 0,
              "ticks": ""
             }
            },
            "type": "scatter3d"
           }
          ],
          "scattercarpet": [
           {
            "marker": {
             "colorbar": {
              "outlinewidth": 0,
              "ticks": ""
             }
            },
            "type": "scattercarpet"
           }
          ],
          "scattergeo": [
           {
            "marker": {
             "colorbar": {
              "outlinewidth": 0,
              "ticks": ""
             }
            },
            "type": "scattergeo"
           }
          ],
          "scattergl": [
           {
            "marker": {
             "colorbar": {
              "outlinewidth": 0,
              "ticks": ""
             }
            },
            "type": "scattergl"
           }
          ],
          "scattermap": [
           {
            "marker": {
             "colorbar": {
              "outlinewidth": 0,
              "ticks": ""
             }
            },
            "type": "scattermap"
           }
          ],
          "scattermapbox": [
           {
            "marker": {
             "colorbar": {
              "outlinewidth": 0,
              "ticks": ""
             }
            },
            "type": "scattermapbox"
           }
          ],
          "scatterpolar": [
           {
            "marker": {
             "colorbar": {
              "outlinewidth": 0,
              "ticks": ""
             }
            },
            "type": "scatterpolar"
           }
          ],
          "scatterpolargl": [
           {
            "marker": {
             "colorbar": {
              "outlinewidth": 0,
              "ticks": ""
             }
            },
            "type": "scatterpolargl"
           }
          ],
          "scatterternary": [
           {
            "marker": {
             "colorbar": {
              "outlinewidth": 0,
              "ticks": ""
             }
            },
            "type": "scatterternary"
           }
          ],
          "surface": [
           {
            "colorbar": {
             "outlinewidth": 0,
             "ticks": ""
            },
            "colorscale": [
             [
              0,
              "#0d0887"
             ],
             [
              0.1111111111111111,
              "#46039f"
             ],
             [
              0.2222222222222222,
              "#7201a8"
             ],
             [
              0.3333333333333333,
              "#9c179e"
             ],
             [
              0.4444444444444444,
              "#bd3786"
             ],
             [
              0.5555555555555556,
              "#d8576b"
             ],
             [
              0.6666666666666666,
              "#ed7953"
             ],
             [
              0.7777777777777778,
              "#fb9f3a"
             ],
             [
              0.8888888888888888,
              "#fdca26"
             ],
             [
              1,
              "#f0f921"
             ]
            ],
            "type": "surface"
           }
          ],
          "table": [
           {
            "cells": {
             "fill": {
              "color": "#EBF0F8"
             },
             "line": {
              "color": "white"
             }
            },
            "header": {
             "fill": {
              "color": "#C8D4E3"
             },
             "line": {
              "color": "white"
             }
            },
            "type": "table"
           }
          ]
         },
         "layout": {
          "annotationdefaults": {
           "arrowcolor": "#2a3f5f",
           "arrowhead": 0,
           "arrowwidth": 1
          },
          "autotypenumbers": "strict",
          "coloraxis": {
           "colorbar": {
            "outlinewidth": 0,
            "ticks": ""
           }
          },
          "colorscale": {
           "diverging": [
            [
             0,
             "#8e0152"
            ],
            [
             0.1,
             "#c51b7d"
            ],
            [
             0.2,
             "#de77ae"
            ],
            [
             0.3,
             "#f1b6da"
            ],
            [
             0.4,
             "#fde0ef"
            ],
            [
             0.5,
             "#f7f7f7"
            ],
            [
             0.6,
             "#e6f5d0"
            ],
            [
             0.7,
             "#b8e186"
            ],
            [
             0.8,
             "#7fbc41"
            ],
            [
             0.9,
             "#4d9221"
            ],
            [
             1,
             "#276419"
            ]
           ],
           "sequential": [
            [
             0,
             "#0d0887"
            ],
            [
             0.1111111111111111,
             "#46039f"
            ],
            [
             0.2222222222222222,
             "#7201a8"
            ],
            [
             0.3333333333333333,
             "#9c179e"
            ],
            [
             0.4444444444444444,
             "#bd3786"
            ],
            [
             0.5555555555555556,
             "#d8576b"
            ],
            [
             0.6666666666666666,
             "#ed7953"
            ],
            [
             0.7777777777777778,
             "#fb9f3a"
            ],
            [
             0.8888888888888888,
             "#fdca26"
            ],
            [
             1,
             "#f0f921"
            ]
           ],
           "sequentialminus": [
            [
             0,
             "#0d0887"
            ],
            [
             0.1111111111111111,
             "#46039f"
            ],
            [
             0.2222222222222222,
             "#7201a8"
            ],
            [
             0.3333333333333333,
             "#9c179e"
            ],
            [
             0.4444444444444444,
             "#bd3786"
            ],
            [
             0.5555555555555556,
             "#d8576b"
            ],
            [
             0.6666666666666666,
             "#ed7953"
            ],
            [
             0.7777777777777778,
             "#fb9f3a"
            ],
            [
             0.8888888888888888,
             "#fdca26"
            ],
            [
             1,
             "#f0f921"
            ]
           ]
          },
          "colorway": [
           "#636efa",
           "#EF553B",
           "#00cc96",
           "#ab63fa",
           "#FFA15A",
           "#19d3f3",
           "#FF6692",
           "#B6E880",
           "#FF97FF",
           "#FECB52"
          ],
          "font": {
           "color": "#2a3f5f"
          },
          "geo": {
           "bgcolor": "white",
           "lakecolor": "white",
           "landcolor": "#E5ECF6",
           "showlakes": true,
           "showland": true,
           "subunitcolor": "white"
          },
          "hoverlabel": {
           "align": "left"
          },
          "hovermode": "closest",
          "mapbox": {
           "style": "light"
          },
          "paper_bgcolor": "white",
          "plot_bgcolor": "#E5ECF6",
          "polar": {
           "angularaxis": {
            "gridcolor": "white",
            "linecolor": "white",
            "ticks": ""
           },
           "bgcolor": "#E5ECF6",
           "radialaxis": {
            "gridcolor": "white",
            "linecolor": "white",
            "ticks": ""
           }
          },
          "scene": {
           "xaxis": {
            "backgroundcolor": "#E5ECF6",
            "gridcolor": "white",
            "gridwidth": 2,
            "linecolor": "white",
            "showbackground": true,
            "ticks": "",
            "zerolinecolor": "white"
           },
           "yaxis": {
            "backgroundcolor": "#E5ECF6",
            "gridcolor": "white",
            "gridwidth": 2,
            "linecolor": "white",
            "showbackground": true,
            "ticks": "",
            "zerolinecolor": "white"
           },
           "zaxis": {
            "backgroundcolor": "#E5ECF6",
            "gridcolor": "white",
            "gridwidth": 2,
            "linecolor": "white",
            "showbackground": true,
            "ticks": "",
            "zerolinecolor": "white"
           }
          },
          "shapedefaults": {
           "line": {
            "color": "#2a3f5f"
           }
          },
          "ternary": {
           "aaxis": {
            "gridcolor": "white",
            "linecolor": "white",
            "ticks": ""
           },
           "baxis": {
            "gridcolor": "white",
            "linecolor": "white",
            "ticks": ""
           },
           "bgcolor": "#E5ECF6",
           "caxis": {
            "gridcolor": "white",
            "linecolor": "white",
            "ticks": ""
           }
          },
          "title": {
           "x": 0.05
          },
          "xaxis": {
           "automargin": true,
           "gridcolor": "white",
           "linecolor": "white",
           "ticks": "",
           "title": {
            "standoff": 15
           },
           "zerolinecolor": "white",
           "zerolinewidth": 2
          },
          "yaxis": {
           "automargin": true,
           "gridcolor": "white",
           "linecolor": "white",
           "ticks": "",
           "title": {
            "standoff": 15
           },
           "zerolinecolor": "white",
           "zerolinewidth": 2
          }
         }
        },
        "title": {
         "text": "Altura vs Pie"
        },
        "xaxis": {
         "anchor": "y",
         "domain": [
          0,
          1
         ],
         "title": {
          "text": "Altura (cm)"
         }
        },
        "yaxis": {
         "anchor": "x",
         "domain": [
          0,
          1
         ],
         "title": {
          "text": "Pie (cm)"
         }
        }
       }
      }
     },
     "metadata": {},
     "output_type": "display_data"
    }
   ],
   "source": [
    "fig1_pb = px.scatter(df_pb, x=\"Altura\", y=\"Ancho\", \n",
    "                  title=\"Altura vs Ancho\", \n",
    "                  labels={\"Altura\": \"Altura (cm)\", \"Ancho\": \"Ancho (cm)\"},\n",
    "                  color_discrete_sequence=[\"blue\"])\n",
    "\n",
    "fig2_pb = px.scatter(df_pb, x=\"Altura\", y=\"Pie\", \n",
    "                  title=\"Altura vs Pie\", \n",
    "                  labels={\"Altura\": \"Altura (cm)\", \"Pie\": \"Pie (cm)\"},\n",
    "                  color_discrete_sequence=[\"red\"])\n",
    "\n",
    "fig1_pb.show()\n",
    "fig2_pb.show()"
   ]
  },
  {
   "cell_type": "code",
   "execution_count": 259,
   "metadata": {},
   "outputs": [],
   "source": [
    "x_pb = df_pb.drop(columns=['Altura'])\n",
    "y_pb = df_pb['Altura']\n",
    "X_train_pb, X_test_pb, Y_train_pb, Y_test_pb = train_test_split(x_pb, y_pb, test_size=0.2, random_state=42)"
   ]
  },
  {
   "cell_type": "markdown",
   "metadata": {},
   "source": [
    "### Modelo ElasticNet - Países Bajos"
   ]
  },
  {
   "cell_type": "code",
   "execution_count": 260,
   "metadata": {},
   "outputs": [],
   "source": [
    "pipeline_pb_1 = Pipeline([\n",
    "    ('scaler', StandardScaler()),\n",
    "    ('model', ElasticNet(max_iter=1000))\n",
    "])\n",
    "\n",
    "param_grid_pb_1 = {\n",
    "    'model__alpha': np.logspace(-5,2,20),\n",
    "    'model__l1_ratio': np.linspace(0,1,50)\n",
    "}"
   ]
  },
  {
   "cell_type": "code",
   "execution_count": 261,
   "metadata": {},
   "outputs": [
    {
     "name": "stdout",
     "output_type": "stream",
     "text": [
      "Fitting 5 folds for each of 1000 candidates, totalling 5000 fits\n"
     ]
    },
    {
     "name": "stderr",
     "output_type": "stream",
     "text": [
      "c:\\Users\\sofi\\miniconda3\\envs\\EO\\Lib\\site-packages\\sklearn\\linear_model\\_coordinate_descent.py:695: ConvergenceWarning:\n",
      "\n",
      "Objective did not converge. You might want to increase the number of iterations, check the scale of the features or consider increasing regularisation. Duality gap: 2.327e+03, tolerance: 3.499e+00 Linear regression models with null weight for the l1 regularization term are more efficiently fitted using one of the solvers implemented in sklearn.linear_model.Ridge/RidgeCV instead.\n",
      "\n"
     ]
    },
    {
     "data": {
      "text/html": [
       "<style>#sk-container-id-35 {\n",
       "  /* Definition of color scheme common for light and dark mode */\n",
       "  --sklearn-color-text: #000;\n",
       "  --sklearn-color-text-muted: #666;\n",
       "  --sklearn-color-line: gray;\n",
       "  /* Definition of color scheme for unfitted estimators */\n",
       "  --sklearn-color-unfitted-level-0: #fff5e6;\n",
       "  --sklearn-color-unfitted-level-1: #f6e4d2;\n",
       "  --sklearn-color-unfitted-level-2: #ffe0b3;\n",
       "  --sklearn-color-unfitted-level-3: chocolate;\n",
       "  /* Definition of color scheme for fitted estimators */\n",
       "  --sklearn-color-fitted-level-0: #f0f8ff;\n",
       "  --sklearn-color-fitted-level-1: #d4ebff;\n",
       "  --sklearn-color-fitted-level-2: #b3dbfd;\n",
       "  --sklearn-color-fitted-level-3: cornflowerblue;\n",
       "\n",
       "  /* Specific color for light theme */\n",
       "  --sklearn-color-text-on-default-background: var(--sg-text-color, var(--theme-code-foreground, var(--jp-content-font-color1, black)));\n",
       "  --sklearn-color-background: var(--sg-background-color, var(--theme-background, var(--jp-layout-color0, white)));\n",
       "  --sklearn-color-border-box: var(--sg-text-color, var(--theme-code-foreground, var(--jp-content-font-color1, black)));\n",
       "  --sklearn-color-icon: #696969;\n",
       "\n",
       "  @media (prefers-color-scheme: dark) {\n",
       "    /* Redefinition of color scheme for dark theme */\n",
       "    --sklearn-color-text-on-default-background: var(--sg-text-color, var(--theme-code-foreground, var(--jp-content-font-color1, white)));\n",
       "    --sklearn-color-background: var(--sg-background-color, var(--theme-background, var(--jp-layout-color0, #111)));\n",
       "    --sklearn-color-border-box: var(--sg-text-color, var(--theme-code-foreground, var(--jp-content-font-color1, white)));\n",
       "    --sklearn-color-icon: #878787;\n",
       "  }\n",
       "}\n",
       "\n",
       "#sk-container-id-35 {\n",
       "  color: var(--sklearn-color-text);\n",
       "}\n",
       "\n",
       "#sk-container-id-35 pre {\n",
       "  padding: 0;\n",
       "}\n",
       "\n",
       "#sk-container-id-35 input.sk-hidden--visually {\n",
       "  border: 0;\n",
       "  clip: rect(1px 1px 1px 1px);\n",
       "  clip: rect(1px, 1px, 1px, 1px);\n",
       "  height: 1px;\n",
       "  margin: -1px;\n",
       "  overflow: hidden;\n",
       "  padding: 0;\n",
       "  position: absolute;\n",
       "  width: 1px;\n",
       "}\n",
       "\n",
       "#sk-container-id-35 div.sk-dashed-wrapped {\n",
       "  border: 1px dashed var(--sklearn-color-line);\n",
       "  margin: 0 0.4em 0.5em 0.4em;\n",
       "  box-sizing: border-box;\n",
       "  padding-bottom: 0.4em;\n",
       "  background-color: var(--sklearn-color-background);\n",
       "}\n",
       "\n",
       "#sk-container-id-35 div.sk-container {\n",
       "  /* jupyter's `normalize.less` sets `[hidden] { display: none; }`\n",
       "     but bootstrap.min.css set `[hidden] { display: none !important; }`\n",
       "     so we also need the `!important` here to be able to override the\n",
       "     default hidden behavior on the sphinx rendered scikit-learn.org.\n",
       "     See: https://github.com/scikit-learn/scikit-learn/issues/21755 */\n",
       "  display: inline-block !important;\n",
       "  position: relative;\n",
       "}\n",
       "\n",
       "#sk-container-id-35 div.sk-text-repr-fallback {\n",
       "  display: none;\n",
       "}\n",
       "\n",
       "div.sk-parallel-item,\n",
       "div.sk-serial,\n",
       "div.sk-item {\n",
       "  /* draw centered vertical line to link estimators */\n",
       "  background-image: linear-gradient(var(--sklearn-color-text-on-default-background), var(--sklearn-color-text-on-default-background));\n",
       "  background-size: 2px 100%;\n",
       "  background-repeat: no-repeat;\n",
       "  background-position: center center;\n",
       "}\n",
       "\n",
       "/* Parallel-specific style estimator block */\n",
       "\n",
       "#sk-container-id-35 div.sk-parallel-item::after {\n",
       "  content: \"\";\n",
       "  width: 100%;\n",
       "  border-bottom: 2px solid var(--sklearn-color-text-on-default-background);\n",
       "  flex-grow: 1;\n",
       "}\n",
       "\n",
       "#sk-container-id-35 div.sk-parallel {\n",
       "  display: flex;\n",
       "  align-items: stretch;\n",
       "  justify-content: center;\n",
       "  background-color: var(--sklearn-color-background);\n",
       "  position: relative;\n",
       "}\n",
       "\n",
       "#sk-container-id-35 div.sk-parallel-item {\n",
       "  display: flex;\n",
       "  flex-direction: column;\n",
       "}\n",
       "\n",
       "#sk-container-id-35 div.sk-parallel-item:first-child::after {\n",
       "  align-self: flex-end;\n",
       "  width: 50%;\n",
       "}\n",
       "\n",
       "#sk-container-id-35 div.sk-parallel-item:last-child::after {\n",
       "  align-self: flex-start;\n",
       "  width: 50%;\n",
       "}\n",
       "\n",
       "#sk-container-id-35 div.sk-parallel-item:only-child::after {\n",
       "  width: 0;\n",
       "}\n",
       "\n",
       "/* Serial-specific style estimator block */\n",
       "\n",
       "#sk-container-id-35 div.sk-serial {\n",
       "  display: flex;\n",
       "  flex-direction: column;\n",
       "  align-items: center;\n",
       "  background-color: var(--sklearn-color-background);\n",
       "  padding-right: 1em;\n",
       "  padding-left: 1em;\n",
       "}\n",
       "\n",
       "\n",
       "/* Toggleable style: style used for estimator/Pipeline/ColumnTransformer box that is\n",
       "clickable and can be expanded/collapsed.\n",
       "- Pipeline and ColumnTransformer use this feature and define the default style\n",
       "- Estimators will overwrite some part of the style using the `sk-estimator` class\n",
       "*/\n",
       "\n",
       "/* Pipeline and ColumnTransformer style (default) */\n",
       "\n",
       "#sk-container-id-35 div.sk-toggleable {\n",
       "  /* Default theme specific background. It is overwritten whether we have a\n",
       "  specific estimator or a Pipeline/ColumnTransformer */\n",
       "  background-color: var(--sklearn-color-background);\n",
       "}\n",
       "\n",
       "/* Toggleable label */\n",
       "#sk-container-id-35 label.sk-toggleable__label {\n",
       "  cursor: pointer;\n",
       "  display: flex;\n",
       "  width: 100%;\n",
       "  margin-bottom: 0;\n",
       "  padding: 0.5em;\n",
       "  box-sizing: border-box;\n",
       "  text-align: center;\n",
       "  align-items: start;\n",
       "  justify-content: space-between;\n",
       "  gap: 0.5em;\n",
       "}\n",
       "\n",
       "#sk-container-id-35 label.sk-toggleable__label .caption {\n",
       "  font-size: 0.6rem;\n",
       "  font-weight: lighter;\n",
       "  color: var(--sklearn-color-text-muted);\n",
       "}\n",
       "\n",
       "#sk-container-id-35 label.sk-toggleable__label-arrow:before {\n",
       "  /* Arrow on the left of the label */\n",
       "  content: \"▸\";\n",
       "  float: left;\n",
       "  margin-right: 0.25em;\n",
       "  color: var(--sklearn-color-icon);\n",
       "}\n",
       "\n",
       "#sk-container-id-35 label.sk-toggleable__label-arrow:hover:before {\n",
       "  color: var(--sklearn-color-text);\n",
       "}\n",
       "\n",
       "/* Toggleable content - dropdown */\n",
       "\n",
       "#sk-container-id-35 div.sk-toggleable__content {\n",
       "  max-height: 0;\n",
       "  max-width: 0;\n",
       "  overflow: hidden;\n",
       "  text-align: left;\n",
       "  /* unfitted */\n",
       "  background-color: var(--sklearn-color-unfitted-level-0);\n",
       "}\n",
       "\n",
       "#sk-container-id-35 div.sk-toggleable__content.fitted {\n",
       "  /* fitted */\n",
       "  background-color: var(--sklearn-color-fitted-level-0);\n",
       "}\n",
       "\n",
       "#sk-container-id-35 div.sk-toggleable__content pre {\n",
       "  margin: 0.2em;\n",
       "  border-radius: 0.25em;\n",
       "  color: var(--sklearn-color-text);\n",
       "  /* unfitted */\n",
       "  background-color: var(--sklearn-color-unfitted-level-0);\n",
       "}\n",
       "\n",
       "#sk-container-id-35 div.sk-toggleable__content.fitted pre {\n",
       "  /* unfitted */\n",
       "  background-color: var(--sklearn-color-fitted-level-0);\n",
       "}\n",
       "\n",
       "#sk-container-id-35 input.sk-toggleable__control:checked~div.sk-toggleable__content {\n",
       "  /* Expand drop-down */\n",
       "  max-height: 200px;\n",
       "  max-width: 100%;\n",
       "  overflow: auto;\n",
       "}\n",
       "\n",
       "#sk-container-id-35 input.sk-toggleable__control:checked~label.sk-toggleable__label-arrow:before {\n",
       "  content: \"▾\";\n",
       "}\n",
       "\n",
       "/* Pipeline/ColumnTransformer-specific style */\n",
       "\n",
       "#sk-container-id-35 div.sk-label input.sk-toggleable__control:checked~label.sk-toggleable__label {\n",
       "  color: var(--sklearn-color-text);\n",
       "  background-color: var(--sklearn-color-unfitted-level-2);\n",
       "}\n",
       "\n",
       "#sk-container-id-35 div.sk-label.fitted input.sk-toggleable__control:checked~label.sk-toggleable__label {\n",
       "  background-color: var(--sklearn-color-fitted-level-2);\n",
       "}\n",
       "\n",
       "/* Estimator-specific style */\n",
       "\n",
       "/* Colorize estimator box */\n",
       "#sk-container-id-35 div.sk-estimator input.sk-toggleable__control:checked~label.sk-toggleable__label {\n",
       "  /* unfitted */\n",
       "  background-color: var(--sklearn-color-unfitted-level-2);\n",
       "}\n",
       "\n",
       "#sk-container-id-35 div.sk-estimator.fitted input.sk-toggleable__control:checked~label.sk-toggleable__label {\n",
       "  /* fitted */\n",
       "  background-color: var(--sklearn-color-fitted-level-2);\n",
       "}\n",
       "\n",
       "#sk-container-id-35 div.sk-label label.sk-toggleable__label,\n",
       "#sk-container-id-35 div.sk-label label {\n",
       "  /* The background is the default theme color */\n",
       "  color: var(--sklearn-color-text-on-default-background);\n",
       "}\n",
       "\n",
       "/* On hover, darken the color of the background */\n",
       "#sk-container-id-35 div.sk-label:hover label.sk-toggleable__label {\n",
       "  color: var(--sklearn-color-text);\n",
       "  background-color: var(--sklearn-color-unfitted-level-2);\n",
       "}\n",
       "\n",
       "/* Label box, darken color on hover, fitted */\n",
       "#sk-container-id-35 div.sk-label.fitted:hover label.sk-toggleable__label.fitted {\n",
       "  color: var(--sklearn-color-text);\n",
       "  background-color: var(--sklearn-color-fitted-level-2);\n",
       "}\n",
       "\n",
       "/* Estimator label */\n",
       "\n",
       "#sk-container-id-35 div.sk-label label {\n",
       "  font-family: monospace;\n",
       "  font-weight: bold;\n",
       "  display: inline-block;\n",
       "  line-height: 1.2em;\n",
       "}\n",
       "\n",
       "#sk-container-id-35 div.sk-label-container {\n",
       "  text-align: center;\n",
       "}\n",
       "\n",
       "/* Estimator-specific */\n",
       "#sk-container-id-35 div.sk-estimator {\n",
       "  font-family: monospace;\n",
       "  border: 1px dotted var(--sklearn-color-border-box);\n",
       "  border-radius: 0.25em;\n",
       "  box-sizing: border-box;\n",
       "  margin-bottom: 0.5em;\n",
       "  /* unfitted */\n",
       "  background-color: var(--sklearn-color-unfitted-level-0);\n",
       "}\n",
       "\n",
       "#sk-container-id-35 div.sk-estimator.fitted {\n",
       "  /* fitted */\n",
       "  background-color: var(--sklearn-color-fitted-level-0);\n",
       "}\n",
       "\n",
       "/* on hover */\n",
       "#sk-container-id-35 div.sk-estimator:hover {\n",
       "  /* unfitted */\n",
       "  background-color: var(--sklearn-color-unfitted-level-2);\n",
       "}\n",
       "\n",
       "#sk-container-id-35 div.sk-estimator.fitted:hover {\n",
       "  /* fitted */\n",
       "  background-color: var(--sklearn-color-fitted-level-2);\n",
       "}\n",
       "\n",
       "/* Specification for estimator info (e.g. \"i\" and \"?\") */\n",
       "\n",
       "/* Common style for \"i\" and \"?\" */\n",
       "\n",
       ".sk-estimator-doc-link,\n",
       "a:link.sk-estimator-doc-link,\n",
       "a:visited.sk-estimator-doc-link {\n",
       "  float: right;\n",
       "  font-size: smaller;\n",
       "  line-height: 1em;\n",
       "  font-family: monospace;\n",
       "  background-color: var(--sklearn-color-background);\n",
       "  border-radius: 1em;\n",
       "  height: 1em;\n",
       "  width: 1em;\n",
       "  text-decoration: none !important;\n",
       "  margin-left: 0.5em;\n",
       "  text-align: center;\n",
       "  /* unfitted */\n",
       "  border: var(--sklearn-color-unfitted-level-1) 1pt solid;\n",
       "  color: var(--sklearn-color-unfitted-level-1);\n",
       "}\n",
       "\n",
       ".sk-estimator-doc-link.fitted,\n",
       "a:link.sk-estimator-doc-link.fitted,\n",
       "a:visited.sk-estimator-doc-link.fitted {\n",
       "  /* fitted */\n",
       "  border: var(--sklearn-color-fitted-level-1) 1pt solid;\n",
       "  color: var(--sklearn-color-fitted-level-1);\n",
       "}\n",
       "\n",
       "/* On hover */\n",
       "div.sk-estimator:hover .sk-estimator-doc-link:hover,\n",
       ".sk-estimator-doc-link:hover,\n",
       "div.sk-label-container:hover .sk-estimator-doc-link:hover,\n",
       ".sk-estimator-doc-link:hover {\n",
       "  /* unfitted */\n",
       "  background-color: var(--sklearn-color-unfitted-level-3);\n",
       "  color: var(--sklearn-color-background);\n",
       "  text-decoration: none;\n",
       "}\n",
       "\n",
       "div.sk-estimator.fitted:hover .sk-estimator-doc-link.fitted:hover,\n",
       ".sk-estimator-doc-link.fitted:hover,\n",
       "div.sk-label-container:hover .sk-estimator-doc-link.fitted:hover,\n",
       ".sk-estimator-doc-link.fitted:hover {\n",
       "  /* fitted */\n",
       "  background-color: var(--sklearn-color-fitted-level-3);\n",
       "  color: var(--sklearn-color-background);\n",
       "  text-decoration: none;\n",
       "}\n",
       "\n",
       "/* Span, style for the box shown on hovering the info icon */\n",
       ".sk-estimator-doc-link span {\n",
       "  display: none;\n",
       "  z-index: 9999;\n",
       "  position: relative;\n",
       "  font-weight: normal;\n",
       "  right: .2ex;\n",
       "  padding: .5ex;\n",
       "  margin: .5ex;\n",
       "  width: min-content;\n",
       "  min-width: 20ex;\n",
       "  max-width: 50ex;\n",
       "  color: var(--sklearn-color-text);\n",
       "  box-shadow: 2pt 2pt 4pt #999;\n",
       "  /* unfitted */\n",
       "  background: var(--sklearn-color-unfitted-level-0);\n",
       "  border: .5pt solid var(--sklearn-color-unfitted-level-3);\n",
       "}\n",
       "\n",
       ".sk-estimator-doc-link.fitted span {\n",
       "  /* fitted */\n",
       "  background: var(--sklearn-color-fitted-level-0);\n",
       "  border: var(--sklearn-color-fitted-level-3);\n",
       "}\n",
       "\n",
       ".sk-estimator-doc-link:hover span {\n",
       "  display: block;\n",
       "}\n",
       "\n",
       "/* \"?\"-specific style due to the `<a>` HTML tag */\n",
       "\n",
       "#sk-container-id-35 a.estimator_doc_link {\n",
       "  float: right;\n",
       "  font-size: 1rem;\n",
       "  line-height: 1em;\n",
       "  font-family: monospace;\n",
       "  background-color: var(--sklearn-color-background);\n",
       "  border-radius: 1rem;\n",
       "  height: 1rem;\n",
       "  width: 1rem;\n",
       "  text-decoration: none;\n",
       "  /* unfitted */\n",
       "  color: var(--sklearn-color-unfitted-level-1);\n",
       "  border: var(--sklearn-color-unfitted-level-1) 1pt solid;\n",
       "}\n",
       "\n",
       "#sk-container-id-35 a.estimator_doc_link.fitted {\n",
       "  /* fitted */\n",
       "  border: var(--sklearn-color-fitted-level-1) 1pt solid;\n",
       "  color: var(--sklearn-color-fitted-level-1);\n",
       "}\n",
       "\n",
       "/* On hover */\n",
       "#sk-container-id-35 a.estimator_doc_link:hover {\n",
       "  /* unfitted */\n",
       "  background-color: var(--sklearn-color-unfitted-level-3);\n",
       "  color: var(--sklearn-color-background);\n",
       "  text-decoration: none;\n",
       "}\n",
       "\n",
       "#sk-container-id-35 a.estimator_doc_link.fitted:hover {\n",
       "  /* fitted */\n",
       "  background-color: var(--sklearn-color-fitted-level-3);\n",
       "}\n",
       "</style><div id=\"sk-container-id-35\" class=\"sk-top-container\"><div class=\"sk-text-repr-fallback\"><pre>GridSearchCV(cv=5,\n",
       "             estimator=Pipeline(steps=[(&#x27;scaler&#x27;, StandardScaler()),\n",
       "                                       (&#x27;model&#x27;, ElasticNet())]),\n",
       "             n_jobs=-1,\n",
       "             param_grid={&#x27;model__alpha&#x27;: array([1.00000000e-05, 2.33572147e-05, 5.45559478e-05, 1.27427499e-04,\n",
       "       2.97635144e-04, 6.95192796e-04, 1.62377674e-03, 3.79269019e-03,\n",
       "       8.85866790e-03, 2.06913808e-02, 4.83293024e-02, 1.12883789e-01,\n",
       "       2.63665090e-01, 6.15848211e-01...\n",
       "       0.30612245, 0.32653061, 0.34693878, 0.36734694, 0.3877551 ,\n",
       "       0.40816327, 0.42857143, 0.44897959, 0.46938776, 0.48979592,\n",
       "       0.51020408, 0.53061224, 0.55102041, 0.57142857, 0.59183673,\n",
       "       0.6122449 , 0.63265306, 0.65306122, 0.67346939, 0.69387755,\n",
       "       0.71428571, 0.73469388, 0.75510204, 0.7755102 , 0.79591837,\n",
       "       0.81632653, 0.83673469, 0.85714286, 0.87755102, 0.89795918,\n",
       "       0.91836735, 0.93877551, 0.95918367, 0.97959184, 1.        ])},\n",
       "             scoring=&#x27;r2&#x27;, verbose=2)</pre><b>In a Jupyter environment, please rerun this cell to show the HTML representation or trust the notebook. <br />On GitHub, the HTML representation is unable to render, please try loading this page with nbviewer.org.</b></div><div class=\"sk-container\" hidden><div class=\"sk-item sk-dashed-wrapped\"><div class=\"sk-label-container\"><div class=\"sk-label fitted sk-toggleable\"><input class=\"sk-toggleable__control sk-hidden--visually\" id=\"sk-estimator-id-73\" type=\"checkbox\" ><label for=\"sk-estimator-id-73\" class=\"sk-toggleable__label fitted sk-toggleable__label-arrow\"><div><div>GridSearchCV</div></div><div><a class=\"sk-estimator-doc-link fitted\" rel=\"noreferrer\" target=\"_blank\" href=\"https://scikit-learn.org/1.6/modules/generated/sklearn.model_selection.GridSearchCV.html\">?<span>Documentation for GridSearchCV</span></a><span class=\"sk-estimator-doc-link fitted\">i<span>Fitted</span></span></div></label><div class=\"sk-toggleable__content fitted\"><pre>GridSearchCV(cv=5,\n",
       "             estimator=Pipeline(steps=[(&#x27;scaler&#x27;, StandardScaler()),\n",
       "                                       (&#x27;model&#x27;, ElasticNet())]),\n",
       "             n_jobs=-1,\n",
       "             param_grid={&#x27;model__alpha&#x27;: array([1.00000000e-05, 2.33572147e-05, 5.45559478e-05, 1.27427499e-04,\n",
       "       2.97635144e-04, 6.95192796e-04, 1.62377674e-03, 3.79269019e-03,\n",
       "       8.85866790e-03, 2.06913808e-02, 4.83293024e-02, 1.12883789e-01,\n",
       "       2.63665090e-01, 6.15848211e-01...\n",
       "       0.30612245, 0.32653061, 0.34693878, 0.36734694, 0.3877551 ,\n",
       "       0.40816327, 0.42857143, 0.44897959, 0.46938776, 0.48979592,\n",
       "       0.51020408, 0.53061224, 0.55102041, 0.57142857, 0.59183673,\n",
       "       0.6122449 , 0.63265306, 0.65306122, 0.67346939, 0.69387755,\n",
       "       0.71428571, 0.73469388, 0.75510204, 0.7755102 , 0.79591837,\n",
       "       0.81632653, 0.83673469, 0.85714286, 0.87755102, 0.89795918,\n",
       "       0.91836735, 0.93877551, 0.95918367, 0.97959184, 1.        ])},\n",
       "             scoring=&#x27;r2&#x27;, verbose=2)</pre></div> </div></div><div class=\"sk-parallel\"><div class=\"sk-parallel-item\"><div class=\"sk-item\"><div class=\"sk-label-container\"><div class=\"sk-label fitted sk-toggleable\"><input class=\"sk-toggleable__control sk-hidden--visually\" id=\"sk-estimator-id-74\" type=\"checkbox\" ><label for=\"sk-estimator-id-74\" class=\"sk-toggleable__label fitted sk-toggleable__label-arrow\"><div><div>best_estimator_: Pipeline</div></div></label><div class=\"sk-toggleable__content fitted\"><pre>Pipeline(steps=[(&#x27;scaler&#x27;, StandardScaler()),\n",
       "                (&#x27;model&#x27;,\n",
       "                 ElasticNet(alpha=np.float64(0.00379269019073225),\n",
       "                            l1_ratio=np.float64(0.0)))])</pre></div> </div></div><div class=\"sk-serial\"><div class=\"sk-item\"><div class=\"sk-serial\"><div class=\"sk-item\"><div class=\"sk-estimator fitted sk-toggleable\"><input class=\"sk-toggleable__control sk-hidden--visually\" id=\"sk-estimator-id-75\" type=\"checkbox\" ><label for=\"sk-estimator-id-75\" class=\"sk-toggleable__label fitted sk-toggleable__label-arrow\"><div><div>StandardScaler</div></div><div><a class=\"sk-estimator-doc-link fitted\" rel=\"noreferrer\" target=\"_blank\" href=\"https://scikit-learn.org/1.6/modules/generated/sklearn.preprocessing.StandardScaler.html\">?<span>Documentation for StandardScaler</span></a></div></label><div class=\"sk-toggleable__content fitted\"><pre>StandardScaler()</pre></div> </div></div><div class=\"sk-item\"><div class=\"sk-estimator fitted sk-toggleable\"><input class=\"sk-toggleable__control sk-hidden--visually\" id=\"sk-estimator-id-76\" type=\"checkbox\" ><label for=\"sk-estimator-id-76\" class=\"sk-toggleable__label fitted sk-toggleable__label-arrow\"><div><div>ElasticNet</div></div><div><a class=\"sk-estimator-doc-link fitted\" rel=\"noreferrer\" target=\"_blank\" href=\"https://scikit-learn.org/1.6/modules/generated/sklearn.linear_model.ElasticNet.html\">?<span>Documentation for ElasticNet</span></a></div></label><div class=\"sk-toggleable__content fitted\"><pre>ElasticNet(alpha=np.float64(0.00379269019073225), l1_ratio=np.float64(0.0))</pre></div> </div></div></div></div></div></div></div></div></div></div></div>"
      ],
      "text/plain": [
       "GridSearchCV(cv=5,\n",
       "             estimator=Pipeline(steps=[('scaler', StandardScaler()),\n",
       "                                       ('model', ElasticNet())]),\n",
       "             n_jobs=-1,\n",
       "             param_grid={'model__alpha': array([1.00000000e-05, 2.33572147e-05, 5.45559478e-05, 1.27427499e-04,\n",
       "       2.97635144e-04, 6.95192796e-04, 1.62377674e-03, 3.79269019e-03,\n",
       "       8.85866790e-03, 2.06913808e-02, 4.83293024e-02, 1.12883789e-01,\n",
       "       2.63665090e-01, 6.15848211e-01...\n",
       "       0.30612245, 0.32653061, 0.34693878, 0.36734694, 0.3877551 ,\n",
       "       0.40816327, 0.42857143, 0.44897959, 0.46938776, 0.48979592,\n",
       "       0.51020408, 0.53061224, 0.55102041, 0.57142857, 0.59183673,\n",
       "       0.6122449 , 0.63265306, 0.65306122, 0.67346939, 0.69387755,\n",
       "       0.71428571, 0.73469388, 0.75510204, 0.7755102 , 0.79591837,\n",
       "       0.81632653, 0.83673469, 0.85714286, 0.87755102, 0.89795918,\n",
       "       0.91836735, 0.93877551, 0.95918367, 0.97959184, 1.        ])},\n",
       "             scoring='r2', verbose=2)"
      ]
     },
     "execution_count": 261,
     "metadata": {},
     "output_type": "execute_result"
    }
   ],
   "source": [
    "grid_search_pb_1 = GridSearchCV(\n",
    "    estimator=pipeline_pb_1,\n",
    "    param_grid=param_grid_pb_1,\n",
    "    cv=5,\n",
    "    scoring='r2',\n",
    "    verbose=2,\n",
    "    n_jobs=-1\n",
    ")\n",
    "\n",
    "grid_search_pb_1.fit(X_train_pb,Y_train_pb)"
   ]
  },
  {
   "cell_type": "code",
   "execution_count": 262,
   "metadata": {},
   "outputs": [
    {
     "name": "stdout",
     "output_type": "stream",
     "text": [
      "Mejores Hiperparámetros:\n",
      "{'model__alpha': np.float64(0.00379269019073225), 'model__l1_ratio': np.float64(0.0)}\n"
     ]
    }
   ],
   "source": [
    "print('Mejores Hiperparámetros:')\n",
    "print(grid_search_pb_1.best_params_)"
   ]
  },
  {
   "cell_type": "code",
   "execution_count": 263,
   "metadata": {},
   "outputs": [
    {
     "name": "stdout",
     "output_type": "stream",
     "text": [
      "ElasticNet (Países Bajos). R2 Score: 0.8744. RMSE: 2.3828\n"
     ]
    }
   ],
   "source": [
    "y_pred_pb_1 = grid_search_pb_1.predict(X_test_pb)\n",
    "r2_pb_1 = r2_score(Y_test_pb, y_pred_pb_1)\n",
    "rmse_pb_1 = np.sqrt(mean_squared_error(Y_test_pb, y_pred_pb_1))\n",
    "print(f'ElasticNet (Países Bajos). R2 Score: {r2_pb_1:.4f}. RMSE: {rmse_pb_1:.4f}')"
   ]
  },
  {
   "cell_type": "code",
   "execution_count": 264,
   "metadata": {},
   "outputs": [
    {
     "data": {
      "application/vnd.plotly.v1+json": {
       "config": {
        "plotlyServerURL": "https://plot.ly"
       },
       "data": [
        {
         "marker": {
          "color": "orange"
         },
         "mode": "markers",
         "name": "ElasticNet Pred",
         "type": "scatter",
         "x": {
          "bdata": "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",
          "dtype": "f8"
         },
         "y": {
          "bdata": "i/x5bdPPZkDxqYNK6CJnQD56PddTlWZA6s0wdfVxZUDkqk20SRplQJjOGXinFWdAaVmEKXR6ZkAZLd50AT1nQKYZx/FzLGVAHs1FF7lLZUAAQLf57NpmQEwDMLWbGmdAwLc7pGd1ZkBP0Bfb1nlmQGSxCB392WZA50OmACboZkDGCiGFxl5lQNt320MP1WZA/Yfmk5grZUArB0bdRphmQO4WeSS9MmdA7RG4ejgYZUDfUaW+LLRmQDAk2kOB+2ZAmkU0NsqMZkDgQ0lsQd5mQNJZpcqpLGVAIA3URQDtZkDf5CIIGD5lQA3MUCBGA2VANk96v0GdZkAqh5FWGj9lQErcEUf8QmVA4ofHdzooZkCqNW5sMX1lQEnLQ4LdlmZAUwSbE/MJZ0BEPoadfsRmQL9wooFZJWVAmIN9ASIWZ0DqtZECLqBmQJCH4r9+p2ZAzPER+OLrZkCJX7VjgYVmQAZIL0sF/2ZAz52G/OhhZUByFd1GCrlmQC8PtZc+LWVAt0O8LSHOZkCt6V7/gVBmQEoZkCw28mZAorOkeHjwZkCMVfyVFpxlQIocAXptDWdAwHq1BpxZZUBfWUJpoc1mQLT/gUb/CWdAfVbHZ5fYZkCijLZ8VStlQE+qLWxqHGVAYxsTwjMwZUA4d581bQxnQDSPOHwiTGVAbpJEM9L3ZEDF3qnIOglnQLqlrbIc3mZAjr09WlF7ZUANNLh8LixnQJivVwwY02ZAYNDxOitSZUDRukMsMCJnQJot4m763mZAxYvfGkotZ0AILnpRZQNnQPx7Iytn2GZAzvAB8ibwZkDmLxwy5CVlQDmZmRjTGmVAAzDkOtkXZ0D1CgLSAudmQKXD6ztfh2VAQ3CDb+y5ZkCtGHtkYdlmQAGi7njvdGZAfDnRmlzcZkDOsjmu09tlQLP+aa/3rWZAoXZtSEw9Z0CDGd0wdAZlQFN2hlgF8mRAbmVFqshPZUBloLIoOz1nQKTjOO3YLmdArpv/Pw+4ZEDs2Q+vy2ZlQMGSSrZLJGVANAKEAEuXZUDQMpieHXxmQGnQ7d1K+WZAb3BRpKYzZUBCShjtUMZmQGPXg3tFDmVAHKKXH71NZUDl1AGtMixnQP/xN/BY7WZAwaJykXFfZUAAq7Lo/m1mQKs2sfprhGVAhzWTQsGLZkAuCEjTR0JmQNEI9qr16WRAwfR5ER34ZkCYcLOlKCxlQD1Eozv68GZAcTh5IN2fZkA5dqTDKxJnQI/BTbIMK2VA5JmjpFbcZUBVVCJw1JZmQNJ7GTUxzGZAojotmZNnZUA4km0PtPlkQKv6yleDzGZAIkNF+D4PZ0B1lnrisX9mQKKxFF/HhGZAmmZtF1FOZUC/fIyYKaNmQHLhzJNd7mZA3LM/GrQdZkBJz0oYC0BlQK6Y/vzcoGZAmtHK8yaeZkDY17b7gI1mQHofn49oKmVAEVN4BbkrZUA13mplP+VmQM0y2vHGJmVA8iEs3TpRZUD1b9k42mllQOKhchvQeWVApor0RZsCZUAmorZqNVBlQB6d3D2uUWVAYzIEpjm0ZkB3hQLuE/RmQJMtj0FJ0GZAM7rwLHj6ZEDOY+r2tytlQE+dPN9ICmVAUR/I5xj0ZUBm/E9cNN1mQLQA1W7H32ZAIKZG8lnMZkBg3MV7iwRnQKm5X/nQX2VAY0f3zdrMZkCYYHcFEjllQJqJW/QyemVATlbw8j7wZkCgjVLTdRdlQJ29Z3DGrGVALiMjklGIZkAgfnzUJcxmQDNvuVj3BWdAzYDmtzPgZkCo2e5rwd1mQMdzWKcj92RA35sm896JZUCHUvJAhlZnQPfRJga+LGVAMp9Tvu+rZUDtGnmAkERlQIqf5v8U42RAy1a/ulKIZkAshQkEXhdnQAdDwepcOGVAzIrhZHkvZUAm+G3kfedmQE5yjUbnQGVA2Ls5AnLmZkAFjhHvn3BlQDgq4RGdOGdAKtb5vnucZUBtK2G3TVtlQAfQts0dI2VAirpUDatyZkATOemsw+ZmQBmtSq4S42ZA9FOFS2JlZkC6thC/k6NlQCrSq4xTWWVA3mV09SLCZkAq8cy6cV9lQDrtBzE6DWVA7ePCJnLPZECNqRfBN51lQMGjSZUL/2ZAucCJR7b7ZEAn/HoIrwplQA==",
          "dtype": "f8"
         }
        },
        {
         "line": {
          "color": "red",
          "dash": "dash"
         },
         "mode": "lines",
         "name": "Línea Ideal",
         "type": "scatter",
         "x": {
          "bdata": "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",
          "dtype": "f8"
         },
         "y": {
          "bdata": "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",
          "dtype": "f8"
         }
        }
       ],
       "layout": {
        "height": 500,
        "template": {
         "data": {
          "bar": [
           {
            "error_x": {
             "color": "#2a3f5f"
            },
            "error_y": {
             "color": "#2a3f5f"
            },
            "marker": {
             "line": {
              "color": "#E5ECF6",
              "width": 0.5
             },
             "pattern": {
              "fillmode": "overlay",
              "size": 10,
              "solidity": 0.2
             }
            },
            "type": "bar"
           }
          ],
          "barpolar": [
           {
            "marker": {
             "line": {
              "color": "#E5ECF6",
              "width": 0.5
             },
             "pattern": {
              "fillmode": "overlay",
              "size": 10,
              "solidity": 0.2
             }
            },
            "type": "barpolar"
           }
          ],
          "carpet": [
           {
            "aaxis": {
             "endlinecolor": "#2a3f5f",
             "gridcolor": "white",
             "linecolor": "white",
             "minorgridcolor": "white",
             "startlinecolor": "#2a3f5f"
            },
            "baxis": {
             "endlinecolor": "#2a3f5f",
             "gridcolor": "white",
             "linecolor": "white",
             "minorgridcolor": "white",
             "startlinecolor": "#2a3f5f"
            },
            "type": "carpet"
           }
          ],
          "choropleth": [
           {
            "colorbar": {
             "outlinewidth": 0,
             "ticks": ""
            },
            "type": "choropleth"
           }
          ],
          "contour": [
           {
            "colorbar": {
             "outlinewidth": 0,
             "ticks": ""
            },
            "colorscale": [
             [
              0,
              "#0d0887"
             ],
             [
              0.1111111111111111,
              "#46039f"
             ],
             [
              0.2222222222222222,
              "#7201a8"
             ],
             [
              0.3333333333333333,
              "#9c179e"
             ],
             [
              0.4444444444444444,
              "#bd3786"
             ],
             [
              0.5555555555555556,
              "#d8576b"
             ],
             [
              0.6666666666666666,
              "#ed7953"
             ],
             [
              0.7777777777777778,
              "#fb9f3a"
             ],
             [
              0.8888888888888888,
              "#fdca26"
             ],
             [
              1,
              "#f0f921"
             ]
            ],
            "type": "contour"
           }
          ],
          "contourcarpet": [
           {
            "colorbar": {
             "outlinewidth": 0,
             "ticks": ""
            },
            "type": "contourcarpet"
           }
          ],
          "heatmap": [
           {
            "colorbar": {
             "outlinewidth": 0,
             "ticks": ""
            },
            "colorscale": [
             [
              0,
              "#0d0887"
             ],
             [
              0.1111111111111111,
              "#46039f"
             ],
             [
              0.2222222222222222,
              "#7201a8"
             ],
             [
              0.3333333333333333,
              "#9c179e"
             ],
             [
              0.4444444444444444,
              "#bd3786"
             ],
             [
              0.5555555555555556,
              "#d8576b"
             ],
             [
              0.6666666666666666,
              "#ed7953"
             ],
             [
              0.7777777777777778,
              "#fb9f3a"
             ],
             [
              0.8888888888888888,
              "#fdca26"
             ],
             [
              1,
              "#f0f921"
             ]
            ],
            "type": "heatmap"
           }
          ],
          "histogram": [
           {
            "marker": {
             "pattern": {
              "fillmode": "overlay",
              "size": 10,
              "solidity": 0.2
             }
            },
            "type": "histogram"
           }
          ],
          "histogram2d": [
           {
            "colorbar": {
             "outlinewidth": 0,
             "ticks": ""
            },
            "colorscale": [
             [
              0,
              "#0d0887"
             ],
             [
              0.1111111111111111,
              "#46039f"
             ],
             [
              0.2222222222222222,
              "#7201a8"
             ],
             [
              0.3333333333333333,
              "#9c179e"
             ],
             [
              0.4444444444444444,
              "#bd3786"
             ],
             [
              0.5555555555555556,
              "#d8576b"
             ],
             [
              0.6666666666666666,
              "#ed7953"
             ],
             [
              0.7777777777777778,
              "#fb9f3a"
             ],
             [
              0.8888888888888888,
              "#fdca26"
             ],
             [
              1,
              "#f0f921"
             ]
            ],
            "type": "histogram2d"
           }
          ],
          "histogram2dcontour": [
           {
            "colorbar": {
             "outlinewidth": 0,
             "ticks": ""
            },
            "colorscale": [
             [
              0,
              "#0d0887"
             ],
             [
              0.1111111111111111,
              "#46039f"
             ],
             [
              0.2222222222222222,
              "#7201a8"
             ],
             [
              0.3333333333333333,
              "#9c179e"
             ],
             [
              0.4444444444444444,
              "#bd3786"
             ],
             [
              0.5555555555555556,
              "#d8576b"
             ],
             [
              0.6666666666666666,
              "#ed7953"
             ],
             [
              0.7777777777777778,
              "#fb9f3a"
             ],
             [
              0.8888888888888888,
              "#fdca26"
             ],
             [
              1,
              "#f0f921"
             ]
            ],
            "type": "histogram2dcontour"
           }
          ],
          "mesh3d": [
           {
            "colorbar": {
             "outlinewidth": 0,
             "ticks": ""
            },
            "type": "mesh3d"
           }
          ],
          "parcoords": [
           {
            "line": {
             "colorbar": {
              "outlinewidth": 0,
              "ticks": ""
             }
            },
            "type": "parcoords"
           }
          ],
          "pie": [
           {
            "automargin": true,
            "type": "pie"
           }
          ],
          "scatter": [
           {
            "fillpattern": {
             "fillmode": "overlay",
             "size": 10,
             "solidity": 0.2
            },
            "type": "scatter"
           }
          ],
          "scatter3d": [
           {
            "line": {
             "colorbar": {
              "outlinewidth": 0,
              "ticks": ""
             }
            },
            "marker": {
             "colorbar": {
              "outlinewidth": 0,
              "ticks": ""
             }
            },
            "type": "scatter3d"
           }
          ],
          "scattercarpet": [
           {
            "marker": {
             "colorbar": {
              "outlinewidth": 0,
              "ticks": ""
             }
            },
            "type": "scattercarpet"
           }
          ],
          "scattergeo": [
           {
            "marker": {
             "colorbar": {
              "outlinewidth": 0,
              "ticks": ""
             }
            },
            "type": "scattergeo"
           }
          ],
          "scattergl": [
           {
            "marker": {
             "colorbar": {
              "outlinewidth": 0,
              "ticks": ""
             }
            },
            "type": "scattergl"
           }
          ],
          "scattermap": [
           {
            "marker": {
             "colorbar": {
              "outlinewidth": 0,
              "ticks": ""
             }
            },
            "type": "scattermap"
           }
          ],
          "scattermapbox": [
           {
            "marker": {
             "colorbar": {
              "outlinewidth": 0,
              "ticks": ""
             }
            },
            "type": "scattermapbox"
           }
          ],
          "scatterpolar": [
           {
            "marker": {
             "colorbar": {
              "outlinewidth": 0,
              "ticks": ""
             }
            },
            "type": "scatterpolar"
           }
          ],
          "scatterpolargl": [
           {
            "marker": {
             "colorbar": {
              "outlinewidth": 0,
              "ticks": ""
             }
            },
            "type": "scatterpolargl"
           }
          ],
          "scatterternary": [
           {
            "marker": {
             "colorbar": {
              "outlinewidth": 0,
              "ticks": ""
             }
            },
            "type": "scatterternary"
           }
          ],
          "surface": [
           {
            "colorbar": {
             "outlinewidth": 0,
             "ticks": ""
            },
            "colorscale": [
             [
              0,
              "#0d0887"
             ],
             [
              0.1111111111111111,
              "#46039f"
             ],
             [
              0.2222222222222222,
              "#7201a8"
             ],
             [
              0.3333333333333333,
              "#9c179e"
             ],
             [
              0.4444444444444444,
              "#bd3786"
             ],
             [
              0.5555555555555556,
              "#d8576b"
             ],
             [
              0.6666666666666666,
              "#ed7953"
             ],
             [
              0.7777777777777778,
              "#fb9f3a"
             ],
             [
              0.8888888888888888,
              "#fdca26"
             ],
             [
              1,
              "#f0f921"
             ]
            ],
            "type": "surface"
           }
          ],
          "table": [
           {
            "cells": {
             "fill": {
              "color": "#EBF0F8"
             },
             "line": {
              "color": "white"
             }
            },
            "header": {
             "fill": {
              "color": "#C8D4E3"
             },
             "line": {
              "color": "white"
             }
            },
            "type": "table"
           }
          ]
         },
         "layout": {
          "annotationdefaults": {
           "arrowcolor": "#2a3f5f",
           "arrowhead": 0,
           "arrowwidth": 1
          },
          "autotypenumbers": "strict",
          "coloraxis": {
           "colorbar": {
            "outlinewidth": 0,
            "ticks": ""
           }
          },
          "colorscale": {
           "diverging": [
            [
             0,
             "#8e0152"
            ],
            [
             0.1,
             "#c51b7d"
            ],
            [
             0.2,
             "#de77ae"
            ],
            [
             0.3,
             "#f1b6da"
            ],
            [
             0.4,
             "#fde0ef"
            ],
            [
             0.5,
             "#f7f7f7"
            ],
            [
             0.6,
             "#e6f5d0"
            ],
            [
             0.7,
             "#b8e186"
            ],
            [
             0.8,
             "#7fbc41"
            ],
            [
             0.9,
             "#4d9221"
            ],
            [
             1,
             "#276419"
            ]
           ],
           "sequential": [
            [
             0,
             "#0d0887"
            ],
            [
             0.1111111111111111,
             "#46039f"
            ],
            [
             0.2222222222222222,
             "#7201a8"
            ],
            [
             0.3333333333333333,
             "#9c179e"
            ],
            [
             0.4444444444444444,
             "#bd3786"
            ],
            [
             0.5555555555555556,
             "#d8576b"
            ],
            [
             0.6666666666666666,
             "#ed7953"
            ],
            [
             0.7777777777777778,
             "#fb9f3a"
            ],
            [
             0.8888888888888888,
             "#fdca26"
            ],
            [
             1,
             "#f0f921"
            ]
           ],
           "sequentialminus": [
            [
             0,
             "#0d0887"
            ],
            [
             0.1111111111111111,
             "#46039f"
            ],
            [
             0.2222222222222222,
             "#7201a8"
            ],
            [
             0.3333333333333333,
             "#9c179e"
            ],
            [
             0.4444444444444444,
             "#bd3786"
            ],
            [
             0.5555555555555556,
             "#d8576b"
            ],
            [
             0.6666666666666666,
             "#ed7953"
            ],
            [
             0.7777777777777778,
             "#fb9f3a"
            ],
            [
             0.8888888888888888,
             "#fdca26"
            ],
            [
             1,
             "#f0f921"
            ]
           ]
          },
          "colorway": [
           "#636efa",
           "#EF553B",
           "#00cc96",
           "#ab63fa",
           "#FFA15A",
           "#19d3f3",
           "#FF6692",
           "#B6E880",
           "#FF97FF",
           "#FECB52"
          ],
          "font": {
           "color": "#2a3f5f"
          },
          "geo": {
           "bgcolor": "white",
           "lakecolor": "white",
           "landcolor": "#E5ECF6",
           "showlakes": true,
           "showland": true,
           "subunitcolor": "white"
          },
          "hoverlabel": {
           "align": "left"
          },
          "hovermode": "closest",
          "mapbox": {
           "style": "light"
          },
          "paper_bgcolor": "white",
          "plot_bgcolor": "#E5ECF6",
          "polar": {
           "angularaxis": {
            "gridcolor": "white",
            "linecolor": "white",
            "ticks": ""
           },
           "bgcolor": "#E5ECF6",
           "radialaxis": {
            "gridcolor": "white",
            "linecolor": "white",
            "ticks": ""
           }
          },
          "scene": {
           "xaxis": {
            "backgroundcolor": "#E5ECF6",
            "gridcolor": "white",
            "gridwidth": 2,
            "linecolor": "white",
            "showbackground": true,
            "ticks": "",
            "zerolinecolor": "white"
           },
           "yaxis": {
            "backgroundcolor": "#E5ECF6",
            "gridcolor": "white",
            "gridwidth": 2,
            "linecolor": "white",
            "showbackground": true,
            "ticks": "",
            "zerolinecolor": "white"
           },
           "zaxis": {
            "backgroundcolor": "#E5ECF6",
            "gridcolor": "white",
            "gridwidth": 2,
            "linecolor": "white",
            "showbackground": true,
            "ticks": "",
            "zerolinecolor": "white"
           }
          },
          "shapedefaults": {
           "line": {
            "color": "#2a3f5f"
           }
          },
          "ternary": {
           "aaxis": {
            "gridcolor": "white",
            "linecolor": "white",
            "ticks": ""
           },
           "baxis": {
            "gridcolor": "white",
            "linecolor": "white",
            "ticks": ""
           },
           "bgcolor": "#E5ECF6",
           "caxis": {
            "gridcolor": "white",
            "linecolor": "white",
            "ticks": ""
           }
          },
          "title": {
           "x": 0.05
          },
          "xaxis": {
           "automargin": true,
           "gridcolor": "white",
           "linecolor": "white",
           "ticks": "",
           "title": {
            "standoff": 15
           },
           "zerolinecolor": "white",
           "zerolinewidth": 2
          },
          "yaxis": {
           "automargin": true,
           "gridcolor": "white",
           "linecolor": "white",
           "ticks": "",
           "title": {
            "standoff": 15
           },
           "zerolinecolor": "white",
           "zerolinewidth": 2
          }
         }
        },
        "title": {
         "text": "ElasticNet con GridSearch (Malla Amplia), Países Bajos"
        },
        "width": 700,
        "xaxis": {
         "title": {
          "text": "Altura Real"
         }
        },
        "yaxis": {
         "title": {
          "text": "Altura Predicha"
         }
        }
       }
      }
     },
     "metadata": {},
     "output_type": "display_data"
    }
   ],
   "source": [
    "fig_pb_1 = go.Figure()\n",
    "\n",
    "fig_pb_1.add_trace(go.Scatter(\n",
    "    x=Y_test_pb, \n",
    "    y=y_pred_pb_1,\n",
    "    mode='markers',\n",
    "    name='ElasticNet Pred',\n",
    "    marker=dict(color='orange')\n",
    "))\n",
    "\n",
    "fig_pb_1.add_trace(go.Scatter(\n",
    "    x=Y_test_pb,\n",
    "    y=Y_test_pb,\n",
    "    mode='lines',\n",
    "    name='Línea Ideal',\n",
    "    line=dict(color='red', dash='dash')\n",
    "))\n",
    "\n",
    "fig_pb_1.update_layout(\n",
    "    title='ElasticNet con GridSearch (Malla Amplia), Países Bajos',\n",
    "    xaxis_title='Altura Real',\n",
    "    yaxis_title='Altura Predicha',\n",
    "    width=700,\n",
    "    height=500\n",
    ")\n",
    "\n",
    "fig_pb_1.show()"
   ]
  },
  {
   "cell_type": "markdown",
   "metadata": {},
   "source": [
    "### Modelo LinearRegression - Países Bajos"
   ]
  },
  {
   "cell_type": "code",
   "execution_count": 265,
   "metadata": {},
   "outputs": [],
   "source": [
    "X_train_pb_2, X_test_pb_2, Y_train_pb_2, Y_test_pb_2 = train_test_split(x_pb, y_pb, test_size=0.2, random_state=36)"
   ]
  },
  {
   "cell_type": "code",
   "execution_count": 266,
   "metadata": {},
   "outputs": [
    {
     "data": {
      "text/html": [
       "<style>#sk-container-id-36 {\n",
       "  /* Definition of color scheme common for light and dark mode */\n",
       "  --sklearn-color-text: #000;\n",
       "  --sklearn-color-text-muted: #666;\n",
       "  --sklearn-color-line: gray;\n",
       "  /* Definition of color scheme for unfitted estimators */\n",
       "  --sklearn-color-unfitted-level-0: #fff5e6;\n",
       "  --sklearn-color-unfitted-level-1: #f6e4d2;\n",
       "  --sklearn-color-unfitted-level-2: #ffe0b3;\n",
       "  --sklearn-color-unfitted-level-3: chocolate;\n",
       "  /* Definition of color scheme for fitted estimators */\n",
       "  --sklearn-color-fitted-level-0: #f0f8ff;\n",
       "  --sklearn-color-fitted-level-1: #d4ebff;\n",
       "  --sklearn-color-fitted-level-2: #b3dbfd;\n",
       "  --sklearn-color-fitted-level-3: cornflowerblue;\n",
       "\n",
       "  /* Specific color for light theme */\n",
       "  --sklearn-color-text-on-default-background: var(--sg-text-color, var(--theme-code-foreground, var(--jp-content-font-color1, black)));\n",
       "  --sklearn-color-background: var(--sg-background-color, var(--theme-background, var(--jp-layout-color0, white)));\n",
       "  --sklearn-color-border-box: var(--sg-text-color, var(--theme-code-foreground, var(--jp-content-font-color1, black)));\n",
       "  --sklearn-color-icon: #696969;\n",
       "\n",
       "  @media (prefers-color-scheme: dark) {\n",
       "    /* Redefinition of color scheme for dark theme */\n",
       "    --sklearn-color-text-on-default-background: var(--sg-text-color, var(--theme-code-foreground, var(--jp-content-font-color1, white)));\n",
       "    --sklearn-color-background: var(--sg-background-color, var(--theme-background, var(--jp-layout-color0, #111)));\n",
       "    --sklearn-color-border-box: var(--sg-text-color, var(--theme-code-foreground, var(--jp-content-font-color1, white)));\n",
       "    --sklearn-color-icon: #878787;\n",
       "  }\n",
       "}\n",
       "\n",
       "#sk-container-id-36 {\n",
       "  color: var(--sklearn-color-text);\n",
       "}\n",
       "\n",
       "#sk-container-id-36 pre {\n",
       "  padding: 0;\n",
       "}\n",
       "\n",
       "#sk-container-id-36 input.sk-hidden--visually {\n",
       "  border: 0;\n",
       "  clip: rect(1px 1px 1px 1px);\n",
       "  clip: rect(1px, 1px, 1px, 1px);\n",
       "  height: 1px;\n",
       "  margin: -1px;\n",
       "  overflow: hidden;\n",
       "  padding: 0;\n",
       "  position: absolute;\n",
       "  width: 1px;\n",
       "}\n",
       "\n",
       "#sk-container-id-36 div.sk-dashed-wrapped {\n",
       "  border: 1px dashed var(--sklearn-color-line);\n",
       "  margin: 0 0.4em 0.5em 0.4em;\n",
       "  box-sizing: border-box;\n",
       "  padding-bottom: 0.4em;\n",
       "  background-color: var(--sklearn-color-background);\n",
       "}\n",
       "\n",
       "#sk-container-id-36 div.sk-container {\n",
       "  /* jupyter's `normalize.less` sets `[hidden] { display: none; }`\n",
       "     but bootstrap.min.css set `[hidden] { display: none !important; }`\n",
       "     so we also need the `!important` here to be able to override the\n",
       "     default hidden behavior on the sphinx rendered scikit-learn.org.\n",
       "     See: https://github.com/scikit-learn/scikit-learn/issues/21755 */\n",
       "  display: inline-block !important;\n",
       "  position: relative;\n",
       "}\n",
       "\n",
       "#sk-container-id-36 div.sk-text-repr-fallback {\n",
       "  display: none;\n",
       "}\n",
       "\n",
       "div.sk-parallel-item,\n",
       "div.sk-serial,\n",
       "div.sk-item {\n",
       "  /* draw centered vertical line to link estimators */\n",
       "  background-image: linear-gradient(var(--sklearn-color-text-on-default-background), var(--sklearn-color-text-on-default-background));\n",
       "  background-size: 2px 100%;\n",
       "  background-repeat: no-repeat;\n",
       "  background-position: center center;\n",
       "}\n",
       "\n",
       "/* Parallel-specific style estimator block */\n",
       "\n",
       "#sk-container-id-36 div.sk-parallel-item::after {\n",
       "  content: \"\";\n",
       "  width: 100%;\n",
       "  border-bottom: 2px solid var(--sklearn-color-text-on-default-background);\n",
       "  flex-grow: 1;\n",
       "}\n",
       "\n",
       "#sk-container-id-36 div.sk-parallel {\n",
       "  display: flex;\n",
       "  align-items: stretch;\n",
       "  justify-content: center;\n",
       "  background-color: var(--sklearn-color-background);\n",
       "  position: relative;\n",
       "}\n",
       "\n",
       "#sk-container-id-36 div.sk-parallel-item {\n",
       "  display: flex;\n",
       "  flex-direction: column;\n",
       "}\n",
       "\n",
       "#sk-container-id-36 div.sk-parallel-item:first-child::after {\n",
       "  align-self: flex-end;\n",
       "  width: 50%;\n",
       "}\n",
       "\n",
       "#sk-container-id-36 div.sk-parallel-item:last-child::after {\n",
       "  align-self: flex-start;\n",
       "  width: 50%;\n",
       "}\n",
       "\n",
       "#sk-container-id-36 div.sk-parallel-item:only-child::after {\n",
       "  width: 0;\n",
       "}\n",
       "\n",
       "/* Serial-specific style estimator block */\n",
       "\n",
       "#sk-container-id-36 div.sk-serial {\n",
       "  display: flex;\n",
       "  flex-direction: column;\n",
       "  align-items: center;\n",
       "  background-color: var(--sklearn-color-background);\n",
       "  padding-right: 1em;\n",
       "  padding-left: 1em;\n",
       "}\n",
       "\n",
       "\n",
       "/* Toggleable style: style used for estimator/Pipeline/ColumnTransformer box that is\n",
       "clickable and can be expanded/collapsed.\n",
       "- Pipeline and ColumnTransformer use this feature and define the default style\n",
       "- Estimators will overwrite some part of the style using the `sk-estimator` class\n",
       "*/\n",
       "\n",
       "/* Pipeline and ColumnTransformer style (default) */\n",
       "\n",
       "#sk-container-id-36 div.sk-toggleable {\n",
       "  /* Default theme specific background. It is overwritten whether we have a\n",
       "  specific estimator or a Pipeline/ColumnTransformer */\n",
       "  background-color: var(--sklearn-color-background);\n",
       "}\n",
       "\n",
       "/* Toggleable label */\n",
       "#sk-container-id-36 label.sk-toggleable__label {\n",
       "  cursor: pointer;\n",
       "  display: flex;\n",
       "  width: 100%;\n",
       "  margin-bottom: 0;\n",
       "  padding: 0.5em;\n",
       "  box-sizing: border-box;\n",
       "  text-align: center;\n",
       "  align-items: start;\n",
       "  justify-content: space-between;\n",
       "  gap: 0.5em;\n",
       "}\n",
       "\n",
       "#sk-container-id-36 label.sk-toggleable__label .caption {\n",
       "  font-size: 0.6rem;\n",
       "  font-weight: lighter;\n",
       "  color: var(--sklearn-color-text-muted);\n",
       "}\n",
       "\n",
       "#sk-container-id-36 label.sk-toggleable__label-arrow:before {\n",
       "  /* Arrow on the left of the label */\n",
       "  content: \"▸\";\n",
       "  float: left;\n",
       "  margin-right: 0.25em;\n",
       "  color: var(--sklearn-color-icon);\n",
       "}\n",
       "\n",
       "#sk-container-id-36 label.sk-toggleable__label-arrow:hover:before {\n",
       "  color: var(--sklearn-color-text);\n",
       "}\n",
       "\n",
       "/* Toggleable content - dropdown */\n",
       "\n",
       "#sk-container-id-36 div.sk-toggleable__content {\n",
       "  max-height: 0;\n",
       "  max-width: 0;\n",
       "  overflow: hidden;\n",
       "  text-align: left;\n",
       "  /* unfitted */\n",
       "  background-color: var(--sklearn-color-unfitted-level-0);\n",
       "}\n",
       "\n",
       "#sk-container-id-36 div.sk-toggleable__content.fitted {\n",
       "  /* fitted */\n",
       "  background-color: var(--sklearn-color-fitted-level-0);\n",
       "}\n",
       "\n",
       "#sk-container-id-36 div.sk-toggleable__content pre {\n",
       "  margin: 0.2em;\n",
       "  border-radius: 0.25em;\n",
       "  color: var(--sklearn-color-text);\n",
       "  /* unfitted */\n",
       "  background-color: var(--sklearn-color-unfitted-level-0);\n",
       "}\n",
       "\n",
       "#sk-container-id-36 div.sk-toggleable__content.fitted pre {\n",
       "  /* unfitted */\n",
       "  background-color: var(--sklearn-color-fitted-level-0);\n",
       "}\n",
       "\n",
       "#sk-container-id-36 input.sk-toggleable__control:checked~div.sk-toggleable__content {\n",
       "  /* Expand drop-down */\n",
       "  max-height: 200px;\n",
       "  max-width: 100%;\n",
       "  overflow: auto;\n",
       "}\n",
       "\n",
       "#sk-container-id-36 input.sk-toggleable__control:checked~label.sk-toggleable__label-arrow:before {\n",
       "  content: \"▾\";\n",
       "}\n",
       "\n",
       "/* Pipeline/ColumnTransformer-specific style */\n",
       "\n",
       "#sk-container-id-36 div.sk-label input.sk-toggleable__control:checked~label.sk-toggleable__label {\n",
       "  color: var(--sklearn-color-text);\n",
       "  background-color: var(--sklearn-color-unfitted-level-2);\n",
       "}\n",
       "\n",
       "#sk-container-id-36 div.sk-label.fitted input.sk-toggleable__control:checked~label.sk-toggleable__label {\n",
       "  background-color: var(--sklearn-color-fitted-level-2);\n",
       "}\n",
       "\n",
       "/* Estimator-specific style */\n",
       "\n",
       "/* Colorize estimator box */\n",
       "#sk-container-id-36 div.sk-estimator input.sk-toggleable__control:checked~label.sk-toggleable__label {\n",
       "  /* unfitted */\n",
       "  background-color: var(--sklearn-color-unfitted-level-2);\n",
       "}\n",
       "\n",
       "#sk-container-id-36 div.sk-estimator.fitted input.sk-toggleable__control:checked~label.sk-toggleable__label {\n",
       "  /* fitted */\n",
       "  background-color: var(--sklearn-color-fitted-level-2);\n",
       "}\n",
       "\n",
       "#sk-container-id-36 div.sk-label label.sk-toggleable__label,\n",
       "#sk-container-id-36 div.sk-label label {\n",
       "  /* The background is the default theme color */\n",
       "  color: var(--sklearn-color-text-on-default-background);\n",
       "}\n",
       "\n",
       "/* On hover, darken the color of the background */\n",
       "#sk-container-id-36 div.sk-label:hover label.sk-toggleable__label {\n",
       "  color: var(--sklearn-color-text);\n",
       "  background-color: var(--sklearn-color-unfitted-level-2);\n",
       "}\n",
       "\n",
       "/* Label box, darken color on hover, fitted */\n",
       "#sk-container-id-36 div.sk-label.fitted:hover label.sk-toggleable__label.fitted {\n",
       "  color: var(--sklearn-color-text);\n",
       "  background-color: var(--sklearn-color-fitted-level-2);\n",
       "}\n",
       "\n",
       "/* Estimator label */\n",
       "\n",
       "#sk-container-id-36 div.sk-label label {\n",
       "  font-family: monospace;\n",
       "  font-weight: bold;\n",
       "  display: inline-block;\n",
       "  line-height: 1.2em;\n",
       "}\n",
       "\n",
       "#sk-container-id-36 div.sk-label-container {\n",
       "  text-align: center;\n",
       "}\n",
       "\n",
       "/* Estimator-specific */\n",
       "#sk-container-id-36 div.sk-estimator {\n",
       "  font-family: monospace;\n",
       "  border: 1px dotted var(--sklearn-color-border-box);\n",
       "  border-radius: 0.25em;\n",
       "  box-sizing: border-box;\n",
       "  margin-bottom: 0.5em;\n",
       "  /* unfitted */\n",
       "  background-color: var(--sklearn-color-unfitted-level-0);\n",
       "}\n",
       "\n",
       "#sk-container-id-36 div.sk-estimator.fitted {\n",
       "  /* fitted */\n",
       "  background-color: var(--sklearn-color-fitted-level-0);\n",
       "}\n",
       "\n",
       "/* on hover */\n",
       "#sk-container-id-36 div.sk-estimator:hover {\n",
       "  /* unfitted */\n",
       "  background-color: var(--sklearn-color-unfitted-level-2);\n",
       "}\n",
       "\n",
       "#sk-container-id-36 div.sk-estimator.fitted:hover {\n",
       "  /* fitted */\n",
       "  background-color: var(--sklearn-color-fitted-level-2);\n",
       "}\n",
       "\n",
       "/* Specification for estimator info (e.g. \"i\" and \"?\") */\n",
       "\n",
       "/* Common style for \"i\" and \"?\" */\n",
       "\n",
       ".sk-estimator-doc-link,\n",
       "a:link.sk-estimator-doc-link,\n",
       "a:visited.sk-estimator-doc-link {\n",
       "  float: right;\n",
       "  font-size: smaller;\n",
       "  line-height: 1em;\n",
       "  font-family: monospace;\n",
       "  background-color: var(--sklearn-color-background);\n",
       "  border-radius: 1em;\n",
       "  height: 1em;\n",
       "  width: 1em;\n",
       "  text-decoration: none !important;\n",
       "  margin-left: 0.5em;\n",
       "  text-align: center;\n",
       "  /* unfitted */\n",
       "  border: var(--sklearn-color-unfitted-level-1) 1pt solid;\n",
       "  color: var(--sklearn-color-unfitted-level-1);\n",
       "}\n",
       "\n",
       ".sk-estimator-doc-link.fitted,\n",
       "a:link.sk-estimator-doc-link.fitted,\n",
       "a:visited.sk-estimator-doc-link.fitted {\n",
       "  /* fitted */\n",
       "  border: var(--sklearn-color-fitted-level-1) 1pt solid;\n",
       "  color: var(--sklearn-color-fitted-level-1);\n",
       "}\n",
       "\n",
       "/* On hover */\n",
       "div.sk-estimator:hover .sk-estimator-doc-link:hover,\n",
       ".sk-estimator-doc-link:hover,\n",
       "div.sk-label-container:hover .sk-estimator-doc-link:hover,\n",
       ".sk-estimator-doc-link:hover {\n",
       "  /* unfitted */\n",
       "  background-color: var(--sklearn-color-unfitted-level-3);\n",
       "  color: var(--sklearn-color-background);\n",
       "  text-decoration: none;\n",
       "}\n",
       "\n",
       "div.sk-estimator.fitted:hover .sk-estimator-doc-link.fitted:hover,\n",
       ".sk-estimator-doc-link.fitted:hover,\n",
       "div.sk-label-container:hover .sk-estimator-doc-link.fitted:hover,\n",
       ".sk-estimator-doc-link.fitted:hover {\n",
       "  /* fitted */\n",
       "  background-color: var(--sklearn-color-fitted-level-3);\n",
       "  color: var(--sklearn-color-background);\n",
       "  text-decoration: none;\n",
       "}\n",
       "\n",
       "/* Span, style for the box shown on hovering the info icon */\n",
       ".sk-estimator-doc-link span {\n",
       "  display: none;\n",
       "  z-index: 9999;\n",
       "  position: relative;\n",
       "  font-weight: normal;\n",
       "  right: .2ex;\n",
       "  padding: .5ex;\n",
       "  margin: .5ex;\n",
       "  width: min-content;\n",
       "  min-width: 20ex;\n",
       "  max-width: 50ex;\n",
       "  color: var(--sklearn-color-text);\n",
       "  box-shadow: 2pt 2pt 4pt #999;\n",
       "  /* unfitted */\n",
       "  background: var(--sklearn-color-unfitted-level-0);\n",
       "  border: .5pt solid var(--sklearn-color-unfitted-level-3);\n",
       "}\n",
       "\n",
       ".sk-estimator-doc-link.fitted span {\n",
       "  /* fitted */\n",
       "  background: var(--sklearn-color-fitted-level-0);\n",
       "  border: var(--sklearn-color-fitted-level-3);\n",
       "}\n",
       "\n",
       ".sk-estimator-doc-link:hover span {\n",
       "  display: block;\n",
       "}\n",
       "\n",
       "/* \"?\"-specific style due to the `<a>` HTML tag */\n",
       "\n",
       "#sk-container-id-36 a.estimator_doc_link {\n",
       "  float: right;\n",
       "  font-size: 1rem;\n",
       "  line-height: 1em;\n",
       "  font-family: monospace;\n",
       "  background-color: var(--sklearn-color-background);\n",
       "  border-radius: 1rem;\n",
       "  height: 1rem;\n",
       "  width: 1rem;\n",
       "  text-decoration: none;\n",
       "  /* unfitted */\n",
       "  color: var(--sklearn-color-unfitted-level-1);\n",
       "  border: var(--sklearn-color-unfitted-level-1) 1pt solid;\n",
       "}\n",
       "\n",
       "#sk-container-id-36 a.estimator_doc_link.fitted {\n",
       "  /* fitted */\n",
       "  border: var(--sklearn-color-fitted-level-1) 1pt solid;\n",
       "  color: var(--sklearn-color-fitted-level-1);\n",
       "}\n",
       "\n",
       "/* On hover */\n",
       "#sk-container-id-36 a.estimator_doc_link:hover {\n",
       "  /* unfitted */\n",
       "  background-color: var(--sklearn-color-unfitted-level-3);\n",
       "  color: var(--sklearn-color-background);\n",
       "  text-decoration: none;\n",
       "}\n",
       "\n",
       "#sk-container-id-36 a.estimator_doc_link.fitted:hover {\n",
       "  /* fitted */\n",
       "  background-color: var(--sklearn-color-fitted-level-3);\n",
       "}\n",
       "</style><div id=\"sk-container-id-36\" class=\"sk-top-container\"><div class=\"sk-text-repr-fallback\"><pre>LinearRegression()</pre><b>In a Jupyter environment, please rerun this cell to show the HTML representation or trust the notebook. <br />On GitHub, the HTML representation is unable to render, please try loading this page with nbviewer.org.</b></div><div class=\"sk-container\" hidden><div class=\"sk-item\"><div class=\"sk-estimator fitted sk-toggleable\"><input class=\"sk-toggleable__control sk-hidden--visually\" id=\"sk-estimator-id-77\" type=\"checkbox\" checked><label for=\"sk-estimator-id-77\" class=\"sk-toggleable__label fitted sk-toggleable__label-arrow\"><div><div>LinearRegression</div></div><div><a class=\"sk-estimator-doc-link fitted\" rel=\"noreferrer\" target=\"_blank\" href=\"https://scikit-learn.org/1.6/modules/generated/sklearn.linear_model.LinearRegression.html\">?<span>Documentation for LinearRegression</span></a><span class=\"sk-estimator-doc-link fitted\">i<span>Fitted</span></span></div></label><div class=\"sk-toggleable__content fitted\"><pre>LinearRegression()</pre></div> </div></div></div></div>"
      ],
      "text/plain": [
       "LinearRegression()"
      ]
     },
     "execution_count": 266,
     "metadata": {},
     "output_type": "execute_result"
    }
   ],
   "source": [
    "model_pb_2 = LinearRegression()\n",
    "model_pb_2.fit(X_train_pb_2, Y_train_pb_2)"
   ]
  },
  {
   "cell_type": "code",
   "execution_count": 267,
   "metadata": {},
   "outputs": [
    {
     "name": "stdout",
     "output_type": "stream",
     "text": [
      "LinearRegression (Países Bajos). R2 Score: 0.8811. RMSE: 2.3232\n"
     ]
    }
   ],
   "source": [
    "y_pred_pb_2 = model_pb_2.predict(X_test_pb_2)\n",
    "r2_pb_2 = r2_score(Y_test_pb_2, y_pred_pb_2)\n",
    "rmse_pb_2 = np.sqrt(mean_squared_error(Y_test_pb_2, y_pred_pb_2))\n",
    "print(f'LinearRegression (Países Bajos). R2 Score: {r2_pb_2:.4f}. RMSE: {rmse_pb_2:.4f}')"
   ]
  },
  {
   "cell_type": "code",
   "execution_count": 268,
   "metadata": {},
   "outputs": [
    {
     "data": {
      "application/vnd.plotly.v1+json": {
       "config": {
        "plotlyServerURL": "https://plot.ly"
       },
       "data": [
        {
         "marker": {
          "color": "orange"
         },
         "mode": "markers",
         "name": "LinearRegression Pred",
         "type": "scatter",
         "x": {
          "bdata": "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",
          "dtype": "f8"
         },
         "y": {
          "bdata": "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",
          "dtype": "f8"
         }
        },
        {
         "line": {
          "color": "red",
          "dash": "dash"
         },
         "mode": "lines",
         "name": "Línea Ideal",
         "type": "scatter",
         "x": {
          "bdata": "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",
          "dtype": "f8"
         },
         "y": {
          "bdata": "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",
          "dtype": "f8"
         }
        }
       ],
       "layout": {
        "height": 500,
        "template": {
         "data": {
          "bar": [
           {
            "error_x": {
             "color": "#2a3f5f"
            },
            "error_y": {
             "color": "#2a3f5f"
            },
            "marker": {
             "line": {
              "color": "#E5ECF6",
              "width": 0.5
             },
             "pattern": {
              "fillmode": "overlay",
              "size": 10,
              "solidity": 0.2
             }
            },
            "type": "bar"
           }
          ],
          "barpolar": [
           {
            "marker": {
             "line": {
              "color": "#E5ECF6",
              "width": 0.5
             },
             "pattern": {
              "fillmode": "overlay",
              "size": 10,
              "solidity": 0.2
             }
            },
            "type": "barpolar"
           }
          ],
          "carpet": [
           {
            "aaxis": {
             "endlinecolor": "#2a3f5f",
             "gridcolor": "white",
             "linecolor": "white",
             "minorgridcolor": "white",
             "startlinecolor": "#2a3f5f"
            },
            "baxis": {
             "endlinecolor": "#2a3f5f",
             "gridcolor": "white",
             "linecolor": "white",
             "minorgridcolor": "white",
             "startlinecolor": "#2a3f5f"
            },
            "type": "carpet"
           }
          ],
          "choropleth": [
           {
            "colorbar": {
             "outlinewidth": 0,
             "ticks": ""
            },
            "type": "choropleth"
           }
          ],
          "contour": [
           {
            "colorbar": {
             "outlinewidth": 0,
             "ticks": ""
            },
            "colorscale": [
             [
              0,
              "#0d0887"
             ],
             [
              0.1111111111111111,
              "#46039f"
             ],
             [
              0.2222222222222222,
              "#7201a8"
             ],
             [
              0.3333333333333333,
              "#9c179e"
             ],
             [
              0.4444444444444444,
              "#bd3786"
             ],
             [
              0.5555555555555556,
              "#d8576b"
             ],
             [
              0.6666666666666666,
              "#ed7953"
             ],
             [
              0.7777777777777778,
              "#fb9f3a"
             ],
             [
              0.8888888888888888,
              "#fdca26"
             ],
             [
              1,
              "#f0f921"
             ]
            ],
            "type": "contour"
           }
          ],
          "contourcarpet": [
           {
            "colorbar": {
             "outlinewidth": 0,
             "ticks": ""
            },
            "type": "contourcarpet"
           }
          ],
          "heatmap": [
           {
            "colorbar": {
             "outlinewidth": 0,
             "ticks": ""
            },
            "colorscale": [
             [
              0,
              "#0d0887"
             ],
             [
              0.1111111111111111,
              "#46039f"
             ],
             [
              0.2222222222222222,
              "#7201a8"
             ],
             [
              0.3333333333333333,
              "#9c179e"
             ],
             [
              0.4444444444444444,
              "#bd3786"
             ],
             [
              0.5555555555555556,
              "#d8576b"
             ],
             [
              0.6666666666666666,
              "#ed7953"
             ],
             [
              0.7777777777777778,
              "#fb9f3a"
             ],
             [
              0.8888888888888888,
              "#fdca26"
             ],
             [
              1,
              "#f0f921"
             ]
            ],
            "type": "heatmap"
           }
          ],
          "histogram": [
           {
            "marker": {
             "pattern": {
              "fillmode": "overlay",
              "size": 10,
              "solidity": 0.2
             }
            },
            "type": "histogram"
           }
          ],
          "histogram2d": [
           {
            "colorbar": {
             "outlinewidth": 0,
             "ticks": ""
            },
            "colorscale": [
             [
              0,
              "#0d0887"
             ],
             [
              0.1111111111111111,
              "#46039f"
             ],
             [
              0.2222222222222222,
              "#7201a8"
             ],
             [
              0.3333333333333333,
              "#9c179e"
             ],
             [
              0.4444444444444444,
              "#bd3786"
             ],
             [
              0.5555555555555556,
              "#d8576b"
             ],
             [
              0.6666666666666666,
              "#ed7953"
             ],
             [
              0.7777777777777778,
              "#fb9f3a"
             ],
             [
              0.8888888888888888,
              "#fdca26"
             ],
             [
              1,
              "#f0f921"
             ]
            ],
            "type": "histogram2d"
           }
          ],
          "histogram2dcontour": [
           {
            "colorbar": {
             "outlinewidth": 0,
             "ticks": ""
            },
            "colorscale": [
             [
              0,
              "#0d0887"
             ],
             [
              0.1111111111111111,
              "#46039f"
             ],
             [
              0.2222222222222222,
              "#7201a8"
             ],
             [
              0.3333333333333333,
              "#9c179e"
             ],
             [
              0.4444444444444444,
              "#bd3786"
             ],
             [
              0.5555555555555556,
              "#d8576b"
             ],
             [
              0.6666666666666666,
              "#ed7953"
             ],
             [
              0.7777777777777778,
              "#fb9f3a"
             ],
             [
              0.8888888888888888,
              "#fdca26"
             ],
             [
              1,
              "#f0f921"
             ]
            ],
            "type": "histogram2dcontour"
           }
          ],
          "mesh3d": [
           {
            "colorbar": {
             "outlinewidth": 0,
             "ticks": ""
            },
            "type": "mesh3d"
           }
          ],
          "parcoords": [
           {
            "line": {
             "colorbar": {
              "outlinewidth": 0,
              "ticks": ""
             }
            },
            "type": "parcoords"
           }
          ],
          "pie": [
           {
            "automargin": true,
            "type": "pie"
           }
          ],
          "scatter": [
           {
            "fillpattern": {
             "fillmode": "overlay",
             "size": 10,
             "solidity": 0.2
            },
            "type": "scatter"
           }
          ],
          "scatter3d": [
           {
            "line": {
             "colorbar": {
              "outlinewidth": 0,
              "ticks": ""
             }
            },
            "marker": {
             "colorbar": {
              "outlinewidth": 0,
              "ticks": ""
             }
            },
            "type": "scatter3d"
           }
          ],
          "scattercarpet": [
           {
            "marker": {
             "colorbar": {
              "outlinewidth": 0,
              "ticks": ""
             }
            },
            "type": "scattercarpet"
           }
          ],
          "scattergeo": [
           {
            "marker": {
             "colorbar": {
              "outlinewidth": 0,
              "ticks": ""
             }
            },
            "type": "scattergeo"
           }
          ],
          "scattergl": [
           {
            "marker": {
             "colorbar": {
              "outlinewidth": 0,
              "ticks": ""
             }
            },
            "type": "scattergl"
           }
          ],
          "scattermap": [
           {
            "marker": {
             "colorbar": {
              "outlinewidth": 0,
              "ticks": ""
             }
            },
            "type": "scattermap"
           }
          ],
          "scattermapbox": [
           {
            "marker": {
             "colorbar": {
              "outlinewidth": 0,
              "ticks": ""
             }
            },
            "type": "scattermapbox"
           }
          ],
          "scatterpolar": [
           {
            "marker": {
             "colorbar": {
              "outlinewidth": 0,
              "ticks": ""
             }
            },
            "type": "scatterpolar"
           }
          ],
          "scatterpolargl": [
           {
            "marker": {
             "colorbar": {
              "outlinewidth": 0,
              "ticks": ""
             }
            },
            "type": "scatterpolargl"
           }
          ],
          "scatterternary": [
           {
            "marker": {
             "colorbar": {
              "outlinewidth": 0,
              "ticks": ""
             }
            },
            "type": "scatterternary"
           }
          ],
          "surface": [
           {
            "colorbar": {
             "outlinewidth": 0,
             "ticks": ""
            },
            "colorscale": [
             [
              0,
              "#0d0887"
             ],
             [
              0.1111111111111111,
              "#46039f"
             ],
             [
              0.2222222222222222,
              "#7201a8"
             ],
             [
              0.3333333333333333,
              "#9c179e"
             ],
             [
              0.4444444444444444,
              "#bd3786"
             ],
             [
              0.5555555555555556,
              "#d8576b"
             ],
             [
              0.6666666666666666,
              "#ed7953"
             ],
             [
              0.7777777777777778,
              "#fb9f3a"
             ],
             [
              0.8888888888888888,
              "#fdca26"
             ],
             [
              1,
              "#f0f921"
             ]
            ],
            "type": "surface"
           }
          ],
          "table": [
           {
            "cells": {
             "fill": {
              "color": "#EBF0F8"
             },
             "line": {
              "color": "white"
             }
            },
            "header": {
             "fill": {
              "color": "#C8D4E3"
             },
             "line": {
              "color": "white"
             }
            },
            "type": "table"
           }
          ]
         },
         "layout": {
          "annotationdefaults": {
           "arrowcolor": "#2a3f5f",
           "arrowhead": 0,
           "arrowwidth": 1
          },
          "autotypenumbers": "strict",
          "coloraxis": {
           "colorbar": {
            "outlinewidth": 0,
            "ticks": ""
           }
          },
          "colorscale": {
           "diverging": [
            [
             0,
             "#8e0152"
            ],
            [
             0.1,
             "#c51b7d"
            ],
            [
             0.2,
             "#de77ae"
            ],
            [
             0.3,
             "#f1b6da"
            ],
            [
             0.4,
             "#fde0ef"
            ],
            [
             0.5,
             "#f7f7f7"
            ],
            [
             0.6,
             "#e6f5d0"
            ],
            [
             0.7,
             "#b8e186"
            ],
            [
             0.8,
             "#7fbc41"
            ],
            [
             0.9,
             "#4d9221"
            ],
            [
             1,
             "#276419"
            ]
           ],
           "sequential": [
            [
             0,
             "#0d0887"
            ],
            [
             0.1111111111111111,
             "#46039f"
            ],
            [
             0.2222222222222222,
             "#7201a8"
            ],
            [
             0.3333333333333333,
             "#9c179e"
            ],
            [
             0.4444444444444444,
             "#bd3786"
            ],
            [
             0.5555555555555556,
             "#d8576b"
            ],
            [
             0.6666666666666666,
             "#ed7953"
            ],
            [
             0.7777777777777778,
             "#fb9f3a"
            ],
            [
             0.8888888888888888,
             "#fdca26"
            ],
            [
             1,
             "#f0f921"
            ]
           ],
           "sequentialminus": [
            [
             0,
             "#0d0887"
            ],
            [
             0.1111111111111111,
             "#46039f"
            ],
            [
             0.2222222222222222,
             "#7201a8"
            ],
            [
             0.3333333333333333,
             "#9c179e"
            ],
            [
             0.4444444444444444,
             "#bd3786"
            ],
            [
             0.5555555555555556,
             "#d8576b"
            ],
            [
             0.6666666666666666,
             "#ed7953"
            ],
            [
             0.7777777777777778,
             "#fb9f3a"
            ],
            [
             0.8888888888888888,
             "#fdca26"
            ],
            [
             1,
             "#f0f921"
            ]
           ]
          },
          "colorway": [
           "#636efa",
           "#EF553B",
           "#00cc96",
           "#ab63fa",
           "#FFA15A",
           "#19d3f3",
           "#FF6692",
           "#B6E880",
           "#FF97FF",
           "#FECB52"
          ],
          "font": {
           "color": "#2a3f5f"
          },
          "geo": {
           "bgcolor": "white",
           "lakecolor": "white",
           "landcolor": "#E5ECF6",
           "showlakes": true,
           "showland": true,
           "subunitcolor": "white"
          },
          "hoverlabel": {
           "align": "left"
          },
          "hovermode": "closest",
          "mapbox": {
           "style": "light"
          },
          "paper_bgcolor": "white",
          "plot_bgcolor": "#E5ECF6",
          "polar": {
           "angularaxis": {
            "gridcolor": "white",
            "linecolor": "white",
            "ticks": ""
           },
           "bgcolor": "#E5ECF6",
           "radialaxis": {
            "gridcolor": "white",
            "linecolor": "white",
            "ticks": ""
           }
          },
          "scene": {
           "xaxis": {
            "backgroundcolor": "#E5ECF6",
            "gridcolor": "white",
            "gridwidth": 2,
            "linecolor": "white",
            "showbackground": true,
            "ticks": "",
            "zerolinecolor": "white"
           },
           "yaxis": {
            "backgroundcolor": "#E5ECF6",
            "gridcolor": "white",
            "gridwidth": 2,
            "linecolor": "white",
            "showbackground": true,
            "ticks": "",
            "zerolinecolor": "white"
           },
           "zaxis": {
            "backgroundcolor": "#E5ECF6",
            "gridcolor": "white",
            "gridwidth": 2,
            "linecolor": "white",
            "showbackground": true,
            "ticks": "",
            "zerolinecolor": "white"
           }
          },
          "shapedefaults": {
           "line": {
            "color": "#2a3f5f"
           }
          },
          "ternary": {
           "aaxis": {
            "gridcolor": "white",
            "linecolor": "white",
            "ticks": ""
           },
           "baxis": {
            "gridcolor": "white",
            "linecolor": "white",
            "ticks": ""
           },
           "bgcolor": "#E5ECF6",
           "caxis": {
            "gridcolor": "white",
            "linecolor": "white",
            "ticks": ""
           }
          },
          "title": {
           "x": 0.05
          },
          "xaxis": {
           "automargin": true,
           "gridcolor": "white",
           "linecolor": "white",
           "ticks": "",
           "title": {
            "standoff": 15
           },
           "zerolinecolor": "white",
           "zerolinewidth": 2
          },
          "yaxis": {
           "automargin": true,
           "gridcolor": "white",
           "linecolor": "white",
           "ticks": "",
           "title": {
            "standoff": 15
           },
           "zerolinecolor": "white",
           "zerolinewidth": 2
          }
         }
        },
        "title": {
         "text": "LinearRegression Países Bajos"
        },
        "width": 700,
        "xaxis": {
         "title": {
          "text": "Altura Real"
         }
        },
        "yaxis": {
         "title": {
          "text": "Altura Predicha"
         }
        }
       }
      }
     },
     "metadata": {},
     "output_type": "display_data"
    }
   ],
   "source": [
    "fig_pb_2 = go.Figure()\n",
    "\n",
    "fig_pb_2.add_trace(go.Scatter(\n",
    "    x=Y_test_pb_2, \n",
    "    y=y_pred_pb_2,\n",
    "    mode='markers',\n",
    "    name='LinearRegression Pred',\n",
    "    marker=dict(color='orange')\n",
    "))\n",
    "\n",
    "fig_pb_2.add_trace(go.Scatter(\n",
    "    x=Y_test_pb_2,\n",
    "    y=Y_test_pb_2,\n",
    "    mode='lines',\n",
    "    name='Línea Ideal',\n",
    "    line=dict(color='red', dash='dash')\n",
    "))\n",
    "\n",
    "fig_pb_2.update_layout(\n",
    "    title='LinearRegression Países Bajos',\n",
    "    xaxis_title='Altura Real',\n",
    "    yaxis_title='Altura Predicha',\n",
    "    width=700,\n",
    "    height=500\n",
    ")\n",
    "\n",
    "fig_pb_2.show()"
   ]
  },
  {
   "cell_type": "markdown",
   "metadata": {},
   "source": [
    "### Modelo AnchoPie - Países Bajos"
   ]
  },
  {
   "cell_type": "code",
   "execution_count": 269,
   "metadata": {},
   "outputs": [
    {
     "data": {
      "application/vnd.microsoft.datawrangler.viewer.v0+json": {
       "columns": [
        {
         "name": "index",
         "rawType": "int64",
         "type": "integer"
        },
        {
         "name": "Altura",
         "rawType": "float64",
         "type": "float"
        },
        {
         "name": "Ancho",
         "rawType": "float64",
         "type": "float"
        },
        {
         "name": "Pie",
         "rawType": "float64",
         "type": "float"
        },
        {
         "name": "AnchoPie",
         "rawType": "float64",
         "type": "float"
        }
       ],
       "conversionMethod": "pd.DataFrame",
       "ref": "6bdd607a-55e4-40af-bad5-bec9c327dc1c",
       "rows": [
        [
         "0",
         "183.62854812458352",
         "46.043179444627505",
         "28.790037407564053",
         "1325.5848585740102"
        ],
        [
         "1",
         "182.6570122384147",
         "46.06942565074915",
         "28.413152849886668",
         "1308.9776327212253"
        ],
        [
         "2",
         "170.0199513503268",
         "40.906582535746736",
         "24.70900199608083",
         "1010.7608295286113"
        ],
        [
         "3",
         "184.02876785389918",
         "46.1592750697848",
         "27.261316515664916",
         "1258.3626078110442"
        ],
        [
         "4",
         "183.7500655920636",
         "47.67523312483005",
         "27.865330623134792",
         "1328.4861335584171"
        ],
        [
         "5",
         "168.66484479709746",
         "41.84043497479038",
         "24.744882098237948",
         "1035.3366303901794"
        ],
        [
         "6",
         "168.93032960696067",
         "41.31585827515375",
         "22.286822983770463",
         "920.7992198008997"
        ],
        [
         "7",
         "183.71483377867676",
         "46.270484456051015",
         "28.529942218731396",
         "1320.0942479638447"
        ],
        [
         "8",
         "171.5925908955136",
         "40.52915925889262",
         "23.258867485490526",
         "942.6623445009249"
        ],
        [
         "9",
         "170.52192265895982",
         "40.64973092630527",
         "24.270564974627337",
         "986.5919356480102"
        ],
        [
         "10",
         "182.18234393859242",
         "45.91255336186838",
         "29.102279689473995",
         "1336.1599691949932"
        ],
        [
         "11",
         "169.71964024802222",
         "40.746610941259554",
         "24.24613802601479",
         "987.9479529741036"
        ],
        [
         "12",
         "168.84834376176",
         "39.83484158983874",
         "23.001509709958686",
         "916.2614956233418"
        ],
        [
         "13",
         "183.53548351618358",
         "46.558352906616335",
         "30.574575382801395",
         "1423.5018706424116"
        ],
        [
         "14",
         "184.1318584958817",
         "47.04215394901134",
         "28.11526987483748",
         "1322.6028537701056"
        ],
        [
         "15",
         "168.97901466441755",
         "39.801591279856375",
         "22.54604677901899",
         "897.3685388750362"
        ],
        [
         "16",
         "168.1850306230497",
         "37.92731354287062",
         "25.969985779327256",
         "984.9717933564361"
        ],
        [
         "17",
         "170.89329922494125",
         "40.486848474764734",
         "24.71855047855806",
         "1000.7762077412035"
        ],
        [
         "18",
         "171.7370945057485",
         "40.72631303901101",
         "23.922295241093618",
         "974.266884600422"
        ],
        [
         "19",
         "184.02302760412775",
         "47.02003436177046",
         "27.68141642654669",
         "1301.5811515587027"
        ],
        [
         "20",
         "170.07166603255428",
         "40.94173702598523",
         "24.07149798058442",
         "985.528940142622"
        ],
        [
         "21",
         "182.13340952579318",
         "44.42515616690349",
         "27.66830162194112",
         "1229.1686204277235"
        ],
        [
         "22",
         "171.1482370780511",
         "40.93862859913327",
         "25.089875829447305",
         "1027.145108180114"
        ],
        [
         "23",
         "169.29466661560514",
         "40.35880353359355",
         "24.474514391654814",
         "987.7621179129046"
        ],
        [
         "24",
         "170.16409019665883",
         "41.21758233661861",
         "24.92536615599007",
         "1027.3633318048876"
        ],
        [
         "25",
         "170.50451717393",
         "40.95892616983146",
         "23.526466310955044",
         "963.6187966674347"
        ],
        [
         "26",
         "184.01345190364702",
         "48.30744170079707",
         "28.09386436926855",
         "1357.1427151685407"
        ],
        [
         "27",
         "171.1065573540397",
         "41.90529548251434",
         "23.239924452696812",
         "973.8759011815703"
        ],
        [
         "28",
         "170.90505032741547",
         "39.31131526838765",
         "22.648603709527308",
         "890.3464008140021"
        ],
        [
         "29",
         "183.8862176244799",
         "47.4981529311007",
         "28.615453511963437",
         "1359.181187104042"
        ],
        [
         "30",
         "183.84666341599385",
         "47.45601420470346",
         "26.97216845416575",
         "1279.9916092925444"
        ],
        [
         "31",
         "183.9866900947416",
         "44.26438455210692",
         "28.096327649744644",
         "1243.6666515902914"
        ],
        [
         "32",
         "171.25432203816374",
         "41.94931422553948",
         "23.025830062971668",
         "965.917780615472"
        ],
        [
         "33",
         "169.1228919788127",
         "39.59330547778203",
         "23.463720637106277",
         "929.0062588302873"
        ],
        [
         "34",
         "181.35368670180213",
         "45.38990933428606",
         "27.655826292641674",
         "1255.29544798777"
        ],
        [
         "35",
         "169.81462899272492",
         "41.03652950542285",
         "23.38271939718127",
         "959.5456544594523"
        ],
        [
         "36",
         "168.02925303969977",
         "41.24183761965746",
         "26.46551396464934",
         "1091.486429450845"
        ],
        [
         "37",
         "169.02843972982288",
         "40.55232530450948",
         "23.208441594651166",
         "941.1562733570029"
        ],
        [
         "38",
         "167.6855793567635",
         "41.12315928047433",
         "23.635237314925668",
         "971.9556287334988"
        ],
        [
         "39",
         "171.16193834810812",
         "40.101911591133835",
         "22.94892807754706",
         "920.2958848770811"
        ],
        [
         "40",
         "169.51143661586124",
         "40.25574890524344",
         "23.878192843267726",
         "961.2345354095665"
        ],
        [
         "41",
         "169.46819485741847",
         "39.405854883607354",
         "23.91415885360601",
         "942.3578734487324"
        ],
        [
         "42",
         "181.7637148737446",
         "45.53108742916224",
         "25.274928762835728",
         "1150.794991266521"
        ],
        [
         "43",
         "169.82483471023355",
         "39.453329220680025",
         "23.645051991919363",
         "932.8760206772906"
        ],
        [
         "44",
         "170.4098531919177",
         "41.091479516853404",
         "24.551883277966347",
         "1008.8732088167297"
        ],
        [
         "45",
         "180.70094490089005",
         "45.76793528016703",
         "28.316480246960463",
         "1295.9868353050147"
        ],
        [
         "46",
         "169.85523089275782",
         "42.422349177832054",
         "23.96499141638358",
         "1016.6512339095722"
        ],
        [
         "47",
         "169.05128985945316",
         "42.12930192246816",
         "23.528659359374114",
         "991.2459939819782"
        ],
        [
         "48",
         "170.74768475497896",
         "43.34299844242758",
         "25.226692377162777",
         "1093.4004884109659"
        ],
        [
         "49",
         "170.80738060809952",
         "39.92576033807374",
         "22.82980620875091",
         "911.4973712552566"
        ]
       ],
       "shape": {
        "columns": 4,
        "rows": 1000
       }
      },
      "text/html": [
       "<div>\n",
       "<style scoped>\n",
       "    .dataframe tbody tr th:only-of-type {\n",
       "        vertical-align: middle;\n",
       "    }\n",
       "\n",
       "    .dataframe tbody tr th {\n",
       "        vertical-align: top;\n",
       "    }\n",
       "\n",
       "    .dataframe thead th {\n",
       "        text-align: right;\n",
       "    }\n",
       "</style>\n",
       "<table border=\"1\" class=\"dataframe\">\n",
       "  <thead>\n",
       "    <tr style=\"text-align: right;\">\n",
       "      <th></th>\n",
       "      <th>Altura</th>\n",
       "      <th>Ancho</th>\n",
       "      <th>Pie</th>\n",
       "      <th>AnchoPie</th>\n",
       "    </tr>\n",
       "  </thead>\n",
       "  <tbody>\n",
       "    <tr>\n",
       "      <th>0</th>\n",
       "      <td>183.628548</td>\n",
       "      <td>46.043179</td>\n",
       "      <td>28.790037</td>\n",
       "      <td>1325.584859</td>\n",
       "    </tr>\n",
       "    <tr>\n",
       "      <th>1</th>\n",
       "      <td>182.657012</td>\n",
       "      <td>46.069426</td>\n",
       "      <td>28.413153</td>\n",
       "      <td>1308.977633</td>\n",
       "    </tr>\n",
       "    <tr>\n",
       "      <th>2</th>\n",
       "      <td>170.019951</td>\n",
       "      <td>40.906583</td>\n",
       "      <td>24.709002</td>\n",
       "      <td>1010.760830</td>\n",
       "    </tr>\n",
       "    <tr>\n",
       "      <th>3</th>\n",
       "      <td>184.028768</td>\n",
       "      <td>46.159275</td>\n",
       "      <td>27.261317</td>\n",
       "      <td>1258.362608</td>\n",
       "    </tr>\n",
       "    <tr>\n",
       "      <th>4</th>\n",
       "      <td>183.750066</td>\n",
       "      <td>47.675233</td>\n",
       "      <td>27.865331</td>\n",
       "      <td>1328.486134</td>\n",
       "    </tr>\n",
       "    <tr>\n",
       "      <th>...</th>\n",
       "      <td>...</td>\n",
       "      <td>...</td>\n",
       "      <td>...</td>\n",
       "      <td>...</td>\n",
       "    </tr>\n",
       "    <tr>\n",
       "      <th>995</th>\n",
       "      <td>182.317822</td>\n",
       "      <td>45.364209</td>\n",
       "      <td>27.560687</td>\n",
       "      <td>1250.268755</td>\n",
       "    </tr>\n",
       "    <tr>\n",
       "      <th>996</th>\n",
       "      <td>182.802247</td>\n",
       "      <td>46.571614</td>\n",
       "      <td>27.521555</td>\n",
       "      <td>1281.723263</td>\n",
       "    </tr>\n",
       "    <tr>\n",
       "      <th>997</th>\n",
       "      <td>170.699386</td>\n",
       "      <td>39.867865</td>\n",
       "      <td>22.642808</td>\n",
       "      <td>902.720409</td>\n",
       "    </tr>\n",
       "    <tr>\n",
       "      <th>998</th>\n",
       "      <td>183.910817</td>\n",
       "      <td>46.382214</td>\n",
       "      <td>27.310814</td>\n",
       "      <td>1266.735999</td>\n",
       "    </tr>\n",
       "    <tr>\n",
       "      <th>999</th>\n",
       "      <td>183.491739</td>\n",
       "      <td>47.224449</td>\n",
       "      <td>29.360214</td>\n",
       "      <td>1386.519941</td>\n",
       "    </tr>\n",
       "  </tbody>\n",
       "</table>\n",
       "<p>1000 rows × 4 columns</p>\n",
       "</div>"
      ],
      "text/plain": [
       "         Altura      Ancho        Pie     AnchoPie\n",
       "0    183.628548  46.043179  28.790037  1325.584859\n",
       "1    182.657012  46.069426  28.413153  1308.977633\n",
       "2    170.019951  40.906583  24.709002  1010.760830\n",
       "3    184.028768  46.159275  27.261317  1258.362608\n",
       "4    183.750066  47.675233  27.865331  1328.486134\n",
       "..          ...        ...        ...          ...\n",
       "995  182.317822  45.364209  27.560687  1250.268755\n",
       "996  182.802247  46.571614  27.521555  1281.723263\n",
       "997  170.699386  39.867865  22.642808   902.720409\n",
       "998  183.910817  46.382214  27.310814  1266.735999\n",
       "999  183.491739  47.224449  29.360214  1386.519941\n",
       "\n",
       "[1000 rows x 4 columns]"
      ]
     },
     "execution_count": 269,
     "metadata": {},
     "output_type": "execute_result"
    }
   ],
   "source": [
    "df_pb_3 = df_pb.copy()\n",
    "df_pb_3['AnchoPie'] = df_pb_3['Pie'] * df_pb_3['Ancho']\n",
    "df_pb_3"
   ]
  },
  {
   "cell_type": "code",
   "execution_count": 270,
   "metadata": {},
   "outputs": [
    {
     "data": {
      "application/vnd.plotly.v1+json": {
       "config": {
        "plotlyServerURL": "https://plot.ly"
       },
       "data": [
        {
         "hovertemplate": "Altura (cm)=%{x}<br>AnchoPie=%{y}<extra></extra>",
         "legendgroup": "",
         "marker": {
          "color": "blue",
          "symbol": "circle"
         },
         "mode": "markers",
         "name": "",
         "orientation": "v",
         "showlegend": false,
         "type": "scatter",
         "x": {
          "bdata": "EGankRYsZUD+x6nnc9dmQKCYD0nsmGVApENDhFfLZkAs49XgyLVlQGNWaI0kXWRAhqZjbFoPaEAHu4AdMKRlQA3A8wyURmZA9mZzpGfrZUCj7gsYxt1lQGG1T+Lb52ZAWGDJMQA4ZkCnrOwXKs1kQGr1IDHP/GRAjqTbXAsnZkCmAJDmDsBmQKPfZ8ZujmVAwPCqEjDoZUA9h8fzHFdlQAo317b/OmVAKl3QXSRuZEDtPxYX6vFlQAz4On1A7WNAMzrjvGJ+ZEBNb4IIaxVjQP7GcJ971mNAiQTxhLWkZEDIQmCP3cRkQAgaxRm2W2RAbvIMEhm2ZEBDtke5aCpkQBmWKB2TOmRAoSMs0xHGYkCpmIelnvNjQFzG+Q0JYWNAqYxpvTWTY0B7eE8Fbs9jQFozEj6NKWRAWeNEiWBJY0DBchExvn1jQK6JgvDxx2RArVS9ZiesY0AHxGIn4XlkQGGhP/wXWGRAjAUSCsJsY0AMur4Y+7tjQPehZm0aSmRAdbTiSqrDZEA7NcohbtdjQAAAAAAAIGdAAAAAAACgZUAAAAAAAGBkQAAAAAAAQGRAAAAAAACAZUAAAAAAAOBjQAAAAAAAYGdAAAAAAACgZEAAAAAAAOBlQAAAAAAAQGRAAAAAAABgY0AAAAAAAABlQAAAAAAAYGZAAAAAAACAZUAAAAAAAOBjQAAAAAAAwGRAAAAAAACAY0AAAAAAAMBiQA==",
          "dtype": "f8"
         },
         "xaxis": "x",
         "y": {
          "bdata": "f/z2QCjMlkDQHgKb3y+UQMYUrX6FBJJAbNkV+ix4lkAonK8L9LSTQIf61PAR3ZRAjMvzetDYlkDg067o+SyVQL7IHq09uJNAvC6B0HuolED7sptAK8KVQPkufwmjRJ1A2+dh8DYHl0DKgcQGPyyXQEdGKUjwHJNA7e4awLTgl0CXab1H2GWXQEfmBZUcKZNA5COcJoXIlUDWd+2BGPyXQNUoln8AapZAinQTBJRwkEDE8bKlLd2LQLw66goffYxAN4sCuLxQjUBb70u9uE2NQGsCPKRrr41AeP84pjyujkAfYQs5ttWNQJwo7uPOB41A75HTXkp2ikBUxae9BOGMQAgPz+Y31I1A0XKGQNi5jUCu9V7RbeaJQI5ir8Mzko1AHJUC5ERrjkD4kzj64G2MQPVxeP7MuI5Aq3eYohdcjUDh/E9xH/yQQAduXKlkb4xAXX/jBuq9kEAgP+c1s3yNQJldDx4VUYxA/FOGHabEjkCT6dhNw/eLQP3v1OSxJ5BAAHhqFWLukEA9TqYFG5qMQAAAAAAAEJhAAAAAAAA4kkAAAAAAAICQQAAAAAAA2JBAAAAAAABok0AAAAAAAMCMQAAAAAAAwJVAAAAAAAAAjkAAAAAAAA6VQAAAAAAAoI9AAAAAAACAi0AAAAAAAMiYQAAAAAAAEJhAAAAAAAB8lUAAAAAAAICMQAAAAAAA3I1AAAAAAACAjEAAAAAAAGyLQA==",
          "dtype": "f8"
         },
         "yaxis": "y"
        }
       ],
       "layout": {
        "legend": {
         "tracegroupgap": 0
        },
        "template": {
         "data": {
          "bar": [
           {
            "error_x": {
             "color": "#2a3f5f"
            },
            "error_y": {
             "color": "#2a3f5f"
            },
            "marker": {
             "line": {
              "color": "#E5ECF6",
              "width": 0.5
             },
             "pattern": {
              "fillmode": "overlay",
              "size": 10,
              "solidity": 0.2
             }
            },
            "type": "bar"
           }
          ],
          "barpolar": [
           {
            "marker": {
             "line": {
              "color": "#E5ECF6",
              "width": 0.5
             },
             "pattern": {
              "fillmode": "overlay",
              "size": 10,
              "solidity": 0.2
             }
            },
            "type": "barpolar"
           }
          ],
          "carpet": [
           {
            "aaxis": {
             "endlinecolor": "#2a3f5f",
             "gridcolor": "white",
             "linecolor": "white",
             "minorgridcolor": "white",
             "startlinecolor": "#2a3f5f"
            },
            "baxis": {
             "endlinecolor": "#2a3f5f",
             "gridcolor": "white",
             "linecolor": "white",
             "minorgridcolor": "white",
             "startlinecolor": "#2a3f5f"
            },
            "type": "carpet"
           }
          ],
          "choropleth": [
           {
            "colorbar": {
             "outlinewidth": 0,
             "ticks": ""
            },
            "type": "choropleth"
           }
          ],
          "contour": [
           {
            "colorbar": {
             "outlinewidth": 0,
             "ticks": ""
            },
            "colorscale": [
             [
              0,
              "#0d0887"
             ],
             [
              0.1111111111111111,
              "#46039f"
             ],
             [
              0.2222222222222222,
              "#7201a8"
             ],
             [
              0.3333333333333333,
              "#9c179e"
             ],
             [
              0.4444444444444444,
              "#bd3786"
             ],
             [
              0.5555555555555556,
              "#d8576b"
             ],
             [
              0.6666666666666666,
              "#ed7953"
             ],
             [
              0.7777777777777778,
              "#fb9f3a"
             ],
             [
              0.8888888888888888,
              "#fdca26"
             ],
             [
              1,
              "#f0f921"
             ]
            ],
            "type": "contour"
           }
          ],
          "contourcarpet": [
           {
            "colorbar": {
             "outlinewidth": 0,
             "ticks": ""
            },
            "type": "contourcarpet"
           }
          ],
          "heatmap": [
           {
            "colorbar": {
             "outlinewidth": 0,
             "ticks": ""
            },
            "colorscale": [
             [
              0,
              "#0d0887"
             ],
             [
              0.1111111111111111,
              "#46039f"
             ],
             [
              0.2222222222222222,
              "#7201a8"
             ],
             [
              0.3333333333333333,
              "#9c179e"
             ],
             [
              0.4444444444444444,
              "#bd3786"
             ],
             [
              0.5555555555555556,
              "#d8576b"
             ],
             [
              0.6666666666666666,
              "#ed7953"
             ],
             [
              0.7777777777777778,
              "#fb9f3a"
             ],
             [
              0.8888888888888888,
              "#fdca26"
             ],
             [
              1,
              "#f0f921"
             ]
            ],
            "type": "heatmap"
           }
          ],
          "histogram": [
           {
            "marker": {
             "pattern": {
              "fillmode": "overlay",
              "size": 10,
              "solidity": 0.2
             }
            },
            "type": "histogram"
           }
          ],
          "histogram2d": [
           {
            "colorbar": {
             "outlinewidth": 0,
             "ticks": ""
            },
            "colorscale": [
             [
              0,
              "#0d0887"
             ],
             [
              0.1111111111111111,
              "#46039f"
             ],
             [
              0.2222222222222222,
              "#7201a8"
             ],
             [
              0.3333333333333333,
              "#9c179e"
             ],
             [
              0.4444444444444444,
              "#bd3786"
             ],
             [
              0.5555555555555556,
              "#d8576b"
             ],
             [
              0.6666666666666666,
              "#ed7953"
             ],
             [
              0.7777777777777778,
              "#fb9f3a"
             ],
             [
              0.8888888888888888,
              "#fdca26"
             ],
             [
              1,
              "#f0f921"
             ]
            ],
            "type": "histogram2d"
           }
          ],
          "histogram2dcontour": [
           {
            "colorbar": {
             "outlinewidth": 0,
             "ticks": ""
            },
            "colorscale": [
             [
              0,
              "#0d0887"
             ],
             [
              0.1111111111111111,
              "#46039f"
             ],
             [
              0.2222222222222222,
              "#7201a8"
             ],
             [
              0.3333333333333333,
              "#9c179e"
             ],
             [
              0.4444444444444444,
              "#bd3786"
             ],
             [
              0.5555555555555556,
              "#d8576b"
             ],
             [
              0.6666666666666666,
              "#ed7953"
             ],
             [
              0.7777777777777778,
              "#fb9f3a"
             ],
             [
              0.8888888888888888,
              "#fdca26"
             ],
             [
              1,
              "#f0f921"
             ]
            ],
            "type": "histogram2dcontour"
           }
          ],
          "mesh3d": [
           {
            "colorbar": {
             "outlinewidth": 0,
             "ticks": ""
            },
            "type": "mesh3d"
           }
          ],
          "parcoords": [
           {
            "line": {
             "colorbar": {
              "outlinewidth": 0,
              "ticks": ""
             }
            },
            "type": "parcoords"
           }
          ],
          "pie": [
           {
            "automargin": true,
            "type": "pie"
           }
          ],
          "scatter": [
           {
            "fillpattern": {
             "fillmode": "overlay",
             "size": 10,
             "solidity": 0.2
            },
            "type": "scatter"
           }
          ],
          "scatter3d": [
           {
            "line": {
             "colorbar": {
              "outlinewidth": 0,
              "ticks": ""
             }
            },
            "marker": {
             "colorbar": {
              "outlinewidth": 0,
              "ticks": ""
             }
            },
            "type": "scatter3d"
           }
          ],
          "scattercarpet": [
           {
            "marker": {
             "colorbar": {
              "outlinewidth": 0,
              "ticks": ""
             }
            },
            "type": "scattercarpet"
           }
          ],
          "scattergeo": [
           {
            "marker": {
             "colorbar": {
              "outlinewidth": 0,
              "ticks": ""
             }
            },
            "type": "scattergeo"
           }
          ],
          "scattergl": [
           {
            "marker": {
             "colorbar": {
              "outlinewidth": 0,
              "ticks": ""
             }
            },
            "type": "scattergl"
           }
          ],
          "scattermap": [
           {
            "marker": {
             "colorbar": {
              "outlinewidth": 0,
              "ticks": ""
             }
            },
            "type": "scattermap"
           }
          ],
          "scattermapbox": [
           {
            "marker": {
             "colorbar": {
              "outlinewidth": 0,
              "ticks": ""
             }
            },
            "type": "scattermapbox"
           }
          ],
          "scatterpolar": [
           {
            "marker": {
             "colorbar": {
              "outlinewidth": 0,
              "ticks": ""
             }
            },
            "type": "scatterpolar"
           }
          ],
          "scatterpolargl": [
           {
            "marker": {
             "colorbar": {
              "outlinewidth": 0,
              "ticks": ""
             }
            },
            "type": "scatterpolargl"
           }
          ],
          "scatterternary": [
           {
            "marker": {
             "colorbar": {
              "outlinewidth": 0,
              "ticks": ""
             }
            },
            "type": "scatterternary"
           }
          ],
          "surface": [
           {
            "colorbar": {
             "outlinewidth": 0,
             "ticks": ""
            },
            "colorscale": [
             [
              0,
              "#0d0887"
             ],
             [
              0.1111111111111111,
              "#46039f"
             ],
             [
              0.2222222222222222,
              "#7201a8"
             ],
             [
              0.3333333333333333,
              "#9c179e"
             ],
             [
              0.4444444444444444,
              "#bd3786"
             ],
             [
              0.5555555555555556,
              "#d8576b"
             ],
             [
              0.6666666666666666,
              "#ed7953"
             ],
             [
              0.7777777777777778,
              "#fb9f3a"
             ],
             [
              0.8888888888888888,
              "#fdca26"
             ],
             [
              1,
              "#f0f921"
             ]
            ],
            "type": "surface"
           }
          ],
          "table": [
           {
            "cells": {
             "fill": {
              "color": "#EBF0F8"
             },
             "line": {
              "color": "white"
             }
            },
            "header": {
             "fill": {
              "color": "#C8D4E3"
             },
             "line": {
              "color": "white"
             }
            },
            "type": "table"
           }
          ]
         },
         "layout": {
          "annotationdefaults": {
           "arrowcolor": "#2a3f5f",
           "arrowhead": 0,
           "arrowwidth": 1
          },
          "autotypenumbers": "strict",
          "coloraxis": {
           "colorbar": {
            "outlinewidth": 0,
            "ticks": ""
           }
          },
          "colorscale": {
           "diverging": [
            [
             0,
             "#8e0152"
            ],
            [
             0.1,
             "#c51b7d"
            ],
            [
             0.2,
             "#de77ae"
            ],
            [
             0.3,
             "#f1b6da"
            ],
            [
             0.4,
             "#fde0ef"
            ],
            [
             0.5,
             "#f7f7f7"
            ],
            [
             0.6,
             "#e6f5d0"
            ],
            [
             0.7,
             "#b8e186"
            ],
            [
             0.8,
             "#7fbc41"
            ],
            [
             0.9,
             "#4d9221"
            ],
            [
             1,
             "#276419"
            ]
           ],
           "sequential": [
            [
             0,
             "#0d0887"
            ],
            [
             0.1111111111111111,
             "#46039f"
            ],
            [
             0.2222222222222222,
             "#7201a8"
            ],
            [
             0.3333333333333333,
             "#9c179e"
            ],
            [
             0.4444444444444444,
             "#bd3786"
            ],
            [
             0.5555555555555556,
             "#d8576b"
            ],
            [
             0.6666666666666666,
             "#ed7953"
            ],
            [
             0.7777777777777778,
             "#fb9f3a"
            ],
            [
             0.8888888888888888,
             "#fdca26"
            ],
            [
             1,
             "#f0f921"
            ]
           ],
           "sequentialminus": [
            [
             0,
             "#0d0887"
            ],
            [
             0.1111111111111111,
             "#46039f"
            ],
            [
             0.2222222222222222,
             "#7201a8"
            ],
            [
             0.3333333333333333,
             "#9c179e"
            ],
            [
             0.4444444444444444,
             "#bd3786"
            ],
            [
             0.5555555555555556,
             "#d8576b"
            ],
            [
             0.6666666666666666,
             "#ed7953"
            ],
            [
             0.7777777777777778,
             "#fb9f3a"
            ],
            [
             0.8888888888888888,
             "#fdca26"
            ],
            [
             1,
             "#f0f921"
            ]
           ]
          },
          "colorway": [
           "#636efa",
           "#EF553B",
           "#00cc96",
           "#ab63fa",
           "#FFA15A",
           "#19d3f3",
           "#FF6692",
           "#B6E880",
           "#FF97FF",
           "#FECB52"
          ],
          "font": {
           "color": "#2a3f5f"
          },
          "geo": {
           "bgcolor": "white",
           "lakecolor": "white",
           "landcolor": "#E5ECF6",
           "showlakes": true,
           "showland": true,
           "subunitcolor": "white"
          },
          "hoverlabel": {
           "align": "left"
          },
          "hovermode": "closest",
          "mapbox": {
           "style": "light"
          },
          "paper_bgcolor": "white",
          "plot_bgcolor": "#E5ECF6",
          "polar": {
           "angularaxis": {
            "gridcolor": "white",
            "linecolor": "white",
            "ticks": ""
           },
           "bgcolor": "#E5ECF6",
           "radialaxis": {
            "gridcolor": "white",
            "linecolor": "white",
            "ticks": ""
           }
          },
          "scene": {
           "xaxis": {
            "backgroundcolor": "#E5ECF6",
            "gridcolor": "white",
            "gridwidth": 2,
            "linecolor": "white",
            "showbackground": true,
            "ticks": "",
            "zerolinecolor": "white"
           },
           "yaxis": {
            "backgroundcolor": "#E5ECF6",
            "gridcolor": "white",
            "gridwidth": 2,
            "linecolor": "white",
            "showbackground": true,
            "ticks": "",
            "zerolinecolor": "white"
           },
           "zaxis": {
            "backgroundcolor": "#E5ECF6",
            "gridcolor": "white",
            "gridwidth": 2,
            "linecolor": "white",
            "showbackground": true,
            "ticks": "",
            "zerolinecolor": "white"
           }
          },
          "shapedefaults": {
           "line": {
            "color": "#2a3f5f"
           }
          },
          "ternary": {
           "aaxis": {
            "gridcolor": "white",
            "linecolor": "white",
            "ticks": ""
           },
           "baxis": {
            "gridcolor": "white",
            "linecolor": "white",
            "ticks": ""
           },
           "bgcolor": "#E5ECF6",
           "caxis": {
            "gridcolor": "white",
            "linecolor": "white",
            "ticks": ""
           }
          },
          "title": {
           "x": 0.05
          },
          "xaxis": {
           "automargin": true,
           "gridcolor": "white",
           "linecolor": "white",
           "ticks": "",
           "title": {
            "standoff": 15
           },
           "zerolinecolor": "white",
           "zerolinewidth": 2
          },
          "yaxis": {
           "automargin": true,
           "gridcolor": "white",
           "linecolor": "white",
           "ticks": "",
           "title": {
            "standoff": 15
           },
           "zerolinecolor": "white",
           "zerolinewidth": 2
          }
         }
        },
        "title": {
         "text": "Altura vs AnchoPie"
        },
        "xaxis": {
         "anchor": "y",
         "domain": [
          0,
          1
         ],
         "title": {
          "text": "Altura (cm)"
         }
        },
        "yaxis": {
         "anchor": "x",
         "domain": [
          0,
          1
         ],
         "title": {
          "text": "AnchoPie"
         }
        }
       }
      }
     },
     "metadata": {},
     "output_type": "display_data"
    }
   ],
   "source": [
    "fig3 = px.scatter(df_pb_3, x=\"Altura\", y=\"AnchoPie\", \n",
    "                  title=\"Altura vs AnchoPie\", \n",
    "                  labels={\"Altura\": \"Altura (cm)\", \"AnchoPie\": \"AnchoPie\"},\n",
    "                  color_discrete_sequence=[\"blue\"])\n",
    "\n",
    "fig1.show()"
   ]
  },
  {
   "cell_type": "code",
   "execution_count": 271,
   "metadata": {},
   "outputs": [
    {
     "data": {
      "text/html": [
       "<style>#sk-container-id-37 {\n",
       "  /* Definition of color scheme common for light and dark mode */\n",
       "  --sklearn-color-text: #000;\n",
       "  --sklearn-color-text-muted: #666;\n",
       "  --sklearn-color-line: gray;\n",
       "  /* Definition of color scheme for unfitted estimators */\n",
       "  --sklearn-color-unfitted-level-0: #fff5e6;\n",
       "  --sklearn-color-unfitted-level-1: #f6e4d2;\n",
       "  --sklearn-color-unfitted-level-2: #ffe0b3;\n",
       "  --sklearn-color-unfitted-level-3: chocolate;\n",
       "  /* Definition of color scheme for fitted estimators */\n",
       "  --sklearn-color-fitted-level-0: #f0f8ff;\n",
       "  --sklearn-color-fitted-level-1: #d4ebff;\n",
       "  --sklearn-color-fitted-level-2: #b3dbfd;\n",
       "  --sklearn-color-fitted-level-3: cornflowerblue;\n",
       "\n",
       "  /* Specific color for light theme */\n",
       "  --sklearn-color-text-on-default-background: var(--sg-text-color, var(--theme-code-foreground, var(--jp-content-font-color1, black)));\n",
       "  --sklearn-color-background: var(--sg-background-color, var(--theme-background, var(--jp-layout-color0, white)));\n",
       "  --sklearn-color-border-box: var(--sg-text-color, var(--theme-code-foreground, var(--jp-content-font-color1, black)));\n",
       "  --sklearn-color-icon: #696969;\n",
       "\n",
       "  @media (prefers-color-scheme: dark) {\n",
       "    /* Redefinition of color scheme for dark theme */\n",
       "    --sklearn-color-text-on-default-background: var(--sg-text-color, var(--theme-code-foreground, var(--jp-content-font-color1, white)));\n",
       "    --sklearn-color-background: var(--sg-background-color, var(--theme-background, var(--jp-layout-color0, #111)));\n",
       "    --sklearn-color-border-box: var(--sg-text-color, var(--theme-code-foreground, var(--jp-content-font-color1, white)));\n",
       "    --sklearn-color-icon: #878787;\n",
       "  }\n",
       "}\n",
       "\n",
       "#sk-container-id-37 {\n",
       "  color: var(--sklearn-color-text);\n",
       "}\n",
       "\n",
       "#sk-container-id-37 pre {\n",
       "  padding: 0;\n",
       "}\n",
       "\n",
       "#sk-container-id-37 input.sk-hidden--visually {\n",
       "  border: 0;\n",
       "  clip: rect(1px 1px 1px 1px);\n",
       "  clip: rect(1px, 1px, 1px, 1px);\n",
       "  height: 1px;\n",
       "  margin: -1px;\n",
       "  overflow: hidden;\n",
       "  padding: 0;\n",
       "  position: absolute;\n",
       "  width: 1px;\n",
       "}\n",
       "\n",
       "#sk-container-id-37 div.sk-dashed-wrapped {\n",
       "  border: 1px dashed var(--sklearn-color-line);\n",
       "  margin: 0 0.4em 0.5em 0.4em;\n",
       "  box-sizing: border-box;\n",
       "  padding-bottom: 0.4em;\n",
       "  background-color: var(--sklearn-color-background);\n",
       "}\n",
       "\n",
       "#sk-container-id-37 div.sk-container {\n",
       "  /* jupyter's `normalize.less` sets `[hidden] { display: none; }`\n",
       "     but bootstrap.min.css set `[hidden] { display: none !important; }`\n",
       "     so we also need the `!important` here to be able to override the\n",
       "     default hidden behavior on the sphinx rendered scikit-learn.org.\n",
       "     See: https://github.com/scikit-learn/scikit-learn/issues/21755 */\n",
       "  display: inline-block !important;\n",
       "  position: relative;\n",
       "}\n",
       "\n",
       "#sk-container-id-37 div.sk-text-repr-fallback {\n",
       "  display: none;\n",
       "}\n",
       "\n",
       "div.sk-parallel-item,\n",
       "div.sk-serial,\n",
       "div.sk-item {\n",
       "  /* draw centered vertical line to link estimators */\n",
       "  background-image: linear-gradient(var(--sklearn-color-text-on-default-background), var(--sklearn-color-text-on-default-background));\n",
       "  background-size: 2px 100%;\n",
       "  background-repeat: no-repeat;\n",
       "  background-position: center center;\n",
       "}\n",
       "\n",
       "/* Parallel-specific style estimator block */\n",
       "\n",
       "#sk-container-id-37 div.sk-parallel-item::after {\n",
       "  content: \"\";\n",
       "  width: 100%;\n",
       "  border-bottom: 2px solid var(--sklearn-color-text-on-default-background);\n",
       "  flex-grow: 1;\n",
       "}\n",
       "\n",
       "#sk-container-id-37 div.sk-parallel {\n",
       "  display: flex;\n",
       "  align-items: stretch;\n",
       "  justify-content: center;\n",
       "  background-color: var(--sklearn-color-background);\n",
       "  position: relative;\n",
       "}\n",
       "\n",
       "#sk-container-id-37 div.sk-parallel-item {\n",
       "  display: flex;\n",
       "  flex-direction: column;\n",
       "}\n",
       "\n",
       "#sk-container-id-37 div.sk-parallel-item:first-child::after {\n",
       "  align-self: flex-end;\n",
       "  width: 50%;\n",
       "}\n",
       "\n",
       "#sk-container-id-37 div.sk-parallel-item:last-child::after {\n",
       "  align-self: flex-start;\n",
       "  width: 50%;\n",
       "}\n",
       "\n",
       "#sk-container-id-37 div.sk-parallel-item:only-child::after {\n",
       "  width: 0;\n",
       "}\n",
       "\n",
       "/* Serial-specific style estimator block */\n",
       "\n",
       "#sk-container-id-37 div.sk-serial {\n",
       "  display: flex;\n",
       "  flex-direction: column;\n",
       "  align-items: center;\n",
       "  background-color: var(--sklearn-color-background);\n",
       "  padding-right: 1em;\n",
       "  padding-left: 1em;\n",
       "}\n",
       "\n",
       "\n",
       "/* Toggleable style: style used for estimator/Pipeline/ColumnTransformer box that is\n",
       "clickable and can be expanded/collapsed.\n",
       "- Pipeline and ColumnTransformer use this feature and define the default style\n",
       "- Estimators will overwrite some part of the style using the `sk-estimator` class\n",
       "*/\n",
       "\n",
       "/* Pipeline and ColumnTransformer style (default) */\n",
       "\n",
       "#sk-container-id-37 div.sk-toggleable {\n",
       "  /* Default theme specific background. It is overwritten whether we have a\n",
       "  specific estimator or a Pipeline/ColumnTransformer */\n",
       "  background-color: var(--sklearn-color-background);\n",
       "}\n",
       "\n",
       "/* Toggleable label */\n",
       "#sk-container-id-37 label.sk-toggleable__label {\n",
       "  cursor: pointer;\n",
       "  display: flex;\n",
       "  width: 100%;\n",
       "  margin-bottom: 0;\n",
       "  padding: 0.5em;\n",
       "  box-sizing: border-box;\n",
       "  text-align: center;\n",
       "  align-items: start;\n",
       "  justify-content: space-between;\n",
       "  gap: 0.5em;\n",
       "}\n",
       "\n",
       "#sk-container-id-37 label.sk-toggleable__label .caption {\n",
       "  font-size: 0.6rem;\n",
       "  font-weight: lighter;\n",
       "  color: var(--sklearn-color-text-muted);\n",
       "}\n",
       "\n",
       "#sk-container-id-37 label.sk-toggleable__label-arrow:before {\n",
       "  /* Arrow on the left of the label */\n",
       "  content: \"▸\";\n",
       "  float: left;\n",
       "  margin-right: 0.25em;\n",
       "  color: var(--sklearn-color-icon);\n",
       "}\n",
       "\n",
       "#sk-container-id-37 label.sk-toggleable__label-arrow:hover:before {\n",
       "  color: var(--sklearn-color-text);\n",
       "}\n",
       "\n",
       "/* Toggleable content - dropdown */\n",
       "\n",
       "#sk-container-id-37 div.sk-toggleable__content {\n",
       "  max-height: 0;\n",
       "  max-width: 0;\n",
       "  overflow: hidden;\n",
       "  text-align: left;\n",
       "  /* unfitted */\n",
       "  background-color: var(--sklearn-color-unfitted-level-0);\n",
       "}\n",
       "\n",
       "#sk-container-id-37 div.sk-toggleable__content.fitted {\n",
       "  /* fitted */\n",
       "  background-color: var(--sklearn-color-fitted-level-0);\n",
       "}\n",
       "\n",
       "#sk-container-id-37 div.sk-toggleable__content pre {\n",
       "  margin: 0.2em;\n",
       "  border-radius: 0.25em;\n",
       "  color: var(--sklearn-color-text);\n",
       "  /* unfitted */\n",
       "  background-color: var(--sklearn-color-unfitted-level-0);\n",
       "}\n",
       "\n",
       "#sk-container-id-37 div.sk-toggleable__content.fitted pre {\n",
       "  /* unfitted */\n",
       "  background-color: var(--sklearn-color-fitted-level-0);\n",
       "}\n",
       "\n",
       "#sk-container-id-37 input.sk-toggleable__control:checked~div.sk-toggleable__content {\n",
       "  /* Expand drop-down */\n",
       "  max-height: 200px;\n",
       "  max-width: 100%;\n",
       "  overflow: auto;\n",
       "}\n",
       "\n",
       "#sk-container-id-37 input.sk-toggleable__control:checked~label.sk-toggleable__label-arrow:before {\n",
       "  content: \"▾\";\n",
       "}\n",
       "\n",
       "/* Pipeline/ColumnTransformer-specific style */\n",
       "\n",
       "#sk-container-id-37 div.sk-label input.sk-toggleable__control:checked~label.sk-toggleable__label {\n",
       "  color: var(--sklearn-color-text);\n",
       "  background-color: var(--sklearn-color-unfitted-level-2);\n",
       "}\n",
       "\n",
       "#sk-container-id-37 div.sk-label.fitted input.sk-toggleable__control:checked~label.sk-toggleable__label {\n",
       "  background-color: var(--sklearn-color-fitted-level-2);\n",
       "}\n",
       "\n",
       "/* Estimator-specific style */\n",
       "\n",
       "/* Colorize estimator box */\n",
       "#sk-container-id-37 div.sk-estimator input.sk-toggleable__control:checked~label.sk-toggleable__label {\n",
       "  /* unfitted */\n",
       "  background-color: var(--sklearn-color-unfitted-level-2);\n",
       "}\n",
       "\n",
       "#sk-container-id-37 div.sk-estimator.fitted input.sk-toggleable__control:checked~label.sk-toggleable__label {\n",
       "  /* fitted */\n",
       "  background-color: var(--sklearn-color-fitted-level-2);\n",
       "}\n",
       "\n",
       "#sk-container-id-37 div.sk-label label.sk-toggleable__label,\n",
       "#sk-container-id-37 div.sk-label label {\n",
       "  /* The background is the default theme color */\n",
       "  color: var(--sklearn-color-text-on-default-background);\n",
       "}\n",
       "\n",
       "/* On hover, darken the color of the background */\n",
       "#sk-container-id-37 div.sk-label:hover label.sk-toggleable__label {\n",
       "  color: var(--sklearn-color-text);\n",
       "  background-color: var(--sklearn-color-unfitted-level-2);\n",
       "}\n",
       "\n",
       "/* Label box, darken color on hover, fitted */\n",
       "#sk-container-id-37 div.sk-label.fitted:hover label.sk-toggleable__label.fitted {\n",
       "  color: var(--sklearn-color-text);\n",
       "  background-color: var(--sklearn-color-fitted-level-2);\n",
       "}\n",
       "\n",
       "/* Estimator label */\n",
       "\n",
       "#sk-container-id-37 div.sk-label label {\n",
       "  font-family: monospace;\n",
       "  font-weight: bold;\n",
       "  display: inline-block;\n",
       "  line-height: 1.2em;\n",
       "}\n",
       "\n",
       "#sk-container-id-37 div.sk-label-container {\n",
       "  text-align: center;\n",
       "}\n",
       "\n",
       "/* Estimator-specific */\n",
       "#sk-container-id-37 div.sk-estimator {\n",
       "  font-family: monospace;\n",
       "  border: 1px dotted var(--sklearn-color-border-box);\n",
       "  border-radius: 0.25em;\n",
       "  box-sizing: border-box;\n",
       "  margin-bottom: 0.5em;\n",
       "  /* unfitted */\n",
       "  background-color: var(--sklearn-color-unfitted-level-0);\n",
       "}\n",
       "\n",
       "#sk-container-id-37 div.sk-estimator.fitted {\n",
       "  /* fitted */\n",
       "  background-color: var(--sklearn-color-fitted-level-0);\n",
       "}\n",
       "\n",
       "/* on hover */\n",
       "#sk-container-id-37 div.sk-estimator:hover {\n",
       "  /* unfitted */\n",
       "  background-color: var(--sklearn-color-unfitted-level-2);\n",
       "}\n",
       "\n",
       "#sk-container-id-37 div.sk-estimator.fitted:hover {\n",
       "  /* fitted */\n",
       "  background-color: var(--sklearn-color-fitted-level-2);\n",
       "}\n",
       "\n",
       "/* Specification for estimator info (e.g. \"i\" and \"?\") */\n",
       "\n",
       "/* Common style for \"i\" and \"?\" */\n",
       "\n",
       ".sk-estimator-doc-link,\n",
       "a:link.sk-estimator-doc-link,\n",
       "a:visited.sk-estimator-doc-link {\n",
       "  float: right;\n",
       "  font-size: smaller;\n",
       "  line-height: 1em;\n",
       "  font-family: monospace;\n",
       "  background-color: var(--sklearn-color-background);\n",
       "  border-radius: 1em;\n",
       "  height: 1em;\n",
       "  width: 1em;\n",
       "  text-decoration: none !important;\n",
       "  margin-left: 0.5em;\n",
       "  text-align: center;\n",
       "  /* unfitted */\n",
       "  border: var(--sklearn-color-unfitted-level-1) 1pt solid;\n",
       "  color: var(--sklearn-color-unfitted-level-1);\n",
       "}\n",
       "\n",
       ".sk-estimator-doc-link.fitted,\n",
       "a:link.sk-estimator-doc-link.fitted,\n",
       "a:visited.sk-estimator-doc-link.fitted {\n",
       "  /* fitted */\n",
       "  border: var(--sklearn-color-fitted-level-1) 1pt solid;\n",
       "  color: var(--sklearn-color-fitted-level-1);\n",
       "}\n",
       "\n",
       "/* On hover */\n",
       "div.sk-estimator:hover .sk-estimator-doc-link:hover,\n",
       ".sk-estimator-doc-link:hover,\n",
       "div.sk-label-container:hover .sk-estimator-doc-link:hover,\n",
       ".sk-estimator-doc-link:hover {\n",
       "  /* unfitted */\n",
       "  background-color: var(--sklearn-color-unfitted-level-3);\n",
       "  color: var(--sklearn-color-background);\n",
       "  text-decoration: none;\n",
       "}\n",
       "\n",
       "div.sk-estimator.fitted:hover .sk-estimator-doc-link.fitted:hover,\n",
       ".sk-estimator-doc-link.fitted:hover,\n",
       "div.sk-label-container:hover .sk-estimator-doc-link.fitted:hover,\n",
       ".sk-estimator-doc-link.fitted:hover {\n",
       "  /* fitted */\n",
       "  background-color: var(--sklearn-color-fitted-level-3);\n",
       "  color: var(--sklearn-color-background);\n",
       "  text-decoration: none;\n",
       "}\n",
       "\n",
       "/* Span, style for the box shown on hovering the info icon */\n",
       ".sk-estimator-doc-link span {\n",
       "  display: none;\n",
       "  z-index: 9999;\n",
       "  position: relative;\n",
       "  font-weight: normal;\n",
       "  right: .2ex;\n",
       "  padding: .5ex;\n",
       "  margin: .5ex;\n",
       "  width: min-content;\n",
       "  min-width: 20ex;\n",
       "  max-width: 50ex;\n",
       "  color: var(--sklearn-color-text);\n",
       "  box-shadow: 2pt 2pt 4pt #999;\n",
       "  /* unfitted */\n",
       "  background: var(--sklearn-color-unfitted-level-0);\n",
       "  border: .5pt solid var(--sklearn-color-unfitted-level-3);\n",
       "}\n",
       "\n",
       ".sk-estimator-doc-link.fitted span {\n",
       "  /* fitted */\n",
       "  background: var(--sklearn-color-fitted-level-0);\n",
       "  border: var(--sklearn-color-fitted-level-3);\n",
       "}\n",
       "\n",
       ".sk-estimator-doc-link:hover span {\n",
       "  display: block;\n",
       "}\n",
       "\n",
       "/* \"?\"-specific style due to the `<a>` HTML tag */\n",
       "\n",
       "#sk-container-id-37 a.estimator_doc_link {\n",
       "  float: right;\n",
       "  font-size: 1rem;\n",
       "  line-height: 1em;\n",
       "  font-family: monospace;\n",
       "  background-color: var(--sklearn-color-background);\n",
       "  border-radius: 1rem;\n",
       "  height: 1rem;\n",
       "  width: 1rem;\n",
       "  text-decoration: none;\n",
       "  /* unfitted */\n",
       "  color: var(--sklearn-color-unfitted-level-1);\n",
       "  border: var(--sklearn-color-unfitted-level-1) 1pt solid;\n",
       "}\n",
       "\n",
       "#sk-container-id-37 a.estimator_doc_link.fitted {\n",
       "  /* fitted */\n",
       "  border: var(--sklearn-color-fitted-level-1) 1pt solid;\n",
       "  color: var(--sklearn-color-fitted-level-1);\n",
       "}\n",
       "\n",
       "/* On hover */\n",
       "#sk-container-id-37 a.estimator_doc_link:hover {\n",
       "  /* unfitted */\n",
       "  background-color: var(--sklearn-color-unfitted-level-3);\n",
       "  color: var(--sklearn-color-background);\n",
       "  text-decoration: none;\n",
       "}\n",
       "\n",
       "#sk-container-id-37 a.estimator_doc_link.fitted:hover {\n",
       "  /* fitted */\n",
       "  background-color: var(--sklearn-color-fitted-level-3);\n",
       "}\n",
       "</style><div id=\"sk-container-id-37\" class=\"sk-top-container\"><div class=\"sk-text-repr-fallback\"><pre>LinearRegression()</pre><b>In a Jupyter environment, please rerun this cell to show the HTML representation or trust the notebook. <br />On GitHub, the HTML representation is unable to render, please try loading this page with nbviewer.org.</b></div><div class=\"sk-container\" hidden><div class=\"sk-item\"><div class=\"sk-estimator fitted sk-toggleable\"><input class=\"sk-toggleable__control sk-hidden--visually\" id=\"sk-estimator-id-78\" type=\"checkbox\" checked><label for=\"sk-estimator-id-78\" class=\"sk-toggleable__label fitted sk-toggleable__label-arrow\"><div><div>LinearRegression</div></div><div><a class=\"sk-estimator-doc-link fitted\" rel=\"noreferrer\" target=\"_blank\" href=\"https://scikit-learn.org/1.6/modules/generated/sklearn.linear_model.LinearRegression.html\">?<span>Documentation for LinearRegression</span></a><span class=\"sk-estimator-doc-link fitted\">i<span>Fitted</span></span></div></label><div class=\"sk-toggleable__content fitted\"><pre>LinearRegression()</pre></div> </div></div></div></div>"
      ],
      "text/plain": [
       "LinearRegression()"
      ]
     },
     "execution_count": 271,
     "metadata": {},
     "output_type": "execute_result"
    }
   ],
   "source": [
    "x_pb_3 = df_pb_3[['AnchoPie']]\n",
    "y_pb_3 = df_pb_3[['Altura']]\n",
    "x_train_pb_3, X_test_pb_3, Y_train_pb_3, Y_test_pb_3 = train_test_split(x_pb_3, y_pb_3, test_size=0.2, random_state=42)\n",
    "model_pb_3 = LinearRegression()\n",
    "model_pb_3.fit(x_train_pb_3, Y_train_pb_3)"
   ]
  },
  {
   "cell_type": "code",
   "execution_count": 272,
   "metadata": {},
   "outputs": [
    {
     "name": "stdout",
     "output_type": "stream",
     "text": [
      "Modelo AnchoPie, Países Bajos. R2 Score: 0.8556. RMSE: 2.5555\n"
     ]
    }
   ],
   "source": [
    "y_pred_pb_3 = model_pb_3.predict(X_test_pb_3)\n",
    "r2_pb_3 = r2_score(Y_test_pb_3, y_pred_pb_3)\n",
    "rmse_pb_3 = np.sqrt(mean_squared_error(Y_test_pb_3, y_pred_pb_3))\n",
    "print(f'Modelo AnchoPie, Países Bajos. R2 Score: {r2_pb_3:.4f}. RMSE: {rmse_pb_3:.4f}')"
   ]
  },
  {
   "cell_type": "code",
   "execution_count": null,
   "metadata": {},
   "outputs": [],
   "source": []
  }
 ],
 "metadata": {
  "kernelspec": {
   "display_name": "EO",
   "language": "python",
   "name": "python3"
  },
  "language_info": {
   "codemirror_mode": {
    "name": "ipython",
    "version": 3
   },
   "file_extension": ".py",
   "mimetype": "text/x-python",
   "name": "python",
   "nbconvert_exporter": "python",
   "pygments_lexer": "ipython3",
   "version": "3.11.11"
  }
 },
 "nbformat": 4,
 "nbformat_minor": 2
}
