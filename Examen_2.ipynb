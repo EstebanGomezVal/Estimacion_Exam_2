{
 "cells": [
  {
   "cell_type": "markdown",
   "metadata": {},
   "source": [
    "<img src=\"https://oci02.img.iteso.mx/Identidades-De-Instancia/ITESO/Logos%20ITESO/Logo-ITESO-Vertical-SinFondo.png\"\n",
    "     align=\"right\"\n",
    "     width=\"150\"/>\n",
    "\n",
    "# **Segundo Examen Parcial**\n",
    "\n",
    "## **Modelo de predicción lineal**\n",
    "\n",
    "- Esteban Gomez Valerio\n",
    "- Sofía Maldonado García\n",
    "- Esteban Javier Berumen Nieto\n",
    "- \n",
    "---"
   ]
  },
  {
   "cell_type": "code",
   "execution_count": 109,
   "metadata": {},
   "outputs": [],
   "source": [
    "import numpy as np\n",
    "import pandas as pd\n",
    "\n",
    "import plotly.express as px\n",
    "import plotly.graph_objects as go\n",
    "import matplotlib.pyplot as plt\n",
    "import seaborn as sns\n",
    "\n",
    "from sklearn.linear_model import LinearRegression\n",
    "from sklearn.linear_model import Ridge\n",
    "from sklearn.linear_model import Lasso\n",
    "from sklearn.linear_model import ElasticNet\n",
    "from sklearn.preprocessing import MinMaxScaler, StandardScaler\n",
    "from sklearn.kernel_ridge import KernelRidge"
   ]
  },
  {
   "cell_type": "code",
   "execution_count": 110,
   "metadata": {},
   "outputs": [
    {
     "data": {
      "application/vnd.microsoft.datawrangler.viewer.v0+json": {
       "columns": [
        {
         "name": "index",
         "rawType": "int64",
         "type": "integer"
        },
        {
         "name": "Altura",
         "rawType": "int64",
         "type": "integer"
        },
        {
         "name": "Ancho",
         "rawType": "int64",
         "type": "integer"
        },
        {
         "name": "Pie",
         "rawType": "float64",
         "type": "float"
        }
       ],
       "conversionMethod": "pd.DataFrame",
       "ref": "af7551d6-9f65-4fdb-9b57-93e47cb7ab6d",
       "rows": [
        [
         "0",
         "185",
         "55",
         "28.0"
        ],
        [
         "1",
         "173",
         "44",
         "26.5"
        ],
        [
         "2",
         "163",
         "44",
         "24.0"
        ],
        [
         "3",
         "162",
         "44",
         "24.5"
        ],
        [
         "4",
         "172",
         "46",
         "27.0"
        ]
       ],
       "shape": {
        "columns": 3,
        "rows": 5
       }
      },
      "text/html": [
       "<div>\n",
       "<style scoped>\n",
       "    .dataframe tbody tr th:only-of-type {\n",
       "        vertical-align: middle;\n",
       "    }\n",
       "\n",
       "    .dataframe tbody tr th {\n",
       "        vertical-align: top;\n",
       "    }\n",
       "\n",
       "    .dataframe thead th {\n",
       "        text-align: right;\n",
       "    }\n",
       "</style>\n",
       "<table border=\"1\" class=\"dataframe\">\n",
       "  <thead>\n",
       "    <tr style=\"text-align: right;\">\n",
       "      <th></th>\n",
       "      <th>Altura</th>\n",
       "      <th>Ancho</th>\n",
       "      <th>Pie</th>\n",
       "    </tr>\n",
       "  </thead>\n",
       "  <tbody>\n",
       "    <tr>\n",
       "      <th>0</th>\n",
       "      <td>185</td>\n",
       "      <td>55</td>\n",
       "      <td>28.0</td>\n",
       "    </tr>\n",
       "    <tr>\n",
       "      <th>1</th>\n",
       "      <td>173</td>\n",
       "      <td>44</td>\n",
       "      <td>26.5</td>\n",
       "    </tr>\n",
       "    <tr>\n",
       "      <th>2</th>\n",
       "      <td>163</td>\n",
       "      <td>44</td>\n",
       "      <td>24.0</td>\n",
       "    </tr>\n",
       "    <tr>\n",
       "      <th>3</th>\n",
       "      <td>162</td>\n",
       "      <td>44</td>\n",
       "      <td>24.5</td>\n",
       "    </tr>\n",
       "    <tr>\n",
       "      <th>4</th>\n",
       "      <td>172</td>\n",
       "      <td>46</td>\n",
       "      <td>27.0</td>\n",
       "    </tr>\n",
       "  </tbody>\n",
       "</table>\n",
       "</div>"
      ],
      "text/plain": [
       "   Altura  Ancho   Pie\n",
       "0     185     55  28.0\n",
       "1     173     44  26.5\n",
       "2     163     44  24.0\n",
       "3     162     44  24.5\n",
       "4     172     46  27.0"
      ]
     },
     "execution_count": 110,
     "metadata": {},
     "output_type": "execute_result"
    }
   ],
   "source": [
    "df = pd.read_csv('Datos/datos_gente.csv')\n",
    "df.head()"
   ]
  },
  {
   "cell_type": "code",
   "execution_count": 111,
   "metadata": {},
   "outputs": [
    {
     "name": "stdout",
     "output_type": "stream",
     "text": [
      "<class 'pandas.core.frame.DataFrame'>\n",
      "RangeIndex: 18 entries, 0 to 17\n",
      "Data columns (total 3 columns):\n",
      " #   Column  Non-Null Count  Dtype  \n",
      "---  ------  --------------  -----  \n",
      " 0   Altura  18 non-null     int64  \n",
      " 1   Ancho   18 non-null     int64  \n",
      " 2   Pie     18 non-null     float64\n",
      "dtypes: float64(1), int64(2)\n",
      "memory usage: 564.0 bytes\n"
     ]
    }
   ],
   "source": [
    "df.info()"
   ]
  },
  {
   "cell_type": "code",
   "execution_count": 112,
   "metadata": {},
   "outputs": [
    {
     "data": {
      "application/vnd.plotly.v1+json": {
       "config": {
        "plotlyServerURL": "https://plot.ly"
       },
       "data": [
        {
         "hovertemplate": "Altura (cm)=%{x}<br>Ancho (cm)=%{y}<extra></extra>",
         "legendgroup": "",
         "marker": {
          "color": "blue",
          "symbol": "circle"
         },
         "mode": "markers",
         "name": "",
         "orientation": "v",
         "showlegend": false,
         "type": "scatter",
         "x": {
          "bdata": "uQCtAKMAogCsAJ8AuwClAK8AogCbAKgAswCsAJ8ApgCcAJYA",
          "dtype": "i2"
         },
         "xaxis": "x",
         "y": {
          "bdata": "NywsLC4oMCgxLCg9NzImJyYn",
          "dtype": "i1"
         },
         "yaxis": "y"
        }
       ],
       "layout": {
        "legend": {
         "tracegroupgap": 0
        },
        "template": {
         "data": {
          "bar": [
           {
            "error_x": {
             "color": "#2a3f5f"
            },
            "error_y": {
             "color": "#2a3f5f"
            },
            "marker": {
             "line": {
              "color": "#E5ECF6",
              "width": 0.5
             },
             "pattern": {
              "fillmode": "overlay",
              "size": 10,
              "solidity": 0.2
             }
            },
            "type": "bar"
           }
          ],
          "barpolar": [
           {
            "marker": {
             "line": {
              "color": "#E5ECF6",
              "width": 0.5
             },
             "pattern": {
              "fillmode": "overlay",
              "size": 10,
              "solidity": 0.2
             }
            },
            "type": "barpolar"
           }
          ],
          "carpet": [
           {
            "aaxis": {
             "endlinecolor": "#2a3f5f",
             "gridcolor": "white",
             "linecolor": "white",
             "minorgridcolor": "white",
             "startlinecolor": "#2a3f5f"
            },
            "baxis": {
             "endlinecolor": "#2a3f5f",
             "gridcolor": "white",
             "linecolor": "white",
             "minorgridcolor": "white",
             "startlinecolor": "#2a3f5f"
            },
            "type": "carpet"
           }
          ],
          "choropleth": [
           {
            "colorbar": {
             "outlinewidth": 0,
             "ticks": ""
            },
            "type": "choropleth"
           }
          ],
          "contour": [
           {
            "colorbar": {
             "outlinewidth": 0,
             "ticks": ""
            },
            "colorscale": [
             [
              0,
              "#0d0887"
             ],
             [
              0.1111111111111111,
              "#46039f"
             ],
             [
              0.2222222222222222,
              "#7201a8"
             ],
             [
              0.3333333333333333,
              "#9c179e"
             ],
             [
              0.4444444444444444,
              "#bd3786"
             ],
             [
              0.5555555555555556,
              "#d8576b"
             ],
             [
              0.6666666666666666,
              "#ed7953"
             ],
             [
              0.7777777777777778,
              "#fb9f3a"
             ],
             [
              0.8888888888888888,
              "#fdca26"
             ],
             [
              1,
              "#f0f921"
             ]
            ],
            "type": "contour"
           }
          ],
          "contourcarpet": [
           {
            "colorbar": {
             "outlinewidth": 0,
             "ticks": ""
            },
            "type": "contourcarpet"
           }
          ],
          "heatmap": [
           {
            "colorbar": {
             "outlinewidth": 0,
             "ticks": ""
            },
            "colorscale": [
             [
              0,
              "#0d0887"
             ],
             [
              0.1111111111111111,
              "#46039f"
             ],
             [
              0.2222222222222222,
              "#7201a8"
             ],
             [
              0.3333333333333333,
              "#9c179e"
             ],
             [
              0.4444444444444444,
              "#bd3786"
             ],
             [
              0.5555555555555556,
              "#d8576b"
             ],
             [
              0.6666666666666666,
              "#ed7953"
             ],
             [
              0.7777777777777778,
              "#fb9f3a"
             ],
             [
              0.8888888888888888,
              "#fdca26"
             ],
             [
              1,
              "#f0f921"
             ]
            ],
            "type": "heatmap"
           }
          ],
          "histogram": [
           {
            "marker": {
             "pattern": {
              "fillmode": "overlay",
              "size": 10,
              "solidity": 0.2
             }
            },
            "type": "histogram"
           }
          ],
          "histogram2d": [
           {
            "colorbar": {
             "outlinewidth": 0,
             "ticks": ""
            },
            "colorscale": [
             [
              0,
              "#0d0887"
             ],
             [
              0.1111111111111111,
              "#46039f"
             ],
             [
              0.2222222222222222,
              "#7201a8"
             ],
             [
              0.3333333333333333,
              "#9c179e"
             ],
             [
              0.4444444444444444,
              "#bd3786"
             ],
             [
              0.5555555555555556,
              "#d8576b"
             ],
             [
              0.6666666666666666,
              "#ed7953"
             ],
             [
              0.7777777777777778,
              "#fb9f3a"
             ],
             [
              0.8888888888888888,
              "#fdca26"
             ],
             [
              1,
              "#f0f921"
             ]
            ],
            "type": "histogram2d"
           }
          ],
          "histogram2dcontour": [
           {
            "colorbar": {
             "outlinewidth": 0,
             "ticks": ""
            },
            "colorscale": [
             [
              0,
              "#0d0887"
             ],
             [
              0.1111111111111111,
              "#46039f"
             ],
             [
              0.2222222222222222,
              "#7201a8"
             ],
             [
              0.3333333333333333,
              "#9c179e"
             ],
             [
              0.4444444444444444,
              "#bd3786"
             ],
             [
              0.5555555555555556,
              "#d8576b"
             ],
             [
              0.6666666666666666,
              "#ed7953"
             ],
             [
              0.7777777777777778,
              "#fb9f3a"
             ],
             [
              0.8888888888888888,
              "#fdca26"
             ],
             [
              1,
              "#f0f921"
             ]
            ],
            "type": "histogram2dcontour"
           }
          ],
          "mesh3d": [
           {
            "colorbar": {
             "outlinewidth": 0,
             "ticks": ""
            },
            "type": "mesh3d"
           }
          ],
          "parcoords": [
           {
            "line": {
             "colorbar": {
              "outlinewidth": 0,
              "ticks": ""
             }
            },
            "type": "parcoords"
           }
          ],
          "pie": [
           {
            "automargin": true,
            "type": "pie"
           }
          ],
          "scatter": [
           {
            "fillpattern": {
             "fillmode": "overlay",
             "size": 10,
             "solidity": 0.2
            },
            "type": "scatter"
           }
          ],
          "scatter3d": [
           {
            "line": {
             "colorbar": {
              "outlinewidth": 0,
              "ticks": ""
             }
            },
            "marker": {
             "colorbar": {
              "outlinewidth": 0,
              "ticks": ""
             }
            },
            "type": "scatter3d"
           }
          ],
          "scattercarpet": [
           {
            "marker": {
             "colorbar": {
              "outlinewidth": 0,
              "ticks": ""
             }
            },
            "type": "scattercarpet"
           }
          ],
          "scattergeo": [
           {
            "marker": {
             "colorbar": {
              "outlinewidth": 0,
              "ticks": ""
             }
            },
            "type": "scattergeo"
           }
          ],
          "scattergl": [
           {
            "marker": {
             "colorbar": {
              "outlinewidth": 0,
              "ticks": ""
             }
            },
            "type": "scattergl"
           }
          ],
          "scattermap": [
           {
            "marker": {
             "colorbar": {
              "outlinewidth": 0,
              "ticks": ""
             }
            },
            "type": "scattermap"
           }
          ],
          "scattermapbox": [
           {
            "marker": {
             "colorbar": {
              "outlinewidth": 0,
              "ticks": ""
             }
            },
            "type": "scattermapbox"
           }
          ],
          "scatterpolar": [
           {
            "marker": {
             "colorbar": {
              "outlinewidth": 0,
              "ticks": ""
             }
            },
            "type": "scatterpolar"
           }
          ],
          "scatterpolargl": [
           {
            "marker": {
             "colorbar": {
              "outlinewidth": 0,
              "ticks": ""
             }
            },
            "type": "scatterpolargl"
           }
          ],
          "scatterternary": [
           {
            "marker": {
             "colorbar": {
              "outlinewidth": 0,
              "ticks": ""
             }
            },
            "type": "scatterternary"
           }
          ],
          "surface": [
           {
            "colorbar": {
             "outlinewidth": 0,
             "ticks": ""
            },
            "colorscale": [
             [
              0,
              "#0d0887"
             ],
             [
              0.1111111111111111,
              "#46039f"
             ],
             [
              0.2222222222222222,
              "#7201a8"
             ],
             [
              0.3333333333333333,
              "#9c179e"
             ],
             [
              0.4444444444444444,
              "#bd3786"
             ],
             [
              0.5555555555555556,
              "#d8576b"
             ],
             [
              0.6666666666666666,
              "#ed7953"
             ],
             [
              0.7777777777777778,
              "#fb9f3a"
             ],
             [
              0.8888888888888888,
              "#fdca26"
             ],
             [
              1,
              "#f0f921"
             ]
            ],
            "type": "surface"
           }
          ],
          "table": [
           {
            "cells": {
             "fill": {
              "color": "#EBF0F8"
             },
             "line": {
              "color": "white"
             }
            },
            "header": {
             "fill": {
              "color": "#C8D4E3"
             },
             "line": {
              "color": "white"
             }
            },
            "type": "table"
           }
          ]
         },
         "layout": {
          "annotationdefaults": {
           "arrowcolor": "#2a3f5f",
           "arrowhead": 0,
           "arrowwidth": 1
          },
          "autotypenumbers": "strict",
          "coloraxis": {
           "colorbar": {
            "outlinewidth": 0,
            "ticks": ""
           }
          },
          "colorscale": {
           "diverging": [
            [
             0,
             "#8e0152"
            ],
            [
             0.1,
             "#c51b7d"
            ],
            [
             0.2,
             "#de77ae"
            ],
            [
             0.3,
             "#f1b6da"
            ],
            [
             0.4,
             "#fde0ef"
            ],
            [
             0.5,
             "#f7f7f7"
            ],
            [
             0.6,
             "#e6f5d0"
            ],
            [
             0.7,
             "#b8e186"
            ],
            [
             0.8,
             "#7fbc41"
            ],
            [
             0.9,
             "#4d9221"
            ],
            [
             1,
             "#276419"
            ]
           ],
           "sequential": [
            [
             0,
             "#0d0887"
            ],
            [
             0.1111111111111111,
             "#46039f"
            ],
            [
             0.2222222222222222,
             "#7201a8"
            ],
            [
             0.3333333333333333,
             "#9c179e"
            ],
            [
             0.4444444444444444,
             "#bd3786"
            ],
            [
             0.5555555555555556,
             "#d8576b"
            ],
            [
             0.6666666666666666,
             "#ed7953"
            ],
            [
             0.7777777777777778,
             "#fb9f3a"
            ],
            [
             0.8888888888888888,
             "#fdca26"
            ],
            [
             1,
             "#f0f921"
            ]
           ],
           "sequentialminus": [
            [
             0,
             "#0d0887"
            ],
            [
             0.1111111111111111,
             "#46039f"
            ],
            [
             0.2222222222222222,
             "#7201a8"
            ],
            [
             0.3333333333333333,
             "#9c179e"
            ],
            [
             0.4444444444444444,
             "#bd3786"
            ],
            [
             0.5555555555555556,
             "#d8576b"
            ],
            [
             0.6666666666666666,
             "#ed7953"
            ],
            [
             0.7777777777777778,
             "#fb9f3a"
            ],
            [
             0.8888888888888888,
             "#fdca26"
            ],
            [
             1,
             "#f0f921"
            ]
           ]
          },
          "colorway": [
           "#636efa",
           "#EF553B",
           "#00cc96",
           "#ab63fa",
           "#FFA15A",
           "#19d3f3",
           "#FF6692",
           "#B6E880",
           "#FF97FF",
           "#FECB52"
          ],
          "font": {
           "color": "#2a3f5f"
          },
          "geo": {
           "bgcolor": "white",
           "lakecolor": "white",
           "landcolor": "#E5ECF6",
           "showlakes": true,
           "showland": true,
           "subunitcolor": "white"
          },
          "hoverlabel": {
           "align": "left"
          },
          "hovermode": "closest",
          "mapbox": {
           "style": "light"
          },
          "paper_bgcolor": "white",
          "plot_bgcolor": "#E5ECF6",
          "polar": {
           "angularaxis": {
            "gridcolor": "white",
            "linecolor": "white",
            "ticks": ""
           },
           "bgcolor": "#E5ECF6",
           "radialaxis": {
            "gridcolor": "white",
            "linecolor": "white",
            "ticks": ""
           }
          },
          "scene": {
           "xaxis": {
            "backgroundcolor": "#E5ECF6",
            "gridcolor": "white",
            "gridwidth": 2,
            "linecolor": "white",
            "showbackground": true,
            "ticks": "",
            "zerolinecolor": "white"
           },
           "yaxis": {
            "backgroundcolor": "#E5ECF6",
            "gridcolor": "white",
            "gridwidth": 2,
            "linecolor": "white",
            "showbackground": true,
            "ticks": "",
            "zerolinecolor": "white"
           },
           "zaxis": {
            "backgroundcolor": "#E5ECF6",
            "gridcolor": "white",
            "gridwidth": 2,
            "linecolor": "white",
            "showbackground": true,
            "ticks": "",
            "zerolinecolor": "white"
           }
          },
          "shapedefaults": {
           "line": {
            "color": "#2a3f5f"
           }
          },
          "ternary": {
           "aaxis": {
            "gridcolor": "white",
            "linecolor": "white",
            "ticks": ""
           },
           "baxis": {
            "gridcolor": "white",
            "linecolor": "white",
            "ticks": ""
           },
           "bgcolor": "#E5ECF6",
           "caxis": {
            "gridcolor": "white",
            "linecolor": "white",
            "ticks": ""
           }
          },
          "title": {
           "x": 0.05
          },
          "xaxis": {
           "automargin": true,
           "gridcolor": "white",
           "linecolor": "white",
           "ticks": "",
           "title": {
            "standoff": 15
           },
           "zerolinecolor": "white",
           "zerolinewidth": 2
          },
          "yaxis": {
           "automargin": true,
           "gridcolor": "white",
           "linecolor": "white",
           "ticks": "",
           "title": {
            "standoff": 15
           },
           "zerolinecolor": "white",
           "zerolinewidth": 2
          }
         }
        },
        "title": {
         "text": "Altura vs Ancho"
        },
        "xaxis": {
         "anchor": "y",
         "domain": [
          0,
          1
         ],
         "title": {
          "text": "Altura (cm)"
         }
        },
        "yaxis": {
         "anchor": "x",
         "domain": [
          0,
          1
         ],
         "title": {
          "text": "Ancho (cm)"
         }
        }
       }
      }
     },
     "metadata": {},
     "output_type": "display_data"
    },
    {
     "data": {
      "application/vnd.plotly.v1+json": {
       "config": {
        "plotlyServerURL": "https://plot.ly"
       },
       "data": [
        {
         "hovertemplate": "Altura (cm)=%{x}<br>Pie (cm)=%{y}<extra></extra>",
         "legendgroup": "",
         "marker": {
          "color": "red",
          "symbol": "circle"
         },
         "mode": "markers",
         "name": "",
         "orientation": "v",
         "showlegend": false,
         "type": "scatter",
         "x": {
          "bdata": "uQCtAKMAogCsAJ8AuwClAK8AogCbAKgAswCsAJ8ApgCcAJYA",
          "dtype": "i2"
         },
         "xaxis": "x",
         "y": {
          "bdata": "AAAAAAAAPEAAAAAAAIA6QAAAAAAAADhAAAAAAACAOEAAAAAAAAA7QAAAAAAAADdAAAAAAAAAPUAAAAAAAAA4QAAAAAAAgDtAAAAAAAAAN0AAAAAAAAA2QAAAAAAAADpAAAAAAAAAPEAAAAAAAIA7QAAAAAAAADhAAAAAAACAOEAAAAAAAAA4QAAAAAAAgDZA",
          "dtype": "f8"
         },
         "yaxis": "y"
        }
       ],
       "layout": {
        "legend": {
         "tracegroupgap": 0
        },
        "template": {
         "data": {
          "bar": [
           {
            "error_x": {
             "color": "#2a3f5f"
            },
            "error_y": {
             "color": "#2a3f5f"
            },
            "marker": {
             "line": {
              "color": "#E5ECF6",
              "width": 0.5
             },
             "pattern": {
              "fillmode": "overlay",
              "size": 10,
              "solidity": 0.2
             }
            },
            "type": "bar"
           }
          ],
          "barpolar": [
           {
            "marker": {
             "line": {
              "color": "#E5ECF6",
              "width": 0.5
             },
             "pattern": {
              "fillmode": "overlay",
              "size": 10,
              "solidity": 0.2
             }
            },
            "type": "barpolar"
           }
          ],
          "carpet": [
           {
            "aaxis": {
             "endlinecolor": "#2a3f5f",
             "gridcolor": "white",
             "linecolor": "white",
             "minorgridcolor": "white",
             "startlinecolor": "#2a3f5f"
            },
            "baxis": {
             "endlinecolor": "#2a3f5f",
             "gridcolor": "white",
             "linecolor": "white",
             "minorgridcolor": "white",
             "startlinecolor": "#2a3f5f"
            },
            "type": "carpet"
           }
          ],
          "choropleth": [
           {
            "colorbar": {
             "outlinewidth": 0,
             "ticks": ""
            },
            "type": "choropleth"
           }
          ],
          "contour": [
           {
            "colorbar": {
             "outlinewidth": 0,
             "ticks": ""
            },
            "colorscale": [
             [
              0,
              "#0d0887"
             ],
             [
              0.1111111111111111,
              "#46039f"
             ],
             [
              0.2222222222222222,
              "#7201a8"
             ],
             [
              0.3333333333333333,
              "#9c179e"
             ],
             [
              0.4444444444444444,
              "#bd3786"
             ],
             [
              0.5555555555555556,
              "#d8576b"
             ],
             [
              0.6666666666666666,
              "#ed7953"
             ],
             [
              0.7777777777777778,
              "#fb9f3a"
             ],
             [
              0.8888888888888888,
              "#fdca26"
             ],
             [
              1,
              "#f0f921"
             ]
            ],
            "type": "contour"
           }
          ],
          "contourcarpet": [
           {
            "colorbar": {
             "outlinewidth": 0,
             "ticks": ""
            },
            "type": "contourcarpet"
           }
          ],
          "heatmap": [
           {
            "colorbar": {
             "outlinewidth": 0,
             "ticks": ""
            },
            "colorscale": [
             [
              0,
              "#0d0887"
             ],
             [
              0.1111111111111111,
              "#46039f"
             ],
             [
              0.2222222222222222,
              "#7201a8"
             ],
             [
              0.3333333333333333,
              "#9c179e"
             ],
             [
              0.4444444444444444,
              "#bd3786"
             ],
             [
              0.5555555555555556,
              "#d8576b"
             ],
             [
              0.6666666666666666,
              "#ed7953"
             ],
             [
              0.7777777777777778,
              "#fb9f3a"
             ],
             [
              0.8888888888888888,
              "#fdca26"
             ],
             [
              1,
              "#f0f921"
             ]
            ],
            "type": "heatmap"
           }
          ],
          "histogram": [
           {
            "marker": {
             "pattern": {
              "fillmode": "overlay",
              "size": 10,
              "solidity": 0.2
             }
            },
            "type": "histogram"
           }
          ],
          "histogram2d": [
           {
            "colorbar": {
             "outlinewidth": 0,
             "ticks": ""
            },
            "colorscale": [
             [
              0,
              "#0d0887"
             ],
             [
              0.1111111111111111,
              "#46039f"
             ],
             [
              0.2222222222222222,
              "#7201a8"
             ],
             [
              0.3333333333333333,
              "#9c179e"
             ],
             [
              0.4444444444444444,
              "#bd3786"
             ],
             [
              0.5555555555555556,
              "#d8576b"
             ],
             [
              0.6666666666666666,
              "#ed7953"
             ],
             [
              0.7777777777777778,
              "#fb9f3a"
             ],
             [
              0.8888888888888888,
              "#fdca26"
             ],
             [
              1,
              "#f0f921"
             ]
            ],
            "type": "histogram2d"
           }
          ],
          "histogram2dcontour": [
           {
            "colorbar": {
             "outlinewidth": 0,
             "ticks": ""
            },
            "colorscale": [
             [
              0,
              "#0d0887"
             ],
             [
              0.1111111111111111,
              "#46039f"
             ],
             [
              0.2222222222222222,
              "#7201a8"
             ],
             [
              0.3333333333333333,
              "#9c179e"
             ],
             [
              0.4444444444444444,
              "#bd3786"
             ],
             [
              0.5555555555555556,
              "#d8576b"
             ],
             [
              0.6666666666666666,
              "#ed7953"
             ],
             [
              0.7777777777777778,
              "#fb9f3a"
             ],
             [
              0.8888888888888888,
              "#fdca26"
             ],
             [
              1,
              "#f0f921"
             ]
            ],
            "type": "histogram2dcontour"
           }
          ],
          "mesh3d": [
           {
            "colorbar": {
             "outlinewidth": 0,
             "ticks": ""
            },
            "type": "mesh3d"
           }
          ],
          "parcoords": [
           {
            "line": {
             "colorbar": {
              "outlinewidth": 0,
              "ticks": ""
             }
            },
            "type": "parcoords"
           }
          ],
          "pie": [
           {
            "automargin": true,
            "type": "pie"
           }
          ],
          "scatter": [
           {
            "fillpattern": {
             "fillmode": "overlay",
             "size": 10,
             "solidity": 0.2
            },
            "type": "scatter"
           }
          ],
          "scatter3d": [
           {
            "line": {
             "colorbar": {
              "outlinewidth": 0,
              "ticks": ""
             }
            },
            "marker": {
             "colorbar": {
              "outlinewidth": 0,
              "ticks": ""
             }
            },
            "type": "scatter3d"
           }
          ],
          "scattercarpet": [
           {
            "marker": {
             "colorbar": {
              "outlinewidth": 0,
              "ticks": ""
             }
            },
            "type": "scattercarpet"
           }
          ],
          "scattergeo": [
           {
            "marker": {
             "colorbar": {
              "outlinewidth": 0,
              "ticks": ""
             }
            },
            "type": "scattergeo"
           }
          ],
          "scattergl": [
           {
            "marker": {
             "colorbar": {
              "outlinewidth": 0,
              "ticks": ""
             }
            },
            "type": "scattergl"
           }
          ],
          "scattermap": [
           {
            "marker": {
             "colorbar": {
              "outlinewidth": 0,
              "ticks": ""
             }
            },
            "type": "scattermap"
           }
          ],
          "scattermapbox": [
           {
            "marker": {
             "colorbar": {
              "outlinewidth": 0,
              "ticks": ""
             }
            },
            "type": "scattermapbox"
           }
          ],
          "scatterpolar": [
           {
            "marker": {
             "colorbar": {
              "outlinewidth": 0,
              "ticks": ""
             }
            },
            "type": "scatterpolar"
           }
          ],
          "scatterpolargl": [
           {
            "marker": {
             "colorbar": {
              "outlinewidth": 0,
              "ticks": ""
             }
            },
            "type": "scatterpolargl"
           }
          ],
          "scatterternary": [
           {
            "marker": {
             "colorbar": {
              "outlinewidth": 0,
              "ticks": ""
             }
            },
            "type": "scatterternary"
           }
          ],
          "surface": [
           {
            "colorbar": {
             "outlinewidth": 0,
             "ticks": ""
            },
            "colorscale": [
             [
              0,
              "#0d0887"
             ],
             [
              0.1111111111111111,
              "#46039f"
             ],
             [
              0.2222222222222222,
              "#7201a8"
             ],
             [
              0.3333333333333333,
              "#9c179e"
             ],
             [
              0.4444444444444444,
              "#bd3786"
             ],
             [
              0.5555555555555556,
              "#d8576b"
             ],
             [
              0.6666666666666666,
              "#ed7953"
             ],
             [
              0.7777777777777778,
              "#fb9f3a"
             ],
             [
              0.8888888888888888,
              "#fdca26"
             ],
             [
              1,
              "#f0f921"
             ]
            ],
            "type": "surface"
           }
          ],
          "table": [
           {
            "cells": {
             "fill": {
              "color": "#EBF0F8"
             },
             "line": {
              "color": "white"
             }
            },
            "header": {
             "fill": {
              "color": "#C8D4E3"
             },
             "line": {
              "color": "white"
             }
            },
            "type": "table"
           }
          ]
         },
         "layout": {
          "annotationdefaults": {
           "arrowcolor": "#2a3f5f",
           "arrowhead": 0,
           "arrowwidth": 1
          },
          "autotypenumbers": "strict",
          "coloraxis": {
           "colorbar": {
            "outlinewidth": 0,
            "ticks": ""
           }
          },
          "colorscale": {
           "diverging": [
            [
             0,
             "#8e0152"
            ],
            [
             0.1,
             "#c51b7d"
            ],
            [
             0.2,
             "#de77ae"
            ],
            [
             0.3,
             "#f1b6da"
            ],
            [
             0.4,
             "#fde0ef"
            ],
            [
             0.5,
             "#f7f7f7"
            ],
            [
             0.6,
             "#e6f5d0"
            ],
            [
             0.7,
             "#b8e186"
            ],
            [
             0.8,
             "#7fbc41"
            ],
            [
             0.9,
             "#4d9221"
            ],
            [
             1,
             "#276419"
            ]
           ],
           "sequential": [
            [
             0,
             "#0d0887"
            ],
            [
             0.1111111111111111,
             "#46039f"
            ],
            [
             0.2222222222222222,
             "#7201a8"
            ],
            [
             0.3333333333333333,
             "#9c179e"
            ],
            [
             0.4444444444444444,
             "#bd3786"
            ],
            [
             0.5555555555555556,
             "#d8576b"
            ],
            [
             0.6666666666666666,
             "#ed7953"
            ],
            [
             0.7777777777777778,
             "#fb9f3a"
            ],
            [
             0.8888888888888888,
             "#fdca26"
            ],
            [
             1,
             "#f0f921"
            ]
           ],
           "sequentialminus": [
            [
             0,
             "#0d0887"
            ],
            [
             0.1111111111111111,
             "#46039f"
            ],
            [
             0.2222222222222222,
             "#7201a8"
            ],
            [
             0.3333333333333333,
             "#9c179e"
            ],
            [
             0.4444444444444444,
             "#bd3786"
            ],
            [
             0.5555555555555556,
             "#d8576b"
            ],
            [
             0.6666666666666666,
             "#ed7953"
            ],
            [
             0.7777777777777778,
             "#fb9f3a"
            ],
            [
             0.8888888888888888,
             "#fdca26"
            ],
            [
             1,
             "#f0f921"
            ]
           ]
          },
          "colorway": [
           "#636efa",
           "#EF553B",
           "#00cc96",
           "#ab63fa",
           "#FFA15A",
           "#19d3f3",
           "#FF6692",
           "#B6E880",
           "#FF97FF",
           "#FECB52"
          ],
          "font": {
           "color": "#2a3f5f"
          },
          "geo": {
           "bgcolor": "white",
           "lakecolor": "white",
           "landcolor": "#E5ECF6",
           "showlakes": true,
           "showland": true,
           "subunitcolor": "white"
          },
          "hoverlabel": {
           "align": "left"
          },
          "hovermode": "closest",
          "mapbox": {
           "style": "light"
          },
          "paper_bgcolor": "white",
          "plot_bgcolor": "#E5ECF6",
          "polar": {
           "angularaxis": {
            "gridcolor": "white",
            "linecolor": "white",
            "ticks": ""
           },
           "bgcolor": "#E5ECF6",
           "radialaxis": {
            "gridcolor": "white",
            "linecolor": "white",
            "ticks": ""
           }
          },
          "scene": {
           "xaxis": {
            "backgroundcolor": "#E5ECF6",
            "gridcolor": "white",
            "gridwidth": 2,
            "linecolor": "white",
            "showbackground": true,
            "ticks": "",
            "zerolinecolor": "white"
           },
           "yaxis": {
            "backgroundcolor": "#E5ECF6",
            "gridcolor": "white",
            "gridwidth": 2,
            "linecolor": "white",
            "showbackground": true,
            "ticks": "",
            "zerolinecolor": "white"
           },
           "zaxis": {
            "backgroundcolor": "#E5ECF6",
            "gridcolor": "white",
            "gridwidth": 2,
            "linecolor": "white",
            "showbackground": true,
            "ticks": "",
            "zerolinecolor": "white"
           }
          },
          "shapedefaults": {
           "line": {
            "color": "#2a3f5f"
           }
          },
          "ternary": {
           "aaxis": {
            "gridcolor": "white",
            "linecolor": "white",
            "ticks": ""
           },
           "baxis": {
            "gridcolor": "white",
            "linecolor": "white",
            "ticks": ""
           },
           "bgcolor": "#E5ECF6",
           "caxis": {
            "gridcolor": "white",
            "linecolor": "white",
            "ticks": ""
           }
          },
          "title": {
           "x": 0.05
          },
          "xaxis": {
           "automargin": true,
           "gridcolor": "white",
           "linecolor": "white",
           "ticks": "",
           "title": {
            "standoff": 15
           },
           "zerolinecolor": "white",
           "zerolinewidth": 2
          },
          "yaxis": {
           "automargin": true,
           "gridcolor": "white",
           "linecolor": "white",
           "ticks": "",
           "title": {
            "standoff": 15
           },
           "zerolinecolor": "white",
           "zerolinewidth": 2
          }
         }
        },
        "title": {
         "text": "Altura vs Pie"
        },
        "xaxis": {
         "anchor": "y",
         "domain": [
          0,
          1
         ],
         "title": {
          "text": "Altura (cm)"
         }
        },
        "yaxis": {
         "anchor": "x",
         "domain": [
          0,
          1
         ],
         "title": {
          "text": "Pie (cm)"
         }
        }
       }
      }
     },
     "metadata": {},
     "output_type": "display_data"
    }
   ],
   "source": [
    "fig1 = px.scatter(df, x=\"Altura\", y=\"Ancho\", \n",
    "                  title=\"Altura vs Ancho\", \n",
    "                  labels={\"Altura\": \"Altura (cm)\", \"Ancho\": \"Ancho (cm)\"},\n",
    "                  color_discrete_sequence=[\"blue\"])\n",
    "\n",
    "fig2 = px.scatter(df, x=\"Altura\", y=\"Pie\", \n",
    "                  title=\"Altura vs Pie\", \n",
    "                  labels={\"Altura\": \"Altura (cm)\", \"Pie\": \"Pie (cm)\"},\n",
    "                  color_discrete_sequence=[\"red\"])\n",
    "\n",
    "fig1.show()\n",
    "fig2.show()"
   ]
  },
  {
   "cell_type": "code",
   "execution_count": 113,
   "metadata": {},
   "outputs": [
    {
     "data": {
      "application/vnd.plotly.v1+json": {
       "config": {
        "plotlyServerURL": "https://plot.ly"
       },
       "data": [
        {
         "marker": {
          "color": {
           "bdata": "uQCtAKMAogCsAJ8AuwClAK8AogCbAKgAswCsAJ8ApgCcAJYA",
           "dtype": "i2"
          },
          "colorscale": [
           [
            0,
            "#440154"
           ],
           [
            0.1111111111111111,
            "#482878"
           ],
           [
            0.2222222222222222,
            "#3e4989"
           ],
           [
            0.3333333333333333,
            "#31688e"
           ],
           [
            0.4444444444444444,
            "#26828e"
           ],
           [
            0.5555555555555556,
            "#1f9e89"
           ],
           [
            0.6666666666666666,
            "#35b779"
           ],
           [
            0.7777777777777778,
            "#6ece58"
           ],
           [
            0.8888888888888888,
            "#b5de2b"
           ],
           [
            1,
            "#fde725"
           ]
          ],
          "opacity": 0.8,
          "size": 8
         },
         "mode": "markers",
         "type": "scatter3d",
         "x": {
          "bdata": "NywsLC4oMCgxLCg9NzImJyYn",
          "dtype": "i1"
         },
         "y": {
          "bdata": "AAAAAAAAPEAAAAAAAIA6QAAAAAAAADhAAAAAAACAOEAAAAAAAAA7QAAAAAAAADdAAAAAAAAAPUAAAAAAAAA4QAAAAAAAgDtAAAAAAAAAN0AAAAAAAAA2QAAAAAAAADpAAAAAAAAAPEAAAAAAAIA7QAAAAAAAADhAAAAAAACAOEAAAAAAAAA4QAAAAAAAgDZA",
          "dtype": "f8"
         },
         "z": {
          "bdata": "uQCtAKMAogCsAJ8AuwClAK8AogCbAKgAswCsAJ8ApgCcAJYA",
          "dtype": "i2"
         }
        }
       ],
       "layout": {
        "scene": {
         "xaxis": {
          "title": {
           "text": "Ancho (cm)"
          }
         },
         "yaxis": {
          "title": {
           "text": "Pie (cm)"
          }
         },
         "zaxis": {
          "title": {
           "text": "Altura (cm)"
          }
         }
        },
        "template": {
         "data": {
          "bar": [
           {
            "error_x": {
             "color": "#2a3f5f"
            },
            "error_y": {
             "color": "#2a3f5f"
            },
            "marker": {
             "line": {
              "color": "#E5ECF6",
              "width": 0.5
             },
             "pattern": {
              "fillmode": "overlay",
              "size": 10,
              "solidity": 0.2
             }
            },
            "type": "bar"
           }
          ],
          "barpolar": [
           {
            "marker": {
             "line": {
              "color": "#E5ECF6",
              "width": 0.5
             },
             "pattern": {
              "fillmode": "overlay",
              "size": 10,
              "solidity": 0.2
             }
            },
            "type": "barpolar"
           }
          ],
          "carpet": [
           {
            "aaxis": {
             "endlinecolor": "#2a3f5f",
             "gridcolor": "white",
             "linecolor": "white",
             "minorgridcolor": "white",
             "startlinecolor": "#2a3f5f"
            },
            "baxis": {
             "endlinecolor": "#2a3f5f",
             "gridcolor": "white",
             "linecolor": "white",
             "minorgridcolor": "white",
             "startlinecolor": "#2a3f5f"
            },
            "type": "carpet"
           }
          ],
          "choropleth": [
           {
            "colorbar": {
             "outlinewidth": 0,
             "ticks": ""
            },
            "type": "choropleth"
           }
          ],
          "contour": [
           {
            "colorbar": {
             "outlinewidth": 0,
             "ticks": ""
            },
            "colorscale": [
             [
              0,
              "#0d0887"
             ],
             [
              0.1111111111111111,
              "#46039f"
             ],
             [
              0.2222222222222222,
              "#7201a8"
             ],
             [
              0.3333333333333333,
              "#9c179e"
             ],
             [
              0.4444444444444444,
              "#bd3786"
             ],
             [
              0.5555555555555556,
              "#d8576b"
             ],
             [
              0.6666666666666666,
              "#ed7953"
             ],
             [
              0.7777777777777778,
              "#fb9f3a"
             ],
             [
              0.8888888888888888,
              "#fdca26"
             ],
             [
              1,
              "#f0f921"
             ]
            ],
            "type": "contour"
           }
          ],
          "contourcarpet": [
           {
            "colorbar": {
             "outlinewidth": 0,
             "ticks": ""
            },
            "type": "contourcarpet"
           }
          ],
          "heatmap": [
           {
            "colorbar": {
             "outlinewidth": 0,
             "ticks": ""
            },
            "colorscale": [
             [
              0,
              "#0d0887"
             ],
             [
              0.1111111111111111,
              "#46039f"
             ],
             [
              0.2222222222222222,
              "#7201a8"
             ],
             [
              0.3333333333333333,
              "#9c179e"
             ],
             [
              0.4444444444444444,
              "#bd3786"
             ],
             [
              0.5555555555555556,
              "#d8576b"
             ],
             [
              0.6666666666666666,
              "#ed7953"
             ],
             [
              0.7777777777777778,
              "#fb9f3a"
             ],
             [
              0.8888888888888888,
              "#fdca26"
             ],
             [
              1,
              "#f0f921"
             ]
            ],
            "type": "heatmap"
           }
          ],
          "histogram": [
           {
            "marker": {
             "pattern": {
              "fillmode": "overlay",
              "size": 10,
              "solidity": 0.2
             }
            },
            "type": "histogram"
           }
          ],
          "histogram2d": [
           {
            "colorbar": {
             "outlinewidth": 0,
             "ticks": ""
            },
            "colorscale": [
             [
              0,
              "#0d0887"
             ],
             [
              0.1111111111111111,
              "#46039f"
             ],
             [
              0.2222222222222222,
              "#7201a8"
             ],
             [
              0.3333333333333333,
              "#9c179e"
             ],
             [
              0.4444444444444444,
              "#bd3786"
             ],
             [
              0.5555555555555556,
              "#d8576b"
             ],
             [
              0.6666666666666666,
              "#ed7953"
             ],
             [
              0.7777777777777778,
              "#fb9f3a"
             ],
             [
              0.8888888888888888,
              "#fdca26"
             ],
             [
              1,
              "#f0f921"
             ]
            ],
            "type": "histogram2d"
           }
          ],
          "histogram2dcontour": [
           {
            "colorbar": {
             "outlinewidth": 0,
             "ticks": ""
            },
            "colorscale": [
             [
              0,
              "#0d0887"
             ],
             [
              0.1111111111111111,
              "#46039f"
             ],
             [
              0.2222222222222222,
              "#7201a8"
             ],
             [
              0.3333333333333333,
              "#9c179e"
             ],
             [
              0.4444444444444444,
              "#bd3786"
             ],
             [
              0.5555555555555556,
              "#d8576b"
             ],
             [
              0.6666666666666666,
              "#ed7953"
             ],
             [
              0.7777777777777778,
              "#fb9f3a"
             ],
             [
              0.8888888888888888,
              "#fdca26"
             ],
             [
              1,
              "#f0f921"
             ]
            ],
            "type": "histogram2dcontour"
           }
          ],
          "mesh3d": [
           {
            "colorbar": {
             "outlinewidth": 0,
             "ticks": ""
            },
            "type": "mesh3d"
           }
          ],
          "parcoords": [
           {
            "line": {
             "colorbar": {
              "outlinewidth": 0,
              "ticks": ""
             }
            },
            "type": "parcoords"
           }
          ],
          "pie": [
           {
            "automargin": true,
            "type": "pie"
           }
          ],
          "scatter": [
           {
            "fillpattern": {
             "fillmode": "overlay",
             "size": 10,
             "solidity": 0.2
            },
            "type": "scatter"
           }
          ],
          "scatter3d": [
           {
            "line": {
             "colorbar": {
              "outlinewidth": 0,
              "ticks": ""
             }
            },
            "marker": {
             "colorbar": {
              "outlinewidth": 0,
              "ticks": ""
             }
            },
            "type": "scatter3d"
           }
          ],
          "scattercarpet": [
           {
            "marker": {
             "colorbar": {
              "outlinewidth": 0,
              "ticks": ""
             }
            },
            "type": "scattercarpet"
           }
          ],
          "scattergeo": [
           {
            "marker": {
             "colorbar": {
              "outlinewidth": 0,
              "ticks": ""
             }
            },
            "type": "scattergeo"
           }
          ],
          "scattergl": [
           {
            "marker": {
             "colorbar": {
              "outlinewidth": 0,
              "ticks": ""
             }
            },
            "type": "scattergl"
           }
          ],
          "scattermap": [
           {
            "marker": {
             "colorbar": {
              "outlinewidth": 0,
              "ticks": ""
             }
            },
            "type": "scattermap"
           }
          ],
          "scattermapbox": [
           {
            "marker": {
             "colorbar": {
              "outlinewidth": 0,
              "ticks": ""
             }
            },
            "type": "scattermapbox"
           }
          ],
          "scatterpolar": [
           {
            "marker": {
             "colorbar": {
              "outlinewidth": 0,
              "ticks": ""
             }
            },
            "type": "scatterpolar"
           }
          ],
          "scatterpolargl": [
           {
            "marker": {
             "colorbar": {
              "outlinewidth": 0,
              "ticks": ""
             }
            },
            "type": "scatterpolargl"
           }
          ],
          "scatterternary": [
           {
            "marker": {
             "colorbar": {
              "outlinewidth": 0,
              "ticks": ""
             }
            },
            "type": "scatterternary"
           }
          ],
          "surface": [
           {
            "colorbar": {
             "outlinewidth": 0,
             "ticks": ""
            },
            "colorscale": [
             [
              0,
              "#0d0887"
             ],
             [
              0.1111111111111111,
              "#46039f"
             ],
             [
              0.2222222222222222,
              "#7201a8"
             ],
             [
              0.3333333333333333,
              "#9c179e"
             ],
             [
              0.4444444444444444,
              "#bd3786"
             ],
             [
              0.5555555555555556,
              "#d8576b"
             ],
             [
              0.6666666666666666,
              "#ed7953"
             ],
             [
              0.7777777777777778,
              "#fb9f3a"
             ],
             [
              0.8888888888888888,
              "#fdca26"
             ],
             [
              1,
              "#f0f921"
             ]
            ],
            "type": "surface"
           }
          ],
          "table": [
           {
            "cells": {
             "fill": {
              "color": "#EBF0F8"
             },
             "line": {
              "color": "white"
             }
            },
            "header": {
             "fill": {
              "color": "#C8D4E3"
             },
             "line": {
              "color": "white"
             }
            },
            "type": "table"
           }
          ]
         },
         "layout": {
          "annotationdefaults": {
           "arrowcolor": "#2a3f5f",
           "arrowhead": 0,
           "arrowwidth": 1
          },
          "autotypenumbers": "strict",
          "coloraxis": {
           "colorbar": {
            "outlinewidth": 0,
            "ticks": ""
           }
          },
          "colorscale": {
           "diverging": [
            [
             0,
             "#8e0152"
            ],
            [
             0.1,
             "#c51b7d"
            ],
            [
             0.2,
             "#de77ae"
            ],
            [
             0.3,
             "#f1b6da"
            ],
            [
             0.4,
             "#fde0ef"
            ],
            [
             0.5,
             "#f7f7f7"
            ],
            [
             0.6,
             "#e6f5d0"
            ],
            [
             0.7,
             "#b8e186"
            ],
            [
             0.8,
             "#7fbc41"
            ],
            [
             0.9,
             "#4d9221"
            ],
            [
             1,
             "#276419"
            ]
           ],
           "sequential": [
            [
             0,
             "#0d0887"
            ],
            [
             0.1111111111111111,
             "#46039f"
            ],
            [
             0.2222222222222222,
             "#7201a8"
            ],
            [
             0.3333333333333333,
             "#9c179e"
            ],
            [
             0.4444444444444444,
             "#bd3786"
            ],
            [
             0.5555555555555556,
             "#d8576b"
            ],
            [
             0.6666666666666666,
             "#ed7953"
            ],
            [
             0.7777777777777778,
             "#fb9f3a"
            ],
            [
             0.8888888888888888,
             "#fdca26"
            ],
            [
             1,
             "#f0f921"
            ]
           ],
           "sequentialminus": [
            [
             0,
             "#0d0887"
            ],
            [
             0.1111111111111111,
             "#46039f"
            ],
            [
             0.2222222222222222,
             "#7201a8"
            ],
            [
             0.3333333333333333,
             "#9c179e"
            ],
            [
             0.4444444444444444,
             "#bd3786"
            ],
            [
             0.5555555555555556,
             "#d8576b"
            ],
            [
             0.6666666666666666,
             "#ed7953"
            ],
            [
             0.7777777777777778,
             "#fb9f3a"
            ],
            [
             0.8888888888888888,
             "#fdca26"
            ],
            [
             1,
             "#f0f921"
            ]
           ]
          },
          "colorway": [
           "#636efa",
           "#EF553B",
           "#00cc96",
           "#ab63fa",
           "#FFA15A",
           "#19d3f3",
           "#FF6692",
           "#B6E880",
           "#FF97FF",
           "#FECB52"
          ],
          "font": {
           "color": "#2a3f5f"
          },
          "geo": {
           "bgcolor": "white",
           "lakecolor": "white",
           "landcolor": "#E5ECF6",
           "showlakes": true,
           "showland": true,
           "subunitcolor": "white"
          },
          "hoverlabel": {
           "align": "left"
          },
          "hovermode": "closest",
          "mapbox": {
           "style": "light"
          },
          "paper_bgcolor": "white",
          "plot_bgcolor": "#E5ECF6",
          "polar": {
           "angularaxis": {
            "gridcolor": "white",
            "linecolor": "white",
            "ticks": ""
           },
           "bgcolor": "#E5ECF6",
           "radialaxis": {
            "gridcolor": "white",
            "linecolor": "white",
            "ticks": ""
           }
          },
          "scene": {
           "xaxis": {
            "backgroundcolor": "#E5ECF6",
            "gridcolor": "white",
            "gridwidth": 2,
            "linecolor": "white",
            "showbackground": true,
            "ticks": "",
            "zerolinecolor": "white"
           },
           "yaxis": {
            "backgroundcolor": "#E5ECF6",
            "gridcolor": "white",
            "gridwidth": 2,
            "linecolor": "white",
            "showbackground": true,
            "ticks": "",
            "zerolinecolor": "white"
           },
           "zaxis": {
            "backgroundcolor": "#E5ECF6",
            "gridcolor": "white",
            "gridwidth": 2,
            "linecolor": "white",
            "showbackground": true,
            "ticks": "",
            "zerolinecolor": "white"
           }
          },
          "shapedefaults": {
           "line": {
            "color": "#2a3f5f"
           }
          },
          "ternary": {
           "aaxis": {
            "gridcolor": "white",
            "linecolor": "white",
            "ticks": ""
           },
           "baxis": {
            "gridcolor": "white",
            "linecolor": "white",
            "ticks": ""
           },
           "bgcolor": "#E5ECF6",
           "caxis": {
            "gridcolor": "white",
            "linecolor": "white",
            "ticks": ""
           }
          },
          "title": {
           "x": 0.05
          },
          "xaxis": {
           "automargin": true,
           "gridcolor": "white",
           "linecolor": "white",
           "ticks": "",
           "title": {
            "standoff": 15
           },
           "zerolinecolor": "white",
           "zerolinewidth": 2
          },
          "yaxis": {
           "automargin": true,
           "gridcolor": "white",
           "linecolor": "white",
           "ticks": "",
           "title": {
            "standoff": 15
           },
           "zerolinecolor": "white",
           "zerolinewidth": 2
          }
         }
        },
        "title": {
         "text": "Gráfica 3D: Altura vs Ancho vs Pie"
        }
       }
      }
     },
     "metadata": {},
     "output_type": "display_data"
    }
   ],
   "source": [
    "fig = go.Figure(data=[go.Scatter3d(\n",
    "    x=df['Ancho'], \n",
    "    y=df['Pie'], \n",
    "    z=df['Altura'],\n",
    "    mode='markers',\n",
    "    marker=dict(size=8, color=df['Altura'], colorscale='Viridis', opacity=0.8)\n",
    ")])\n",
    "\n",
    "fig.update_layout(\n",
    "    title=\"Gráfica 3D: Altura vs Ancho vs Pie\",\n",
    "    scene=dict(\n",
    "        xaxis_title=\"Ancho (cm)\",\n",
    "        yaxis_title=\"Pie (cm)\",\n",
    "        zaxis_title=\"Altura (cm)\"\n",
    "    )\n",
    ")\n",
    "\n",
    "fig.show()"
   ]
  },
  {
   "cell_type": "markdown",
   "metadata": {},
   "source": [
    "## **Modelos Lineales**"
   ]
  },
  {
   "cell_type": "markdown",
   "metadata": {},
   "source": [
    "### **Sampleo de Datos**"
   ]
  },
  {
   "cell_type": "code",
   "execution_count": 114,
   "metadata": {},
   "outputs": [],
   "source": [
    "from sklearn.mixture import GaussianMixture\n",
    "from sklearn.model_selection import GridSearchCV"
   ]
  },
  {
   "cell_type": "code",
   "execution_count": 115,
   "metadata": {},
   "outputs": [],
   "source": [
    "param_grid = {\n",
    "    'n_components': range(1, 11),  \n",
    "    'covariance_type': ['full', 'tied', 'diag', 'spherical'],  \n",
    "    'reg_covar': [1e-6, 1e-4, 1e-2, 1e-1]  \n",
    "}"
   ]
  },
  {
   "cell_type": "code",
   "execution_count": 116,
   "metadata": {},
   "outputs": [
    {
     "name": "stdout",
     "output_type": "stream",
     "text": [
      "Fitting 3 folds for each of 160 candidates, totalling 480 fits\n"
     ]
    },
    {
     "data": {
      "text/html": [
       "<style>#sk-container-id-11 {\n",
       "  /* Definition of color scheme common for light and dark mode */\n",
       "  --sklearn-color-text: #000;\n",
       "  --sklearn-color-text-muted: #666;\n",
       "  --sklearn-color-line: gray;\n",
       "  /* Definition of color scheme for unfitted estimators */\n",
       "  --sklearn-color-unfitted-level-0: #fff5e6;\n",
       "  --sklearn-color-unfitted-level-1: #f6e4d2;\n",
       "  --sklearn-color-unfitted-level-2: #ffe0b3;\n",
       "  --sklearn-color-unfitted-level-3: chocolate;\n",
       "  /* Definition of color scheme for fitted estimators */\n",
       "  --sklearn-color-fitted-level-0: #f0f8ff;\n",
       "  --sklearn-color-fitted-level-1: #d4ebff;\n",
       "  --sklearn-color-fitted-level-2: #b3dbfd;\n",
       "  --sklearn-color-fitted-level-3: cornflowerblue;\n",
       "\n",
       "  /* Specific color for light theme */\n",
       "  --sklearn-color-text-on-default-background: var(--sg-text-color, var(--theme-code-foreground, var(--jp-content-font-color1, black)));\n",
       "  --sklearn-color-background: var(--sg-background-color, var(--theme-background, var(--jp-layout-color0, white)));\n",
       "  --sklearn-color-border-box: var(--sg-text-color, var(--theme-code-foreground, var(--jp-content-font-color1, black)));\n",
       "  --sklearn-color-icon: #696969;\n",
       "\n",
       "  @media (prefers-color-scheme: dark) {\n",
       "    /* Redefinition of color scheme for dark theme */\n",
       "    --sklearn-color-text-on-default-background: var(--sg-text-color, var(--theme-code-foreground, var(--jp-content-font-color1, white)));\n",
       "    --sklearn-color-background: var(--sg-background-color, var(--theme-background, var(--jp-layout-color0, #111)));\n",
       "    --sklearn-color-border-box: var(--sg-text-color, var(--theme-code-foreground, var(--jp-content-font-color1, white)));\n",
       "    --sklearn-color-icon: #878787;\n",
       "  }\n",
       "}\n",
       "\n",
       "#sk-container-id-11 {\n",
       "  color: var(--sklearn-color-text);\n",
       "}\n",
       "\n",
       "#sk-container-id-11 pre {\n",
       "  padding: 0;\n",
       "}\n",
       "\n",
       "#sk-container-id-11 input.sk-hidden--visually {\n",
       "  border: 0;\n",
       "  clip: rect(1px 1px 1px 1px);\n",
       "  clip: rect(1px, 1px, 1px, 1px);\n",
       "  height: 1px;\n",
       "  margin: -1px;\n",
       "  overflow: hidden;\n",
       "  padding: 0;\n",
       "  position: absolute;\n",
       "  width: 1px;\n",
       "}\n",
       "\n",
       "#sk-container-id-11 div.sk-dashed-wrapped {\n",
       "  border: 1px dashed var(--sklearn-color-line);\n",
       "  margin: 0 0.4em 0.5em 0.4em;\n",
       "  box-sizing: border-box;\n",
       "  padding-bottom: 0.4em;\n",
       "  background-color: var(--sklearn-color-background);\n",
       "}\n",
       "\n",
       "#sk-container-id-11 div.sk-container {\n",
       "  /* jupyter's `normalize.less` sets `[hidden] { display: none; }`\n",
       "     but bootstrap.min.css set `[hidden] { display: none !important; }`\n",
       "     so we also need the `!important` here to be able to override the\n",
       "     default hidden behavior on the sphinx rendered scikit-learn.org.\n",
       "     See: https://github.com/scikit-learn/scikit-learn/issues/21755 */\n",
       "  display: inline-block !important;\n",
       "  position: relative;\n",
       "}\n",
       "\n",
       "#sk-container-id-11 div.sk-text-repr-fallback {\n",
       "  display: none;\n",
       "}\n",
       "\n",
       "div.sk-parallel-item,\n",
       "div.sk-serial,\n",
       "div.sk-item {\n",
       "  /* draw centered vertical line to link estimators */\n",
       "  background-image: linear-gradient(var(--sklearn-color-text-on-default-background), var(--sklearn-color-text-on-default-background));\n",
       "  background-size: 2px 100%;\n",
       "  background-repeat: no-repeat;\n",
       "  background-position: center center;\n",
       "}\n",
       "\n",
       "/* Parallel-specific style estimator block */\n",
       "\n",
       "#sk-container-id-11 div.sk-parallel-item::after {\n",
       "  content: \"\";\n",
       "  width: 100%;\n",
       "  border-bottom: 2px solid var(--sklearn-color-text-on-default-background);\n",
       "  flex-grow: 1;\n",
       "}\n",
       "\n",
       "#sk-container-id-11 div.sk-parallel {\n",
       "  display: flex;\n",
       "  align-items: stretch;\n",
       "  justify-content: center;\n",
       "  background-color: var(--sklearn-color-background);\n",
       "  position: relative;\n",
       "}\n",
       "\n",
       "#sk-container-id-11 div.sk-parallel-item {\n",
       "  display: flex;\n",
       "  flex-direction: column;\n",
       "}\n",
       "\n",
       "#sk-container-id-11 div.sk-parallel-item:first-child::after {\n",
       "  align-self: flex-end;\n",
       "  width: 50%;\n",
       "}\n",
       "\n",
       "#sk-container-id-11 div.sk-parallel-item:last-child::after {\n",
       "  align-self: flex-start;\n",
       "  width: 50%;\n",
       "}\n",
       "\n",
       "#sk-container-id-11 div.sk-parallel-item:only-child::after {\n",
       "  width: 0;\n",
       "}\n",
       "\n",
       "/* Serial-specific style estimator block */\n",
       "\n",
       "#sk-container-id-11 div.sk-serial {\n",
       "  display: flex;\n",
       "  flex-direction: column;\n",
       "  align-items: center;\n",
       "  background-color: var(--sklearn-color-background);\n",
       "  padding-right: 1em;\n",
       "  padding-left: 1em;\n",
       "}\n",
       "\n",
       "\n",
       "/* Toggleable style: style used for estimator/Pipeline/ColumnTransformer box that is\n",
       "clickable and can be expanded/collapsed.\n",
       "- Pipeline and ColumnTransformer use this feature and define the default style\n",
       "- Estimators will overwrite some part of the style using the `sk-estimator` class\n",
       "*/\n",
       "\n",
       "/* Pipeline and ColumnTransformer style (default) */\n",
       "\n",
       "#sk-container-id-11 div.sk-toggleable {\n",
       "  /* Default theme specific background. It is overwritten whether we have a\n",
       "  specific estimator or a Pipeline/ColumnTransformer */\n",
       "  background-color: var(--sklearn-color-background);\n",
       "}\n",
       "\n",
       "/* Toggleable label */\n",
       "#sk-container-id-11 label.sk-toggleable__label {\n",
       "  cursor: pointer;\n",
       "  display: flex;\n",
       "  width: 100%;\n",
       "  margin-bottom: 0;\n",
       "  padding: 0.5em;\n",
       "  box-sizing: border-box;\n",
       "  text-align: center;\n",
       "  align-items: start;\n",
       "  justify-content: space-between;\n",
       "  gap: 0.5em;\n",
       "}\n",
       "\n",
       "#sk-container-id-11 label.sk-toggleable__label .caption {\n",
       "  font-size: 0.6rem;\n",
       "  font-weight: lighter;\n",
       "  color: var(--sklearn-color-text-muted);\n",
       "}\n",
       "\n",
       "#sk-container-id-11 label.sk-toggleable__label-arrow:before {\n",
       "  /* Arrow on the left of the label */\n",
       "  content: \"▸\";\n",
       "  float: left;\n",
       "  margin-right: 0.25em;\n",
       "  color: var(--sklearn-color-icon);\n",
       "}\n",
       "\n",
       "#sk-container-id-11 label.sk-toggleable__label-arrow:hover:before {\n",
       "  color: var(--sklearn-color-text);\n",
       "}\n",
       "\n",
       "/* Toggleable content - dropdown */\n",
       "\n",
       "#sk-container-id-11 div.sk-toggleable__content {\n",
       "  max-height: 0;\n",
       "  max-width: 0;\n",
       "  overflow: hidden;\n",
       "  text-align: left;\n",
       "  /* unfitted */\n",
       "  background-color: var(--sklearn-color-unfitted-level-0);\n",
       "}\n",
       "\n",
       "#sk-container-id-11 div.sk-toggleable__content.fitted {\n",
       "  /* fitted */\n",
       "  background-color: var(--sklearn-color-fitted-level-0);\n",
       "}\n",
       "\n",
       "#sk-container-id-11 div.sk-toggleable__content pre {\n",
       "  margin: 0.2em;\n",
       "  border-radius: 0.25em;\n",
       "  color: var(--sklearn-color-text);\n",
       "  /* unfitted */\n",
       "  background-color: var(--sklearn-color-unfitted-level-0);\n",
       "}\n",
       "\n",
       "#sk-container-id-11 div.sk-toggleable__content.fitted pre {\n",
       "  /* unfitted */\n",
       "  background-color: var(--sklearn-color-fitted-level-0);\n",
       "}\n",
       "\n",
       "#sk-container-id-11 input.sk-toggleable__control:checked~div.sk-toggleable__content {\n",
       "  /* Expand drop-down */\n",
       "  max-height: 200px;\n",
       "  max-width: 100%;\n",
       "  overflow: auto;\n",
       "}\n",
       "\n",
       "#sk-container-id-11 input.sk-toggleable__control:checked~label.sk-toggleable__label-arrow:before {\n",
       "  content: \"▾\";\n",
       "}\n",
       "\n",
       "/* Pipeline/ColumnTransformer-specific style */\n",
       "\n",
       "#sk-container-id-11 div.sk-label input.sk-toggleable__control:checked~label.sk-toggleable__label {\n",
       "  color: var(--sklearn-color-text);\n",
       "  background-color: var(--sklearn-color-unfitted-level-2);\n",
       "}\n",
       "\n",
       "#sk-container-id-11 div.sk-label.fitted input.sk-toggleable__control:checked~label.sk-toggleable__label {\n",
       "  background-color: var(--sklearn-color-fitted-level-2);\n",
       "}\n",
       "\n",
       "/* Estimator-specific style */\n",
       "\n",
       "/* Colorize estimator box */\n",
       "#sk-container-id-11 div.sk-estimator input.sk-toggleable__control:checked~label.sk-toggleable__label {\n",
       "  /* unfitted */\n",
       "  background-color: var(--sklearn-color-unfitted-level-2);\n",
       "}\n",
       "\n",
       "#sk-container-id-11 div.sk-estimator.fitted input.sk-toggleable__control:checked~label.sk-toggleable__label {\n",
       "  /* fitted */\n",
       "  background-color: var(--sklearn-color-fitted-level-2);\n",
       "}\n",
       "\n",
       "#sk-container-id-11 div.sk-label label.sk-toggleable__label,\n",
       "#sk-container-id-11 div.sk-label label {\n",
       "  /* The background is the default theme color */\n",
       "  color: var(--sklearn-color-text-on-default-background);\n",
       "}\n",
       "\n",
       "/* On hover, darken the color of the background */\n",
       "#sk-container-id-11 div.sk-label:hover label.sk-toggleable__label {\n",
       "  color: var(--sklearn-color-text);\n",
       "  background-color: var(--sklearn-color-unfitted-level-2);\n",
       "}\n",
       "\n",
       "/* Label box, darken color on hover, fitted */\n",
       "#sk-container-id-11 div.sk-label.fitted:hover label.sk-toggleable__label.fitted {\n",
       "  color: var(--sklearn-color-text);\n",
       "  background-color: var(--sklearn-color-fitted-level-2);\n",
       "}\n",
       "\n",
       "/* Estimator label */\n",
       "\n",
       "#sk-container-id-11 div.sk-label label {\n",
       "  font-family: monospace;\n",
       "  font-weight: bold;\n",
       "  display: inline-block;\n",
       "  line-height: 1.2em;\n",
       "}\n",
       "\n",
       "#sk-container-id-11 div.sk-label-container {\n",
       "  text-align: center;\n",
       "}\n",
       "\n",
       "/* Estimator-specific */\n",
       "#sk-container-id-11 div.sk-estimator {\n",
       "  font-family: monospace;\n",
       "  border: 1px dotted var(--sklearn-color-border-box);\n",
       "  border-radius: 0.25em;\n",
       "  box-sizing: border-box;\n",
       "  margin-bottom: 0.5em;\n",
       "  /* unfitted */\n",
       "  background-color: var(--sklearn-color-unfitted-level-0);\n",
       "}\n",
       "\n",
       "#sk-container-id-11 div.sk-estimator.fitted {\n",
       "  /* fitted */\n",
       "  background-color: var(--sklearn-color-fitted-level-0);\n",
       "}\n",
       "\n",
       "/* on hover */\n",
       "#sk-container-id-11 div.sk-estimator:hover {\n",
       "  /* unfitted */\n",
       "  background-color: var(--sklearn-color-unfitted-level-2);\n",
       "}\n",
       "\n",
       "#sk-container-id-11 div.sk-estimator.fitted:hover {\n",
       "  /* fitted */\n",
       "  background-color: var(--sklearn-color-fitted-level-2);\n",
       "}\n",
       "\n",
       "/* Specification for estimator info (e.g. \"i\" and \"?\") */\n",
       "\n",
       "/* Common style for \"i\" and \"?\" */\n",
       "\n",
       ".sk-estimator-doc-link,\n",
       "a:link.sk-estimator-doc-link,\n",
       "a:visited.sk-estimator-doc-link {\n",
       "  float: right;\n",
       "  font-size: smaller;\n",
       "  line-height: 1em;\n",
       "  font-family: monospace;\n",
       "  background-color: var(--sklearn-color-background);\n",
       "  border-radius: 1em;\n",
       "  height: 1em;\n",
       "  width: 1em;\n",
       "  text-decoration: none !important;\n",
       "  margin-left: 0.5em;\n",
       "  text-align: center;\n",
       "  /* unfitted */\n",
       "  border: var(--sklearn-color-unfitted-level-1) 1pt solid;\n",
       "  color: var(--sklearn-color-unfitted-level-1);\n",
       "}\n",
       "\n",
       ".sk-estimator-doc-link.fitted,\n",
       "a:link.sk-estimator-doc-link.fitted,\n",
       "a:visited.sk-estimator-doc-link.fitted {\n",
       "  /* fitted */\n",
       "  border: var(--sklearn-color-fitted-level-1) 1pt solid;\n",
       "  color: var(--sklearn-color-fitted-level-1);\n",
       "}\n",
       "\n",
       "/* On hover */\n",
       "div.sk-estimator:hover .sk-estimator-doc-link:hover,\n",
       ".sk-estimator-doc-link:hover,\n",
       "div.sk-label-container:hover .sk-estimator-doc-link:hover,\n",
       ".sk-estimator-doc-link:hover {\n",
       "  /* unfitted */\n",
       "  background-color: var(--sklearn-color-unfitted-level-3);\n",
       "  color: var(--sklearn-color-background);\n",
       "  text-decoration: none;\n",
       "}\n",
       "\n",
       "div.sk-estimator.fitted:hover .sk-estimator-doc-link.fitted:hover,\n",
       ".sk-estimator-doc-link.fitted:hover,\n",
       "div.sk-label-container:hover .sk-estimator-doc-link.fitted:hover,\n",
       ".sk-estimator-doc-link.fitted:hover {\n",
       "  /* fitted */\n",
       "  background-color: var(--sklearn-color-fitted-level-3);\n",
       "  color: var(--sklearn-color-background);\n",
       "  text-decoration: none;\n",
       "}\n",
       "\n",
       "/* Span, style for the box shown on hovering the info icon */\n",
       ".sk-estimator-doc-link span {\n",
       "  display: none;\n",
       "  z-index: 9999;\n",
       "  position: relative;\n",
       "  font-weight: normal;\n",
       "  right: .2ex;\n",
       "  padding: .5ex;\n",
       "  margin: .5ex;\n",
       "  width: min-content;\n",
       "  min-width: 20ex;\n",
       "  max-width: 50ex;\n",
       "  color: var(--sklearn-color-text);\n",
       "  box-shadow: 2pt 2pt 4pt #999;\n",
       "  /* unfitted */\n",
       "  background: var(--sklearn-color-unfitted-level-0);\n",
       "  border: .5pt solid var(--sklearn-color-unfitted-level-3);\n",
       "}\n",
       "\n",
       ".sk-estimator-doc-link.fitted span {\n",
       "  /* fitted */\n",
       "  background: var(--sklearn-color-fitted-level-0);\n",
       "  border: var(--sklearn-color-fitted-level-3);\n",
       "}\n",
       "\n",
       ".sk-estimator-doc-link:hover span {\n",
       "  display: block;\n",
       "}\n",
       "\n",
       "/* \"?\"-specific style due to the `<a>` HTML tag */\n",
       "\n",
       "#sk-container-id-11 a.estimator_doc_link {\n",
       "  float: right;\n",
       "  font-size: 1rem;\n",
       "  line-height: 1em;\n",
       "  font-family: monospace;\n",
       "  background-color: var(--sklearn-color-background);\n",
       "  border-radius: 1rem;\n",
       "  height: 1rem;\n",
       "  width: 1rem;\n",
       "  text-decoration: none;\n",
       "  /* unfitted */\n",
       "  color: var(--sklearn-color-unfitted-level-1);\n",
       "  border: var(--sklearn-color-unfitted-level-1) 1pt solid;\n",
       "}\n",
       "\n",
       "#sk-container-id-11 a.estimator_doc_link.fitted {\n",
       "  /* fitted */\n",
       "  border: var(--sklearn-color-fitted-level-1) 1pt solid;\n",
       "  color: var(--sklearn-color-fitted-level-1);\n",
       "}\n",
       "\n",
       "/* On hover */\n",
       "#sk-container-id-11 a.estimator_doc_link:hover {\n",
       "  /* unfitted */\n",
       "  background-color: var(--sklearn-color-unfitted-level-3);\n",
       "  color: var(--sklearn-color-background);\n",
       "  text-decoration: none;\n",
       "}\n",
       "\n",
       "#sk-container-id-11 a.estimator_doc_link.fitted:hover {\n",
       "  /* fitted */\n",
       "  background-color: var(--sklearn-color-fitted-level-3);\n",
       "}\n",
       "</style><div id=\"sk-container-id-11\" class=\"sk-top-container\"><div class=\"sk-text-repr-fallback\"><pre>GridSearchCV(cv=3, estimator=GaussianMixture(random_state=42),\n",
       "             param_grid={&#x27;covariance_type&#x27;: [&#x27;full&#x27;, &#x27;tied&#x27;, &#x27;diag&#x27;,\n",
       "                                             &#x27;spherical&#x27;],\n",
       "                         &#x27;n_components&#x27;: range(1, 11),\n",
       "                         &#x27;reg_covar&#x27;: [1e-06, 0.0001, 0.01, 0.1]},\n",
       "             verbose=1)</pre><b>In a Jupyter environment, please rerun this cell to show the HTML representation or trust the notebook. <br />On GitHub, the HTML representation is unable to render, please try loading this page with nbviewer.org.</b></div><div class=\"sk-container\" hidden><div class=\"sk-item sk-dashed-wrapped\"><div class=\"sk-label-container\"><div class=\"sk-label fitted sk-toggleable\"><input class=\"sk-toggleable__control sk-hidden--visually\" id=\"sk-estimator-id-19\" type=\"checkbox\" ><label for=\"sk-estimator-id-19\" class=\"sk-toggleable__label fitted sk-toggleable__label-arrow\"><div><div>GridSearchCV</div></div><div><a class=\"sk-estimator-doc-link fitted\" rel=\"noreferrer\" target=\"_blank\" href=\"https://scikit-learn.org/1.6/modules/generated/sklearn.model_selection.GridSearchCV.html\">?<span>Documentation for GridSearchCV</span></a><span class=\"sk-estimator-doc-link fitted\">i<span>Fitted</span></span></div></label><div class=\"sk-toggleable__content fitted\"><pre>GridSearchCV(cv=3, estimator=GaussianMixture(random_state=42),\n",
       "             param_grid={&#x27;covariance_type&#x27;: [&#x27;full&#x27;, &#x27;tied&#x27;, &#x27;diag&#x27;,\n",
       "                                             &#x27;spherical&#x27;],\n",
       "                         &#x27;n_components&#x27;: range(1, 11),\n",
       "                         &#x27;reg_covar&#x27;: [1e-06, 0.0001, 0.01, 0.1]},\n",
       "             verbose=1)</pre></div> </div></div><div class=\"sk-parallel\"><div class=\"sk-parallel-item\"><div class=\"sk-item\"><div class=\"sk-label-container\"><div class=\"sk-label fitted sk-toggleable\"><input class=\"sk-toggleable__control sk-hidden--visually\" id=\"sk-estimator-id-20\" type=\"checkbox\" ><label for=\"sk-estimator-id-20\" class=\"sk-toggleable__label fitted sk-toggleable__label-arrow\"><div><div>best_estimator_: GaussianMixture</div></div></label><div class=\"sk-toggleable__content fitted\"><pre>GaussianMixture(covariance_type=&#x27;diag&#x27;, n_components=2, random_state=42,\n",
       "                reg_covar=0.1)</pre></div> </div></div><div class=\"sk-serial\"><div class=\"sk-item\"><div class=\"sk-estimator fitted sk-toggleable\"><input class=\"sk-toggleable__control sk-hidden--visually\" id=\"sk-estimator-id-21\" type=\"checkbox\" ><label for=\"sk-estimator-id-21\" class=\"sk-toggleable__label fitted sk-toggleable__label-arrow\"><div><div>GaussianMixture</div></div><div><a class=\"sk-estimator-doc-link fitted\" rel=\"noreferrer\" target=\"_blank\" href=\"https://scikit-learn.org/1.6/modules/generated/sklearn.mixture.GaussianMixture.html\">?<span>Documentation for GaussianMixture</span></a></div></label><div class=\"sk-toggleable__content fitted\"><pre>GaussianMixture(covariance_type=&#x27;diag&#x27;, n_components=2, random_state=42,\n",
       "                reg_covar=0.1)</pre></div> </div></div></div></div></div></div></div></div></div>"
      ],
      "text/plain": [
       "GridSearchCV(cv=3, estimator=GaussianMixture(random_state=42),\n",
       "             param_grid={'covariance_type': ['full', 'tied', 'diag',\n",
       "                                             'spherical'],\n",
       "                         'n_components': range(1, 11),\n",
       "                         'reg_covar': [1e-06, 0.0001, 0.01, 0.1]},\n",
       "             verbose=1)"
      ]
     },
     "execution_count": 116,
     "metadata": {},
     "output_type": "execute_result"
    }
   ],
   "source": [
    "gmm = GaussianMixture(random_state=42)\n",
    "grid_search = GridSearchCV(gmm, param_grid, scoring=None, cv=3, verbose=1)\n",
    "grid_search.fit(df)"
   ]
  },
  {
   "cell_type": "code",
   "execution_count": 117,
   "metadata": {},
   "outputs": [
    {
     "name": "stdout",
     "output_type": "stream",
     "text": [
      "Mejores hiperparámetros encontrados:\n"
     ]
    },
    {
     "data": {
      "text/plain": [
       "{'covariance_type': 'diag', 'n_components': 2, 'reg_covar': 0.1}"
      ]
     },
     "execution_count": 117,
     "metadata": {},
     "output_type": "execute_result"
    }
   ],
   "source": [
    "print(\"Mejores hiperparámetros encontrados:\")\n",
    "grid_search.best_params_"
   ]
  },
  {
   "cell_type": "code",
   "execution_count": 118,
   "metadata": {},
   "outputs": [],
   "source": [
    "best_gmm = grid_search.best_estimator_"
   ]
  },
  {
   "cell_type": "code",
   "execution_count": 119,
   "metadata": {},
   "outputs": [],
   "source": [
    "synthetic_n = 50"
   ]
  },
  {
   "cell_type": "code",
   "execution_count": 120,
   "metadata": {},
   "outputs": [],
   "source": [
    "synthetic_samples, _ = best_gmm.sample(synthetic_n)\n",
    "synthetic_data = pd.DataFrame(synthetic_samples, columns=df.columns)"
   ]
  },
  {
   "cell_type": "code",
   "execution_count": 121,
   "metadata": {},
   "outputs": [
    {
     "name": "stdout",
     "output_type": "stream",
     "text": [
      "Datos sintéticos generados:\n"
     ]
    },
    {
     "data": {
      "application/vnd.microsoft.datawrangler.viewer.v0+json": {
       "columns": [
        {
         "name": "index",
         "rawType": "int64",
         "type": "integer"
        },
        {
         "name": "Altura",
         "rawType": "float64",
         "type": "float"
        },
        {
         "name": "Ancho",
         "rawType": "float64",
         "type": "float"
        },
        {
         "name": "Pie",
         "rawType": "float64",
         "type": "float"
        }
       ],
       "conversionMethod": "pd.DataFrame",
       "ref": "2e7950c8-c803-4b97-8b4f-7394288bea50",
       "rows": [
        [
         "0",
         "169.37775500006728",
         "52.675201781868566",
         "27.69878920185222"
        ],
        [
         "1",
         "182.7328985515632",
         "47.947897236860136",
         "26.94525597994246"
        ],
        [
         "2",
         "172.77884343191272",
         "46.14475360053163",
         "24.98941431188356"
        ],
        [
         "3",
         "182.35443318498176",
         "55.28921405344197",
         "26.009483899696935"
        ],
        [
         "4",
         "173.68077127241975",
         "47.099250787929456",
         "26.778309733786493"
        ],
        [
         "5",
         "162.91071195963295",
         "47.692577137161294",
         "27.997386604278372"
        ],
        [
         "6",
         "192.47978801215157",
         "53.070978174864145",
         "27.5518493216399"
        ],
        [
         "7",
         "173.13087344305697",
         "47.846100266206086",
         "28.325068169340756"
        ],
        [
         "8",
         "178.20557258231602",
         "47.660608661656504",
         "26.480153446491506"
        ],
        [
         "9",
         "175.35640165843478",
         "48.1960327234663",
         "27.43215235485078"
        ],
        [
         "10",
         "174.9304313881922",
         "53.045317834874595",
         "26.251935052648463"
        ],
        [
         "11",
         "183.24559131210393",
         "65.59656034005853",
         "28.555753628000147"
        ],
        [
         "12",
         "177.75002374011342",
         "55.63237384331581",
         "26.49183469165101"
        ],
        [
         "13",
         "166.4113883612201",
         "55.06464029831999",
         "26.933101555175575"
        ],
        [
         "14",
         "167.90029198109852",
         "46.37325149084008",
         "26.378022048224544"
        ],
        [
         "15",
         "177.22013705157264",
         "54.05812154597796",
         "28.269138297257612"
        ],
        [
         "16",
         "182.001818925147",
         "54.966379670978355",
         "27.24322067652228"
        ],
        [
         "17",
         "172.45102234161195",
         "43.07613913544679",
         "28.46768389274503"
        ],
        [
         "18",
         "175.2558682764702",
         "48.84365028452621",
         "28.54270763909982"
        ],
        [
         "19",
         "170.72228421182982",
         "55.38562385008358",
         "27.71520525415516"
        ],
        [
         "20",
         "169.84371511491946",
         "50.60147878894432",
         "28.34898348894738"
        ],
        [
         "21",
         "163.44193926521376",
         "44.119926345380875",
         "23.847377680603234"
        ],
        [
         "22",
         "175.55982546182295",
         "38.43368925784951",
         "23.1996278764706"
        ],
        [
         "23",
         "159.41412221448297",
         "37.260677521974365",
         "24.46654806530946"
        ],
        [
         "24",
         "163.94955295925465",
         "40.64477681171766",
         "23.08026323263398"
        ],
        [
         "25",
         "152.66931558108845",
         "38.7423417192758",
         "24.203885547220345"
        ],
        [
         "26",
         "158.70259067560977",
         "39.5953144150117",
         "23.990908353183492"
        ],
        [
         "27",
         "165.14715811799786",
         "41.205242517099286",
         "23.826570454284386"
        ],
        [
         "28",
         "166.15204590607595",
         "41.01326262604992",
         "23.278176737511256"
        ],
        [
         "29",
         "162.86597908493445",
         "39.996012761270755",
         "23.226715778519125"
        ],
        [
         "30",
         "165.690560364997",
         "39.912872617747084",
         "21.21586992220328"
        ],
        [
         "31",
         "161.3252836609482",
         "39.669109846467734",
         "23.295892406977437"
        ],
        [
         "32",
         "161.830458239813",
         "40.20918977301523",
         "23.73903331775751"
        ],
        [
         "33",
         "150.1896758901685",
         "38.38033925689047",
         "24.784319530246368"
        ],
        [
         "34",
         "159.61311604007395",
         "36.661051084888676",
         "22.6071974881605"
        ],
        [
         "35",
         "155.03235529693745",
         "40.8409552558546",
         "23.169763529167295"
        ],
        [
         "36",
         "156.60031004538658",
         "40.60932228226143",
         "23.970078378897842"
        ],
        [
         "37",
         "158.48218026658637",
         "39.24733572345376",
         "23.179531437978603"
        ],
        [
         "38",
         "161.29849151186755",
         "40.58268387622399",
         "24.22461998169874"
        ],
        [
         "39",
         "154.29303420500472",
         "38.775111086838265",
         "24.229757549659354"
        ],
        [
         "40",
         "155.92946675689566",
         "43.85767548499499",
         "24.785415407209793"
        ],
        [
         "41",
         "166.2482836293761",
         "38.52725060532172",
         "23.617676757600968"
        ],
        [
         "42",
         "157.37980973223367",
         "42.772944601555956",
         "25.050380605879152"
        ],
        [
         "43",
         "163.80873460092718",
         "40.62157833172519",
         "23.22872581293113"
        ],
        [
         "44",
         "162.7529278986722",
         "37.721721923482285",
         "24.021578682947403"
        ],
        [
         "45",
         "155.39868644256455",
         "42.06066737125323",
         "23.408594597677588"
        ],
        [
         "46",
         "157.87440144778554",
         "38.51578420450581",
         "23.236456995753418"
        ],
        [
         "47",
         "162.3157259945435",
         "43.05703696841996",
         "24.01288609907876"
        ],
        [
         "48",
         "166.1145376613455",
         "46.576597402038786",
         "23.264812057153808"
        ],
        [
         "49",
         "158.73219384664284",
         "37.21056395459954",
         "24.596864360515347"
        ]
       ],
       "shape": {
        "columns": 3,
        "rows": 50
       }
      },
      "text/html": [
       "<div>\n",
       "<style scoped>\n",
       "    .dataframe tbody tr th:only-of-type {\n",
       "        vertical-align: middle;\n",
       "    }\n",
       "\n",
       "    .dataframe tbody tr th {\n",
       "        vertical-align: top;\n",
       "    }\n",
       "\n",
       "    .dataframe thead th {\n",
       "        text-align: right;\n",
       "    }\n",
       "</style>\n",
       "<table border=\"1\" class=\"dataframe\">\n",
       "  <thead>\n",
       "    <tr style=\"text-align: right;\">\n",
       "      <th></th>\n",
       "      <th>Altura</th>\n",
       "      <th>Ancho</th>\n",
       "      <th>Pie</th>\n",
       "    </tr>\n",
       "  </thead>\n",
       "  <tbody>\n",
       "    <tr>\n",
       "      <th>0</th>\n",
       "      <td>169.377755</td>\n",
       "      <td>52.675202</td>\n",
       "      <td>27.698789</td>\n",
       "    </tr>\n",
       "    <tr>\n",
       "      <th>1</th>\n",
       "      <td>182.732899</td>\n",
       "      <td>47.947897</td>\n",
       "      <td>26.945256</td>\n",
       "    </tr>\n",
       "    <tr>\n",
       "      <th>2</th>\n",
       "      <td>172.778843</td>\n",
       "      <td>46.144754</td>\n",
       "      <td>24.989414</td>\n",
       "    </tr>\n",
       "    <tr>\n",
       "      <th>3</th>\n",
       "      <td>182.354433</td>\n",
       "      <td>55.289214</td>\n",
       "      <td>26.009484</td>\n",
       "    </tr>\n",
       "    <tr>\n",
       "      <th>4</th>\n",
       "      <td>173.680771</td>\n",
       "      <td>47.099251</td>\n",
       "      <td>26.778310</td>\n",
       "    </tr>\n",
       "    <tr>\n",
       "      <th>5</th>\n",
       "      <td>162.910712</td>\n",
       "      <td>47.692577</td>\n",
       "      <td>27.997387</td>\n",
       "    </tr>\n",
       "    <tr>\n",
       "      <th>6</th>\n",
       "      <td>192.479788</td>\n",
       "      <td>53.070978</td>\n",
       "      <td>27.551849</td>\n",
       "    </tr>\n",
       "    <tr>\n",
       "      <th>7</th>\n",
       "      <td>173.130873</td>\n",
       "      <td>47.846100</td>\n",
       "      <td>28.325068</td>\n",
       "    </tr>\n",
       "    <tr>\n",
       "      <th>8</th>\n",
       "      <td>178.205573</td>\n",
       "      <td>47.660609</td>\n",
       "      <td>26.480153</td>\n",
       "    </tr>\n",
       "    <tr>\n",
       "      <th>9</th>\n",
       "      <td>175.356402</td>\n",
       "      <td>48.196033</td>\n",
       "      <td>27.432152</td>\n",
       "    </tr>\n",
       "    <tr>\n",
       "      <th>10</th>\n",
       "      <td>174.930431</td>\n",
       "      <td>53.045318</td>\n",
       "      <td>26.251935</td>\n",
       "    </tr>\n",
       "    <tr>\n",
       "      <th>11</th>\n",
       "      <td>183.245591</td>\n",
       "      <td>65.596560</td>\n",
       "      <td>28.555754</td>\n",
       "    </tr>\n",
       "    <tr>\n",
       "      <th>12</th>\n",
       "      <td>177.750024</td>\n",
       "      <td>55.632374</td>\n",
       "      <td>26.491835</td>\n",
       "    </tr>\n",
       "    <tr>\n",
       "      <th>13</th>\n",
       "      <td>166.411388</td>\n",
       "      <td>55.064640</td>\n",
       "      <td>26.933102</td>\n",
       "    </tr>\n",
       "    <tr>\n",
       "      <th>14</th>\n",
       "      <td>167.900292</td>\n",
       "      <td>46.373251</td>\n",
       "      <td>26.378022</td>\n",
       "    </tr>\n",
       "    <tr>\n",
       "      <th>15</th>\n",
       "      <td>177.220137</td>\n",
       "      <td>54.058122</td>\n",
       "      <td>28.269138</td>\n",
       "    </tr>\n",
       "    <tr>\n",
       "      <th>16</th>\n",
       "      <td>182.001819</td>\n",
       "      <td>54.966380</td>\n",
       "      <td>27.243221</td>\n",
       "    </tr>\n",
       "    <tr>\n",
       "      <th>17</th>\n",
       "      <td>172.451022</td>\n",
       "      <td>43.076139</td>\n",
       "      <td>28.467684</td>\n",
       "    </tr>\n",
       "    <tr>\n",
       "      <th>18</th>\n",
       "      <td>175.255868</td>\n",
       "      <td>48.843650</td>\n",
       "      <td>28.542708</td>\n",
       "    </tr>\n",
       "    <tr>\n",
       "      <th>19</th>\n",
       "      <td>170.722284</td>\n",
       "      <td>55.385624</td>\n",
       "      <td>27.715205</td>\n",
       "    </tr>\n",
       "    <tr>\n",
       "      <th>20</th>\n",
       "      <td>169.843715</td>\n",
       "      <td>50.601479</td>\n",
       "      <td>28.348983</td>\n",
       "    </tr>\n",
       "    <tr>\n",
       "      <th>21</th>\n",
       "      <td>163.441939</td>\n",
       "      <td>44.119926</td>\n",
       "      <td>23.847378</td>\n",
       "    </tr>\n",
       "    <tr>\n",
       "      <th>22</th>\n",
       "      <td>175.559825</td>\n",
       "      <td>38.433689</td>\n",
       "      <td>23.199628</td>\n",
       "    </tr>\n",
       "    <tr>\n",
       "      <th>23</th>\n",
       "      <td>159.414122</td>\n",
       "      <td>37.260678</td>\n",
       "      <td>24.466548</td>\n",
       "    </tr>\n",
       "    <tr>\n",
       "      <th>24</th>\n",
       "      <td>163.949553</td>\n",
       "      <td>40.644777</td>\n",
       "      <td>23.080263</td>\n",
       "    </tr>\n",
       "    <tr>\n",
       "      <th>25</th>\n",
       "      <td>152.669316</td>\n",
       "      <td>38.742342</td>\n",
       "      <td>24.203886</td>\n",
       "    </tr>\n",
       "    <tr>\n",
       "      <th>26</th>\n",
       "      <td>158.702591</td>\n",
       "      <td>39.595314</td>\n",
       "      <td>23.990908</td>\n",
       "    </tr>\n",
       "    <tr>\n",
       "      <th>27</th>\n",
       "      <td>165.147158</td>\n",
       "      <td>41.205243</td>\n",
       "      <td>23.826570</td>\n",
       "    </tr>\n",
       "    <tr>\n",
       "      <th>28</th>\n",
       "      <td>166.152046</td>\n",
       "      <td>41.013263</td>\n",
       "      <td>23.278177</td>\n",
       "    </tr>\n",
       "    <tr>\n",
       "      <th>29</th>\n",
       "      <td>162.865979</td>\n",
       "      <td>39.996013</td>\n",
       "      <td>23.226716</td>\n",
       "    </tr>\n",
       "    <tr>\n",
       "      <th>30</th>\n",
       "      <td>165.690560</td>\n",
       "      <td>39.912873</td>\n",
       "      <td>21.215870</td>\n",
       "    </tr>\n",
       "    <tr>\n",
       "      <th>31</th>\n",
       "      <td>161.325284</td>\n",
       "      <td>39.669110</td>\n",
       "      <td>23.295892</td>\n",
       "    </tr>\n",
       "    <tr>\n",
       "      <th>32</th>\n",
       "      <td>161.830458</td>\n",
       "      <td>40.209190</td>\n",
       "      <td>23.739033</td>\n",
       "    </tr>\n",
       "    <tr>\n",
       "      <th>33</th>\n",
       "      <td>150.189676</td>\n",
       "      <td>38.380339</td>\n",
       "      <td>24.784320</td>\n",
       "    </tr>\n",
       "    <tr>\n",
       "      <th>34</th>\n",
       "      <td>159.613116</td>\n",
       "      <td>36.661051</td>\n",
       "      <td>22.607197</td>\n",
       "    </tr>\n",
       "    <tr>\n",
       "      <th>35</th>\n",
       "      <td>155.032355</td>\n",
       "      <td>40.840955</td>\n",
       "      <td>23.169764</td>\n",
       "    </tr>\n",
       "    <tr>\n",
       "      <th>36</th>\n",
       "      <td>156.600310</td>\n",
       "      <td>40.609322</td>\n",
       "      <td>23.970078</td>\n",
       "    </tr>\n",
       "    <tr>\n",
       "      <th>37</th>\n",
       "      <td>158.482180</td>\n",
       "      <td>39.247336</td>\n",
       "      <td>23.179531</td>\n",
       "    </tr>\n",
       "    <tr>\n",
       "      <th>38</th>\n",
       "      <td>161.298492</td>\n",
       "      <td>40.582684</td>\n",
       "      <td>24.224620</td>\n",
       "    </tr>\n",
       "    <tr>\n",
       "      <th>39</th>\n",
       "      <td>154.293034</td>\n",
       "      <td>38.775111</td>\n",
       "      <td>24.229758</td>\n",
       "    </tr>\n",
       "    <tr>\n",
       "      <th>40</th>\n",
       "      <td>155.929467</td>\n",
       "      <td>43.857675</td>\n",
       "      <td>24.785415</td>\n",
       "    </tr>\n",
       "    <tr>\n",
       "      <th>41</th>\n",
       "      <td>166.248284</td>\n",
       "      <td>38.527251</td>\n",
       "      <td>23.617677</td>\n",
       "    </tr>\n",
       "    <tr>\n",
       "      <th>42</th>\n",
       "      <td>157.379810</td>\n",
       "      <td>42.772945</td>\n",
       "      <td>25.050381</td>\n",
       "    </tr>\n",
       "    <tr>\n",
       "      <th>43</th>\n",
       "      <td>163.808735</td>\n",
       "      <td>40.621578</td>\n",
       "      <td>23.228726</td>\n",
       "    </tr>\n",
       "    <tr>\n",
       "      <th>44</th>\n",
       "      <td>162.752928</td>\n",
       "      <td>37.721722</td>\n",
       "      <td>24.021579</td>\n",
       "    </tr>\n",
       "    <tr>\n",
       "      <th>45</th>\n",
       "      <td>155.398686</td>\n",
       "      <td>42.060667</td>\n",
       "      <td>23.408595</td>\n",
       "    </tr>\n",
       "    <tr>\n",
       "      <th>46</th>\n",
       "      <td>157.874401</td>\n",
       "      <td>38.515784</td>\n",
       "      <td>23.236457</td>\n",
       "    </tr>\n",
       "    <tr>\n",
       "      <th>47</th>\n",
       "      <td>162.315726</td>\n",
       "      <td>43.057037</td>\n",
       "      <td>24.012886</td>\n",
       "    </tr>\n",
       "    <tr>\n",
       "      <th>48</th>\n",
       "      <td>166.114538</td>\n",
       "      <td>46.576597</td>\n",
       "      <td>23.264812</td>\n",
       "    </tr>\n",
       "    <tr>\n",
       "      <th>49</th>\n",
       "      <td>158.732194</td>\n",
       "      <td>37.210564</td>\n",
       "      <td>24.596864</td>\n",
       "    </tr>\n",
       "  </tbody>\n",
       "</table>\n",
       "</div>"
      ],
      "text/plain": [
       "        Altura      Ancho        Pie\n",
       "0   169.377755  52.675202  27.698789\n",
       "1   182.732899  47.947897  26.945256\n",
       "2   172.778843  46.144754  24.989414\n",
       "3   182.354433  55.289214  26.009484\n",
       "4   173.680771  47.099251  26.778310\n",
       "5   162.910712  47.692577  27.997387\n",
       "6   192.479788  53.070978  27.551849\n",
       "7   173.130873  47.846100  28.325068\n",
       "8   178.205573  47.660609  26.480153\n",
       "9   175.356402  48.196033  27.432152\n",
       "10  174.930431  53.045318  26.251935\n",
       "11  183.245591  65.596560  28.555754\n",
       "12  177.750024  55.632374  26.491835\n",
       "13  166.411388  55.064640  26.933102\n",
       "14  167.900292  46.373251  26.378022\n",
       "15  177.220137  54.058122  28.269138\n",
       "16  182.001819  54.966380  27.243221\n",
       "17  172.451022  43.076139  28.467684\n",
       "18  175.255868  48.843650  28.542708\n",
       "19  170.722284  55.385624  27.715205\n",
       "20  169.843715  50.601479  28.348983\n",
       "21  163.441939  44.119926  23.847378\n",
       "22  175.559825  38.433689  23.199628\n",
       "23  159.414122  37.260678  24.466548\n",
       "24  163.949553  40.644777  23.080263\n",
       "25  152.669316  38.742342  24.203886\n",
       "26  158.702591  39.595314  23.990908\n",
       "27  165.147158  41.205243  23.826570\n",
       "28  166.152046  41.013263  23.278177\n",
       "29  162.865979  39.996013  23.226716\n",
       "30  165.690560  39.912873  21.215870\n",
       "31  161.325284  39.669110  23.295892\n",
       "32  161.830458  40.209190  23.739033\n",
       "33  150.189676  38.380339  24.784320\n",
       "34  159.613116  36.661051  22.607197\n",
       "35  155.032355  40.840955  23.169764\n",
       "36  156.600310  40.609322  23.970078\n",
       "37  158.482180  39.247336  23.179531\n",
       "38  161.298492  40.582684  24.224620\n",
       "39  154.293034  38.775111  24.229758\n",
       "40  155.929467  43.857675  24.785415\n",
       "41  166.248284  38.527251  23.617677\n",
       "42  157.379810  42.772945  25.050381\n",
       "43  163.808735  40.621578  23.228726\n",
       "44  162.752928  37.721722  24.021579\n",
       "45  155.398686  42.060667  23.408595\n",
       "46  157.874401  38.515784  23.236457\n",
       "47  162.315726  43.057037  24.012886\n",
       "48  166.114538  46.576597  23.264812\n",
       "49  158.732194  37.210564  24.596864"
      ]
     },
     "execution_count": 121,
     "metadata": {},
     "output_type": "execute_result"
    }
   ],
   "source": [
    "print(\"Datos sintéticos generados:\")\n",
    "synthetic_data"
   ]
  },
  {
   "cell_type": "code",
   "execution_count": 122,
   "metadata": {},
   "outputs": [
    {
     "data": {
      "text/plain": [
       "(18, 3)"
      ]
     },
     "execution_count": 122,
     "metadata": {},
     "output_type": "execute_result"
    }
   ],
   "source": [
    "df.shape"
   ]
  },
  {
   "cell_type": "code",
   "execution_count": 123,
   "metadata": {},
   "outputs": [],
   "source": [
    "df_ori = df.copy()"
   ]
  },
  {
   "cell_type": "code",
   "execution_count": 124,
   "metadata": {},
   "outputs": [
    {
     "data": {
      "text/plain": [
       "(68, 3)"
      ]
     },
     "execution_count": 124,
     "metadata": {},
     "output_type": "execute_result"
    }
   ],
   "source": [
    "df = pd.concat([synthetic_data, df])\n",
    "df.shape"
   ]
  },
  {
   "cell_type": "code",
   "execution_count": 125,
   "metadata": {},
   "outputs": [
    {
     "data": {
      "application/vnd.plotly.v1+json": {
       "config": {
        "plotlyServerURL": "https://plot.ly"
       },
       "data": [
        {
         "hovertemplate": "Altura (cm)=%{x}<br>Ancho (cm)=%{y}<extra></extra>",
         "legendgroup": "",
         "marker": {
          "color": "blue",
          "symbol": "circle"
         },
         "mode": "markers",
         "name": "",
         "orientation": "v",
         "showlegend": false,
         "type": "scatter",
         "x": {
          "bdata": "EGankRYsZUD+x6nnc9dmQKCYD0nsmGVApENDhFfLZkAs49XgyLVlQGNWaI0kXWRAhqZjbFoPaEAHu4AdMKRlQA3A8wyURmZA9mZzpGfrZUCj7gsYxt1lQGG1T+Lb52ZAWGDJMQA4ZkCnrOwXKs1kQGr1IDHP/GRAjqTbXAsnZkCmAJDmDsBmQKPfZ8ZujmVAwPCqEjDoZUA9h8fzHFdlQAo317b/OmVAKl3QXSRuZEDtPxYX6vFlQAz4On1A7WNAMzrjvGJ+ZEBNb4IIaxVjQP7GcJ971mNAiQTxhLWkZEDIQmCP3cRkQAgaxRm2W2RAbvIMEhm2ZEBDtke5aCpkQBmWKB2TOmRAoSMs0xHGYkCpmIelnvNjQFzG+Q0JYWNAqYxpvTWTY0B7eE8Fbs9jQFozEj6NKWRAWeNEiWBJY0DBchExvn1jQK6JgvDxx2RArVS9ZiesY0AHxGIn4XlkQGGhP/wXWGRAjAUSCsJsY0AMur4Y+7tjQPehZm0aSmRAdbTiSqrDZEA7NcohbtdjQAAAAAAAIGdAAAAAAACgZUAAAAAAAGBkQAAAAAAAQGRAAAAAAACAZUAAAAAAAOBjQAAAAAAAYGdAAAAAAACgZEAAAAAAAOBlQAAAAAAAQGRAAAAAAABgY0AAAAAAAABlQAAAAAAAYGZAAAAAAACAZUAAAAAAAOBjQAAAAAAAwGRAAAAAAACAY0AAAAAAAMBiQA==",
          "dtype": "f8"
         },
         "xaxis": "x",
         "y": {
          "bdata": "yKkRA21WSkA7JFiyVPlHQHwhNkmHEkdA1olS9wSlS0AvIfQ/tIxHQFQIHV6m2EdAueIV0BWJSkD7PnYDTexHQG+iGtOO1EdA5h2smRcZSEAgW435zIVKQBepawsuZlBAkfFHoPHQS0DfpB8iRohLQLMrcbTGL0dAi5XdhnAHS0CGLz1UsntLQEdYXO2+iUVAjaaGu/xrSEBTVVAfXLFLQHTgx0H9TElAeqsZv1kPRkCKiy0hgzdDQFPXi+FdoUJA9MXrC4hSREB8X68NBV9DQASoQ0MzzENAV1gFY0WaREBekviWsoFEQD0Hnlh9/0NAnlGLAtn0Q0BYATZkpdVDQAnhALvGGkRAYd3u9K4wQ0CFSmtSnVRCQL2l/Guka0RAuoTFRf5NREDmrm2yqJ9DQO8koGKVSkRAYl4Q1zZjQ0A1UW9PyO1FQJVTpfJ8Q0NAu6ZE2e9iRUC6VPfgj09EQNEUTWJh3EJAxLvL8sMHRUCrEoE3BUJDQGsDxfxMh0VAiluU8c1JR0BZXHnC85pCQAAAAAAAgEtAAAAAAAAARkAAAAAAAABGQAAAAAAAAEZAAAAAAAAAR0AAAAAAAABEQAAAAAAAAEhAAAAAAAAAREAAAAAAAIBIQAAAAAAAAEZAAAAAAAAAREAAAAAAAIBOQAAAAAAAgEtAAAAAAAAASUAAAAAAAABDQAAAAAAAgENAAAAAAAAAQ0AAAAAAAIBDQA==",
          "dtype": "f8"
         },
         "yaxis": "y"
        }
       ],
       "layout": {
        "legend": {
         "tracegroupgap": 0
        },
        "template": {
         "data": {
          "bar": [
           {
            "error_x": {
             "color": "#2a3f5f"
            },
            "error_y": {
             "color": "#2a3f5f"
            },
            "marker": {
             "line": {
              "color": "#E5ECF6",
              "width": 0.5
             },
             "pattern": {
              "fillmode": "overlay",
              "size": 10,
              "solidity": 0.2
             }
            },
            "type": "bar"
           }
          ],
          "barpolar": [
           {
            "marker": {
             "line": {
              "color": "#E5ECF6",
              "width": 0.5
             },
             "pattern": {
              "fillmode": "overlay",
              "size": 10,
              "solidity": 0.2
             }
            },
            "type": "barpolar"
           }
          ],
          "carpet": [
           {
            "aaxis": {
             "endlinecolor": "#2a3f5f",
             "gridcolor": "white",
             "linecolor": "white",
             "minorgridcolor": "white",
             "startlinecolor": "#2a3f5f"
            },
            "baxis": {
             "endlinecolor": "#2a3f5f",
             "gridcolor": "white",
             "linecolor": "white",
             "minorgridcolor": "white",
             "startlinecolor": "#2a3f5f"
            },
            "type": "carpet"
           }
          ],
          "choropleth": [
           {
            "colorbar": {
             "outlinewidth": 0,
             "ticks": ""
            },
            "type": "choropleth"
           }
          ],
          "contour": [
           {
            "colorbar": {
             "outlinewidth": 0,
             "ticks": ""
            },
            "colorscale": [
             [
              0,
              "#0d0887"
             ],
             [
              0.1111111111111111,
              "#46039f"
             ],
             [
              0.2222222222222222,
              "#7201a8"
             ],
             [
              0.3333333333333333,
              "#9c179e"
             ],
             [
              0.4444444444444444,
              "#bd3786"
             ],
             [
              0.5555555555555556,
              "#d8576b"
             ],
             [
              0.6666666666666666,
              "#ed7953"
             ],
             [
              0.7777777777777778,
              "#fb9f3a"
             ],
             [
              0.8888888888888888,
              "#fdca26"
             ],
             [
              1,
              "#f0f921"
             ]
            ],
            "type": "contour"
           }
          ],
          "contourcarpet": [
           {
            "colorbar": {
             "outlinewidth": 0,
             "ticks": ""
            },
            "type": "contourcarpet"
           }
          ],
          "heatmap": [
           {
            "colorbar": {
             "outlinewidth": 0,
             "ticks": ""
            },
            "colorscale": [
             [
              0,
              "#0d0887"
             ],
             [
              0.1111111111111111,
              "#46039f"
             ],
             [
              0.2222222222222222,
              "#7201a8"
             ],
             [
              0.3333333333333333,
              "#9c179e"
             ],
             [
              0.4444444444444444,
              "#bd3786"
             ],
             [
              0.5555555555555556,
              "#d8576b"
             ],
             [
              0.6666666666666666,
              "#ed7953"
             ],
             [
              0.7777777777777778,
              "#fb9f3a"
             ],
             [
              0.8888888888888888,
              "#fdca26"
             ],
             [
              1,
              "#f0f921"
             ]
            ],
            "type": "heatmap"
           }
          ],
          "histogram": [
           {
            "marker": {
             "pattern": {
              "fillmode": "overlay",
              "size": 10,
              "solidity": 0.2
             }
            },
            "type": "histogram"
           }
          ],
          "histogram2d": [
           {
            "colorbar": {
             "outlinewidth": 0,
             "ticks": ""
            },
            "colorscale": [
             [
              0,
              "#0d0887"
             ],
             [
              0.1111111111111111,
              "#46039f"
             ],
             [
              0.2222222222222222,
              "#7201a8"
             ],
             [
              0.3333333333333333,
              "#9c179e"
             ],
             [
              0.4444444444444444,
              "#bd3786"
             ],
             [
              0.5555555555555556,
              "#d8576b"
             ],
             [
              0.6666666666666666,
              "#ed7953"
             ],
             [
              0.7777777777777778,
              "#fb9f3a"
             ],
             [
              0.8888888888888888,
              "#fdca26"
             ],
             [
              1,
              "#f0f921"
             ]
            ],
            "type": "histogram2d"
           }
          ],
          "histogram2dcontour": [
           {
            "colorbar": {
             "outlinewidth": 0,
             "ticks": ""
            },
            "colorscale": [
             [
              0,
              "#0d0887"
             ],
             [
              0.1111111111111111,
              "#46039f"
             ],
             [
              0.2222222222222222,
              "#7201a8"
             ],
             [
              0.3333333333333333,
              "#9c179e"
             ],
             [
              0.4444444444444444,
              "#bd3786"
             ],
             [
              0.5555555555555556,
              "#d8576b"
             ],
             [
              0.6666666666666666,
              "#ed7953"
             ],
             [
              0.7777777777777778,
              "#fb9f3a"
             ],
             [
              0.8888888888888888,
              "#fdca26"
             ],
             [
              1,
              "#f0f921"
             ]
            ],
            "type": "histogram2dcontour"
           }
          ],
          "mesh3d": [
           {
            "colorbar": {
             "outlinewidth": 0,
             "ticks": ""
            },
            "type": "mesh3d"
           }
          ],
          "parcoords": [
           {
            "line": {
             "colorbar": {
              "outlinewidth": 0,
              "ticks": ""
             }
            },
            "type": "parcoords"
           }
          ],
          "pie": [
           {
            "automargin": true,
            "type": "pie"
           }
          ],
          "scatter": [
           {
            "fillpattern": {
             "fillmode": "overlay",
             "size": 10,
             "solidity": 0.2
            },
            "type": "scatter"
           }
          ],
          "scatter3d": [
           {
            "line": {
             "colorbar": {
              "outlinewidth": 0,
              "ticks": ""
             }
            },
            "marker": {
             "colorbar": {
              "outlinewidth": 0,
              "ticks": ""
             }
            },
            "type": "scatter3d"
           }
          ],
          "scattercarpet": [
           {
            "marker": {
             "colorbar": {
              "outlinewidth": 0,
              "ticks": ""
             }
            },
            "type": "scattercarpet"
           }
          ],
          "scattergeo": [
           {
            "marker": {
             "colorbar": {
              "outlinewidth": 0,
              "ticks": ""
             }
            },
            "type": "scattergeo"
           }
          ],
          "scattergl": [
           {
            "marker": {
             "colorbar": {
              "outlinewidth": 0,
              "ticks": ""
             }
            },
            "type": "scattergl"
           }
          ],
          "scattermap": [
           {
            "marker": {
             "colorbar": {
              "outlinewidth": 0,
              "ticks": ""
             }
            },
            "type": "scattermap"
           }
          ],
          "scattermapbox": [
           {
            "marker": {
             "colorbar": {
              "outlinewidth": 0,
              "ticks": ""
             }
            },
            "type": "scattermapbox"
           }
          ],
          "scatterpolar": [
           {
            "marker": {
             "colorbar": {
              "outlinewidth": 0,
              "ticks": ""
             }
            },
            "type": "scatterpolar"
           }
          ],
          "scatterpolargl": [
           {
            "marker": {
             "colorbar": {
              "outlinewidth": 0,
              "ticks": ""
             }
            },
            "type": "scatterpolargl"
           }
          ],
          "scatterternary": [
           {
            "marker": {
             "colorbar": {
              "outlinewidth": 0,
              "ticks": ""
             }
            },
            "type": "scatterternary"
           }
          ],
          "surface": [
           {
            "colorbar": {
             "outlinewidth": 0,
             "ticks": ""
            },
            "colorscale": [
             [
              0,
              "#0d0887"
             ],
             [
              0.1111111111111111,
              "#46039f"
             ],
             [
              0.2222222222222222,
              "#7201a8"
             ],
             [
              0.3333333333333333,
              "#9c179e"
             ],
             [
              0.4444444444444444,
              "#bd3786"
             ],
             [
              0.5555555555555556,
              "#d8576b"
             ],
             [
              0.6666666666666666,
              "#ed7953"
             ],
             [
              0.7777777777777778,
              "#fb9f3a"
             ],
             [
              0.8888888888888888,
              "#fdca26"
             ],
             [
              1,
              "#f0f921"
             ]
            ],
            "type": "surface"
           }
          ],
          "table": [
           {
            "cells": {
             "fill": {
              "color": "#EBF0F8"
             },
             "line": {
              "color": "white"
             }
            },
            "header": {
             "fill": {
              "color": "#C8D4E3"
             },
             "line": {
              "color": "white"
             }
            },
            "type": "table"
           }
          ]
         },
         "layout": {
          "annotationdefaults": {
           "arrowcolor": "#2a3f5f",
           "arrowhead": 0,
           "arrowwidth": 1
          },
          "autotypenumbers": "strict",
          "coloraxis": {
           "colorbar": {
            "outlinewidth": 0,
            "ticks": ""
           }
          },
          "colorscale": {
           "diverging": [
            [
             0,
             "#8e0152"
            ],
            [
             0.1,
             "#c51b7d"
            ],
            [
             0.2,
             "#de77ae"
            ],
            [
             0.3,
             "#f1b6da"
            ],
            [
             0.4,
             "#fde0ef"
            ],
            [
             0.5,
             "#f7f7f7"
            ],
            [
             0.6,
             "#e6f5d0"
            ],
            [
             0.7,
             "#b8e186"
            ],
            [
             0.8,
             "#7fbc41"
            ],
            [
             0.9,
             "#4d9221"
            ],
            [
             1,
             "#276419"
            ]
           ],
           "sequential": [
            [
             0,
             "#0d0887"
            ],
            [
             0.1111111111111111,
             "#46039f"
            ],
            [
             0.2222222222222222,
             "#7201a8"
            ],
            [
             0.3333333333333333,
             "#9c179e"
            ],
            [
             0.4444444444444444,
             "#bd3786"
            ],
            [
             0.5555555555555556,
             "#d8576b"
            ],
            [
             0.6666666666666666,
             "#ed7953"
            ],
            [
             0.7777777777777778,
             "#fb9f3a"
            ],
            [
             0.8888888888888888,
             "#fdca26"
            ],
            [
             1,
             "#f0f921"
            ]
           ],
           "sequentialminus": [
            [
             0,
             "#0d0887"
            ],
            [
             0.1111111111111111,
             "#46039f"
            ],
            [
             0.2222222222222222,
             "#7201a8"
            ],
            [
             0.3333333333333333,
             "#9c179e"
            ],
            [
             0.4444444444444444,
             "#bd3786"
            ],
            [
             0.5555555555555556,
             "#d8576b"
            ],
            [
             0.6666666666666666,
             "#ed7953"
            ],
            [
             0.7777777777777778,
             "#fb9f3a"
            ],
            [
             0.8888888888888888,
             "#fdca26"
            ],
            [
             1,
             "#f0f921"
            ]
           ]
          },
          "colorway": [
           "#636efa",
           "#EF553B",
           "#00cc96",
           "#ab63fa",
           "#FFA15A",
           "#19d3f3",
           "#FF6692",
           "#B6E880",
           "#FF97FF",
           "#FECB52"
          ],
          "font": {
           "color": "#2a3f5f"
          },
          "geo": {
           "bgcolor": "white",
           "lakecolor": "white",
           "landcolor": "#E5ECF6",
           "showlakes": true,
           "showland": true,
           "subunitcolor": "white"
          },
          "hoverlabel": {
           "align": "left"
          },
          "hovermode": "closest",
          "mapbox": {
           "style": "light"
          },
          "paper_bgcolor": "white",
          "plot_bgcolor": "#E5ECF6",
          "polar": {
           "angularaxis": {
            "gridcolor": "white",
            "linecolor": "white",
            "ticks": ""
           },
           "bgcolor": "#E5ECF6",
           "radialaxis": {
            "gridcolor": "white",
            "linecolor": "white",
            "ticks": ""
           }
          },
          "scene": {
           "xaxis": {
            "backgroundcolor": "#E5ECF6",
            "gridcolor": "white",
            "gridwidth": 2,
            "linecolor": "white",
            "showbackground": true,
            "ticks": "",
            "zerolinecolor": "white"
           },
           "yaxis": {
            "backgroundcolor": "#E5ECF6",
            "gridcolor": "white",
            "gridwidth": 2,
            "linecolor": "white",
            "showbackground": true,
            "ticks": "",
            "zerolinecolor": "white"
           },
           "zaxis": {
            "backgroundcolor": "#E5ECF6",
            "gridcolor": "white",
            "gridwidth": 2,
            "linecolor": "white",
            "showbackground": true,
            "ticks": "",
            "zerolinecolor": "white"
           }
          },
          "shapedefaults": {
           "line": {
            "color": "#2a3f5f"
           }
          },
          "ternary": {
           "aaxis": {
            "gridcolor": "white",
            "linecolor": "white",
            "ticks": ""
           },
           "baxis": {
            "gridcolor": "white",
            "linecolor": "white",
            "ticks": ""
           },
           "bgcolor": "#E5ECF6",
           "caxis": {
            "gridcolor": "white",
            "linecolor": "white",
            "ticks": ""
           }
          },
          "title": {
           "x": 0.05
          },
          "xaxis": {
           "automargin": true,
           "gridcolor": "white",
           "linecolor": "white",
           "ticks": "",
           "title": {
            "standoff": 15
           },
           "zerolinecolor": "white",
           "zerolinewidth": 2
          },
          "yaxis": {
           "automargin": true,
           "gridcolor": "white",
           "linecolor": "white",
           "ticks": "",
           "title": {
            "standoff": 15
           },
           "zerolinecolor": "white",
           "zerolinewidth": 2
          }
         }
        },
        "title": {
         "text": "Altura vs Ancho"
        },
        "xaxis": {
         "anchor": "y",
         "domain": [
          0,
          1
         ],
         "title": {
          "text": "Altura (cm)"
         }
        },
        "yaxis": {
         "anchor": "x",
         "domain": [
          0,
          1
         ],
         "title": {
          "text": "Ancho (cm)"
         }
        }
       }
      }
     },
     "metadata": {},
     "output_type": "display_data"
    },
    {
     "data": {
      "application/vnd.plotly.v1+json": {
       "config": {
        "plotlyServerURL": "https://plot.ly"
       },
       "data": [
        {
         "hovertemplate": "Altura (cm)=%{x}<br>Pie (cm)=%{y}<extra></extra>",
         "legendgroup": "",
         "marker": {
          "color": "red",
          "symbol": "circle"
         },
         "mode": "markers",
         "name": "",
         "orientation": "v",
         "showlegend": false,
         "type": "scatter",
         "x": {
          "bdata": "EGankRYsZUD+x6nnc9dmQKCYD0nsmGVApENDhFfLZkAs49XgyLVlQGNWaI0kXWRAhqZjbFoPaEAHu4AdMKRlQA3A8wyURmZA9mZzpGfrZUCj7gsYxt1lQGG1T+Lb52ZAWGDJMQA4ZkCnrOwXKs1kQGr1IDHP/GRAjqTbXAsnZkCmAJDmDsBmQKPfZ8ZujmVAwPCqEjDoZUA9h8fzHFdlQAo317b/OmVAKl3QXSRuZEDtPxYX6vFlQAz4On1A7WNAMzrjvGJ+ZEBNb4IIaxVjQP7GcJ971mNAiQTxhLWkZEDIQmCP3cRkQAgaxRm2W2RAbvIMEhm2ZEBDtke5aCpkQBmWKB2TOmRAoSMs0xHGYkCpmIelnvNjQFzG+Q0JYWNAqYxpvTWTY0B7eE8Fbs9jQFozEj6NKWRAWeNEiWBJY0DBchExvn1jQK6JgvDxx2RArVS9ZiesY0AHxGIn4XlkQGGhP/wXWGRAjAUSCsJsY0AMur4Y+7tjQPehZm0aSmRAdbTiSqrDZEA7NcohbtdjQAAAAAAAIGdAAAAAAACgZUAAAAAAAGBkQAAAAAAAQGRAAAAAAACAZUAAAAAAAOBjQAAAAAAAYGdAAAAAAACgZEAAAAAAAOBlQAAAAAAAQGRAAAAAAABgY0AAAAAAAABlQAAAAAAAYGZAAAAAAACAZUAAAAAAAOBjQAAAAAAAwGRAAAAAAACAY0AAAAAAAMBiQA==",
          "dtype": "f8"
         },
         "xaxis": "x",
         "y": {
          "bdata": "1MBg2eOyO0CIM8BL/PE6QPe7n0FK/ThAcQlviW0COkB+xYROP8c6QBfYfrpU/ztAXsNE/0WNO0AFSuSqN1M8QCK+FVbrejpANvlmiaFuO0BY18vQfkA6QNzkqN5FjjxA6a3b4Oh9OkBqU1e+3+46QJZKjg3GYDpAlNJYP+ZEPEDLX9O1Qz47QLQ0sCG6dzxAHTlJ4+6KPEAWhgixF7c7QHvfX/tWWTxAHY1hvu3YN0CozwDQGjM3QCaEqrFvdzhA8zuXIYwUN0A+cN3XMTQ4QJ5Beius/TdAxv0MH5rTN0BrHjaXNkc3QBE6lgsKOjdAmw1QQEM3NUBSGtOav0s3QEJsmkkxvTdAsQUsKsnIOEDa3GlLcZs2QLvTZZ91KzdARex/Dlf4N0DSuLbF9S03QJls87GAOThAyMsJZNE6OECXve/7EMk4QD5lYRAgnjdAh5pOvuUMOUBMSl7GjTo3QMOMOS6GBThA91jSp5loN0DdqxdyiDw3QMUd3oBMAzhA5Q8VucpDN0C2j0wazJg4QAAAAAAAADxAAAAAAACAOkAAAAAAAAA4QAAAAAAAgDhAAAAAAAAAO0AAAAAAAAA3QAAAAAAAAD1AAAAAAAAAOEAAAAAAAIA7QAAAAAAAADdAAAAAAAAANkAAAAAAAAA6QAAAAAAAADxAAAAAAACAO0AAAAAAAAA4QAAAAAAAgDhAAAAAAAAAOEAAAAAAAIA2QA==",
          "dtype": "f8"
         },
         "yaxis": "y"
        }
       ],
       "layout": {
        "legend": {
         "tracegroupgap": 0
        },
        "template": {
         "data": {
          "bar": [
           {
            "error_x": {
             "color": "#2a3f5f"
            },
            "error_y": {
             "color": "#2a3f5f"
            },
            "marker": {
             "line": {
              "color": "#E5ECF6",
              "width": 0.5
             },
             "pattern": {
              "fillmode": "overlay",
              "size": 10,
              "solidity": 0.2
             }
            },
            "type": "bar"
           }
          ],
          "barpolar": [
           {
            "marker": {
             "line": {
              "color": "#E5ECF6",
              "width": 0.5
             },
             "pattern": {
              "fillmode": "overlay",
              "size": 10,
              "solidity": 0.2
             }
            },
            "type": "barpolar"
           }
          ],
          "carpet": [
           {
            "aaxis": {
             "endlinecolor": "#2a3f5f",
             "gridcolor": "white",
             "linecolor": "white",
             "minorgridcolor": "white",
             "startlinecolor": "#2a3f5f"
            },
            "baxis": {
             "endlinecolor": "#2a3f5f",
             "gridcolor": "white",
             "linecolor": "white",
             "minorgridcolor": "white",
             "startlinecolor": "#2a3f5f"
            },
            "type": "carpet"
           }
          ],
          "choropleth": [
           {
            "colorbar": {
             "outlinewidth": 0,
             "ticks": ""
            },
            "type": "choropleth"
           }
          ],
          "contour": [
           {
            "colorbar": {
             "outlinewidth": 0,
             "ticks": ""
            },
            "colorscale": [
             [
              0,
              "#0d0887"
             ],
             [
              0.1111111111111111,
              "#46039f"
             ],
             [
              0.2222222222222222,
              "#7201a8"
             ],
             [
              0.3333333333333333,
              "#9c179e"
             ],
             [
              0.4444444444444444,
              "#bd3786"
             ],
             [
              0.5555555555555556,
              "#d8576b"
             ],
             [
              0.6666666666666666,
              "#ed7953"
             ],
             [
              0.7777777777777778,
              "#fb9f3a"
             ],
             [
              0.8888888888888888,
              "#fdca26"
             ],
             [
              1,
              "#f0f921"
             ]
            ],
            "type": "contour"
           }
          ],
          "contourcarpet": [
           {
            "colorbar": {
             "outlinewidth": 0,
             "ticks": ""
            },
            "type": "contourcarpet"
           }
          ],
          "heatmap": [
           {
            "colorbar": {
             "outlinewidth": 0,
             "ticks": ""
            },
            "colorscale": [
             [
              0,
              "#0d0887"
             ],
             [
              0.1111111111111111,
              "#46039f"
             ],
             [
              0.2222222222222222,
              "#7201a8"
             ],
             [
              0.3333333333333333,
              "#9c179e"
             ],
             [
              0.4444444444444444,
              "#bd3786"
             ],
             [
              0.5555555555555556,
              "#d8576b"
             ],
             [
              0.6666666666666666,
              "#ed7953"
             ],
             [
              0.7777777777777778,
              "#fb9f3a"
             ],
             [
              0.8888888888888888,
              "#fdca26"
             ],
             [
              1,
              "#f0f921"
             ]
            ],
            "type": "heatmap"
           }
          ],
          "histogram": [
           {
            "marker": {
             "pattern": {
              "fillmode": "overlay",
              "size": 10,
              "solidity": 0.2
             }
            },
            "type": "histogram"
           }
          ],
          "histogram2d": [
           {
            "colorbar": {
             "outlinewidth": 0,
             "ticks": ""
            },
            "colorscale": [
             [
              0,
              "#0d0887"
             ],
             [
              0.1111111111111111,
              "#46039f"
             ],
             [
              0.2222222222222222,
              "#7201a8"
             ],
             [
              0.3333333333333333,
              "#9c179e"
             ],
             [
              0.4444444444444444,
              "#bd3786"
             ],
             [
              0.5555555555555556,
              "#d8576b"
             ],
             [
              0.6666666666666666,
              "#ed7953"
             ],
             [
              0.7777777777777778,
              "#fb9f3a"
             ],
             [
              0.8888888888888888,
              "#fdca26"
             ],
             [
              1,
              "#f0f921"
             ]
            ],
            "type": "histogram2d"
           }
          ],
          "histogram2dcontour": [
           {
            "colorbar": {
             "outlinewidth": 0,
             "ticks": ""
            },
            "colorscale": [
             [
              0,
              "#0d0887"
             ],
             [
              0.1111111111111111,
              "#46039f"
             ],
             [
              0.2222222222222222,
              "#7201a8"
             ],
             [
              0.3333333333333333,
              "#9c179e"
             ],
             [
              0.4444444444444444,
              "#bd3786"
             ],
             [
              0.5555555555555556,
              "#d8576b"
             ],
             [
              0.6666666666666666,
              "#ed7953"
             ],
             [
              0.7777777777777778,
              "#fb9f3a"
             ],
             [
              0.8888888888888888,
              "#fdca26"
             ],
             [
              1,
              "#f0f921"
             ]
            ],
            "type": "histogram2dcontour"
           }
          ],
          "mesh3d": [
           {
            "colorbar": {
             "outlinewidth": 0,
             "ticks": ""
            },
            "type": "mesh3d"
           }
          ],
          "parcoords": [
           {
            "line": {
             "colorbar": {
              "outlinewidth": 0,
              "ticks": ""
             }
            },
            "type": "parcoords"
           }
          ],
          "pie": [
           {
            "automargin": true,
            "type": "pie"
           }
          ],
          "scatter": [
           {
            "fillpattern": {
             "fillmode": "overlay",
             "size": 10,
             "solidity": 0.2
            },
            "type": "scatter"
           }
          ],
          "scatter3d": [
           {
            "line": {
             "colorbar": {
              "outlinewidth": 0,
              "ticks": ""
             }
            },
            "marker": {
             "colorbar": {
              "outlinewidth": 0,
              "ticks": ""
             }
            },
            "type": "scatter3d"
           }
          ],
          "scattercarpet": [
           {
            "marker": {
             "colorbar": {
              "outlinewidth": 0,
              "ticks": ""
             }
            },
            "type": "scattercarpet"
           }
          ],
          "scattergeo": [
           {
            "marker": {
             "colorbar": {
              "outlinewidth": 0,
              "ticks": ""
             }
            },
            "type": "scattergeo"
           }
          ],
          "scattergl": [
           {
            "marker": {
             "colorbar": {
              "outlinewidth": 0,
              "ticks": ""
             }
            },
            "type": "scattergl"
           }
          ],
          "scattermap": [
           {
            "marker": {
             "colorbar": {
              "outlinewidth": 0,
              "ticks": ""
             }
            },
            "type": "scattermap"
           }
          ],
          "scattermapbox": [
           {
            "marker": {
             "colorbar": {
              "outlinewidth": 0,
              "ticks": ""
             }
            },
            "type": "scattermapbox"
           }
          ],
          "scatterpolar": [
           {
            "marker": {
             "colorbar": {
              "outlinewidth": 0,
              "ticks": ""
             }
            },
            "type": "scatterpolar"
           }
          ],
          "scatterpolargl": [
           {
            "marker": {
             "colorbar": {
              "outlinewidth": 0,
              "ticks": ""
             }
            },
            "type": "scatterpolargl"
           }
          ],
          "scatterternary": [
           {
            "marker": {
             "colorbar": {
              "outlinewidth": 0,
              "ticks": ""
             }
            },
            "type": "scatterternary"
           }
          ],
          "surface": [
           {
            "colorbar": {
             "outlinewidth": 0,
             "ticks": ""
            },
            "colorscale": [
             [
              0,
              "#0d0887"
             ],
             [
              0.1111111111111111,
              "#46039f"
             ],
             [
              0.2222222222222222,
              "#7201a8"
             ],
             [
              0.3333333333333333,
              "#9c179e"
             ],
             [
              0.4444444444444444,
              "#bd3786"
             ],
             [
              0.5555555555555556,
              "#d8576b"
             ],
             [
              0.6666666666666666,
              "#ed7953"
             ],
             [
              0.7777777777777778,
              "#fb9f3a"
             ],
             [
              0.8888888888888888,
              "#fdca26"
             ],
             [
              1,
              "#f0f921"
             ]
            ],
            "type": "surface"
           }
          ],
          "table": [
           {
            "cells": {
             "fill": {
              "color": "#EBF0F8"
             },
             "line": {
              "color": "white"
             }
            },
            "header": {
             "fill": {
              "color": "#C8D4E3"
             },
             "line": {
              "color": "white"
             }
            },
            "type": "table"
           }
          ]
         },
         "layout": {
          "annotationdefaults": {
           "arrowcolor": "#2a3f5f",
           "arrowhead": 0,
           "arrowwidth": 1
          },
          "autotypenumbers": "strict",
          "coloraxis": {
           "colorbar": {
            "outlinewidth": 0,
            "ticks": ""
           }
          },
          "colorscale": {
           "diverging": [
            [
             0,
             "#8e0152"
            ],
            [
             0.1,
             "#c51b7d"
            ],
            [
             0.2,
             "#de77ae"
            ],
            [
             0.3,
             "#f1b6da"
            ],
            [
             0.4,
             "#fde0ef"
            ],
            [
             0.5,
             "#f7f7f7"
            ],
            [
             0.6,
             "#e6f5d0"
            ],
            [
             0.7,
             "#b8e186"
            ],
            [
             0.8,
             "#7fbc41"
            ],
            [
             0.9,
             "#4d9221"
            ],
            [
             1,
             "#276419"
            ]
           ],
           "sequential": [
            [
             0,
             "#0d0887"
            ],
            [
             0.1111111111111111,
             "#46039f"
            ],
            [
             0.2222222222222222,
             "#7201a8"
            ],
            [
             0.3333333333333333,
             "#9c179e"
            ],
            [
             0.4444444444444444,
             "#bd3786"
            ],
            [
             0.5555555555555556,
             "#d8576b"
            ],
            [
             0.6666666666666666,
             "#ed7953"
            ],
            [
             0.7777777777777778,
             "#fb9f3a"
            ],
            [
             0.8888888888888888,
             "#fdca26"
            ],
            [
             1,
             "#f0f921"
            ]
           ],
           "sequentialminus": [
            [
             0,
             "#0d0887"
            ],
            [
             0.1111111111111111,
             "#46039f"
            ],
            [
             0.2222222222222222,
             "#7201a8"
            ],
            [
             0.3333333333333333,
             "#9c179e"
            ],
            [
             0.4444444444444444,
             "#bd3786"
            ],
            [
             0.5555555555555556,
             "#d8576b"
            ],
            [
             0.6666666666666666,
             "#ed7953"
            ],
            [
             0.7777777777777778,
             "#fb9f3a"
            ],
            [
             0.8888888888888888,
             "#fdca26"
            ],
            [
             1,
             "#f0f921"
            ]
           ]
          },
          "colorway": [
           "#636efa",
           "#EF553B",
           "#00cc96",
           "#ab63fa",
           "#FFA15A",
           "#19d3f3",
           "#FF6692",
           "#B6E880",
           "#FF97FF",
           "#FECB52"
          ],
          "font": {
           "color": "#2a3f5f"
          },
          "geo": {
           "bgcolor": "white",
           "lakecolor": "white",
           "landcolor": "#E5ECF6",
           "showlakes": true,
           "showland": true,
           "subunitcolor": "white"
          },
          "hoverlabel": {
           "align": "left"
          },
          "hovermode": "closest",
          "mapbox": {
           "style": "light"
          },
          "paper_bgcolor": "white",
          "plot_bgcolor": "#E5ECF6",
          "polar": {
           "angularaxis": {
            "gridcolor": "white",
            "linecolor": "white",
            "ticks": ""
           },
           "bgcolor": "#E5ECF6",
           "radialaxis": {
            "gridcolor": "white",
            "linecolor": "white",
            "ticks": ""
           }
          },
          "scene": {
           "xaxis": {
            "backgroundcolor": "#E5ECF6",
            "gridcolor": "white",
            "gridwidth": 2,
            "linecolor": "white",
            "showbackground": true,
            "ticks": "",
            "zerolinecolor": "white"
           },
           "yaxis": {
            "backgroundcolor": "#E5ECF6",
            "gridcolor": "white",
            "gridwidth": 2,
            "linecolor": "white",
            "showbackground": true,
            "ticks": "",
            "zerolinecolor": "white"
           },
           "zaxis": {
            "backgroundcolor": "#E5ECF6",
            "gridcolor": "white",
            "gridwidth": 2,
            "linecolor": "white",
            "showbackground": true,
            "ticks": "",
            "zerolinecolor": "white"
           }
          },
          "shapedefaults": {
           "line": {
            "color": "#2a3f5f"
           }
          },
          "ternary": {
           "aaxis": {
            "gridcolor": "white",
            "linecolor": "white",
            "ticks": ""
           },
           "baxis": {
            "gridcolor": "white",
            "linecolor": "white",
            "ticks": ""
           },
           "bgcolor": "#E5ECF6",
           "caxis": {
            "gridcolor": "white",
            "linecolor": "white",
            "ticks": ""
           }
          },
          "title": {
           "x": 0.05
          },
          "xaxis": {
           "automargin": true,
           "gridcolor": "white",
           "linecolor": "white",
           "ticks": "",
           "title": {
            "standoff": 15
           },
           "zerolinecolor": "white",
           "zerolinewidth": 2
          },
          "yaxis": {
           "automargin": true,
           "gridcolor": "white",
           "linecolor": "white",
           "ticks": "",
           "title": {
            "standoff": 15
           },
           "zerolinecolor": "white",
           "zerolinewidth": 2
          }
         }
        },
        "title": {
         "text": "Altura vs Pie"
        },
        "xaxis": {
         "anchor": "y",
         "domain": [
          0,
          1
         ],
         "title": {
          "text": "Altura (cm)"
         }
        },
        "yaxis": {
         "anchor": "x",
         "domain": [
          0,
          1
         ],
         "title": {
          "text": "Pie (cm)"
         }
        }
       }
      }
     },
     "metadata": {},
     "output_type": "display_data"
    }
   ],
   "source": [
    "fig1 = px.scatter(df, x=\"Altura\", y=\"Ancho\", \n",
    "                  title=\"Altura vs Ancho\", \n",
    "                  labels={\"Altura\": \"Altura (cm)\", \"Ancho\": \"Ancho (cm)\"},\n",
    "                  color_discrete_sequence=[\"blue\"])\n",
    "\n",
    "fig2 = px.scatter(df, x=\"Altura\", y=\"Pie\", \n",
    "                  title=\"Altura vs Pie\", \n",
    "                  labels={\"Altura\": \"Altura (cm)\", \"Pie\": \"Pie (cm)\"},\n",
    "                  color_discrete_sequence=[\"red\"])\n",
    "\n",
    "fig1.show()\n",
    "fig2.show()"
   ]
  },
  {
   "cell_type": "markdown",
   "metadata": {},
   "source": [
    "### **Modelo 1: Linnear Regression**"
   ]
  },
  {
   "cell_type": "code",
   "execution_count": 126,
   "metadata": {},
   "outputs": [],
   "source": [
    "from sklearn.model_selection import train_test_split\n",
    "from sklearn.metrics import mean_squared_error, r2_score\n",
    "from sklearn.model_selection import train_test_split"
   ]
  },
  {
   "cell_type": "code",
   "execution_count": 127,
   "metadata": {},
   "outputs": [],
   "source": [
    "X = df_ori[['Pie', 'Ancho']]\n",
    "y = df_ori['Altura']"
   ]
  },
  {
   "cell_type": "code",
   "execution_count": 128,
   "metadata": {},
   "outputs": [],
   "source": [
    "X_train, X_test, y_train, y_test = train_test_split(X, y, test_size=0.2, random_state=42)"
   ]
  },
  {
   "cell_type": "code",
   "execution_count": 129,
   "metadata": {},
   "outputs": [
    {
     "data": {
      "text/html": [
       "<style>#sk-container-id-12 {\n",
       "  /* Definition of color scheme common for light and dark mode */\n",
       "  --sklearn-color-text: #000;\n",
       "  --sklearn-color-text-muted: #666;\n",
       "  --sklearn-color-line: gray;\n",
       "  /* Definition of color scheme for unfitted estimators */\n",
       "  --sklearn-color-unfitted-level-0: #fff5e6;\n",
       "  --sklearn-color-unfitted-level-1: #f6e4d2;\n",
       "  --sklearn-color-unfitted-level-2: #ffe0b3;\n",
       "  --sklearn-color-unfitted-level-3: chocolate;\n",
       "  /* Definition of color scheme for fitted estimators */\n",
       "  --sklearn-color-fitted-level-0: #f0f8ff;\n",
       "  --sklearn-color-fitted-level-1: #d4ebff;\n",
       "  --sklearn-color-fitted-level-2: #b3dbfd;\n",
       "  --sklearn-color-fitted-level-3: cornflowerblue;\n",
       "\n",
       "  /* Specific color for light theme */\n",
       "  --sklearn-color-text-on-default-background: var(--sg-text-color, var(--theme-code-foreground, var(--jp-content-font-color1, black)));\n",
       "  --sklearn-color-background: var(--sg-background-color, var(--theme-background, var(--jp-layout-color0, white)));\n",
       "  --sklearn-color-border-box: var(--sg-text-color, var(--theme-code-foreground, var(--jp-content-font-color1, black)));\n",
       "  --sklearn-color-icon: #696969;\n",
       "\n",
       "  @media (prefers-color-scheme: dark) {\n",
       "    /* Redefinition of color scheme for dark theme */\n",
       "    --sklearn-color-text-on-default-background: var(--sg-text-color, var(--theme-code-foreground, var(--jp-content-font-color1, white)));\n",
       "    --sklearn-color-background: var(--sg-background-color, var(--theme-background, var(--jp-layout-color0, #111)));\n",
       "    --sklearn-color-border-box: var(--sg-text-color, var(--theme-code-foreground, var(--jp-content-font-color1, white)));\n",
       "    --sklearn-color-icon: #878787;\n",
       "  }\n",
       "}\n",
       "\n",
       "#sk-container-id-12 {\n",
       "  color: var(--sklearn-color-text);\n",
       "}\n",
       "\n",
       "#sk-container-id-12 pre {\n",
       "  padding: 0;\n",
       "}\n",
       "\n",
       "#sk-container-id-12 input.sk-hidden--visually {\n",
       "  border: 0;\n",
       "  clip: rect(1px 1px 1px 1px);\n",
       "  clip: rect(1px, 1px, 1px, 1px);\n",
       "  height: 1px;\n",
       "  margin: -1px;\n",
       "  overflow: hidden;\n",
       "  padding: 0;\n",
       "  position: absolute;\n",
       "  width: 1px;\n",
       "}\n",
       "\n",
       "#sk-container-id-12 div.sk-dashed-wrapped {\n",
       "  border: 1px dashed var(--sklearn-color-line);\n",
       "  margin: 0 0.4em 0.5em 0.4em;\n",
       "  box-sizing: border-box;\n",
       "  padding-bottom: 0.4em;\n",
       "  background-color: var(--sklearn-color-background);\n",
       "}\n",
       "\n",
       "#sk-container-id-12 div.sk-container {\n",
       "  /* jupyter's `normalize.less` sets `[hidden] { display: none; }`\n",
       "     but bootstrap.min.css set `[hidden] { display: none !important; }`\n",
       "     so we also need the `!important` here to be able to override the\n",
       "     default hidden behavior on the sphinx rendered scikit-learn.org.\n",
       "     See: https://github.com/scikit-learn/scikit-learn/issues/21755 */\n",
       "  display: inline-block !important;\n",
       "  position: relative;\n",
       "}\n",
       "\n",
       "#sk-container-id-12 div.sk-text-repr-fallback {\n",
       "  display: none;\n",
       "}\n",
       "\n",
       "div.sk-parallel-item,\n",
       "div.sk-serial,\n",
       "div.sk-item {\n",
       "  /* draw centered vertical line to link estimators */\n",
       "  background-image: linear-gradient(var(--sklearn-color-text-on-default-background), var(--sklearn-color-text-on-default-background));\n",
       "  background-size: 2px 100%;\n",
       "  background-repeat: no-repeat;\n",
       "  background-position: center center;\n",
       "}\n",
       "\n",
       "/* Parallel-specific style estimator block */\n",
       "\n",
       "#sk-container-id-12 div.sk-parallel-item::after {\n",
       "  content: \"\";\n",
       "  width: 100%;\n",
       "  border-bottom: 2px solid var(--sklearn-color-text-on-default-background);\n",
       "  flex-grow: 1;\n",
       "}\n",
       "\n",
       "#sk-container-id-12 div.sk-parallel {\n",
       "  display: flex;\n",
       "  align-items: stretch;\n",
       "  justify-content: center;\n",
       "  background-color: var(--sklearn-color-background);\n",
       "  position: relative;\n",
       "}\n",
       "\n",
       "#sk-container-id-12 div.sk-parallel-item {\n",
       "  display: flex;\n",
       "  flex-direction: column;\n",
       "}\n",
       "\n",
       "#sk-container-id-12 div.sk-parallel-item:first-child::after {\n",
       "  align-self: flex-end;\n",
       "  width: 50%;\n",
       "}\n",
       "\n",
       "#sk-container-id-12 div.sk-parallel-item:last-child::after {\n",
       "  align-self: flex-start;\n",
       "  width: 50%;\n",
       "}\n",
       "\n",
       "#sk-container-id-12 div.sk-parallel-item:only-child::after {\n",
       "  width: 0;\n",
       "}\n",
       "\n",
       "/* Serial-specific style estimator block */\n",
       "\n",
       "#sk-container-id-12 div.sk-serial {\n",
       "  display: flex;\n",
       "  flex-direction: column;\n",
       "  align-items: center;\n",
       "  background-color: var(--sklearn-color-background);\n",
       "  padding-right: 1em;\n",
       "  padding-left: 1em;\n",
       "}\n",
       "\n",
       "\n",
       "/* Toggleable style: style used for estimator/Pipeline/ColumnTransformer box that is\n",
       "clickable and can be expanded/collapsed.\n",
       "- Pipeline and ColumnTransformer use this feature and define the default style\n",
       "- Estimators will overwrite some part of the style using the `sk-estimator` class\n",
       "*/\n",
       "\n",
       "/* Pipeline and ColumnTransformer style (default) */\n",
       "\n",
       "#sk-container-id-12 div.sk-toggleable {\n",
       "  /* Default theme specific background. It is overwritten whether we have a\n",
       "  specific estimator or a Pipeline/ColumnTransformer */\n",
       "  background-color: var(--sklearn-color-background);\n",
       "}\n",
       "\n",
       "/* Toggleable label */\n",
       "#sk-container-id-12 label.sk-toggleable__label {\n",
       "  cursor: pointer;\n",
       "  display: flex;\n",
       "  width: 100%;\n",
       "  margin-bottom: 0;\n",
       "  padding: 0.5em;\n",
       "  box-sizing: border-box;\n",
       "  text-align: center;\n",
       "  align-items: start;\n",
       "  justify-content: space-between;\n",
       "  gap: 0.5em;\n",
       "}\n",
       "\n",
       "#sk-container-id-12 label.sk-toggleable__label .caption {\n",
       "  font-size: 0.6rem;\n",
       "  font-weight: lighter;\n",
       "  color: var(--sklearn-color-text-muted);\n",
       "}\n",
       "\n",
       "#sk-container-id-12 label.sk-toggleable__label-arrow:before {\n",
       "  /* Arrow on the left of the label */\n",
       "  content: \"▸\";\n",
       "  float: left;\n",
       "  margin-right: 0.25em;\n",
       "  color: var(--sklearn-color-icon);\n",
       "}\n",
       "\n",
       "#sk-container-id-12 label.sk-toggleable__label-arrow:hover:before {\n",
       "  color: var(--sklearn-color-text);\n",
       "}\n",
       "\n",
       "/* Toggleable content - dropdown */\n",
       "\n",
       "#sk-container-id-12 div.sk-toggleable__content {\n",
       "  max-height: 0;\n",
       "  max-width: 0;\n",
       "  overflow: hidden;\n",
       "  text-align: left;\n",
       "  /* unfitted */\n",
       "  background-color: var(--sklearn-color-unfitted-level-0);\n",
       "}\n",
       "\n",
       "#sk-container-id-12 div.sk-toggleable__content.fitted {\n",
       "  /* fitted */\n",
       "  background-color: var(--sklearn-color-fitted-level-0);\n",
       "}\n",
       "\n",
       "#sk-container-id-12 div.sk-toggleable__content pre {\n",
       "  margin: 0.2em;\n",
       "  border-radius: 0.25em;\n",
       "  color: var(--sklearn-color-text);\n",
       "  /* unfitted */\n",
       "  background-color: var(--sklearn-color-unfitted-level-0);\n",
       "}\n",
       "\n",
       "#sk-container-id-12 div.sk-toggleable__content.fitted pre {\n",
       "  /* unfitted */\n",
       "  background-color: var(--sklearn-color-fitted-level-0);\n",
       "}\n",
       "\n",
       "#sk-container-id-12 input.sk-toggleable__control:checked~div.sk-toggleable__content {\n",
       "  /* Expand drop-down */\n",
       "  max-height: 200px;\n",
       "  max-width: 100%;\n",
       "  overflow: auto;\n",
       "}\n",
       "\n",
       "#sk-container-id-12 input.sk-toggleable__control:checked~label.sk-toggleable__label-arrow:before {\n",
       "  content: \"▾\";\n",
       "}\n",
       "\n",
       "/* Pipeline/ColumnTransformer-specific style */\n",
       "\n",
       "#sk-container-id-12 div.sk-label input.sk-toggleable__control:checked~label.sk-toggleable__label {\n",
       "  color: var(--sklearn-color-text);\n",
       "  background-color: var(--sklearn-color-unfitted-level-2);\n",
       "}\n",
       "\n",
       "#sk-container-id-12 div.sk-label.fitted input.sk-toggleable__control:checked~label.sk-toggleable__label {\n",
       "  background-color: var(--sklearn-color-fitted-level-2);\n",
       "}\n",
       "\n",
       "/* Estimator-specific style */\n",
       "\n",
       "/* Colorize estimator box */\n",
       "#sk-container-id-12 div.sk-estimator input.sk-toggleable__control:checked~label.sk-toggleable__label {\n",
       "  /* unfitted */\n",
       "  background-color: var(--sklearn-color-unfitted-level-2);\n",
       "}\n",
       "\n",
       "#sk-container-id-12 div.sk-estimator.fitted input.sk-toggleable__control:checked~label.sk-toggleable__label {\n",
       "  /* fitted */\n",
       "  background-color: var(--sklearn-color-fitted-level-2);\n",
       "}\n",
       "\n",
       "#sk-container-id-12 div.sk-label label.sk-toggleable__label,\n",
       "#sk-container-id-12 div.sk-label label {\n",
       "  /* The background is the default theme color */\n",
       "  color: var(--sklearn-color-text-on-default-background);\n",
       "}\n",
       "\n",
       "/* On hover, darken the color of the background */\n",
       "#sk-container-id-12 div.sk-label:hover label.sk-toggleable__label {\n",
       "  color: var(--sklearn-color-text);\n",
       "  background-color: var(--sklearn-color-unfitted-level-2);\n",
       "}\n",
       "\n",
       "/* Label box, darken color on hover, fitted */\n",
       "#sk-container-id-12 div.sk-label.fitted:hover label.sk-toggleable__label.fitted {\n",
       "  color: var(--sklearn-color-text);\n",
       "  background-color: var(--sklearn-color-fitted-level-2);\n",
       "}\n",
       "\n",
       "/* Estimator label */\n",
       "\n",
       "#sk-container-id-12 div.sk-label label {\n",
       "  font-family: monospace;\n",
       "  font-weight: bold;\n",
       "  display: inline-block;\n",
       "  line-height: 1.2em;\n",
       "}\n",
       "\n",
       "#sk-container-id-12 div.sk-label-container {\n",
       "  text-align: center;\n",
       "}\n",
       "\n",
       "/* Estimator-specific */\n",
       "#sk-container-id-12 div.sk-estimator {\n",
       "  font-family: monospace;\n",
       "  border: 1px dotted var(--sklearn-color-border-box);\n",
       "  border-radius: 0.25em;\n",
       "  box-sizing: border-box;\n",
       "  margin-bottom: 0.5em;\n",
       "  /* unfitted */\n",
       "  background-color: var(--sklearn-color-unfitted-level-0);\n",
       "}\n",
       "\n",
       "#sk-container-id-12 div.sk-estimator.fitted {\n",
       "  /* fitted */\n",
       "  background-color: var(--sklearn-color-fitted-level-0);\n",
       "}\n",
       "\n",
       "/* on hover */\n",
       "#sk-container-id-12 div.sk-estimator:hover {\n",
       "  /* unfitted */\n",
       "  background-color: var(--sklearn-color-unfitted-level-2);\n",
       "}\n",
       "\n",
       "#sk-container-id-12 div.sk-estimator.fitted:hover {\n",
       "  /* fitted */\n",
       "  background-color: var(--sklearn-color-fitted-level-2);\n",
       "}\n",
       "\n",
       "/* Specification for estimator info (e.g. \"i\" and \"?\") */\n",
       "\n",
       "/* Common style for \"i\" and \"?\" */\n",
       "\n",
       ".sk-estimator-doc-link,\n",
       "a:link.sk-estimator-doc-link,\n",
       "a:visited.sk-estimator-doc-link {\n",
       "  float: right;\n",
       "  font-size: smaller;\n",
       "  line-height: 1em;\n",
       "  font-family: monospace;\n",
       "  background-color: var(--sklearn-color-background);\n",
       "  border-radius: 1em;\n",
       "  height: 1em;\n",
       "  width: 1em;\n",
       "  text-decoration: none !important;\n",
       "  margin-left: 0.5em;\n",
       "  text-align: center;\n",
       "  /* unfitted */\n",
       "  border: var(--sklearn-color-unfitted-level-1) 1pt solid;\n",
       "  color: var(--sklearn-color-unfitted-level-1);\n",
       "}\n",
       "\n",
       ".sk-estimator-doc-link.fitted,\n",
       "a:link.sk-estimator-doc-link.fitted,\n",
       "a:visited.sk-estimator-doc-link.fitted {\n",
       "  /* fitted */\n",
       "  border: var(--sklearn-color-fitted-level-1) 1pt solid;\n",
       "  color: var(--sklearn-color-fitted-level-1);\n",
       "}\n",
       "\n",
       "/* On hover */\n",
       "div.sk-estimator:hover .sk-estimator-doc-link:hover,\n",
       ".sk-estimator-doc-link:hover,\n",
       "div.sk-label-container:hover .sk-estimator-doc-link:hover,\n",
       ".sk-estimator-doc-link:hover {\n",
       "  /* unfitted */\n",
       "  background-color: var(--sklearn-color-unfitted-level-3);\n",
       "  color: var(--sklearn-color-background);\n",
       "  text-decoration: none;\n",
       "}\n",
       "\n",
       "div.sk-estimator.fitted:hover .sk-estimator-doc-link.fitted:hover,\n",
       ".sk-estimator-doc-link.fitted:hover,\n",
       "div.sk-label-container:hover .sk-estimator-doc-link.fitted:hover,\n",
       ".sk-estimator-doc-link.fitted:hover {\n",
       "  /* fitted */\n",
       "  background-color: var(--sklearn-color-fitted-level-3);\n",
       "  color: var(--sklearn-color-background);\n",
       "  text-decoration: none;\n",
       "}\n",
       "\n",
       "/* Span, style for the box shown on hovering the info icon */\n",
       ".sk-estimator-doc-link span {\n",
       "  display: none;\n",
       "  z-index: 9999;\n",
       "  position: relative;\n",
       "  font-weight: normal;\n",
       "  right: .2ex;\n",
       "  padding: .5ex;\n",
       "  margin: .5ex;\n",
       "  width: min-content;\n",
       "  min-width: 20ex;\n",
       "  max-width: 50ex;\n",
       "  color: var(--sklearn-color-text);\n",
       "  box-shadow: 2pt 2pt 4pt #999;\n",
       "  /* unfitted */\n",
       "  background: var(--sklearn-color-unfitted-level-0);\n",
       "  border: .5pt solid var(--sklearn-color-unfitted-level-3);\n",
       "}\n",
       "\n",
       ".sk-estimator-doc-link.fitted span {\n",
       "  /* fitted */\n",
       "  background: var(--sklearn-color-fitted-level-0);\n",
       "  border: var(--sklearn-color-fitted-level-3);\n",
       "}\n",
       "\n",
       ".sk-estimator-doc-link:hover span {\n",
       "  display: block;\n",
       "}\n",
       "\n",
       "/* \"?\"-specific style due to the `<a>` HTML tag */\n",
       "\n",
       "#sk-container-id-12 a.estimator_doc_link {\n",
       "  float: right;\n",
       "  font-size: 1rem;\n",
       "  line-height: 1em;\n",
       "  font-family: monospace;\n",
       "  background-color: var(--sklearn-color-background);\n",
       "  border-radius: 1rem;\n",
       "  height: 1rem;\n",
       "  width: 1rem;\n",
       "  text-decoration: none;\n",
       "  /* unfitted */\n",
       "  color: var(--sklearn-color-unfitted-level-1);\n",
       "  border: var(--sklearn-color-unfitted-level-1) 1pt solid;\n",
       "}\n",
       "\n",
       "#sk-container-id-12 a.estimator_doc_link.fitted {\n",
       "  /* fitted */\n",
       "  border: var(--sklearn-color-fitted-level-1) 1pt solid;\n",
       "  color: var(--sklearn-color-fitted-level-1);\n",
       "}\n",
       "\n",
       "/* On hover */\n",
       "#sk-container-id-12 a.estimator_doc_link:hover {\n",
       "  /* unfitted */\n",
       "  background-color: var(--sklearn-color-unfitted-level-3);\n",
       "  color: var(--sklearn-color-background);\n",
       "  text-decoration: none;\n",
       "}\n",
       "\n",
       "#sk-container-id-12 a.estimator_doc_link.fitted:hover {\n",
       "  /* fitted */\n",
       "  background-color: var(--sklearn-color-fitted-level-3);\n",
       "}\n",
       "</style><div id=\"sk-container-id-12\" class=\"sk-top-container\"><div class=\"sk-text-repr-fallback\"><pre>LinearRegression(positive=True)</pre><b>In a Jupyter environment, please rerun this cell to show the HTML representation or trust the notebook. <br />On GitHub, the HTML representation is unable to render, please try loading this page with nbviewer.org.</b></div><div class=\"sk-container\" hidden><div class=\"sk-item\"><div class=\"sk-estimator fitted sk-toggleable\"><input class=\"sk-toggleable__control sk-hidden--visually\" id=\"sk-estimator-id-22\" type=\"checkbox\" checked><label for=\"sk-estimator-id-22\" class=\"sk-toggleable__label fitted sk-toggleable__label-arrow\"><div><div>LinearRegression</div></div><div><a class=\"sk-estimator-doc-link fitted\" rel=\"noreferrer\" target=\"_blank\" href=\"https://scikit-learn.org/1.6/modules/generated/sklearn.linear_model.LinearRegression.html\">?<span>Documentation for LinearRegression</span></a><span class=\"sk-estimator-doc-link fitted\">i<span>Fitted</span></span></div></label><div class=\"sk-toggleable__content fitted\"><pre>LinearRegression(positive=True)</pre></div> </div></div></div></div>"
      ],
      "text/plain": [
       "LinearRegression(positive=True)"
      ]
     },
     "execution_count": 129,
     "metadata": {},
     "output_type": "execute_result"
    }
   ],
   "source": [
    "model = LinearRegression(positive=True)\n",
    "model.fit(X_train, y_train)"
   ]
  },
  {
   "cell_type": "code",
   "execution_count": 130,
   "metadata": {},
   "outputs": [],
   "source": [
    "y_pred = model.predict(X_test)"
   ]
  },
  {
   "cell_type": "code",
   "execution_count": 131,
   "metadata": {},
   "outputs": [
    {
     "name": "stdout",
     "output_type": "stream",
     "text": [
      "Shape de y_pred (4,)\n"
     ]
    }
   ],
   "source": [
    "print(f'Shape de y_pred {y_pred.shape}')"
   ]
  },
  {
   "cell_type": "code",
   "execution_count": 132,
   "metadata": {},
   "outputs": [
    {
     "name": "stdout",
     "output_type": "stream",
     "text": [
      "El r2: 0.846\n",
      "El rmse: 3.635\n"
     ]
    }
   ],
   "source": [
    "r2 = r2_score(y_test, y_pred)\n",
    "rmse = np.sqrt(mean_squared_error(y_test, y_pred))\n",
    "print(f'El r2: {r2:.3f}')\n",
    "print(f'El rmse: {rmse:.3f}')"
   ]
  },
  {
   "cell_type": "code",
   "execution_count": 133,
   "metadata": {},
   "outputs": [
    {
     "data": {
      "image/png": "[encoded data removed]",
      "text/plain": [
       "<Figure size 1000x600 with 1 Axes>"
      ]
     },
     "metadata": {},
     "output_type": "display_data"
    }
   ],
   "source": [
    "plt.figure(figsize=(10, 6))\n",
    "sns.scatterplot(x=y_test, y=y_pred)\n",
    "plt.plot([y_test.min(), y_test.max()], [y_test.min(), y_test.max()], color='red', linestyle='--')  # Línea de identidad\n",
    "plt.title(f\"Modelo de Regresión Lineal\\n$R^2 = {r2:.3f}$, RMSE = {rmse:.3f}\")\n",
    "plt.xlabel(\"Altura Real\")\n",
    "plt.ylabel(\"Altura Predicha\")\n",
    "plt.show()"
   ]
  },
  {
   "cell_type": "code",
   "execution_count": 134,
   "metadata": {},
   "outputs": [
    {
     "data": {
      "text/plain": [
       "array([4.26666667, 0.        ])"
      ]
     },
     "execution_count": 134,
     "metadata": {},
     "output_type": "execute_result"
    }
   ],
   "source": [
    "model.coef_"
   ]
  },
  {
   "cell_type": "markdown",
   "metadata": {},
   "source": [
    "### **Modelo 2: Lineal Dividido**"
   ]
  },
  {
   "cell_type": "code",
   "execution_count": 135,
   "metadata": {},
   "outputs": [],
   "source": [
    "altura_median = df['Altura'].median()\n",
    "\n",
    "df_bajo = df[df['Altura'] <= altura_median]\n",
    "df_alto = df[df['Altura'] > altura_median]"
   ]
  },
  {
   "cell_type": "code",
   "execution_count": 136,
   "metadata": {},
   "outputs": [
    {
     "data": {
      "application/vnd.plotly.v1+json": {
       "config": {
        "plotlyServerURL": "https://plot.ly"
       },
       "data": [
        {
         "hovertemplate": "Altura (cm)=%{x}<br>Ancho (cm)=%{y}<extra></extra>",
         "legendgroup": "",
         "marker": {
          "color": "blue",
          "symbol": "circle"
         },
         "mode": "markers",
         "name": "",
         "orientation": "v",
         "showlegend": false,
         "type": "scatter",
         "x": {
          "bdata": "Y1ZojSRdZEAqXdBdJG5kQAz4On1A7WNAMzrjvGJ+ZEBNb4IIaxVjQP7GcJ971mNAiQTxhLWkZEAIGsUZtltkQEO2R7loKmRAGZYoHZM6ZEChIyzTEcZiQKmYh6We82NAXMb5DQlhY0CpjGm9NZNjQHt4TwVuz2NAWjMSPo0pZEBZ40SJYEljQMFyETG+fWNArVS9ZiesY0AHxGIn4XlkQGGhP/wXWGRAjAUSCsJsY0AMur4Y+7tjQPehZm0aSmRAOzXKIW7XY0AAAAAAAGBkQAAAAAAAQGRAAAAAAADgY0AAAAAAAKBkQAAAAAAAQGRAAAAAAABgY0AAAAAAAOBjQAAAAAAAgGNAAAAAAADAYkA=",
          "dtype": "f8"
         },
         "xaxis": "x",
         "y": {
          "bdata": "VAgdXqbYR0B6qxm/WQ9GQFPXi+FdoUJA9MXrC4hSREB8X68NBV9DQASoQ0MzzENAV1gFY0WaREA9B55Yff9DQFgBNmSl1UNACeEAu8YaREBh3e70rjBDQIVKa1KdVEJAvaX8a6RrREC6hMVF/k1EQOaubbKon0NA7ySgYpVKREBiXhDXNmNDQDVRb0/I7UVAu6ZE2e9iRUC6VPfgj09EQNEUTWJh3EJAxLvL8sMHRUCrEoE3BUJDQGsDxfxMh0VAWVx5wvOaQkAAAAAAAABGQAAAAAAAAEZAAAAAAAAAREAAAAAAAABEQAAAAAAAAEZAAAAAAAAAREAAAAAAAABDQAAAAAAAAENAAAAAAACAQ0A=",
          "dtype": "f8"
         },
         "yaxis": "y"
        }
       ],
       "layout": {
        "legend": {
         "tracegroupgap": 0
        },
        "template": {
         "data": {
          "bar": [
           {
            "error_x": {
             "color": "#2a3f5f"
            },
            "error_y": {
             "color": "#2a3f5f"
            },
            "marker": {
             "line": {
              "color": "#E5ECF6",
              "width": 0.5
             },
             "pattern": {
              "fillmode": "overlay",
              "size": 10,
              "solidity": 0.2
             }
            },
            "type": "bar"
           }
          ],
          "barpolar": [
           {
            "marker": {
             "line": {
              "color": "#E5ECF6",
              "width": 0.5
             },
             "pattern": {
              "fillmode": "overlay",
              "size": 10,
              "solidity": 0.2
             }
            },
            "type": "barpolar"
           }
          ],
          "carpet": [
           {
            "aaxis": {
             "endlinecolor": "#2a3f5f",
             "gridcolor": "white",
             "linecolor": "white",
             "minorgridcolor": "white",
             "startlinecolor": "#2a3f5f"
            },
            "baxis": {
             "endlinecolor": "#2a3f5f",
             "gridcolor": "white",
             "linecolor": "white",
             "minorgridcolor": "white",
             "startlinecolor": "#2a3f5f"
            },
            "type": "carpet"
           }
          ],
          "choropleth": [
           {
            "colorbar": {
             "outlinewidth": 0,
             "ticks": ""
            },
            "type": "choropleth"
           }
          ],
          "contour": [
           {
            "colorbar": {
             "outlinewidth": 0,
             "ticks": ""
            },
            "colorscale": [
             [
              0,
              "#0d0887"
             ],
             [
              0.1111111111111111,
              "#46039f"
             ],
             [
              0.2222222222222222,
              "#7201a8"
             ],
             [
              0.3333333333333333,
              "#9c179e"
             ],
             [
              0.4444444444444444,
              "#bd3786"
             ],
             [
              0.5555555555555556,
              "#d8576b"
             ],
             [
              0.6666666666666666,
              "#ed7953"
             ],
             [
              0.7777777777777778,
              "#fb9f3a"
             ],
             [
              0.8888888888888888,
              "#fdca26"
             ],
             [
              1,
              "#f0f921"
             ]
            ],
            "type": "contour"
           }
          ],
          "contourcarpet": [
           {
            "colorbar": {
             "outlinewidth": 0,
             "ticks": ""
            },
            "type": "contourcarpet"
           }
          ],
          "heatmap": [
           {
            "colorbar": {
             "outlinewidth": 0,
             "ticks": ""
            },
            "colorscale": [
             [
              0,
              "#0d0887"
             ],
             [
              0.1111111111111111,
              "#46039f"
             ],
             [
              0.2222222222222222,
              "#7201a8"
             ],
             [
              0.3333333333333333,
              "#9c179e"
             ],
             [
              0.4444444444444444,
              "#bd3786"
             ],
             [
              0.5555555555555556,
              "#d8576b"
             ],
             [
              0.6666666666666666,
              "#ed7953"
             ],
             [
              0.7777777777777778,
              "#fb9f3a"
             ],
             [
              0.8888888888888888,
              "#fdca26"
             ],
             [
              1,
              "#f0f921"
             ]
            ],
            "type": "heatmap"
           }
          ],
          "histogram": [
           {
            "marker": {
             "pattern": {
              "fillmode": "overlay",
              "size": 10,
              "solidity": 0.2
             }
            },
            "type": "histogram"
           }
          ],
          "histogram2d": [
           {
            "colorbar": {
             "outlinewidth": 0,
             "ticks": ""
            },
            "colorscale": [
             [
              0,
              "#0d0887"
             ],
             [
              0.1111111111111111,
              "#46039f"
             ],
             [
              0.2222222222222222,
              "#7201a8"
             ],
             [
              0.3333333333333333,
              "#9c179e"
             ],
             [
              0.4444444444444444,
              "#bd3786"
             ],
             [
              0.5555555555555556,
              "#d8576b"
             ],
             [
              0.6666666666666666,
              "#ed7953"
             ],
             [
              0.7777777777777778,
              "#fb9f3a"
             ],
             [
              0.8888888888888888,
              "#fdca26"
             ],
             [
              1,
              "#f0f921"
             ]
            ],
            "type": "histogram2d"
           }
          ],
          "histogram2dcontour": [
           {
            "colorbar": {
             "outlinewidth": 0,
             "ticks": ""
            },
            "colorscale": [
             [
              0,
              "#0d0887"
             ],
             [
              0.1111111111111111,
              "#46039f"
             ],
             [
              0.2222222222222222,
              "#7201a8"
             ],
             [
              0.3333333333333333,
              "#9c179e"
             ],
             [
              0.4444444444444444,
              "#bd3786"
             ],
             [
              0.5555555555555556,
              "#d8576b"
             ],
             [
              0.6666666666666666,
              "#ed7953"
             ],
             [
              0.7777777777777778,
              "#fb9f3a"
             ],
             [
              0.8888888888888888,
              "#fdca26"
             ],
             [
              1,
              "#f0f921"
             ]
            ],
            "type": "histogram2dcontour"
           }
          ],
          "mesh3d": [
           {
            "colorbar": {
             "outlinewidth": 0,
             "ticks": ""
            },
            "type": "mesh3d"
           }
          ],
          "parcoords": [
           {
            "line": {
             "colorbar": {
              "outlinewidth": 0,
              "ticks": ""
             }
            },
            "type": "parcoords"
           }
          ],
          "pie": [
           {
            "automargin": true,
            "type": "pie"
           }
          ],
          "scatter": [
           {
            "fillpattern": {
             "fillmode": "overlay",
             "size": 10,
             "solidity": 0.2
            },
            "type": "scatter"
           }
          ],
          "scatter3d": [
           {
            "line": {
             "colorbar": {
              "outlinewidth": 0,
              "ticks": ""
             }
            },
            "marker": {
             "colorbar": {
              "outlinewidth": 0,
              "ticks": ""
             }
            },
            "type": "scatter3d"
           }
          ],
          "scattercarpet": [
           {
            "marker": {
             "colorbar": {
              "outlinewidth": 0,
              "ticks": ""
             }
            },
            "type": "scattercarpet"
           }
          ],
          "scattergeo": [
           {
            "marker": {
             "colorbar": {
              "outlinewidth": 0,
              "ticks": ""
             }
            },
            "type": "scattergeo"
           }
          ],
          "scattergl": [
           {
            "marker": {
             "colorbar": {
              "outlinewidth": 0,
              "ticks": ""
             }
            },
            "type": "scattergl"
           }
          ],
          "scattermap": [
           {
            "marker": {
             "colorbar": {
              "outlinewidth": 0,
              "ticks": ""
             }
            },
            "type": "scattermap"
           }
          ],
          "scattermapbox": [
           {
            "marker": {
             "colorbar": {
              "outlinewidth": 0,
              "ticks": ""
             }
            },
            "type": "scattermapbox"
           }
          ],
          "scatterpolar": [
           {
            "marker": {
             "colorbar": {
              "outlinewidth": 0,
              "ticks": ""
             }
            },
            "type": "scatterpolar"
           }
          ],
          "scatterpolargl": [
           {
            "marker": {
             "colorbar": {
              "outlinewidth": 0,
              "ticks": ""
             }
            },
            "type": "scatterpolargl"
           }
          ],
          "scatterternary": [
           {
            "marker": {
             "colorbar": {
              "outlinewidth": 0,
              "ticks": ""
             }
            },
            "type": "scatterternary"
           }
          ],
          "surface": [
           {
            "colorbar": {
             "outlinewidth": 0,
             "ticks": ""
            },
            "colorscale": [
             [
              0,
              "#0d0887"
             ],
             [
              0.1111111111111111,
              "#46039f"
             ],
             [
              0.2222222222222222,
              "#7201a8"
             ],
             [
              0.3333333333333333,
              "#9c179e"
             ],
             [
              0.4444444444444444,
              "#bd3786"
             ],
             [
              0.5555555555555556,
              "#d8576b"
             ],
             [
              0.6666666666666666,
              "#ed7953"
             ],
             [
              0.7777777777777778,
              "#fb9f3a"
             ],
             [
              0.8888888888888888,
              "#fdca26"
             ],
             [
              1,
              "#f0f921"
             ]
            ],
            "type": "surface"
           }
          ],
          "table": [
           {
            "cells": {
             "fill": {
              "color": "#EBF0F8"
             },
             "line": {
              "color": "white"
             }
            },
            "header": {
             "fill": {
              "color": "#C8D4E3"
             },
             "line": {
              "color": "white"
             }
            },
            "type": "table"
           }
          ]
         },
         "layout": {
          "annotationdefaults": {
           "arrowcolor": "#2a3f5f",
           "arrowhead": 0,
           "arrowwidth": 1
          },
          "autotypenumbers": "strict",
          "coloraxis": {
           "colorbar": {
            "outlinewidth": 0,
            "ticks": ""
           }
          },
          "colorscale": {
           "diverging": [
            [
             0,
             "#8e0152"
            ],
            [
             0.1,
             "#c51b7d"
            ],
            [
             0.2,
             "#de77ae"
            ],
            [
             0.3,
             "#f1b6da"
            ],
            [
             0.4,
             "#fde0ef"
            ],
            [
             0.5,
             "#f7f7f7"
            ],
            [
             0.6,
             "#e6f5d0"
            ],
            [
             0.7,
             "#b8e186"
            ],
            [
             0.8,
             "#7fbc41"
            ],
            [
             0.9,
             "#4d9221"
            ],
            [
             1,
             "#276419"
            ]
           ],
           "sequential": [
            [
             0,
             "#0d0887"
            ],
            [
             0.1111111111111111,
             "#46039f"
            ],
            [
             0.2222222222222222,
             "#7201a8"
            ],
            [
             0.3333333333333333,
             "#9c179e"
            ],
            [
             0.4444444444444444,
             "#bd3786"
            ],
            [
             0.5555555555555556,
             "#d8576b"
            ],
            [
             0.6666666666666666,
             "#ed7953"
            ],
            [
             0.7777777777777778,
             "#fb9f3a"
            ],
            [
             0.8888888888888888,
             "#fdca26"
            ],
            [
             1,
             "#f0f921"
            ]
           ],
           "sequentialminus": [
            [
             0,
             "#0d0887"
            ],
            [
             0.1111111111111111,
             "#46039f"
            ],
            [
             0.2222222222222222,
             "#7201a8"
            ],
            [
             0.3333333333333333,
             "#9c179e"
            ],
            [
             0.4444444444444444,
             "#bd3786"
            ],
            [
             0.5555555555555556,
             "#d8576b"
            ],
            [
             0.6666666666666666,
             "#ed7953"
            ],
            [
             0.7777777777777778,
             "#fb9f3a"
            ],
            [
             0.8888888888888888,
             "#fdca26"
            ],
            [
             1,
             "#f0f921"
            ]
           ]
          },
          "colorway": [
           "#636efa",
           "#EF553B",
           "#00cc96",
           "#ab63fa",
           "#FFA15A",
           "#19d3f3",
           "#FF6692",
           "#B6E880",
           "#FF97FF",
           "#FECB52"
          ],
          "font": {
           "color": "#2a3f5f"
          },
          "geo": {
           "bgcolor": "white",
           "lakecolor": "white",
           "landcolor": "#E5ECF6",
           "showlakes": true,
           "showland": true,
           "subunitcolor": "white"
          },
          "hoverlabel": {
           "align": "left"
          },
          "hovermode": "closest",
          "mapbox": {
           "style": "light"
          },
          "paper_bgcolor": "white",
          "plot_bgcolor": "#E5ECF6",
          "polar": {
           "angularaxis": {
            "gridcolor": "white",
            "linecolor": "white",
            "ticks": ""
           },
           "bgcolor": "#E5ECF6",
           "radialaxis": {
            "gridcolor": "white",
            "linecolor": "white",
            "ticks": ""
           }
          },
          "scene": {
           "xaxis": {
            "backgroundcolor": "#E5ECF6",
            "gridcolor": "white",
            "gridwidth": 2,
            "linecolor": "white",
            "showbackground": true,
            "ticks": "",
            "zerolinecolor": "white"
           },
           "yaxis": {
            "backgroundcolor": "#E5ECF6",
            "gridcolor": "white",
            "gridwidth": 2,
            "linecolor": "white",
            "showbackground": true,
            "ticks": "",
            "zerolinecolor": "white"
           },
           "zaxis": {
            "backgroundcolor": "#E5ECF6",
            "gridcolor": "white",
            "gridwidth": 2,
            "linecolor": "white",
            "showbackground": true,
            "ticks": "",
            "zerolinecolor": "white"
           }
          },
          "shapedefaults": {
           "line": {
            "color": "#2a3f5f"
           }
          },
          "ternary": {
           "aaxis": {
            "gridcolor": "white",
            "linecolor": "white",
            "ticks": ""
           },
           "baxis": {
            "gridcolor": "white",
            "linecolor": "white",
            "ticks": ""
           },
           "bgcolor": "#E5ECF6",
           "caxis": {
            "gridcolor": "white",
            "linecolor": "white",
            "ticks": ""
           }
          },
          "title": {
           "x": 0.05
          },
          "xaxis": {
           "automargin": true,
           "gridcolor": "white",
           "linecolor": "white",
           "ticks": "",
           "title": {
            "standoff": 15
           },
           "zerolinecolor": "white",
           "zerolinewidth": 2
          },
          "yaxis": {
           "automargin": true,
           "gridcolor": "white",
           "linecolor": "white",
           "ticks": "",
           "title": {
            "standoff": 15
           },
           "zerolinecolor": "white",
           "zerolinewidth": 2
          }
         }
        },
        "title": {
         "text": "Altura vs Ancho Grupo Bajo"
        },
        "xaxis": {
         "anchor": "y",
         "domain": [
          0,
          1
         ],
         "title": {
          "text": "Altura (cm)"
         }
        },
        "yaxis": {
         "anchor": "x",
         "domain": [
          0,
          1
         ],
         "title": {
          "text": "Ancho (cm)"
         }
        }
       }
      }
     },
     "metadata": {},
     "output_type": "display_data"
    },
    {
     "data": {
      "application/vnd.plotly.v1+json": {
       "config": {
        "plotlyServerURL": "https://plot.ly"
       },
       "data": [
        {
         "hovertemplate": "Altura (cm)=%{x}<br>Pie (cm)=%{y}<extra></extra>",
         "legendgroup": "",
         "marker": {
          "color": "red",
          "symbol": "circle"
         },
         "mode": "markers",
         "name": "",
         "orientation": "v",
         "showlegend": false,
         "type": "scatter",
         "x": {
          "bdata": "Y1ZojSRdZEAqXdBdJG5kQAz4On1A7WNAMzrjvGJ+ZEBNb4IIaxVjQP7GcJ971mNAiQTxhLWkZEAIGsUZtltkQEO2R7loKmRAGZYoHZM6ZEChIyzTEcZiQKmYh6We82NAXMb5DQlhY0CpjGm9NZNjQHt4TwVuz2NAWjMSPo0pZEBZ40SJYEljQMFyETG+fWNArVS9ZiesY0AHxGIn4XlkQGGhP/wXWGRAjAUSCsJsY0AMur4Y+7tjQPehZm0aSmRAOzXKIW7XY0AAAAAAAGBkQAAAAAAAQGRAAAAAAADgY0AAAAAAAKBkQAAAAAAAQGRAAAAAAABgY0AAAAAAAOBjQAAAAAAAgGNAAAAAAADAYkA=",
          "dtype": "f8"
         },
         "xaxis": "x",
         "y": {
          "bdata": "F9h+ulT/O0AdjWG+7dg3QCaEqrFvdzhA8zuXIYwUN0A+cN3XMTQ4QJ5Beius/TdAxv0MH5rTN0AROpYLCjo3QFIa05q/SzdAQmyaSTG9N0CxBSwqycg4QNrcaUtxmzZAu9Nln3UrN0BF7H8OV/g3QNK4tsX1LTdAmWzzsYA5OEDIywlk0To4QJe97/sQyThAh5pOvuUMOUBMSl7GjTo3QMOMOS6GBThA91jSp5loN0DdqxdyiDw3QMUd3oBMAzhAto9MGsyYOEAAAAAAAAA4QAAAAAAAgDhAAAAAAAAAN0AAAAAAAAA4QAAAAAAAADdAAAAAAAAANkAAAAAAAAA4QAAAAAAAADhAAAAAAACANkA=",
          "dtype": "f8"
         },
         "yaxis": "y"
        }
       ],
       "layout": {
        "legend": {
         "tracegroupgap": 0
        },
        "template": {
         "data": {
          "bar": [
           {
            "error_x": {
             "color": "#2a3f5f"
            },
            "error_y": {
             "color": "#2a3f5f"
            },
            "marker": {
             "line": {
              "color": "#E5ECF6",
              "width": 0.5
             },
             "pattern": {
              "fillmode": "overlay",
              "size": 10,
              "solidity": 0.2
             }
            },
            "type": "bar"
           }
          ],
          "barpolar": [
           {
            "marker": {
             "line": {
              "color": "#E5ECF6",
              "width": 0.5
             },
             "pattern": {
              "fillmode": "overlay",
              "size": 10,
              "solidity": 0.2
             }
            },
            "type": "barpolar"
           }
          ],
          "carpet": [
           {
            "aaxis": {
             "endlinecolor": "#2a3f5f",
             "gridcolor": "white",
             "linecolor": "white",
             "minorgridcolor": "white",
             "startlinecolor": "#2a3f5f"
            },
            "baxis": {
             "endlinecolor": "#2a3f5f",
             "gridcolor": "white",
             "linecolor": "white",
             "minorgridcolor": "white",
             "startlinecolor": "#2a3f5f"
            },
            "type": "carpet"
           }
          ],
          "choropleth": [
           {
            "colorbar": {
             "outlinewidth": 0,
             "ticks": ""
            },
            "type": "choropleth"
           }
          ],
          "contour": [
           {
            "colorbar": {
             "outlinewidth": 0,
             "ticks": ""
            },
            "colorscale": [
             [
              0,
              "#0d0887"
             ],
             [
              0.1111111111111111,
              "#46039f"
             ],
             [
              0.2222222222222222,
              "#7201a8"
             ],
             [
              0.3333333333333333,
              "#9c179e"
             ],
             [
              0.4444444444444444,
              "#bd3786"
             ],
             [
              0.5555555555555556,
              "#d8576b"
             ],
             [
              0.6666666666666666,
              "#ed7953"
             ],
             [
              0.7777777777777778,
              "#fb9f3a"
             ],
             [
              0.8888888888888888,
              "#fdca26"
             ],
             [
              1,
              "#f0f921"
             ]
            ],
            "type": "contour"
           }
          ],
          "contourcarpet": [
           {
            "colorbar": {
             "outlinewidth": 0,
             "ticks": ""
            },
            "type": "contourcarpet"
           }
          ],
          "heatmap": [
           {
            "colorbar": {
             "outlinewidth": 0,
             "ticks": ""
            },
            "colorscale": [
             [
              0,
              "#0d0887"
             ],
             [
              0.1111111111111111,
              "#46039f"
             ],
             [
              0.2222222222222222,
              "#7201a8"
             ],
             [
              0.3333333333333333,
              "#9c179e"
             ],
             [
              0.4444444444444444,
              "#bd3786"
             ],
             [
              0.5555555555555556,
              "#d8576b"
             ],
             [
              0.6666666666666666,
              "#ed7953"
             ],
             [
              0.7777777777777778,
              "#fb9f3a"
             ],
             [
              0.8888888888888888,
              "#fdca26"
             ],
             [
              1,
              "#f0f921"
             ]
            ],
            "type": "heatmap"
           }
          ],
          "histogram": [
           {
            "marker": {
             "pattern": {
              "fillmode": "overlay",
              "size": 10,
              "solidity": 0.2
             }
            },
            "type": "histogram"
           }
          ],
          "histogram2d": [
           {
            "colorbar": {
             "outlinewidth": 0,
             "ticks": ""
            },
            "colorscale": [
             [
              0,
              "#0d0887"
             ],
             [
              0.1111111111111111,
              "#46039f"
             ],
             [
              0.2222222222222222,
              "#7201a8"
             ],
             [
              0.3333333333333333,
              "#9c179e"
             ],
             [
              0.4444444444444444,
              "#bd3786"
             ],
             [
              0.5555555555555556,
              "#d8576b"
             ],
             [
              0.6666666666666666,
              "#ed7953"
             ],
             [
              0.7777777777777778,
              "#fb9f3a"
             ],
             [
              0.8888888888888888,
              "#fdca26"
             ],
             [
              1,
              "#f0f921"
             ]
            ],
            "type": "histogram2d"
           }
          ],
          "histogram2dcontour": [
           {
            "colorbar": {
             "outlinewidth": 0,
             "ticks": ""
            },
            "colorscale": [
             [
              0,
              "#0d0887"
             ],
             [
              0.1111111111111111,
              "#46039f"
             ],
             [
              0.2222222222222222,
              "#7201a8"
             ],
             [
              0.3333333333333333,
              "#9c179e"
             ],
             [
              0.4444444444444444,
              "#bd3786"
             ],
             [
              0.5555555555555556,
              "#d8576b"
             ],
             [
              0.6666666666666666,
              "#ed7953"
             ],
             [
              0.7777777777777778,
              "#fb9f3a"
             ],
             [
              0.8888888888888888,
              "#fdca26"
             ],
             [
              1,
              "#f0f921"
             ]
            ],
            "type": "histogram2dcontour"
           }
          ],
          "mesh3d": [
           {
            "colorbar": {
             "outlinewidth": 0,
             "ticks": ""
            },
            "type": "mesh3d"
           }
          ],
          "parcoords": [
           {
            "line": {
             "colorbar": {
              "outlinewidth": 0,
              "ticks": ""
             }
            },
            "type": "parcoords"
           }
          ],
          "pie": [
           {
            "automargin": true,
            "type": "pie"
           }
          ],
          "scatter": [
           {
            "fillpattern": {
             "fillmode": "overlay",
             "size": 10,
             "solidity": 0.2
            },
            "type": "scatter"
           }
          ],
          "scatter3d": [
           {
            "line": {
             "colorbar": {
              "outlinewidth": 0,
              "ticks": ""
             }
            },
            "marker": {
             "colorbar": {
              "outlinewidth": 0,
              "ticks": ""
             }
            },
            "type": "scatter3d"
           }
          ],
          "scattercarpet": [
           {
            "marker": {
             "colorbar": {
              "outlinewidth": 0,
              "ticks": ""
             }
            },
            "type": "scattercarpet"
           }
          ],
          "scattergeo": [
           {
            "marker": {
             "colorbar": {
              "outlinewidth": 0,
              "ticks": ""
             }
            },
            "type": "scattergeo"
           }
          ],
          "scattergl": [
           {
            "marker": {
             "colorbar": {
              "outlinewidth": 0,
              "ticks": ""
             }
            },
            "type": "scattergl"
           }
          ],
          "scattermap": [
           {
            "marker": {
             "colorbar": {
              "outlinewidth": 0,
              "ticks": ""
             }
            },
            "type": "scattermap"
           }
          ],
          "scattermapbox": [
           {
            "marker": {
             "colorbar": {
              "outlinewidth": 0,
              "ticks": ""
             }
            },
            "type": "scattermapbox"
           }
          ],
          "scatterpolar": [
           {
            "marker": {
             "colorbar": {
              "outlinewidth": 0,
              "ticks": ""
             }
            },
            "type": "scatterpolar"
           }
          ],
          "scatterpolargl": [
           {
            "marker": {
             "colorbar": {
              "outlinewidth": 0,
              "ticks": ""
             }
            },
            "type": "scatterpolargl"
           }
          ],
          "scatterternary": [
           {
            "marker": {
             "colorbar": {
              "outlinewidth": 0,
              "ticks": ""
             }
            },
            "type": "scatterternary"
           }
          ],
          "surface": [
           {
            "colorbar": {
             "outlinewidth": 0,
             "ticks": ""
            },
            "colorscale": [
             [
              0,
              "#0d0887"
             ],
             [
              0.1111111111111111,
              "#46039f"
             ],
             [
              0.2222222222222222,
              "#7201a8"
             ],
             [
              0.3333333333333333,
              "#9c179e"
             ],
             [
              0.4444444444444444,
              "#bd3786"
             ],
             [
              0.5555555555555556,
              "#d8576b"
             ],
             [
              0.6666666666666666,
              "#ed7953"
             ],
             [
              0.7777777777777778,
              "#fb9f3a"
             ],
             [
              0.8888888888888888,
              "#fdca26"
             ],
             [
              1,
              "#f0f921"
             ]
            ],
            "type": "surface"
           }
          ],
          "table": [
           {
            "cells": {
             "fill": {
              "color": "#EBF0F8"
             },
             "line": {
              "color": "white"
             }
            },
            "header": {
             "fill": {
              "color": "#C8D4E3"
             },
             "line": {
              "color": "white"
             }
            },
            "type": "table"
           }
          ]
         },
         "layout": {
          "annotationdefaults": {
           "arrowcolor": "#2a3f5f",
           "arrowhead": 0,
           "arrowwidth": 1
          },
          "autotypenumbers": "strict",
          "coloraxis": {
           "colorbar": {
            "outlinewidth": 0,
            "ticks": ""
           }
          },
          "colorscale": {
           "diverging": [
            [
             0,
             "#8e0152"
            ],
            [
             0.1,
             "#c51b7d"
            ],
            [
             0.2,
             "#de77ae"
            ],
            [
             0.3,
             "#f1b6da"
            ],
            [
             0.4,
             "#fde0ef"
            ],
            [
             0.5,
             "#f7f7f7"
            ],
            [
             0.6,
             "#e6f5d0"
            ],
            [
             0.7,
             "#b8e186"
            ],
            [
             0.8,
             "#7fbc41"
            ],
            [
             0.9,
             "#4d9221"
            ],
            [
             1,
             "#276419"
            ]
           ],
           "sequential": [
            [
             0,
             "#0d0887"
            ],
            [
             0.1111111111111111,
             "#46039f"
            ],
            [
             0.2222222222222222,
             "#7201a8"
            ],
            [
             0.3333333333333333,
             "#9c179e"
            ],
            [
             0.4444444444444444,
             "#bd3786"
            ],
            [
             0.5555555555555556,
             "#d8576b"
            ],
            [
             0.6666666666666666,
             "#ed7953"
            ],
            [
             0.7777777777777778,
             "#fb9f3a"
            ],
            [
             0.8888888888888888,
             "#fdca26"
            ],
            [
             1,
             "#f0f921"
            ]
           ],
           "sequentialminus": [
            [
             0,
             "#0d0887"
            ],
            [
             0.1111111111111111,
             "#46039f"
            ],
            [
             0.2222222222222222,
             "#7201a8"
            ],
            [
             0.3333333333333333,
             "#9c179e"
            ],
            [
             0.4444444444444444,
             "#bd3786"
            ],
            [
             0.5555555555555556,
             "#d8576b"
            ],
            [
             0.6666666666666666,
             "#ed7953"
            ],
            [
             0.7777777777777778,
             "#fb9f3a"
            ],
            [
             0.8888888888888888,
             "#fdca26"
            ],
            [
             1,
             "#f0f921"
            ]
           ]
          },
          "colorway": [
           "#636efa",
           "#EF553B",
           "#00cc96",
           "#ab63fa",
           "#FFA15A",
           "#19d3f3",
           "#FF6692",
           "#B6E880",
           "#FF97FF",
           "#FECB52"
          ],
          "font": {
           "color": "#2a3f5f"
          },
          "geo": {
           "bgcolor": "white",
           "lakecolor": "white",
           "landcolor": "#E5ECF6",
           "showlakes": true,
           "showland": true,
           "subunitcolor": "white"
          },
          "hoverlabel": {
           "align": "left"
          },
          "hovermode": "closest",
          "mapbox": {
           "style": "light"
          },
          "paper_bgcolor": "white",
          "plot_bgcolor": "#E5ECF6",
          "polar": {
           "angularaxis": {
            "gridcolor": "white",
            "linecolor": "white",
            "ticks": ""
           },
           "bgcolor": "#E5ECF6",
           "radialaxis": {
            "gridcolor": "white",
            "linecolor": "white",
            "ticks": ""
           }
          },
          "scene": {
           "xaxis": {
            "backgroundcolor": "#E5ECF6",
            "gridcolor": "white",
            "gridwidth": 2,
            "linecolor": "white",
            "showbackground": true,
            "ticks": "",
            "zerolinecolor": "white"
           },
           "yaxis": {
            "backgroundcolor": "#E5ECF6",
            "gridcolor": "white",
            "gridwidth": 2,
            "linecolor": "white",
            "showbackground": true,
            "ticks": "",
            "zerolinecolor": "white"
           },
           "zaxis": {
            "backgroundcolor": "#E5ECF6",
            "gridcolor": "white",
            "gridwidth": 2,
            "linecolor": "white",
            "showbackground": true,
            "ticks": "",
            "zerolinecolor": "white"
           }
          },
          "shapedefaults": {
           "line": {
            "color": "#2a3f5f"
           }
          },
          "ternary": {
           "aaxis": {
            "gridcolor": "white",
            "linecolor": "white",
            "ticks": ""
           },
           "baxis": {
            "gridcolor": "white",
            "linecolor": "white",
            "ticks": ""
           },
           "bgcolor": "#E5ECF6",
           "caxis": {
            "gridcolor": "white",
            "linecolor": "white",
            "ticks": ""
           }
          },
          "title": {
           "x": 0.05
          },
          "xaxis": {
           "automargin": true,
           "gridcolor": "white",
           "linecolor": "white",
           "ticks": "",
           "title": {
            "standoff": 15
           },
           "zerolinecolor": "white",
           "zerolinewidth": 2
          },
          "yaxis": {
           "automargin": true,
           "gridcolor": "white",
           "linecolor": "white",
           "ticks": "",
           "title": {
            "standoff": 15
           },
           "zerolinecolor": "white",
           "zerolinewidth": 2
          }
         }
        },
        "title": {
         "text": "Altura vs Pie Grupo Bajo"
        },
        "xaxis": {
         "anchor": "y",
         "domain": [
          0,
          1
         ],
         "title": {
          "text": "Altura (cm)"
         }
        },
        "yaxis": {
         "anchor": "x",
         "domain": [
          0,
          1
         ],
         "title": {
          "text": "Pie (cm)"
         }
        }
       }
      }
     },
     "metadata": {},
     "output_type": "display_data"
    }
   ],
   "source": [
    "fig1 = px.scatter(df_bajo, x=\"Altura\", y=\"Ancho\", \n",
    "                  title=\"Altura vs Ancho Grupo Bajo\", \n",
    "                  labels={\"Altura\": \"Altura (cm)\", \"Ancho\": \"Ancho (cm)\"},\n",
    "                  color_discrete_sequence=[\"blue\"])\n",
    "\n",
    "fig2 = px.scatter(df_bajo, x=\"Altura\", y=\"Pie\", \n",
    "                  title=\"Altura vs Pie Grupo Bajo\" , \n",
    "                  labels={\"Altura\": \"Altura (cm)\", \"Pie\": \"Pie (cm)\"},\n",
    "                  color_discrete_sequence=[\"red\"])\n",
    "\n",
    "fig1.show()\n",
    "fig2.show()"
   ]
  },
  {
   "cell_type": "code",
   "execution_count": 137,
   "metadata": {},
   "outputs": [
    {
     "data": {
      "application/vnd.plotly.v1+json": {
       "config": {
        "plotlyServerURL": "https://plot.ly"
       },
       "data": [
        {
         "hovertemplate": "Altura (cm)=%{x}<br>Ancho (cm)=%{y}<extra></extra>",
         "legendgroup": "",
         "marker": {
          "color": "blue",
          "symbol": "circle"
         },
         "mode": "markers",
         "name": "",
         "orientation": "v",
         "showlegend": false,
         "type": "scatter",
         "x": {
          "bdata": "EGankRYsZUD+x6nnc9dmQKCYD0nsmGVApENDhFfLZkAs49XgyLVlQIamY2xaD2hAB7uAHTCkZUANwPMMlEZmQPZmc6Rn62VAo+4LGMbdZUBhtU/i2+dmQFhgyTEAOGZAp6zsFyrNZEBq9SAxz/xkQI6k21wLJ2ZApgCQ5g7AZkCj32fGbo5lQMDwqhIw6GVAPYfH8xxXZUAKN9e2/zplQO0/Fhfq8WVAyEJgj93EZEBu8gwSGbZkQK6JgvDxx2RAdbTiSqrDZEAAAAAAACBnQAAAAAAAoGVAAAAAAACAZUAAAAAAAGBnQAAAAAAA4GVAAAAAAAAAZUAAAAAAAGBmQAAAAAAAgGVAAAAAAADAZEA=",
          "dtype": "f8"
         },
         "xaxis": "x",
         "y": {
          "bdata": "yKkRA21WSkA7JFiyVPlHQHwhNkmHEkdA1olS9wSlS0AvIfQ/tIxHQLniFdAViUpA+z52A03sR0BvohrTjtRHQOYdrJkXGUhAIFuN+cyFSkAXqWsLLmZQQJHxR6Dx0EtA36QfIkaIS0CzK3G0xi9HQIuV3YZwB0tAhi89VLJ7S0BHWFztvolFQI2mhrv8a0hAU1VQH1yxS0B04MdB/UxJQIqLLSGDN0NAXpL4lrKBRECeUYsC2fRDQJVTpfJ8Q0NAiluU8c1JR0AAAAAAAIBLQAAAAAAAAEZAAAAAAAAAR0AAAAAAAABIQAAAAAAAgEhAAAAAAACATkAAAAAAAIBLQAAAAAAAAElAAAAAAACAQ0A=",
          "dtype": "f8"
         },
         "yaxis": "y"
        }
       ],
       "layout": {
        "legend": {
         "tracegroupgap": 0
        },
        "template": {
         "data": {
          "bar": [
           {
            "error_x": {
             "color": "#2a3f5f"
            },
            "error_y": {
             "color": "#2a3f5f"
            },
            "marker": {
             "line": {
              "color": "#E5ECF6",
              "width": 0.5
             },
             "pattern": {
              "fillmode": "overlay",
              "size": 10,
              "solidity": 0.2
             }
            },
            "type": "bar"
           }
          ],
          "barpolar": [
           {
            "marker": {
             "line": {
              "color": "#E5ECF6",
              "width": 0.5
             },
             "pattern": {
              "fillmode": "overlay",
              "size": 10,
              "solidity": 0.2
             }
            },
            "type": "barpolar"
           }
          ],
          "carpet": [
           {
            "aaxis": {
             "endlinecolor": "#2a3f5f",
             "gridcolor": "white",
             "linecolor": "white",
             "minorgridcolor": "white",
             "startlinecolor": "#2a3f5f"
            },
            "baxis": {
             "endlinecolor": "#2a3f5f",
             "gridcolor": "white",
             "linecolor": "white",
             "minorgridcolor": "white",
             "startlinecolor": "#2a3f5f"
            },
            "type": "carpet"
           }
          ],
          "choropleth": [
           {
            "colorbar": {
             "outlinewidth": 0,
             "ticks": ""
            },
            "type": "choropleth"
           }
          ],
          "contour": [
           {
            "colorbar": {
             "outlinewidth": 0,
             "ticks": ""
            },
            "colorscale": [
             [
              0,
              "#0d0887"
             ],
             [
              0.1111111111111111,
              "#46039f"
             ],
             [
              0.2222222222222222,
              "#7201a8"
             ],
             [
              0.3333333333333333,
              "#9c179e"
             ],
             [
              0.4444444444444444,
              "#bd3786"
             ],
             [
              0.5555555555555556,
              "#d8576b"
             ],
             [
              0.6666666666666666,
              "#ed7953"
             ],
             [
              0.7777777777777778,
              "#fb9f3a"
             ],
             [
              0.8888888888888888,
              "#fdca26"
             ],
             [
              1,
              "#f0f921"
             ]
            ],
            "type": "contour"
           }
          ],
          "contourcarpet": [
           {
            "colorbar": {
             "outlinewidth": 0,
             "ticks": ""
            },
            "type": "contourcarpet"
           }
          ],
          "heatmap": [
           {
            "colorbar": {
             "outlinewidth": 0,
             "ticks": ""
            },
            "colorscale": [
             [
              0,
              "#0d0887"
             ],
             [
              0.1111111111111111,
              "#46039f"
             ],
             [
              0.2222222222222222,
              "#7201a8"
             ],
             [
              0.3333333333333333,
              "#9c179e"
             ],
             [
              0.4444444444444444,
              "#bd3786"
             ],
             [
              0.5555555555555556,
              "#d8576b"
             ],
             [
              0.6666666666666666,
              "#ed7953"
             ],
             [
              0.7777777777777778,
              "#fb9f3a"
             ],
             [
              0.8888888888888888,
              "#fdca26"
             ],
             [
              1,
              "#f0f921"
             ]
            ],
            "type": "heatmap"
           }
          ],
          "histogram": [
           {
            "marker": {
             "pattern": {
              "fillmode": "overlay",
              "size": 10,
              "solidity": 0.2
             }
            },
            "type": "histogram"
           }
          ],
          "histogram2d": [
           {
            "colorbar": {
             "outlinewidth": 0,
             "ticks": ""
            },
            "colorscale": [
             [
              0,
              "#0d0887"
             ],
             [
              0.1111111111111111,
              "#46039f"
             ],
             [
              0.2222222222222222,
              "#7201a8"
             ],
             [
              0.3333333333333333,
              "#9c179e"
             ],
             [
              0.4444444444444444,
              "#bd3786"
             ],
             [
              0.5555555555555556,
              "#d8576b"
             ],
             [
              0.6666666666666666,
              "#ed7953"
             ],
             [
              0.7777777777777778,
              "#fb9f3a"
             ],
             [
              0.8888888888888888,
              "#fdca26"
             ],
             [
              1,
              "#f0f921"
             ]
            ],
            "type": "histogram2d"
           }
          ],
          "histogram2dcontour": [
           {
            "colorbar": {
             "outlinewidth": 0,
             "ticks": ""
            },
            "colorscale": [
             [
              0,
              "#0d0887"
             ],
             [
              0.1111111111111111,
              "#46039f"
             ],
             [
              0.2222222222222222,
              "#7201a8"
             ],
             [
              0.3333333333333333,
              "#9c179e"
             ],
             [
              0.4444444444444444,
              "#bd3786"
             ],
             [
              0.5555555555555556,
              "#d8576b"
             ],
             [
              0.6666666666666666,
              "#ed7953"
             ],
             [
              0.7777777777777778,
              "#fb9f3a"
             ],
             [
              0.8888888888888888,
              "#fdca26"
             ],
             [
              1,
              "#f0f921"
             ]
            ],
            "type": "histogram2dcontour"
           }
          ],
          "mesh3d": [
           {
            "colorbar": {
             "outlinewidth": 0,
             "ticks": ""
            },
            "type": "mesh3d"
           }
          ],
          "parcoords": [
           {
            "line": {
             "colorbar": {
              "outlinewidth": 0,
              "ticks": ""
             }
            },
            "type": "parcoords"
           }
          ],
          "pie": [
           {
            "automargin": true,
            "type": "pie"
           }
          ],
          "scatter": [
           {
            "fillpattern": {
             "fillmode": "overlay",
             "size": 10,
             "solidity": 0.2
            },
            "type": "scatter"
           }
          ],
          "scatter3d": [
           {
            "line": {
             "colorbar": {
              "outlinewidth": 0,
              "ticks": ""
             }
            },
            "marker": {
             "colorbar": {
              "outlinewidth": 0,
              "ticks": ""
             }
            },
            "type": "scatter3d"
           }
          ],
          "scattercarpet": [
           {
            "marker": {
             "colorbar": {
              "outlinewidth": 0,
              "ticks": ""
             }
            },
            "type": "scattercarpet"
           }
          ],
          "scattergeo": [
           {
            "marker": {
             "colorbar": {
              "outlinewidth": 0,
              "ticks": ""
             }
            },
            "type": "scattergeo"
           }
          ],
          "scattergl": [
           {
            "marker": {
             "colorbar": {
              "outlinewidth": 0,
              "ticks": ""
             }
            },
            "type": "scattergl"
           }
          ],
          "scattermap": [
           {
            "marker": {
             "colorbar": {
              "outlinewidth": 0,
              "ticks": ""
             }
            },
            "type": "scattermap"
           }
          ],
          "scattermapbox": [
           {
            "marker": {
             "colorbar": {
              "outlinewidth": 0,
              "ticks": ""
             }
            },
            "type": "scattermapbox"
           }
          ],
          "scatterpolar": [
           {
            "marker": {
             "colorbar": {
              "outlinewidth": 0,
              "ticks": ""
             }
            },
            "type": "scatterpolar"
           }
          ],
          "scatterpolargl": [
           {
            "marker": {
             "colorbar": {
              "outlinewidth": 0,
              "ticks": ""
             }
            },
            "type": "scatterpolargl"
           }
          ],
          "scatterternary": [
           {
            "marker": {
             "colorbar": {
              "outlinewidth": 0,
              "ticks": ""
             }
            },
            "type": "scatterternary"
           }
          ],
          "surface": [
           {
            "colorbar": {
             "outlinewidth": 0,
             "ticks": ""
            },
            "colorscale": [
             [
              0,
              "#0d0887"
             ],
             [
              0.1111111111111111,
              "#46039f"
             ],
             [
              0.2222222222222222,
              "#7201a8"
             ],
             [
              0.3333333333333333,
              "#9c179e"
             ],
             [
              0.4444444444444444,
              "#bd3786"
             ],
             [
              0.5555555555555556,
              "#d8576b"
             ],
             [
              0.6666666666666666,
              "#ed7953"
             ],
             [
              0.7777777777777778,
              "#fb9f3a"
             ],
             [
              0.8888888888888888,
              "#fdca26"
             ],
             [
              1,
              "#f0f921"
             ]
            ],
            "type": "surface"
           }
          ],
          "table": [
           {
            "cells": {
             "fill": {
              "color": "#EBF0F8"
             },
             "line": {
              "color": "white"
             }
            },
            "header": {
             "fill": {
              "color": "#C8D4E3"
             },
             "line": {
              "color": "white"
             }
            },
            "type": "table"
           }
          ]
         },
         "layout": {
          "annotationdefaults": {
           "arrowcolor": "#2a3f5f",
           "arrowhead": 0,
           "arrowwidth": 1
          },
          "autotypenumbers": "strict",
          "coloraxis": {
           "colorbar": {
            "outlinewidth": 0,
            "ticks": ""
           }
          },
          "colorscale": {
           "diverging": [
            [
             0,
             "#8e0152"
            ],
            [
             0.1,
             "#c51b7d"
            ],
            [
             0.2,
             "#de77ae"
            ],
            [
             0.3,
             "#f1b6da"
            ],
            [
             0.4,
             "#fde0ef"
            ],
            [
             0.5,
             "#f7f7f7"
            ],
            [
             0.6,
             "#e6f5d0"
            ],
            [
             0.7,
             "#b8e186"
            ],
            [
             0.8,
             "#7fbc41"
            ],
            [
             0.9,
             "#4d9221"
            ],
            [
             1,
             "#276419"
            ]
           ],
           "sequential": [
            [
             0,
             "#0d0887"
            ],
            [
             0.1111111111111111,
             "#46039f"
            ],
            [
             0.2222222222222222,
             "#7201a8"
            ],
            [
             0.3333333333333333,
             "#9c179e"
            ],
            [
             0.4444444444444444,
             "#bd3786"
            ],
            [
             0.5555555555555556,
             "#d8576b"
            ],
            [
             0.6666666666666666,
             "#ed7953"
            ],
            [
             0.7777777777777778,
             "#fb9f3a"
            ],
            [
             0.8888888888888888,
             "#fdca26"
            ],
            [
             1,
             "#f0f921"
            ]
           ],
           "sequentialminus": [
            [
             0,
             "#0d0887"
            ],
            [
             0.1111111111111111,
             "#46039f"
            ],
            [
             0.2222222222222222,
             "#7201a8"
            ],
            [
             0.3333333333333333,
             "#9c179e"
            ],
            [
             0.4444444444444444,
             "#bd3786"
            ],
            [
             0.5555555555555556,
             "#d8576b"
            ],
            [
             0.6666666666666666,
             "#ed7953"
            ],
            [
             0.7777777777777778,
             "#fb9f3a"
            ],
            [
             0.8888888888888888,
             "#fdca26"
            ],
            [
             1,
             "#f0f921"
            ]
           ]
          },
          "colorway": [
           "#636efa",
           "#EF553B",
           "#00cc96",
           "#ab63fa",
           "#FFA15A",
           "#19d3f3",
           "#FF6692",
           "#B6E880",
           "#FF97FF",
           "#FECB52"
          ],
          "font": {
           "color": "#2a3f5f"
          },
          "geo": {
           "bgcolor": "white",
           "lakecolor": "white",
           "landcolor": "#E5ECF6",
           "showlakes": true,
           "showland": true,
           "subunitcolor": "white"
          },
          "hoverlabel": {
           "align": "left"
          },
          "hovermode": "closest",
          "mapbox": {
           "style": "light"
          },
          "paper_bgcolor": "white",
          "plot_bgcolor": "#E5ECF6",
          "polar": {
           "angularaxis": {
            "gridcolor": "white",
            "linecolor": "white",
            "ticks": ""
           },
           "bgcolor": "#E5ECF6",
           "radialaxis": {
            "gridcolor": "white",
            "linecolor": "white",
            "ticks": ""
           }
          },
          "scene": {
           "xaxis": {
            "backgroundcolor": "#E5ECF6",
            "gridcolor": "white",
            "gridwidth": 2,
            "linecolor": "white",
            "showbackground": true,
            "ticks": "",
            "zerolinecolor": "white"
           },
           "yaxis": {
            "backgroundcolor": "#E5ECF6",
            "gridcolor": "white",
            "gridwidth": 2,
            "linecolor": "white",
            "showbackground": true,
            "ticks": "",
            "zerolinecolor": "white"
           },
           "zaxis": {
            "backgroundcolor": "#E5ECF6",
            "gridcolor": "white",
            "gridwidth": 2,
            "linecolor": "white",
            "showbackground": true,
            "ticks": "",
            "zerolinecolor": "white"
           }
          },
          "shapedefaults": {
           "line": {
            "color": "#2a3f5f"
           }
          },
          "ternary": {
           "aaxis": {
            "gridcolor": "white",
            "linecolor": "white",
            "ticks": ""
           },
           "baxis": {
            "gridcolor": "white",
            "linecolor": "white",
            "ticks": ""
           },
           "bgcolor": "#E5ECF6",
           "caxis": {
            "gridcolor": "white",
            "linecolor": "white",
            "ticks": ""
           }
          },
          "title": {
           "x": 0.05
          },
          "xaxis": {
           "automargin": true,
           "gridcolor": "white",
           "linecolor": "white",
           "ticks": "",
           "title": {
            "standoff": 15
           },
           "zerolinecolor": "white",
           "zerolinewidth": 2
          },
          "yaxis": {
           "automargin": true,
           "gridcolor": "white",
           "linecolor": "white",
           "ticks": "",
           "title": {
            "standoff": 15
           },
           "zerolinecolor": "white",
           "zerolinewidth": 2
          }
         }
        },
        "title": {
         "text": "Altura vs Ancho Grupo Alto"
        },
        "xaxis": {
         "anchor": "y",
         "domain": [
          0,
          1
         ],
         "title": {
          "text": "Altura (cm)"
         }
        },
        "yaxis": {
         "anchor": "x",
         "domain": [
          0,
          1
         ],
         "title": {
          "text": "Ancho (cm)"
         }
        }
       }
      }
     },
     "metadata": {},
     "output_type": "display_data"
    },
    {
     "data": {
      "application/vnd.plotly.v1+json": {
       "config": {
        "plotlyServerURL": "https://plot.ly"
       },
       "data": [
        {
         "hovertemplate": "Altura (cm)=%{x}<br>Pie (cm)=%{y}<extra></extra>",
         "legendgroup": "",
         "marker": {
          "color": "red",
          "symbol": "circle"
         },
         "mode": "markers",
         "name": "",
         "orientation": "v",
         "showlegend": false,
         "type": "scatter",
         "x": {
          "bdata": "EGankRYsZUD+x6nnc9dmQKCYD0nsmGVApENDhFfLZkAs49XgyLVlQIamY2xaD2hAB7uAHTCkZUANwPMMlEZmQPZmc6Rn62VAo+4LGMbdZUBhtU/i2+dmQFhgyTEAOGZAp6zsFyrNZEBq9SAxz/xkQI6k21wLJ2ZApgCQ5g7AZkCj32fGbo5lQMDwqhIw6GVAPYfH8xxXZUAKN9e2/zplQO0/Fhfq8WVAyEJgj93EZEBu8gwSGbZkQK6JgvDxx2RAdbTiSqrDZEAAAAAAACBnQAAAAAAAoGVAAAAAAACAZUAAAAAAAGBnQAAAAAAA4GVAAAAAAAAAZUAAAAAAAGBmQAAAAAAAgGVAAAAAAADAZEA=",
          "dtype": "f8"
         },
         "xaxis": "x",
         "y": {
          "bdata": "1MBg2eOyO0CIM8BL/PE6QPe7n0FK/ThAcQlviW0COkB+xYROP8c6QF7DRP9FjTtABUrkqjdTPEAivhVW63o6QDb5ZomhbjtAWNfL0H5AOkDc5KjeRY48QOmt2+DofTpAalNXvt/uOkCWSo4NxmA6QJTSWD/mRDxAy1/TtUM+O0C0NLAhunc8QB05SePuijxAFoYIsRe3O0B731/7Vlk8QKjPANAaMzdAax42lzZHN0CbDVBAQzc1QD5lYRAgnjdA5Q8VucpDN0AAAAAAAAA8QAAAAAAAgDpAAAAAAAAAO0AAAAAAAAA9QAAAAAAAgDtAAAAAAAAAOkAAAAAAAAA8QAAAAAAAgDtAAAAAAACAOEA=",
          "dtype": "f8"
         },
         "yaxis": "y"
        }
       ],
       "layout": {
        "legend": {
         "tracegroupgap": 0
        },
        "template": {
         "data": {
          "bar": [
           {
            "error_x": {
             "color": "#2a3f5f"
            },
            "error_y": {
             "color": "#2a3f5f"
            },
            "marker": {
             "line": {
              "color": "#E5ECF6",
              "width": 0.5
             },
             "pattern": {
              "fillmode": "overlay",
              "size": 10,
              "solidity": 0.2
             }
            },
            "type": "bar"
           }
          ],
          "barpolar": [
           {
            "marker": {
             "line": {
              "color": "#E5ECF6",
              "width": 0.5
             },
             "pattern": {
              "fillmode": "overlay",
              "size": 10,
              "solidity": 0.2
             }
            },
            "type": "barpolar"
           }
          ],
          "carpet": [
           {
            "aaxis": {
             "endlinecolor": "#2a3f5f",
             "gridcolor": "white",
             "linecolor": "white",
             "minorgridcolor": "white",
             "startlinecolor": "#2a3f5f"
            },
            "baxis": {
             "endlinecolor": "#2a3f5f",
             "gridcolor": "white",
             "linecolor": "white",
             "minorgridcolor": "white",
             "startlinecolor": "#2a3f5f"
            },
            "type": "carpet"
           }
          ],
          "choropleth": [
           {
            "colorbar": {
             "outlinewidth": 0,
             "ticks": ""
            },
            "type": "choropleth"
           }
          ],
          "contour": [
           {
            "colorbar": {
             "outlinewidth": 0,
             "ticks": ""
            },
            "colorscale": [
             [
              0,
              "#0d0887"
             ],
             [
              0.1111111111111111,
              "#46039f"
             ],
             [
              0.2222222222222222,
              "#7201a8"
             ],
             [
              0.3333333333333333,
              "#9c179e"
             ],
             [
              0.4444444444444444,
              "#bd3786"
             ],
             [
              0.5555555555555556,
              "#d8576b"
             ],
             [
              0.6666666666666666,
              "#ed7953"
             ],
             [
              0.7777777777777778,
              "#fb9f3a"
             ],
             [
              0.8888888888888888,
              "#fdca26"
             ],
             [
              1,
              "#f0f921"
             ]
            ],
            "type": "contour"
           }
          ],
          "contourcarpet": [
           {
            "colorbar": {
             "outlinewidth": 0,
             "ticks": ""
            },
            "type": "contourcarpet"
           }
          ],
          "heatmap": [
           {
            "colorbar": {
             "outlinewidth": 0,
             "ticks": ""
            },
            "colorscale": [
             [
              0,
              "#0d0887"
             ],
             [
              0.1111111111111111,
              "#46039f"
             ],
             [
              0.2222222222222222,
              "#7201a8"
             ],
             [
              0.3333333333333333,
              "#9c179e"
             ],
             [
              0.4444444444444444,
              "#bd3786"
             ],
             [
              0.5555555555555556,
              "#d8576b"
             ],
             [
              0.6666666666666666,
              "#ed7953"
             ],
             [
              0.7777777777777778,
              "#fb9f3a"
             ],
             [
              0.8888888888888888,
              "#fdca26"
             ],
             [
              1,
              "#f0f921"
             ]
            ],
            "type": "heatmap"
           }
          ],
          "histogram": [
           {
            "marker": {
             "pattern": {
              "fillmode": "overlay",
              "size": 10,
              "solidity": 0.2
             }
            },
            "type": "histogram"
           }
          ],
          "histogram2d": [
           {
            "colorbar": {
             "outlinewidth": 0,
             "ticks": ""
            },
            "colorscale": [
             [
              0,
              "#0d0887"
             ],
             [
              0.1111111111111111,
              "#46039f"
             ],
             [
              0.2222222222222222,
              "#7201a8"
             ],
             [
              0.3333333333333333,
              "#9c179e"
             ],
             [
              0.4444444444444444,
              "#bd3786"
             ],
             [
              0.5555555555555556,
              "#d8576b"
             ],
             [
              0.6666666666666666,
              "#ed7953"
             ],
             [
              0.7777777777777778,
              "#fb9f3a"
             ],
             [
              0.8888888888888888,
              "#fdca26"
             ],
             [
              1,
              "#f0f921"
             ]
            ],
            "type": "histogram2d"
           }
          ],
          "histogram2dcontour": [
           {
            "colorbar": {
             "outlinewidth": 0,
             "ticks": ""
            },
            "colorscale": [
             [
              0,
              "#0d0887"
             ],
             [
              0.1111111111111111,
              "#46039f"
             ],
             [
              0.2222222222222222,
              "#7201a8"
             ],
             [
              0.3333333333333333,
              "#9c179e"
             ],
             [
              0.4444444444444444,
              "#bd3786"
             ],
             [
              0.5555555555555556,
              "#d8576b"
             ],
             [
              0.6666666666666666,
              "#ed7953"
             ],
             [
              0.7777777777777778,
              "#fb9f3a"
             ],
             [
              0.8888888888888888,
              "#fdca26"
             ],
             [
              1,
              "#f0f921"
             ]
            ],
            "type": "histogram2dcontour"
           }
          ],
          "mesh3d": [
           {
            "colorbar": {
             "outlinewidth": 0,
             "ticks": ""
            },
            "type": "mesh3d"
           }
          ],
          "parcoords": [
           {
            "line": {
             "colorbar": {
              "outlinewidth": 0,
              "ticks": ""
             }
            },
            "type": "parcoords"
           }
          ],
          "pie": [
           {
            "automargin": true,
            "type": "pie"
           }
          ],
          "scatter": [
           {
            "fillpattern": {
             "fillmode": "overlay",
             "size": 10,
             "solidity": 0.2
            },
            "type": "scatter"
           }
          ],
          "scatter3d": [
           {
            "line": {
             "colorbar": {
              "outlinewidth": 0,
              "ticks": ""
             }
            },
            "marker": {
             "colorbar": {
              "outlinewidth": 0,
              "ticks": ""
             }
            },
            "type": "scatter3d"
           }
          ],
          "scattercarpet": [
           {
            "marker": {
             "colorbar": {
              "outlinewidth": 0,
              "ticks": ""
             }
            },
            "type": "scattercarpet"
           }
          ],
          "scattergeo": [
           {
            "marker": {
             "colorbar": {
              "outlinewidth": 0,
              "ticks": ""
             }
            },
            "type": "scattergeo"
           }
          ],
          "scattergl": [
           {
            "marker": {
             "colorbar": {
              "outlinewidth": 0,
              "ticks": ""
             }
            },
            "type": "scattergl"
           }
          ],
          "scattermap": [
           {
            "marker": {
             "colorbar": {
              "outlinewidth": 0,
              "ticks": ""
             }
            },
            "type": "scattermap"
           }
          ],
          "scattermapbox": [
           {
            "marker": {
             "colorbar": {
              "outlinewidth": 0,
              "ticks": ""
             }
            },
            "type": "scattermapbox"
           }
          ],
          "scatterpolar": [
           {
            "marker": {
             "colorbar": {
              "outlinewidth": 0,
              "ticks": ""
             }
            },
            "type": "scatterpolar"
           }
          ],
          "scatterpolargl": [
           {
            "marker": {
             "colorbar": {
              "outlinewidth": 0,
              "ticks": ""
             }
            },
            "type": "scatterpolargl"
           }
          ],
          "scatterternary": [
           {
            "marker": {
             "colorbar": {
              "outlinewidth": 0,
              "ticks": ""
             }
            },
            "type": "scatterternary"
           }
          ],
          "surface": [
           {
            "colorbar": {
             "outlinewidth": 0,
             "ticks": ""
            },
            "colorscale": [
             [
              0,
              "#0d0887"
             ],
             [
              0.1111111111111111,
              "#46039f"
             ],
             [
              0.2222222222222222,
              "#7201a8"
             ],
             [
              0.3333333333333333,
              "#9c179e"
             ],
             [
              0.4444444444444444,
              "#bd3786"
             ],
             [
              0.5555555555555556,
              "#d8576b"
             ],
             [
              0.6666666666666666,
              "#ed7953"
             ],
             [
              0.7777777777777778,
              "#fb9f3a"
             ],
             [
              0.8888888888888888,
              "#fdca26"
             ],
             [
              1,
              "#f0f921"
             ]
            ],
            "type": "surface"
           }
          ],
          "table": [
           {
            "cells": {
             "fill": {
              "color": "#EBF0F8"
             },
             "line": {
              "color": "white"
             }
            },
            "header": {
             "fill": {
              "color": "#C8D4E3"
             },
             "line": {
              "color": "white"
             }
            },
            "type": "table"
           }
          ]
         },
         "layout": {
          "annotationdefaults": {
           "arrowcolor": "#2a3f5f",
           "arrowhead": 0,
           "arrowwidth": 1
          },
          "autotypenumbers": "strict",
          "coloraxis": {
           "colorbar": {
            "outlinewidth": 0,
            "ticks": ""
           }
          },
          "colorscale": {
           "diverging": [
            [
             0,
             "#8e0152"
            ],
            [
             0.1,
             "#c51b7d"
            ],
            [
             0.2,
             "#de77ae"
            ],
            [
             0.3,
             "#f1b6da"
            ],
            [
             0.4,
             "#fde0ef"
            ],
            [
             0.5,
             "#f7f7f7"
            ],
            [
             0.6,
             "#e6f5d0"
            ],
            [
             0.7,
             "#b8e186"
            ],
            [
             0.8,
             "#7fbc41"
            ],
            [
             0.9,
             "#4d9221"
            ],
            [
             1,
             "#276419"
            ]
           ],
           "sequential": [
            [
             0,
             "#0d0887"
            ],
            [
             0.1111111111111111,
             "#46039f"
            ],
            [
             0.2222222222222222,
             "#7201a8"
            ],
            [
             0.3333333333333333,
             "#9c179e"
            ],
            [
             0.4444444444444444,
             "#bd3786"
            ],
            [
             0.5555555555555556,
             "#d8576b"
            ],
            [
             0.6666666666666666,
             "#ed7953"
            ],
            [
             0.7777777777777778,
             "#fb9f3a"
            ],
            [
             0.8888888888888888,
             "#fdca26"
            ],
            [
             1,
             "#f0f921"
            ]
           ],
           "sequentialminus": [
            [
             0,
             "#0d0887"
            ],
            [
             0.1111111111111111,
             "#46039f"
            ],
            [
             0.2222222222222222,
             "#7201a8"
            ],
            [
             0.3333333333333333,
             "#9c179e"
            ],
            [
             0.4444444444444444,
             "#bd3786"
            ],
            [
             0.5555555555555556,
             "#d8576b"
            ],
            [
             0.6666666666666666,
             "#ed7953"
            ],
            [
             0.7777777777777778,
             "#fb9f3a"
            ],
            [
             0.8888888888888888,
             "#fdca26"
            ],
            [
             1,
             "#f0f921"
            ]
           ]
          },
          "colorway": [
           "#636efa",
           "#EF553B",
           "#00cc96",
           "#ab63fa",
           "#FFA15A",
           "#19d3f3",
           "#FF6692",
           "#B6E880",
           "#FF97FF",
           "#FECB52"
          ],
          "font": {
           "color": "#2a3f5f"
          },
          "geo": {
           "bgcolor": "white",
           "lakecolor": "white",
           "landcolor": "#E5ECF6",
           "showlakes": true,
           "showland": true,
           "subunitcolor": "white"
          },
          "hoverlabel": {
           "align": "left"
          },
          "hovermode": "closest",
          "mapbox": {
           "style": "light"
          },
          "paper_bgcolor": "white",
          "plot_bgcolor": "#E5ECF6",
          "polar": {
           "angularaxis": {
            "gridcolor": "white",
            "linecolor": "white",
            "ticks": ""
           },
           "bgcolor": "#E5ECF6",
           "radialaxis": {
            "gridcolor": "white",
            "linecolor": "white",
            "ticks": ""
           }
          },
          "scene": {
           "xaxis": {
            "backgroundcolor": "#E5ECF6",
            "gridcolor": "white",
            "gridwidth": 2,
            "linecolor": "white",
            "showbackground": true,
            "ticks": "",
            "zerolinecolor": "white"
           },
           "yaxis": {
            "backgroundcolor": "#E5ECF6",
            "gridcolor": "white",
            "gridwidth": 2,
            "linecolor": "white",
            "showbackground": true,
            "ticks": "",
            "zerolinecolor": "white"
           },
           "zaxis": {
            "backgroundcolor": "#E5ECF6",
            "gridcolor": "white",
            "gridwidth": 2,
            "linecolor": "white",
            "showbackground": true,
            "ticks": "",
            "zerolinecolor": "white"
           }
          },
          "shapedefaults": {
           "line": {
            "color": "#2a3f5f"
           }
          },
          "ternary": {
           "aaxis": {
            "gridcolor": "white",
            "linecolor": "white",
            "ticks": ""
           },
           "baxis": {
            "gridcolor": "white",
            "linecolor": "white",
            "ticks": ""
           },
           "bgcolor": "#E5ECF6",
           "caxis": {
            "gridcolor": "white",
            "linecolor": "white",
            "ticks": ""
           }
          },
          "title": {
           "x": 0.05
          },
          "xaxis": {
           "automargin": true,
           "gridcolor": "white",
           "linecolor": "white",
           "ticks": "",
           "title": {
            "standoff": 15
           },
           "zerolinecolor": "white",
           "zerolinewidth": 2
          },
          "yaxis": {
           "automargin": true,
           "gridcolor": "white",
           "linecolor": "white",
           "ticks": "",
           "title": {
            "standoff": 15
           },
           "zerolinecolor": "white",
           "zerolinewidth": 2
          }
         }
        },
        "title": {
         "text": "Altura vs Pie Grupo Alto"
        },
        "xaxis": {
         "anchor": "y",
         "domain": [
          0,
          1
         ],
         "title": {
          "text": "Altura (cm)"
         }
        },
        "yaxis": {
         "anchor": "x",
         "domain": [
          0,
          1
         ],
         "title": {
          "text": "Pie (cm)"
         }
        }
       }
      }
     },
     "metadata": {},
     "output_type": "display_data"
    }
   ],
   "source": [
    "fig1 = px.scatter(df_alto, x=\"Altura\", y=\"Ancho\", \n",
    "                  title=\"Altura vs Ancho Grupo Alto\", \n",
    "                  labels={\"Altura\": \"Altura (cm)\", \"Ancho\": \"Ancho (cm)\"},\n",
    "                  color_discrete_sequence=[\"blue\"])\n",
    "\n",
    "fig2 = px.scatter(df_alto, x=\"Altura\", y=\"Pie\", \n",
    "                  title=\"Altura vs Pie Grupo Alto\" , \n",
    "                  labels={\"Altura\": \"Altura (cm)\", \"Pie\": \"Pie (cm)\"},\n",
    "                  color_discrete_sequence=[\"red\"])\n",
    "\n",
    "fig1.show()\n",
    "fig2.show()"
   ]
  },
  {
   "cell_type": "code",
   "execution_count": 138,
   "metadata": {},
   "outputs": [
    {
     "data": {
      "text/html": [
       "<style>#sk-container-id-13 {\n",
       "  /* Definition of color scheme common for light and dark mode */\n",
       "  --sklearn-color-text: #000;\n",
       "  --sklearn-color-text-muted: #666;\n",
       "  --sklearn-color-line: gray;\n",
       "  /* Definition of color scheme for unfitted estimators */\n",
       "  --sklearn-color-unfitted-level-0: #fff5e6;\n",
       "  --sklearn-color-unfitted-level-1: #f6e4d2;\n",
       "  --sklearn-color-unfitted-level-2: #ffe0b3;\n",
       "  --sklearn-color-unfitted-level-3: chocolate;\n",
       "  /* Definition of color scheme for fitted estimators */\n",
       "  --sklearn-color-fitted-level-0: #f0f8ff;\n",
       "  --sklearn-color-fitted-level-1: #d4ebff;\n",
       "  --sklearn-color-fitted-level-2: #b3dbfd;\n",
       "  --sklearn-color-fitted-level-3: cornflowerblue;\n",
       "\n",
       "  /* Specific color for light theme */\n",
       "  --sklearn-color-text-on-default-background: var(--sg-text-color, var(--theme-code-foreground, var(--jp-content-font-color1, black)));\n",
       "  --sklearn-color-background: var(--sg-background-color, var(--theme-background, var(--jp-layout-color0, white)));\n",
       "  --sklearn-color-border-box: var(--sg-text-color, var(--theme-code-foreground, var(--jp-content-font-color1, black)));\n",
       "  --sklearn-color-icon: #696969;\n",
       "\n",
       "  @media (prefers-color-scheme: dark) {\n",
       "    /* Redefinition of color scheme for dark theme */\n",
       "    --sklearn-color-text-on-default-background: var(--sg-text-color, var(--theme-code-foreground, var(--jp-content-font-color1, white)));\n",
       "    --sklearn-color-background: var(--sg-background-color, var(--theme-background, var(--jp-layout-color0, #111)));\n",
       "    --sklearn-color-border-box: var(--sg-text-color, var(--theme-code-foreground, var(--jp-content-font-color1, white)));\n",
       "    --sklearn-color-icon: #878787;\n",
       "  }\n",
       "}\n",
       "\n",
       "#sk-container-id-13 {\n",
       "  color: var(--sklearn-color-text);\n",
       "}\n",
       "\n",
       "#sk-container-id-13 pre {\n",
       "  padding: 0;\n",
       "}\n",
       "\n",
       "#sk-container-id-13 input.sk-hidden--visually {\n",
       "  border: 0;\n",
       "  clip: rect(1px 1px 1px 1px);\n",
       "  clip: rect(1px, 1px, 1px, 1px);\n",
       "  height: 1px;\n",
       "  margin: -1px;\n",
       "  overflow: hidden;\n",
       "  padding: 0;\n",
       "  position: absolute;\n",
       "  width: 1px;\n",
       "}\n",
       "\n",
       "#sk-container-id-13 div.sk-dashed-wrapped {\n",
       "  border: 1px dashed var(--sklearn-color-line);\n",
       "  margin: 0 0.4em 0.5em 0.4em;\n",
       "  box-sizing: border-box;\n",
       "  padding-bottom: 0.4em;\n",
       "  background-color: var(--sklearn-color-background);\n",
       "}\n",
       "\n",
       "#sk-container-id-13 div.sk-container {\n",
       "  /* jupyter's `normalize.less` sets `[hidden] { display: none; }`\n",
       "     but bootstrap.min.css set `[hidden] { display: none !important; }`\n",
       "     so we also need the `!important` here to be able to override the\n",
       "     default hidden behavior on the sphinx rendered scikit-learn.org.\n",
       "     See: https://github.com/scikit-learn/scikit-learn/issues/21755 */\n",
       "  display: inline-block !important;\n",
       "  position: relative;\n",
       "}\n",
       "\n",
       "#sk-container-id-13 div.sk-text-repr-fallback {\n",
       "  display: none;\n",
       "}\n",
       "\n",
       "div.sk-parallel-item,\n",
       "div.sk-serial,\n",
       "div.sk-item {\n",
       "  /* draw centered vertical line to link estimators */\n",
       "  background-image: linear-gradient(var(--sklearn-color-text-on-default-background), var(--sklearn-color-text-on-default-background));\n",
       "  background-size: 2px 100%;\n",
       "  background-repeat: no-repeat;\n",
       "  background-position: center center;\n",
       "}\n",
       "\n",
       "/* Parallel-specific style estimator block */\n",
       "\n",
       "#sk-container-id-13 div.sk-parallel-item::after {\n",
       "  content: \"\";\n",
       "  width: 100%;\n",
       "  border-bottom: 2px solid var(--sklearn-color-text-on-default-background);\n",
       "  flex-grow: 1;\n",
       "}\n",
       "\n",
       "#sk-container-id-13 div.sk-parallel {\n",
       "  display: flex;\n",
       "  align-items: stretch;\n",
       "  justify-content: center;\n",
       "  background-color: var(--sklearn-color-background);\n",
       "  position: relative;\n",
       "}\n",
       "\n",
       "#sk-container-id-13 div.sk-parallel-item {\n",
       "  display: flex;\n",
       "  flex-direction: column;\n",
       "}\n",
       "\n",
       "#sk-container-id-13 div.sk-parallel-item:first-child::after {\n",
       "  align-self: flex-end;\n",
       "  width: 50%;\n",
       "}\n",
       "\n",
       "#sk-container-id-13 div.sk-parallel-item:last-child::after {\n",
       "  align-self: flex-start;\n",
       "  width: 50%;\n",
       "}\n",
       "\n",
       "#sk-container-id-13 div.sk-parallel-item:only-child::after {\n",
       "  width: 0;\n",
       "}\n",
       "\n",
       "/* Serial-specific style estimator block */\n",
       "\n",
       "#sk-container-id-13 div.sk-serial {\n",
       "  display: flex;\n",
       "  flex-direction: column;\n",
       "  align-items: center;\n",
       "  background-color: var(--sklearn-color-background);\n",
       "  padding-right: 1em;\n",
       "  padding-left: 1em;\n",
       "}\n",
       "\n",
       "\n",
       "/* Toggleable style: style used for estimator/Pipeline/ColumnTransformer box that is\n",
       "clickable and can be expanded/collapsed.\n",
       "- Pipeline and ColumnTransformer use this feature and define the default style\n",
       "- Estimators will overwrite some part of the style using the `sk-estimator` class\n",
       "*/\n",
       "\n",
       "/* Pipeline and ColumnTransformer style (default) */\n",
       "\n",
       "#sk-container-id-13 div.sk-toggleable {\n",
       "  /* Default theme specific background. It is overwritten whether we have a\n",
       "  specific estimator or a Pipeline/ColumnTransformer */\n",
       "  background-color: var(--sklearn-color-background);\n",
       "}\n",
       "\n",
       "/* Toggleable label */\n",
       "#sk-container-id-13 label.sk-toggleable__label {\n",
       "  cursor: pointer;\n",
       "  display: flex;\n",
       "  width: 100%;\n",
       "  margin-bottom: 0;\n",
       "  padding: 0.5em;\n",
       "  box-sizing: border-box;\n",
       "  text-align: center;\n",
       "  align-items: start;\n",
       "  justify-content: space-between;\n",
       "  gap: 0.5em;\n",
       "}\n",
       "\n",
       "#sk-container-id-13 label.sk-toggleable__label .caption {\n",
       "  font-size: 0.6rem;\n",
       "  font-weight: lighter;\n",
       "  color: var(--sklearn-color-text-muted);\n",
       "}\n",
       "\n",
       "#sk-container-id-13 label.sk-toggleable__label-arrow:before {\n",
       "  /* Arrow on the left of the label */\n",
       "  content: \"▸\";\n",
       "  float: left;\n",
       "  margin-right: 0.25em;\n",
       "  color: var(--sklearn-color-icon);\n",
       "}\n",
       "\n",
       "#sk-container-id-13 label.sk-toggleable__label-arrow:hover:before {\n",
       "  color: var(--sklearn-color-text);\n",
       "}\n",
       "\n",
       "/* Toggleable content - dropdown */\n",
       "\n",
       "#sk-container-id-13 div.sk-toggleable__content {\n",
       "  max-height: 0;\n",
       "  max-width: 0;\n",
       "  overflow: hidden;\n",
       "  text-align: left;\n",
       "  /* unfitted */\n",
       "  background-color: var(--sklearn-color-unfitted-level-0);\n",
       "}\n",
       "\n",
       "#sk-container-id-13 div.sk-toggleable__content.fitted {\n",
       "  /* fitted */\n",
       "  background-color: var(--sklearn-color-fitted-level-0);\n",
       "}\n",
       "\n",
       "#sk-container-id-13 div.sk-toggleable__content pre {\n",
       "  margin: 0.2em;\n",
       "  border-radius: 0.25em;\n",
       "  color: var(--sklearn-color-text);\n",
       "  /* unfitted */\n",
       "  background-color: var(--sklearn-color-unfitted-level-0);\n",
       "}\n",
       "\n",
       "#sk-container-id-13 div.sk-toggleable__content.fitted pre {\n",
       "  /* unfitted */\n",
       "  background-color: var(--sklearn-color-fitted-level-0);\n",
       "}\n",
       "\n",
       "#sk-container-id-13 input.sk-toggleable__control:checked~div.sk-toggleable__content {\n",
       "  /* Expand drop-down */\n",
       "  max-height: 200px;\n",
       "  max-width: 100%;\n",
       "  overflow: auto;\n",
       "}\n",
       "\n",
       "#sk-container-id-13 input.sk-toggleable__control:checked~label.sk-toggleable__label-arrow:before {\n",
       "  content: \"▾\";\n",
       "}\n",
       "\n",
       "/* Pipeline/ColumnTransformer-specific style */\n",
       "\n",
       "#sk-container-id-13 div.sk-label input.sk-toggleable__control:checked~label.sk-toggleable__label {\n",
       "  color: var(--sklearn-color-text);\n",
       "  background-color: var(--sklearn-color-unfitted-level-2);\n",
       "}\n",
       "\n",
       "#sk-container-id-13 div.sk-label.fitted input.sk-toggleable__control:checked~label.sk-toggleable__label {\n",
       "  background-color: var(--sklearn-color-fitted-level-2);\n",
       "}\n",
       "\n",
       "/* Estimator-specific style */\n",
       "\n",
       "/* Colorize estimator box */\n",
       "#sk-container-id-13 div.sk-estimator input.sk-toggleable__control:checked~label.sk-toggleable__label {\n",
       "  /* unfitted */\n",
       "  background-color: var(--sklearn-color-unfitted-level-2);\n",
       "}\n",
       "\n",
       "#sk-container-id-13 div.sk-estimator.fitted input.sk-toggleable__control:checked~label.sk-toggleable__label {\n",
       "  /* fitted */\n",
       "  background-color: var(--sklearn-color-fitted-level-2);\n",
       "}\n",
       "\n",
       "#sk-container-id-13 div.sk-label label.sk-toggleable__label,\n",
       "#sk-container-id-13 div.sk-label label {\n",
       "  /* The background is the default theme color */\n",
       "  color: var(--sklearn-color-text-on-default-background);\n",
       "}\n",
       "\n",
       "/* On hover, darken the color of the background */\n",
       "#sk-container-id-13 div.sk-label:hover label.sk-toggleable__label {\n",
       "  color: var(--sklearn-color-text);\n",
       "  background-color: var(--sklearn-color-unfitted-level-2);\n",
       "}\n",
       "\n",
       "/* Label box, darken color on hover, fitted */\n",
       "#sk-container-id-13 div.sk-label.fitted:hover label.sk-toggleable__label.fitted {\n",
       "  color: var(--sklearn-color-text);\n",
       "  background-color: var(--sklearn-color-fitted-level-2);\n",
       "}\n",
       "\n",
       "/* Estimator label */\n",
       "\n",
       "#sk-container-id-13 div.sk-label label {\n",
       "  font-family: monospace;\n",
       "  font-weight: bold;\n",
       "  display: inline-block;\n",
       "  line-height: 1.2em;\n",
       "}\n",
       "\n",
       "#sk-container-id-13 div.sk-label-container {\n",
       "  text-align: center;\n",
       "}\n",
       "\n",
       "/* Estimator-specific */\n",
       "#sk-container-id-13 div.sk-estimator {\n",
       "  font-family: monospace;\n",
       "  border: 1px dotted var(--sklearn-color-border-box);\n",
       "  border-radius: 0.25em;\n",
       "  box-sizing: border-box;\n",
       "  margin-bottom: 0.5em;\n",
       "  /* unfitted */\n",
       "  background-color: var(--sklearn-color-unfitted-level-0);\n",
       "}\n",
       "\n",
       "#sk-container-id-13 div.sk-estimator.fitted {\n",
       "  /* fitted */\n",
       "  background-color: var(--sklearn-color-fitted-level-0);\n",
       "}\n",
       "\n",
       "/* on hover */\n",
       "#sk-container-id-13 div.sk-estimator:hover {\n",
       "  /* unfitted */\n",
       "  background-color: var(--sklearn-color-unfitted-level-2);\n",
       "}\n",
       "\n",
       "#sk-container-id-13 div.sk-estimator.fitted:hover {\n",
       "  /* fitted */\n",
       "  background-color: var(--sklearn-color-fitted-level-2);\n",
       "}\n",
       "\n",
       "/* Specification for estimator info (e.g. \"i\" and \"?\") */\n",
       "\n",
       "/* Common style for \"i\" and \"?\" */\n",
       "\n",
       ".sk-estimator-doc-link,\n",
       "a:link.sk-estimator-doc-link,\n",
       "a:visited.sk-estimator-doc-link {\n",
       "  float: right;\n",
       "  font-size: smaller;\n",
       "  line-height: 1em;\n",
       "  font-family: monospace;\n",
       "  background-color: var(--sklearn-color-background);\n",
       "  border-radius: 1em;\n",
       "  height: 1em;\n",
       "  width: 1em;\n",
       "  text-decoration: none !important;\n",
       "  margin-left: 0.5em;\n",
       "  text-align: center;\n",
       "  /* unfitted */\n",
       "  border: var(--sklearn-color-unfitted-level-1) 1pt solid;\n",
       "  color: var(--sklearn-color-unfitted-level-1);\n",
       "}\n",
       "\n",
       ".sk-estimator-doc-link.fitted,\n",
       "a:link.sk-estimator-doc-link.fitted,\n",
       "a:visited.sk-estimator-doc-link.fitted {\n",
       "  /* fitted */\n",
       "  border: var(--sklearn-color-fitted-level-1) 1pt solid;\n",
       "  color: var(--sklearn-color-fitted-level-1);\n",
       "}\n",
       "\n",
       "/* On hover */\n",
       "div.sk-estimator:hover .sk-estimator-doc-link:hover,\n",
       ".sk-estimator-doc-link:hover,\n",
       "div.sk-label-container:hover .sk-estimator-doc-link:hover,\n",
       ".sk-estimator-doc-link:hover {\n",
       "  /* unfitted */\n",
       "  background-color: var(--sklearn-color-unfitted-level-3);\n",
       "  color: var(--sklearn-color-background);\n",
       "  text-decoration: none;\n",
       "}\n",
       "\n",
       "div.sk-estimator.fitted:hover .sk-estimator-doc-link.fitted:hover,\n",
       ".sk-estimator-doc-link.fitted:hover,\n",
       "div.sk-label-container:hover .sk-estimator-doc-link.fitted:hover,\n",
       ".sk-estimator-doc-link.fitted:hover {\n",
       "  /* fitted */\n",
       "  background-color: var(--sklearn-color-fitted-level-3);\n",
       "  color: var(--sklearn-color-background);\n",
       "  text-decoration: none;\n",
       "}\n",
       "\n",
       "/* Span, style for the box shown on hovering the info icon */\n",
       ".sk-estimator-doc-link span {\n",
       "  display: none;\n",
       "  z-index: 9999;\n",
       "  position: relative;\n",
       "  font-weight: normal;\n",
       "  right: .2ex;\n",
       "  padding: .5ex;\n",
       "  margin: .5ex;\n",
       "  width: min-content;\n",
       "  min-width: 20ex;\n",
       "  max-width: 50ex;\n",
       "  color: var(--sklearn-color-text);\n",
       "  box-shadow: 2pt 2pt 4pt #999;\n",
       "  /* unfitted */\n",
       "  background: var(--sklearn-color-unfitted-level-0);\n",
       "  border: .5pt solid var(--sklearn-color-unfitted-level-3);\n",
       "}\n",
       "\n",
       ".sk-estimator-doc-link.fitted span {\n",
       "  /* fitted */\n",
       "  background: var(--sklearn-color-fitted-level-0);\n",
       "  border: var(--sklearn-color-fitted-level-3);\n",
       "}\n",
       "\n",
       ".sk-estimator-doc-link:hover span {\n",
       "  display: block;\n",
       "}\n",
       "\n",
       "/* \"?\"-specific style due to the `<a>` HTML tag */\n",
       "\n",
       "#sk-container-id-13 a.estimator_doc_link {\n",
       "  float: right;\n",
       "  font-size: 1rem;\n",
       "  line-height: 1em;\n",
       "  font-family: monospace;\n",
       "  background-color: var(--sklearn-color-background);\n",
       "  border-radius: 1rem;\n",
       "  height: 1rem;\n",
       "  width: 1rem;\n",
       "  text-decoration: none;\n",
       "  /* unfitted */\n",
       "  color: var(--sklearn-color-unfitted-level-1);\n",
       "  border: var(--sklearn-color-unfitted-level-1) 1pt solid;\n",
       "}\n",
       "\n",
       "#sk-container-id-13 a.estimator_doc_link.fitted {\n",
       "  /* fitted */\n",
       "  border: var(--sklearn-color-fitted-level-1) 1pt solid;\n",
       "  color: var(--sklearn-color-fitted-level-1);\n",
       "}\n",
       "\n",
       "/* On hover */\n",
       "#sk-container-id-13 a.estimator_doc_link:hover {\n",
       "  /* unfitted */\n",
       "  background-color: var(--sklearn-color-unfitted-level-3);\n",
       "  color: var(--sklearn-color-background);\n",
       "  text-decoration: none;\n",
       "}\n",
       "\n",
       "#sk-container-id-13 a.estimator_doc_link.fitted:hover {\n",
       "  /* fitted */\n",
       "  background-color: var(--sklearn-color-fitted-level-3);\n",
       "}\n",
       "</style><div id=\"sk-container-id-13\" class=\"sk-top-container\"><div class=\"sk-text-repr-fallback\"><pre>LinearRegression()</pre><b>In a Jupyter environment, please rerun this cell to show the HTML representation or trust the notebook. <br />On GitHub, the HTML representation is unable to render, please try loading this page with nbviewer.org.</b></div><div class=\"sk-container\" hidden><div class=\"sk-item\"><div class=\"sk-estimator fitted sk-toggleable\"><input class=\"sk-toggleable__control sk-hidden--visually\" id=\"sk-estimator-id-23\" type=\"checkbox\" checked><label for=\"sk-estimator-id-23\" class=\"sk-toggleable__label fitted sk-toggleable__label-arrow\"><div><div>LinearRegression</div></div><div><a class=\"sk-estimator-doc-link fitted\" rel=\"noreferrer\" target=\"_blank\" href=\"https://scikit-learn.org/1.6/modules/generated/sklearn.linear_model.LinearRegression.html\">?<span>Documentation for LinearRegression</span></a><span class=\"sk-estimator-doc-link fitted\">i<span>Fitted</span></span></div></label><div class=\"sk-toggleable__content fitted\"><pre>LinearRegression()</pre></div> </div></div></div></div>"
      ],
      "text/plain": [
       "LinearRegression()"
      ]
     },
     "execution_count": 138,
     "metadata": {},
     "output_type": "execute_result"
    }
   ],
   "source": [
    "X_bajo = df_bajo[['Pie', 'Ancho']]\n",
    "y_bajo = df_bajo['Altura']\n",
    "\n",
    "X_alto = df_alto[['Pie', 'Ancho']]\n",
    "y_alto = df_alto['Altura']\n",
    "\n",
    "X_train_bajo, X_test_bajo, y_train_bajo, y_test_bajo = train_test_split(X_bajo, y_bajo, test_size=0.2, random_state=42)\n",
    "X_train_alto, X_test_alto, y_train_alto, y_test_alto = train_test_split(X_alto, y_alto, test_size=0.2, random_state=42)\n",
    "\n",
    "model_bajo = LinearRegression()\n",
    "model_bajo.fit(X_train_bajo, y_train_bajo)\n",
    "\n",
    "model_alto = LinearRegression()\n",
    "model_alto.fit(X_train_alto, y_train_alto)"
   ]
  },
  {
   "cell_type": "code",
   "execution_count": 139,
   "metadata": {},
   "outputs": [],
   "source": [
    "y_pred_bajo = model_bajo.predict(X_test_bajo)\n",
    "y_pred_alto = model_alto.predict(X_test_alto)"
   ]
  },
  {
   "cell_type": "code",
   "execution_count": 140,
   "metadata": {},
   "outputs": [
    {
     "data": {
      "application/vnd.plotly.v1+json": {
       "config": {
        "plotlyServerURL": "https://plot.ly"
       },
       "data": [
        {
         "marker": {
          "color": "blue"
         },
         "mode": "markers",
         "name": "Datos (Bajo)",
         "type": "scatter",
         "x": {
          "bdata": "WjMSPo0pZEAHxGIn4XlkQAAAAAAA4GNAAAAAAABAZEBDtke5aCpkQDs1yiFu12NAjAUSCsJsY0A=",
          "dtype": "f8"
         },
         "y": {
          "bdata": "1wix46DcY0Ct1VDopehjQPgawhRs3WNAMrj9PFklZECRYHtwxNJjQK3pBN2njWNAZsh+TI4GZEA=",
          "dtype": "f8"
         }
        },
        {
         "line": {
          "color": "red",
          "dash": "dash"
         },
         "mode": "lines",
         "name": "Línea Ideal",
         "type": "scatter",
         "x": {
          "bdata": "WjMSPo0pZEAHxGIn4XlkQAAAAAAA4GNAAAAAAABAZEBDtke5aCpkQDs1yiFu12NAjAUSCsJsY0A=",
          "dtype": "f8"
         },
         "y": {
          "bdata": "WjMSPo0pZEAHxGIn4XlkQAAAAAAA4GNAAAAAAABAZEBDtke5aCpkQDs1yiFu12NAjAUSCsJsY0A=",
          "dtype": "f8"
         }
        }
       ],
       "layout": {
        "height": 500,
        "template": {
         "data": {
          "bar": [
           {
            "error_x": {
             "color": "#2a3f5f"
            },
            "error_y": {
             "color": "#2a3f5f"
            },
            "marker": {
             "line": {
              "color": "#E5ECF6",
              "width": 0.5
             },
             "pattern": {
              "fillmode": "overlay",
              "size": 10,
              "solidity": 0.2
             }
            },
            "type": "bar"
           }
          ],
          "barpolar": [
           {
            "marker": {
             "line": {
              "color": "#E5ECF6",
              "width": 0.5
             },
             "pattern": {
              "fillmode": "overlay",
              "size": 10,
              "solidity": 0.2
             }
            },
            "type": "barpolar"
           }
          ],
          "carpet": [
           {
            "aaxis": {
             "endlinecolor": "#2a3f5f",
             "gridcolor": "white",
             "linecolor": "white",
             "minorgridcolor": "white",
             "startlinecolor": "#2a3f5f"
            },
            "baxis": {
             "endlinecolor": "#2a3f5f",
             "gridcolor": "white",
             "linecolor": "white",
             "minorgridcolor": "white",
             "startlinecolor": "#2a3f5f"
            },
            "type": "carpet"
           }
          ],
          "choropleth": [
           {
            "colorbar": {
             "outlinewidth": 0,
             "ticks": ""
            },
            "type": "choropleth"
           }
          ],
          "contour": [
           {
            "colorbar": {
             "outlinewidth": 0,
             "ticks": ""
            },
            "colorscale": [
             [
              0,
              "#0d0887"
             ],
             [
              0.1111111111111111,
              "#46039f"
             ],
             [
              0.2222222222222222,
              "#7201a8"
             ],
             [
              0.3333333333333333,
              "#9c179e"
             ],
             [
              0.4444444444444444,
              "#bd3786"
             ],
             [
              0.5555555555555556,
              "#d8576b"
             ],
             [
              0.6666666666666666,
              "#ed7953"
             ],
             [
              0.7777777777777778,
              "#fb9f3a"
             ],
             [
              0.8888888888888888,
              "#fdca26"
             ],
             [
              1,
              "#f0f921"
             ]
            ],
            "type": "contour"
           }
          ],
          "contourcarpet": [
           {
            "colorbar": {
             "outlinewidth": 0,
             "ticks": ""
            },
            "type": "contourcarpet"
           }
          ],
          "heatmap": [
           {
            "colorbar": {
             "outlinewidth": 0,
             "ticks": ""
            },
            "colorscale": [
             [
              0,
              "#0d0887"
             ],
             [
              0.1111111111111111,
              "#46039f"
             ],
             [
              0.2222222222222222,
              "#7201a8"
             ],
             [
              0.3333333333333333,
              "#9c179e"
             ],
             [
              0.4444444444444444,
              "#bd3786"
             ],
             [
              0.5555555555555556,
              "#d8576b"
             ],
             [
              0.6666666666666666,
              "#ed7953"
             ],
             [
              0.7777777777777778,
              "#fb9f3a"
             ],
             [
              0.8888888888888888,
              "#fdca26"
             ],
             [
              1,
              "#f0f921"
             ]
            ],
            "type": "heatmap"
           }
          ],
          "histogram": [
           {
            "marker": {
             "pattern": {
              "fillmode": "overlay",
              "size": 10,
              "solidity": 0.2
             }
            },
            "type": "histogram"
           }
          ],
          "histogram2d": [
           {
            "colorbar": {
             "outlinewidth": 0,
             "ticks": ""
            },
            "colorscale": [
             [
              0,
              "#0d0887"
             ],
             [
              0.1111111111111111,
              "#46039f"
             ],
             [
              0.2222222222222222,
              "#7201a8"
             ],
             [
              0.3333333333333333,
              "#9c179e"
             ],
             [
              0.4444444444444444,
              "#bd3786"
             ],
             [
              0.5555555555555556,
              "#d8576b"
             ],
             [
              0.6666666666666666,
              "#ed7953"
             ],
             [
              0.7777777777777778,
              "#fb9f3a"
             ],
             [
              0.8888888888888888,
              "#fdca26"
             ],
             [
              1,
              "#f0f921"
             ]
            ],
            "type": "histogram2d"
           }
          ],
          "histogram2dcontour": [
           {
            "colorbar": {
             "outlinewidth": 0,
             "ticks": ""
            },
            "colorscale": [
             [
              0,
              "#0d0887"
             ],
             [
              0.1111111111111111,
              "#46039f"
             ],
             [
              0.2222222222222222,
              "#7201a8"
             ],
             [
              0.3333333333333333,
              "#9c179e"
             ],
             [
              0.4444444444444444,
              "#bd3786"
             ],
             [
              0.5555555555555556,
              "#d8576b"
             ],
             [
              0.6666666666666666,
              "#ed7953"
             ],
             [
              0.7777777777777778,
              "#fb9f3a"
             ],
             [
              0.8888888888888888,
              "#fdca26"
             ],
             [
              1,
              "#f0f921"
             ]
            ],
            "type": "histogram2dcontour"
           }
          ],
          "mesh3d": [
           {
            "colorbar": {
             "outlinewidth": 0,
             "ticks": ""
            },
            "type": "mesh3d"
           }
          ],
          "parcoords": [
           {
            "line": {
             "colorbar": {
              "outlinewidth": 0,
              "ticks": ""
             }
            },
            "type": "parcoords"
           }
          ],
          "pie": [
           {
            "automargin": true,
            "type": "pie"
           }
          ],
          "scatter": [
           {
            "fillpattern": {
             "fillmode": "overlay",
             "size": 10,
             "solidity": 0.2
            },
            "type": "scatter"
           }
          ],
          "scatter3d": [
           {
            "line": {
             "colorbar": {
              "outlinewidth": 0,
              "ticks": ""
             }
            },
            "marker": {
             "colorbar": {
              "outlinewidth": 0,
              "ticks": ""
             }
            },
            "type": "scatter3d"
           }
          ],
          "scattercarpet": [
           {
            "marker": {
             "colorbar": {
              "outlinewidth": 0,
              "ticks": ""
             }
            },
            "type": "scattercarpet"
           }
          ],
          "scattergeo": [
           {
            "marker": {
             "colorbar": {
              "outlinewidth": 0,
              "ticks": ""
             }
            },
            "type": "scattergeo"
           }
          ],
          "scattergl": [
           {
            "marker": {
             "colorbar": {
              "outlinewidth": 0,
              "ticks": ""
             }
            },
            "type": "scattergl"
           }
          ],
          "scattermap": [
           {
            "marker": {
             "colorbar": {
              "outlinewidth": 0,
              "ticks": ""
             }
            },
            "type": "scattermap"
           }
          ],
          "scattermapbox": [
           {
            "marker": {
             "colorbar": {
              "outlinewidth": 0,
              "ticks": ""
             }
            },
            "type": "scattermapbox"
           }
          ],
          "scatterpolar": [
           {
            "marker": {
             "colorbar": {
              "outlinewidth": 0,
              "ticks": ""
             }
            },
            "type": "scatterpolar"
           }
          ],
          "scatterpolargl": [
           {
            "marker": {
             "colorbar": {
              "outlinewidth": 0,
              "ticks": ""
             }
            },
            "type": "scatterpolargl"
           }
          ],
          "scatterternary": [
           {
            "marker": {
             "colorbar": {
              "outlinewidth": 0,
              "ticks": ""
             }
            },
            "type": "scatterternary"
           }
          ],
          "surface": [
           {
            "colorbar": {
             "outlinewidth": 0,
             "ticks": ""
            },
            "colorscale": [
             [
              0,
              "#0d0887"
             ],
             [
              0.1111111111111111,
              "#46039f"
             ],
             [
              0.2222222222222222,
              "#7201a8"
             ],
             [
              0.3333333333333333,
              "#9c179e"
             ],
             [
              0.4444444444444444,
              "#bd3786"
             ],
             [
              0.5555555555555556,
              "#d8576b"
             ],
             [
              0.6666666666666666,
              "#ed7953"
             ],
             [
              0.7777777777777778,
              "#fb9f3a"
             ],
             [
              0.8888888888888888,
              "#fdca26"
             ],
             [
              1,
              "#f0f921"
             ]
            ],
            "type": "surface"
           }
          ],
          "table": [
           {
            "cells": {
             "fill": {
              "color": "#EBF0F8"
             },
             "line": {
              "color": "white"
             }
            },
            "header": {
             "fill": {
              "color": "#C8D4E3"
             },
             "line": {
              "color": "white"
             }
            },
            "type": "table"
           }
          ]
         },
         "layout": {
          "annotationdefaults": {
           "arrowcolor": "#2a3f5f",
           "arrowhead": 0,
           "arrowwidth": 1
          },
          "autotypenumbers": "strict",
          "coloraxis": {
           "colorbar": {
            "outlinewidth": 0,
            "ticks": ""
           }
          },
          "colorscale": {
           "diverging": [
            [
             0,
             "#8e0152"
            ],
            [
             0.1,
             "#c51b7d"
            ],
            [
             0.2,
             "#de77ae"
            ],
            [
             0.3,
             "#f1b6da"
            ],
            [
             0.4,
             "#fde0ef"
            ],
            [
             0.5,
             "#f7f7f7"
            ],
            [
             0.6,
             "#e6f5d0"
            ],
            [
             0.7,
             "#b8e186"
            ],
            [
             0.8,
             "#7fbc41"
            ],
            [
             0.9,
             "#4d9221"
            ],
            [
             1,
             "#276419"
            ]
           ],
           "sequential": [
            [
             0,
             "#0d0887"
            ],
            [
             0.1111111111111111,
             "#46039f"
            ],
            [
             0.2222222222222222,
             "#7201a8"
            ],
            [
             0.3333333333333333,
             "#9c179e"
            ],
            [
             0.4444444444444444,
             "#bd3786"
            ],
            [
             0.5555555555555556,
             "#d8576b"
            ],
            [
             0.6666666666666666,
             "#ed7953"
            ],
            [
             0.7777777777777778,
             "#fb9f3a"
            ],
            [
             0.8888888888888888,
             "#fdca26"
            ],
            [
             1,
             "#f0f921"
            ]
           ],
           "sequentialminus": [
            [
             0,
             "#0d0887"
            ],
            [
             0.1111111111111111,
             "#46039f"
            ],
            [
             0.2222222222222222,
             "#7201a8"
            ],
            [
             0.3333333333333333,
             "#9c179e"
            ],
            [
             0.4444444444444444,
             "#bd3786"
            ],
            [
             0.5555555555555556,
             "#d8576b"
            ],
            [
             0.6666666666666666,
             "#ed7953"
            ],
            [
             0.7777777777777778,
             "#fb9f3a"
            ],
            [
             0.8888888888888888,
             "#fdca26"
            ],
            [
             1,
             "#f0f921"
            ]
           ]
          },
          "colorway": [
           "#636efa",
           "#EF553B",
           "#00cc96",
           "#ab63fa",
           "#FFA15A",
           "#19d3f3",
           "#FF6692",
           "#B6E880",
           "#FF97FF",
           "#FECB52"
          ],
          "font": {
           "color": "#2a3f5f"
          },
          "geo": {
           "bgcolor": "white",
           "lakecolor": "white",
           "landcolor": "#E5ECF6",
           "showlakes": true,
           "showland": true,
           "subunitcolor": "white"
          },
          "hoverlabel": {
           "align": "left"
          },
          "hovermode": "closest",
          "mapbox": {
           "style": "light"
          },
          "paper_bgcolor": "white",
          "plot_bgcolor": "#E5ECF6",
          "polar": {
           "angularaxis": {
            "gridcolor": "white",
            "linecolor": "white",
            "ticks": ""
           },
           "bgcolor": "#E5ECF6",
           "radialaxis": {
            "gridcolor": "white",
            "linecolor": "white",
            "ticks": ""
           }
          },
          "scene": {
           "xaxis": {
            "backgroundcolor": "#E5ECF6",
            "gridcolor": "white",
            "gridwidth": 2,
            "linecolor": "white",
            "showbackground": true,
            "ticks": "",
            "zerolinecolor": "white"
           },
           "yaxis": {
            "backgroundcolor": "#E5ECF6",
            "gridcolor": "white",
            "gridwidth": 2,
            "linecolor": "white",
            "showbackground": true,
            "ticks": "",
            "zerolinecolor": "white"
           },
           "zaxis": {
            "backgroundcolor": "#E5ECF6",
            "gridcolor": "white",
            "gridwidth": 2,
            "linecolor": "white",
            "showbackground": true,
            "ticks": "",
            "zerolinecolor": "white"
           }
          },
          "shapedefaults": {
           "line": {
            "color": "#2a3f5f"
           }
          },
          "ternary": {
           "aaxis": {
            "gridcolor": "white",
            "linecolor": "white",
            "ticks": ""
           },
           "baxis": {
            "gridcolor": "white",
            "linecolor": "white",
            "ticks": ""
           },
           "bgcolor": "#E5ECF6",
           "caxis": {
            "gridcolor": "white",
            "linecolor": "white",
            "ticks": ""
           }
          },
          "title": {
           "x": 0.05
          },
          "xaxis": {
           "automargin": true,
           "gridcolor": "white",
           "linecolor": "white",
           "ticks": "",
           "title": {
            "standoff": 15
           },
           "zerolinecolor": "white",
           "zerolinewidth": 2
          },
          "yaxis": {
           "automargin": true,
           "gridcolor": "white",
           "linecolor": "white",
           "ticks": "",
           "title": {
            "standoff": 15
           },
           "zerolinecolor": "white",
           "zerolinewidth": 2
          }
         }
        },
        "title": {
         "text": "Predicción Altura (Grupo Bajo)"
        },
        "width": 700,
        "xaxis": {
         "title": {
          "text": "Altura Real"
         }
        },
        "yaxis": {
         "title": {
          "text": "Altura Predicha"
         }
        }
       }
      }
     },
     "metadata": {},
     "output_type": "display_data"
    }
   ],
   "source": [
    "fig_bajo = go.Figure()\n",
    "\n",
    "fig_bajo.add_trace(go.Scatter(\n",
    "    x=y_test_bajo, \n",
    "    y=y_pred_bajo,\n",
    "    mode='markers',\n",
    "    name='Datos (Bajo)',\n",
    "    marker=dict(color='blue')\n",
    "))\n",
    "\n",
    "fig_bajo.add_trace(go.Scatter(\n",
    "    x=y_test_bajo,\n",
    "    y=y_test_bajo,\n",
    "    mode='lines',\n",
    "    name='Línea Ideal',\n",
    "    line=dict(color='red', dash='dash')\n",
    "))\n",
    "\n",
    "fig_bajo.update_layout(\n",
    "    title='Predicción Altura (Grupo Bajo)',\n",
    "    xaxis_title='Altura Real',\n",
    "    yaxis_title='Altura Predicha',\n",
    "    width=700,\n",
    "    height=500\n",
    ")\n",
    "\n",
    "fig_bajo.show()"
   ]
  },
  {
   "cell_type": "code",
   "execution_count": 141,
   "metadata": {},
   "outputs": [
    {
     "data": {
      "application/vnd.plotly.v1+json": {
       "config": {
        "plotlyServerURL": "https://plot.ly"
       },
       "data": [
        {
         "marker": {
          "color": "green"
         },
         "mode": "markers",
         "name": "Datos (Alto)",
         "type": "scatter",
         "x": {
          "bdata": "pgCQ5g7AZkAKN9e2/zplQAAAAAAAgGVAAAAAAACgZUD2ZnOkZ+tlQHW04kqqw2RAyEJgj93EZEA=",
          "dtype": "f8"
         },
         "y": {
          "bdata": "vpvyr7UYZkDqsqqzWTdmQIP7q7GY4GVAfi/l/Pm+ZUAUTYOx+v9lQDPJAwagMmVACjh6D5YXZUA=",
          "dtype": "f8"
         }
        },
        {
         "line": {
          "color": "red",
          "dash": "dash"
         },
         "mode": "lines",
         "name": "Línea Ideal",
         "type": "scatter",
         "x": {
          "bdata": "pgCQ5g7AZkAKN9e2/zplQAAAAAAAgGVAAAAAAACgZUD2ZnOkZ+tlQHW04kqqw2RAyEJgj93EZEA=",
          "dtype": "f8"
         },
         "y": {
          "bdata": "pgCQ5g7AZkAKN9e2/zplQAAAAAAAgGVAAAAAAACgZUD2ZnOkZ+tlQHW04kqqw2RAyEJgj93EZEA=",
          "dtype": "f8"
         }
        }
       ],
       "layout": {
        "height": 500,
        "template": {
         "data": {
          "bar": [
           {
            "error_x": {
             "color": "#2a3f5f"
            },
            "error_y": {
             "color": "#2a3f5f"
            },
            "marker": {
             "line": {
              "color": "#E5ECF6",
              "width": 0.5
             },
             "pattern": {
              "fillmode": "overlay",
              "size": 10,
              "solidity": 0.2
             }
            },
            "type": "bar"
           }
          ],
          "barpolar": [
           {
            "marker": {
             "line": {
              "color": "#E5ECF6",
              "width": 0.5
             },
             "pattern": {
              "fillmode": "overlay",
              "size": 10,
              "solidity": 0.2
             }
            },
            "type": "barpolar"
           }
          ],
          "carpet": [
           {
            "aaxis": {
             "endlinecolor": "#2a3f5f",
             "gridcolor": "white",
             "linecolor": "white",
             "minorgridcolor": "white",
             "startlinecolor": "#2a3f5f"
            },
            "baxis": {
             "endlinecolor": "#2a3f5f",
             "gridcolor": "white",
             "linecolor": "white",
             "minorgridcolor": "white",
             "startlinecolor": "#2a3f5f"
            },
            "type": "carpet"
           }
          ],
          "choropleth": [
           {
            "colorbar": {
             "outlinewidth": 0,
             "ticks": ""
            },
            "type": "choropleth"
           }
          ],
          "contour": [
           {
            "colorbar": {
             "outlinewidth": 0,
             "ticks": ""
            },
            "colorscale": [
             [
              0,
              "#0d0887"
             ],
             [
              0.1111111111111111,
              "#46039f"
             ],
             [
              0.2222222222222222,
              "#7201a8"
             ],
             [
              0.3333333333333333,
              "#9c179e"
             ],
             [
              0.4444444444444444,
              "#bd3786"
             ],
             [
              0.5555555555555556,
              "#d8576b"
             ],
             [
              0.6666666666666666,
              "#ed7953"
             ],
             [
              0.7777777777777778,
              "#fb9f3a"
             ],
             [
              0.8888888888888888,
              "#fdca26"
             ],
             [
              1,
              "#f0f921"
             ]
            ],
            "type": "contour"
           }
          ],
          "contourcarpet": [
           {
            "colorbar": {
             "outlinewidth": 0,
             "ticks": ""
            },
            "type": "contourcarpet"
           }
          ],
          "heatmap": [
           {
            "colorbar": {
             "outlinewidth": 0,
             "ticks": ""
            },
            "colorscale": [
             [
              0,
              "#0d0887"
             ],
             [
              0.1111111111111111,
              "#46039f"
             ],
             [
              0.2222222222222222,
              "#7201a8"
             ],
             [
              0.3333333333333333,
              "#9c179e"
             ],
             [
              0.4444444444444444,
              "#bd3786"
             ],
             [
              0.5555555555555556,
              "#d8576b"
             ],
             [
              0.6666666666666666,
              "#ed7953"
             ],
             [
              0.7777777777777778,
              "#fb9f3a"
             ],
             [
              0.8888888888888888,
              "#fdca26"
             ],
             [
              1,
              "#f0f921"
             ]
            ],
            "type": "heatmap"
           }
          ],
          "histogram": [
           {
            "marker": {
             "pattern": {
              "fillmode": "overlay",
              "size": 10,
              "solidity": 0.2
             }
            },
            "type": "histogram"
           }
          ],
          "histogram2d": [
           {
            "colorbar": {
             "outlinewidth": 0,
             "ticks": ""
            },
            "colorscale": [
             [
              0,
              "#0d0887"
             ],
             [
              0.1111111111111111,
              "#46039f"
             ],
             [
              0.2222222222222222,
              "#7201a8"
             ],
             [
              0.3333333333333333,
              "#9c179e"
             ],
             [
              0.4444444444444444,
              "#bd3786"
             ],
             [
              0.5555555555555556,
              "#d8576b"
             ],
             [
              0.6666666666666666,
              "#ed7953"
             ],
             [
              0.7777777777777778,
              "#fb9f3a"
             ],
             [
              0.8888888888888888,
              "#fdca26"
             ],
             [
              1,
              "#f0f921"
             ]
            ],
            "type": "histogram2d"
           }
          ],
          "histogram2dcontour": [
           {
            "colorbar": {
             "outlinewidth": 0,
             "ticks": ""
            },
            "colorscale": [
             [
              0,
              "#0d0887"
             ],
             [
              0.1111111111111111,
              "#46039f"
             ],
             [
              0.2222222222222222,
              "#7201a8"
             ],
             [
              0.3333333333333333,
              "#9c179e"
             ],
             [
              0.4444444444444444,
              "#bd3786"
             ],
             [
              0.5555555555555556,
              "#d8576b"
             ],
             [
              0.6666666666666666,
              "#ed7953"
             ],
             [
              0.7777777777777778,
              "#fb9f3a"
             ],
             [
              0.8888888888888888,
              "#fdca26"
             ],
             [
              1,
              "#f0f921"
             ]
            ],
            "type": "histogram2dcontour"
           }
          ],
          "mesh3d": [
           {
            "colorbar": {
             "outlinewidth": 0,
             "ticks": ""
            },
            "type": "mesh3d"
           }
          ],
          "parcoords": [
           {
            "line": {
             "colorbar": {
              "outlinewidth": 0,
              "ticks": ""
             }
            },
            "type": "parcoords"
           }
          ],
          "pie": [
           {
            "automargin": true,
            "type": "pie"
           }
          ],
          "scatter": [
           {
            "fillpattern": {
             "fillmode": "overlay",
             "size": 10,
             "solidity": 0.2
            },
            "type": "scatter"
           }
          ],
          "scatter3d": [
           {
            "line": {
             "colorbar": {
              "outlinewidth": 0,
              "ticks": ""
             }
            },
            "marker": {
             "colorbar": {
              "outlinewidth": 0,
              "ticks": ""
             }
            },
            "type": "scatter3d"
           }
          ],
          "scattercarpet": [
           {
            "marker": {
             "colorbar": {
              "outlinewidth": 0,
              "ticks": ""
             }
            },
            "type": "scattercarpet"
           }
          ],
          "scattergeo": [
           {
            "marker": {
             "colorbar": {
              "outlinewidth": 0,
              "ticks": ""
             }
            },
            "type": "scattergeo"
           }
          ],
          "scattergl": [
           {
            "marker": {
             "colorbar": {
              "outlinewidth": 0,
              "ticks": ""
             }
            },
            "type": "scattergl"
           }
          ],
          "scattermap": [
           {
            "marker": {
             "colorbar": {
              "outlinewidth": 0,
              "ticks": ""
             }
            },
            "type": "scattermap"
           }
          ],
          "scattermapbox": [
           {
            "marker": {
             "colorbar": {
              "outlinewidth": 0,
              "ticks": ""
             }
            },
            "type": "scattermapbox"
           }
          ],
          "scatterpolar": [
           {
            "marker": {
             "colorbar": {
              "outlinewidth": 0,
              "ticks": ""
             }
            },
            "type": "scatterpolar"
           }
          ],
          "scatterpolargl": [
           {
            "marker": {
             "colorbar": {
              "outlinewidth": 0,
              "ticks": ""
             }
            },
            "type": "scatterpolargl"
           }
          ],
          "scatterternary": [
           {
            "marker": {
             "colorbar": {
              "outlinewidth": 0,
              "ticks": ""
             }
            },
            "type": "scatterternary"
           }
          ],
          "surface": [
           {
            "colorbar": {
             "outlinewidth": 0,
             "ticks": ""
            },
            "colorscale": [
             [
              0,
              "#0d0887"
             ],
             [
              0.1111111111111111,
              "#46039f"
             ],
             [
              0.2222222222222222,
              "#7201a8"
             ],
             [
              0.3333333333333333,
              "#9c179e"
             ],
             [
              0.4444444444444444,
              "#bd3786"
             ],
             [
              0.5555555555555556,
              "#d8576b"
             ],
             [
              0.6666666666666666,
              "#ed7953"
             ],
             [
              0.7777777777777778,
              "#fb9f3a"
             ],
             [
              0.8888888888888888,
              "#fdca26"
             ],
             [
              1,
              "#f0f921"
             ]
            ],
            "type": "surface"
           }
          ],
          "table": [
           {
            "cells": {
             "fill": {
              "color": "#EBF0F8"
             },
             "line": {
              "color": "white"
             }
            },
            "header": {
             "fill": {
              "color": "#C8D4E3"
             },
             "line": {
              "color": "white"
             }
            },
            "type": "table"
           }
          ]
         },
         "layout": {
          "annotationdefaults": {
           "arrowcolor": "#2a3f5f",
           "arrowhead": 0,
           "arrowwidth": 1
          },
          "autotypenumbers": "strict",
          "coloraxis": {
           "colorbar": {
            "outlinewidth": 0,
            "ticks": ""
           }
          },
          "colorscale": {
           "diverging": [
            [
             0,
             "#8e0152"
            ],
            [
             0.1,
             "#c51b7d"
            ],
            [
             0.2,
             "#de77ae"
            ],
            [
             0.3,
             "#f1b6da"
            ],
            [
             0.4,
             "#fde0ef"
            ],
            [
             0.5,
             "#f7f7f7"
            ],
            [
             0.6,
             "#e6f5d0"
            ],
            [
             0.7,
             "#b8e186"
            ],
            [
             0.8,
             "#7fbc41"
            ],
            [
             0.9,
             "#4d9221"
            ],
            [
             1,
             "#276419"
            ]
           ],
           "sequential": [
            [
             0,
             "#0d0887"
            ],
            [
             0.1111111111111111,
             "#46039f"
            ],
            [
             0.2222222222222222,
             "#7201a8"
            ],
            [
             0.3333333333333333,
             "#9c179e"
            ],
            [
             0.4444444444444444,
             "#bd3786"
            ],
            [
             0.5555555555555556,
             "#d8576b"
            ],
            [
             0.6666666666666666,
             "#ed7953"
            ],
            [
             0.7777777777777778,
             "#fb9f3a"
            ],
            [
             0.8888888888888888,
             "#fdca26"
            ],
            [
             1,
             "#f0f921"
            ]
           ],
           "sequentialminus": [
            [
             0,
             "#0d0887"
            ],
            [
             0.1111111111111111,
             "#46039f"
            ],
            [
             0.2222222222222222,
             "#7201a8"
            ],
            [
             0.3333333333333333,
             "#9c179e"
            ],
            [
             0.4444444444444444,
             "#bd3786"
            ],
            [
             0.5555555555555556,
             "#d8576b"
            ],
            [
             0.6666666666666666,
             "#ed7953"
            ],
            [
             0.7777777777777778,
             "#fb9f3a"
            ],
            [
             0.8888888888888888,
             "#fdca26"
            ],
            [
             1,
             "#f0f921"
            ]
           ]
          },
          "colorway": [
           "#636efa",
           "#EF553B",
           "#00cc96",
           "#ab63fa",
           "#FFA15A",
           "#19d3f3",
           "#FF6692",
           "#B6E880",
           "#FF97FF",
           "#FECB52"
          ],
          "font": {
           "color": "#2a3f5f"
          },
          "geo": {
           "bgcolor": "white",
           "lakecolor": "white",
           "landcolor": "#E5ECF6",
           "showlakes": true,
           "showland": true,
           "subunitcolor": "white"
          },
          "hoverlabel": {
           "align": "left"
          },
          "hovermode": "closest",
          "mapbox": {
           "style": "light"
          },
          "paper_bgcolor": "white",
          "plot_bgcolor": "#E5ECF6",
          "polar": {
           "angularaxis": {
            "gridcolor": "white",
            "linecolor": "white",
            "ticks": ""
           },
           "bgcolor": "#E5ECF6",
           "radialaxis": {
            "gridcolor": "white",
            "linecolor": "white",
            "ticks": ""
           }
          },
          "scene": {
           "xaxis": {
            "backgroundcolor": "#E5ECF6",
            "gridcolor": "white",
            "gridwidth": 2,
            "linecolor": "white",
            "showbackground": true,
            "ticks": "",
            "zerolinecolor": "white"
           },
           "yaxis": {
            "backgroundcolor": "#E5ECF6",
            "gridcolor": "white",
            "gridwidth": 2,
            "linecolor": "white",
            "showbackground": true,
            "ticks": "",
            "zerolinecolor": "white"
           },
           "zaxis": {
            "backgroundcolor": "#E5ECF6",
            "gridcolor": "white",
            "gridwidth": 2,
            "linecolor": "white",
            "showbackground": true,
            "ticks": "",
            "zerolinecolor": "white"
           }
          },
          "shapedefaults": {
           "line": {
            "color": "#2a3f5f"
           }
          },
          "ternary": {
           "aaxis": {
            "gridcolor": "white",
            "linecolor": "white",
            "ticks": ""
           },
           "baxis": {
            "gridcolor": "white",
            "linecolor": "white",
            "ticks": ""
           },
           "bgcolor": "#E5ECF6",
           "caxis": {
            "gridcolor": "white",
            "linecolor": "white",
            "ticks": ""
           }
          },
          "title": {
           "x": 0.05
          },
          "xaxis": {
           "automargin": true,
           "gridcolor": "white",
           "linecolor": "white",
           "ticks": "",
           "title": {
            "standoff": 15
           },
           "zerolinecolor": "white",
           "zerolinewidth": 2
          },
          "yaxis": {
           "automargin": true,
           "gridcolor": "white",
           "linecolor": "white",
           "ticks": "",
           "title": {
            "standoff": 15
           },
           "zerolinecolor": "white",
           "zerolinewidth": 2
          }
         }
        },
        "title": {
         "text": "Predicción Altura (Grupo Alto)"
        },
        "width": 700,
        "xaxis": {
         "title": {
          "text": "Altura Real"
         }
        },
        "yaxis": {
         "title": {
          "text": "Altura Predicha"
         }
        }
       }
      }
     },
     "metadata": {},
     "output_type": "display_data"
    }
   ],
   "source": [
    "fig_alto = go.Figure()\n",
    "\n",
    "fig_alto.add_trace(go.Scatter(\n",
    "    x=y_test_alto, \n",
    "    y=y_pred_alto,\n",
    "    mode='markers',\n",
    "    name='Datos (Alto)',\n",
    "    marker=dict(color='green')\n",
    "))\n",
    "\n",
    "fig_alto.add_trace(go.Scatter(\n",
    "    x=y_test_alto,\n",
    "    y=y_test_alto,\n",
    "    mode='lines',\n",
    "    name='Línea Ideal',\n",
    "    line=dict(color='red', dash='dash')\n",
    "))\n",
    "\n",
    "fig_alto.update_layout(\n",
    "    title='Predicción Altura (Grupo Alto)',\n",
    "    xaxis_title='Altura Real',\n",
    "    yaxis_title='Altura Predicha',\n",
    "    width=700,\n",
    "    height=500\n",
    ")\n",
    "\n",
    "fig_alto.show()\n"
   ]
  },
  {
   "cell_type": "code",
   "execution_count": 142,
   "metadata": {},
   "outputs": [
    {
     "name": "stdout",
     "output_type": "stream",
     "text": [
      "Ensamble R2: 0.018, RMSE: 9.191\n"
     ]
    },
    {
     "name": "stderr",
     "output_type": "stream",
     "text": [
      "c:\\Users\\sofi\\miniconda3\\envs\\EO\\Lib\\site-packages\\sklearn\\utils\\validation.py:2739: UserWarning:\n",
      "\n",
      "X does not have valid feature names, but LinearRegression was fitted with feature names\n",
      "\n",
      "c:\\Users\\sofi\\miniconda3\\envs\\EO\\Lib\\site-packages\\sklearn\\utils\\validation.py:2739: UserWarning:\n",
      "\n",
      "X does not have valid feature names, but LinearRegression was fitted with feature names\n",
      "\n",
      "c:\\Users\\sofi\\miniconda3\\envs\\EO\\Lib\\site-packages\\sklearn\\utils\\validation.py:2739: UserWarning:\n",
      "\n",
      "X does not have valid feature names, but LinearRegression was fitted with feature names\n",
      "\n",
      "c:\\Users\\sofi\\miniconda3\\envs\\EO\\Lib\\site-packages\\sklearn\\utils\\validation.py:2739: UserWarning:\n",
      "\n",
      "X does not have valid feature names, but LinearRegression was fitted with feature names\n",
      "\n",
      "c:\\Users\\sofi\\miniconda3\\envs\\EO\\Lib\\site-packages\\sklearn\\utils\\validation.py:2739: UserWarning:\n",
      "\n",
      "X does not have valid feature names, but LinearRegression was fitted with feature names\n",
      "\n",
      "c:\\Users\\sofi\\miniconda3\\envs\\EO\\Lib\\site-packages\\sklearn\\utils\\validation.py:2739: UserWarning:\n",
      "\n",
      "X does not have valid feature names, but LinearRegression was fitted with feature names\n",
      "\n",
      "c:\\Users\\sofi\\miniconda3\\envs\\EO\\Lib\\site-packages\\sklearn\\utils\\validation.py:2739: UserWarning:\n",
      "\n",
      "X does not have valid feature names, but LinearRegression was fitted with feature names\n",
      "\n",
      "c:\\Users\\sofi\\miniconda3\\envs\\EO\\Lib\\site-packages\\sklearn\\utils\\validation.py:2739: UserWarning:\n",
      "\n",
      "X does not have valid feature names, but LinearRegression was fitted with feature names\n",
      "\n"
     ]
    }
   ],
   "source": [
    "def modelo_ensamble(x_row, umbral):\n",
    "    if model_bajo.predict([x_row])[0] <= umbral:\n",
    "        return model_bajo.predict([x_row])[0]\n",
    "    else:\n",
    "        return model_alto.predict([x_row])[0]\n",
    "\n",
    "y_pred_ensamble = [modelo_ensamble(x, altura_median) for x in X_test.values]\n",
    "\n",
    "r2_ensamble = r2_score(y_test, y_pred_ensamble)\n",
    "rmse_ensamble = np.sqrt(mean_squared_error(y_test, y_pred_ensamble))\n",
    "\n",
    "print(f'Ensamble R2: {r2_ensamble:.3f}, RMSE: {rmse_ensamble:.3f}')\n"
   ]
  },
  {
   "cell_type": "code",
   "execution_count": 143,
   "metadata": {},
   "outputs": [
    {
     "data": {
      "application/vnd.plotly.v1+json": {
       "config": {
        "plotlyServerURL": "https://plot.ly"
       },
       "data": [
        {
         "marker": {
          "color": "purple"
         },
         "mode": "markers",
         "name": "Datos (Ensamble)",
         "type": "scatter",
         "x": {
          "bdata": "uQCtAK8AnwA=",
          "dtype": "i2"
         },
         "y": [
          177.89706315018086,
          160.4669673157526,
          163.58291913737318,
          158.91944349204255
         ]
        },
        {
         "line": {
          "color": "red",
          "dash": "dash"
         },
         "mode": "lines",
         "name": "Línea Ideal",
         "type": "scatter",
         "x": {
          "bdata": "uQCtAK8AnwA=",
          "dtype": "i2"
         },
         "y": {
          "bdata": "uQCtAK8AnwA=",
          "dtype": "i2"
         }
        }
       ],
       "layout": {
        "height": 500,
        "template": {
         "data": {
          "bar": [
           {
            "error_x": {
             "color": "#2a3f5f"
            },
            "error_y": {
             "color": "#2a3f5f"
            },
            "marker": {
             "line": {
              "color": "#E5ECF6",
              "width": 0.5
             },
             "pattern": {
              "fillmode": "overlay",
              "size": 10,
              "solidity": 0.2
             }
            },
            "type": "bar"
           }
          ],
          "barpolar": [
           {
            "marker": {
             "line": {
              "color": "#E5ECF6",
              "width": 0.5
             },
             "pattern": {
              "fillmode": "overlay",
              "size": 10,
              "solidity": 0.2
             }
            },
            "type": "barpolar"
           }
          ],
          "carpet": [
           {
            "aaxis": {
             "endlinecolor": "#2a3f5f",
             "gridcolor": "white",
             "linecolor": "white",
             "minorgridcolor": "white",
             "startlinecolor": "#2a3f5f"
            },
            "baxis": {
             "endlinecolor": "#2a3f5f",
             "gridcolor": "white",
             "linecolor": "white",
             "minorgridcolor": "white",
             "startlinecolor": "#2a3f5f"
            },
            "type": "carpet"
           }
          ],
          "choropleth": [
           {
            "colorbar": {
             "outlinewidth": 0,
             "ticks": ""
            },
            "type": "choropleth"
           }
          ],
          "contour": [
           {
            "colorbar": {
             "outlinewidth": 0,
             "ticks": ""
            },
            "colorscale": [
             [
              0,
              "#0d0887"
             ],
             [
              0.1111111111111111,
              "#46039f"
             ],
             [
              0.2222222222222222,
              "#7201a8"
             ],
             [
              0.3333333333333333,
              "#9c179e"
             ],
             [
              0.4444444444444444,
              "#bd3786"
             ],
             [
              0.5555555555555556,
              "#d8576b"
             ],
             [
              0.6666666666666666,
              "#ed7953"
             ],
             [
              0.7777777777777778,
              "#fb9f3a"
             ],
             [
              0.8888888888888888,
              "#fdca26"
             ],
             [
              1,
              "#f0f921"
             ]
            ],
            "type": "contour"
           }
          ],
          "contourcarpet": [
           {
            "colorbar": {
             "outlinewidth": 0,
             "ticks": ""
            },
            "type": "contourcarpet"
           }
          ],
          "heatmap": [
           {
            "colorbar": {
             "outlinewidth": 0,
             "ticks": ""
            },
            "colorscale": [
             [
              0,
              "#0d0887"
             ],
             [
              0.1111111111111111,
              "#46039f"
             ],
             [
              0.2222222222222222,
              "#7201a8"
             ],
             [
              0.3333333333333333,
              "#9c179e"
             ],
             [
              0.4444444444444444,
              "#bd3786"
             ],
             [
              0.5555555555555556,
              "#d8576b"
             ],
             [
              0.6666666666666666,
              "#ed7953"
             ],
             [
              0.7777777777777778,
              "#fb9f3a"
             ],
             [
              0.8888888888888888,
              "#fdca26"
             ],
             [
              1,
              "#f0f921"
             ]
            ],
            "type": "heatmap"
           }
          ],
          "histogram": [
           {
            "marker": {
             "pattern": {
              "fillmode": "overlay",
              "size": 10,
              "solidity": 0.2
             }
            },
            "type": "histogram"
           }
          ],
          "histogram2d": [
           {
            "colorbar": {
             "outlinewidth": 0,
             "ticks": ""
            },
            "colorscale": [
             [
              0,
              "#0d0887"
             ],
             [
              0.1111111111111111,
              "#46039f"
             ],
             [
              0.2222222222222222,
              "#7201a8"
             ],
             [
              0.3333333333333333,
              "#9c179e"
             ],
             [
              0.4444444444444444,
              "#bd3786"
             ],
             [
              0.5555555555555556,
              "#d8576b"
             ],
             [
              0.6666666666666666,
              "#ed7953"
             ],
             [
              0.7777777777777778,
              "#fb9f3a"
             ],
             [
              0.8888888888888888,
              "#fdca26"
             ],
             [
              1,
              "#f0f921"
             ]
            ],
            "type": "histogram2d"
           }
          ],
          "histogram2dcontour": [
           {
            "colorbar": {
             "outlinewidth": 0,
             "ticks": ""
            },
            "colorscale": [
             [
              0,
              "#0d0887"
             ],
             [
              0.1111111111111111,
              "#46039f"
             ],
             [
              0.2222222222222222,
              "#7201a8"
             ],
             [
              0.3333333333333333,
              "#9c179e"
             ],
             [
              0.4444444444444444,
              "#bd3786"
             ],
             [
              0.5555555555555556,
              "#d8576b"
             ],
             [
              0.6666666666666666,
              "#ed7953"
             ],
             [
              0.7777777777777778,
              "#fb9f3a"
             ],
             [
              0.8888888888888888,
              "#fdca26"
             ],
             [
              1,
              "#f0f921"
             ]
            ],
            "type": "histogram2dcontour"
           }
          ],
          "mesh3d": [
           {
            "colorbar": {
             "outlinewidth": 0,
             "ticks": ""
            },
            "type": "mesh3d"
           }
          ],
          "parcoords": [
           {
            "line": {
             "colorbar": {
              "outlinewidth": 0,
              "ticks": ""
             }
            },
            "type": "parcoords"
           }
          ],
          "pie": [
           {
            "automargin": true,
            "type": "pie"
           }
          ],
          "scatter": [
           {
            "fillpattern": {
             "fillmode": "overlay",
             "size": 10,
             "solidity": 0.2
            },
            "type": "scatter"
           }
          ],
          "scatter3d": [
           {
            "line": {
             "colorbar": {
              "outlinewidth": 0,
              "ticks": ""
             }
            },
            "marker": {
             "colorbar": {
              "outlinewidth": 0,
              "ticks": ""
             }
            },
            "type": "scatter3d"
           }
          ],
          "scattercarpet": [
           {
            "marker": {
             "colorbar": {
              "outlinewidth": 0,
              "ticks": ""
             }
            },
            "type": "scattercarpet"
           }
          ],
          "scattergeo": [
           {
            "marker": {
             "colorbar": {
              "outlinewidth": 0,
              "ticks": ""
             }
            },
            "type": "scattergeo"
           }
          ],
          "scattergl": [
           {
            "marker": {
             "colorbar": {
              "outlinewidth": 0,
              "ticks": ""
             }
            },
            "type": "scattergl"
           }
          ],
          "scattermap": [
           {
            "marker": {
             "colorbar": {
              "outlinewidth": 0,
              "ticks": ""
             }
            },
            "type": "scattermap"
           }
          ],
          "scattermapbox": [
           {
            "marker": {
             "colorbar": {
              "outlinewidth": 0,
              "ticks": ""
             }
            },
            "type": "scattermapbox"
           }
          ],
          "scatterpolar": [
           {
            "marker": {
             "colorbar": {
              "outlinewidth": 0,
              "ticks": ""
             }
            },
            "type": "scatterpolar"
           }
          ],
          "scatterpolargl": [
           {
            "marker": {
             "colorbar": {
              "outlinewidth": 0,
              "ticks": ""
             }
            },
            "type": "scatterpolargl"
           }
          ],
          "scatterternary": [
           {
            "marker": {
             "colorbar": {
              "outlinewidth": 0,
              "ticks": ""
             }
            },
            "type": "scatterternary"
           }
          ],
          "surface": [
           {
            "colorbar": {
             "outlinewidth": 0,
             "ticks": ""
            },
            "colorscale": [
             [
              0,
              "#0d0887"
             ],
             [
              0.1111111111111111,
              "#46039f"
             ],
             [
              0.2222222222222222,
              "#7201a8"
             ],
             [
              0.3333333333333333,
              "#9c179e"
             ],
             [
              0.4444444444444444,
              "#bd3786"
             ],
             [
              0.5555555555555556,
              "#d8576b"
             ],
             [
              0.6666666666666666,
              "#ed7953"
             ],
             [
              0.7777777777777778,
              "#fb9f3a"
             ],
             [
              0.8888888888888888,
              "#fdca26"
             ],
             [
              1,
              "#f0f921"
             ]
            ],
            "type": "surface"
           }
          ],
          "table": [
           {
            "cells": {
             "fill": {
              "color": "#EBF0F8"
             },
             "line": {
              "color": "white"
             }
            },
            "header": {
             "fill": {
              "color": "#C8D4E3"
             },
             "line": {
              "color": "white"
             }
            },
            "type": "table"
           }
          ]
         },
         "layout": {
          "annotationdefaults": {
           "arrowcolor": "#2a3f5f",
           "arrowhead": 0,
           "arrowwidth": 1
          },
          "autotypenumbers": "strict",
          "coloraxis": {
           "colorbar": {
            "outlinewidth": 0,
            "ticks": ""
           }
          },
          "colorscale": {
           "diverging": [
            [
             0,
             "#8e0152"
            ],
            [
             0.1,
             "#c51b7d"
            ],
            [
             0.2,
             "#de77ae"
            ],
            [
             0.3,
             "#f1b6da"
            ],
            [
             0.4,
             "#fde0ef"
            ],
            [
             0.5,
             "#f7f7f7"
            ],
            [
             0.6,
             "#e6f5d0"
            ],
            [
             0.7,
             "#b8e186"
            ],
            [
             0.8,
             "#7fbc41"
            ],
            [
             0.9,
             "#4d9221"
            ],
            [
             1,
             "#276419"
            ]
           ],
           "sequential": [
            [
             0,
             "#0d0887"
            ],
            [
             0.1111111111111111,
             "#46039f"
            ],
            [
             0.2222222222222222,
             "#7201a8"
            ],
            [
             0.3333333333333333,
             "#9c179e"
            ],
            [
             0.4444444444444444,
             "#bd3786"
            ],
            [
             0.5555555555555556,
             "#d8576b"
            ],
            [
             0.6666666666666666,
             "#ed7953"
            ],
            [
             0.7777777777777778,
             "#fb9f3a"
            ],
            [
             0.8888888888888888,
             "#fdca26"
            ],
            [
             1,
             "#f0f921"
            ]
           ],
           "sequentialminus": [
            [
             0,
             "#0d0887"
            ],
            [
             0.1111111111111111,
             "#46039f"
            ],
            [
             0.2222222222222222,
             "#7201a8"
            ],
            [
             0.3333333333333333,
             "#9c179e"
            ],
            [
             0.4444444444444444,
             "#bd3786"
            ],
            [
             0.5555555555555556,
             "#d8576b"
            ],
            [
             0.6666666666666666,
             "#ed7953"
            ],
            [
             0.7777777777777778,
             "#fb9f3a"
            ],
            [
             0.8888888888888888,
             "#fdca26"
            ],
            [
             1,
             "#f0f921"
            ]
           ]
          },
          "colorway": [
           "#636efa",
           "#EF553B",
           "#00cc96",
           "#ab63fa",
           "#FFA15A",
           "#19d3f3",
           "#FF6692",
           "#B6E880",
           "#FF97FF",
           "#FECB52"
          ],
          "font": {
           "color": "#2a3f5f"
          },
          "geo": {
           "bgcolor": "white",
           "lakecolor": "white",
           "landcolor": "#E5ECF6",
           "showlakes": true,
           "showland": true,
           "subunitcolor": "white"
          },
          "hoverlabel": {
           "align": "left"
          },
          "hovermode": "closest",
          "mapbox": {
           "style": "light"
          },
          "paper_bgcolor": "white",
          "plot_bgcolor": "#E5ECF6",
          "polar": {
           "angularaxis": {
            "gridcolor": "white",
            "linecolor": "white",
            "ticks": ""
           },
           "bgcolor": "#E5ECF6",
           "radialaxis": {
            "gridcolor": "white",
            "linecolor": "white",
            "ticks": ""
           }
          },
          "scene": {
           "xaxis": {
            "backgroundcolor": "#E5ECF6",
            "gridcolor": "white",
            "gridwidth": 2,
            "linecolor": "white",
            "showbackground": true,
            "ticks": "",
            "zerolinecolor": "white"
           },
           "yaxis": {
            "backgroundcolor": "#E5ECF6",
            "gridcolor": "white",
            "gridwidth": 2,
            "linecolor": "white",
            "showbackground": true,
            "ticks": "",
            "zerolinecolor": "white"
           },
           "zaxis": {
            "backgroundcolor": "#E5ECF6",
            "gridcolor": "white",
            "gridwidth": 2,
            "linecolor": "white",
            "showbackground": true,
            "ticks": "",
            "zerolinecolor": "white"
           }
          },
          "shapedefaults": {
           "line": {
            "color": "#2a3f5f"
           }
          },
          "ternary": {
           "aaxis": {
            "gridcolor": "white",
            "linecolor": "white",
            "ticks": ""
           },
           "baxis": {
            "gridcolor": "white",
            "linecolor": "white",
            "ticks": ""
           },
           "bgcolor": "#E5ECF6",
           "caxis": {
            "gridcolor": "white",
            "linecolor": "white",
            "ticks": ""
           }
          },
          "title": {
           "x": 0.05
          },
          "xaxis": {
           "automargin": true,
           "gridcolor": "white",
           "linecolor": "white",
           "ticks": "",
           "title": {
            "standoff": 15
           },
           "zerolinecolor": "white",
           "zerolinewidth": 2
          },
          "yaxis": {
           "automargin": true,
           "gridcolor": "white",
           "linecolor": "white",
           "ticks": "",
           "title": {
            "standoff": 15
           },
           "zerolinecolor": "white",
           "zerolinewidth": 2
          }
         }
        },
        "title": {
         "text": "Predicción Altura (Modelo Ensamble)"
        },
        "width": 700,
        "xaxis": {
         "title": {
          "text": "Altura Real"
         }
        },
        "yaxis": {
         "title": {
          "text": "Altura Predicha"
         }
        }
       }
      }
     },
     "metadata": {},
     "output_type": "display_data"
    }
   ],
   "source": [
    "fig_ensamble = go.Figure()\n",
    "\n",
    "fig_ensamble.add_trace(go.Scatter(\n",
    "    x=y_test, \n",
    "    y=y_pred_ensamble,\n",
    "    mode='markers',\n",
    "    name='Datos (Ensamble)',\n",
    "    marker=dict(color='purple')\n",
    "))\n",
    "\n",
    "fig_ensamble.add_trace(go.Scatter(\n",
    "    x=y_test,\n",
    "    y=y_test,\n",
    "    mode='lines',\n",
    "    name='Línea Ideal',\n",
    "    line=dict(color='red', dash='dash')\n",
    "))\n",
    "\n",
    "fig_ensamble.update_layout(\n",
    "    title='Predicción Altura (Modelo Ensamble)',\n",
    "    xaxis_title='Altura Real',\n",
    "    yaxis_title='Altura Predicha',\n",
    "    width=700,\n",
    "    height=500\n",
    ")\n",
    "\n",
    "fig_ensamble.show()\n"
   ]
  },
  {
   "cell_type": "markdown",
   "metadata": {},
   "source": [
    "### **Modelo 3: AnchoPie**"
   ]
  },
  {
   "cell_type": "code",
   "execution_count": 144,
   "metadata": {},
   "outputs": [
    {
     "data": {
      "application/vnd.microsoft.datawrangler.viewer.v0+json": {
       "columns": [
        {
         "name": "index",
         "rawType": "int64",
         "type": "integer"
        },
        {
         "name": "Altura",
         "rawType": "float64",
         "type": "float"
        },
        {
         "name": "Ancho",
         "rawType": "float64",
         "type": "float"
        },
        {
         "name": "Pie",
         "rawType": "float64",
         "type": "float"
        },
        {
         "name": "AnchoPie",
         "rawType": "float64",
         "type": "float"
        }
       ],
       "conversionMethod": "pd.DataFrame",
       "ref": "ed88cca6-3d27-4587-b2ff-a0f1ab133b47",
       "rows": [
        [
         "0",
         "169.37775500006728",
         "52.675201781868566",
         "27.69878920185222",
         "1459.0393103210079"
        ],
        [
         "1",
         "182.7328985515632",
         "47.947897236860136",
         "26.94525597994246",
         "1291.968364747172"
        ],
        [
         "2",
         "172.77884343191272",
         "46.14475360053163",
         "24.98941431188356",
         "1153.1303660434655"
        ],
        [
         "3",
         "182.35443318498176",
         "55.28921405344197",
         "26.009483899696935",
         "1438.0439227498964"
        ],
        [
         "4",
         "173.68077127241975",
         "47.099250787929456",
         "26.778309733786493",
         "1261.2383258284626"
        ]
       ],
       "shape": {
        "columns": 4,
        "rows": 5
       }
      },
      "text/html": [
       "<div>\n",
       "<style scoped>\n",
       "    .dataframe tbody tr th:only-of-type {\n",
       "        vertical-align: middle;\n",
       "    }\n",
       "\n",
       "    .dataframe tbody tr th {\n",
       "        vertical-align: top;\n",
       "    }\n",
       "\n",
       "    .dataframe thead th {\n",
       "        text-align: right;\n",
       "    }\n",
       "</style>\n",
       "<table border=\"1\" class=\"dataframe\">\n",
       "  <thead>\n",
       "    <tr style=\"text-align: right;\">\n",
       "      <th></th>\n",
       "      <th>Altura</th>\n",
       "      <th>Ancho</th>\n",
       "      <th>Pie</th>\n",
       "      <th>AnchoPie</th>\n",
       "    </tr>\n",
       "  </thead>\n",
       "  <tbody>\n",
       "    <tr>\n",
       "      <th>0</th>\n",
       "      <td>169.377755</td>\n",
       "      <td>52.675202</td>\n",
       "      <td>27.698789</td>\n",
       "      <td>1459.039310</td>\n",
       "    </tr>\n",
       "    <tr>\n",
       "      <th>1</th>\n",
       "      <td>182.732899</td>\n",
       "      <td>47.947897</td>\n",
       "      <td>26.945256</td>\n",
       "      <td>1291.968365</td>\n",
       "    </tr>\n",
       "    <tr>\n",
       "      <th>2</th>\n",
       "      <td>172.778843</td>\n",
       "      <td>46.144754</td>\n",
       "      <td>24.989414</td>\n",
       "      <td>1153.130366</td>\n",
       "    </tr>\n",
       "    <tr>\n",
       "      <th>3</th>\n",
       "      <td>182.354433</td>\n",
       "      <td>55.289214</td>\n",
       "      <td>26.009484</td>\n",
       "      <td>1438.043923</td>\n",
       "    </tr>\n",
       "    <tr>\n",
       "      <th>4</th>\n",
       "      <td>173.680771</td>\n",
       "      <td>47.099251</td>\n",
       "      <td>26.778310</td>\n",
       "      <td>1261.238326</td>\n",
       "    </tr>\n",
       "  </tbody>\n",
       "</table>\n",
       "</div>"
      ],
      "text/plain": [
       "       Altura      Ancho        Pie     AnchoPie\n",
       "0  169.377755  52.675202  27.698789  1459.039310\n",
       "1  182.732899  47.947897  26.945256  1291.968365\n",
       "2  172.778843  46.144754  24.989414  1153.130366\n",
       "3  182.354433  55.289214  26.009484  1438.043923\n",
       "4  173.680771  47.099251  26.778310  1261.238326"
      ]
     },
     "execution_count": 144,
     "metadata": {},
     "output_type": "execute_result"
    }
   ],
   "source": [
    "df_AnchoPie = df.copy()\n",
    "df_AnchoPie['AnchoPie'] = df_AnchoPie['Pie'] * df_AnchoPie['Ancho']\n",
    "df_AnchoPie.head()"
   ]
  },
  {
   "cell_type": "code",
   "execution_count": 145,
   "metadata": {},
   "outputs": [
    {
     "data": {
      "application/vnd.plotly.v1+json": {
       "config": {
        "plotlyServerURL": "https://plot.ly"
       },
       "data": [
        {
         "hovertemplate": "Altura (cm)=%{x}<br>AnchoPie=%{y}<extra></extra>",
         "legendgroup": "",
         "marker": {
          "color": "blue",
          "symbol": "circle"
         },
         "mode": "markers",
         "name": "",
         "orientation": "v",
         "showlegend": false,
         "type": "scatter",
         "x": {
          "bdata": "EGankRYsZUD+x6nnc9dmQKCYD0nsmGVApENDhFfLZkAs49XgyLVlQGNWaI0kXWRAhqZjbFoPaEAHu4AdMKRlQA3A8wyURmZA9mZzpGfrZUCj7gsYxt1lQGG1T+Lb52ZAWGDJMQA4ZkCnrOwXKs1kQGr1IDHP/GRAjqTbXAsnZkCmAJDmDsBmQKPfZ8ZujmVAwPCqEjDoZUA9h8fzHFdlQAo317b/OmVAKl3QXSRuZEDtPxYX6vFlQAz4On1A7WNAMzrjvGJ+ZEBNb4IIaxVjQP7GcJ971mNAiQTxhLWkZEDIQmCP3cRkQAgaxRm2W2RAbvIMEhm2ZEBDtke5aCpkQBmWKB2TOmRAoSMs0xHGYkCpmIelnvNjQFzG+Q0JYWNAqYxpvTWTY0B7eE8Fbs9jQFozEj6NKWRAWeNEiWBJY0DBchExvn1jQK6JgvDxx2RArVS9ZiesY0AHxGIn4XlkQGGhP/wXWGRAjAUSCsJsY0AMur4Y+7tjQPehZm0aSmRAdbTiSqrDZEA7NcohbtdjQAAAAAAAIGdAAAAAAACgZUAAAAAAAGBkQAAAAAAAQGRAAAAAAACAZUAAAAAAAOBjQAAAAAAAYGdAAAAAAACgZEAAAAAAAOBlQAAAAAAAQGRAAAAAAABgY0AAAAAAAABlQAAAAAAAYGZAAAAAAACAZUAAAAAAAOBjQAAAAAAAwGRAAAAAAACAY0AAAAAAAMBiQA==",
          "dtype": "f8"
         },
         "xaxis": "x",
         "y": {
          "bdata": "f/z2QCjMlkDQHgKb3y+UQMYUrX6FBJJAbNkV+ix4lkAonK8L9LSTQIf61PAR3ZRAjMvzetDYlkDg067o+SyVQL7IHq09uJNAvC6B0HuolED7sptAK8KVQPkufwmjRJ1A2+dh8DYHl0DKgcQGPyyXQEdGKUjwHJNA7e4awLTgl0CXab1H2GWXQEfmBZUcKZNA5COcJoXIlUDWd+2BGPyXQNUoln8AapZAinQTBJRwkEDE8bKlLd2LQLw66goffYxAN4sCuLxQjUBb70u9uE2NQGsCPKRrr41AeP84pjyujkAfYQs5ttWNQJwo7uPOB41A75HTXkp2ikBUxae9BOGMQAgPz+Y31I1A0XKGQNi5jUCu9V7RbeaJQI5ir8Mzko1AHJUC5ERrjkD4kzj64G2MQPVxeP7MuI5Aq3eYohdcjUDh/E9xH/yQQAduXKlkb4xAXX/jBuq9kEAgP+c1s3yNQJldDx4VUYxA/FOGHabEjkCT6dhNw/eLQP3v1OSxJ5BAAHhqFWLukEA9TqYFG5qMQAAAAAAAEJhAAAAAAAA4kkAAAAAAAICQQAAAAAAA2JBAAAAAAABok0AAAAAAAMCMQAAAAAAAwJVAAAAAAAAAjkAAAAAAAA6VQAAAAAAAoI9AAAAAAACAi0AAAAAAAMiYQAAAAAAAEJhAAAAAAAB8lUAAAAAAAICMQAAAAAAA3I1AAAAAAACAjEAAAAAAAGyLQA==",
          "dtype": "f8"
         },
         "yaxis": "y"
        }
       ],
       "layout": {
        "legend": {
         "tracegroupgap": 0
        },
        "template": {
         "data": {
          "bar": [
           {
            "error_x": {
             "color": "#2a3f5f"
            },
            "error_y": {
             "color": "#2a3f5f"
            },
            "marker": {
             "line": {
              "color": "#E5ECF6",
              "width": 0.5
             },
             "pattern": {
              "fillmode": "overlay",
              "size": 10,
              "solidity": 0.2
             }
            },
            "type": "bar"
           }
          ],
          "barpolar": [
           {
            "marker": {
             "line": {
              "color": "#E5ECF6",
              "width": 0.5
             },
             "pattern": {
              "fillmode": "overlay",
              "size": 10,
              "solidity": 0.2
             }
            },
            "type": "barpolar"
           }
          ],
          "carpet": [
           {
            "aaxis": {
             "endlinecolor": "#2a3f5f",
             "gridcolor": "white",
             "linecolor": "white",
             "minorgridcolor": "white",
             "startlinecolor": "#2a3f5f"
            },
            "baxis": {
             "endlinecolor": "#2a3f5f",
             "gridcolor": "white",
             "linecolor": "white",
             "minorgridcolor": "white",
             "startlinecolor": "#2a3f5f"
            },
            "type": "carpet"
           }
          ],
          "choropleth": [
           {
            "colorbar": {
             "outlinewidth": 0,
             "ticks": ""
            },
            "type": "choropleth"
           }
          ],
          "contour": [
           {
            "colorbar": {
             "outlinewidth": 0,
             "ticks": ""
            },
            "colorscale": [
             [
              0,
              "#0d0887"
             ],
             [
              0.1111111111111111,
              "#46039f"
             ],
             [
              0.2222222222222222,
              "#7201a8"
             ],
             [
              0.3333333333333333,
              "#9c179e"
             ],
             [
              0.4444444444444444,
              "#bd3786"
             ],
             [
              0.5555555555555556,
              "#d8576b"
             ],
             [
              0.6666666666666666,
              "#ed7953"
             ],
             [
              0.7777777777777778,
              "#fb9f3a"
             ],
             [
              0.8888888888888888,
              "#fdca26"
             ],
             [
              1,
              "#f0f921"
             ]
            ],
            "type": "contour"
           }
          ],
          "contourcarpet": [
           {
            "colorbar": {
             "outlinewidth": 0,
             "ticks": ""
            },
            "type": "contourcarpet"
           }
          ],
          "heatmap": [
           {
            "colorbar": {
             "outlinewidth": 0,
             "ticks": ""
            },
            "colorscale": [
             [
              0,
              "#0d0887"
             ],
             [
              0.1111111111111111,
              "#46039f"
             ],
             [
              0.2222222222222222,
              "#7201a8"
             ],
             [
              0.3333333333333333,
              "#9c179e"
             ],
             [
              0.4444444444444444,
              "#bd3786"
             ],
             [
              0.5555555555555556,
              "#d8576b"
             ],
             [
              0.6666666666666666,
              "#ed7953"
             ],
             [
              0.7777777777777778,
              "#fb9f3a"
             ],
             [
              0.8888888888888888,
              "#fdca26"
             ],
             [
              1,
              "#f0f921"
             ]
            ],
            "type": "heatmap"
           }
          ],
          "histogram": [
           {
            "marker": {
             "pattern": {
              "fillmode": "overlay",
              "size": 10,
              "solidity": 0.2
             }
            },
            "type": "histogram"
           }
          ],
          "histogram2d": [
           {
            "colorbar": {
             "outlinewidth": 0,
             "ticks": ""
            },
            "colorscale": [
             [
              0,
              "#0d0887"
             ],
             [
              0.1111111111111111,
              "#46039f"
             ],
             [
              0.2222222222222222,
              "#7201a8"
             ],
             [
              0.3333333333333333,
              "#9c179e"
             ],
             [
              0.4444444444444444,
              "#bd3786"
             ],
             [
              0.5555555555555556,
              "#d8576b"
             ],
             [
              0.6666666666666666,
              "#ed7953"
             ],
             [
              0.7777777777777778,
              "#fb9f3a"
             ],
             [
              0.8888888888888888,
              "#fdca26"
             ],
             [
              1,
              "#f0f921"
             ]
            ],
            "type": "histogram2d"
           }
          ],
          "histogram2dcontour": [
           {
            "colorbar": {
             "outlinewidth": 0,
             "ticks": ""
            },
            "colorscale": [
             [
              0,
              "#0d0887"
             ],
             [
              0.1111111111111111,
              "#46039f"
             ],
             [
              0.2222222222222222,
              "#7201a8"
             ],
             [
              0.3333333333333333,
              "#9c179e"
             ],
             [
              0.4444444444444444,
              "#bd3786"
             ],
             [
              0.5555555555555556,
              "#d8576b"
             ],
             [
              0.6666666666666666,
              "#ed7953"
             ],
             [
              0.7777777777777778,
              "#fb9f3a"
             ],
             [
              0.8888888888888888,
              "#fdca26"
             ],
             [
              1,
              "#f0f921"
             ]
            ],
            "type": "histogram2dcontour"
           }
          ],
          "mesh3d": [
           {
            "colorbar": {
             "outlinewidth": 0,
             "ticks": ""
            },
            "type": "mesh3d"
           }
          ],
          "parcoords": [
           {
            "line": {
             "colorbar": {
              "outlinewidth": 0,
              "ticks": ""
             }
            },
            "type": "parcoords"
           }
          ],
          "pie": [
           {
            "automargin": true,
            "type": "pie"
           }
          ],
          "scatter": [
           {
            "fillpattern": {
             "fillmode": "overlay",
             "size": 10,
             "solidity": 0.2
            },
            "type": "scatter"
           }
          ],
          "scatter3d": [
           {
            "line": {
             "colorbar": {
              "outlinewidth": 0,
              "ticks": ""
             }
            },
            "marker": {
             "colorbar": {
              "outlinewidth": 0,
              "ticks": ""
             }
            },
            "type": "scatter3d"
           }
          ],
          "scattercarpet": [
           {
            "marker": {
             "colorbar": {
              "outlinewidth": 0,
              "ticks": ""
             }
            },
            "type": "scattercarpet"
           }
          ],
          "scattergeo": [
           {
            "marker": {
             "colorbar": {
              "outlinewidth": 0,
              "ticks": ""
             }
            },
            "type": "scattergeo"
           }
          ],
          "scattergl": [
           {
            "marker": {
             "colorbar": {
              "outlinewidth": 0,
              "ticks": ""
             }
            },
            "type": "scattergl"
           }
          ],
          "scattermap": [
           {
            "marker": {
             "colorbar": {
              "outlinewidth": 0,
              "ticks": ""
             }
            },
            "type": "scattermap"
           }
          ],
          "scattermapbox": [
           {
            "marker": {
             "colorbar": {
              "outlinewidth": 0,
              "ticks": ""
             }
            },
            "type": "scattermapbox"
           }
          ],
          "scatterpolar": [
           {
            "marker": {
             "colorbar": {
              "outlinewidth": 0,
              "ticks": ""
             }
            },
            "type": "scatterpolar"
           }
          ],
          "scatterpolargl": [
           {
            "marker": {
             "colorbar": {
              "outlinewidth": 0,
              "ticks": ""
             }
            },
            "type": "scatterpolargl"
           }
          ],
          "scatterternary": [
           {
            "marker": {
             "colorbar": {
              "outlinewidth": 0,
              "ticks": ""
             }
            },
            "type": "scatterternary"
           }
          ],
          "surface": [
           {
            "colorbar": {
             "outlinewidth": 0,
             "ticks": ""
            },
            "colorscale": [
             [
              0,
              "#0d0887"
             ],
             [
              0.1111111111111111,
              "#46039f"
             ],
             [
              0.2222222222222222,
              "#7201a8"
             ],
             [
              0.3333333333333333,
              "#9c179e"
             ],
             [
              0.4444444444444444,
              "#bd3786"
             ],
             [
              0.5555555555555556,
              "#d8576b"
             ],
             [
              0.6666666666666666,
              "#ed7953"
             ],
             [
              0.7777777777777778,
              "#fb9f3a"
             ],
             [
              0.8888888888888888,
              "#fdca26"
             ],
             [
              1,
              "#f0f921"
             ]
            ],
            "type": "surface"
           }
          ],
          "table": [
           {
            "cells": {
             "fill": {
              "color": "#EBF0F8"
             },
             "line": {
              "color": "white"
             }
            },
            "header": {
             "fill": {
              "color": "#C8D4E3"
             },
             "line": {
              "color": "white"
             }
            },
            "type": "table"
           }
          ]
         },
         "layout": {
          "annotationdefaults": {
           "arrowcolor": "#2a3f5f",
           "arrowhead": 0,
           "arrowwidth": 1
          },
          "autotypenumbers": "strict",
          "coloraxis": {
           "colorbar": {
            "outlinewidth": 0,
            "ticks": ""
           }
          },
          "colorscale": {
           "diverging": [
            [
             0,
             "#8e0152"
            ],
            [
             0.1,
             "#c51b7d"
            ],
            [
             0.2,
             "#de77ae"
            ],
            [
             0.3,
             "#f1b6da"
            ],
            [
             0.4,
             "#fde0ef"
            ],
            [
             0.5,
             "#f7f7f7"
            ],
            [
             0.6,
             "#e6f5d0"
            ],
            [
             0.7,
             "#b8e186"
            ],
            [
             0.8,
             "#7fbc41"
            ],
            [
             0.9,
             "#4d9221"
            ],
            [
             1,
             "#276419"
            ]
           ],
           "sequential": [
            [
             0,
             "#0d0887"
            ],
            [
             0.1111111111111111,
             "#46039f"
            ],
            [
             0.2222222222222222,
             "#7201a8"
            ],
            [
             0.3333333333333333,
             "#9c179e"
            ],
            [
             0.4444444444444444,
             "#bd3786"
            ],
            [
             0.5555555555555556,
             "#d8576b"
            ],
            [
             0.6666666666666666,
             "#ed7953"
            ],
            [
             0.7777777777777778,
             "#fb9f3a"
            ],
            [
             0.8888888888888888,
             "#fdca26"
            ],
            [
             1,
             "#f0f921"
            ]
           ],
           "sequentialminus": [
            [
             0,
             "#0d0887"
            ],
            [
             0.1111111111111111,
             "#46039f"
            ],
            [
             0.2222222222222222,
             "#7201a8"
            ],
            [
             0.3333333333333333,
             "#9c179e"
            ],
            [
             0.4444444444444444,
             "#bd3786"
            ],
            [
             0.5555555555555556,
             "#d8576b"
            ],
            [
             0.6666666666666666,
             "#ed7953"
            ],
            [
             0.7777777777777778,
             "#fb9f3a"
            ],
            [
             0.8888888888888888,
             "#fdca26"
            ],
            [
             1,
             "#f0f921"
            ]
           ]
          },
          "colorway": [
           "#636efa",
           "#EF553B",
           "#00cc96",
           "#ab63fa",
           "#FFA15A",
           "#19d3f3",
           "#FF6692",
           "#B6E880",
           "#FF97FF",
           "#FECB52"
          ],
          "font": {
           "color": "#2a3f5f"
          },
          "geo": {
           "bgcolor": "white",
           "lakecolor": "white",
           "landcolor": "#E5ECF6",
           "showlakes": true,
           "showland": true,
           "subunitcolor": "white"
          },
          "hoverlabel": {
           "align": "left"
          },
          "hovermode": "closest",
          "mapbox": {
           "style": "light"
          },
          "paper_bgcolor": "white",
          "plot_bgcolor": "#E5ECF6",
          "polar": {
           "angularaxis": {
            "gridcolor": "white",
            "linecolor": "white",
            "ticks": ""
           },
           "bgcolor": "#E5ECF6",
           "radialaxis": {
            "gridcolor": "white",
            "linecolor": "white",
            "ticks": ""
           }
          },
          "scene": {
           "xaxis": {
            "backgroundcolor": "#E5ECF6",
            "gridcolor": "white",
            "gridwidth": 2,
            "linecolor": "white",
            "showbackground": true,
            "ticks": "",
            "zerolinecolor": "white"
           },
           "yaxis": {
            "backgroundcolor": "#E5ECF6",
            "gridcolor": "white",
            "gridwidth": 2,
            "linecolor": "white",
            "showbackground": true,
            "ticks": "",
            "zerolinecolor": "white"
           },
           "zaxis": {
            "backgroundcolor": "#E5ECF6",
            "gridcolor": "white",
            "gridwidth": 2,
            "linecolor": "white",
            "showbackground": true,
            "ticks": "",
            "zerolinecolor": "white"
           }
          },
          "shapedefaults": {
           "line": {
            "color": "#2a3f5f"
           }
          },
          "ternary": {
           "aaxis": {
            "gridcolor": "white",
            "linecolor": "white",
            "ticks": ""
           },
           "baxis": {
            "gridcolor": "white",
            "linecolor": "white",
            "ticks": ""
           },
           "bgcolor": "#E5ECF6",
           "caxis": {
            "gridcolor": "white",
            "linecolor": "white",
            "ticks": ""
           }
          },
          "title": {
           "x": 0.05
          },
          "xaxis": {
           "automargin": true,
           "gridcolor": "white",
           "linecolor": "white",
           "ticks": "",
           "title": {
            "standoff": 15
           },
           "zerolinecolor": "white",
           "zerolinewidth": 2
          },
          "yaxis": {
           "automargin": true,
           "gridcolor": "white",
           "linecolor": "white",
           "ticks": "",
           "title": {
            "standoff": 15
           },
           "zerolinecolor": "white",
           "zerolinewidth": 2
          }
         }
        },
        "title": {
         "text": "Altura vs AnchoPie"
        },
        "xaxis": {
         "anchor": "y",
         "domain": [
          0,
          1
         ],
         "title": {
          "text": "Altura (cm)"
         }
        },
        "yaxis": {
         "anchor": "x",
         "domain": [
          0,
          1
         ],
         "title": {
          "text": "AnchoPie"
         }
        }
       }
      }
     },
     "metadata": {},
     "output_type": "display_data"
    }
   ],
   "source": [
    "fig1 = px.scatter(df_AnchoPie, x=\"Altura\", y=\"AnchoPie\", \n",
    "                  title=\"Altura vs AnchoPie\", \n",
    "                  labels={\"Altura\": \"Altura (cm)\", \"AnchoPie\": \"AnchoPie\"},\n",
    "                  color_discrete_sequence=[\"blue\"])\n",
    "\n",
    "fig1.show()"
   ]
  },
  {
   "cell_type": "code",
   "execution_count": 146,
   "metadata": {},
   "outputs": [],
   "source": [
    "X_anchopie = df_AnchoPie[['AnchoPie']]\n",
    "y_anchopie = df_AnchoPie['Altura']\n",
    "\n",
    "X_train_anchopie, X_test_anchopie, y_train_anchopie, y_test_anchopie = train_test_split(X_anchopie, y_anchopie, test_size=0.2, random_state=42)"
   ]
  },
  {
   "cell_type": "code",
   "execution_count": 147,
   "metadata": {},
   "outputs": [
    {
     "data": {
      "text/html": [
       "<style>#sk-container-id-14 {\n",
       "  /* Definition of color scheme common for light and dark mode */\n",
       "  --sklearn-color-text: #000;\n",
       "  --sklearn-color-text-muted: #666;\n",
       "  --sklearn-color-line: gray;\n",
       "  /* Definition of color scheme for unfitted estimators */\n",
       "  --sklearn-color-unfitted-level-0: #fff5e6;\n",
       "  --sklearn-color-unfitted-level-1: #f6e4d2;\n",
       "  --sklearn-color-unfitted-level-2: #ffe0b3;\n",
       "  --sklearn-color-unfitted-level-3: chocolate;\n",
       "  /* Definition of color scheme for fitted estimators */\n",
       "  --sklearn-color-fitted-level-0: #f0f8ff;\n",
       "  --sklearn-color-fitted-level-1: #d4ebff;\n",
       "  --sklearn-color-fitted-level-2: #b3dbfd;\n",
       "  --sklearn-color-fitted-level-3: cornflowerblue;\n",
       "\n",
       "  /* Specific color for light theme */\n",
       "  --sklearn-color-text-on-default-background: var(--sg-text-color, var(--theme-code-foreground, var(--jp-content-font-color1, black)));\n",
       "  --sklearn-color-background: var(--sg-background-color, var(--theme-background, var(--jp-layout-color0, white)));\n",
       "  --sklearn-color-border-box: var(--sg-text-color, var(--theme-code-foreground, var(--jp-content-font-color1, black)));\n",
       "  --sklearn-color-icon: #696969;\n",
       "\n",
       "  @media (prefers-color-scheme: dark) {\n",
       "    /* Redefinition of color scheme for dark theme */\n",
       "    --sklearn-color-text-on-default-background: var(--sg-text-color, var(--theme-code-foreground, var(--jp-content-font-color1, white)));\n",
       "    --sklearn-color-background: var(--sg-background-color, var(--theme-background, var(--jp-layout-color0, #111)));\n",
       "    --sklearn-color-border-box: var(--sg-text-color, var(--theme-code-foreground, var(--jp-content-font-color1, white)));\n",
       "    --sklearn-color-icon: #878787;\n",
       "  }\n",
       "}\n",
       "\n",
       "#sk-container-id-14 {\n",
       "  color: var(--sklearn-color-text);\n",
       "}\n",
       "\n",
       "#sk-container-id-14 pre {\n",
       "  padding: 0;\n",
       "}\n",
       "\n",
       "#sk-container-id-14 input.sk-hidden--visually {\n",
       "  border: 0;\n",
       "  clip: rect(1px 1px 1px 1px);\n",
       "  clip: rect(1px, 1px, 1px, 1px);\n",
       "  height: 1px;\n",
       "  margin: -1px;\n",
       "  overflow: hidden;\n",
       "  padding: 0;\n",
       "  position: absolute;\n",
       "  width: 1px;\n",
       "}\n",
       "\n",
       "#sk-container-id-14 div.sk-dashed-wrapped {\n",
       "  border: 1px dashed var(--sklearn-color-line);\n",
       "  margin: 0 0.4em 0.5em 0.4em;\n",
       "  box-sizing: border-box;\n",
       "  padding-bottom: 0.4em;\n",
       "  background-color: var(--sklearn-color-background);\n",
       "}\n",
       "\n",
       "#sk-container-id-14 div.sk-container {\n",
       "  /* jupyter's `normalize.less` sets `[hidden] { display: none; }`\n",
       "     but bootstrap.min.css set `[hidden] { display: none !important; }`\n",
       "     so we also need the `!important` here to be able to override the\n",
       "     default hidden behavior on the sphinx rendered scikit-learn.org.\n",
       "     See: https://github.com/scikit-learn/scikit-learn/issues/21755 */\n",
       "  display: inline-block !important;\n",
       "  position: relative;\n",
       "}\n",
       "\n",
       "#sk-container-id-14 div.sk-text-repr-fallback {\n",
       "  display: none;\n",
       "}\n",
       "\n",
       "div.sk-parallel-item,\n",
       "div.sk-serial,\n",
       "div.sk-item {\n",
       "  /* draw centered vertical line to link estimators */\n",
       "  background-image: linear-gradient(var(--sklearn-color-text-on-default-background), var(--sklearn-color-text-on-default-background));\n",
       "  background-size: 2px 100%;\n",
       "  background-repeat: no-repeat;\n",
       "  background-position: center center;\n",
       "}\n",
       "\n",
       "/* Parallel-specific style estimator block */\n",
       "\n",
       "#sk-container-id-14 div.sk-parallel-item::after {\n",
       "  content: \"\";\n",
       "  width: 100%;\n",
       "  border-bottom: 2px solid var(--sklearn-color-text-on-default-background);\n",
       "  flex-grow: 1;\n",
       "}\n",
       "\n",
       "#sk-container-id-14 div.sk-parallel {\n",
       "  display: flex;\n",
       "  align-items: stretch;\n",
       "  justify-content: center;\n",
       "  background-color: var(--sklearn-color-background);\n",
       "  position: relative;\n",
       "}\n",
       "\n",
       "#sk-container-id-14 div.sk-parallel-item {\n",
       "  display: flex;\n",
       "  flex-direction: column;\n",
       "}\n",
       "\n",
       "#sk-container-id-14 div.sk-parallel-item:first-child::after {\n",
       "  align-self: flex-end;\n",
       "  width: 50%;\n",
       "}\n",
       "\n",
       "#sk-container-id-14 div.sk-parallel-item:last-child::after {\n",
       "  align-self: flex-start;\n",
       "  width: 50%;\n",
       "}\n",
       "\n",
       "#sk-container-id-14 div.sk-parallel-item:only-child::after {\n",
       "  width: 0;\n",
       "}\n",
       "\n",
       "/* Serial-specific style estimator block */\n",
       "\n",
       "#sk-container-id-14 div.sk-serial {\n",
       "  display: flex;\n",
       "  flex-direction: column;\n",
       "  align-items: center;\n",
       "  background-color: var(--sklearn-color-background);\n",
       "  padding-right: 1em;\n",
       "  padding-left: 1em;\n",
       "}\n",
       "\n",
       "\n",
       "/* Toggleable style: style used for estimator/Pipeline/ColumnTransformer box that is\n",
       "clickable and can be expanded/collapsed.\n",
       "- Pipeline and ColumnTransformer use this feature and define the default style\n",
       "- Estimators will overwrite some part of the style using the `sk-estimator` class\n",
       "*/\n",
       "\n",
       "/* Pipeline and ColumnTransformer style (default) */\n",
       "\n",
       "#sk-container-id-14 div.sk-toggleable {\n",
       "  /* Default theme specific background. It is overwritten whether we have a\n",
       "  specific estimator or a Pipeline/ColumnTransformer */\n",
       "  background-color: var(--sklearn-color-background);\n",
       "}\n",
       "\n",
       "/* Toggleable label */\n",
       "#sk-container-id-14 label.sk-toggleable__label {\n",
       "  cursor: pointer;\n",
       "  display: flex;\n",
       "  width: 100%;\n",
       "  margin-bottom: 0;\n",
       "  padding: 0.5em;\n",
       "  box-sizing: border-box;\n",
       "  text-align: center;\n",
       "  align-items: start;\n",
       "  justify-content: space-between;\n",
       "  gap: 0.5em;\n",
       "}\n",
       "\n",
       "#sk-container-id-14 label.sk-toggleable__label .caption {\n",
       "  font-size: 0.6rem;\n",
       "  font-weight: lighter;\n",
       "  color: var(--sklearn-color-text-muted);\n",
       "}\n",
       "\n",
       "#sk-container-id-14 label.sk-toggleable__label-arrow:before {\n",
       "  /* Arrow on the left of the label */\n",
       "  content: \"▸\";\n",
       "  float: left;\n",
       "  margin-right: 0.25em;\n",
       "  color: var(--sklearn-color-icon);\n",
       "}\n",
       "\n",
       "#sk-container-id-14 label.sk-toggleable__label-arrow:hover:before {\n",
       "  color: var(--sklearn-color-text);\n",
       "}\n",
       "\n",
       "/* Toggleable content - dropdown */\n",
       "\n",
       "#sk-container-id-14 div.sk-toggleable__content {\n",
       "  max-height: 0;\n",
       "  max-width: 0;\n",
       "  overflow: hidden;\n",
       "  text-align: left;\n",
       "  /* unfitted */\n",
       "  background-color: var(--sklearn-color-unfitted-level-0);\n",
       "}\n",
       "\n",
       "#sk-container-id-14 div.sk-toggleable__content.fitted {\n",
       "  /* fitted */\n",
       "  background-color: var(--sklearn-color-fitted-level-0);\n",
       "}\n",
       "\n",
       "#sk-container-id-14 div.sk-toggleable__content pre {\n",
       "  margin: 0.2em;\n",
       "  border-radius: 0.25em;\n",
       "  color: var(--sklearn-color-text);\n",
       "  /* unfitted */\n",
       "  background-color: var(--sklearn-color-unfitted-level-0);\n",
       "}\n",
       "\n",
       "#sk-container-id-14 div.sk-toggleable__content.fitted pre {\n",
       "  /* unfitted */\n",
       "  background-color: var(--sklearn-color-fitted-level-0);\n",
       "}\n",
       "\n",
       "#sk-container-id-14 input.sk-toggleable__control:checked~div.sk-toggleable__content {\n",
       "  /* Expand drop-down */\n",
       "  max-height: 200px;\n",
       "  max-width: 100%;\n",
       "  overflow: auto;\n",
       "}\n",
       "\n",
       "#sk-container-id-14 input.sk-toggleable__control:checked~label.sk-toggleable__label-arrow:before {\n",
       "  content: \"▾\";\n",
       "}\n",
       "\n",
       "/* Pipeline/ColumnTransformer-specific style */\n",
       "\n",
       "#sk-container-id-14 div.sk-label input.sk-toggleable__control:checked~label.sk-toggleable__label {\n",
       "  color: var(--sklearn-color-text);\n",
       "  background-color: var(--sklearn-color-unfitted-level-2);\n",
       "}\n",
       "\n",
       "#sk-container-id-14 div.sk-label.fitted input.sk-toggleable__control:checked~label.sk-toggleable__label {\n",
       "  background-color: var(--sklearn-color-fitted-level-2);\n",
       "}\n",
       "\n",
       "/* Estimator-specific style */\n",
       "\n",
       "/* Colorize estimator box */\n",
       "#sk-container-id-14 div.sk-estimator input.sk-toggleable__control:checked~label.sk-toggleable__label {\n",
       "  /* unfitted */\n",
       "  background-color: var(--sklearn-color-unfitted-level-2);\n",
       "}\n",
       "\n",
       "#sk-container-id-14 div.sk-estimator.fitted input.sk-toggleable__control:checked~label.sk-toggleable__label {\n",
       "  /* fitted */\n",
       "  background-color: var(--sklearn-color-fitted-level-2);\n",
       "}\n",
       "\n",
       "#sk-container-id-14 div.sk-label label.sk-toggleable__label,\n",
       "#sk-container-id-14 div.sk-label label {\n",
       "  /* The background is the default theme color */\n",
       "  color: var(--sklearn-color-text-on-default-background);\n",
       "}\n",
       "\n",
       "/* On hover, darken the color of the background */\n",
       "#sk-container-id-14 div.sk-label:hover label.sk-toggleable__label {\n",
       "  color: var(--sklearn-color-text);\n",
       "  background-color: var(--sklearn-color-unfitted-level-2);\n",
       "}\n",
       "\n",
       "/* Label box, darken color on hover, fitted */\n",
       "#sk-container-id-14 div.sk-label.fitted:hover label.sk-toggleable__label.fitted {\n",
       "  color: var(--sklearn-color-text);\n",
       "  background-color: var(--sklearn-color-fitted-level-2);\n",
       "}\n",
       "\n",
       "/* Estimator label */\n",
       "\n",
       "#sk-container-id-14 div.sk-label label {\n",
       "  font-family: monospace;\n",
       "  font-weight: bold;\n",
       "  display: inline-block;\n",
       "  line-height: 1.2em;\n",
       "}\n",
       "\n",
       "#sk-container-id-14 div.sk-label-container {\n",
       "  text-align: center;\n",
       "}\n",
       "\n",
       "/* Estimator-specific */\n",
       "#sk-container-id-14 div.sk-estimator {\n",
       "  font-family: monospace;\n",
       "  border: 1px dotted var(--sklearn-color-border-box);\n",
       "  border-radius: 0.25em;\n",
       "  box-sizing: border-box;\n",
       "  margin-bottom: 0.5em;\n",
       "  /* unfitted */\n",
       "  background-color: var(--sklearn-color-unfitted-level-0);\n",
       "}\n",
       "\n",
       "#sk-container-id-14 div.sk-estimator.fitted {\n",
       "  /* fitted */\n",
       "  background-color: var(--sklearn-color-fitted-level-0);\n",
       "}\n",
       "\n",
       "/* on hover */\n",
       "#sk-container-id-14 div.sk-estimator:hover {\n",
       "  /* unfitted */\n",
       "  background-color: var(--sklearn-color-unfitted-level-2);\n",
       "}\n",
       "\n",
       "#sk-container-id-14 div.sk-estimator.fitted:hover {\n",
       "  /* fitted */\n",
       "  background-color: var(--sklearn-color-fitted-level-2);\n",
       "}\n",
       "\n",
       "/* Specification for estimator info (e.g. \"i\" and \"?\") */\n",
       "\n",
       "/* Common style for \"i\" and \"?\" */\n",
       "\n",
       ".sk-estimator-doc-link,\n",
       "a:link.sk-estimator-doc-link,\n",
       "a:visited.sk-estimator-doc-link {\n",
       "  float: right;\n",
       "  font-size: smaller;\n",
       "  line-height: 1em;\n",
       "  font-family: monospace;\n",
       "  background-color: var(--sklearn-color-background);\n",
       "  border-radius: 1em;\n",
       "  height: 1em;\n",
       "  width: 1em;\n",
       "  text-decoration: none !important;\n",
       "  margin-left: 0.5em;\n",
       "  text-align: center;\n",
       "  /* unfitted */\n",
       "  border: var(--sklearn-color-unfitted-level-1) 1pt solid;\n",
       "  color: var(--sklearn-color-unfitted-level-1);\n",
       "}\n",
       "\n",
       ".sk-estimator-doc-link.fitted,\n",
       "a:link.sk-estimator-doc-link.fitted,\n",
       "a:visited.sk-estimator-doc-link.fitted {\n",
       "  /* fitted */\n",
       "  border: var(--sklearn-color-fitted-level-1) 1pt solid;\n",
       "  color: var(--sklearn-color-fitted-level-1);\n",
       "}\n",
       "\n",
       "/* On hover */\n",
       "div.sk-estimator:hover .sk-estimator-doc-link:hover,\n",
       ".sk-estimator-doc-link:hover,\n",
       "div.sk-label-container:hover .sk-estimator-doc-link:hover,\n",
       ".sk-estimator-doc-link:hover {\n",
       "  /* unfitted */\n",
       "  background-color: var(--sklearn-color-unfitted-level-3);\n",
       "  color: var(--sklearn-color-background);\n",
       "  text-decoration: none;\n",
       "}\n",
       "\n",
       "div.sk-estimator.fitted:hover .sk-estimator-doc-link.fitted:hover,\n",
       ".sk-estimator-doc-link.fitted:hover,\n",
       "div.sk-label-container:hover .sk-estimator-doc-link.fitted:hover,\n",
       ".sk-estimator-doc-link.fitted:hover {\n",
       "  /* fitted */\n",
       "  background-color: var(--sklearn-color-fitted-level-3);\n",
       "  color: var(--sklearn-color-background);\n",
       "  text-decoration: none;\n",
       "}\n",
       "\n",
       "/* Span, style for the box shown on hovering the info icon */\n",
       ".sk-estimator-doc-link span {\n",
       "  display: none;\n",
       "  z-index: 9999;\n",
       "  position: relative;\n",
       "  font-weight: normal;\n",
       "  right: .2ex;\n",
       "  padding: .5ex;\n",
       "  margin: .5ex;\n",
       "  width: min-content;\n",
       "  min-width: 20ex;\n",
       "  max-width: 50ex;\n",
       "  color: var(--sklearn-color-text);\n",
       "  box-shadow: 2pt 2pt 4pt #999;\n",
       "  /* unfitted */\n",
       "  background: var(--sklearn-color-unfitted-level-0);\n",
       "  border: .5pt solid var(--sklearn-color-unfitted-level-3);\n",
       "}\n",
       "\n",
       ".sk-estimator-doc-link.fitted span {\n",
       "  /* fitted */\n",
       "  background: var(--sklearn-color-fitted-level-0);\n",
       "  border: var(--sklearn-color-fitted-level-3);\n",
       "}\n",
       "\n",
       ".sk-estimator-doc-link:hover span {\n",
       "  display: block;\n",
       "}\n",
       "\n",
       "/* \"?\"-specific style due to the `<a>` HTML tag */\n",
       "\n",
       "#sk-container-id-14 a.estimator_doc_link {\n",
       "  float: right;\n",
       "  font-size: 1rem;\n",
       "  line-height: 1em;\n",
       "  font-family: monospace;\n",
       "  background-color: var(--sklearn-color-background);\n",
       "  border-radius: 1rem;\n",
       "  height: 1rem;\n",
       "  width: 1rem;\n",
       "  text-decoration: none;\n",
       "  /* unfitted */\n",
       "  color: var(--sklearn-color-unfitted-level-1);\n",
       "  border: var(--sklearn-color-unfitted-level-1) 1pt solid;\n",
       "}\n",
       "\n",
       "#sk-container-id-14 a.estimator_doc_link.fitted {\n",
       "  /* fitted */\n",
       "  border: var(--sklearn-color-fitted-level-1) 1pt solid;\n",
       "  color: var(--sklearn-color-fitted-level-1);\n",
       "}\n",
       "\n",
       "/* On hover */\n",
       "#sk-container-id-14 a.estimator_doc_link:hover {\n",
       "  /* unfitted */\n",
       "  background-color: var(--sklearn-color-unfitted-level-3);\n",
       "  color: var(--sklearn-color-background);\n",
       "  text-decoration: none;\n",
       "}\n",
       "\n",
       "#sk-container-id-14 a.estimator_doc_link.fitted:hover {\n",
       "  /* fitted */\n",
       "  background-color: var(--sklearn-color-fitted-level-3);\n",
       "}\n",
       "</style><div id=\"sk-container-id-14\" class=\"sk-top-container\"><div class=\"sk-text-repr-fallback\"><pre>LinearRegression()</pre><b>In a Jupyter environment, please rerun this cell to show the HTML representation or trust the notebook. <br />On GitHub, the HTML representation is unable to render, please try loading this page with nbviewer.org.</b></div><div class=\"sk-container\" hidden><div class=\"sk-item\"><div class=\"sk-estimator fitted sk-toggleable\"><input class=\"sk-toggleable__control sk-hidden--visually\" id=\"sk-estimator-id-24\" type=\"checkbox\" checked><label for=\"sk-estimator-id-24\" class=\"sk-toggleable__label fitted sk-toggleable__label-arrow\"><div><div>LinearRegression</div></div><div><a class=\"sk-estimator-doc-link fitted\" rel=\"noreferrer\" target=\"_blank\" href=\"https://scikit-learn.org/1.6/modules/generated/sklearn.linear_model.LinearRegression.html\">?<span>Documentation for LinearRegression</span></a><span class=\"sk-estimator-doc-link fitted\">i<span>Fitted</span></span></div></label><div class=\"sk-toggleable__content fitted\"><pre>LinearRegression()</pre></div> </div></div></div></div>"
      ],
      "text/plain": [
       "LinearRegression()"
      ]
     },
     "execution_count": 147,
     "metadata": {},
     "output_type": "execute_result"
    }
   ],
   "source": [
    "modelo_anchopie = LinearRegression()\n",
    "modelo_anchopie.fit(X_train_anchopie, y_train_anchopie)"
   ]
  },
  {
   "cell_type": "code",
   "execution_count": 148,
   "metadata": {},
   "outputs": [],
   "source": [
    "y_pred_anchopie = modelo_anchopie.predict(X_test_anchopie)"
   ]
  },
  {
   "cell_type": "code",
   "execution_count": 149,
   "metadata": {},
   "outputs": [
    {
     "name": "stdout",
     "output_type": "stream",
     "text": [
      "Ensamble R2: 0.365, RMSE: 6.150\n"
     ]
    }
   ],
   "source": [
    "r2_anchopie = r2_score(y_test_anchopie, y_pred_anchopie)\n",
    "rmse_anchopie = np.sqrt(mean_squared_error(y_test_anchopie, y_pred_anchopie))\n",
    "print(f'Ensamble R2: {r2_anchopie:.3f}, RMSE: {rmse_anchopie:.3f}')"
   ]
  },
  {
   "cell_type": "markdown",
   "metadata": {},
   "source": [
    "### **Modelo 4: ElasticNet**"
   ]
  },
  {
   "cell_type": "code",
   "execution_count": 150,
   "metadata": {},
   "outputs": [],
   "source": [
    "from sklearn.pipeline import Pipeline\n",
    "from sklearn.linear_model import ElasticNet\n",
    "from sklearn.preprocessing import StandardScaler\n",
    "\n",
    "X = df[['Pie', 'Ancho']]\n",
    "y = df['Altura']\n",
    "\n",
    "X_train_net, X_test_net, y_train_net, y_test_net = train_test_split(X, y, test_size=0.2, random_state=42)\n",
    "\n",
    "pipeline = Pipeline([\n",
    "    ('scaler', StandardScaler()),\n",
    "    ('model', ElasticNet(max_iter=10000))\n",
    "])"
   ]
  },
  {
   "cell_type": "code",
   "execution_count": 151,
   "metadata": {},
   "outputs": [],
   "source": [
    "param_grid = {\n",
    "    'model__alpha': np.logspace(-5, 2, 50),       # 50 valores desde 1e-5 hasta 1e2\n",
    "    'model__l1_ratio': np.linspace(0, 1, 50)       # 50 valores entre 0 y 1 (Ridge ←→ Lasso)\n",
    "}"
   ]
  },
  {
   "cell_type": "code",
   "execution_count": 152,
   "metadata": {},
   "outputs": [
    {
     "name": "stdout",
     "output_type": "stream",
     "text": [
      "Fitting 5 folds for each of 2500 candidates, totalling 12500 fits\n"
     ]
    },
    {
     "name": "stderr",
     "output_type": "stream",
     "text": [
      "c:\\Users\\sofi\\miniconda3\\envs\\EO\\Lib\\site-packages\\sklearn\\linear_model\\_coordinate_descent.py:695: ConvergenceWarning:\n",
      "\n",
      "Objective did not converge. You might want to increase the number of iterations, check the scale of the features or consider increasing regularisation. Duality gap: 1.068e+03, tolerance: 5.180e-01 Linear regression models with null weight for the l1 regularization term are more efficiently fitted using one of the solvers implemented in sklearn.linear_model.Ridge/RidgeCV instead.\n",
      "\n"
     ]
    },
    {
     "data": {
      "text/html": [
       "<style>#sk-container-id-15 {\n",
       "  /* Definition of color scheme common for light and dark mode */\n",
       "  --sklearn-color-text: #000;\n",
       "  --sklearn-color-text-muted: #666;\n",
       "  --sklearn-color-line: gray;\n",
       "  /* Definition of color scheme for unfitted estimators */\n",
       "  --sklearn-color-unfitted-level-0: #fff5e6;\n",
       "  --sklearn-color-unfitted-level-1: #f6e4d2;\n",
       "  --sklearn-color-unfitted-level-2: #ffe0b3;\n",
       "  --sklearn-color-unfitted-level-3: chocolate;\n",
       "  /* Definition of color scheme for fitted estimators */\n",
       "  --sklearn-color-fitted-level-0: #f0f8ff;\n",
       "  --sklearn-color-fitted-level-1: #d4ebff;\n",
       "  --sklearn-color-fitted-level-2: #b3dbfd;\n",
       "  --sklearn-color-fitted-level-3: cornflowerblue;\n",
       "\n",
       "  /* Specific color for light theme */\n",
       "  --sklearn-color-text-on-default-background: var(--sg-text-color, var(--theme-code-foreground, var(--jp-content-font-color1, black)));\n",
       "  --sklearn-color-background: var(--sg-background-color, var(--theme-background, var(--jp-layout-color0, white)));\n",
       "  --sklearn-color-border-box: var(--sg-text-color, var(--theme-code-foreground, var(--jp-content-font-color1, black)));\n",
       "  --sklearn-color-icon: #696969;\n",
       "\n",
       "  @media (prefers-color-scheme: dark) {\n",
       "    /* Redefinition of color scheme for dark theme */\n",
       "    --sklearn-color-text-on-default-background: var(--sg-text-color, var(--theme-code-foreground, var(--jp-content-font-color1, white)));\n",
       "    --sklearn-color-background: var(--sg-background-color, var(--theme-background, var(--jp-layout-color0, #111)));\n",
       "    --sklearn-color-border-box: var(--sg-text-color, var(--theme-code-foreground, var(--jp-content-font-color1, white)));\n",
       "    --sklearn-color-icon: #878787;\n",
       "  }\n",
       "}\n",
       "\n",
       "#sk-container-id-15 {\n",
       "  color: var(--sklearn-color-text);\n",
       "}\n",
       "\n",
       "#sk-container-id-15 pre {\n",
       "  padding: 0;\n",
       "}\n",
       "\n",
       "#sk-container-id-15 input.sk-hidden--visually {\n",
       "  border: 0;\n",
       "  clip: rect(1px 1px 1px 1px);\n",
       "  clip: rect(1px, 1px, 1px, 1px);\n",
       "  height: 1px;\n",
       "  margin: -1px;\n",
       "  overflow: hidden;\n",
       "  padding: 0;\n",
       "  position: absolute;\n",
       "  width: 1px;\n",
       "}\n",
       "\n",
       "#sk-container-id-15 div.sk-dashed-wrapped {\n",
       "  border: 1px dashed var(--sklearn-color-line);\n",
       "  margin: 0 0.4em 0.5em 0.4em;\n",
       "  box-sizing: border-box;\n",
       "  padding-bottom: 0.4em;\n",
       "  background-color: var(--sklearn-color-background);\n",
       "}\n",
       "\n",
       "#sk-container-id-15 div.sk-container {\n",
       "  /* jupyter's `normalize.less` sets `[hidden] { display: none; }`\n",
       "     but bootstrap.min.css set `[hidden] { display: none !important; }`\n",
       "     so we also need the `!important` here to be able to override the\n",
       "     default hidden behavior on the sphinx rendered scikit-learn.org.\n",
       "     See: https://github.com/scikit-learn/scikit-learn/issues/21755 */\n",
       "  display: inline-block !important;\n",
       "  position: relative;\n",
       "}\n",
       "\n",
       "#sk-container-id-15 div.sk-text-repr-fallback {\n",
       "  display: none;\n",
       "}\n",
       "\n",
       "div.sk-parallel-item,\n",
       "div.sk-serial,\n",
       "div.sk-item {\n",
       "  /* draw centered vertical line to link estimators */\n",
       "  background-image: linear-gradient(var(--sklearn-color-text-on-default-background), var(--sklearn-color-text-on-default-background));\n",
       "  background-size: 2px 100%;\n",
       "  background-repeat: no-repeat;\n",
       "  background-position: center center;\n",
       "}\n",
       "\n",
       "/* Parallel-specific style estimator block */\n",
       "\n",
       "#sk-container-id-15 div.sk-parallel-item::after {\n",
       "  content: \"\";\n",
       "  width: 100%;\n",
       "  border-bottom: 2px solid var(--sklearn-color-text-on-default-background);\n",
       "  flex-grow: 1;\n",
       "}\n",
       "\n",
       "#sk-container-id-15 div.sk-parallel {\n",
       "  display: flex;\n",
       "  align-items: stretch;\n",
       "  justify-content: center;\n",
       "  background-color: var(--sklearn-color-background);\n",
       "  position: relative;\n",
       "}\n",
       "\n",
       "#sk-container-id-15 div.sk-parallel-item {\n",
       "  display: flex;\n",
       "  flex-direction: column;\n",
       "}\n",
       "\n",
       "#sk-container-id-15 div.sk-parallel-item:first-child::after {\n",
       "  align-self: flex-end;\n",
       "  width: 50%;\n",
       "}\n",
       "\n",
       "#sk-container-id-15 div.sk-parallel-item:last-child::after {\n",
       "  align-self: flex-start;\n",
       "  width: 50%;\n",
       "}\n",
       "\n",
       "#sk-container-id-15 div.sk-parallel-item:only-child::after {\n",
       "  width: 0;\n",
       "}\n",
       "\n",
       "/* Serial-specific style estimator block */\n",
       "\n",
       "#sk-container-id-15 div.sk-serial {\n",
       "  display: flex;\n",
       "  flex-direction: column;\n",
       "  align-items: center;\n",
       "  background-color: var(--sklearn-color-background);\n",
       "  padding-right: 1em;\n",
       "  padding-left: 1em;\n",
       "}\n",
       "\n",
       "\n",
       "/* Toggleable style: style used for estimator/Pipeline/ColumnTransformer box that is\n",
       "clickable and can be expanded/collapsed.\n",
       "- Pipeline and ColumnTransformer use this feature and define the default style\n",
       "- Estimators will overwrite some part of the style using the `sk-estimator` class\n",
       "*/\n",
       "\n",
       "/* Pipeline and ColumnTransformer style (default) */\n",
       "\n",
       "#sk-container-id-15 div.sk-toggleable {\n",
       "  /* Default theme specific background. It is overwritten whether we have a\n",
       "  specific estimator or a Pipeline/ColumnTransformer */\n",
       "  background-color: var(--sklearn-color-background);\n",
       "}\n",
       "\n",
       "/* Toggleable label */\n",
       "#sk-container-id-15 label.sk-toggleable__label {\n",
       "  cursor: pointer;\n",
       "  display: flex;\n",
       "  width: 100%;\n",
       "  margin-bottom: 0;\n",
       "  padding: 0.5em;\n",
       "  box-sizing: border-box;\n",
       "  text-align: center;\n",
       "  align-items: start;\n",
       "  justify-content: space-between;\n",
       "  gap: 0.5em;\n",
       "}\n",
       "\n",
       "#sk-container-id-15 label.sk-toggleable__label .caption {\n",
       "  font-size: 0.6rem;\n",
       "  font-weight: lighter;\n",
       "  color: var(--sklearn-color-text-muted);\n",
       "}\n",
       "\n",
       "#sk-container-id-15 label.sk-toggleable__label-arrow:before {\n",
       "  /* Arrow on the left of the label */\n",
       "  content: \"▸\";\n",
       "  float: left;\n",
       "  margin-right: 0.25em;\n",
       "  color: var(--sklearn-color-icon);\n",
       "}\n",
       "\n",
       "#sk-container-id-15 label.sk-toggleable__label-arrow:hover:before {\n",
       "  color: var(--sklearn-color-text);\n",
       "}\n",
       "\n",
       "/* Toggleable content - dropdown */\n",
       "\n",
       "#sk-container-id-15 div.sk-toggleable__content {\n",
       "  max-height: 0;\n",
       "  max-width: 0;\n",
       "  overflow: hidden;\n",
       "  text-align: left;\n",
       "  /* unfitted */\n",
       "  background-color: var(--sklearn-color-unfitted-level-0);\n",
       "}\n",
       "\n",
       "#sk-container-id-15 div.sk-toggleable__content.fitted {\n",
       "  /* fitted */\n",
       "  background-color: var(--sklearn-color-fitted-level-0);\n",
       "}\n",
       "\n",
       "#sk-container-id-15 div.sk-toggleable__content pre {\n",
       "  margin: 0.2em;\n",
       "  border-radius: 0.25em;\n",
       "  color: var(--sklearn-color-text);\n",
       "  /* unfitted */\n",
       "  background-color: var(--sklearn-color-unfitted-level-0);\n",
       "}\n",
       "\n",
       "#sk-container-id-15 div.sk-toggleable__content.fitted pre {\n",
       "  /* unfitted */\n",
       "  background-color: var(--sklearn-color-fitted-level-0);\n",
       "}\n",
       "\n",
       "#sk-container-id-15 input.sk-toggleable__control:checked~div.sk-toggleable__content {\n",
       "  /* Expand drop-down */\n",
       "  max-height: 200px;\n",
       "  max-width: 100%;\n",
       "  overflow: auto;\n",
       "}\n",
       "\n",
       "#sk-container-id-15 input.sk-toggleable__control:checked~label.sk-toggleable__label-arrow:before {\n",
       "  content: \"▾\";\n",
       "}\n",
       "\n",
       "/* Pipeline/ColumnTransformer-specific style */\n",
       "\n",
       "#sk-container-id-15 div.sk-label input.sk-toggleable__control:checked~label.sk-toggleable__label {\n",
       "  color: var(--sklearn-color-text);\n",
       "  background-color: var(--sklearn-color-unfitted-level-2);\n",
       "}\n",
       "\n",
       "#sk-container-id-15 div.sk-label.fitted input.sk-toggleable__control:checked~label.sk-toggleable__label {\n",
       "  background-color: var(--sklearn-color-fitted-level-2);\n",
       "}\n",
       "\n",
       "/* Estimator-specific style */\n",
       "\n",
       "/* Colorize estimator box */\n",
       "#sk-container-id-15 div.sk-estimator input.sk-toggleable__control:checked~label.sk-toggleable__label {\n",
       "  /* unfitted */\n",
       "  background-color: var(--sklearn-color-unfitted-level-2);\n",
       "}\n",
       "\n",
       "#sk-container-id-15 div.sk-estimator.fitted input.sk-toggleable__control:checked~label.sk-toggleable__label {\n",
       "  /* fitted */\n",
       "  background-color: var(--sklearn-color-fitted-level-2);\n",
       "}\n",
       "\n",
       "#sk-container-id-15 div.sk-label label.sk-toggleable__label,\n",
       "#sk-container-id-15 div.sk-label label {\n",
       "  /* The background is the default theme color */\n",
       "  color: var(--sklearn-color-text-on-default-background);\n",
       "}\n",
       "\n",
       "/* On hover, darken the color of the background */\n",
       "#sk-container-id-15 div.sk-label:hover label.sk-toggleable__label {\n",
       "  color: var(--sklearn-color-text);\n",
       "  background-color: var(--sklearn-color-unfitted-level-2);\n",
       "}\n",
       "\n",
       "/* Label box, darken color on hover, fitted */\n",
       "#sk-container-id-15 div.sk-label.fitted:hover label.sk-toggleable__label.fitted {\n",
       "  color: var(--sklearn-color-text);\n",
       "  background-color: var(--sklearn-color-fitted-level-2);\n",
       "}\n",
       "\n",
       "/* Estimator label */\n",
       "\n",
       "#sk-container-id-15 div.sk-label label {\n",
       "  font-family: monospace;\n",
       "  font-weight: bold;\n",
       "  display: inline-block;\n",
       "  line-height: 1.2em;\n",
       "}\n",
       "\n",
       "#sk-container-id-15 div.sk-label-container {\n",
       "  text-align: center;\n",
       "}\n",
       "\n",
       "/* Estimator-specific */\n",
       "#sk-container-id-15 div.sk-estimator {\n",
       "  font-family: monospace;\n",
       "  border: 1px dotted var(--sklearn-color-border-box);\n",
       "  border-radius: 0.25em;\n",
       "  box-sizing: border-box;\n",
       "  margin-bottom: 0.5em;\n",
       "  /* unfitted */\n",
       "  background-color: var(--sklearn-color-unfitted-level-0);\n",
       "}\n",
       "\n",
       "#sk-container-id-15 div.sk-estimator.fitted {\n",
       "  /* fitted */\n",
       "  background-color: var(--sklearn-color-fitted-level-0);\n",
       "}\n",
       "\n",
       "/* on hover */\n",
       "#sk-container-id-15 div.sk-estimator:hover {\n",
       "  /* unfitted */\n",
       "  background-color: var(--sklearn-color-unfitted-level-2);\n",
       "}\n",
       "\n",
       "#sk-container-id-15 div.sk-estimator.fitted:hover {\n",
       "  /* fitted */\n",
       "  background-color: var(--sklearn-color-fitted-level-2);\n",
       "}\n",
       "\n",
       "/* Specification for estimator info (e.g. \"i\" and \"?\") */\n",
       "\n",
       "/* Common style for \"i\" and \"?\" */\n",
       "\n",
       ".sk-estimator-doc-link,\n",
       "a:link.sk-estimator-doc-link,\n",
       "a:visited.sk-estimator-doc-link {\n",
       "  float: right;\n",
       "  font-size: smaller;\n",
       "  line-height: 1em;\n",
       "  font-family: monospace;\n",
       "  background-color: var(--sklearn-color-background);\n",
       "  border-radius: 1em;\n",
       "  height: 1em;\n",
       "  width: 1em;\n",
       "  text-decoration: none !important;\n",
       "  margin-left: 0.5em;\n",
       "  text-align: center;\n",
       "  /* unfitted */\n",
       "  border: var(--sklearn-color-unfitted-level-1) 1pt solid;\n",
       "  color: var(--sklearn-color-unfitted-level-1);\n",
       "}\n",
       "\n",
       ".sk-estimator-doc-link.fitted,\n",
       "a:link.sk-estimator-doc-link.fitted,\n",
       "a:visited.sk-estimator-doc-link.fitted {\n",
       "  /* fitted */\n",
       "  border: var(--sklearn-color-fitted-level-1) 1pt solid;\n",
       "  color: var(--sklearn-color-fitted-level-1);\n",
       "}\n",
       "\n",
       "/* On hover */\n",
       "div.sk-estimator:hover .sk-estimator-doc-link:hover,\n",
       ".sk-estimator-doc-link:hover,\n",
       "div.sk-label-container:hover .sk-estimator-doc-link:hover,\n",
       ".sk-estimator-doc-link:hover {\n",
       "  /* unfitted */\n",
       "  background-color: var(--sklearn-color-unfitted-level-3);\n",
       "  color: var(--sklearn-color-background);\n",
       "  text-decoration: none;\n",
       "}\n",
       "\n",
       "div.sk-estimator.fitted:hover .sk-estimator-doc-link.fitted:hover,\n",
       ".sk-estimator-doc-link.fitted:hover,\n",
       "div.sk-label-container:hover .sk-estimator-doc-link.fitted:hover,\n",
       ".sk-estimator-doc-link.fitted:hover {\n",
       "  /* fitted */\n",
       "  background-color: var(--sklearn-color-fitted-level-3);\n",
       "  color: var(--sklearn-color-background);\n",
       "  text-decoration: none;\n",
       "}\n",
       "\n",
       "/* Span, style for the box shown on hovering the info icon */\n",
       ".sk-estimator-doc-link span {\n",
       "  display: none;\n",
       "  z-index: 9999;\n",
       "  position: relative;\n",
       "  font-weight: normal;\n",
       "  right: .2ex;\n",
       "  padding: .5ex;\n",
       "  margin: .5ex;\n",
       "  width: min-content;\n",
       "  min-width: 20ex;\n",
       "  max-width: 50ex;\n",
       "  color: var(--sklearn-color-text);\n",
       "  box-shadow: 2pt 2pt 4pt #999;\n",
       "  /* unfitted */\n",
       "  background: var(--sklearn-color-unfitted-level-0);\n",
       "  border: .5pt solid var(--sklearn-color-unfitted-level-3);\n",
       "}\n",
       "\n",
       ".sk-estimator-doc-link.fitted span {\n",
       "  /* fitted */\n",
       "  background: var(--sklearn-color-fitted-level-0);\n",
       "  border: var(--sklearn-color-fitted-level-3);\n",
       "}\n",
       "\n",
       ".sk-estimator-doc-link:hover span {\n",
       "  display: block;\n",
       "}\n",
       "\n",
       "/* \"?\"-specific style due to the `<a>` HTML tag */\n",
       "\n",
       "#sk-container-id-15 a.estimator_doc_link {\n",
       "  float: right;\n",
       "  font-size: 1rem;\n",
       "  line-height: 1em;\n",
       "  font-family: monospace;\n",
       "  background-color: var(--sklearn-color-background);\n",
       "  border-radius: 1rem;\n",
       "  height: 1rem;\n",
       "  width: 1rem;\n",
       "  text-decoration: none;\n",
       "  /* unfitted */\n",
       "  color: var(--sklearn-color-unfitted-level-1);\n",
       "  border: var(--sklearn-color-unfitted-level-1) 1pt solid;\n",
       "}\n",
       "\n",
       "#sk-container-id-15 a.estimator_doc_link.fitted {\n",
       "  /* fitted */\n",
       "  border: var(--sklearn-color-fitted-level-1) 1pt solid;\n",
       "  color: var(--sklearn-color-fitted-level-1);\n",
       "}\n",
       "\n",
       "/* On hover */\n",
       "#sk-container-id-15 a.estimator_doc_link:hover {\n",
       "  /* unfitted */\n",
       "  background-color: var(--sklearn-color-unfitted-level-3);\n",
       "  color: var(--sklearn-color-background);\n",
       "  text-decoration: none;\n",
       "}\n",
       "\n",
       "#sk-container-id-15 a.estimator_doc_link.fitted:hover {\n",
       "  /* fitted */\n",
       "  background-color: var(--sklearn-color-fitted-level-3);\n",
       "}\n",
       "</style><div id=\"sk-container-id-15\" class=\"sk-top-container\"><div class=\"sk-text-repr-fallback\"><pre>GridSearchCV(cv=5,\n",
       "             estimator=Pipeline(steps=[(&#x27;scaler&#x27;, StandardScaler()),\n",
       "                                       (&#x27;model&#x27;, ElasticNet(max_iter=10000))]),\n",
       "             n_jobs=-1,\n",
       "             param_grid={&#x27;model__alpha&#x27;: array([1.00000000e-05, 1.38949549e-05, 1.93069773e-05, 2.68269580e-05,\n",
       "       3.72759372e-05, 5.17947468e-05, 7.19685673e-05, 1.00000000e-04,\n",
       "       1.38949549e-04, 1.93069773e-04, 2.68269580e-04, 3.72759372e-04,\n",
       "       5.17947468e-04,...\n",
       "       0.30612245, 0.32653061, 0.34693878, 0.36734694, 0.3877551 ,\n",
       "       0.40816327, 0.42857143, 0.44897959, 0.46938776, 0.48979592,\n",
       "       0.51020408, 0.53061224, 0.55102041, 0.57142857, 0.59183673,\n",
       "       0.6122449 , 0.63265306, 0.65306122, 0.67346939, 0.69387755,\n",
       "       0.71428571, 0.73469388, 0.75510204, 0.7755102 , 0.79591837,\n",
       "       0.81632653, 0.83673469, 0.85714286, 0.87755102, 0.89795918,\n",
       "       0.91836735, 0.93877551, 0.95918367, 0.97959184, 1.        ])},\n",
       "             scoring=&#x27;r2&#x27;, verbose=2)</pre><b>In a Jupyter environment, please rerun this cell to show the HTML representation or trust the notebook. <br />On GitHub, the HTML representation is unable to render, please try loading this page with nbviewer.org.</b></div><div class=\"sk-container\" hidden><div class=\"sk-item sk-dashed-wrapped\"><div class=\"sk-label-container\"><div class=\"sk-label fitted sk-toggleable\"><input class=\"sk-toggleable__control sk-hidden--visually\" id=\"sk-estimator-id-25\" type=\"checkbox\" ><label for=\"sk-estimator-id-25\" class=\"sk-toggleable__label fitted sk-toggleable__label-arrow\"><div><div>GridSearchCV</div></div><div><a class=\"sk-estimator-doc-link fitted\" rel=\"noreferrer\" target=\"_blank\" href=\"https://scikit-learn.org/1.6/modules/generated/sklearn.model_selection.GridSearchCV.html\">?<span>Documentation for GridSearchCV</span></a><span class=\"sk-estimator-doc-link fitted\">i<span>Fitted</span></span></div></label><div class=\"sk-toggleable__content fitted\"><pre>GridSearchCV(cv=5,\n",
       "             estimator=Pipeline(steps=[(&#x27;scaler&#x27;, StandardScaler()),\n",
       "                                       (&#x27;model&#x27;, ElasticNet(max_iter=10000))]),\n",
       "             n_jobs=-1,\n",
       "             param_grid={&#x27;model__alpha&#x27;: array([1.00000000e-05, 1.38949549e-05, 1.93069773e-05, 2.68269580e-05,\n",
       "       3.72759372e-05, 5.17947468e-05, 7.19685673e-05, 1.00000000e-04,\n",
       "       1.38949549e-04, 1.93069773e-04, 2.68269580e-04, 3.72759372e-04,\n",
       "       5.17947468e-04,...\n",
       "       0.30612245, 0.32653061, 0.34693878, 0.36734694, 0.3877551 ,\n",
       "       0.40816327, 0.42857143, 0.44897959, 0.46938776, 0.48979592,\n",
       "       0.51020408, 0.53061224, 0.55102041, 0.57142857, 0.59183673,\n",
       "       0.6122449 , 0.63265306, 0.65306122, 0.67346939, 0.69387755,\n",
       "       0.71428571, 0.73469388, 0.75510204, 0.7755102 , 0.79591837,\n",
       "       0.81632653, 0.83673469, 0.85714286, 0.87755102, 0.89795918,\n",
       "       0.91836735, 0.93877551, 0.95918367, 0.97959184, 1.        ])},\n",
       "             scoring=&#x27;r2&#x27;, verbose=2)</pre></div> </div></div><div class=\"sk-parallel\"><div class=\"sk-parallel-item\"><div class=\"sk-item\"><div class=\"sk-label-container\"><div class=\"sk-label fitted sk-toggleable\"><input class=\"sk-toggleable__control sk-hidden--visually\" id=\"sk-estimator-id-26\" type=\"checkbox\" ><label for=\"sk-estimator-id-26\" class=\"sk-toggleable__label fitted sk-toggleable__label-arrow\"><div><div>best_estimator_: Pipeline</div></div></label><div class=\"sk-toggleable__content fitted\"><pre>Pipeline(steps=[(&#x27;scaler&#x27;, StandardScaler()),\n",
       "                (&#x27;model&#x27;,\n",
       "                 ElasticNet(alpha=np.float64(0.1389495494373136),\n",
       "                            l1_ratio=np.float64(0.0), max_iter=10000))])</pre></div> </div></div><div class=\"sk-serial\"><div class=\"sk-item\"><div class=\"sk-serial\"><div class=\"sk-item\"><div class=\"sk-estimator fitted sk-toggleable\"><input class=\"sk-toggleable__control sk-hidden--visually\" id=\"sk-estimator-id-27\" type=\"checkbox\" ><label for=\"sk-estimator-id-27\" class=\"sk-toggleable__label fitted sk-toggleable__label-arrow\"><div><div>StandardScaler</div></div><div><a class=\"sk-estimator-doc-link fitted\" rel=\"noreferrer\" target=\"_blank\" href=\"https://scikit-learn.org/1.6/modules/generated/sklearn.preprocessing.StandardScaler.html\">?<span>Documentation for StandardScaler</span></a></div></label><div class=\"sk-toggleable__content fitted\"><pre>StandardScaler()</pre></div> </div></div><div class=\"sk-item\"><div class=\"sk-estimator fitted sk-toggleable\"><input class=\"sk-toggleable__control sk-hidden--visually\" id=\"sk-estimator-id-28\" type=\"checkbox\" ><label for=\"sk-estimator-id-28\" class=\"sk-toggleable__label fitted sk-toggleable__label-arrow\"><div><div>ElasticNet</div></div><div><a class=\"sk-estimator-doc-link fitted\" rel=\"noreferrer\" target=\"_blank\" href=\"https://scikit-learn.org/1.6/modules/generated/sklearn.linear_model.ElasticNet.html\">?<span>Documentation for ElasticNet</span></a></div></label><div class=\"sk-toggleable__content fitted\"><pre>ElasticNet(alpha=np.float64(0.1389495494373136), l1_ratio=np.float64(0.0),\n",
       "           max_iter=10000)</pre></div> </div></div></div></div></div></div></div></div></div></div></div>"
      ],
      "text/plain": [
       "GridSearchCV(cv=5,\n",
       "             estimator=Pipeline(steps=[('scaler', StandardScaler()),\n",
       "                                       ('model', ElasticNet(max_iter=10000))]),\n",
       "             n_jobs=-1,\n",
       "             param_grid={'model__alpha': array([1.00000000e-05, 1.38949549e-05, 1.93069773e-05, 2.68269580e-05,\n",
       "       3.72759372e-05, 5.17947468e-05, 7.19685673e-05, 1.00000000e-04,\n",
       "       1.38949549e-04, 1.93069773e-04, 2.68269580e-04, 3.72759372e-04,\n",
       "       5.17947468e-04,...\n",
       "       0.30612245, 0.32653061, 0.34693878, 0.36734694, 0.3877551 ,\n",
       "       0.40816327, 0.42857143, 0.44897959, 0.46938776, 0.48979592,\n",
       "       0.51020408, 0.53061224, 0.55102041, 0.57142857, 0.59183673,\n",
       "       0.6122449 , 0.63265306, 0.65306122, 0.67346939, 0.69387755,\n",
       "       0.71428571, 0.73469388, 0.75510204, 0.7755102 , 0.79591837,\n",
       "       0.81632653, 0.83673469, 0.85714286, 0.87755102, 0.89795918,\n",
       "       0.91836735, 0.93877551, 0.95918367, 0.97959184, 1.        ])},\n",
       "             scoring='r2', verbose=2)"
      ]
     },
     "execution_count": 152,
     "metadata": {},
     "output_type": "execute_result"
    }
   ],
   "source": [
    "grid_search = GridSearchCV(\n",
    "    estimator=pipeline,\n",
    "    param_grid=param_grid,\n",
    "    cv=5,\n",
    "    scoring='r2',\n",
    "    verbose=2,\n",
    "    n_jobs=-1  \n",
    ")\n",
    "\n",
    "grid_search.fit(X_train_net, y_train_net)\n"
   ]
  },
  {
   "cell_type": "code",
   "execution_count": 153,
   "metadata": {},
   "outputs": [
    {
     "name": "stdout",
     "output_type": "stream",
     "text": [
      "Mejores hiperparámetros:\n",
      "{'model__alpha': np.float64(0.1389495494373136), 'model__l1_ratio': np.float64(0.0)}\n"
     ]
    }
   ],
   "source": [
    "print(\"Mejores hiperparámetros:\")\n",
    "print(grid_search.best_params_)"
   ]
  },
  {
   "cell_type": "code",
   "execution_count": 154,
   "metadata": {},
   "outputs": [
    {
     "name": "stdout",
     "output_type": "stream",
     "text": [
      "ElasticNet R2: 0.4247, RMSE: 5.8537\n"
     ]
    }
   ],
   "source": [
    "y_pred_elastic = grid_search.predict(X_test_net)\n",
    "\n",
    "r2_elastic = r2_score(y_test_net, y_pred_elastic)\n",
    "rmse_elastic = np.sqrt(mean_squared_error(y_test_net, y_pred_elastic))\n",
    "\n",
    "print(f\"ElasticNet R2: {r2_elastic:.4f}, RMSE: {rmse_elastic:.4f}\")"
   ]
  },
  {
   "cell_type": "code",
   "execution_count": 155,
   "metadata": {},
   "outputs": [
    {
     "data": {
      "application/vnd.plotly.v1+json": {
       "config": {
        "plotlyServerURL": "https://plot.ly"
       },
       "data": [
        {
         "marker": {
          "color": "orange"
         },
         "mode": "markers",
         "name": "ElasticNet Pred",
         "type": "scatter",
         "x": {
          "bdata": "uQCtAK8AnwA=",
          "dtype": "i2"
         },
         "y": {
          "bdata": "mFtKRbTsY0ABd7mSziFmQKOb7jENZmVAsiLljLWhZUAtWZBjSiJkQH2zheSbAmRAcBjJcQ22ZUBb2SK5g7dlQICKTDfeVmZAfioe18AEZkAMkI5wVyhkQI/D7A91PmRAUdrO7fZ1ZEDeaOPmtwxmQA==",
          "dtype": "f8"
         }
        },
        {
         "line": {
          "color": "red",
          "dash": "dash"
         },
         "mode": "lines",
         "name": "Línea Ideal",
         "type": "scatter",
         "x": {
          "bdata": "uQCtAK8AnwA=",
          "dtype": "i2"
         },
         "y": {
          "bdata": "uQCtAK8AnwA=",
          "dtype": "i2"
         }
        }
       ],
       "layout": {
        "height": 500,
        "template": {
         "data": {
          "bar": [
           {
            "error_x": {
             "color": "#2a3f5f"
            },
            "error_y": {
             "color": "#2a3f5f"
            },
            "marker": {
             "line": {
              "color": "#E5ECF6",
              "width": 0.5
             },
             "pattern": {
              "fillmode": "overlay",
              "size": 10,
              "solidity": 0.2
             }
            },
            "type": "bar"
           }
          ],
          "barpolar": [
           {
            "marker": {
             "line": {
              "color": "#E5ECF6",
              "width": 0.5
             },
             "pattern": {
              "fillmode": "overlay",
              "size": 10,
              "solidity": 0.2
             }
            },
            "type": "barpolar"
           }
          ],
          "carpet": [
           {
            "aaxis": {
             "endlinecolor": "#2a3f5f",
             "gridcolor": "white",
             "linecolor": "white",
             "minorgridcolor": "white",
             "startlinecolor": "#2a3f5f"
            },
            "baxis": {
             "endlinecolor": "#2a3f5f",
             "gridcolor": "white",
             "linecolor": "white",
             "minorgridcolor": "white",
             "startlinecolor": "#2a3f5f"
            },
            "type": "carpet"
           }
          ],
          "choropleth": [
           {
            "colorbar": {
             "outlinewidth": 0,
             "ticks": ""
            },
            "type": "choropleth"
           }
          ],
          "contour": [
           {
            "colorbar": {
             "outlinewidth": 0,
             "ticks": ""
            },
            "colorscale": [
             [
              0,
              "#0d0887"
             ],
             [
              0.1111111111111111,
              "#46039f"
             ],
             [
              0.2222222222222222,
              "#7201a8"
             ],
             [
              0.3333333333333333,
              "#9c179e"
             ],
             [
              0.4444444444444444,
              "#bd3786"
             ],
             [
              0.5555555555555556,
              "#d8576b"
             ],
             [
              0.6666666666666666,
              "#ed7953"
             ],
             [
              0.7777777777777778,
              "#fb9f3a"
             ],
             [
              0.8888888888888888,
              "#fdca26"
             ],
             [
              1,
              "#f0f921"
             ]
            ],
            "type": "contour"
           }
          ],
          "contourcarpet": [
           {
            "colorbar": {
             "outlinewidth": 0,
             "ticks": ""
            },
            "type": "contourcarpet"
           }
          ],
          "heatmap": [
           {
            "colorbar": {
             "outlinewidth": 0,
             "ticks": ""
            },
            "colorscale": [
             [
              0,
              "#0d0887"
             ],
             [
              0.1111111111111111,
              "#46039f"
             ],
             [
              0.2222222222222222,
              "#7201a8"
             ],
             [
              0.3333333333333333,
              "#9c179e"
             ],
             [
              0.4444444444444444,
              "#bd3786"
             ],
             [
              0.5555555555555556,
              "#d8576b"
             ],
             [
              0.6666666666666666,
              "#ed7953"
             ],
             [
              0.7777777777777778,
              "#fb9f3a"
             ],
             [
              0.8888888888888888,
              "#fdca26"
             ],
             [
              1,
              "#f0f921"
             ]
            ],
            "type": "heatmap"
           }
          ],
          "histogram": [
           {
            "marker": {
             "pattern": {
              "fillmode": "overlay",
              "size": 10,
              "solidity": 0.2
             }
            },
            "type": "histogram"
           }
          ],
          "histogram2d": [
           {
            "colorbar": {
             "outlinewidth": 0,
             "ticks": ""
            },
            "colorscale": [
             [
              0,
              "#0d0887"
             ],
             [
              0.1111111111111111,
              "#46039f"
             ],
             [
              0.2222222222222222,
              "#7201a8"
             ],
             [
              0.3333333333333333,
              "#9c179e"
             ],
             [
              0.4444444444444444,
              "#bd3786"
             ],
             [
              0.5555555555555556,
              "#d8576b"
             ],
             [
              0.6666666666666666,
              "#ed7953"
             ],
             [
              0.7777777777777778,
              "#fb9f3a"
             ],
             [
              0.8888888888888888,
              "#fdca26"
             ],
             [
              1,
              "#f0f921"
             ]
            ],
            "type": "histogram2d"
           }
          ],
          "histogram2dcontour": [
           {
            "colorbar": {
             "outlinewidth": 0,
             "ticks": ""
            },
            "colorscale": [
             [
              0,
              "#0d0887"
             ],
             [
              0.1111111111111111,
              "#46039f"
             ],
             [
              0.2222222222222222,
              "#7201a8"
             ],
             [
              0.3333333333333333,
              "#9c179e"
             ],
             [
              0.4444444444444444,
              "#bd3786"
             ],
             [
              0.5555555555555556,
              "#d8576b"
             ],
             [
              0.6666666666666666,
              "#ed7953"
             ],
             [
              0.7777777777777778,
              "#fb9f3a"
             ],
             [
              0.8888888888888888,
              "#fdca26"
             ],
             [
              1,
              "#f0f921"
             ]
            ],
            "type": "histogram2dcontour"
           }
          ],
          "mesh3d": [
           {
            "colorbar": {
             "outlinewidth": 0,
             "ticks": ""
            },
            "type": "mesh3d"
           }
          ],
          "parcoords": [
           {
            "line": {
             "colorbar": {
              "outlinewidth": 0,
              "ticks": ""
             }
            },
            "type": "parcoords"
           }
          ],
          "pie": [
           {
            "automargin": true,
            "type": "pie"
           }
          ],
          "scatter": [
           {
            "fillpattern": {
             "fillmode": "overlay",
             "size": 10,
             "solidity": 0.2
            },
            "type": "scatter"
           }
          ],
          "scatter3d": [
           {
            "line": {
             "colorbar": {
              "outlinewidth": 0,
              "ticks": ""
             }
            },
            "marker": {
             "colorbar": {
              "outlinewidth": 0,
              "ticks": ""
             }
            },
            "type": "scatter3d"
           }
          ],
          "scattercarpet": [
           {
            "marker": {
             "colorbar": {
              "outlinewidth": 0,
              "ticks": ""
             }
            },
            "type": "scattercarpet"
           }
          ],
          "scattergeo": [
           {
            "marker": {
             "colorbar": {
              "outlinewidth": 0,
              "ticks": ""
             }
            },
            "type": "scattergeo"
           }
          ],
          "scattergl": [
           {
            "marker": {
             "colorbar": {
              "outlinewidth": 0,
              "ticks": ""
             }
            },
            "type": "scattergl"
           }
          ],
          "scattermap": [
           {
            "marker": {
             "colorbar": {
              "outlinewidth": 0,
              "ticks": ""
             }
            },
            "type": "scattermap"
           }
          ],
          "scattermapbox": [
           {
            "marker": {
             "colorbar": {
              "outlinewidth": 0,
              "ticks": ""
             }
            },
            "type": "scattermapbox"
           }
          ],
          "scatterpolar": [
           {
            "marker": {
             "colorbar": {
              "outlinewidth": 0,
              "ticks": ""
             }
            },
            "type": "scatterpolar"
           }
          ],
          "scatterpolargl": [
           {
            "marker": {
             "colorbar": {
              "outlinewidth": 0,
              "ticks": ""
             }
            },
            "type": "scatterpolargl"
           }
          ],
          "scatterternary": [
           {
            "marker": {
             "colorbar": {
              "outlinewidth": 0,
              "ticks": ""
             }
            },
            "type": "scatterternary"
           }
          ],
          "surface": [
           {
            "colorbar": {
             "outlinewidth": 0,
             "ticks": ""
            },
            "colorscale": [
             [
              0,
              "#0d0887"
             ],
             [
              0.1111111111111111,
              "#46039f"
             ],
             [
              0.2222222222222222,
              "#7201a8"
             ],
             [
              0.3333333333333333,
              "#9c179e"
             ],
             [
              0.4444444444444444,
              "#bd3786"
             ],
             [
              0.5555555555555556,
              "#d8576b"
             ],
             [
              0.6666666666666666,
              "#ed7953"
             ],
             [
              0.7777777777777778,
              "#fb9f3a"
             ],
             [
              0.8888888888888888,
              "#fdca26"
             ],
             [
              1,
              "#f0f921"
             ]
            ],
            "type": "surface"
           }
          ],
          "table": [
           {
            "cells": {
             "fill": {
              "color": "#EBF0F8"
             },
             "line": {
              "color": "white"
             }
            },
            "header": {
             "fill": {
              "color": "#C8D4E3"
             },
             "line": {
              "color": "white"
             }
            },
            "type": "table"
           }
          ]
         },
         "layout": {
          "annotationdefaults": {
           "arrowcolor": "#2a3f5f",
           "arrowhead": 0,
           "arrowwidth": 1
          },
          "autotypenumbers": "strict",
          "coloraxis": {
           "colorbar": {
            "outlinewidth": 0,
            "ticks": ""
           }
          },
          "colorscale": {
           "diverging": [
            [
             0,
             "#8e0152"
            ],
            [
             0.1,
             "#c51b7d"
            ],
            [
             0.2,
             "#de77ae"
            ],
            [
             0.3,
             "#f1b6da"
            ],
            [
             0.4,
             "#fde0ef"
            ],
            [
             0.5,
             "#f7f7f7"
            ],
            [
             0.6,
             "#e6f5d0"
            ],
            [
             0.7,
             "#b8e186"
            ],
            [
             0.8,
             "#7fbc41"
            ],
            [
             0.9,
             "#4d9221"
            ],
            [
             1,
             "#276419"
            ]
           ],
           "sequential": [
            [
             0,
             "#0d0887"
            ],
            [
             0.1111111111111111,
             "#46039f"
            ],
            [
             0.2222222222222222,
             "#7201a8"
            ],
            [
             0.3333333333333333,
             "#9c179e"
            ],
            [
             0.4444444444444444,
             "#bd3786"
            ],
            [
             0.5555555555555556,
             "#d8576b"
            ],
            [
             0.6666666666666666,
             "#ed7953"
            ],
            [
             0.7777777777777778,
             "#fb9f3a"
            ],
            [
             0.8888888888888888,
             "#fdca26"
            ],
            [
             1,
             "#f0f921"
            ]
           ],
           "sequentialminus": [
            [
             0,
             "#0d0887"
            ],
            [
             0.1111111111111111,
             "#46039f"
            ],
            [
             0.2222222222222222,
             "#7201a8"
            ],
            [
             0.3333333333333333,
             "#9c179e"
            ],
            [
             0.4444444444444444,
             "#bd3786"
            ],
            [
             0.5555555555555556,
             "#d8576b"
            ],
            [
             0.6666666666666666,
             "#ed7953"
            ],
            [
             0.7777777777777778,
             "#fb9f3a"
            ],
            [
             0.8888888888888888,
             "#fdca26"
            ],
            [
             1,
             "#f0f921"
            ]
           ]
          },
          "colorway": [
           "#636efa",
           "#EF553B",
           "#00cc96",
           "#ab63fa",
           "#FFA15A",
           "#19d3f3",
           "#FF6692",
           "#B6E880",
           "#FF97FF",
           "#FECB52"
          ],
          "font": {
           "color": "#2a3f5f"
          },
          "geo": {
           "bgcolor": "white",
           "lakecolor": "white",
           "landcolor": "#E5ECF6",
           "showlakes": true,
           "showland": true,
           "subunitcolor": "white"
          },
          "hoverlabel": {
           "align": "left"
          },
          "hovermode": "closest",
          "mapbox": {
           "style": "light"
          },
          "paper_bgcolor": "white",
          "plot_bgcolor": "#E5ECF6",
          "polar": {
           "angularaxis": {
            "gridcolor": "white",
            "linecolor": "white",
            "ticks": ""
           },
           "bgcolor": "#E5ECF6",
           "radialaxis": {
            "gridcolor": "white",
            "linecolor": "white",
            "ticks": ""
           }
          },
          "scene": {
           "xaxis": {
            "backgroundcolor": "#E5ECF6",
            "gridcolor": "white",
            "gridwidth": 2,
            "linecolor": "white",
            "showbackground": true,
            "ticks": "",
            "zerolinecolor": "white"
           },
           "yaxis": {
            "backgroundcolor": "#E5ECF6",
            "gridcolor": "white",
            "gridwidth": 2,
            "linecolor": "white",
            "showbackground": true,
            "ticks": "",
            "zerolinecolor": "white"
           },
           "zaxis": {
            "backgroundcolor": "#E5ECF6",
            "gridcolor": "white",
            "gridwidth": 2,
            "linecolor": "white",
            "showbackground": true,
            "ticks": "",
            "zerolinecolor": "white"
           }
          },
          "shapedefaults": {
           "line": {
            "color": "#2a3f5f"
           }
          },
          "ternary": {
           "aaxis": {
            "gridcolor": "white",
            "linecolor": "white",
            "ticks": ""
           },
           "baxis": {
            "gridcolor": "white",
            "linecolor": "white",
            "ticks": ""
           },
           "bgcolor": "#E5ECF6",
           "caxis": {
            "gridcolor": "white",
            "linecolor": "white",
            "ticks": ""
           }
          },
          "title": {
           "x": 0.05
          },
          "xaxis": {
           "automargin": true,
           "gridcolor": "white",
           "linecolor": "white",
           "ticks": "",
           "title": {
            "standoff": 15
           },
           "zerolinecolor": "white",
           "zerolinewidth": 2
          },
          "yaxis": {
           "automargin": true,
           "gridcolor": "white",
           "linecolor": "white",
           "ticks": "",
           "title": {
            "standoff": 15
           },
           "zerolinecolor": "white",
           "zerolinewidth": 2
          }
         }
        },
        "title": {
         "text": "ElasticNet con GridSearch (Malla Amplia)"
        },
        "width": 700,
        "xaxis": {
         "title": {
          "text": "Altura Real"
         }
        },
        "yaxis": {
         "title": {
          "text": "Altura Predicha"
         }
        }
       }
      }
     },
     "metadata": {},
     "output_type": "display_data"
    }
   ],
   "source": [
    "fig_elastic = go.Figure()\n",
    "\n",
    "fig_elastic.add_trace(go.Scatter(\n",
    "    x=y_test, \n",
    "    y=y_pred_elastic,\n",
    "    mode='markers',\n",
    "    name='ElasticNet Pred',\n",
    "    marker=dict(color='orange')\n",
    "))\n",
    "\n",
    "fig_elastic.add_trace(go.Scatter(\n",
    "    x=y_test,\n",
    "    y=y_test,\n",
    "    mode='lines',\n",
    "    name='Línea Ideal',\n",
    "    line=dict(color='red', dash='dash')\n",
    "))\n",
    "\n",
    "fig_elastic.update_layout(\n",
    "    title='ElasticNet con GridSearch (Malla Amplia)',\n",
    "    xaxis_title='Altura Real',\n",
    "    yaxis_title='Altura Predicha',\n",
    "    width=700,\n",
    "    height=500\n",
    ")\n",
    "\n",
    "fig_elastic.show()\n"
   ]
  },
  {
   "cell_type": "markdown",
   "metadata": {},
   "source": [
    "### **Modelo 5: Pie Coef_ Intercep_**"
   ]
  },
  {
   "cell_type": "code",
   "execution_count": 156,
   "metadata": {},
   "outputs": [],
   "source": [
    "X = df_ori[['Pie']]\n",
    "y = df_ori['Altura']\n",
    "\n",
    "X_train_5, X_test_5, y_train_5, y_test_5 = train_test_split(X, y, test_size=0.2, random_state=42)"
   ]
  },
  {
   "cell_type": "code",
   "execution_count": 157,
   "metadata": {},
   "outputs": [
    {
     "data": {
      "text/html": [
       "<style>#sk-container-id-16 {\n",
       "  /* Definition of color scheme common for light and dark mode */\n",
       "  --sklearn-color-text: #000;\n",
       "  --sklearn-color-text-muted: #666;\n",
       "  --sklearn-color-line: gray;\n",
       "  /* Definition of color scheme for unfitted estimators */\n",
       "  --sklearn-color-unfitted-level-0: #fff5e6;\n",
       "  --sklearn-color-unfitted-level-1: #f6e4d2;\n",
       "  --sklearn-color-unfitted-level-2: #ffe0b3;\n",
       "  --sklearn-color-unfitted-level-3: chocolate;\n",
       "  /* Definition of color scheme for fitted estimators */\n",
       "  --sklearn-color-fitted-level-0: #f0f8ff;\n",
       "  --sklearn-color-fitted-level-1: #d4ebff;\n",
       "  --sklearn-color-fitted-level-2: #b3dbfd;\n",
       "  --sklearn-color-fitted-level-3: cornflowerblue;\n",
       "\n",
       "  /* Specific color for light theme */\n",
       "  --sklearn-color-text-on-default-background: var(--sg-text-color, var(--theme-code-foreground, var(--jp-content-font-color1, black)));\n",
       "  --sklearn-color-background: var(--sg-background-color, var(--theme-background, var(--jp-layout-color0, white)));\n",
       "  --sklearn-color-border-box: var(--sg-text-color, var(--theme-code-foreground, var(--jp-content-font-color1, black)));\n",
       "  --sklearn-color-icon: #696969;\n",
       "\n",
       "  @media (prefers-color-scheme: dark) {\n",
       "    /* Redefinition of color scheme for dark theme */\n",
       "    --sklearn-color-text-on-default-background: var(--sg-text-color, var(--theme-code-foreground, var(--jp-content-font-color1, white)));\n",
       "    --sklearn-color-background: var(--sg-background-color, var(--theme-background, var(--jp-layout-color0, #111)));\n",
       "    --sklearn-color-border-box: var(--sg-text-color, var(--theme-code-foreground, var(--jp-content-font-color1, white)));\n",
       "    --sklearn-color-icon: #878787;\n",
       "  }\n",
       "}\n",
       "\n",
       "#sk-container-id-16 {\n",
       "  color: var(--sklearn-color-text);\n",
       "}\n",
       "\n",
       "#sk-container-id-16 pre {\n",
       "  padding: 0;\n",
       "}\n",
       "\n",
       "#sk-container-id-16 input.sk-hidden--visually {\n",
       "  border: 0;\n",
       "  clip: rect(1px 1px 1px 1px);\n",
       "  clip: rect(1px, 1px, 1px, 1px);\n",
       "  height: 1px;\n",
       "  margin: -1px;\n",
       "  overflow: hidden;\n",
       "  padding: 0;\n",
       "  position: absolute;\n",
       "  width: 1px;\n",
       "}\n",
       "\n",
       "#sk-container-id-16 div.sk-dashed-wrapped {\n",
       "  border: 1px dashed var(--sklearn-color-line);\n",
       "  margin: 0 0.4em 0.5em 0.4em;\n",
       "  box-sizing: border-box;\n",
       "  padding-bottom: 0.4em;\n",
       "  background-color: var(--sklearn-color-background);\n",
       "}\n",
       "\n",
       "#sk-container-id-16 div.sk-container {\n",
       "  /* jupyter's `normalize.less` sets `[hidden] { display: none; }`\n",
       "     but bootstrap.min.css set `[hidden] { display: none !important; }`\n",
       "     so we also need the `!important` here to be able to override the\n",
       "     default hidden behavior on the sphinx rendered scikit-learn.org.\n",
       "     See: https://github.com/scikit-learn/scikit-learn/issues/21755 */\n",
       "  display: inline-block !important;\n",
       "  position: relative;\n",
       "}\n",
       "\n",
       "#sk-container-id-16 div.sk-text-repr-fallback {\n",
       "  display: none;\n",
       "}\n",
       "\n",
       "div.sk-parallel-item,\n",
       "div.sk-serial,\n",
       "div.sk-item {\n",
       "  /* draw centered vertical line to link estimators */\n",
       "  background-image: linear-gradient(var(--sklearn-color-text-on-default-background), var(--sklearn-color-text-on-default-background));\n",
       "  background-size: 2px 100%;\n",
       "  background-repeat: no-repeat;\n",
       "  background-position: center center;\n",
       "}\n",
       "\n",
       "/* Parallel-specific style estimator block */\n",
       "\n",
       "#sk-container-id-16 div.sk-parallel-item::after {\n",
       "  content: \"\";\n",
       "  width: 100%;\n",
       "  border-bottom: 2px solid var(--sklearn-color-text-on-default-background);\n",
       "  flex-grow: 1;\n",
       "}\n",
       "\n",
       "#sk-container-id-16 div.sk-parallel {\n",
       "  display: flex;\n",
       "  align-items: stretch;\n",
       "  justify-content: center;\n",
       "  background-color: var(--sklearn-color-background);\n",
       "  position: relative;\n",
       "}\n",
       "\n",
       "#sk-container-id-16 div.sk-parallel-item {\n",
       "  display: flex;\n",
       "  flex-direction: column;\n",
       "}\n",
       "\n",
       "#sk-container-id-16 div.sk-parallel-item:first-child::after {\n",
       "  align-self: flex-end;\n",
       "  width: 50%;\n",
       "}\n",
       "\n",
       "#sk-container-id-16 div.sk-parallel-item:last-child::after {\n",
       "  align-self: flex-start;\n",
       "  width: 50%;\n",
       "}\n",
       "\n",
       "#sk-container-id-16 div.sk-parallel-item:only-child::after {\n",
       "  width: 0;\n",
       "}\n",
       "\n",
       "/* Serial-specific style estimator block */\n",
       "\n",
       "#sk-container-id-16 div.sk-serial {\n",
       "  display: flex;\n",
       "  flex-direction: column;\n",
       "  align-items: center;\n",
       "  background-color: var(--sklearn-color-background);\n",
       "  padding-right: 1em;\n",
       "  padding-left: 1em;\n",
       "}\n",
       "\n",
       "\n",
       "/* Toggleable style: style used for estimator/Pipeline/ColumnTransformer box that is\n",
       "clickable and can be expanded/collapsed.\n",
       "- Pipeline and ColumnTransformer use this feature and define the default style\n",
       "- Estimators will overwrite some part of the style using the `sk-estimator` class\n",
       "*/\n",
       "\n",
       "/* Pipeline and ColumnTransformer style (default) */\n",
       "\n",
       "#sk-container-id-16 div.sk-toggleable {\n",
       "  /* Default theme specific background. It is overwritten whether we have a\n",
       "  specific estimator or a Pipeline/ColumnTransformer */\n",
       "  background-color: var(--sklearn-color-background);\n",
       "}\n",
       "\n",
       "/* Toggleable label */\n",
       "#sk-container-id-16 label.sk-toggleable__label {\n",
       "  cursor: pointer;\n",
       "  display: flex;\n",
       "  width: 100%;\n",
       "  margin-bottom: 0;\n",
       "  padding: 0.5em;\n",
       "  box-sizing: border-box;\n",
       "  text-align: center;\n",
       "  align-items: start;\n",
       "  justify-content: space-between;\n",
       "  gap: 0.5em;\n",
       "}\n",
       "\n",
       "#sk-container-id-16 label.sk-toggleable__label .caption {\n",
       "  font-size: 0.6rem;\n",
       "  font-weight: lighter;\n",
       "  color: var(--sklearn-color-text-muted);\n",
       "}\n",
       "\n",
       "#sk-container-id-16 label.sk-toggleable__label-arrow:before {\n",
       "  /* Arrow on the left of the label */\n",
       "  content: \"▸\";\n",
       "  float: left;\n",
       "  margin-right: 0.25em;\n",
       "  color: var(--sklearn-color-icon);\n",
       "}\n",
       "\n",
       "#sk-container-id-16 label.sk-toggleable__label-arrow:hover:before {\n",
       "  color: var(--sklearn-color-text);\n",
       "}\n",
       "\n",
       "/* Toggleable content - dropdown */\n",
       "\n",
       "#sk-container-id-16 div.sk-toggleable__content {\n",
       "  max-height: 0;\n",
       "  max-width: 0;\n",
       "  overflow: hidden;\n",
       "  text-align: left;\n",
       "  /* unfitted */\n",
       "  background-color: var(--sklearn-color-unfitted-level-0);\n",
       "}\n",
       "\n",
       "#sk-container-id-16 div.sk-toggleable__content.fitted {\n",
       "  /* fitted */\n",
       "  background-color: var(--sklearn-color-fitted-level-0);\n",
       "}\n",
       "\n",
       "#sk-container-id-16 div.sk-toggleable__content pre {\n",
       "  margin: 0.2em;\n",
       "  border-radius: 0.25em;\n",
       "  color: var(--sklearn-color-text);\n",
       "  /* unfitted */\n",
       "  background-color: var(--sklearn-color-unfitted-level-0);\n",
       "}\n",
       "\n",
       "#sk-container-id-16 div.sk-toggleable__content.fitted pre {\n",
       "  /* unfitted */\n",
       "  background-color: var(--sklearn-color-fitted-level-0);\n",
       "}\n",
       "\n",
       "#sk-container-id-16 input.sk-toggleable__control:checked~div.sk-toggleable__content {\n",
       "  /* Expand drop-down */\n",
       "  max-height: 200px;\n",
       "  max-width: 100%;\n",
       "  overflow: auto;\n",
       "}\n",
       "\n",
       "#sk-container-id-16 input.sk-toggleable__control:checked~label.sk-toggleable__label-arrow:before {\n",
       "  content: \"▾\";\n",
       "}\n",
       "\n",
       "/* Pipeline/ColumnTransformer-specific style */\n",
       "\n",
       "#sk-container-id-16 div.sk-label input.sk-toggleable__control:checked~label.sk-toggleable__label {\n",
       "  color: var(--sklearn-color-text);\n",
       "  background-color: var(--sklearn-color-unfitted-level-2);\n",
       "}\n",
       "\n",
       "#sk-container-id-16 div.sk-label.fitted input.sk-toggleable__control:checked~label.sk-toggleable__label {\n",
       "  background-color: var(--sklearn-color-fitted-level-2);\n",
       "}\n",
       "\n",
       "/* Estimator-specific style */\n",
       "\n",
       "/* Colorize estimator box */\n",
       "#sk-container-id-16 div.sk-estimator input.sk-toggleable__control:checked~label.sk-toggleable__label {\n",
       "  /* unfitted */\n",
       "  background-color: var(--sklearn-color-unfitted-level-2);\n",
       "}\n",
       "\n",
       "#sk-container-id-16 div.sk-estimator.fitted input.sk-toggleable__control:checked~label.sk-toggleable__label {\n",
       "  /* fitted */\n",
       "  background-color: var(--sklearn-color-fitted-level-2);\n",
       "}\n",
       "\n",
       "#sk-container-id-16 div.sk-label label.sk-toggleable__label,\n",
       "#sk-container-id-16 div.sk-label label {\n",
       "  /* The background is the default theme color */\n",
       "  color: var(--sklearn-color-text-on-default-background);\n",
       "}\n",
       "\n",
       "/* On hover, darken the color of the background */\n",
       "#sk-container-id-16 div.sk-label:hover label.sk-toggleable__label {\n",
       "  color: var(--sklearn-color-text);\n",
       "  background-color: var(--sklearn-color-unfitted-level-2);\n",
       "}\n",
       "\n",
       "/* Label box, darken color on hover, fitted */\n",
       "#sk-container-id-16 div.sk-label.fitted:hover label.sk-toggleable__label.fitted {\n",
       "  color: var(--sklearn-color-text);\n",
       "  background-color: var(--sklearn-color-fitted-level-2);\n",
       "}\n",
       "\n",
       "/* Estimator label */\n",
       "\n",
       "#sk-container-id-16 div.sk-label label {\n",
       "  font-family: monospace;\n",
       "  font-weight: bold;\n",
       "  display: inline-block;\n",
       "  line-height: 1.2em;\n",
       "}\n",
       "\n",
       "#sk-container-id-16 div.sk-label-container {\n",
       "  text-align: center;\n",
       "}\n",
       "\n",
       "/* Estimator-specific */\n",
       "#sk-container-id-16 div.sk-estimator {\n",
       "  font-family: monospace;\n",
       "  border: 1px dotted var(--sklearn-color-border-box);\n",
       "  border-radius: 0.25em;\n",
       "  box-sizing: border-box;\n",
       "  margin-bottom: 0.5em;\n",
       "  /* unfitted */\n",
       "  background-color: var(--sklearn-color-unfitted-level-0);\n",
       "}\n",
       "\n",
       "#sk-container-id-16 div.sk-estimator.fitted {\n",
       "  /* fitted */\n",
       "  background-color: var(--sklearn-color-fitted-level-0);\n",
       "}\n",
       "\n",
       "/* on hover */\n",
       "#sk-container-id-16 div.sk-estimator:hover {\n",
       "  /* unfitted */\n",
       "  background-color: var(--sklearn-color-unfitted-level-2);\n",
       "}\n",
       "\n",
       "#sk-container-id-16 div.sk-estimator.fitted:hover {\n",
       "  /* fitted */\n",
       "  background-color: var(--sklearn-color-fitted-level-2);\n",
       "}\n",
       "\n",
       "/* Specification for estimator info (e.g. \"i\" and \"?\") */\n",
       "\n",
       "/* Common style for \"i\" and \"?\" */\n",
       "\n",
       ".sk-estimator-doc-link,\n",
       "a:link.sk-estimator-doc-link,\n",
       "a:visited.sk-estimator-doc-link {\n",
       "  float: right;\n",
       "  font-size: smaller;\n",
       "  line-height: 1em;\n",
       "  font-family: monospace;\n",
       "  background-color: var(--sklearn-color-background);\n",
       "  border-radius: 1em;\n",
       "  height: 1em;\n",
       "  width: 1em;\n",
       "  text-decoration: none !important;\n",
       "  margin-left: 0.5em;\n",
       "  text-align: center;\n",
       "  /* unfitted */\n",
       "  border: var(--sklearn-color-unfitted-level-1) 1pt solid;\n",
       "  color: var(--sklearn-color-unfitted-level-1);\n",
       "}\n",
       "\n",
       ".sk-estimator-doc-link.fitted,\n",
       "a:link.sk-estimator-doc-link.fitted,\n",
       "a:visited.sk-estimator-doc-link.fitted {\n",
       "  /* fitted */\n",
       "  border: var(--sklearn-color-fitted-level-1) 1pt solid;\n",
       "  color: var(--sklearn-color-fitted-level-1);\n",
       "}\n",
       "\n",
       "/* On hover */\n",
       "div.sk-estimator:hover .sk-estimator-doc-link:hover,\n",
       ".sk-estimator-doc-link:hover,\n",
       "div.sk-label-container:hover .sk-estimator-doc-link:hover,\n",
       ".sk-estimator-doc-link:hover {\n",
       "  /* unfitted */\n",
       "  background-color: var(--sklearn-color-unfitted-level-3);\n",
       "  color: var(--sklearn-color-background);\n",
       "  text-decoration: none;\n",
       "}\n",
       "\n",
       "div.sk-estimator.fitted:hover .sk-estimator-doc-link.fitted:hover,\n",
       ".sk-estimator-doc-link.fitted:hover,\n",
       "div.sk-label-container:hover .sk-estimator-doc-link.fitted:hover,\n",
       ".sk-estimator-doc-link.fitted:hover {\n",
       "  /* fitted */\n",
       "  background-color: var(--sklearn-color-fitted-level-3);\n",
       "  color: var(--sklearn-color-background);\n",
       "  text-decoration: none;\n",
       "}\n",
       "\n",
       "/* Span, style for the box shown on hovering the info icon */\n",
       ".sk-estimator-doc-link span {\n",
       "  display: none;\n",
       "  z-index: 9999;\n",
       "  position: relative;\n",
       "  font-weight: normal;\n",
       "  right: .2ex;\n",
       "  padding: .5ex;\n",
       "  margin: .5ex;\n",
       "  width: min-content;\n",
       "  min-width: 20ex;\n",
       "  max-width: 50ex;\n",
       "  color: var(--sklearn-color-text);\n",
       "  box-shadow: 2pt 2pt 4pt #999;\n",
       "  /* unfitted */\n",
       "  background: var(--sklearn-color-unfitted-level-0);\n",
       "  border: .5pt solid var(--sklearn-color-unfitted-level-3);\n",
       "}\n",
       "\n",
       ".sk-estimator-doc-link.fitted span {\n",
       "  /* fitted */\n",
       "  background: var(--sklearn-color-fitted-level-0);\n",
       "  border: var(--sklearn-color-fitted-level-3);\n",
       "}\n",
       "\n",
       ".sk-estimator-doc-link:hover span {\n",
       "  display: block;\n",
       "}\n",
       "\n",
       "/* \"?\"-specific style due to the `<a>` HTML tag */\n",
       "\n",
       "#sk-container-id-16 a.estimator_doc_link {\n",
       "  float: right;\n",
       "  font-size: 1rem;\n",
       "  line-height: 1em;\n",
       "  font-family: monospace;\n",
       "  background-color: var(--sklearn-color-background);\n",
       "  border-radius: 1rem;\n",
       "  height: 1rem;\n",
       "  width: 1rem;\n",
       "  text-decoration: none;\n",
       "  /* unfitted */\n",
       "  color: var(--sklearn-color-unfitted-level-1);\n",
       "  border: var(--sklearn-color-unfitted-level-1) 1pt solid;\n",
       "}\n",
       "\n",
       "#sk-container-id-16 a.estimator_doc_link.fitted {\n",
       "  /* fitted */\n",
       "  border: var(--sklearn-color-fitted-level-1) 1pt solid;\n",
       "  color: var(--sklearn-color-fitted-level-1);\n",
       "}\n",
       "\n",
       "/* On hover */\n",
       "#sk-container-id-16 a.estimator_doc_link:hover {\n",
       "  /* unfitted */\n",
       "  background-color: var(--sklearn-color-unfitted-level-3);\n",
       "  color: var(--sklearn-color-background);\n",
       "  text-decoration: none;\n",
       "}\n",
       "\n",
       "#sk-container-id-16 a.estimator_doc_link.fitted:hover {\n",
       "  /* fitted */\n",
       "  background-color: var(--sklearn-color-fitted-level-3);\n",
       "}\n",
       "</style><div id=\"sk-container-id-16\" class=\"sk-top-container\"><div class=\"sk-text-repr-fallback\"><pre>LinearRegression()</pre><b>In a Jupyter environment, please rerun this cell to show the HTML representation or trust the notebook. <br />On GitHub, the HTML representation is unable to render, please try loading this page with nbviewer.org.</b></div><div class=\"sk-container\" hidden><div class=\"sk-item\"><div class=\"sk-estimator fitted sk-toggleable\"><input class=\"sk-toggleable__control sk-hidden--visually\" id=\"sk-estimator-id-29\" type=\"checkbox\" checked><label for=\"sk-estimator-id-29\" class=\"sk-toggleable__label fitted sk-toggleable__label-arrow\"><div><div>LinearRegression</div></div><div><a class=\"sk-estimator-doc-link fitted\" rel=\"noreferrer\" target=\"_blank\" href=\"https://scikit-learn.org/1.6/modules/generated/sklearn.linear_model.LinearRegression.html\">?<span>Documentation for LinearRegression</span></a><span class=\"sk-estimator-doc-link fitted\">i<span>Fitted</span></span></div></label><div class=\"sk-toggleable__content fitted\"><pre>LinearRegression()</pre></div> </div></div></div></div>"
      ],
      "text/plain": [
       "LinearRegression()"
      ]
     },
     "execution_count": 157,
     "metadata": {},
     "output_type": "execute_result"
    }
   ],
   "source": [
    "Linear_model_coeffs = LinearRegression()\n",
    "Linear_model_coeffs.fit(X_train_5, y_train_5)"
   ]
  },
  {
   "cell_type": "code",
   "execution_count": 158,
   "metadata": {},
   "outputs": [],
   "source": [
    "y_pred_pos = Linear_model_coeffs.predict(X_test_5)"
   ]
  },
  {
   "cell_type": "code",
   "execution_count": 159,
   "metadata": {},
   "outputs": [
    {
     "name": "stdout",
     "output_type": "stream",
     "text": [
      "Modelo 5 (positive=True) - R2: 0.8464, RMSE: 3.6350\n"
     ]
    }
   ],
   "source": [
    "r2_pos = r2_score(y_test_5, y_pred_pos)\n",
    "rmse_pos = np.sqrt(mean_squared_error(y_test_5, y_pred_pos))\n",
    "\n",
    "print(f\"Modelo 5 (positive=True) - R2: {r2_pos:.4f}, RMSE: {rmse_pos:.4f}\")"
   ]
  },
  {
   "cell_type": "code",
   "execution_count": 160,
   "metadata": {},
   "outputs": [],
   "source": [
    "original_coef = Linear_model_coeffs.coef_.copy()\n",
    "original_intercept = Linear_model_coeffs.intercept_\n"
   ]
  },
  {
   "cell_type": "code",
   "execution_count": 161,
   "metadata": {},
   "outputs": [
    {
     "name": "stdout",
     "output_type": "stream",
     "text": [
      "Los coeficientes son: [4.26666667]\n",
      "El Intercepto es: 58.761904761904745\n"
     ]
    }
   ],
   "source": [
    "print(f'Los coeficientes son: {Linear_model_coeffs.coef_}')\n",
    "print(f'El Intercepto es: {Linear_model_coeffs.intercept_}')"
   ]
  },
  {
   "cell_type": "code",
   "execution_count": 162,
   "metadata": {},
   "outputs": [
    {
     "name": "stderr",
     "output_type": "stream",
     "text": [
      "c:\\Users\\sofi\\miniconda3\\envs\\EO\\Lib\\site-packages\\sklearn\\utils\\validation.py:2739: UserWarning:\n",
      "\n",
      "X does not have valid feature names, but LinearRegression was fitted with feature names\n",
      "\n"
     ]
    },
    {
     "data": {
      "application/vnd.plotly.v1+json": {
       "config": {
        "plotlyServerURL": "https://plot.ly"
       },
       "data": [
        {
         "marker": {
          "color": "blue"
         },
         "mode": "markers",
         "name": "Datos reales",
         "type": "scatter",
         "x": {
          "bdata": "AAAAAAAAPEAAAAAAAIA6QAAAAAAAADhAAAAAAACAOEAAAAAAAAA7QAAAAAAAADdAAAAAAAAAPUAAAAAAAAA4QAAAAAAAgDtAAAAAAAAAN0AAAAAAAAA2QAAAAAAAADpAAAAAAAAAPEAAAAAAAIA7QAAAAAAAADhAAAAAAACAOEAAAAAAAAA4QAAAAAAAgDZA",
          "dtype": "f8"
         },
         "y": {
          "bdata": "uQCtAKMAogCsAJ8AuwClAK8AogCbAKgAswCsAJ8ApgCcAJYA",
          "dtype": "i2"
         }
        },
        {
         "line": {
          "color": "red"
         },
         "mode": "lines",
         "name": "Línea del modelo",
         "type": "scatter",
         "x": {
          "bdata": "AAAAAAAANkBnSMzbGRI2QM+QmLczJDZANtlkk002NkCeITFvZ0g2QAVq/UqBWjZAbbLJJptsNkDU+pUCtX42QDtDYt7OkDZAo4suuuiiNkAK1PqVArU2QHIcx3EcxzZA2WSTTTbZNkBBrV8pUOs2QKj1KwVq/TZAED744IMPN0B3hsS8nSE3QN7OkJi3MzdARhdddNFFN0CtXylQ61c3QBWo9SsFajdAfPDBBx98N0DkOI7jOI43QEuBWr9SoDdAsskmm2yyN0AaEvN2hsQ3QIFav1Kg1jdA6aKLLrroN0BQ61cK1Po3QLgzJObtDDhAH3zwwQcfOECGxLydITE4QO4MiXk7QzhAVVVVVVVVOEC9nSExb2c4QCTm7QyJeThAjC666KKLOEDzdobEvJ04QFq/UqDWrzhAwgcffPDBOEApUOtXCtQ4QJGYtzMk5jhA+OCDDz74OEBgKVDrVwo5QMdxHMdxHDlALrrooosuOUCWArV+pUA5QP1KgVq/UjlAZZNNNtlkOUDM2xkS83Y5QDQk5u0MiTlAm2yyySabOUACtX6lQK05QGr9SoFavzlA0UUXXXTROUA5juM4juM5QKDWrxSo9TlACB988MEHOkBvZ0jM2xk6QNavFKj1KzpAPvjggw8+OkCmQK1fKVA6QA2JeTtDYjpAdNFFF110OkDcGRLzdoY6QENi3s6QmDpAqqqqqqqqOkAS83aGxLw6QHo7Q2LezjpA4YMPPvjgOkBIzNsZEvM6QLAUqPUrBTtAF1100UUXO0B/pUCtXyk7QObtDIl5OztATjbZZJNNO0C1fqVArV87QBzHcRzHcTtAhA8++OCDO0DrVwrU+pU7QFOg1q8UqDtAuuiiiy66O0AiMW9nSMw7QIl5O0Ni3jtA8MEHH3zwO0BYCtT6lQI8QL9SoNavFDxAJ5tssskmPECO4ziO4zg8QPYrBWr9SjxAXXTRRRddPEDEvJ0hMW88QCwFav1KgTxAk0022WSTPED7lQK1fqU8QGLezpCYtzxAyiabbLLJPEAxb2dIzNs8QJi3MyTm7TxAAAAAAAAAPUA=",
          "dtype": "f8"
         },
         "y": {
          "bdata": "QR3UQR0UY0BnzPylxB1jQI57JQpsJ2NAtCpObhMxY0Da2XbSujpjQACJnzZiRGNAJjjImglOY0BM5/D+sFdjQHKWGWNYYWNAmEVCx/9qY0C+9Gorp3RjQOSjk49OfmNAClO88/WHY0AwAuVXnZFjQFaxDbxEm2NAfWA2IOykY0CjD1+Ek65jQMi+h+g6uGNA722wTOLBY0AVHdmwictjQDzMARUx1WNAYXsqedjeY0CIKlPdf+hjQK7Ze0En8mNA1Iikpc77Y0D6N80JdgVkQCDn9W0dD2RARpYe0sQYZEBsRUc2bCJkQJL0b5oTLGRAuKOY/ro1ZEDeUsFiYj9kQAQC6sYJSWRAKrESK7FSZEBQYDuPWFxkQHYPZPP/ZWRAnb6MV6dvZEDDbbW7TnlkQOgc3h/2gmRAD8wGhJ2MZEA1ey/oRJZkQFwqWEzsn2RAgdmAsJOpZECoiKkUO7NkQM430njivGRA9Ob63InGZEAaliNBMdBkQEBFTKXY2WRAZvR0CYDjZECMo51tJ+1kQLJSxtHO9mRA2AHvNXYAZUD+sBeaHQplQCRgQP7EE2VASg9pYmwdZUBwvpHGEydlQJZtuiq7MGVAvRzjjmI6ZUDjywvzCURlQAh7NFexTWVALypdu1hXZUBW2YUfAGFlQHyIroOnamVAoTfX5050ZUDI5v9L9n1lQO6VKLCdh2VAFEVRFEWRZUA69Hl47JplQGCjotyTpGVAhlLLQDuuZUCsAfSk4rdlQNKwHAmKwWVA+F9FbTHLZUAeD27R2NRlQES+ljWA3mVAa22/mSfoZUCQHOj9zvFlQLbLEGJ2+2VA3Xo5xh0FZkADKmIqxQ5mQCnZio5sGGZAT4iz8hMiZkB2N9xWuytmQJzmBLtiNWZAwZUtHwo/ZkDoRFaDsUhmQA70fudYUmZANKOnSwBcZkBaUtCvp2VmQIAB+RNPb2ZAprAhePZ4ZkDMX0rcnYJmQPIOc0BFjGZAGL6bpOyVZkA+bcQIlJ9mQGQc7Ww7qWZAi8sV0eKyZkCwej41irxmQNYpZ5kxxmZA/diP/djPZkA=",
          "dtype": "f8"
         }
        }
       ],
       "layout": {
        "height": 500,
        "template": {
         "data": {
          "bar": [
           {
            "error_x": {
             "color": "#2a3f5f"
            },
            "error_y": {
             "color": "#2a3f5f"
            },
            "marker": {
             "line": {
              "color": "#E5ECF6",
              "width": 0.5
             },
             "pattern": {
              "fillmode": "overlay",
              "size": 10,
              "solidity": 0.2
             }
            },
            "type": "bar"
           }
          ],
          "barpolar": [
           {
            "marker": {
             "line": {
              "color": "#E5ECF6",
              "width": 0.5
             },
             "pattern": {
              "fillmode": "overlay",
              "size": 10,
              "solidity": 0.2
             }
            },
            "type": "barpolar"
           }
          ],
          "carpet": [
           {
            "aaxis": {
             "endlinecolor": "#2a3f5f",
             "gridcolor": "white",
             "linecolor": "white",
             "minorgridcolor": "white",
             "startlinecolor": "#2a3f5f"
            },
            "baxis": {
             "endlinecolor": "#2a3f5f",
             "gridcolor": "white",
             "linecolor": "white",
             "minorgridcolor": "white",
             "startlinecolor": "#2a3f5f"
            },
            "type": "carpet"
           }
          ],
          "choropleth": [
           {
            "colorbar": {
             "outlinewidth": 0,
             "ticks": ""
            },
            "type": "choropleth"
           }
          ],
          "contour": [
           {
            "colorbar": {
             "outlinewidth": 0,
             "ticks": ""
            },
            "colorscale": [
             [
              0,
              "#0d0887"
             ],
             [
              0.1111111111111111,
              "#46039f"
             ],
             [
              0.2222222222222222,
              "#7201a8"
             ],
             [
              0.3333333333333333,
              "#9c179e"
             ],
             [
              0.4444444444444444,
              "#bd3786"
             ],
             [
              0.5555555555555556,
              "#d8576b"
             ],
             [
              0.6666666666666666,
              "#ed7953"
             ],
             [
              0.7777777777777778,
              "#fb9f3a"
             ],
             [
              0.8888888888888888,
              "#fdca26"
             ],
             [
              1,
              "#f0f921"
             ]
            ],
            "type": "contour"
           }
          ],
          "contourcarpet": [
           {
            "colorbar": {
             "outlinewidth": 0,
             "ticks": ""
            },
            "type": "contourcarpet"
           }
          ],
          "heatmap": [
           {
            "colorbar": {
             "outlinewidth": 0,
             "ticks": ""
            },
            "colorscale": [
             [
              0,
              "#0d0887"
             ],
             [
              0.1111111111111111,
              "#46039f"
             ],
             [
              0.2222222222222222,
              "#7201a8"
             ],
             [
              0.3333333333333333,
              "#9c179e"
             ],
             [
              0.4444444444444444,
              "#bd3786"
             ],
             [
              0.5555555555555556,
              "#d8576b"
             ],
             [
              0.6666666666666666,
              "#ed7953"
             ],
             [
              0.7777777777777778,
              "#fb9f3a"
             ],
             [
              0.8888888888888888,
              "#fdca26"
             ],
             [
              1,
              "#f0f921"
             ]
            ],
            "type": "heatmap"
           }
          ],
          "histogram": [
           {
            "marker": {
             "pattern": {
              "fillmode": "overlay",
              "size": 10,
              "solidity": 0.2
             }
            },
            "type": "histogram"
           }
          ],
          "histogram2d": [
           {
            "colorbar": {
             "outlinewidth": 0,
             "ticks": ""
            },
            "colorscale": [
             [
              0,
              "#0d0887"
             ],
             [
              0.1111111111111111,
              "#46039f"
             ],
             [
              0.2222222222222222,
              "#7201a8"
             ],
             [
              0.3333333333333333,
              "#9c179e"
             ],
             [
              0.4444444444444444,
              "#bd3786"
             ],
             [
              0.5555555555555556,
              "#d8576b"
             ],
             [
              0.6666666666666666,
              "#ed7953"
             ],
             [
              0.7777777777777778,
              "#fb9f3a"
             ],
             [
              0.8888888888888888,
              "#fdca26"
             ],
             [
              1,
              "#f0f921"
             ]
            ],
            "type": "histogram2d"
           }
          ],
          "histogram2dcontour": [
           {
            "colorbar": {
             "outlinewidth": 0,
             "ticks": ""
            },
            "colorscale": [
             [
              0,
              "#0d0887"
             ],
             [
              0.1111111111111111,
              "#46039f"
             ],
             [
              0.2222222222222222,
              "#7201a8"
             ],
             [
              0.3333333333333333,
              "#9c179e"
             ],
             [
              0.4444444444444444,
              "#bd3786"
             ],
             [
              0.5555555555555556,
              "#d8576b"
             ],
             [
              0.6666666666666666,
              "#ed7953"
             ],
             [
              0.7777777777777778,
              "#fb9f3a"
             ],
             [
              0.8888888888888888,
              "#fdca26"
             ],
             [
              1,
              "#f0f921"
             ]
            ],
            "type": "histogram2dcontour"
           }
          ],
          "mesh3d": [
           {
            "colorbar": {
             "outlinewidth": 0,
             "ticks": ""
            },
            "type": "mesh3d"
           }
          ],
          "parcoords": [
           {
            "line": {
             "colorbar": {
              "outlinewidth": 0,
              "ticks": ""
             }
            },
            "type": "parcoords"
           }
          ],
          "pie": [
           {
            "automargin": true,
            "type": "pie"
           }
          ],
          "scatter": [
           {
            "fillpattern": {
             "fillmode": "overlay",
             "size": 10,
             "solidity": 0.2
            },
            "type": "scatter"
           }
          ],
          "scatter3d": [
           {
            "line": {
             "colorbar": {
              "outlinewidth": 0,
              "ticks": ""
             }
            },
            "marker": {
             "colorbar": {
              "outlinewidth": 0,
              "ticks": ""
             }
            },
            "type": "scatter3d"
           }
          ],
          "scattercarpet": [
           {
            "marker": {
             "colorbar": {
              "outlinewidth": 0,
              "ticks": ""
             }
            },
            "type": "scattercarpet"
           }
          ],
          "scattergeo": [
           {
            "marker": {
             "colorbar": {
              "outlinewidth": 0,
              "ticks": ""
             }
            },
            "type": "scattergeo"
           }
          ],
          "scattergl": [
           {
            "marker": {
             "colorbar": {
              "outlinewidth": 0,
              "ticks": ""
             }
            },
            "type": "scattergl"
           }
          ],
          "scattermap": [
           {
            "marker": {
             "colorbar": {
              "outlinewidth": 0,
              "ticks": ""
             }
            },
            "type": "scattermap"
           }
          ],
          "scattermapbox": [
           {
            "marker": {
             "colorbar": {
              "outlinewidth": 0,
              "ticks": ""
             }
            },
            "type": "scattermapbox"
           }
          ],
          "scatterpolar": [
           {
            "marker": {
             "colorbar": {
              "outlinewidth": 0,
              "ticks": ""
             }
            },
            "type": "scatterpolar"
           }
          ],
          "scatterpolargl": [
           {
            "marker": {
             "colorbar": {
              "outlinewidth": 0,
              "ticks": ""
             }
            },
            "type": "scatterpolargl"
           }
          ],
          "scatterternary": [
           {
            "marker": {
             "colorbar": {
              "outlinewidth": 0,
              "ticks": ""
             }
            },
            "type": "scatterternary"
           }
          ],
          "surface": [
           {
            "colorbar": {
             "outlinewidth": 0,
             "ticks": ""
            },
            "colorscale": [
             [
              0,
              "#0d0887"
             ],
             [
              0.1111111111111111,
              "#46039f"
             ],
             [
              0.2222222222222222,
              "#7201a8"
             ],
             [
              0.3333333333333333,
              "#9c179e"
             ],
             [
              0.4444444444444444,
              "#bd3786"
             ],
             [
              0.5555555555555556,
              "#d8576b"
             ],
             [
              0.6666666666666666,
              "#ed7953"
             ],
             [
              0.7777777777777778,
              "#fb9f3a"
             ],
             [
              0.8888888888888888,
              "#fdca26"
             ],
             [
              1,
              "#f0f921"
             ]
            ],
            "type": "surface"
           }
          ],
          "table": [
           {
            "cells": {
             "fill": {
              "color": "#EBF0F8"
             },
             "line": {
              "color": "white"
             }
            },
            "header": {
             "fill": {
              "color": "#C8D4E3"
             },
             "line": {
              "color": "white"
             }
            },
            "type": "table"
           }
          ]
         },
         "layout": {
          "annotationdefaults": {
           "arrowcolor": "#2a3f5f",
           "arrowhead": 0,
           "arrowwidth": 1
          },
          "autotypenumbers": "strict",
          "coloraxis": {
           "colorbar": {
            "outlinewidth": 0,
            "ticks": ""
           }
          },
          "colorscale": {
           "diverging": [
            [
             0,
             "#8e0152"
            ],
            [
             0.1,
             "#c51b7d"
            ],
            [
             0.2,
             "#de77ae"
            ],
            [
             0.3,
             "#f1b6da"
            ],
            [
             0.4,
             "#fde0ef"
            ],
            [
             0.5,
             "#f7f7f7"
            ],
            [
             0.6,
             "#e6f5d0"
            ],
            [
             0.7,
             "#b8e186"
            ],
            [
             0.8,
             "#7fbc41"
            ],
            [
             0.9,
             "#4d9221"
            ],
            [
             1,
             "#276419"
            ]
           ],
           "sequential": [
            [
             0,
             "#0d0887"
            ],
            [
             0.1111111111111111,
             "#46039f"
            ],
            [
             0.2222222222222222,
             "#7201a8"
            ],
            [
             0.3333333333333333,
             "#9c179e"
            ],
            [
             0.4444444444444444,
             "#bd3786"
            ],
            [
             0.5555555555555556,
             "#d8576b"
            ],
            [
             0.6666666666666666,
             "#ed7953"
            ],
            [
             0.7777777777777778,
             "#fb9f3a"
            ],
            [
             0.8888888888888888,
             "#fdca26"
            ],
            [
             1,
             "#f0f921"
            ]
           ],
           "sequentialminus": [
            [
             0,
             "#0d0887"
            ],
            [
             0.1111111111111111,
             "#46039f"
            ],
            [
             0.2222222222222222,
             "#7201a8"
            ],
            [
             0.3333333333333333,
             "#9c179e"
            ],
            [
             0.4444444444444444,
             "#bd3786"
            ],
            [
             0.5555555555555556,
             "#d8576b"
            ],
            [
             0.6666666666666666,
             "#ed7953"
            ],
            [
             0.7777777777777778,
             "#fb9f3a"
            ],
            [
             0.8888888888888888,
             "#fdca26"
            ],
            [
             1,
             "#f0f921"
            ]
           ]
          },
          "colorway": [
           "#636efa",
           "#EF553B",
           "#00cc96",
           "#ab63fa",
           "#FFA15A",
           "#19d3f3",
           "#FF6692",
           "#B6E880",
           "#FF97FF",
           "#FECB52"
          ],
          "font": {
           "color": "#2a3f5f"
          },
          "geo": {
           "bgcolor": "white",
           "lakecolor": "white",
           "landcolor": "#E5ECF6",
           "showlakes": true,
           "showland": true,
           "subunitcolor": "white"
          },
          "hoverlabel": {
           "align": "left"
          },
          "hovermode": "closest",
          "mapbox": {
           "style": "light"
          },
          "paper_bgcolor": "white",
          "plot_bgcolor": "#E5ECF6",
          "polar": {
           "angularaxis": {
            "gridcolor": "white",
            "linecolor": "white",
            "ticks": ""
           },
           "bgcolor": "#E5ECF6",
           "radialaxis": {
            "gridcolor": "white",
            "linecolor": "white",
            "ticks": ""
           }
          },
          "scene": {
           "xaxis": {
            "backgroundcolor": "#E5ECF6",
            "gridcolor": "white",
            "gridwidth": 2,
            "linecolor": "white",
            "showbackground": true,
            "ticks": "",
            "zerolinecolor": "white"
           },
           "yaxis": {
            "backgroundcolor": "#E5ECF6",
            "gridcolor": "white",
            "gridwidth": 2,
            "linecolor": "white",
            "showbackground": true,
            "ticks": "",
            "zerolinecolor": "white"
           },
           "zaxis": {
            "backgroundcolor": "#E5ECF6",
            "gridcolor": "white",
            "gridwidth": 2,
            "linecolor": "white",
            "showbackground": true,
            "ticks": "",
            "zerolinecolor": "white"
           }
          },
          "shapedefaults": {
           "line": {
            "color": "#2a3f5f"
           }
          },
          "ternary": {
           "aaxis": {
            "gridcolor": "white",
            "linecolor": "white",
            "ticks": ""
           },
           "baxis": {
            "gridcolor": "white",
            "linecolor": "white",
            "ticks": ""
           },
           "bgcolor": "#E5ECF6",
           "caxis": {
            "gridcolor": "white",
            "linecolor": "white",
            "ticks": ""
           }
          },
          "title": {
           "x": 0.05
          },
          "xaxis": {
           "automargin": true,
           "gridcolor": "white",
           "linecolor": "white",
           "ticks": "",
           "title": {
            "standoff": 15
           },
           "zerolinecolor": "white",
           "zerolinewidth": 2
          },
          "yaxis": {
           "automargin": true,
           "gridcolor": "white",
           "linecolor": "white",
           "ticks": "",
           "title": {
            "standoff": 15
           },
           "zerolinecolor": "white",
           "zerolinewidth": 2
          }
         }
        },
        "title": {
         "text": "Modelo 5: Regresión Lineal (positive=True)\nAltura vs Pie"
        },
        "width": 700,
        "xaxis": {
         "title": {
          "text": "Tamaño del Pie (cm)"
         }
        },
        "yaxis": {
         "title": {
          "text": "Altura (cm)"
         }
        }
       }
      }
     },
     "metadata": {},
     "output_type": "display_data"
    }
   ],
   "source": [
    "# Datos de entrada para la gráfica\n",
    "x_range = np.linspace(X['Pie'].min(), X['Pie'].max(), 100).reshape(-1, 1)\n",
    "y_line = Linear_model_coeffs.predict(x_range)\n",
    "\n",
    "# Crear la figura\n",
    "fig_model5 = go.Figure()\n",
    "\n",
    "# Scatter de datos reales\n",
    "fig_model5.add_trace(go.Scatter(\n",
    "    x=X['Pie'], \n",
    "    y=y,\n",
    "    mode='markers',\n",
    "    name='Datos reales',\n",
    "    marker=dict(color='blue')\n",
    "))\n",
    "\n",
    "# Línea del modelo\n",
    "fig_model5.add_trace(go.Scatter(\n",
    "    x=x_range.flatten(),\n",
    "    y=y_line,\n",
    "    mode='lines',\n",
    "    name='Línea del modelo',\n",
    "    line=dict(color='red')\n",
    "))\n",
    "\n",
    "# Layout\n",
    "fig_model5.update_layout(\n",
    "    title='Modelo 5: Regresión Lineal (positive=True)\\nAltura vs Pie',\n",
    "    xaxis_title='Tamaño del Pie (cm)',\n",
    "    yaxis_title='Altura (cm)',\n",
    "    width=700,\n",
    "    height=500\n",
    ")\n",
    "\n",
    "fig_model5.show()\n"
   ]
  },
  {
   "cell_type": "code",
   "execution_count": 163,
   "metadata": {},
   "outputs": [],
   "source": [
    "coef_range = np.linspace(original_coef[0] - 0.2, original_coef[0] + 0.2, 100)\n",
    "intercept_range = np.linspace(original_intercept - 5, original_intercept + 5, 100)"
   ]
  },
  {
   "cell_type": "code",
   "execution_count": 164,
   "metadata": {},
   "outputs": [
    {
     "name": "stdout",
     "output_type": "stream",
     "text": [
      "Mejor combinación encontrada:\n",
      "Coeficiente: 4.4667\n",
      "Intercepto: 55.7821\n",
      "R2: 0.9074, RMSE: 2.8222\n"
     ]
    }
   ],
   "source": [
    "best_r2 = -np.inf\n",
    "best_rmse = np.inf\n",
    "best_coef = None\n",
    "best_intercept = None\n",
    "\n",
    "for coef in coef_range:\n",
    "    for intercept in intercept_range:\n",
    "        y_pred_custom = X_test_5['Pie'] * coef + intercept\n",
    "        r2 = r2_score(y_test_5, y_pred_custom)\n",
    "        rmse = np.sqrt(mean_squared_error(y_test_5, y_pred_custom))\n",
    "\n",
    "        if r2 > best_r2:  # puedes usar otra lógica si priorizas bajo RMSE\n",
    "            best_r2 = r2\n",
    "            best_rmse = rmse\n",
    "            best_coef = coef\n",
    "            best_intercept = intercept\n",
    "\n",
    "print(f\"Mejor combinación encontrada:\")\n",
    "print(f\"Coeficiente: {best_coef:.4f}\")\n",
    "print(f\"Intercepto: {best_intercept:.4f}\")\n",
    "print(f\"R2: {best_r2:.4f}, RMSE: {best_rmse:.4f}\")"
   ]
  },
  {
   "cell_type": "code",
   "execution_count": 165,
   "metadata": {},
   "outputs": [
    {
     "data": {
      "application/vnd.plotly.v1+json": {
       "config": {
        "plotlyServerURL": "https://plot.ly"
       },
       "data": [
        {
         "marker": {
          "color": "blue"
         },
         "mode": "markers",
         "name": "Datos reales",
         "type": "scatter",
         "x": {
          "bdata": "AAAAAAAAPEAAAAAAAIA6QAAAAAAAADhAAAAAAACAOEAAAAAAAAA7QAAAAAAAADdAAAAAAAAAPUAAAAAAAAA4QAAAAAAAgDtAAAAAAAAAN0AAAAAAAAA2QAAAAAAAADpAAAAAAAAAPEAAAAAAAIA7QAAAAAAAADhAAAAAAACAOEAAAAAAAAA4QAAAAAAAgDZA",
          "dtype": "f8"
         },
         "y": {
          "bdata": "uQCtAKMAogCsAJ8AuwClAK8AogCbAKgAswCsAJ8ApgCcAJYA",
          "dtype": "i2"
         }
        },
        {
         "line": {
          "color": "green"
         },
         "mode": "lines",
         "name": "Mejor línea ajustada",
         "type": "scatter",
         "x": {
          "bdata": "AAAAAAAANkBnSMzbGRI2QM+QmLczJDZANtlkk002NkCeITFvZ0g2QAVq/UqBWjZAbbLJJptsNkDU+pUCtX42QDtDYt7OkDZAo4suuuiiNkAK1PqVArU2QHIcx3EcxzZA2WSTTTbZNkBBrV8pUOs2QKj1KwVq/TZAED744IMPN0B3hsS8nSE3QN7OkJi3MzdARhdddNFFN0CtXylQ61c3QBWo9SsFajdAfPDBBx98N0DkOI7jOI43QEuBWr9SoDdAsskmm2yyN0AaEvN2hsQ3QIFav1Kg1jdA6aKLLrroN0BQ61cK1Po3QLgzJObtDDhAH3zwwQcfOECGxLydITE4QO4MiXk7QzhAVVVVVVVVOEC9nSExb2c4QCTm7QyJeThAjC666KKLOEDzdobEvJ04QFq/UqDWrzhAwgcffPDBOEApUOtXCtQ4QJGYtzMk5jhA+OCDDz74OEBgKVDrVwo5QMdxHMdxHDlALrrooosuOUCWArV+pUA5QP1KgVq/UjlAZZNNNtlkOUDM2xkS83Y5QDQk5u0MiTlAm2yyySabOUACtX6lQK05QGr9SoFavzlA0UUXXXTROUA5juM4juM5QKDWrxSo9TlACB988MEHOkBvZ0jM2xk6QNavFKj1KzpAPvjggw8+OkCmQK1fKVA6QA2JeTtDYjpAdNFFF110OkDcGRLzdoY6QENi3s6QmDpAqqqqqqqqOkAS83aGxLw6QHo7Q2LezjpA4YMPPvjgOkBIzNsZEvM6QLAUqPUrBTtAF1100UUXO0B/pUCtXyk7QObtDIl5OztATjbZZJNNO0C1fqVArV87QBzHcRzHcTtAhA8++OCDO0DrVwrU+pU7QFOg1q8UqDtAuuiiiy66O0AiMW9nSMw7QIl5O0Ni3jtA8MEHH3zwO0BYCtT6lQI8QL9SoNavFDxAJ5tssskmPECO4ziO4zg8QPYrBWr9SjxAXXTRRRddPEDEvJ0hMW88QCwFav1KgTxAk0022WSTPED7lQK1fqU8QGLezpCYtzxAyiabbLLJPEAxb2dIzNs8QJi3MyTm7TxAAAAAAAAAPUA=",
          "dtype": "f8"
         },
         "y": {
          "bdata": "pOxVjY9BY0AAhDDKqktjQFwbCwfGVWNAuLLlQ+FfY0AUSsCA/GljQHDhmr0XdGNAzHh1+jJ+Y0AoEFA3TohjQIOnKnRpkmNA3z4FsYScY0A71t/tn6ZjQJdtuiq7sGNA8gSVZ9a6Y0BPnG+k8cRjQKozSuEMz2NABsskHijZY0BiYv9aQ+NjQL752Zde7WNAGpG01Hn3Y0B2KI8RlQFkQNK/aU6wC2RALldEi8sVZECK7h7I5h9kQOaF+QQCKmRAQR3UQR00ZECetK5+OD5kQPlLibtTSGRAVeNj+G5SZECxej41ilxkQA0SGXKlZmRAaKnzrsBwZEDEQM7r23pkQCDYqCj3hGRAfG+DZRKPZEDYBl6iLZlkQDSeON9Io2RAkDUTHGStZEDszO1Yf7dkQEhkyJWawWRApPui0rXLZEAAk30P0dVkQFwqWEzs32RAt8EyiQfqZEAUWQ3GIvRkQG/w5wI+/mRAyofCP1kIZUAnH518dBJlQIK2d7mPHGVA3k1S9qomZUA65SwzxjBlQJZ8B3DhOmVA8hPirPxEZUBOq7zpF09lQKpClyYzWWVABtpxY05jZUBicUygaW1lQL4IJ92Ed2VAGqABGqCBZUB2N9xWu4tlQNHOtpPWlWVALWaR0PGfZUCK/WsNDaplQOWURkootGVAQCwhh0O+ZUCdw/vDXshlQPha1gB60mVAVPKwPZXcZUCwiYt6sOZlQAwhZrfL8GVAaLhA9Ob6ZUDETxsxAgVmQCDn9W0dD2ZAfH7QqjgZZkDYFavnUyNmQDSthSRvLWZAkERgYYo3ZkDs2zqepUFmQEdzFdvAS2ZAowrwF9xVZkD/ocpU919mQFs5pZESamZAttB/zi10ZkATaFoLSX5mQG7/NEhkiGZAypYPhX+SZkAmLurBmpxmQILFxP61pmZA3lyfO9GwZkA69Hl47LpmQJaLVLUHxWZA8iIv8iLPZkBOugkvPtlmQKpR5GtZ42ZABem+qHTtZkBigJnlj/dmQL4XdCKrAWdAGq9OX8YLZ0B0Rimc4RVnQNDdA9n8H2dALHXeFRgqZ0A=",
          "dtype": "f8"
         }
        }
       ],
       "layout": {
        "height": 500,
        "template": {
         "data": {
          "bar": [
           {
            "error_x": {
             "color": "#2a3f5f"
            },
            "error_y": {
             "color": "#2a3f5f"
            },
            "marker": {
             "line": {
              "color": "#E5ECF6",
              "width": 0.5
             },
             "pattern": {
              "fillmode": "overlay",
              "size": 10,
              "solidity": 0.2
             }
            },
            "type": "bar"
           }
          ],
          "barpolar": [
           {
            "marker": {
             "line": {
              "color": "#E5ECF6",
              "width": 0.5
             },
             "pattern": {
              "fillmode": "overlay",
              "size": 10,
              "solidity": 0.2
             }
            },
            "type": "barpolar"
           }
          ],
          "carpet": [
           {
            "aaxis": {
             "endlinecolor": "#2a3f5f",
             "gridcolor": "white",
             "linecolor": "white",
             "minorgridcolor": "white",
             "startlinecolor": "#2a3f5f"
            },
            "baxis": {
             "endlinecolor": "#2a3f5f",
             "gridcolor": "white",
             "linecolor": "white",
             "minorgridcolor": "white",
             "startlinecolor": "#2a3f5f"
            },
            "type": "carpet"
           }
          ],
          "choropleth": [
           {
            "colorbar": {
             "outlinewidth": 0,
             "ticks": ""
            },
            "type": "choropleth"
           }
          ],
          "contour": [
           {
            "colorbar": {
             "outlinewidth": 0,
             "ticks": ""
            },
            "colorscale": [
             [
              0,
              "#0d0887"
             ],
             [
              0.1111111111111111,
              "#46039f"
             ],
             [
              0.2222222222222222,
              "#7201a8"
             ],
             [
              0.3333333333333333,
              "#9c179e"
             ],
             [
              0.4444444444444444,
              "#bd3786"
             ],
             [
              0.5555555555555556,
              "#d8576b"
             ],
             [
              0.6666666666666666,
              "#ed7953"
             ],
             [
              0.7777777777777778,
              "#fb9f3a"
             ],
             [
              0.8888888888888888,
              "#fdca26"
             ],
             [
              1,
              "#f0f921"
             ]
            ],
            "type": "contour"
           }
          ],
          "contourcarpet": [
           {
            "colorbar": {
             "outlinewidth": 0,
             "ticks": ""
            },
            "type": "contourcarpet"
           }
          ],
          "heatmap": [
           {
            "colorbar": {
             "outlinewidth": 0,
             "ticks": ""
            },
            "colorscale": [
             [
              0,
              "#0d0887"
             ],
             [
              0.1111111111111111,
              "#46039f"
             ],
             [
              0.2222222222222222,
              "#7201a8"
             ],
             [
              0.3333333333333333,
              "#9c179e"
             ],
             [
              0.4444444444444444,
              "#bd3786"
             ],
             [
              0.5555555555555556,
              "#d8576b"
             ],
             [
              0.6666666666666666,
              "#ed7953"
             ],
             [
              0.7777777777777778,
              "#fb9f3a"
             ],
             [
              0.8888888888888888,
              "#fdca26"
             ],
             [
              1,
              "#f0f921"
             ]
            ],
            "type": "heatmap"
           }
          ],
          "histogram": [
           {
            "marker": {
             "pattern": {
              "fillmode": "overlay",
              "size": 10,
              "solidity": 0.2
             }
            },
            "type": "histogram"
           }
          ],
          "histogram2d": [
           {
            "colorbar": {
             "outlinewidth": 0,
             "ticks": ""
            },
            "colorscale": [
             [
              0,
              "#0d0887"
             ],
             [
              0.1111111111111111,
              "#46039f"
             ],
             [
              0.2222222222222222,
              "#7201a8"
             ],
             [
              0.3333333333333333,
              "#9c179e"
             ],
             [
              0.4444444444444444,
              "#bd3786"
             ],
             [
              0.5555555555555556,
              "#d8576b"
             ],
             [
              0.6666666666666666,
              "#ed7953"
             ],
             [
              0.7777777777777778,
              "#fb9f3a"
             ],
             [
              0.8888888888888888,
              "#fdca26"
             ],
             [
              1,
              "#f0f921"
             ]
            ],
            "type": "histogram2d"
           }
          ],
          "histogram2dcontour": [
           {
            "colorbar": {
             "outlinewidth": 0,
             "ticks": ""
            },
            "colorscale": [
             [
              0,
              "#0d0887"
             ],
             [
              0.1111111111111111,
              "#46039f"
             ],
             [
              0.2222222222222222,
              "#7201a8"
             ],
             [
              0.3333333333333333,
              "#9c179e"
             ],
             [
              0.4444444444444444,
              "#bd3786"
             ],
             [
              0.5555555555555556,
              "#d8576b"
             ],
             [
              0.6666666666666666,
              "#ed7953"
             ],
             [
              0.7777777777777778,
              "#fb9f3a"
             ],
             [
              0.8888888888888888,
              "#fdca26"
             ],
             [
              1,
              "#f0f921"
             ]
            ],
            "type": "histogram2dcontour"
           }
          ],
          "mesh3d": [
           {
            "colorbar": {
             "outlinewidth": 0,
             "ticks": ""
            },
            "type": "mesh3d"
           }
          ],
          "parcoords": [
           {
            "line": {
             "colorbar": {
              "outlinewidth": 0,
              "ticks": ""
             }
            },
            "type": "parcoords"
           }
          ],
          "pie": [
           {
            "automargin": true,
            "type": "pie"
           }
          ],
          "scatter": [
           {
            "fillpattern": {
             "fillmode": "overlay",
             "size": 10,
             "solidity": 0.2
            },
            "type": "scatter"
           }
          ],
          "scatter3d": [
           {
            "line": {
             "colorbar": {
              "outlinewidth": 0,
              "ticks": ""
             }
            },
            "marker": {
             "colorbar": {
              "outlinewidth": 0,
              "ticks": ""
             }
            },
            "type": "scatter3d"
           }
          ],
          "scattercarpet": [
           {
            "marker": {
             "colorbar": {
              "outlinewidth": 0,
              "ticks": ""
             }
            },
            "type": "scattercarpet"
           }
          ],
          "scattergeo": [
           {
            "marker": {
             "colorbar": {
              "outlinewidth": 0,
              "ticks": ""
             }
            },
            "type": "scattergeo"
           }
          ],
          "scattergl": [
           {
            "marker": {
             "colorbar": {
              "outlinewidth": 0,
              "ticks": ""
             }
            },
            "type": "scattergl"
           }
          ],
          "scattermap": [
           {
            "marker": {
             "colorbar": {
              "outlinewidth": 0,
              "ticks": ""
             }
            },
            "type": "scattermap"
           }
          ],
          "scattermapbox": [
           {
            "marker": {
             "colorbar": {
              "outlinewidth": 0,
              "ticks": ""
             }
            },
            "type": "scattermapbox"
           }
          ],
          "scatterpolar": [
           {
            "marker": {
             "colorbar": {
              "outlinewidth": 0,
              "ticks": ""
             }
            },
            "type": "scatterpolar"
           }
          ],
          "scatterpolargl": [
           {
            "marker": {
             "colorbar": {
              "outlinewidth": 0,
              "ticks": ""
             }
            },
            "type": "scatterpolargl"
           }
          ],
          "scatterternary": [
           {
            "marker": {
             "colorbar": {
              "outlinewidth": 0,
              "ticks": ""
             }
            },
            "type": "scatterternary"
           }
          ],
          "surface": [
           {
            "colorbar": {
             "outlinewidth": 0,
             "ticks": ""
            },
            "colorscale": [
             [
              0,
              "#0d0887"
             ],
             [
              0.1111111111111111,
              "#46039f"
             ],
             [
              0.2222222222222222,
              "#7201a8"
             ],
             [
              0.3333333333333333,
              "#9c179e"
             ],
             [
              0.4444444444444444,
              "#bd3786"
             ],
             [
              0.5555555555555556,
              "#d8576b"
             ],
             [
              0.6666666666666666,
              "#ed7953"
             ],
             [
              0.7777777777777778,
              "#fb9f3a"
             ],
             [
              0.8888888888888888,
              "#fdca26"
             ],
             [
              1,
              "#f0f921"
             ]
            ],
            "type": "surface"
           }
          ],
          "table": [
           {
            "cells": {
             "fill": {
              "color": "#EBF0F8"
             },
             "line": {
              "color": "white"
             }
            },
            "header": {
             "fill": {
              "color": "#C8D4E3"
             },
             "line": {
              "color": "white"
             }
            },
            "type": "table"
           }
          ]
         },
         "layout": {
          "annotationdefaults": {
           "arrowcolor": "#2a3f5f",
           "arrowhead": 0,
           "arrowwidth": 1
          },
          "autotypenumbers": "strict",
          "coloraxis": {
           "colorbar": {
            "outlinewidth": 0,
            "ticks": ""
           }
          },
          "colorscale": {
           "diverging": [
            [
             0,
             "#8e0152"
            ],
            [
             0.1,
             "#c51b7d"
            ],
            [
             0.2,
             "#de77ae"
            ],
            [
             0.3,
             "#f1b6da"
            ],
            [
             0.4,
             "#fde0ef"
            ],
            [
             0.5,
             "#f7f7f7"
            ],
            [
             0.6,
             "#e6f5d0"
            ],
            [
             0.7,
             "#b8e186"
            ],
            [
             0.8,
             "#7fbc41"
            ],
            [
             0.9,
             "#4d9221"
            ],
            [
             1,
             "#276419"
            ]
           ],
           "sequential": [
            [
             0,
             "#0d0887"
            ],
            [
             0.1111111111111111,
             "#46039f"
            ],
            [
             0.2222222222222222,
             "#7201a8"
            ],
            [
             0.3333333333333333,
             "#9c179e"
            ],
            [
             0.4444444444444444,
             "#bd3786"
            ],
            [
             0.5555555555555556,
             "#d8576b"
            ],
            [
             0.6666666666666666,
             "#ed7953"
            ],
            [
             0.7777777777777778,
             "#fb9f3a"
            ],
            [
             0.8888888888888888,
             "#fdca26"
            ],
            [
             1,
             "#f0f921"
            ]
           ],
           "sequentialminus": [
            [
             0,
             "#0d0887"
            ],
            [
             0.1111111111111111,
             "#46039f"
            ],
            [
             0.2222222222222222,
             "#7201a8"
            ],
            [
             0.3333333333333333,
             "#9c179e"
            ],
            [
             0.4444444444444444,
             "#bd3786"
            ],
            [
             0.5555555555555556,
             "#d8576b"
            ],
            [
             0.6666666666666666,
             "#ed7953"
            ],
            [
             0.7777777777777778,
             "#fb9f3a"
            ],
            [
             0.8888888888888888,
             "#fdca26"
            ],
            [
             1,
             "#f0f921"
            ]
           ]
          },
          "colorway": [
           "#636efa",
           "#EF553B",
           "#00cc96",
           "#ab63fa",
           "#FFA15A",
           "#19d3f3",
           "#FF6692",
           "#B6E880",
           "#FF97FF",
           "#FECB52"
          ],
          "font": {
           "color": "#2a3f5f"
          },
          "geo": {
           "bgcolor": "white",
           "lakecolor": "white",
           "landcolor": "#E5ECF6",
           "showlakes": true,
           "showland": true,
           "subunitcolor": "white"
          },
          "hoverlabel": {
           "align": "left"
          },
          "hovermode": "closest",
          "mapbox": {
           "style": "light"
          },
          "paper_bgcolor": "white",
          "plot_bgcolor": "#E5ECF6",
          "polar": {
           "angularaxis": {
            "gridcolor": "white",
            "linecolor": "white",
            "ticks": ""
           },
           "bgcolor": "#E5ECF6",
           "radialaxis": {
            "gridcolor": "white",
            "linecolor": "white",
            "ticks": ""
           }
          },
          "scene": {
           "xaxis": {
            "backgroundcolor": "#E5ECF6",
            "gridcolor": "white",
            "gridwidth": 2,
            "linecolor": "white",
            "showbackground": true,
            "ticks": "",
            "zerolinecolor": "white"
           },
           "yaxis": {
            "backgroundcolor": "#E5ECF6",
            "gridcolor": "white",
            "gridwidth": 2,
            "linecolor": "white",
            "showbackground": true,
            "ticks": "",
            "zerolinecolor": "white"
           },
           "zaxis": {
            "backgroundcolor": "#E5ECF6",
            "gridcolor": "white",
            "gridwidth": 2,
            "linecolor": "white",
            "showbackground": true,
            "ticks": "",
            "zerolinecolor": "white"
           }
          },
          "shapedefaults": {
           "line": {
            "color": "#2a3f5f"
           }
          },
          "ternary": {
           "aaxis": {
            "gridcolor": "white",
            "linecolor": "white",
            "ticks": ""
           },
           "baxis": {
            "gridcolor": "white",
            "linecolor": "white",
            "ticks": ""
           },
           "bgcolor": "#E5ECF6",
           "caxis": {
            "gridcolor": "white",
            "linecolor": "white",
            "ticks": ""
           }
          },
          "title": {
           "x": 0.05
          },
          "xaxis": {
           "automargin": true,
           "gridcolor": "white",
           "linecolor": "white",
           "ticks": "",
           "title": {
            "standoff": 15
           },
           "zerolinecolor": "white",
           "zerolinewidth": 2
          },
          "yaxis": {
           "automargin": true,
           "gridcolor": "white",
           "linecolor": "white",
           "ticks": "",
           "title": {
            "standoff": 15
           },
           "zerolinecolor": "white",
           "zerolinewidth": 2
          }
         }
        },
        "title": {
         "text": "Línea ajustada manualmente (GridSearch de coef/intercept)"
        },
        "width": 700,
        "xaxis": {
         "title": {
          "text": "Tamaño del Pie (cm)"
         }
        },
        "yaxis": {
         "title": {
          "text": "Altura (cm)"
         }
        }
       }
      }
     },
     "metadata": {},
     "output_type": "display_data"
    }
   ],
   "source": [
    "# Línea de mejor ajuste\n",
    "y_line_best = x_range.flatten() * best_coef + best_intercept\n",
    "\n",
    "fig_best = go.Figure()\n",
    "\n",
    "# Datos reales\n",
    "fig_best.add_trace(go.Scatter(\n",
    "    x=X['Pie'], y=y,\n",
    "    mode='markers',\n",
    "    name='Datos reales',\n",
    "    marker=dict(color='blue')\n",
    "))\n",
    "\n",
    "# Línea best fit\n",
    "fig_best.add_trace(go.Scatter(\n",
    "    x=x_range.flatten(), y=y_line_best,\n",
    "    mode='lines',\n",
    "    name='Mejor línea ajustada',\n",
    "    line=dict(color='green')\n",
    "))\n",
    "\n",
    "fig_best.update_layout(\n",
    "    title='Línea ajustada manualmente (GridSearch de coef/intercept)',\n",
    "    xaxis_title='Tamaño del Pie (cm)',\n",
    "    yaxis_title='Altura (cm)',\n",
    "    width=700,\n",
    "    height=500\n",
    ")\n",
    "\n",
    "fig_best.show()\n"
   ]
  },
  {
   "cell_type": "code",
   "execution_count": 166,
   "metadata": {},
   "outputs": [],
   "source": [
    "import gradio as gr\n",
    "\n",
    "# Usamos los mejores coeficientes encontrados en el gridsearch manual\n",
    "def predecir_altura_pie(pie_input):\n",
    "    altura = best_coef * pie_input + best_intercept\n",
    "    return f\"Altura estimada: {altura:.2f} cm\"\n",
    "\n",
    "interface_modelo_5 = gr.Interface(\n",
    "    fn=predecir_altura_pie,\n",
    "    inputs=gr.Number(label=\"Tamaño del Pie (cm)\"),\n",
    "    outputs=gr.Textbox(label=\"Predicción de Altura\"),\n",
    "    title=\"Modelo 5 - Altura según Pie\",\n",
    "    description=\"Ingresa el tamaño del pie para predecir la altura usando un modelo lineal optimizado.\"\n",
    ")\n"
   ]
  },
  {
   "cell_type": "markdown",
   "metadata": {},
   "source": [
    "### **Modelo 6: Coef_ Intercep_**"
   ]
  },
  {
   "cell_type": "code",
   "execution_count": 167,
   "metadata": {},
   "outputs": [],
   "source": [
    "X = df_ori[['Pie', 'Ancho']]\n",
    "y = df_ori['Altura']\n",
    "\n",
    "X_train_6, X_test_6, y_train_6, y_test_6 = train_test_split(X, y, test_size=0.2, random_state=42)"
   ]
  },
  {
   "cell_type": "code",
   "execution_count": 168,
   "metadata": {},
   "outputs": [
    {
     "data": {
      "text/html": [
       "<style>#sk-container-id-17 {\n",
       "  /* Definition of color scheme common for light and dark mode */\n",
       "  --sklearn-color-text: #000;\n",
       "  --sklearn-color-text-muted: #666;\n",
       "  --sklearn-color-line: gray;\n",
       "  /* Definition of color scheme for unfitted estimators */\n",
       "  --sklearn-color-unfitted-level-0: #fff5e6;\n",
       "  --sklearn-color-unfitted-level-1: #f6e4d2;\n",
       "  --sklearn-color-unfitted-level-2: #ffe0b3;\n",
       "  --sklearn-color-unfitted-level-3: chocolate;\n",
       "  /* Definition of color scheme for fitted estimators */\n",
       "  --sklearn-color-fitted-level-0: #f0f8ff;\n",
       "  --sklearn-color-fitted-level-1: #d4ebff;\n",
       "  --sklearn-color-fitted-level-2: #b3dbfd;\n",
       "  --sklearn-color-fitted-level-3: cornflowerblue;\n",
       "\n",
       "  /* Specific color for light theme */\n",
       "  --sklearn-color-text-on-default-background: var(--sg-text-color, var(--theme-code-foreground, var(--jp-content-font-color1, black)));\n",
       "  --sklearn-color-background: var(--sg-background-color, var(--theme-background, var(--jp-layout-color0, white)));\n",
       "  --sklearn-color-border-box: var(--sg-text-color, var(--theme-code-foreground, var(--jp-content-font-color1, black)));\n",
       "  --sklearn-color-icon: #696969;\n",
       "\n",
       "  @media (prefers-color-scheme: dark) {\n",
       "    /* Redefinition of color scheme for dark theme */\n",
       "    --sklearn-color-text-on-default-background: var(--sg-text-color, var(--theme-code-foreground, var(--jp-content-font-color1, white)));\n",
       "    --sklearn-color-background: var(--sg-background-color, var(--theme-background, var(--jp-layout-color0, #111)));\n",
       "    --sklearn-color-border-box: var(--sg-text-color, var(--theme-code-foreground, var(--jp-content-font-color1, white)));\n",
       "    --sklearn-color-icon: #878787;\n",
       "  }\n",
       "}\n",
       "\n",
       "#sk-container-id-17 {\n",
       "  color: var(--sklearn-color-text);\n",
       "}\n",
       "\n",
       "#sk-container-id-17 pre {\n",
       "  padding: 0;\n",
       "}\n",
       "\n",
       "#sk-container-id-17 input.sk-hidden--visually {\n",
       "  border: 0;\n",
       "  clip: rect(1px 1px 1px 1px);\n",
       "  clip: rect(1px, 1px, 1px, 1px);\n",
       "  height: 1px;\n",
       "  margin: -1px;\n",
       "  overflow: hidden;\n",
       "  padding: 0;\n",
       "  position: absolute;\n",
       "  width: 1px;\n",
       "}\n",
       "\n",
       "#sk-container-id-17 div.sk-dashed-wrapped {\n",
       "  border: 1px dashed var(--sklearn-color-line);\n",
       "  margin: 0 0.4em 0.5em 0.4em;\n",
       "  box-sizing: border-box;\n",
       "  padding-bottom: 0.4em;\n",
       "  background-color: var(--sklearn-color-background);\n",
       "}\n",
       "\n",
       "#sk-container-id-17 div.sk-container {\n",
       "  /* jupyter's `normalize.less` sets `[hidden] { display: none; }`\n",
       "     but bootstrap.min.css set `[hidden] { display: none !important; }`\n",
       "     so we also need the `!important` here to be able to override the\n",
       "     default hidden behavior on the sphinx rendered scikit-learn.org.\n",
       "     See: https://github.com/scikit-learn/scikit-learn/issues/21755 */\n",
       "  display: inline-block !important;\n",
       "  position: relative;\n",
       "}\n",
       "\n",
       "#sk-container-id-17 div.sk-text-repr-fallback {\n",
       "  display: none;\n",
       "}\n",
       "\n",
       "div.sk-parallel-item,\n",
       "div.sk-serial,\n",
       "div.sk-item {\n",
       "  /* draw centered vertical line to link estimators */\n",
       "  background-image: linear-gradient(var(--sklearn-color-text-on-default-background), var(--sklearn-color-text-on-default-background));\n",
       "  background-size: 2px 100%;\n",
       "  background-repeat: no-repeat;\n",
       "  background-position: center center;\n",
       "}\n",
       "\n",
       "/* Parallel-specific style estimator block */\n",
       "\n",
       "#sk-container-id-17 div.sk-parallel-item::after {\n",
       "  content: \"\";\n",
       "  width: 100%;\n",
       "  border-bottom: 2px solid var(--sklearn-color-text-on-default-background);\n",
       "  flex-grow: 1;\n",
       "}\n",
       "\n",
       "#sk-container-id-17 div.sk-parallel {\n",
       "  display: flex;\n",
       "  align-items: stretch;\n",
       "  justify-content: center;\n",
       "  background-color: var(--sklearn-color-background);\n",
       "  position: relative;\n",
       "}\n",
       "\n",
       "#sk-container-id-17 div.sk-parallel-item {\n",
       "  display: flex;\n",
       "  flex-direction: column;\n",
       "}\n",
       "\n",
       "#sk-container-id-17 div.sk-parallel-item:first-child::after {\n",
       "  align-self: flex-end;\n",
       "  width: 50%;\n",
       "}\n",
       "\n",
       "#sk-container-id-17 div.sk-parallel-item:last-child::after {\n",
       "  align-self: flex-start;\n",
       "  width: 50%;\n",
       "}\n",
       "\n",
       "#sk-container-id-17 div.sk-parallel-item:only-child::after {\n",
       "  width: 0;\n",
       "}\n",
       "\n",
       "/* Serial-specific style estimator block */\n",
       "\n",
       "#sk-container-id-17 div.sk-serial {\n",
       "  display: flex;\n",
       "  flex-direction: column;\n",
       "  align-items: center;\n",
       "  background-color: var(--sklearn-color-background);\n",
       "  padding-right: 1em;\n",
       "  padding-left: 1em;\n",
       "}\n",
       "\n",
       "\n",
       "/* Toggleable style: style used for estimator/Pipeline/ColumnTransformer box that is\n",
       "clickable and can be expanded/collapsed.\n",
       "- Pipeline and ColumnTransformer use this feature and define the default style\n",
       "- Estimators will overwrite some part of the style using the `sk-estimator` class\n",
       "*/\n",
       "\n",
       "/* Pipeline and ColumnTransformer style (default) */\n",
       "\n",
       "#sk-container-id-17 div.sk-toggleable {\n",
       "  /* Default theme specific background. It is overwritten whether we have a\n",
       "  specific estimator or a Pipeline/ColumnTransformer */\n",
       "  background-color: var(--sklearn-color-background);\n",
       "}\n",
       "\n",
       "/* Toggleable label */\n",
       "#sk-container-id-17 label.sk-toggleable__label {\n",
       "  cursor: pointer;\n",
       "  display: flex;\n",
       "  width: 100%;\n",
       "  margin-bottom: 0;\n",
       "  padding: 0.5em;\n",
       "  box-sizing: border-box;\n",
       "  text-align: center;\n",
       "  align-items: start;\n",
       "  justify-content: space-between;\n",
       "  gap: 0.5em;\n",
       "}\n",
       "\n",
       "#sk-container-id-17 label.sk-toggleable__label .caption {\n",
       "  font-size: 0.6rem;\n",
       "  font-weight: lighter;\n",
       "  color: var(--sklearn-color-text-muted);\n",
       "}\n",
       "\n",
       "#sk-container-id-17 label.sk-toggleable__label-arrow:before {\n",
       "  /* Arrow on the left of the label */\n",
       "  content: \"▸\";\n",
       "  float: left;\n",
       "  margin-right: 0.25em;\n",
       "  color: var(--sklearn-color-icon);\n",
       "}\n",
       "\n",
       "#sk-container-id-17 label.sk-toggleable__label-arrow:hover:before {\n",
       "  color: var(--sklearn-color-text);\n",
       "}\n",
       "\n",
       "/* Toggleable content - dropdown */\n",
       "\n",
       "#sk-container-id-17 div.sk-toggleable__content {\n",
       "  max-height: 0;\n",
       "  max-width: 0;\n",
       "  overflow: hidden;\n",
       "  text-align: left;\n",
       "  /* unfitted */\n",
       "  background-color: var(--sklearn-color-unfitted-level-0);\n",
       "}\n",
       "\n",
       "#sk-container-id-17 div.sk-toggleable__content.fitted {\n",
       "  /* fitted */\n",
       "  background-color: var(--sklearn-color-fitted-level-0);\n",
       "}\n",
       "\n",
       "#sk-container-id-17 div.sk-toggleable__content pre {\n",
       "  margin: 0.2em;\n",
       "  border-radius: 0.25em;\n",
       "  color: var(--sklearn-color-text);\n",
       "  /* unfitted */\n",
       "  background-color: var(--sklearn-color-unfitted-level-0);\n",
       "}\n",
       "\n",
       "#sk-container-id-17 div.sk-toggleable__content.fitted pre {\n",
       "  /* unfitted */\n",
       "  background-color: var(--sklearn-color-fitted-level-0);\n",
       "}\n",
       "\n",
       "#sk-container-id-17 input.sk-toggleable__control:checked~div.sk-toggleable__content {\n",
       "  /* Expand drop-down */\n",
       "  max-height: 200px;\n",
       "  max-width: 100%;\n",
       "  overflow: auto;\n",
       "}\n",
       "\n",
       "#sk-container-id-17 input.sk-toggleable__control:checked~label.sk-toggleable__label-arrow:before {\n",
       "  content: \"▾\";\n",
       "}\n",
       "\n",
       "/* Pipeline/ColumnTransformer-specific style */\n",
       "\n",
       "#sk-container-id-17 div.sk-label input.sk-toggleable__control:checked~label.sk-toggleable__label {\n",
       "  color: var(--sklearn-color-text);\n",
       "  background-color: var(--sklearn-color-unfitted-level-2);\n",
       "}\n",
       "\n",
       "#sk-container-id-17 div.sk-label.fitted input.sk-toggleable__control:checked~label.sk-toggleable__label {\n",
       "  background-color: var(--sklearn-color-fitted-level-2);\n",
       "}\n",
       "\n",
       "/* Estimator-specific style */\n",
       "\n",
       "/* Colorize estimator box */\n",
       "#sk-container-id-17 div.sk-estimator input.sk-toggleable__control:checked~label.sk-toggleable__label {\n",
       "  /* unfitted */\n",
       "  background-color: var(--sklearn-color-unfitted-level-2);\n",
       "}\n",
       "\n",
       "#sk-container-id-17 div.sk-estimator.fitted input.sk-toggleable__control:checked~label.sk-toggleable__label {\n",
       "  /* fitted */\n",
       "  background-color: var(--sklearn-color-fitted-level-2);\n",
       "}\n",
       "\n",
       "#sk-container-id-17 div.sk-label label.sk-toggleable__label,\n",
       "#sk-container-id-17 div.sk-label label {\n",
       "  /* The background is the default theme color */\n",
       "  color: var(--sklearn-color-text-on-default-background);\n",
       "}\n",
       "\n",
       "/* On hover, darken the color of the background */\n",
       "#sk-container-id-17 div.sk-label:hover label.sk-toggleable__label {\n",
       "  color: var(--sklearn-color-text);\n",
       "  background-color: var(--sklearn-color-unfitted-level-2);\n",
       "}\n",
       "\n",
       "/* Label box, darken color on hover, fitted */\n",
       "#sk-container-id-17 div.sk-label.fitted:hover label.sk-toggleable__label.fitted {\n",
       "  color: var(--sklearn-color-text);\n",
       "  background-color: var(--sklearn-color-fitted-level-2);\n",
       "}\n",
       "\n",
       "/* Estimator label */\n",
       "\n",
       "#sk-container-id-17 div.sk-label label {\n",
       "  font-family: monospace;\n",
       "  font-weight: bold;\n",
       "  display: inline-block;\n",
       "  line-height: 1.2em;\n",
       "}\n",
       "\n",
       "#sk-container-id-17 div.sk-label-container {\n",
       "  text-align: center;\n",
       "}\n",
       "\n",
       "/* Estimator-specific */\n",
       "#sk-container-id-17 div.sk-estimator {\n",
       "  font-family: monospace;\n",
       "  border: 1px dotted var(--sklearn-color-border-box);\n",
       "  border-radius: 0.25em;\n",
       "  box-sizing: border-box;\n",
       "  margin-bottom: 0.5em;\n",
       "  /* unfitted */\n",
       "  background-color: var(--sklearn-color-unfitted-level-0);\n",
       "}\n",
       "\n",
       "#sk-container-id-17 div.sk-estimator.fitted {\n",
       "  /* fitted */\n",
       "  background-color: var(--sklearn-color-fitted-level-0);\n",
       "}\n",
       "\n",
       "/* on hover */\n",
       "#sk-container-id-17 div.sk-estimator:hover {\n",
       "  /* unfitted */\n",
       "  background-color: var(--sklearn-color-unfitted-level-2);\n",
       "}\n",
       "\n",
       "#sk-container-id-17 div.sk-estimator.fitted:hover {\n",
       "  /* fitted */\n",
       "  background-color: var(--sklearn-color-fitted-level-2);\n",
       "}\n",
       "\n",
       "/* Specification for estimator info (e.g. \"i\" and \"?\") */\n",
       "\n",
       "/* Common style for \"i\" and \"?\" */\n",
       "\n",
       ".sk-estimator-doc-link,\n",
       "a:link.sk-estimator-doc-link,\n",
       "a:visited.sk-estimator-doc-link {\n",
       "  float: right;\n",
       "  font-size: smaller;\n",
       "  line-height: 1em;\n",
       "  font-family: monospace;\n",
       "  background-color: var(--sklearn-color-background);\n",
       "  border-radius: 1em;\n",
       "  height: 1em;\n",
       "  width: 1em;\n",
       "  text-decoration: none !important;\n",
       "  margin-left: 0.5em;\n",
       "  text-align: center;\n",
       "  /* unfitted */\n",
       "  border: var(--sklearn-color-unfitted-level-1) 1pt solid;\n",
       "  color: var(--sklearn-color-unfitted-level-1);\n",
       "}\n",
       "\n",
       ".sk-estimator-doc-link.fitted,\n",
       "a:link.sk-estimator-doc-link.fitted,\n",
       "a:visited.sk-estimator-doc-link.fitted {\n",
       "  /* fitted */\n",
       "  border: var(--sklearn-color-fitted-level-1) 1pt solid;\n",
       "  color: var(--sklearn-color-fitted-level-1);\n",
       "}\n",
       "\n",
       "/* On hover */\n",
       "div.sk-estimator:hover .sk-estimator-doc-link:hover,\n",
       ".sk-estimator-doc-link:hover,\n",
       "div.sk-label-container:hover .sk-estimator-doc-link:hover,\n",
       ".sk-estimator-doc-link:hover {\n",
       "  /* unfitted */\n",
       "  background-color: var(--sklearn-color-unfitted-level-3);\n",
       "  color: var(--sklearn-color-background);\n",
       "  text-decoration: none;\n",
       "}\n",
       "\n",
       "div.sk-estimator.fitted:hover .sk-estimator-doc-link.fitted:hover,\n",
       ".sk-estimator-doc-link.fitted:hover,\n",
       "div.sk-label-container:hover .sk-estimator-doc-link.fitted:hover,\n",
       ".sk-estimator-doc-link.fitted:hover {\n",
       "  /* fitted */\n",
       "  background-color: var(--sklearn-color-fitted-level-3);\n",
       "  color: var(--sklearn-color-background);\n",
       "  text-decoration: none;\n",
       "}\n",
       "\n",
       "/* Span, style for the box shown on hovering the info icon */\n",
       ".sk-estimator-doc-link span {\n",
       "  display: none;\n",
       "  z-index: 9999;\n",
       "  position: relative;\n",
       "  font-weight: normal;\n",
       "  right: .2ex;\n",
       "  padding: .5ex;\n",
       "  margin: .5ex;\n",
       "  width: min-content;\n",
       "  min-width: 20ex;\n",
       "  max-width: 50ex;\n",
       "  color: var(--sklearn-color-text);\n",
       "  box-shadow: 2pt 2pt 4pt #999;\n",
       "  /* unfitted */\n",
       "  background: var(--sklearn-color-unfitted-level-0);\n",
       "  border: .5pt solid var(--sklearn-color-unfitted-level-3);\n",
       "}\n",
       "\n",
       ".sk-estimator-doc-link.fitted span {\n",
       "  /* fitted */\n",
       "  background: var(--sklearn-color-fitted-level-0);\n",
       "  border: var(--sklearn-color-fitted-level-3);\n",
       "}\n",
       "\n",
       ".sk-estimator-doc-link:hover span {\n",
       "  display: block;\n",
       "}\n",
       "\n",
       "/* \"?\"-specific style due to the `<a>` HTML tag */\n",
       "\n",
       "#sk-container-id-17 a.estimator_doc_link {\n",
       "  float: right;\n",
       "  font-size: 1rem;\n",
       "  line-height: 1em;\n",
       "  font-family: monospace;\n",
       "  background-color: var(--sklearn-color-background);\n",
       "  border-radius: 1rem;\n",
       "  height: 1rem;\n",
       "  width: 1rem;\n",
       "  text-decoration: none;\n",
       "  /* unfitted */\n",
       "  color: var(--sklearn-color-unfitted-level-1);\n",
       "  border: var(--sklearn-color-unfitted-level-1) 1pt solid;\n",
       "}\n",
       "\n",
       "#sk-container-id-17 a.estimator_doc_link.fitted {\n",
       "  /* fitted */\n",
       "  border: var(--sklearn-color-fitted-level-1) 1pt solid;\n",
       "  color: var(--sklearn-color-fitted-level-1);\n",
       "}\n",
       "\n",
       "/* On hover */\n",
       "#sk-container-id-17 a.estimator_doc_link:hover {\n",
       "  /* unfitted */\n",
       "  background-color: var(--sklearn-color-unfitted-level-3);\n",
       "  color: var(--sklearn-color-background);\n",
       "  text-decoration: none;\n",
       "}\n",
       "\n",
       "#sk-container-id-17 a.estimator_doc_link.fitted:hover {\n",
       "  /* fitted */\n",
       "  background-color: var(--sklearn-color-fitted-level-3);\n",
       "}\n",
       "</style><div id=\"sk-container-id-17\" class=\"sk-top-container\"><div class=\"sk-text-repr-fallback\"><pre>LinearRegression()</pre><b>In a Jupyter environment, please rerun this cell to show the HTML representation or trust the notebook. <br />On GitHub, the HTML representation is unable to render, please try loading this page with nbviewer.org.</b></div><div class=\"sk-container\" hidden><div class=\"sk-item\"><div class=\"sk-estimator fitted sk-toggleable\"><input class=\"sk-toggleable__control sk-hidden--visually\" id=\"sk-estimator-id-30\" type=\"checkbox\" checked><label for=\"sk-estimator-id-30\" class=\"sk-toggleable__label fitted sk-toggleable__label-arrow\"><div><div>LinearRegression</div></div><div><a class=\"sk-estimator-doc-link fitted\" rel=\"noreferrer\" target=\"_blank\" href=\"https://scikit-learn.org/1.6/modules/generated/sklearn.linear_model.LinearRegression.html\">?<span>Documentation for LinearRegression</span></a><span class=\"sk-estimator-doc-link fitted\">i<span>Fitted</span></span></div></label><div class=\"sk-toggleable__content fitted\"><pre>LinearRegression()</pre></div> </div></div></div></div>"
      ],
      "text/plain": [
       "LinearRegression()"
      ]
     },
     "execution_count": 168,
     "metadata": {},
     "output_type": "execute_result"
    }
   ],
   "source": [
    "Linear_model_2D = LinearRegression()\n",
    "Linear_model_2D.fit(X_train_6, y_train_6)"
   ]
  },
  {
   "cell_type": "code",
   "execution_count": 169,
   "metadata": {},
   "outputs": [],
   "source": [
    "y_pred_2D = Linear_model_2D.predict(X_test_6)"
   ]
  },
  {
   "cell_type": "code",
   "execution_count": 170,
   "metadata": {},
   "outputs": [
    {
     "name": "stdout",
     "output_type": "stream",
     "text": [
      "Modelo 6 - R2: 0.8458, RMSE: 3.6414\n"
     ]
    }
   ],
   "source": [
    "r2_2D = r2_score(y_test_6, y_pred_2D)\n",
    "rmse_2D = np.sqrt(mean_squared_error(y_test_6, y_pred_2D))\n",
    "\n",
    "print(f\"Modelo 6 - R2: {r2_2D:.4f}, RMSE: {rmse_2D:.4f}\")"
   ]
  },
  {
   "cell_type": "code",
   "execution_count": 171,
   "metadata": {},
   "outputs": [
    {
     "data": {
      "text/plain": [
       "([4.0756, 0.1958], 56.6426)"
      ]
     },
     "execution_count": 171,
     "metadata": {},
     "output_type": "execute_result"
    }
   ],
   "source": [
    "Linear_model_2D.coef_ = ([4.0756, 0.1958])\n",
    "Linear_model_2D.intercept_ = 56.6426\n",
    "\n",
    "Linear_model_2D.coef_, Linear_model_2D.intercept_"
   ]
  },
  {
   "cell_type": "code",
   "execution_count": 172,
   "metadata": {},
   "outputs": [
    {
     "name": "stdout",
     "output_type": "stream",
     "text": [
      "Coef Pie: 4.0756, Coef Ancho: 0.1958, Intercepto: 56.6426\n"
     ]
    }
   ],
   "source": [
    "coef_pie = Linear_model_2D.coef_[0]\n",
    "coef_ancho = Linear_model_2D.coef_[1]\n",
    "intercept = Linear_model_2D.intercept_\n",
    "\n",
    "print(f\"Coef Pie: {coef_pie:.4f}, Coef Ancho: {coef_ancho:.4f}, Intercepto: {intercept:.4f}\")"
   ]
  },
  {
   "cell_type": "code",
   "execution_count": 173,
   "metadata": {},
   "outputs": [
    {
     "data": {
      "application/vnd.plotly.v1+json": {
       "config": {
        "plotlyServerURL": "https://plot.ly"
       },
       "data": [
        {
         "marker": {
          "color": "blue",
          "opacity": 0.7,
          "size": 4
         },
         "mode": "markers",
         "name": "Datos reales",
         "type": "scatter3d",
         "x": {
          "bdata": "AAAAAAAAPEAAAAAAAIA6QAAAAAAAADhAAAAAAACAOEAAAAAAAAA7QAAAAAAAADdAAAAAAAAAPUAAAAAAAAA4QAAAAAAAgDtAAAAAAAAAN0AAAAAAAAA2QAAAAAAAADpAAAAAAAAAPEAAAAAAAIA7QAAAAAAAADhAAAAAAACAOEAAAAAAAAA4QAAAAAAAgDZA",
          "dtype": "f8"
         },
         "y": {
          "bdata": "NywsLC4oMCgxLCg9NzImJyYn",
          "dtype": "i1"
         },
         "z": {
          "bdata": "uQCtAKMAogCsAJ8AuwClAK8AogCbAKgAswCsAJ8ApgCcAJYA",
          "dtype": "i2"
         }
        },
        {
         "colorscale": [
          [
           0,
           "#440154"
          ],
          [
           0.1111111111111111,
           "#482878"
          ],
          [
           0.2222222222222222,
           "#3e4989"
          ],
          [
           0.3333333333333333,
           "#31688e"
          ],
          [
           0.4444444444444444,
           "#26828e"
          ],
          [
           0.5555555555555556,
           "#1f9e89"
          ],
          [
           0.6666666666666666,
           "#35b779"
          ],
          [
           0.7777777777777778,
           "#6ece58"
          ],
          [
           0.8888888888888888,
           "#b5de2b"
          ],
          [
           1,
           "#fde725"
          ]
         ],
         "name": "Plano del modelo",
         "opacity": 0.6,
         "showscale": false,
         "type": "surface",
         "x": {
          "bdata": "AAAAAAAANkBJkiRJkiQ2QJIkSZIkSTZA27Zt27ZtNkAlSZIkSZI2QG7btm3btjZAt23btm3bNkAAAAAAAAA3QEmSJEmSJDdAkiRJkiRJN0Dbtm3btm03QCVJkiRJkjdAbtu2bdu2N0C3bdu2bds3QAAAAAAAADhASZIkSZIkOECSJEmSJEk4QNu2bdu2bThAJEmSJEmSOEBu27Zt27Y4QLdt27Zt2zhAAAAAAAAAOUBJkiRJkiQ5QJIkSZIkSTlA27Zt27ZtOUAkSZIkSZI5QG7btm3btjlAt23btm3bOUAAAAAAAAA6QEmSJEmSJDpAkiRJkiRJOkDbtm3btm06QCRJkiRJkjpAbtu2bdu2OkC3bdu2bds6QAAAAAAAADtASZIkSZIkO0CSJEmSJEk7QNu2bdu2bTtAJEmSJEmSO0Bu27Zt27Y7QLdt27Zt2ztAAAAAAAAAPEBJkiRJkiQ8QJIkSZIkSTxA27Zt27ZtPEAkSZIkSZI8QG7btm3btjxAt23btm3bPEAAAAAAAAA9QA==",
          "dtype": "f8"
         },
         "y": {
          "bdata": "AAAAAAAAQ0Avp+DlFDxDQF5OwcspeENAjfWhsT60Q0C8nIKXU/BDQOtDY31oLERAGutDY31oREBJkiRJkqREQHg5BS+n4ERAp+DlFLwcRUDWh8b60FhFQAUvp+DllEVANNaHxvrQRUBjfWisDw1GQJIkSZIkSUZAwcspeDmFRkDwcgpeTsFGQB8a60Nj/UZATsHLKXg5R0B+aKwPjXVHQKwPjfWhsUdA3LZt27btR0AKXk7ByylIQDoFL6fgZUhAaKwPjfWhSECYU/ByCt5IQMb60FgfGklA9qGxPjRWSUAlSZIkSZJJQFTwcgpezklAg5dT8HIKSkCyPjTWh0ZKQOHlFLycgkpAEI31obG+SkA/NNaHxvpKQG7btm3bNktAnYKXU/ByS0DMKXg5Ba9LQPvQWB8a60tAKng5BS8nTEBZHxrrQ2NMQIjG+tBYn0xAt23btm3bTEDmFLycghdNQBW8nIKXU01ARGN9aKyPTUBzCl5OwctNQKKxPjTWB05A0VgfGutDTkAAAAAAAIBOQA==",
          "dtype": "f8"
         },
         "z": {
          "bdata": "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",
          "dtype": "f8",
          "shape": "50, 50"
         }
        }
       ],
       "layout": {
        "height": 600,
        "scene": {
         "xaxis": {
          "title": {
           "text": "Tamaño del Pie (cm)"
          }
         },
         "yaxis": {
          "title": {
           "text": "Ancho Corporal (cm)"
          }
         },
         "zaxis": {
          "title": {
           "text": "Altura (cm)"
          }
         }
        },
        "template": {
         "data": {
          "bar": [
           {
            "error_x": {
             "color": "#2a3f5f"
            },
            "error_y": {
             "color": "#2a3f5f"
            },
            "marker": {
             "line": {
              "color": "#E5ECF6",
              "width": 0.5
             },
             "pattern": {
              "fillmode": "overlay",
              "size": 10,
              "solidity": 0.2
             }
            },
            "type": "bar"
           }
          ],
          "barpolar": [
           {
            "marker": {
             "line": {
              "color": "#E5ECF6",
              "width": 0.5
             },
             "pattern": {
              "fillmode": "overlay",
              "size": 10,
              "solidity": 0.2
             }
            },
            "type": "barpolar"
           }
          ],
          "carpet": [
           {
            "aaxis": {
             "endlinecolor": "#2a3f5f",
             "gridcolor": "white",
             "linecolor": "white",
             "minorgridcolor": "white",
             "startlinecolor": "#2a3f5f"
            },
            "baxis": {
             "endlinecolor": "#2a3f5f",
             "gridcolor": "white",
             "linecolor": "white",
             "minorgridcolor": "white",
             "startlinecolor": "#2a3f5f"
            },
            "type": "carpet"
           }
          ],
          "choropleth": [
           {
            "colorbar": {
             "outlinewidth": 0,
             "ticks": ""
            },
            "type": "choropleth"
           }
          ],
          "contour": [
           {
            "colorbar": {
             "outlinewidth": 0,
             "ticks": ""
            },
            "colorscale": [
             [
              0,
              "#0d0887"
             ],
             [
              0.1111111111111111,
              "#46039f"
             ],
             [
              0.2222222222222222,
              "#7201a8"
             ],
             [
              0.3333333333333333,
              "#9c179e"
             ],
             [
              0.4444444444444444,
              "#bd3786"
             ],
             [
              0.5555555555555556,
              "#d8576b"
             ],
             [
              0.6666666666666666,
              "#ed7953"
             ],
             [
              0.7777777777777778,
              "#fb9f3a"
             ],
             [
              0.8888888888888888,
              "#fdca26"
             ],
             [
              1,
              "#f0f921"
             ]
            ],
            "type": "contour"
           }
          ],
          "contourcarpet": [
           {
            "colorbar": {
             "outlinewidth": 0,
             "ticks": ""
            },
            "type": "contourcarpet"
           }
          ],
          "heatmap": [
           {
            "colorbar": {
             "outlinewidth": 0,
             "ticks": ""
            },
            "colorscale": [
             [
              0,
              "#0d0887"
             ],
             [
              0.1111111111111111,
              "#46039f"
             ],
             [
              0.2222222222222222,
              "#7201a8"
             ],
             [
              0.3333333333333333,
              "#9c179e"
             ],
             [
              0.4444444444444444,
              "#bd3786"
             ],
             [
              0.5555555555555556,
              "#d8576b"
             ],
             [
              0.6666666666666666,
              "#ed7953"
             ],
             [
              0.7777777777777778,
              "#fb9f3a"
             ],
             [
              0.8888888888888888,
              "#fdca26"
             ],
             [
              1,
              "#f0f921"
             ]
            ],
            "type": "heatmap"
           }
          ],
          "histogram": [
           {
            "marker": {
             "pattern": {
              "fillmode": "overlay",
              "size": 10,
              "solidity": 0.2
             }
            },
            "type": "histogram"
           }
          ],
          "histogram2d": [
           {
            "colorbar": {
             "outlinewidth": 0,
             "ticks": ""
            },
            "colorscale": [
             [
              0,
              "#0d0887"
             ],
             [
              0.1111111111111111,
              "#46039f"
             ],
             [
              0.2222222222222222,
              "#7201a8"
             ],
             [
              0.3333333333333333,
              "#9c179e"
             ],
             [
              0.4444444444444444,
              "#bd3786"
             ],
             [
              0.5555555555555556,
              "#d8576b"
             ],
             [
              0.6666666666666666,
              "#ed7953"
             ],
             [
              0.7777777777777778,
              "#fb9f3a"
             ],
             [
              0.8888888888888888,
              "#fdca26"
             ],
             [
              1,
              "#f0f921"
             ]
            ],
            "type": "histogram2d"
           }
          ],
          "histogram2dcontour": [
           {
            "colorbar": {
             "outlinewidth": 0,
             "ticks": ""
            },
            "colorscale": [
             [
              0,
              "#0d0887"
             ],
             [
              0.1111111111111111,
              "#46039f"
             ],
             [
              0.2222222222222222,
              "#7201a8"
             ],
             [
              0.3333333333333333,
              "#9c179e"
             ],
             [
              0.4444444444444444,
              "#bd3786"
             ],
             [
              0.5555555555555556,
              "#d8576b"
             ],
             [
              0.6666666666666666,
              "#ed7953"
             ],
             [
              0.7777777777777778,
              "#fb9f3a"
             ],
             [
              0.8888888888888888,
              "#fdca26"
             ],
             [
              1,
              "#f0f921"
             ]
            ],
            "type": "histogram2dcontour"
           }
          ],
          "mesh3d": [
           {
            "colorbar": {
             "outlinewidth": 0,
             "ticks": ""
            },
            "type": "mesh3d"
           }
          ],
          "parcoords": [
           {
            "line": {
             "colorbar": {
              "outlinewidth": 0,
              "ticks": ""
             }
            },
            "type": "parcoords"
           }
          ],
          "pie": [
           {
            "automargin": true,
            "type": "pie"
           }
          ],
          "scatter": [
           {
            "fillpattern": {
             "fillmode": "overlay",
             "size": 10,
             "solidity": 0.2
            },
            "type": "scatter"
           }
          ],
          "scatter3d": [
           {
            "line": {
             "colorbar": {
              "outlinewidth": 0,
              "ticks": ""
             }
            },
            "marker": {
             "colorbar": {
              "outlinewidth": 0,
              "ticks": ""
             }
            },
            "type": "scatter3d"
           }
          ],
          "scattercarpet": [
           {
            "marker": {
             "colorbar": {
              "outlinewidth": 0,
              "ticks": ""
             }
            },
            "type": "scattercarpet"
           }
          ],
          "scattergeo": [
           {
            "marker": {
             "colorbar": {
              "outlinewidth": 0,
              "ticks": ""
             }
            },
            "type": "scattergeo"
           }
          ],
          "scattergl": [
           {
            "marker": {
             "colorbar": {
              "outlinewidth": 0,
              "ticks": ""
             }
            },
            "type": "scattergl"
           }
          ],
          "scattermap": [
           {
            "marker": {
             "colorbar": {
              "outlinewidth": 0,
              "ticks": ""
             }
            },
            "type": "scattermap"
           }
          ],
          "scattermapbox": [
           {
            "marker": {
             "colorbar": {
              "outlinewidth": 0,
              "ticks": ""
             }
            },
            "type": "scattermapbox"
           }
          ],
          "scatterpolar": [
           {
            "marker": {
             "colorbar": {
              "outlinewidth": 0,
              "ticks": ""
             }
            },
            "type": "scatterpolar"
           }
          ],
          "scatterpolargl": [
           {
            "marker": {
             "colorbar": {
              "outlinewidth": 0,
              "ticks": ""
             }
            },
            "type": "scatterpolargl"
           }
          ],
          "scatterternary": [
           {
            "marker": {
             "colorbar": {
              "outlinewidth": 0,
              "ticks": ""
             }
            },
            "type": "scatterternary"
           }
          ],
          "surface": [
           {
            "colorbar": {
             "outlinewidth": 0,
             "ticks": ""
            },
            "colorscale": [
             [
              0,
              "#0d0887"
             ],
             [
              0.1111111111111111,
              "#46039f"
             ],
             [
              0.2222222222222222,
              "#7201a8"
             ],
             [
              0.3333333333333333,
              "#9c179e"
             ],
             [
              0.4444444444444444,
              "#bd3786"
             ],
             [
              0.5555555555555556,
              "#d8576b"
             ],
             [
              0.6666666666666666,
              "#ed7953"
             ],
             [
              0.7777777777777778,
              "#fb9f3a"
             ],
             [
              0.8888888888888888,
              "#fdca26"
             ],
             [
              1,
              "#f0f921"
             ]
            ],
            "type": "surface"
           }
          ],
          "table": [
           {
            "cells": {
             "fill": {
              "color": "#EBF0F8"
             },
             "line": {
              "color": "white"
             }
            },
            "header": {
             "fill": {
              "color": "#C8D4E3"
             },
             "line": {
              "color": "white"
             }
            },
            "type": "table"
           }
          ]
         },
         "layout": {
          "annotationdefaults": {
           "arrowcolor": "#2a3f5f",
           "arrowhead": 0,
           "arrowwidth": 1
          },
          "autotypenumbers": "strict",
          "coloraxis": {
           "colorbar": {
            "outlinewidth": 0,
            "ticks": ""
           }
          },
          "colorscale": {
           "diverging": [
            [
             0,
             "#8e0152"
            ],
            [
             0.1,
             "#c51b7d"
            ],
            [
             0.2,
             "#de77ae"
            ],
            [
             0.3,
             "#f1b6da"
            ],
            [
             0.4,
             "#fde0ef"
            ],
            [
             0.5,
             "#f7f7f7"
            ],
            [
             0.6,
             "#e6f5d0"
            ],
            [
             0.7,
             "#b8e186"
            ],
            [
             0.8,
             "#7fbc41"
            ],
            [
             0.9,
             "#4d9221"
            ],
            [
             1,
             "#276419"
            ]
           ],
           "sequential": [
            [
             0,
             "#0d0887"
            ],
            [
             0.1111111111111111,
             "#46039f"
            ],
            [
             0.2222222222222222,
             "#7201a8"
            ],
            [
             0.3333333333333333,
             "#9c179e"
            ],
            [
             0.4444444444444444,
             "#bd3786"
            ],
            [
             0.5555555555555556,
             "#d8576b"
            ],
            [
             0.6666666666666666,
             "#ed7953"
            ],
            [
             0.7777777777777778,
             "#fb9f3a"
            ],
            [
             0.8888888888888888,
             "#fdca26"
            ],
            [
             1,
             "#f0f921"
            ]
           ],
           "sequentialminus": [
            [
             0,
             "#0d0887"
            ],
            [
             0.1111111111111111,
             "#46039f"
            ],
            [
             0.2222222222222222,
             "#7201a8"
            ],
            [
             0.3333333333333333,
             "#9c179e"
            ],
            [
             0.4444444444444444,
             "#bd3786"
            ],
            [
             0.5555555555555556,
             "#d8576b"
            ],
            [
             0.6666666666666666,
             "#ed7953"
            ],
            [
             0.7777777777777778,
             "#fb9f3a"
            ],
            [
             0.8888888888888888,
             "#fdca26"
            ],
            [
             1,
             "#f0f921"
            ]
           ]
          },
          "colorway": [
           "#636efa",
           "#EF553B",
           "#00cc96",
           "#ab63fa",
           "#FFA15A",
           "#19d3f3",
           "#FF6692",
           "#B6E880",
           "#FF97FF",
           "#FECB52"
          ],
          "font": {
           "color": "#2a3f5f"
          },
          "geo": {
           "bgcolor": "white",
           "lakecolor": "white",
           "landcolor": "#E5ECF6",
           "showlakes": true,
           "showland": true,
           "subunitcolor": "white"
          },
          "hoverlabel": {
           "align": "left"
          },
          "hovermode": "closest",
          "mapbox": {
           "style": "light"
          },
          "paper_bgcolor": "white",
          "plot_bgcolor": "#E5ECF6",
          "polar": {
           "angularaxis": {
            "gridcolor": "white",
            "linecolor": "white",
            "ticks": ""
           },
           "bgcolor": "#E5ECF6",
           "radialaxis": {
            "gridcolor": "white",
            "linecolor": "white",
            "ticks": ""
           }
          },
          "scene": {
           "xaxis": {
            "backgroundcolor": "#E5ECF6",
            "gridcolor": "white",
            "gridwidth": 2,
            "linecolor": "white",
            "showbackground": true,
            "ticks": "",
            "zerolinecolor": "white"
           },
           "yaxis": {
            "backgroundcolor": "#E5ECF6",
            "gridcolor": "white",
            "gridwidth": 2,
            "linecolor": "white",
            "showbackground": true,
            "ticks": "",
            "zerolinecolor": "white"
           },
           "zaxis": {
            "backgroundcolor": "#E5ECF6",
            "gridcolor": "white",
            "gridwidth": 2,
            "linecolor": "white",
            "showbackground": true,
            "ticks": "",
            "zerolinecolor": "white"
           }
          },
          "shapedefaults": {
           "line": {
            "color": "#2a3f5f"
           }
          },
          "ternary": {
           "aaxis": {
            "gridcolor": "white",
            "linecolor": "white",
            "ticks": ""
           },
           "baxis": {
            "gridcolor": "white",
            "linecolor": "white",
            "ticks": ""
           },
           "bgcolor": "#E5ECF6",
           "caxis": {
            "gridcolor": "white",
            "linecolor": "white",
            "ticks": ""
           }
          },
          "title": {
           "x": 0.05
          },
          "xaxis": {
           "automargin": true,
           "gridcolor": "white",
           "linecolor": "white",
           "ticks": "",
           "title": {
            "standoff": 15
           },
           "zerolinecolor": "white",
           "zerolinewidth": 2
          },
          "yaxis": {
           "automargin": true,
           "gridcolor": "white",
           "linecolor": "white",
           "ticks": "",
           "title": {
            "standoff": 15
           },
           "zerolinecolor": "white",
           "zerolinewidth": 2
          }
         }
        },
        "title": {
         "text": "Modelo 6: Regresión Lineal\nAltura vs Pie y Ancho"
        },
        "width": 800
       }
      }
     },
     "metadata": {},
     "output_type": "display_data"
    }
   ],
   "source": [
    "pie_range = np.linspace(X['Pie'].min(), X['Pie'].max(), 50)\n",
    "ancho_range = np.linspace(X['Ancho'].min(), X['Ancho'].max(), 50)\n",
    "pie_grid, ancho_grid = np.meshgrid(pie_range, ancho_range)\n",
    "\n",
    "altura_plane = coef_pie * pie_grid + coef_ancho * ancho_grid + intercept\n",
    "\n",
    "fig_3d = go.Figure()\n",
    "\n",
    "fig_3d.add_trace(go.Scatter3d(\n",
    "    x=X['Pie'],\n",
    "    y=X['Ancho'],\n",
    "    z=y,\n",
    "    mode='markers',\n",
    "    name='Datos reales',\n",
    "    marker=dict(size=4, color='blue', opacity=0.7)\n",
    "))\n",
    "\n",
    "fig_3d.add_trace(go.Surface(\n",
    "    x=pie_range,\n",
    "    y=ancho_range,\n",
    "    z=altura_plane,\n",
    "    name='Plano del modelo',\n",
    "    showscale=False,\n",
    "    opacity=0.6,\n",
    "    colorscale='Viridis'\n",
    "))\n",
    "\n",
    "fig_3d.update_layout(\n",
    "    title='Modelo 6: Regresión Lineal\\nAltura vs Pie y Ancho',\n",
    "    scene=dict(\n",
    "        xaxis_title='Tamaño del Pie (cm)',\n",
    "        yaxis_title='Ancho Corporal (cm)',\n",
    "        zaxis_title='Altura (cm)'\n",
    "    ),\n",
    "    width=800,\n",
    "    height=600\n",
    ")\n",
    "\n",
    "fig_3d.show()\n"
   ]
  },
  {
   "cell_type": "code",
   "execution_count": 174,
   "metadata": {},
   "outputs": [],
   "source": [
    "coef_pie_base = coef_pie\n",
    "coef_ancho_base = coef_ancho\n",
    "intercept_base = intercept\n",
    "\n",
    "pie_range = np.linspace(coef_pie_base - 0.2, coef_pie_base + 0.2, 25)\n",
    "ancho_range = np.linspace(coef_ancho_base - 0.2, coef_ancho_base + 0.2, 25)\n",
    "intercept_range = np.linspace(intercept_base - 5, intercept_base + 5, 25)"
   ]
  },
  {
   "cell_type": "code",
   "execution_count": 175,
   "metadata": {},
   "outputs": [
    {
     "name": "stdout",
     "output_type": "stream",
     "text": [
      "Mejor combinación:\n",
      "Coef Pie: 3.8756\n",
      "Coef Ancho: 0.3791\n",
      "Intercepto: 53.3093\n",
      "R2: 0.9436, RMSE: 2.2033\n"
     ]
    }
   ],
   "source": [
    "best_r2 = -np.inf\n",
    "best_rmse = np.inf\n",
    "best_params = {}\n",
    "\n",
    "for a in pie_range:\n",
    "    for b in ancho_range:\n",
    "        for c in intercept_range:\n",
    "            y_pred = a * X_test_6['Pie'].values + b * X_test_6['Ancho'].values + c\n",
    "            r2 = r2_score(y_test_6, y_pred)\n",
    "            rmse = np.sqrt(mean_squared_error(y_test_6, y_pred))\n",
    "\n",
    "            if r2 > best_r2:\n",
    "                best_r2 = r2\n",
    "                best_rmse = rmse\n",
    "                best_params = {'coef_pie': a, 'coef_ancho': b, 'intercept': c}\n",
    "\n",
    "print(f\"Mejor combinación:\")\n",
    "print(f\"Coef Pie: {best_params['coef_pie']:.4f}\")\n",
    "print(f\"Coef Ancho: {best_params['coef_ancho']:.4f}\")\n",
    "print(f\"Intercepto: {best_params['intercept']:.4f}\")\n",
    "print(f\"R2: {best_r2:.4f}, RMSE: {best_rmse:.4f}\")\n"
   ]
  },
  {
   "cell_type": "code",
   "execution_count": 176,
   "metadata": {},
   "outputs": [
    {
     "data": {
      "application/vnd.plotly.v1+json": {
       "config": {
        "plotlyServerURL": "https://plot.ly"
       },
       "data": [
        {
         "marker": {
          "color": "blue",
          "opacity": 0.7,
          "size": 4
         },
         "mode": "markers",
         "name": "Datos reales",
         "type": "scatter3d",
         "x": {
          "bdata": "AAAAAAAAPEAAAAAAAIA6QAAAAAAAADhAAAAAAACAOEAAAAAAAAA7QAAAAAAAADdAAAAAAAAAPUAAAAAAAAA4QAAAAAAAgDtAAAAAAAAAN0AAAAAAAAA2QAAAAAAAADpAAAAAAAAAPEAAAAAAAIA7QAAAAAAAADhAAAAAAACAOEAAAAAAAAA4QAAAAAAAgDZA",
          "dtype": "f8"
         },
         "y": {
          "bdata": "NywsLC4oMCgxLCg9NzImJyYn",
          "dtype": "i1"
         },
         "z": {
          "bdata": "uQCtAKMAogCsAJ8AuwClAK8AogCbAKgAswCsAJ8ApgCcAJYA",
          "dtype": "i2"
         }
        },
        {
         "colorscale": [
          [
           0,
           "#440154"
          ],
          [
           0.1111111111111111,
           "#482878"
          ],
          [
           0.2222222222222222,
           "#3e4989"
          ],
          [
           0.3333333333333333,
           "#31688e"
          ],
          [
           0.4444444444444444,
           "#26828e"
          ],
          [
           0.5555555555555556,
           "#1f9e89"
          ],
          [
           0.6666666666666666,
           "#35b779"
          ],
          [
           0.7777777777777778,
           "#6ece58"
          ],
          [
           0.8888888888888888,
           "#b5de2b"
          ],
          [
           1,
           "#fde725"
          ]
         ],
         "name": "Plano Ajustado",
         "opacity": 0.6,
         "showscale": false,
         "type": "surface",
         "x": {
          "bdata": "UgWjkjoBD0B0J8W0XCMPQJZJ59Z+RQ9AuGsJ+aBnD0DbjSsbw4kPQP2vTT3lqw9AH9JvXwfOD0BB9JGBKfAPQDIL2tElCRBAQxzr4jYaEEBULfzzRysQQGU+DQVZPBBAdk8eFmpNEECHYC8ne14QQJhxQDiMbxBAqYJRSZ2AEEC6k2JarpEQQMukc2u/ohBA3LWEfNCzEEDuxpWN4cQQQP/Xpp7y1RBAEOm3rwPnEEAh+sjAFPgQQDIL2tElCRFAQxzr4jYaEUA=",
          "dtype": "f8"
         },
         "y": {
          "bdata": "IIxK6gQ0cb8S3PysH4iJPxp/j+cg1Z0/FkhQ/Bhzpz+e0NiEofuvP5OssAYVQrQ/2PD0SlmGuD8cNTmPncq8P7C8vulwh8A/0t7gC5Opwj/0AAMutcvEPxYjJVDX7cY/OUVHcvkPyT9bZ2mUGzLLP32Ji7Y9VM0/n6ut2F92zz/g5mf9QMzQP/L3eA5S3dE/AgmKH2Pu0j8UGpswdP/TPyQrrEGFENU/Njy9UpYh1j9GTc5jpzLXP1he33S4Q9g/am/whclU2T8=",
          "dtype": "f8"
         },
         "z": {
          "bdata": "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",
          "dtype": "f8",
          "shape": "25, 25"
         }
        }
       ],
       "layout": {
        "height": 600,
        "scene": {
         "xaxis": {
          "title": {
           "text": "Pie (cm)"
          }
         },
         "yaxis": {
          "title": {
           "text": "Ancho (cm)"
          }
         },
         "zaxis": {
          "title": {
           "text": "Altura (cm)"
          }
         }
        },
        "template": {
         "data": {
          "bar": [
           {
            "error_x": {
             "color": "#2a3f5f"
            },
            "error_y": {
             "color": "#2a3f5f"
            },
            "marker": {
             "line": {
              "color": "#E5ECF6",
              "width": 0.5
             },
             "pattern": {
              "fillmode": "overlay",
              "size": 10,
              "solidity": 0.2
             }
            },
            "type": "bar"
           }
          ],
          "barpolar": [
           {
            "marker": {
             "line": {
              "color": "#E5ECF6",
              "width": 0.5
             },
             "pattern": {
              "fillmode": "overlay",
              "size": 10,
              "solidity": 0.2
             }
            },
            "type": "barpolar"
           }
          ],
          "carpet": [
           {
            "aaxis": {
             "endlinecolor": "#2a3f5f",
             "gridcolor": "white",
             "linecolor": "white",
             "minorgridcolor": "white",
             "startlinecolor": "#2a3f5f"
            },
            "baxis": {
             "endlinecolor": "#2a3f5f",
             "gridcolor": "white",
             "linecolor": "white",
             "minorgridcolor": "white",
             "startlinecolor": "#2a3f5f"
            },
            "type": "carpet"
           }
          ],
          "choropleth": [
           {
            "colorbar": {
             "outlinewidth": 0,
             "ticks": ""
            },
            "type": "choropleth"
           }
          ],
          "contour": [
           {
            "colorbar": {
             "outlinewidth": 0,
             "ticks": ""
            },
            "colorscale": [
             [
              0,
              "#0d0887"
             ],
             [
              0.1111111111111111,
              "#46039f"
             ],
             [
              0.2222222222222222,
              "#7201a8"
             ],
             [
              0.3333333333333333,
              "#9c179e"
             ],
             [
              0.4444444444444444,
              "#bd3786"
             ],
             [
              0.5555555555555556,
              "#d8576b"
             ],
             [
              0.6666666666666666,
              "#ed7953"
             ],
             [
              0.7777777777777778,
              "#fb9f3a"
             ],
             [
              0.8888888888888888,
              "#fdca26"
             ],
             [
              1,
              "#f0f921"
             ]
            ],
            "type": "contour"
           }
          ],
          "contourcarpet": [
           {
            "colorbar": {
             "outlinewidth": 0,
             "ticks": ""
            },
            "type": "contourcarpet"
           }
          ],
          "heatmap": [
           {
            "colorbar": {
             "outlinewidth": 0,
             "ticks": ""
            },
            "colorscale": [
             [
              0,
              "#0d0887"
             ],
             [
              0.1111111111111111,
              "#46039f"
             ],
             [
              0.2222222222222222,
              "#7201a8"
             ],
             [
              0.3333333333333333,
              "#9c179e"
             ],
             [
              0.4444444444444444,
              "#bd3786"
             ],
             [
              0.5555555555555556,
              "#d8576b"
             ],
             [
              0.6666666666666666,
              "#ed7953"
             ],
             [
              0.7777777777777778,
              "#fb9f3a"
             ],
             [
              0.8888888888888888,
              "#fdca26"
             ],
             [
              1,
              "#f0f921"
             ]
            ],
            "type": "heatmap"
           }
          ],
          "histogram": [
           {
            "marker": {
             "pattern": {
              "fillmode": "overlay",
              "size": 10,
              "solidity": 0.2
             }
            },
            "type": "histogram"
           }
          ],
          "histogram2d": [
           {
            "colorbar": {
             "outlinewidth": 0,
             "ticks": ""
            },
            "colorscale": [
             [
              0,
              "#0d0887"
             ],
             [
              0.1111111111111111,
              "#46039f"
             ],
             [
              0.2222222222222222,
              "#7201a8"
             ],
             [
              0.3333333333333333,
              "#9c179e"
             ],
             [
              0.4444444444444444,
              "#bd3786"
             ],
             [
              0.5555555555555556,
              "#d8576b"
             ],
             [
              0.6666666666666666,
              "#ed7953"
             ],
             [
              0.7777777777777778,
              "#fb9f3a"
             ],
             [
              0.8888888888888888,
              "#fdca26"
             ],
             [
              1,
              "#f0f921"
             ]
            ],
            "type": "histogram2d"
           }
          ],
          "histogram2dcontour": [
           {
            "colorbar": {
             "outlinewidth": 0,
             "ticks": ""
            },
            "colorscale": [
             [
              0,
              "#0d0887"
             ],
             [
              0.1111111111111111,
              "#46039f"
             ],
             [
              0.2222222222222222,
              "#7201a8"
             ],
             [
              0.3333333333333333,
              "#9c179e"
             ],
             [
              0.4444444444444444,
              "#bd3786"
             ],
             [
              0.5555555555555556,
              "#d8576b"
             ],
             [
              0.6666666666666666,
              "#ed7953"
             ],
             [
              0.7777777777777778,
              "#fb9f3a"
             ],
             [
              0.8888888888888888,
              "#fdca26"
             ],
             [
              1,
              "#f0f921"
             ]
            ],
            "type": "histogram2dcontour"
           }
          ],
          "mesh3d": [
           {
            "colorbar": {
             "outlinewidth": 0,
             "ticks": ""
            },
            "type": "mesh3d"
           }
          ],
          "parcoords": [
           {
            "line": {
             "colorbar": {
              "outlinewidth": 0,
              "ticks": ""
             }
            },
            "type": "parcoords"
           }
          ],
          "pie": [
           {
            "automargin": true,
            "type": "pie"
           }
          ],
          "scatter": [
           {
            "fillpattern": {
             "fillmode": "overlay",
             "size": 10,
             "solidity": 0.2
            },
            "type": "scatter"
           }
          ],
          "scatter3d": [
           {
            "line": {
             "colorbar": {
              "outlinewidth": 0,
              "ticks": ""
             }
            },
            "marker": {
             "colorbar": {
              "outlinewidth": 0,
              "ticks": ""
             }
            },
            "type": "scatter3d"
           }
          ],
          "scattercarpet": [
           {
            "marker": {
             "colorbar": {
              "outlinewidth": 0,
              "ticks": ""
             }
            },
            "type": "scattercarpet"
           }
          ],
          "scattergeo": [
           {
            "marker": {
             "colorbar": {
              "outlinewidth": 0,
              "ticks": ""
             }
            },
            "type": "scattergeo"
           }
          ],
          "scattergl": [
           {
            "marker": {
             "colorbar": {
              "outlinewidth": 0,
              "ticks": ""
             }
            },
            "type": "scattergl"
           }
          ],
          "scattermap": [
           {
            "marker": {
             "colorbar": {
              "outlinewidth": 0,
              "ticks": ""
             }
            },
            "type": "scattermap"
           }
          ],
          "scattermapbox": [
           {
            "marker": {
             "colorbar": {
              "outlinewidth": 0,
              "ticks": ""
             }
            },
            "type": "scattermapbox"
           }
          ],
          "scatterpolar": [
           {
            "marker": {
             "colorbar": {
              "outlinewidth": 0,
              "ticks": ""
             }
            },
            "type": "scatterpolar"
           }
          ],
          "scatterpolargl": [
           {
            "marker": {
             "colorbar": {
              "outlinewidth": 0,
              "ticks": ""
             }
            },
            "type": "scatterpolargl"
           }
          ],
          "scatterternary": [
           {
            "marker": {
             "colorbar": {
              "outlinewidth": 0,
              "ticks": ""
             }
            },
            "type": "scatterternary"
           }
          ],
          "surface": [
           {
            "colorbar": {
             "outlinewidth": 0,
             "ticks": ""
            },
            "colorscale": [
             [
              0,
              "#0d0887"
             ],
             [
              0.1111111111111111,
              "#46039f"
             ],
             [
              0.2222222222222222,
              "#7201a8"
             ],
             [
              0.3333333333333333,
              "#9c179e"
             ],
             [
              0.4444444444444444,
              "#bd3786"
             ],
             [
              0.5555555555555556,
              "#d8576b"
             ],
             [
              0.6666666666666666,
              "#ed7953"
             ],
             [
              0.7777777777777778,
              "#fb9f3a"
             ],
             [
              0.8888888888888888,
              "#fdca26"
             ],
             [
              1,
              "#f0f921"
             ]
            ],
            "type": "surface"
           }
          ],
          "table": [
           {
            "cells": {
             "fill": {
              "color": "#EBF0F8"
             },
             "line": {
              "color": "white"
             }
            },
            "header": {
             "fill": {
              "color": "#C8D4E3"
             },
             "line": {
              "color": "white"
             }
            },
            "type": "table"
           }
          ]
         },
         "layout": {
          "annotationdefaults": {
           "arrowcolor": "#2a3f5f",
           "arrowhead": 0,
           "arrowwidth": 1
          },
          "autotypenumbers": "strict",
          "coloraxis": {
           "colorbar": {
            "outlinewidth": 0,
            "ticks": ""
           }
          },
          "colorscale": {
           "diverging": [
            [
             0,
             "#8e0152"
            ],
            [
             0.1,
             "#c51b7d"
            ],
            [
             0.2,
             "#de77ae"
            ],
            [
             0.3,
             "#f1b6da"
            ],
            [
             0.4,
             "#fde0ef"
            ],
            [
             0.5,
             "#f7f7f7"
            ],
            [
             0.6,
             "#e6f5d0"
            ],
            [
             0.7,
             "#b8e186"
            ],
            [
             0.8,
             "#7fbc41"
            ],
            [
             0.9,
             "#4d9221"
            ],
            [
             1,
             "#276419"
            ]
           ],
           "sequential": [
            [
             0,
             "#0d0887"
            ],
            [
             0.1111111111111111,
             "#46039f"
            ],
            [
             0.2222222222222222,
             "#7201a8"
            ],
            [
             0.3333333333333333,
             "#9c179e"
            ],
            [
             0.4444444444444444,
             "#bd3786"
            ],
            [
             0.5555555555555556,
             "#d8576b"
            ],
            [
             0.6666666666666666,
             "#ed7953"
            ],
            [
             0.7777777777777778,
             "#fb9f3a"
            ],
            [
             0.8888888888888888,
             "#fdca26"
            ],
            [
             1,
             "#f0f921"
            ]
           ],
           "sequentialminus": [
            [
             0,
             "#0d0887"
            ],
            [
             0.1111111111111111,
             "#46039f"
            ],
            [
             0.2222222222222222,
             "#7201a8"
            ],
            [
             0.3333333333333333,
             "#9c179e"
            ],
            [
             0.4444444444444444,
             "#bd3786"
            ],
            [
             0.5555555555555556,
             "#d8576b"
            ],
            [
             0.6666666666666666,
             "#ed7953"
            ],
            [
             0.7777777777777778,
             "#fb9f3a"
            ],
            [
             0.8888888888888888,
             "#fdca26"
            ],
            [
             1,
             "#f0f921"
            ]
           ]
          },
          "colorway": [
           "#636efa",
           "#EF553B",
           "#00cc96",
           "#ab63fa",
           "#FFA15A",
           "#19d3f3",
           "#FF6692",
           "#B6E880",
           "#FF97FF",
           "#FECB52"
          ],
          "font": {
           "color": "#2a3f5f"
          },
          "geo": {
           "bgcolor": "white",
           "lakecolor": "white",
           "landcolor": "#E5ECF6",
           "showlakes": true,
           "showland": true,
           "subunitcolor": "white"
          },
          "hoverlabel": {
           "align": "left"
          },
          "hovermode": "closest",
          "mapbox": {
           "style": "light"
          },
          "paper_bgcolor": "white",
          "plot_bgcolor": "#E5ECF6",
          "polar": {
           "angularaxis": {
            "gridcolor": "white",
            "linecolor": "white",
            "ticks": ""
           },
           "bgcolor": "#E5ECF6",
           "radialaxis": {
            "gridcolor": "white",
            "linecolor": "white",
            "ticks": ""
           }
          },
          "scene": {
           "xaxis": {
            "backgroundcolor": "#E5ECF6",
            "gridcolor": "white",
            "gridwidth": 2,
            "linecolor": "white",
            "showbackground": true,
            "ticks": "",
            "zerolinecolor": "white"
           },
           "yaxis": {
            "backgroundcolor": "#E5ECF6",
            "gridcolor": "white",
            "gridwidth": 2,
            "linecolor": "white",
            "showbackground": true,
            "ticks": "",
            "zerolinecolor": "white"
           },
           "zaxis": {
            "backgroundcolor": "#E5ECF6",
            "gridcolor": "white",
            "gridwidth": 2,
            "linecolor": "white",
            "showbackground": true,
            "ticks": "",
            "zerolinecolor": "white"
           }
          },
          "shapedefaults": {
           "line": {
            "color": "#2a3f5f"
           }
          },
          "ternary": {
           "aaxis": {
            "gridcolor": "white",
            "linecolor": "white",
            "ticks": ""
           },
           "baxis": {
            "gridcolor": "white",
            "linecolor": "white",
            "ticks": ""
           },
           "bgcolor": "#E5ECF6",
           "caxis": {
            "gridcolor": "white",
            "linecolor": "white",
            "ticks": ""
           }
          },
          "title": {
           "x": 0.05
          },
          "xaxis": {
           "automargin": true,
           "gridcolor": "white",
           "linecolor": "white",
           "ticks": "",
           "title": {
            "standoff": 15
           },
           "zerolinecolor": "white",
           "zerolinewidth": 2
          },
          "yaxis": {
           "automargin": true,
           "gridcolor": "white",
           "linecolor": "white",
           "ticks": "",
           "title": {
            "standoff": 15
           },
           "zerolinecolor": "white",
           "zerolinewidth": 2
          }
         }
        },
        "title": {
         "text": "Plano ajustado manualmente (GridSearch coef_pie, coef_ancho, intercept)"
        },
        "width": 800
       }
      }
     },
     "metadata": {},
     "output_type": "display_data"
    }
   ],
   "source": [
    "pie_grid, ancho_grid = np.meshgrid(pie_range, ancho_range)\n",
    "\n",
    "altura_best_plane = (\n",
    "    best_params['coef_pie'] * pie_grid +\n",
    "    best_params['coef_ancho'] * ancho_grid +\n",
    "    best_params['intercept']\n",
    ")\n",
    "\n",
    "fig_best3d = go.Figure()\n",
    "\n",
    "fig_best3d.add_trace(go.Scatter3d(\n",
    "    x=X['Pie'], y=X['Ancho'], z=y,\n",
    "    mode='markers',\n",
    "    name='Datos reales',\n",
    "    marker=dict(size=4, color='blue', opacity=0.7)\n",
    "))\n",
    "\n",
    "fig_best3d.add_trace(go.Surface(\n",
    "    x=pie_range,\n",
    "    y=ancho_range,\n",
    "    z=altura_best_plane,\n",
    "    name='Plano Ajustado',\n",
    "    opacity=0.6,\n",
    "    colorscale='Viridis',\n",
    "    showscale=False\n",
    "))\n",
    "\n",
    "fig_best3d.update_layout(\n",
    "    title='Plano ajustado manualmente (GridSearch coef_pie, coef_ancho, intercept)',\n",
    "    scene=dict(\n",
    "        xaxis_title='Pie (cm)',\n",
    "        yaxis_title='Ancho (cm)',\n",
    "        zaxis_title='Altura (cm)'\n",
    "    ),\n",
    "    width=800,\n",
    "    height=600\n",
    ")\n",
    "\n",
    "fig_best3d.show()"
   ]
  },
  {
   "cell_type": "code",
   "execution_count": 177,
   "metadata": {},
   "outputs": [],
   "source": [
    "def predecir_altura_pie_ancho(pie_input, ancho_input):\n",
    "    altura = (best_params['coef_pie'] * pie_input +\n",
    "              best_params['coef_ancho'] * ancho_input +\n",
    "              best_params['intercept'])\n",
    "    return f\"Altura estimada: {altura:.2f} cm\"\n",
    "\n",
    "interface_modelo_6 = gr.Interface(\n",
    "    fn=predecir_altura_pie_ancho,\n",
    "    inputs=[\n",
    "        gr.Number(label=\"Tamaño del Pie (cm)\"),\n",
    "        gr.Number(label=\"Ancho de Espalda (cm)\")\n",
    "    ],\n",
    "    outputs=gr.Textbox(label=\"Predicción de Altura\"),\n",
    "    title=\"Modelo 6 - Altura según Pie y Ancho\",\n",
    "    description=\"Ingresa el tamaño del pie y el ancho corporal para predecir la altura usando un plano optimizado.\"\n",
    ")\n"
   ]
  },
  {
   "cell_type": "code",
   "execution_count": 178,
   "metadata": {},
   "outputs": [],
   "source": [
    "def predecir_altura_pie_ancho(pie_input, ancho_input):\n",
    "    altura = (best_params['coef_pie'] * pie_input +\n",
    "              best_params['coef_ancho'] * ancho_input +\n",
    "              best_params['intercept'])\n",
    "    return f\"Altura estimada: {altura:.2f} cm\"\n",
    "\n",
    "interface_modelo_6 = gr.Interface(\n",
    "    fn=predecir_altura_pie_ancho,\n",
    "    inputs=[\n",
    "        gr.Number(label=\"Tamaño del Pie (cm)\"),\n",
    "        gr.Number(label=\"Ancho de Espalda (cm)\")\n",
    "    ],\n",
    "    outputs=gr.Textbox(label=\"Predicción de Altura\"),\n",
    "    title=\"Modelo 6 - Altura según Pie y Ancho\",\n",
    "    description=\"Ingresa el tamaño del pie y el ancho corporal para predecir la altura usando un plano optimizado.\"\n",
    ")\n"
   ]
  },
  {
   "cell_type": "markdown",
   "metadata": {},
   "source": [
    "## **Interfaz**"
   ]
  },
  {
   "cell_type": "code",
   "execution_count": 179,
   "metadata": {},
   "outputs": [
    {
     "name": "stdout",
     "output_type": "stream",
     "text": [
      "* Running on local URL:  http://127.0.0.1:7861\n",
      "\n",
      "To create a public link, set `share=True` in `launch()`.\n"
     ]
    },
    {
     "data": {
      "text/html": [
       "<div><iframe src=\"http://127.0.0.1:7861/\" width=\"100%\" height=\"500\" allow=\"autoplay; camera; microphone; clipboard-read; clipboard-write;\" frameborder=\"0\" allowfullscreen></iframe></div>"
      ],
      "text/plain": [
       "<IPython.core.display.HTML object>"
      ]
     },
     "metadata": {},
     "output_type": "display_data"
    },
    {
     "data": {
      "text/plain": []
     },
     "execution_count": 179,
     "metadata": {},
     "output_type": "execute_result"
    }
   ],
   "source": [
    "gr.TabbedInterface(\n",
    "    [interface_modelo_5, interface_modelo_6],\n",
    "    [\"Modelo 5\", \"Modelo 6\"]\n",
    ").launch()\n"
   ]
  },
  {
   "cell_type": "markdown",
   "metadata": {},
   "source": [
    "# Datos Países Bajos\n",
    "\n",
    "En este link (https://www.firstinarchitecture.co.uk/metric-data-01-average-dimensions-of-person-standing/) se encontró que, en los Países Bajos, los hombres tienen un ancho de espalda de approx. 46 cm y las mujeres de 40.5 cm. Para hombres, su tamaño de pie es 28.5 cm en promedio, y para mujeres es de 24 cm. Estos datos se usaron para crear datos sintéticos."
   ]
  },
  {
   "cell_type": "code",
   "execution_count": 180,
   "metadata": {},
   "outputs": [
    {
     "data": {
      "application/vnd.microsoft.datawrangler.viewer.v0+json": {
       "columns": [
        {
         "name": "index",
         "rawType": "int64",
         "type": "integer"
        },
        {
         "name": "Altura",
         "rawType": "float64",
         "type": "float"
        },
        {
         "name": "Ancho",
         "rawType": "float64",
         "type": "float"
        },
        {
         "name": "Pie",
         "rawType": "float64",
         "type": "float"
        }
       ],
       "conversionMethod": "pd.DataFrame",
       "ref": "ccf1d23e-4c37-4b81-8f12-40a00b202e53",
       "rows": [
        [
         "0",
         "184.00047898155975",
         "46.41880597929098",
         "28.7679910790231"
        ],
        [
         "1",
         "169.41890580768222",
         "39.55212200889973",
         "23.97606635254505"
        ],
        [
         "2",
         "185.1324497636396",
         "44.68936183546873",
         "27.78147461874306"
        ],
        [
         "3",
         "167.98543859101994",
         "38.67260749920482",
         "23.06587283603511"
        ],
        [
         "4",
         "184.15718462318745",
         "45.544154641159885",
         "27.995371737768142"
        ],
        [
         "5",
         "169.71745135770846",
         "40.08529590144581",
         "24.682972326332585"
        ],
        [
         "6",
         "171.33211465836644",
         "39.27478584460654",
         "23.153020741548648"
        ],
        [
         "7",
         "169.6587553451963",
         "41.09649432579973",
         "23.44032424990791"
        ],
        [
         "8",
         "167.90296253066205",
         "41.95260472061477",
         "25.42310295335087"
        ],
        [
         "9",
         "170.1621692070614",
         "39.03828038444142",
         "23.817219414457153"
        ],
        [
         "10",
         "169.82365095284305",
         "42.01544359955313",
         "25.818986615821238"
        ],
        [
         "11",
         "167.71227503420783",
         "37.37452803351479",
         "25.968989919829806"
        ],
        [
         "12",
         "169.13153340750227",
         "41.127252495451145",
         "23.067895988794458"
        ],
        [
         "13",
         "183.33522807995126",
         "44.70925820776767",
         "30.32608163067244"
        ],
        [
         "14",
         "182.54088519387463",
         "45.232763485216935",
         "26.848111684410092"
        ],
        [
         "15",
         "169.1790433157918",
         "43.04939708223717",
         "25.380407300031735"
        ],
        [
         "16",
         "168.9676387329221",
         "41.42060953422184",
         "25.35768165759971"
        ],
        [
         "17",
         "183.19279474702935",
         "46.0604690436659",
         "28.611445406484513"
        ],
        [
         "18",
         "183.59876387728752",
         "44.44044531257278",
         "29.038072562834905"
        ],
        [
         "19",
         "185.1870861999435",
         "46.12681393405028",
         "29.786261121373812"
        ],
        [
         "20",
         "172.18514562352433",
         "40.29065752248382",
         "25.15900041603832"
        ],
        [
         "21",
         "170.08493100526732",
         "41.3817110636763",
         "23.02711116854321"
        ],
        [
         "22",
         "181.8209041534566",
         "46.59491329604469",
         "28.571314599623243"
        ],
        [
         "23",
         "171.5414885133956",
         "41.73428781143488",
         "21.752276276884263"
        ],
        [
         "24",
         "171.10233744360897",
         "41.20460043419271",
         "26.979089599558336"
        ],
        [
         "25",
         "170.9950442159936",
         "39.374905129413754",
         "24.857391346126832"
        ],
        [
         "26",
         "183.71472944128632",
         "46.19377774820484",
         "28.278033954023577"
        ],
        [
         "27",
         "171.45124508037514",
         "39.14907223305315",
         "23.912941341436607"
        ],
        [
         "28",
         "181.83839532538173",
         "47.07380354791872",
         "28.56926542140472"
        ],
        [
         "29",
         "184.94960506847113",
         "45.010948047664215",
         "27.327327935171265"
        ],
        [
         "30",
         "169.22630220536524",
         "40.16264642262584",
         "24.37304752117998"
        ],
        [
         "31",
         "168.4079361253365",
         "39.83451554001898",
         "23.36858917370429"
        ],
        [
         "32",
         "180.5370881918363",
         "47.05107314040279",
         "26.795227764627906"
        ],
        [
         "33",
         "184.64380339294826",
         "43.915287109191304",
         "28.141678972882502"
        ],
        [
         "34",
         "169.0933795800427",
         "40.60569259570138",
         "23.529333350034456"
        ],
        [
         "35",
         "169.12838513249892",
         "41.38699930633985",
         "24.54899188482635"
        ],
        [
         "36",
         "183.18850468638496",
         "44.63234268835956",
         "27.995744012392997"
        ],
        [
         "37",
         "168.75957915940597",
         "39.94030171817047",
         "21.388632252839628"
        ],
        [
         "38",
         "184.04995097127664",
         "47.02649945386204",
         "26.77389112781642"
        ],
        [
         "39",
         "180.21668302029562",
         "46.35921277666305",
         "29.507634236713574"
        ],
        [
         "40",
         "170.38314494477493",
         "41.44417521753557",
         "25.515973027537566"
        ],
        [
         "41",
         "182.76325935375462",
         "44.513417986130044",
         "28.763391242136066"
        ],
        [
         "42",
         "168.60513954700687",
         "39.408812486686074",
         "23.69395491939374"
        ],
        [
         "43",
         "184.89791768902413",
         "48.45650540020624",
         "28.495975278984844"
        ],
        [
         "44",
         "168.8835061084121",
         "40.47587325711943",
         "22.618475139975665"
        ],
        [
         "45",
         "182.92401377883354",
         "47.32538922456514",
         "32.358165484060386"
        ],
        [
         "46",
         "181.97883523280154",
         "48.413088999832986",
         "26.758797082801088"
        ],
        [
         "47",
         "169.0036753268571",
         "40.18477702115761",
         "25.450611389381386"
        ],
        [
         "48",
         "181.13162531423535",
         "46.28552036345366",
         "28.58954254271992"
        ],
        [
         "49",
         "181.7346268157248",
         "46.5963219636824",
         "28.928418345332144"
        ]
       ],
       "shape": {
        "columns": 3,
        "rows": 1000
       }
      },
      "text/html": [
       "<div>\n",
       "<style scoped>\n",
       "    .dataframe tbody tr th:only-of-type {\n",
       "        vertical-align: middle;\n",
       "    }\n",
       "\n",
       "    .dataframe tbody tr th {\n",
       "        vertical-align: top;\n",
       "    }\n",
       "\n",
       "    .dataframe thead th {\n",
       "        text-align: right;\n",
       "    }\n",
       "</style>\n",
       "<table border=\"1\" class=\"dataframe\">\n",
       "  <thead>\n",
       "    <tr style=\"text-align: right;\">\n",
       "      <th></th>\n",
       "      <th>Altura</th>\n",
       "      <th>Ancho</th>\n",
       "      <th>Pie</th>\n",
       "    </tr>\n",
       "  </thead>\n",
       "  <tbody>\n",
       "    <tr>\n",
       "      <th>0</th>\n",
       "      <td>184.000479</td>\n",
       "      <td>46.418806</td>\n",
       "      <td>28.767991</td>\n",
       "    </tr>\n",
       "    <tr>\n",
       "      <th>1</th>\n",
       "      <td>169.418906</td>\n",
       "      <td>39.552122</td>\n",
       "      <td>23.976066</td>\n",
       "    </tr>\n",
       "    <tr>\n",
       "      <th>2</th>\n",
       "      <td>185.132450</td>\n",
       "      <td>44.689362</td>\n",
       "      <td>27.781475</td>\n",
       "    </tr>\n",
       "    <tr>\n",
       "      <th>3</th>\n",
       "      <td>167.985439</td>\n",
       "      <td>38.672607</td>\n",
       "      <td>23.065873</td>\n",
       "    </tr>\n",
       "    <tr>\n",
       "      <th>4</th>\n",
       "      <td>184.157185</td>\n",
       "      <td>45.544155</td>\n",
       "      <td>27.995372</td>\n",
       "    </tr>\n",
       "    <tr>\n",
       "      <th>...</th>\n",
       "      <td>...</td>\n",
       "      <td>...</td>\n",
       "      <td>...</td>\n",
       "    </tr>\n",
       "    <tr>\n",
       "      <th>995</th>\n",
       "      <td>170.378129</td>\n",
       "      <td>40.681024</td>\n",
       "      <td>22.167892</td>\n",
       "    </tr>\n",
       "    <tr>\n",
       "      <th>996</th>\n",
       "      <td>182.609851</td>\n",
       "      <td>46.993925</td>\n",
       "      <td>27.413982</td>\n",
       "    </tr>\n",
       "    <tr>\n",
       "      <th>997</th>\n",
       "      <td>169.838334</td>\n",
       "      <td>40.093840</td>\n",
       "      <td>25.111106</td>\n",
       "    </tr>\n",
       "    <tr>\n",
       "      <th>998</th>\n",
       "      <td>184.781156</td>\n",
       "      <td>45.679698</td>\n",
       "      <td>27.918893</td>\n",
       "    </tr>\n",
       "    <tr>\n",
       "      <th>999</th>\n",
       "      <td>183.740750</td>\n",
       "      <td>46.525688</td>\n",
       "      <td>27.970863</td>\n",
       "    </tr>\n",
       "  </tbody>\n",
       "</table>\n",
       "<p>1000 rows × 3 columns</p>\n",
       "</div>"
      ],
      "text/plain": [
       "         Altura      Ancho        Pie\n",
       "0    184.000479  46.418806  28.767991\n",
       "1    169.418906  39.552122  23.976066\n",
       "2    185.132450  44.689362  27.781475\n",
       "3    167.985439  38.672607  23.065873\n",
       "4    184.157185  45.544155  27.995372\n",
       "..          ...        ...        ...\n",
       "995  170.378129  40.681024  22.167892\n",
       "996  182.609851  46.993925  27.413982\n",
       "997  169.838334  40.093840  25.111106\n",
       "998  184.781156  45.679698  27.918893\n",
       "999  183.740750  46.525688  27.970863\n",
       "\n",
       "[1000 rows x 3 columns]"
      ]
     },
     "execution_count": 180,
     "metadata": {},
     "output_type": "execute_result"
    }
   ],
   "source": [
    "pb_altura_h = np.random.normal(183, scale=1.25, size=500)\n",
    "pb_altura_m = np.random.normal(170, scale=1.25, size=500)\n",
    "pb_ancho_h = np.random.normal(46, scale=1.25, size=500)\n",
    "pb_ancho_m = np.random.normal(40.5, scale=1.25, size=500)\n",
    "pb_pie_h = np.random.normal(28.5, scale=1.25, size=500)\n",
    "pb_pie_m = np.random.normal(24, scale=1.25, size=500)\n",
    "pb_altura = np.concat((pb_altura_h,pb_altura_m))\n",
    "pb_ancho = np.concat((pb_ancho_h, pb_ancho_m))\n",
    "pb_pie = np.concat((pb_pie_h, pb_pie_m))\n",
    "df_pb = pd.DataFrame(data = {\n",
    "    'Altura': pb_altura,\n",
    "    'Ancho': pb_ancho,\n",
    "    'Pie': pb_pie\n",
    "})\n",
    "df_pb = df_pb.sample(n=len(df_pb))\n",
    "df_pb = df_pb.reset_index(drop=True)\n",
    "df_pb\n"
   ]
  },
  {
   "cell_type": "code",
   "execution_count": 181,
   "metadata": {},
   "outputs": [],
   "source": [
    "x_pb = df_pb.drop(columns=['Altura'])\n",
    "y_pb = df_pb['Altura']\n",
    "X_train_pb, X_test_pb, Y_train_pb, Y_test_pb = train_test_split(x_pb, y_pb, test_size=0.2, random_state=42)"
   ]
  },
  {
   "cell_type": "markdown",
   "metadata": {},
   "source": [
    "### Modelo ElasticNet - Países Bajos"
   ]
  },
  {
   "cell_type": "code",
   "execution_count": 182,
   "metadata": {},
   "outputs": [
    {
     "data": {
      "application/vnd.microsoft.datawrangler.viewer.v0+json": {
       "columns": [
        {
         "name": "index",
         "rawType": "int64",
         "type": "integer"
        },
        {
         "name": "Altura",
         "rawType": "float64",
         "type": "float"
        },
        {
         "name": "Ancho",
         "rawType": "float64",
         "type": "float"
        },
        {
         "name": "Pie",
         "rawType": "float64",
         "type": "float"
        },
        {
         "name": "AnchoPie",
         "rawType": "float64",
         "type": "float"
        }
       ],
       "conversionMethod": "pd.DataFrame",
       "ref": "9042a5d9-0b68-41fe-aaec-1b0f9c6fabb3",
       "rows": [
        [
         "0",
         "184.00047898155975",
         "46.41880597929098",
         "28.7679910790231",
         "1335.375796311147"
        ],
        [
         "1",
         "169.41890580768222",
         "39.55212200889973",
         "23.97606635254505",
         "948.3043016693374"
        ],
        [
         "2",
         "185.1324497636396",
         "44.68936183546873",
         "27.78147461874306",
         "1241.5363715598994"
        ],
        [
         "3",
         "167.98543859101994",
         "38.67260749920482",
         "23.06587283603511",
         "892.0174468145561"
        ],
        [
         "4",
         "184.15718462318745",
         "45.544154641159885",
         "27.995371737768142",
         "1275.0255396616692"
        ],
        [
         "5",
         "169.71745135770846",
         "40.08529590144581",
         "24.682972326332585",
         "989.4242494282399"
        ],
        [
         "6",
         "171.33211465836644",
         "39.27478584460654",
         "23.153020741548648",
         "909.3299312800565"
        ],
        [
         "7",
         "169.6587553451963",
         "41.09649432579973",
         "23.44032424990791",
         "963.3151525312463"
        ],
        [
         "8",
         "167.90296253066205",
         "41.95260472061477",
         "25.42310295335087",
         "1066.565388973423"
        ],
        [
         "9",
         "170.1621692070614",
         "39.03828038444142",
         "23.817219414457153",
         "929.78328947934"
        ],
        [
         "10",
         "169.82365095284305",
         "42.01544359955313",
         "25.818986615821238",
         "1084.7961759546545"
        ],
        [
         "11",
         "167.71227503420783",
         "37.37452803351479",
         "25.968989919829806",
         "970.5787417607421"
        ],
        [
         "12",
         "169.13153340750227",
         "41.127252495451145",
         "23.067895988794458",
         "948.7191828699544"
        ],
        [
         "13",
         "183.33522807995126",
         "44.70925820776767",
         "30.32608163067244",
         "1355.856614055574"
        ],
        [
         "14",
         "182.54088519387463",
         "45.232763485216935",
         "26.848111684410092",
         "1214.414285845611"
        ],
        [
         "15",
         "169.1790433157918",
         "43.04939708223717",
         "25.380407300031735",
         "1092.6112319679771"
        ],
        [
         "16",
         "168.9676387329221",
         "41.42060953422184",
         "25.35768165759971",
         "1050.3306306325367"
        ],
        [
         "17",
         "183.19279474702935",
         "46.0604690436659",
         "28.611445406484513",
         "1317.8565954399166"
        ],
        [
         "18",
         "183.59876387728752",
         "44.44044531257278",
         "29.038072562834905",
         "1290.4648757111847"
        ],
        [
         "19",
         "185.1870861999435",
         "46.12681393405028",
         "29.786261121373812",
         "1373.9453245366458"
        ],
        [
         "20",
         "172.18514562352433",
         "40.29065752248382",
         "25.15900041603832",
         "1013.6726693706279"
        ],
        [
         "21",
         "170.08493100526732",
         "41.3817110636763",
         "23.02711116854321",
         "952.9012610078087"
        ],
        [
         "22",
         "181.8209041534566",
         "46.59491329604469",
         "28.571314599623243",
         "1331.2779265234608"
        ],
        [
         "23",
         "171.5414885133956",
         "41.73428781143488",
         "21.752276276884263",
         "907.815758693335"
        ],
        [
         "24",
         "171.10233744360897",
         "41.20460043419271",
         "26.979089599558336",
         "1111.6626070280854"
        ],
        [
         "25",
         "170.9950442159936",
         "39.374905129413754",
         "24.857391346126832",
         "978.7574260184545"
        ],
        [
         "26",
         "183.71472944128632",
         "46.19377774820484",
         "28.278033954023577",
         "1306.2692156283551"
        ],
        [
         "27",
         "171.45124508037514",
         "39.14907223305315",
         "23.912941341436607",
         "936.1694678806646"
        ],
        [
         "28",
         "181.83839532538173",
         "47.07380354791872",
         "28.56926542140472",
         "1344.863987955553"
        ],
        [
         "29",
         "184.94960506847113",
         "45.010948047664215",
         "27.327327935171265",
         "1230.0289379714768"
        ],
        [
         "30",
         "169.22630220536524",
         "40.16264642262584",
         "24.37304752117998",
         "978.8860898350088"
        ],
        [
         "31",
         "168.4079361253365",
         "39.83451554001898",
         "23.36858917370429",
         "930.8764285882428"
        ],
        [
         "32",
         "180.5370881918363",
         "47.05107314040279",
         "26.795227764627906",
         "1260.7442213672593"
        ],
        [
         "33",
         "184.64380339294826",
         "43.915287109191304",
         "28.141678972882502",
         "1235.8499118288269"
        ],
        [
         "34",
         "169.0933795800427",
         "40.60569259570138",
         "23.529333350034456",
         "955.4248769932836"
        ],
        [
         "35",
         "169.12838513249892",
         "41.38699930633985",
         "24.54899188482635",
         "1016.0091101086508"
        ],
        [
         "36",
         "183.18850468638496",
         "44.63234268835956",
         "27.995744012392997",
         "1249.5156405767145"
        ],
        [
         "37",
         "168.75957915940597",
         "39.94030171817047",
         "21.388632252839628",
         "854.2684255174069"
        ],
        [
         "38",
         "184.04995097127664",
         "47.02649945386204",
         "26.77389112781642",
         "1259.0823765000205"
        ],
        [
         "39",
         "180.21668302029562",
         "46.35921277666305",
         "29.507634236713574",
         "1367.950694115752"
        ],
        [
         "40",
         "170.38314494477493",
         "41.44417521753557",
         "25.515973027537566",
         "1057.4884569991784"
        ],
        [
         "41",
         "182.76325935375462",
         "44.513417986130044",
         "28.763391242136066",
         "1280.356857059795"
        ],
        [
         "42",
         "168.60513954700687",
         "39.408812486686074",
         "23.69395491939374",
         "933.750626486381"
        ],
        [
         "43",
         "184.89791768902413",
         "48.45650540020624",
         "28.495975278984844",
         "1380.8153799902725"
        ],
        [
         "44",
         "168.8835061084121",
         "40.47587325711943",
         "22.618475139975665",
         "915.5025330349617"
        ],
        [
         "45",
         "182.92401377883354",
         "47.32538922456514",
         "32.358165484060386",
         "1531.362776126047"
        ],
        [
         "46",
         "181.97883523280154",
         "48.413088999832986",
         "26.758797082801088",
         "1295.4760246981205"
        ],
        [
         "47",
         "169.0036753268571",
         "40.18477702115761",
         "25.450611389381386",
         "1022.7271437344252"
        ],
        [
         "48",
         "181.13162531423535",
         "46.28552036345366",
         "28.58954254271992",
         "1323.2818535428873"
        ],
        [
         "49",
         "181.7346268157248",
         "46.5963219636824",
         "28.928418345332144",
         "1347.957895119193"
        ]
       ],
       "shape": {
        "columns": 4,
        "rows": 1000
       }
      },
      "text/html": [
       "<div>\n",
       "<style scoped>\n",
       "    .dataframe tbody tr th:only-of-type {\n",
       "        vertical-align: middle;\n",
       "    }\n",
       "\n",
       "    .dataframe tbody tr th {\n",
       "        vertical-align: top;\n",
       "    }\n",
       "\n",
       "    .dataframe thead th {\n",
       "        text-align: right;\n",
       "    }\n",
       "</style>\n",
       "<table border=\"1\" class=\"dataframe\">\n",
       "  <thead>\n",
       "    <tr style=\"text-align: right;\">\n",
       "      <th></th>\n",
       "      <th>Altura</th>\n",
       "      <th>Ancho</th>\n",
       "      <th>Pie</th>\n",
       "      <th>AnchoPie</th>\n",
       "    </tr>\n",
       "  </thead>\n",
       "  <tbody>\n",
       "    <tr>\n",
       "      <th>0</th>\n",
       "      <td>184.000479</td>\n",
       "      <td>46.418806</td>\n",
       "      <td>28.767991</td>\n",
       "      <td>1335.375796</td>\n",
       "    </tr>\n",
       "    <tr>\n",
       "      <th>1</th>\n",
       "      <td>169.418906</td>\n",
       "      <td>39.552122</td>\n",
       "      <td>23.976066</td>\n",
       "      <td>948.304302</td>\n",
       "    </tr>\n",
       "    <tr>\n",
       "      <th>2</th>\n",
       "      <td>185.132450</td>\n",
       "      <td>44.689362</td>\n",
       "      <td>27.781475</td>\n",
       "      <td>1241.536372</td>\n",
       "    </tr>\n",
       "    <tr>\n",
       "      <th>3</th>\n",
       "      <td>167.985439</td>\n",
       "      <td>38.672607</td>\n",
       "      <td>23.065873</td>\n",
       "      <td>892.017447</td>\n",
       "    </tr>\n",
       "    <tr>\n",
       "      <th>4</th>\n",
       "      <td>184.157185</td>\n",
       "      <td>45.544155</td>\n",
       "      <td>27.995372</td>\n",
       "      <td>1275.025540</td>\n",
       "    </tr>\n",
       "    <tr>\n",
       "      <th>...</th>\n",
       "      <td>...</td>\n",
       "      <td>...</td>\n",
       "      <td>...</td>\n",
       "      <td>...</td>\n",
       "    </tr>\n",
       "    <tr>\n",
       "      <th>995</th>\n",
       "      <td>170.378129</td>\n",
       "      <td>40.681024</td>\n",
       "      <td>22.167892</td>\n",
       "      <td>901.812538</td>\n",
       "    </tr>\n",
       "    <tr>\n",
       "      <th>996</th>\n",
       "      <td>182.609851</td>\n",
       "      <td>46.993925</td>\n",
       "      <td>27.413982</td>\n",
       "      <td>1288.290612</td>\n",
       "    </tr>\n",
       "    <tr>\n",
       "      <th>997</th>\n",
       "      <td>169.838334</td>\n",
       "      <td>40.093840</td>\n",
       "      <td>25.111106</td>\n",
       "      <td>1006.800645</td>\n",
       "    </tr>\n",
       "    <tr>\n",
       "      <th>998</th>\n",
       "      <td>184.781156</td>\n",
       "      <td>45.679698</td>\n",
       "      <td>27.918893</td>\n",
       "      <td>1275.326600</td>\n",
       "    </tr>\n",
       "    <tr>\n",
       "      <th>999</th>\n",
       "      <td>183.740750</td>\n",
       "      <td>46.525688</td>\n",
       "      <td>27.970863</td>\n",
       "      <td>1301.363634</td>\n",
       "    </tr>\n",
       "  </tbody>\n",
       "</table>\n",
       "<p>1000 rows × 4 columns</p>\n",
       "</div>"
      ],
      "text/plain": [
       "         Altura      Ancho        Pie     AnchoPie\n",
       "0    184.000479  46.418806  28.767991  1335.375796\n",
       "1    169.418906  39.552122  23.976066   948.304302\n",
       "2    185.132450  44.689362  27.781475  1241.536372\n",
       "3    167.985439  38.672607  23.065873   892.017447\n",
       "4    184.157185  45.544155  27.995372  1275.025540\n",
       "..          ...        ...        ...          ...\n",
       "995  170.378129  40.681024  22.167892   901.812538\n",
       "996  182.609851  46.993925  27.413982  1288.290612\n",
       "997  169.838334  40.093840  25.111106  1006.800645\n",
       "998  184.781156  45.679698  27.918893  1275.326600\n",
       "999  183.740750  46.525688  27.970863  1301.363634\n",
       "\n",
       "[1000 rows x 4 columns]"
      ]
     },
     "execution_count": 182,
     "metadata": {},
     "output_type": "execute_result"
    }
   ],
   "source": [
    "df_pb_3 = df_pb.copy()\n",
    "df_pb_3['AnchoPie'] = df_pb_3['Pie'] * df_pb_3['Ancho']\n",
    "df_pb_3"
   ]
  },
  {
   "cell_type": "code",
   "execution_count": 183,
   "metadata": {},
   "outputs": [
    {
     "data": {
      "text/html": [
       "<style>#sk-container-id-18 {\n",
       "  /* Definition of color scheme common for light and dark mode */\n",
       "  --sklearn-color-text: #000;\n",
       "  --sklearn-color-text-muted: #666;\n",
       "  --sklearn-color-line: gray;\n",
       "  /* Definition of color scheme for unfitted estimators */\n",
       "  --sklearn-color-unfitted-level-0: #fff5e6;\n",
       "  --sklearn-color-unfitted-level-1: #f6e4d2;\n",
       "  --sklearn-color-unfitted-level-2: #ffe0b3;\n",
       "  --sklearn-color-unfitted-level-3: chocolate;\n",
       "  /* Definition of color scheme for fitted estimators */\n",
       "  --sklearn-color-fitted-level-0: #f0f8ff;\n",
       "  --sklearn-color-fitted-level-1: #d4ebff;\n",
       "  --sklearn-color-fitted-level-2: #b3dbfd;\n",
       "  --sklearn-color-fitted-level-3: cornflowerblue;\n",
       "\n",
       "  /* Specific color for light theme */\n",
       "  --sklearn-color-text-on-default-background: var(--sg-text-color, var(--theme-code-foreground, var(--jp-content-font-color1, black)));\n",
       "  --sklearn-color-background: var(--sg-background-color, var(--theme-background, var(--jp-layout-color0, white)));\n",
       "  --sklearn-color-border-box: var(--sg-text-color, var(--theme-code-foreground, var(--jp-content-font-color1, black)));\n",
       "  --sklearn-color-icon: #696969;\n",
       "\n",
       "  @media (prefers-color-scheme: dark) {\n",
       "    /* Redefinition of color scheme for dark theme */\n",
       "    --sklearn-color-text-on-default-background: var(--sg-text-color, var(--theme-code-foreground, var(--jp-content-font-color1, white)));\n",
       "    --sklearn-color-background: var(--sg-background-color, var(--theme-background, var(--jp-layout-color0, #111)));\n",
       "    --sklearn-color-border-box: var(--sg-text-color, var(--theme-code-foreground, var(--jp-content-font-color1, white)));\n",
       "    --sklearn-color-icon: #878787;\n",
       "  }\n",
       "}\n",
       "\n",
       "#sk-container-id-18 {\n",
       "  color: var(--sklearn-color-text);\n",
       "}\n",
       "\n",
       "#sk-container-id-18 pre {\n",
       "  padding: 0;\n",
       "}\n",
       "\n",
       "#sk-container-id-18 input.sk-hidden--visually {\n",
       "  border: 0;\n",
       "  clip: rect(1px 1px 1px 1px);\n",
       "  clip: rect(1px, 1px, 1px, 1px);\n",
       "  height: 1px;\n",
       "  margin: -1px;\n",
       "  overflow: hidden;\n",
       "  padding: 0;\n",
       "  position: absolute;\n",
       "  width: 1px;\n",
       "}\n",
       "\n",
       "#sk-container-id-18 div.sk-dashed-wrapped {\n",
       "  border: 1px dashed var(--sklearn-color-line);\n",
       "  margin: 0 0.4em 0.5em 0.4em;\n",
       "  box-sizing: border-box;\n",
       "  padding-bottom: 0.4em;\n",
       "  background-color: var(--sklearn-color-background);\n",
       "}\n",
       "\n",
       "#sk-container-id-18 div.sk-container {\n",
       "  /* jupyter's `normalize.less` sets `[hidden] { display: none; }`\n",
       "     but bootstrap.min.css set `[hidden] { display: none !important; }`\n",
       "     so we also need the `!important` here to be able to override the\n",
       "     default hidden behavior on the sphinx rendered scikit-learn.org.\n",
       "     See: https://github.com/scikit-learn/scikit-learn/issues/21755 */\n",
       "  display: inline-block !important;\n",
       "  position: relative;\n",
       "}\n",
       "\n",
       "#sk-container-id-18 div.sk-text-repr-fallback {\n",
       "  display: none;\n",
       "}\n",
       "\n",
       "div.sk-parallel-item,\n",
       "div.sk-serial,\n",
       "div.sk-item {\n",
       "  /* draw centered vertical line to link estimators */\n",
       "  background-image: linear-gradient(var(--sklearn-color-text-on-default-background), var(--sklearn-color-text-on-default-background));\n",
       "  background-size: 2px 100%;\n",
       "  background-repeat: no-repeat;\n",
       "  background-position: center center;\n",
       "}\n",
       "\n",
       "/* Parallel-specific style estimator block */\n",
       "\n",
       "#sk-container-id-18 div.sk-parallel-item::after {\n",
       "  content: \"\";\n",
       "  width: 100%;\n",
       "  border-bottom: 2px solid var(--sklearn-color-text-on-default-background);\n",
       "  flex-grow: 1;\n",
       "}\n",
       "\n",
       "#sk-container-id-18 div.sk-parallel {\n",
       "  display: flex;\n",
       "  align-items: stretch;\n",
       "  justify-content: center;\n",
       "  background-color: var(--sklearn-color-background);\n",
       "  position: relative;\n",
       "}\n",
       "\n",
       "#sk-container-id-18 div.sk-parallel-item {\n",
       "  display: flex;\n",
       "  flex-direction: column;\n",
       "}\n",
       "\n",
       "#sk-container-id-18 div.sk-parallel-item:first-child::after {\n",
       "  align-self: flex-end;\n",
       "  width: 50%;\n",
       "}\n",
       "\n",
       "#sk-container-id-18 div.sk-parallel-item:last-child::after {\n",
       "  align-self: flex-start;\n",
       "  width: 50%;\n",
       "}\n",
       "\n",
       "#sk-container-id-18 div.sk-parallel-item:only-child::after {\n",
       "  width: 0;\n",
       "}\n",
       "\n",
       "/* Serial-specific style estimator block */\n",
       "\n",
       "#sk-container-id-18 div.sk-serial {\n",
       "  display: flex;\n",
       "  flex-direction: column;\n",
       "  align-items: center;\n",
       "  background-color: var(--sklearn-color-background);\n",
       "  padding-right: 1em;\n",
       "  padding-left: 1em;\n",
       "}\n",
       "\n",
       "\n",
       "/* Toggleable style: style used for estimator/Pipeline/ColumnTransformer box that is\n",
       "clickable and can be expanded/collapsed.\n",
       "- Pipeline and ColumnTransformer use this feature and define the default style\n",
       "- Estimators will overwrite some part of the style using the `sk-estimator` class\n",
       "*/\n",
       "\n",
       "/* Pipeline and ColumnTransformer style (default) */\n",
       "\n",
       "#sk-container-id-18 div.sk-toggleable {\n",
       "  /* Default theme specific background. It is overwritten whether we have a\n",
       "  specific estimator or a Pipeline/ColumnTransformer */\n",
       "  background-color: var(--sklearn-color-background);\n",
       "}\n",
       "\n",
       "/* Toggleable label */\n",
       "#sk-container-id-18 label.sk-toggleable__label {\n",
       "  cursor: pointer;\n",
       "  display: flex;\n",
       "  width: 100%;\n",
       "  margin-bottom: 0;\n",
       "  padding: 0.5em;\n",
       "  box-sizing: border-box;\n",
       "  text-align: center;\n",
       "  align-items: start;\n",
       "  justify-content: space-between;\n",
       "  gap: 0.5em;\n",
       "}\n",
       "\n",
       "#sk-container-id-18 label.sk-toggleable__label .caption {\n",
       "  font-size: 0.6rem;\n",
       "  font-weight: lighter;\n",
       "  color: var(--sklearn-color-text-muted);\n",
       "}\n",
       "\n",
       "#sk-container-id-18 label.sk-toggleable__label-arrow:before {\n",
       "  /* Arrow on the left of the label */\n",
       "  content: \"▸\";\n",
       "  float: left;\n",
       "  margin-right: 0.25em;\n",
       "  color: var(--sklearn-color-icon);\n",
       "}\n",
       "\n",
       "#sk-container-id-18 label.sk-toggleable__label-arrow:hover:before {\n",
       "  color: var(--sklearn-color-text);\n",
       "}\n",
       "\n",
       "/* Toggleable content - dropdown */\n",
       "\n",
       "#sk-container-id-18 div.sk-toggleable__content {\n",
       "  max-height: 0;\n",
       "  max-width: 0;\n",
       "  overflow: hidden;\n",
       "  text-align: left;\n",
       "  /* unfitted */\n",
       "  background-color: var(--sklearn-color-unfitted-level-0);\n",
       "}\n",
       "\n",
       "#sk-container-id-18 div.sk-toggleable__content.fitted {\n",
       "  /* fitted */\n",
       "  background-color: var(--sklearn-color-fitted-level-0);\n",
       "}\n",
       "\n",
       "#sk-container-id-18 div.sk-toggleable__content pre {\n",
       "  margin: 0.2em;\n",
       "  border-radius: 0.25em;\n",
       "  color: var(--sklearn-color-text);\n",
       "  /* unfitted */\n",
       "  background-color: var(--sklearn-color-unfitted-level-0);\n",
       "}\n",
       "\n",
       "#sk-container-id-18 div.sk-toggleable__content.fitted pre {\n",
       "  /* unfitted */\n",
       "  background-color: var(--sklearn-color-fitted-level-0);\n",
       "}\n",
       "\n",
       "#sk-container-id-18 input.sk-toggleable__control:checked~div.sk-toggleable__content {\n",
       "  /* Expand drop-down */\n",
       "  max-height: 200px;\n",
       "  max-width: 100%;\n",
       "  overflow: auto;\n",
       "}\n",
       "\n",
       "#sk-container-id-18 input.sk-toggleable__control:checked~label.sk-toggleable__label-arrow:before {\n",
       "  content: \"▾\";\n",
       "}\n",
       "\n",
       "/* Pipeline/ColumnTransformer-specific style */\n",
       "\n",
       "#sk-container-id-18 div.sk-label input.sk-toggleable__control:checked~label.sk-toggleable__label {\n",
       "  color: var(--sklearn-color-text);\n",
       "  background-color: var(--sklearn-color-unfitted-level-2);\n",
       "}\n",
       "\n",
       "#sk-container-id-18 div.sk-label.fitted input.sk-toggleable__control:checked~label.sk-toggleable__label {\n",
       "  background-color: var(--sklearn-color-fitted-level-2);\n",
       "}\n",
       "\n",
       "/* Estimator-specific style */\n",
       "\n",
       "/* Colorize estimator box */\n",
       "#sk-container-id-18 div.sk-estimator input.sk-toggleable__control:checked~label.sk-toggleable__label {\n",
       "  /* unfitted */\n",
       "  background-color: var(--sklearn-color-unfitted-level-2);\n",
       "}\n",
       "\n",
       "#sk-container-id-18 div.sk-estimator.fitted input.sk-toggleable__control:checked~label.sk-toggleable__label {\n",
       "  /* fitted */\n",
       "  background-color: var(--sklearn-color-fitted-level-2);\n",
       "}\n",
       "\n",
       "#sk-container-id-18 div.sk-label label.sk-toggleable__label,\n",
       "#sk-container-id-18 div.sk-label label {\n",
       "  /* The background is the default theme color */\n",
       "  color: var(--sklearn-color-text-on-default-background);\n",
       "}\n",
       "\n",
       "/* On hover, darken the color of the background */\n",
       "#sk-container-id-18 div.sk-label:hover label.sk-toggleable__label {\n",
       "  color: var(--sklearn-color-text);\n",
       "  background-color: var(--sklearn-color-unfitted-level-2);\n",
       "}\n",
       "\n",
       "/* Label box, darken color on hover, fitted */\n",
       "#sk-container-id-18 div.sk-label.fitted:hover label.sk-toggleable__label.fitted {\n",
       "  color: var(--sklearn-color-text);\n",
       "  background-color: var(--sklearn-color-fitted-level-2);\n",
       "}\n",
       "\n",
       "/* Estimator label */\n",
       "\n",
       "#sk-container-id-18 div.sk-label label {\n",
       "  font-family: monospace;\n",
       "  font-weight: bold;\n",
       "  display: inline-block;\n",
       "  line-height: 1.2em;\n",
       "}\n",
       "\n",
       "#sk-container-id-18 div.sk-label-container {\n",
       "  text-align: center;\n",
       "}\n",
       "\n",
       "/* Estimator-specific */\n",
       "#sk-container-id-18 div.sk-estimator {\n",
       "  font-family: monospace;\n",
       "  border: 1px dotted var(--sklearn-color-border-box);\n",
       "  border-radius: 0.25em;\n",
       "  box-sizing: border-box;\n",
       "  margin-bottom: 0.5em;\n",
       "  /* unfitted */\n",
       "  background-color: var(--sklearn-color-unfitted-level-0);\n",
       "}\n",
       "\n",
       "#sk-container-id-18 div.sk-estimator.fitted {\n",
       "  /* fitted */\n",
       "  background-color: var(--sklearn-color-fitted-level-0);\n",
       "}\n",
       "\n",
       "/* on hover */\n",
       "#sk-container-id-18 div.sk-estimator:hover {\n",
       "  /* unfitted */\n",
       "  background-color: var(--sklearn-color-unfitted-level-2);\n",
       "}\n",
       "\n",
       "#sk-container-id-18 div.sk-estimator.fitted:hover {\n",
       "  /* fitted */\n",
       "  background-color: var(--sklearn-color-fitted-level-2);\n",
       "}\n",
       "\n",
       "/* Specification for estimator info (e.g. \"i\" and \"?\") */\n",
       "\n",
       "/* Common style for \"i\" and \"?\" */\n",
       "\n",
       ".sk-estimator-doc-link,\n",
       "a:link.sk-estimator-doc-link,\n",
       "a:visited.sk-estimator-doc-link {\n",
       "  float: right;\n",
       "  font-size: smaller;\n",
       "  line-height: 1em;\n",
       "  font-family: monospace;\n",
       "  background-color: var(--sklearn-color-background);\n",
       "  border-radius: 1em;\n",
       "  height: 1em;\n",
       "  width: 1em;\n",
       "  text-decoration: none !important;\n",
       "  margin-left: 0.5em;\n",
       "  text-align: center;\n",
       "  /* unfitted */\n",
       "  border: var(--sklearn-color-unfitted-level-1) 1pt solid;\n",
       "  color: var(--sklearn-color-unfitted-level-1);\n",
       "}\n",
       "\n",
       ".sk-estimator-doc-link.fitted,\n",
       "a:link.sk-estimator-doc-link.fitted,\n",
       "a:visited.sk-estimator-doc-link.fitted {\n",
       "  /* fitted */\n",
       "  border: var(--sklearn-color-fitted-level-1) 1pt solid;\n",
       "  color: var(--sklearn-color-fitted-level-1);\n",
       "}\n",
       "\n",
       "/* On hover */\n",
       "div.sk-estimator:hover .sk-estimator-doc-link:hover,\n",
       ".sk-estimator-doc-link:hover,\n",
       "div.sk-label-container:hover .sk-estimator-doc-link:hover,\n",
       ".sk-estimator-doc-link:hover {\n",
       "  /* unfitted */\n",
       "  background-color: var(--sklearn-color-unfitted-level-3);\n",
       "  color: var(--sklearn-color-background);\n",
       "  text-decoration: none;\n",
       "}\n",
       "\n",
       "div.sk-estimator.fitted:hover .sk-estimator-doc-link.fitted:hover,\n",
       ".sk-estimator-doc-link.fitted:hover,\n",
       "div.sk-label-container:hover .sk-estimator-doc-link.fitted:hover,\n",
       ".sk-estimator-doc-link.fitted:hover {\n",
       "  /* fitted */\n",
       "  background-color: var(--sklearn-color-fitted-level-3);\n",
       "  color: var(--sklearn-color-background);\n",
       "  text-decoration: none;\n",
       "}\n",
       "\n",
       "/* Span, style for the box shown on hovering the info icon */\n",
       ".sk-estimator-doc-link span {\n",
       "  display: none;\n",
       "  z-index: 9999;\n",
       "  position: relative;\n",
       "  font-weight: normal;\n",
       "  right: .2ex;\n",
       "  padding: .5ex;\n",
       "  margin: .5ex;\n",
       "  width: min-content;\n",
       "  min-width: 20ex;\n",
       "  max-width: 50ex;\n",
       "  color: var(--sklearn-color-text);\n",
       "  box-shadow: 2pt 2pt 4pt #999;\n",
       "  /* unfitted */\n",
       "  background: var(--sklearn-color-unfitted-level-0);\n",
       "  border: .5pt solid var(--sklearn-color-unfitted-level-3);\n",
       "}\n",
       "\n",
       ".sk-estimator-doc-link.fitted span {\n",
       "  /* fitted */\n",
       "  background: var(--sklearn-color-fitted-level-0);\n",
       "  border: var(--sklearn-color-fitted-level-3);\n",
       "}\n",
       "\n",
       ".sk-estimator-doc-link:hover span {\n",
       "  display: block;\n",
       "}\n",
       "\n",
       "/* \"?\"-specific style due to the `<a>` HTML tag */\n",
       "\n",
       "#sk-container-id-18 a.estimator_doc_link {\n",
       "  float: right;\n",
       "  font-size: 1rem;\n",
       "  line-height: 1em;\n",
       "  font-family: monospace;\n",
       "  background-color: var(--sklearn-color-background);\n",
       "  border-radius: 1rem;\n",
       "  height: 1rem;\n",
       "  width: 1rem;\n",
       "  text-decoration: none;\n",
       "  /* unfitted */\n",
       "  color: var(--sklearn-color-unfitted-level-1);\n",
       "  border: var(--sklearn-color-unfitted-level-1) 1pt solid;\n",
       "}\n",
       "\n",
       "#sk-container-id-18 a.estimator_doc_link.fitted {\n",
       "  /* fitted */\n",
       "  border: var(--sklearn-color-fitted-level-1) 1pt solid;\n",
       "  color: var(--sklearn-color-fitted-level-1);\n",
       "}\n",
       "\n",
       "/* On hover */\n",
       "#sk-container-id-18 a.estimator_doc_link:hover {\n",
       "  /* unfitted */\n",
       "  background-color: var(--sklearn-color-unfitted-level-3);\n",
       "  color: var(--sklearn-color-background);\n",
       "  text-decoration: none;\n",
       "}\n",
       "\n",
       "#sk-container-id-18 a.estimator_doc_link.fitted:hover {\n",
       "  /* fitted */\n",
       "  background-color: var(--sklearn-color-fitted-level-3);\n",
       "}\n",
       "</style><div id=\"sk-container-id-18\" class=\"sk-top-container\"><div class=\"sk-text-repr-fallback\"><pre>LinearRegression()</pre><b>In a Jupyter environment, please rerun this cell to show the HTML representation or trust the notebook. <br />On GitHub, the HTML representation is unable to render, please try loading this page with nbviewer.org.</b></div><div class=\"sk-container\" hidden><div class=\"sk-item\"><div class=\"sk-estimator fitted sk-toggleable\"><input class=\"sk-toggleable__control sk-hidden--visually\" id=\"sk-estimator-id-31\" type=\"checkbox\" checked><label for=\"sk-estimator-id-31\" class=\"sk-toggleable__label fitted sk-toggleable__label-arrow\"><div><div>LinearRegression</div></div><div><a class=\"sk-estimator-doc-link fitted\" rel=\"noreferrer\" target=\"_blank\" href=\"https://scikit-learn.org/1.6/modules/generated/sklearn.linear_model.LinearRegression.html\">?<span>Documentation for LinearRegression</span></a><span class=\"sk-estimator-doc-link fitted\">i<span>Fitted</span></span></div></label><div class=\"sk-toggleable__content fitted\"><pre>LinearRegression()</pre></div> </div></div></div></div>"
      ],
      "text/plain": [
       "LinearRegression()"
      ]
     },
     "execution_count": 183,
     "metadata": {},
     "output_type": "execute_result"
    }
   ],
   "source": [
    "x_pb_3 = df_pb_3[['AnchoPie']]\n",
    "y_pb_3 = df_pb_3[['Altura']]\n",
    "x_train_pb_3, X_test_pb_3, Y_train_pb_3, Y_test_pb_3 = train_test_split(x_pb_3, y_pb_3, test_size=0.2, random_state=42)\n",
    "model_pb_3 = LinearRegression()\n",
    "model_pb_3.fit(x_train_pb_3, Y_train_pb_3)"
   ]
  },
  {
   "cell_type": "code",
   "execution_count": 184,
   "metadata": {},
   "outputs": [
    {
     "name": "stdout",
     "output_type": "stream",
     "text": [
      "Modelo AnchoPie, Países Bajos. R2 Score: 0.8459. RMSE: 2.5890\n"
     ]
    }
   ],
   "source": [
    "y_pred_pb_3 = model_pb_3.predict(X_test_pb_3)\n",
    "r2_pb_3 = r2_score(Y_test_pb_3, y_pred_pb_3)\n",
    "rmse_pb_3 = np.sqrt(mean_squared_error(Y_test_pb_3, y_pred_pb_3))\n",
    "print(f'Modelo AnchoPie, Países Bajos. R2 Score: {r2_pb_3:.4f}. RMSE: {rmse_pb_3:.4f}')"
   ]
  },
  {
   "cell_type": "markdown",
   "metadata": {},
   "source": [
    "# Países Bajos - Modelos"
   ]
  },
  {
   "cell_type": "code",
   "execution_count": 185,
   "metadata": {},
   "outputs": [
    {
     "name": "stdout",
     "output_type": "stream",
     "text": [
      "Modelo 1. Países Bajos. R2 Score: 0.8578909107587853. RMSE: 2.4865622268627283\n"
     ]
    }
   ],
   "source": [
    "# Correcciones\n",
    "\n",
    "# 1 - LinearRegression\n",
    "model.fit(X_train_pb, Y_train_pb)\n",
    "y_pred_1 = model.predict(X_test_pb)\n",
    "r2_pb_1 = r2_score(Y_test_pb, y_pred_1)\n",
    "rmse_pb_1 = np.sqrt(mean_squared_error(Y_test_pb, y_pred_1))\n",
    "print(f'Modelo 1. Países Bajos. R2 Score: {r2_pb_1}. RMSE: {rmse_pb_1}')"
   ]
  },
  {
   "cell_type": "code",
   "execution_count": 207,
   "metadata": {},
   "outputs": [
    {
     "data": {
      "application/vnd.plotly.v1+json": {
       "config": {
        "plotlyServerURL": "https://plot.ly"
       },
       "data": [
        {
         "marker": {
          "color": "orange"
         },
         "mode": "markers",
         "name": "Linear Regression",
         "type": "scatter",
         "x": {
          "bdata": "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",
          "dtype": "f8"
         },
         "y": {
          "bdata": "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",
          "dtype": "f8"
         }
        },
        {
         "line": {
          "color": "red",
          "dash": "dash"
         },
         "mode": "lines",
         "name": "Línea Ideal",
         "type": "scatter",
         "x": {
          "bdata": "uQCtAK8AnwA=",
          "dtype": "i2"
         },
         "y": {
          "bdata": "uQCtAK8AnwA=",
          "dtype": "i2"
         }
        }
       ],
       "layout": {
        "height": 500,
        "template": {
         "data": {
          "bar": [
           {
            "error_x": {
             "color": "#2a3f5f"
            },
            "error_y": {
             "color": "#2a3f5f"
            },
            "marker": {
             "line": {
              "color": "#E5ECF6",
              "width": 0.5
             },
             "pattern": {
              "fillmode": "overlay",
              "size": 10,
              "solidity": 0.2
             }
            },
            "type": "bar"
           }
          ],
          "barpolar": [
           {
            "marker": {
             "line": {
              "color": "#E5ECF6",
              "width": 0.5
             },
             "pattern": {
              "fillmode": "overlay",
              "size": 10,
              "solidity": 0.2
             }
            },
            "type": "barpolar"
           }
          ],
          "carpet": [
           {
            "aaxis": {
             "endlinecolor": "#2a3f5f",
             "gridcolor": "white",
             "linecolor": "white",
             "minorgridcolor": "white",
             "startlinecolor": "#2a3f5f"
            },
            "baxis": {
             "endlinecolor": "#2a3f5f",
             "gridcolor": "white",
             "linecolor": "white",
             "minorgridcolor": "white",
             "startlinecolor": "#2a3f5f"
            },
            "type": "carpet"
           }
          ],
          "choropleth": [
           {
            "colorbar": {
             "outlinewidth": 0,
             "ticks": ""
            },
            "type": "choropleth"
           }
          ],
          "contour": [
           {
            "colorbar": {
             "outlinewidth": 0,
             "ticks": ""
            },
            "colorscale": [
             [
              0,
              "#0d0887"
             ],
             [
              0.1111111111111111,
              "#46039f"
             ],
             [
              0.2222222222222222,
              "#7201a8"
             ],
             [
              0.3333333333333333,
              "#9c179e"
             ],
             [
              0.4444444444444444,
              "#bd3786"
             ],
             [
              0.5555555555555556,
              "#d8576b"
             ],
             [
              0.6666666666666666,
              "#ed7953"
             ],
             [
              0.7777777777777778,
              "#fb9f3a"
             ],
             [
              0.8888888888888888,
              "#fdca26"
             ],
             [
              1,
              "#f0f921"
             ]
            ],
            "type": "contour"
           }
          ],
          "contourcarpet": [
           {
            "colorbar": {
             "outlinewidth": 0,
             "ticks": ""
            },
            "type": "contourcarpet"
           }
          ],
          "heatmap": [
           {
            "colorbar": {
             "outlinewidth": 0,
             "ticks": ""
            },
            "colorscale": [
             [
              0,
              "#0d0887"
             ],
             [
              0.1111111111111111,
              "#46039f"
             ],
             [
              0.2222222222222222,
              "#7201a8"
             ],
             [
              0.3333333333333333,
              "#9c179e"
             ],
             [
              0.4444444444444444,
              "#bd3786"
             ],
             [
              0.5555555555555556,
              "#d8576b"
             ],
             [
              0.6666666666666666,
              "#ed7953"
             ],
             [
              0.7777777777777778,
              "#fb9f3a"
             ],
             [
              0.8888888888888888,
              "#fdca26"
             ],
             [
              1,
              "#f0f921"
             ]
            ],
            "type": "heatmap"
           }
          ],
          "histogram": [
           {
            "marker": {
             "pattern": {
              "fillmode": "overlay",
              "size": 10,
              "solidity": 0.2
             }
            },
            "type": "histogram"
           }
          ],
          "histogram2d": [
           {
            "colorbar": {
             "outlinewidth": 0,
             "ticks": ""
            },
            "colorscale": [
             [
              0,
              "#0d0887"
             ],
             [
              0.1111111111111111,
              "#46039f"
             ],
             [
              0.2222222222222222,
              "#7201a8"
             ],
             [
              0.3333333333333333,
              "#9c179e"
             ],
             [
              0.4444444444444444,
              "#bd3786"
             ],
             [
              0.5555555555555556,
              "#d8576b"
             ],
             [
              0.6666666666666666,
              "#ed7953"
             ],
             [
              0.7777777777777778,
              "#fb9f3a"
             ],
             [
              0.8888888888888888,
              "#fdca26"
             ],
             [
              1,
              "#f0f921"
             ]
            ],
            "type": "histogram2d"
           }
          ],
          "histogram2dcontour": [
           {
            "colorbar": {
             "outlinewidth": 0,
             "ticks": ""
            },
            "colorscale": [
             [
              0,
              "#0d0887"
             ],
             [
              0.1111111111111111,
              "#46039f"
             ],
             [
              0.2222222222222222,
              "#7201a8"
             ],
             [
              0.3333333333333333,
              "#9c179e"
             ],
             [
              0.4444444444444444,
              "#bd3786"
             ],
             [
              0.5555555555555556,
              "#d8576b"
             ],
             [
              0.6666666666666666,
              "#ed7953"
             ],
             [
              0.7777777777777778,
              "#fb9f3a"
             ],
             [
              0.8888888888888888,
              "#fdca26"
             ],
             [
              1,
              "#f0f921"
             ]
            ],
            "type": "histogram2dcontour"
           }
          ],
          "mesh3d": [
           {
            "colorbar": {
             "outlinewidth": 0,
             "ticks": ""
            },
            "type": "mesh3d"
           }
          ],
          "parcoords": [
           {
            "line": {
             "colorbar": {
              "outlinewidth": 0,
              "ticks": ""
             }
            },
            "type": "parcoords"
           }
          ],
          "pie": [
           {
            "automargin": true,
            "type": "pie"
           }
          ],
          "scatter": [
           {
            "fillpattern": {
             "fillmode": "overlay",
             "size": 10,
             "solidity": 0.2
            },
            "type": "scatter"
           }
          ],
          "scatter3d": [
           {
            "line": {
             "colorbar": {
              "outlinewidth": 0,
              "ticks": ""
             }
            },
            "marker": {
             "colorbar": {
              "outlinewidth": 0,
              "ticks": ""
             }
            },
            "type": "scatter3d"
           }
          ],
          "scattercarpet": [
           {
            "marker": {
             "colorbar": {
              "outlinewidth": 0,
              "ticks": ""
             }
            },
            "type": "scattercarpet"
           }
          ],
          "scattergeo": [
           {
            "marker": {
             "colorbar": {
              "outlinewidth": 0,
              "ticks": ""
             }
            },
            "type": "scattergeo"
           }
          ],
          "scattergl": [
           {
            "marker": {
             "colorbar": {
              "outlinewidth": 0,
              "ticks": ""
             }
            },
            "type": "scattergl"
           }
          ],
          "scattermap": [
           {
            "marker": {
             "colorbar": {
              "outlinewidth": 0,
              "ticks": ""
             }
            },
            "type": "scattermap"
           }
          ],
          "scattermapbox": [
           {
            "marker": {
             "colorbar": {
              "outlinewidth": 0,
              "ticks": ""
             }
            },
            "type": "scattermapbox"
           }
          ],
          "scatterpolar": [
           {
            "marker": {
             "colorbar": {
              "outlinewidth": 0,
              "ticks": ""
             }
            },
            "type": "scatterpolar"
           }
          ],
          "scatterpolargl": [
           {
            "marker": {
             "colorbar": {
              "outlinewidth": 0,
              "ticks": ""
             }
            },
            "type": "scatterpolargl"
           }
          ],
          "scatterternary": [
           {
            "marker": {
             "colorbar": {
              "outlinewidth": 0,
              "ticks": ""
             }
            },
            "type": "scatterternary"
           }
          ],
          "surface": [
           {
            "colorbar": {
             "outlinewidth": 0,
             "ticks": ""
            },
            "colorscale": [
             [
              0,
              "#0d0887"
             ],
             [
              0.1111111111111111,
              "#46039f"
             ],
             [
              0.2222222222222222,
              "#7201a8"
             ],
             [
              0.3333333333333333,
              "#9c179e"
             ],
             [
              0.4444444444444444,
              "#bd3786"
             ],
             [
              0.5555555555555556,
              "#d8576b"
             ],
             [
              0.6666666666666666,
              "#ed7953"
             ],
             [
              0.7777777777777778,
              "#fb9f3a"
             ],
             [
              0.8888888888888888,
              "#fdca26"
             ],
             [
              1,
              "#f0f921"
             ]
            ],
            "type": "surface"
           }
          ],
          "table": [
           {
            "cells": {
             "fill": {
              "color": "#EBF0F8"
             },
             "line": {
              "color": "white"
             }
            },
            "header": {
             "fill": {
              "color": "#C8D4E3"
             },
             "line": {
              "color": "white"
             }
            },
            "type": "table"
           }
          ]
         },
         "layout": {
          "annotationdefaults": {
           "arrowcolor": "#2a3f5f",
           "arrowhead": 0,
           "arrowwidth": 1
          },
          "autotypenumbers": "strict",
          "coloraxis": {
           "colorbar": {
            "outlinewidth": 0,
            "ticks": ""
           }
          },
          "colorscale": {
           "diverging": [
            [
             0,
             "#8e0152"
            ],
            [
             0.1,
             "#c51b7d"
            ],
            [
             0.2,
             "#de77ae"
            ],
            [
             0.3,
             "#f1b6da"
            ],
            [
             0.4,
             "#fde0ef"
            ],
            [
             0.5,
             "#f7f7f7"
            ],
            [
             0.6,
             "#e6f5d0"
            ],
            [
             0.7,
             "#b8e186"
            ],
            [
             0.8,
             "#7fbc41"
            ],
            [
             0.9,
             "#4d9221"
            ],
            [
             1,
             "#276419"
            ]
           ],
           "sequential": [
            [
             0,
             "#0d0887"
            ],
            [
             0.1111111111111111,
             "#46039f"
            ],
            [
             0.2222222222222222,
             "#7201a8"
            ],
            [
             0.3333333333333333,
             "#9c179e"
            ],
            [
             0.4444444444444444,
             "#bd3786"
            ],
            [
             0.5555555555555556,
             "#d8576b"
            ],
            [
             0.6666666666666666,
             "#ed7953"
            ],
            [
             0.7777777777777778,
             "#fb9f3a"
            ],
            [
             0.8888888888888888,
             "#fdca26"
            ],
            [
             1,
             "#f0f921"
            ]
           ],
           "sequentialminus": [
            [
             0,
             "#0d0887"
            ],
            [
             0.1111111111111111,
             "#46039f"
            ],
            [
             0.2222222222222222,
             "#7201a8"
            ],
            [
             0.3333333333333333,
             "#9c179e"
            ],
            [
             0.4444444444444444,
             "#bd3786"
            ],
            [
             0.5555555555555556,
             "#d8576b"
            ],
            [
             0.6666666666666666,
             "#ed7953"
            ],
            [
             0.7777777777777778,
             "#fb9f3a"
            ],
            [
             0.8888888888888888,
             "#fdca26"
            ],
            [
             1,
             "#f0f921"
            ]
           ]
          },
          "colorway": [
           "#636efa",
           "#EF553B",
           "#00cc96",
           "#ab63fa",
           "#FFA15A",
           "#19d3f3",
           "#FF6692",
           "#B6E880",
           "#FF97FF",
           "#FECB52"
          ],
          "font": {
           "color": "#2a3f5f"
          },
          "geo": {
           "bgcolor": "white",
           "lakecolor": "white",
           "landcolor": "#E5ECF6",
           "showlakes": true,
           "showland": true,
           "subunitcolor": "white"
          },
          "hoverlabel": {
           "align": "left"
          },
          "hovermode": "closest",
          "mapbox": {
           "style": "light"
          },
          "paper_bgcolor": "white",
          "plot_bgcolor": "#E5ECF6",
          "polar": {
           "angularaxis": {
            "gridcolor": "white",
            "linecolor": "white",
            "ticks": ""
           },
           "bgcolor": "#E5ECF6",
           "radialaxis": {
            "gridcolor": "white",
            "linecolor": "white",
            "ticks": ""
           }
          },
          "scene": {
           "xaxis": {
            "backgroundcolor": "#E5ECF6",
            "gridcolor": "white",
            "gridwidth": 2,
            "linecolor": "white",
            "showbackground": true,
            "ticks": "",
            "zerolinecolor": "white"
           },
           "yaxis": {
            "backgroundcolor": "#E5ECF6",
            "gridcolor": "white",
            "gridwidth": 2,
            "linecolor": "white",
            "showbackground": true,
            "ticks": "",
            "zerolinecolor": "white"
           },
           "zaxis": {
            "backgroundcolor": "#E5ECF6",
            "gridcolor": "white",
            "gridwidth": 2,
            "linecolor": "white",
            "showbackground": true,
            "ticks": "",
            "zerolinecolor": "white"
           }
          },
          "shapedefaults": {
           "line": {
            "color": "#2a3f5f"
           }
          },
          "ternary": {
           "aaxis": {
            "gridcolor": "white",
            "linecolor": "white",
            "ticks": ""
           },
           "baxis": {
            "gridcolor": "white",
            "linecolor": "white",
            "ticks": ""
           },
           "bgcolor": "#E5ECF6",
           "caxis": {
            "gridcolor": "white",
            "linecolor": "white",
            "ticks": ""
           }
          },
          "title": {
           "x": 0.05
          },
          "xaxis": {
           "automargin": true,
           "gridcolor": "white",
           "linecolor": "white",
           "ticks": "",
           "title": {
            "standoff": 15
           },
           "zerolinecolor": "white",
           "zerolinewidth": 2
          },
          "yaxis": {
           "automargin": true,
           "gridcolor": "white",
           "linecolor": "white",
           "ticks": "",
           "title": {
            "standoff": 15
           },
           "zerolinecolor": "white",
           "zerolinewidth": 2
          }
         }
        },
        "title": {
         "text": "LinearRegression"
        },
        "width": 700,
        "xaxis": {
         "title": {
          "text": "Altura Real"
         }
        },
        "yaxis": {
         "title": {
          "text": "Altura Predicha"
         }
        }
       }
      }
     },
     "metadata": {},
     "output_type": "display_data"
    }
   ],
   "source": [
    "fig_elastic = go.Figure()\n",
    "\n",
    "fig_elastic.add_trace(go.Scatter(\n",
    "    x=Y_test_pb, \n",
    "    y=y_pred_1,\n",
    "    mode='markers',\n",
    "    name='Linear Regression',\n",
    "    marker=dict(color='orange')\n",
    "))\n",
    "\n",
    "fig_elastic.add_trace(go.Scatter(\n",
    "    x=y_test,\n",
    "    y=y_test,\n",
    "    mode='lines',\n",
    "    name='Línea Ideal',\n",
    "    line=dict(color='red', dash='dash')\n",
    "))\n",
    "\n",
    "fig_elastic.update_layout(\n",
    "    title='LinearRegression',\n",
    "    xaxis_title='Altura Real',\n",
    "    yaxis_title='Altura Predicha',\n",
    "    width=700,\n",
    "    height=500\n",
    ")\n",
    "\n",
    "fig_elastic.show()"
   ]
  },
  {
   "cell_type": "code",
   "execution_count": 186,
   "metadata": {},
   "outputs": [
    {
     "name": "stdout",
     "output_type": "stream",
     "text": [
      "Modelo 2, Bajo. Países Bajos. R2 Score: 0.8578909107587857. RMSE: 2.486562226862725\n"
     ]
    }
   ],
   "source": [
    "# 2 - Bajo\n",
    "model_bajo.fit(X_train_pb, Y_train_pb)\n",
    "y_pred_2_1 = model_bajo.predict(X_test_pb)\n",
    "r2_pb_2_1 = r2_score(Y_test_pb, y_pred_2_1)\n",
    "rmse_pb_2_1 = np.sqrt(mean_squared_error(Y_test_pb, y_pred_2_1))\n",
    "print(f'Modelo 2, Bajo. Países Bajos. R2 Score: {r2_pb_2_1}. RMSE: {rmse_pb_2_1}') "
   ]
  },
  {
   "cell_type": "code",
   "execution_count": 206,
   "metadata": {},
   "outputs": [
    {
     "data": {
      "application/vnd.plotly.v1+json": {
       "config": {
        "plotlyServerURL": "https://plot.ly"
       },
       "data": [
        {
         "marker": {
          "color": "orange"
         },
         "mode": "markers",
         "name": "Modelo Bajo",
         "type": "scatter",
         "x": {
          "bdata": "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",
          "dtype": "f8"
         },
         "y": {
          "bdata": "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",
          "dtype": "f8"
         }
        },
        {
         "line": {
          "color": "red",
          "dash": "dash"
         },
         "mode": "lines",
         "name": "Línea Ideal",
         "type": "scatter",
         "x": {
          "bdata": "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",
          "dtype": "f8"
         },
         "y": {
          "bdata": "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",
          "dtype": "f8"
         }
        }
       ],
       "layout": {
        "height": 500,
        "template": {
         "data": {
          "bar": [
           {
            "error_x": {
             "color": "#2a3f5f"
            },
            "error_y": {
             "color": "#2a3f5f"
            },
            "marker": {
             "line": {
              "color": "#E5ECF6",
              "width": 0.5
             },
             "pattern": {
              "fillmode": "overlay",
              "size": 10,
              "solidity": 0.2
             }
            },
            "type": "bar"
           }
          ],
          "barpolar": [
           {
            "marker": {
             "line": {
              "color": "#E5ECF6",
              "width": 0.5
             },
             "pattern": {
              "fillmode": "overlay",
              "size": 10,
              "solidity": 0.2
             }
            },
            "type": "barpolar"
           }
          ],
          "carpet": [
           {
            "aaxis": {
             "endlinecolor": "#2a3f5f",
             "gridcolor": "white",
             "linecolor": "white",
             "minorgridcolor": "white",
             "startlinecolor": "#2a3f5f"
            },
            "baxis": {
             "endlinecolor": "#2a3f5f",
             "gridcolor": "white",
             "linecolor": "white",
             "minorgridcolor": "white",
             "startlinecolor": "#2a3f5f"
            },
            "type": "carpet"
           }
          ],
          "choropleth": [
           {
            "colorbar": {
             "outlinewidth": 0,
             "ticks": ""
            },
            "type": "choropleth"
           }
          ],
          "contour": [
           {
            "colorbar": {
             "outlinewidth": 0,
             "ticks": ""
            },
            "colorscale": [
             [
              0,
              "#0d0887"
             ],
             [
              0.1111111111111111,
              "#46039f"
             ],
             [
              0.2222222222222222,
              "#7201a8"
             ],
             [
              0.3333333333333333,
              "#9c179e"
             ],
             [
              0.4444444444444444,
              "#bd3786"
             ],
             [
              0.5555555555555556,
              "#d8576b"
             ],
             [
              0.6666666666666666,
              "#ed7953"
             ],
             [
              0.7777777777777778,
              "#fb9f3a"
             ],
             [
              0.8888888888888888,
              "#fdca26"
             ],
             [
              1,
              "#f0f921"
             ]
            ],
            "type": "contour"
           }
          ],
          "contourcarpet": [
           {
            "colorbar": {
             "outlinewidth": 0,
             "ticks": ""
            },
            "type": "contourcarpet"
           }
          ],
          "heatmap": [
           {
            "colorbar": {
             "outlinewidth": 0,
             "ticks": ""
            },
            "colorscale": [
             [
              0,
              "#0d0887"
             ],
             [
              0.1111111111111111,
              "#46039f"
             ],
             [
              0.2222222222222222,
              "#7201a8"
             ],
             [
              0.3333333333333333,
              "#9c179e"
             ],
             [
              0.4444444444444444,
              "#bd3786"
             ],
             [
              0.5555555555555556,
              "#d8576b"
             ],
             [
              0.6666666666666666,
              "#ed7953"
             ],
             [
              0.7777777777777778,
              "#fb9f3a"
             ],
             [
              0.8888888888888888,
              "#fdca26"
             ],
             [
              1,
              "#f0f921"
             ]
            ],
            "type": "heatmap"
           }
          ],
          "histogram": [
           {
            "marker": {
             "pattern": {
              "fillmode": "overlay",
              "size": 10,
              "solidity": 0.2
             }
            },
            "type": "histogram"
           }
          ],
          "histogram2d": [
           {
            "colorbar": {
             "outlinewidth": 0,
             "ticks": ""
            },
            "colorscale": [
             [
              0,
              "#0d0887"
             ],
             [
              0.1111111111111111,
              "#46039f"
             ],
             [
              0.2222222222222222,
              "#7201a8"
             ],
             [
              0.3333333333333333,
              "#9c179e"
             ],
             [
              0.4444444444444444,
              "#bd3786"
             ],
             [
              0.5555555555555556,
              "#d8576b"
             ],
             [
              0.6666666666666666,
              "#ed7953"
             ],
             [
              0.7777777777777778,
              "#fb9f3a"
             ],
             [
              0.8888888888888888,
              "#fdca26"
             ],
             [
              1,
              "#f0f921"
             ]
            ],
            "type": "histogram2d"
           }
          ],
          "histogram2dcontour": [
           {
            "colorbar": {
             "outlinewidth": 0,
             "ticks": ""
            },
            "colorscale": [
             [
              0,
              "#0d0887"
             ],
             [
              0.1111111111111111,
              "#46039f"
             ],
             [
              0.2222222222222222,
              "#7201a8"
             ],
             [
              0.3333333333333333,
              "#9c179e"
             ],
             [
              0.4444444444444444,
              "#bd3786"
             ],
             [
              0.5555555555555556,
              "#d8576b"
             ],
             [
              0.6666666666666666,
              "#ed7953"
             ],
             [
              0.7777777777777778,
              "#fb9f3a"
             ],
             [
              0.8888888888888888,
              "#fdca26"
             ],
             [
              1,
              "#f0f921"
             ]
            ],
            "type": "histogram2dcontour"
           }
          ],
          "mesh3d": [
           {
            "colorbar": {
             "outlinewidth": 0,
             "ticks": ""
            },
            "type": "mesh3d"
           }
          ],
          "parcoords": [
           {
            "line": {
             "colorbar": {
              "outlinewidth": 0,
              "ticks": ""
             }
            },
            "type": "parcoords"
           }
          ],
          "pie": [
           {
            "automargin": true,
            "type": "pie"
           }
          ],
          "scatter": [
           {
            "fillpattern": {
             "fillmode": "overlay",
             "size": 10,
             "solidity": 0.2
            },
            "type": "scatter"
           }
          ],
          "scatter3d": [
           {
            "line": {
             "colorbar": {
              "outlinewidth": 0,
              "ticks": ""
             }
            },
            "marker": {
             "colorbar": {
              "outlinewidth": 0,
              "ticks": ""
             }
            },
            "type": "scatter3d"
           }
          ],
          "scattercarpet": [
           {
            "marker": {
             "colorbar": {
              "outlinewidth": 0,
              "ticks": ""
             }
            },
            "type": "scattercarpet"
           }
          ],
          "scattergeo": [
           {
            "marker": {
             "colorbar": {
              "outlinewidth": 0,
              "ticks": ""
             }
            },
            "type": "scattergeo"
           }
          ],
          "scattergl": [
           {
            "marker": {
             "colorbar": {
              "outlinewidth": 0,
              "ticks": ""
             }
            },
            "type": "scattergl"
           }
          ],
          "scattermap": [
           {
            "marker": {
             "colorbar": {
              "outlinewidth": 0,
              "ticks": ""
             }
            },
            "type": "scattermap"
           }
          ],
          "scattermapbox": [
           {
            "marker": {
             "colorbar": {
              "outlinewidth": 0,
              "ticks": ""
             }
            },
            "type": "scattermapbox"
           }
          ],
          "scatterpolar": [
           {
            "marker": {
             "colorbar": {
              "outlinewidth": 0,
              "ticks": ""
             }
            },
            "type": "scatterpolar"
           }
          ],
          "scatterpolargl": [
           {
            "marker": {
             "colorbar": {
              "outlinewidth": 0,
              "ticks": ""
             }
            },
            "type": "scatterpolargl"
           }
          ],
          "scatterternary": [
           {
            "marker": {
             "colorbar": {
              "outlinewidth": 0,
              "ticks": ""
             }
            },
            "type": "scatterternary"
           }
          ],
          "surface": [
           {
            "colorbar": {
             "outlinewidth": 0,
             "ticks": ""
            },
            "colorscale": [
             [
              0,
              "#0d0887"
             ],
             [
              0.1111111111111111,
              "#46039f"
             ],
             [
              0.2222222222222222,
              "#7201a8"
             ],
             [
              0.3333333333333333,
              "#9c179e"
             ],
             [
              0.4444444444444444,
              "#bd3786"
             ],
             [
              0.5555555555555556,
              "#d8576b"
             ],
             [
              0.6666666666666666,
              "#ed7953"
             ],
             [
              0.7777777777777778,
              "#fb9f3a"
             ],
             [
              0.8888888888888888,
              "#fdca26"
             ],
             [
              1,
              "#f0f921"
             ]
            ],
            "type": "surface"
           }
          ],
          "table": [
           {
            "cells": {
             "fill": {
              "color": "#EBF0F8"
             },
             "line": {
              "color": "white"
             }
            },
            "header": {
             "fill": {
              "color": "#C8D4E3"
             },
             "line": {
              "color": "white"
             }
            },
            "type": "table"
           }
          ]
         },
         "layout": {
          "annotationdefaults": {
           "arrowcolor": "#2a3f5f",
           "arrowhead": 0,
           "arrowwidth": 1
          },
          "autotypenumbers": "strict",
          "coloraxis": {
           "colorbar": {
            "outlinewidth": 0,
            "ticks": ""
           }
          },
          "colorscale": {
           "diverging": [
            [
             0,
             "#8e0152"
            ],
            [
             0.1,
             "#c51b7d"
            ],
            [
             0.2,
             "#de77ae"
            ],
            [
             0.3,
             "#f1b6da"
            ],
            [
             0.4,
             "#fde0ef"
            ],
            [
             0.5,
             "#f7f7f7"
            ],
            [
             0.6,
             "#e6f5d0"
            ],
            [
             0.7,
             "#b8e186"
            ],
            [
             0.8,
             "#7fbc41"
            ],
            [
             0.9,
             "#4d9221"
            ],
            [
             1,
             "#276419"
            ]
           ],
           "sequential": [
            [
             0,
             "#0d0887"
            ],
            [
             0.1111111111111111,
             "#46039f"
            ],
            [
             0.2222222222222222,
             "#7201a8"
            ],
            [
             0.3333333333333333,
             "#9c179e"
            ],
            [
             0.4444444444444444,
             "#bd3786"
            ],
            [
             0.5555555555555556,
             "#d8576b"
            ],
            [
             0.6666666666666666,
             "#ed7953"
            ],
            [
             0.7777777777777778,
             "#fb9f3a"
            ],
            [
             0.8888888888888888,
             "#fdca26"
            ],
            [
             1,
             "#f0f921"
            ]
           ],
           "sequentialminus": [
            [
             0,
             "#0d0887"
            ],
            [
             0.1111111111111111,
             "#46039f"
            ],
            [
             0.2222222222222222,
             "#7201a8"
            ],
            [
             0.3333333333333333,
             "#9c179e"
            ],
            [
             0.4444444444444444,
             "#bd3786"
            ],
            [
             0.5555555555555556,
             "#d8576b"
            ],
            [
             0.6666666666666666,
             "#ed7953"
            ],
            [
             0.7777777777777778,
             "#fb9f3a"
            ],
            [
             0.8888888888888888,
             "#fdca26"
            ],
            [
             1,
             "#f0f921"
            ]
           ]
          },
          "colorway": [
           "#636efa",
           "#EF553B",
           "#00cc96",
           "#ab63fa",
           "#FFA15A",
           "#19d3f3",
           "#FF6692",
           "#B6E880",
           "#FF97FF",
           "#FECB52"
          ],
          "font": {
           "color": "#2a3f5f"
          },
          "geo": {
           "bgcolor": "white",
           "lakecolor": "white",
           "landcolor": "#E5ECF6",
           "showlakes": true,
           "showland": true,
           "subunitcolor": "white"
          },
          "hoverlabel": {
           "align": "left"
          },
          "hovermode": "closest",
          "mapbox": {
           "style": "light"
          },
          "paper_bgcolor": "white",
          "plot_bgcolor": "#E5ECF6",
          "polar": {
           "angularaxis": {
            "gridcolor": "white",
            "linecolor": "white",
            "ticks": ""
           },
           "bgcolor": "#E5ECF6",
           "radialaxis": {
            "gridcolor": "white",
            "linecolor": "white",
            "ticks": ""
           }
          },
          "scene": {
           "xaxis": {
            "backgroundcolor": "#E5ECF6",
            "gridcolor": "white",
            "gridwidth": 2,
            "linecolor": "white",
            "showbackground": true,
            "ticks": "",
            "zerolinecolor": "white"
           },
           "yaxis": {
            "backgroundcolor": "#E5ECF6",
            "gridcolor": "white",
            "gridwidth": 2,
            "linecolor": "white",
            "showbackground": true,
            "ticks": "",
            "zerolinecolor": "white"
           },
           "zaxis": {
            "backgroundcolor": "#E5ECF6",
            "gridcolor": "white",
            "gridwidth": 2,
            "linecolor": "white",
            "showbackground": true,
            "ticks": "",
            "zerolinecolor": "white"
           }
          },
          "shapedefaults": {
           "line": {
            "color": "#2a3f5f"
           }
          },
          "ternary": {
           "aaxis": {
            "gridcolor": "white",
            "linecolor": "white",
            "ticks": ""
           },
           "baxis": {
            "gridcolor": "white",
            "linecolor": "white",
            "ticks": ""
           },
           "bgcolor": "#E5ECF6",
           "caxis": {
            "gridcolor": "white",
            "linecolor": "white",
            "ticks": ""
           }
          },
          "title": {
           "x": 0.05
          },
          "xaxis": {
           "automargin": true,
           "gridcolor": "white",
           "linecolor": "white",
           "ticks": "",
           "title": {
            "standoff": 15
           },
           "zerolinecolor": "white",
           "zerolinewidth": 2
          },
          "yaxis": {
           "automargin": true,
           "gridcolor": "white",
           "linecolor": "white",
           "ticks": "",
           "title": {
            "standoff": 15
           },
           "zerolinecolor": "white",
           "zerolinewidth": 2
          }
         }
        },
        "title": {
         "text": "Modelo Bajo"
        },
        "width": 700,
        "xaxis": {
         "title": {
          "text": "Altura Real"
         }
        },
        "yaxis": {
         "title": {
          "text": "Altura Predicha"
         }
        }
       }
      }
     },
     "metadata": {},
     "output_type": "display_data"
    }
   ],
   "source": [
    "fig_elastic = go.Figure()\n",
    "\n",
    "fig_elastic.add_trace(go.Scatter(\n",
    "    x=Y_test_pb, \n",
    "    y=y_pred_2_1,\n",
    "    mode='markers',\n",
    "    name='Modelo Bajo',\n",
    "    marker=dict(color='orange')\n",
    "))\n",
    "\n",
    "fig_elastic.add_trace(go.Scatter(\n",
    "    x=Y_test_pb,\n",
    "    y=Y_test_pb,\n",
    "    mode='lines',\n",
    "    name='Línea Ideal',\n",
    "    line=dict(color='red', dash='dash')\n",
    "))\n",
    "\n",
    "fig_elastic.update_layout(\n",
    "    title='Modelo Bajo',\n",
    "    xaxis_title='Altura Real',\n",
    "    yaxis_title='Altura Predicha',\n",
    "    width=700,\n",
    "    height=500\n",
    ")\n",
    "\n",
    "fig_elastic.show()"
   ]
  },
  {
   "cell_type": "code",
   "execution_count": 187,
   "metadata": {},
   "outputs": [
    {
     "name": "stdout",
     "output_type": "stream",
     "text": [
      "Modelo 2, Alto. Países Bajos. R2 Score: 0.8578909107587857. RMSE: 2.486562226862725\n"
     ]
    }
   ],
   "source": [
    "# 2 - Alto\n",
    "model_alto.fit(X_train_pb, Y_train_pb)\n",
    "y_pred_2_2 = model_alto.predict(X_test_pb)\n",
    "r2_pb_2_2 = r2_score(Y_test_pb, y_pred_2_2)\n",
    "rmse_pb_2_2 = np.sqrt(mean_squared_error(Y_test_pb, y_pred_2_2))\n",
    "print(f'Modelo 2, Alto. Países Bajos. R2 Score: {r2_pb_2_2}. RMSE: {rmse_pb_2_2}')\n",
    "\n"
   ]
  },
  {
   "cell_type": "code",
   "execution_count": 204,
   "metadata": {},
   "outputs": [
    {
     "data": {
      "application/vnd.plotly.v1+json": {
       "config": {
        "plotlyServerURL": "https://plot.ly"
       },
       "data": [
        {
         "marker": {
          "color": "orange"
         },
         "mode": "markers",
         "name": "Modelo Alto",
         "type": "scatter",
         "x": {
          "bdata": "8FtXrGnwZkA1B6iL7jVlQC4CinGjz2ZA9nJvsYXzZkD1Ov+esJtlQBLByziOf2VA1EIIhyJmZUDbbmfqredmQIiCyHQoUGVANzhhqu5bZUDd7mhVWptlQIxF2yq/sWZAAM+wIzVHZUAjzdlu+RJlQPjLaHStS2VARpZBqpMYZUCBshCHav1mQLK6DVe+M2VAxNohLN5pZUDARra6bFhlQGmhUPrO+2ZA4eOv+br6ZkCa6O5Fs+tmQK3TvtqdLmdAuxHF1wPGZkAxNwrEYuRmQGBqsOg1WmVAvrhOSvQYZUANBSL9QxZlQDB+oHFzQmVAgIJljhIuZUCnkZBueDRlQCz/5UMQFmdAmBYy9DNEZUDr+zzXMRtlQAX2E8rl5WZAiod1La4aZUDAOg+ewBVlQFJNl2mF2mZAycHg3kZdZUCCxLoMoydlQGzs10hX62ZAnTTZL1RbZUC072meFupmQKkc5NLwMmVAZ79+berGZkCRkpLWkQFnQNCRhyt90WZAjChoQcpWZUCcs/CSplVlQEC/a8PvKGdAo2mSoYabZkBxl6fCnTdlQKdSepBbH2VAMwa431NxZUDOYR/ePSdlQJeNF5rLVmVA9zg+WVs6ZUBBBtwasMJmQMB4yWq+7GZAobxU047TZkA08xVDPR9lQCM6JeZY6mZADB6AAFTTZkDXpgb76HplQMwCuQGyymZAHwERf8ifZkBpTqDpSLhmQBqGXV5lIGVAcBcZdnLpZkB+ivCngmFlQLTjgS+T2GRAFOdHlsvYZkD7gCyQU2NlQO6OrzH5vWZA1KrU6xfTZkDRDgqWkGRlQJW4OhHvhmZACqp38msXZUA5rTdOiPBmQOMd1u6aM2VAlR3u691RZUBodmkPy/NmQM9hwritXGVAroAg5U1GZUDSqPA8G1ZlQFhayTr/GGdASx/4CyYaZ0DybBLyMCJlQPI7xLuZZWVAegfxZeEgZUCZCs7qK2VlQIxtVBmqAmdAEbIJIjTUZkBq58jiE91mQNvGTfFt0WZA5exl/A8ZZ0DQQ5l34f9mQFcOH8VS12ZA7LdGSNYtZUBK433m2SllQKtDo8zSB2dAN72gbTVKZUDi/XzsUPFmQCQ/zE6382ZAOo9SjtH6ZkCosfF3jHVlQAOpIMrD7GZAQyT2dELLZkCz/8Alwv1mQEl8xpOR8GZAmGns6p3nZkDXUlXVAYtmQHssx2O+GWVAY6FjOQNmZUA1EJQwYwhnQI//0mJCzmZAt0KXXb7vZkDiRVSzfGFlQGnlpeps7GRARspcFUcqZUCYZ+SuM1ZlQD8+QExBxmZAGsqG+wRjZUA2L6V/07VmQDb46pMrNGdAsT/eL3DAZkCEp1CjG09lQAxq0mB892ZAyvzMZcdSZUB6dEitHuVmQK5zmNMA9WZALkf87ho/ZUCcxFyhGUxlQBiGw/ElPmVAA5jazBXfZkBwV3SVsnllQOBf6BT4CWdAh7j3ZtdfZUAR72A14ENlQEcumq5FHGVAAWvlTqxgZUCmZ9sRzCpnQKM1rB06umZADTnFUwkpZUB5eduEjFFnQIrk5GOdp2ZAIB54GNjZZkAWX+7Qtm1lQLaSPgjLsWZAAghf6s9QZUDiTbhmwvBkQIUzEwGKNWVAarY27n7JZkDGYESho/1mQGIAoE/dsGZAoMUwwqI3Z0C1L4AGan9mQGxYPWAn4WZATucIhFe7ZkDRGpIyDeNmQGnt3zaaCGdAmk9adcVTZUB0t9XeONVmQED9TBq/GWVAhxwvHNIIZ0CrtyhP2UhlQB3CbO42U2VAp3caCJ41ZUC06RmhRzRlQGnBPF31NGVAr8+S0lrEZkDBteNxGz9lQNekttOHymZA4hPXjdTiZkD3s+PCdf9kQAuyRaYdLGVANuP1WEIGZ0B+qHO2PjJlQO+RTFTLPmVAv8jX9G6YZUD0Q9Vxf9tmQGvhYwhhc2VAnLvZKs5TZUDv37EUE5ZmQIw9amwmmmZAQjQAbR/WZkDqBr53cgZnQFP/GxE6iGZAUeNLZCYcZ0B3rUawlMNmQGtHBToa9GZARAdKCTtfZUDMgMxmVh9nQJqu7Jm3H2dASGAX1sEAZ0CGu5DfbQhnQK/9ICmtvWZA1qkXupjAZkDWc+gkDEllQA==",
          "dtype": "f8"
         },
         "y": {
          "bdata": "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",
          "dtype": "f8"
         }
        },
        {
         "line": {
          "color": "red",
          "dash": "dash"
         },
         "mode": "lines",
         "name": "Línea Ideal",
         "type": "scatter",
         "x": {
          "bdata": "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",
          "dtype": "f8"
         },
         "y": {
          "bdata": "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",
          "dtype": "f8"
         }
        }
       ],
       "layout": {
        "height": 500,
        "template": {
         "data": {
          "bar": [
           {
            "error_x": {
             "color": "#2a3f5f"
            },
            "error_y": {
             "color": "#2a3f5f"
            },
            "marker": {
             "line": {
              "color": "#E5ECF6",
              "width": 0.5
             },
             "pattern": {
              "fillmode": "overlay",
              "size": 10,
              "solidity": 0.2
             }
            },
            "type": "bar"
           }
          ],
          "barpolar": [
           {
            "marker": {
             "line": {
              "color": "#E5ECF6",
              "width": 0.5
             },
             "pattern": {
              "fillmode": "overlay",
              "size": 10,
              "solidity": 0.2
             }
            },
            "type": "barpolar"
           }
          ],
          "carpet": [
           {
            "aaxis": {
             "endlinecolor": "#2a3f5f",
             "gridcolor": "white",
             "linecolor": "white",
             "minorgridcolor": "white",
             "startlinecolor": "#2a3f5f"
            },
            "baxis": {
             "endlinecolor": "#2a3f5f",
             "gridcolor": "white",
             "linecolor": "white",
             "minorgridcolor": "white",
             "startlinecolor": "#2a3f5f"
            },
            "type": "carpet"
           }
          ],
          "choropleth": [
           {
            "colorbar": {
             "outlinewidth": 0,
             "ticks": ""
            },
            "type": "choropleth"
           }
          ],
          "contour": [
           {
            "colorbar": {
             "outlinewidth": 0,
             "ticks": ""
            },
            "colorscale": [
             [
              0,
              "#0d0887"
             ],
             [
              0.1111111111111111,
              "#46039f"
             ],
             [
              0.2222222222222222,
              "#7201a8"
             ],
             [
              0.3333333333333333,
              "#9c179e"
             ],
             [
              0.4444444444444444,
              "#bd3786"
             ],
             [
              0.5555555555555556,
              "#d8576b"
             ],
             [
              0.6666666666666666,
              "#ed7953"
             ],
             [
              0.7777777777777778,
              "#fb9f3a"
             ],
             [
              0.8888888888888888,
              "#fdca26"
             ],
             [
              1,
              "#f0f921"
             ]
            ],
            "type": "contour"
           }
          ],
          "contourcarpet": [
           {
            "colorbar": {
             "outlinewidth": 0,
             "ticks": ""
            },
            "type": "contourcarpet"
           }
          ],
          "heatmap": [
           {
            "colorbar": {
             "outlinewidth": 0,
             "ticks": ""
            },
            "colorscale": [
             [
              0,
              "#0d0887"
             ],
             [
              0.1111111111111111,
              "#46039f"
             ],
             [
              0.2222222222222222,
              "#7201a8"
             ],
             [
              0.3333333333333333,
              "#9c179e"
             ],
             [
              0.4444444444444444,
              "#bd3786"
             ],
             [
              0.5555555555555556,
              "#d8576b"
             ],
             [
              0.6666666666666666,
              "#ed7953"
             ],
             [
              0.7777777777777778,
              "#fb9f3a"
             ],
             [
              0.8888888888888888,
              "#fdca26"
             ],
             [
              1,
              "#f0f921"
             ]
            ],
            "type": "heatmap"
           }
          ],
          "histogram": [
           {
            "marker": {
             "pattern": {
              "fillmode": "overlay",
              "size": 10,
              "solidity": 0.2
             }
            },
            "type": "histogram"
           }
          ],
          "histogram2d": [
           {
            "colorbar": {
             "outlinewidth": 0,
             "ticks": ""
            },
            "colorscale": [
             [
              0,
              "#0d0887"
             ],
             [
              0.1111111111111111,
              "#46039f"
             ],
             [
              0.2222222222222222,
              "#7201a8"
             ],
             [
              0.3333333333333333,
              "#9c179e"
             ],
             [
              0.4444444444444444,
              "#bd3786"
             ],
             [
              0.5555555555555556,
              "#d8576b"
             ],
             [
              0.6666666666666666,
              "#ed7953"
             ],
             [
              0.7777777777777778,
              "#fb9f3a"
             ],
             [
              0.8888888888888888,
              "#fdca26"
             ],
             [
              1,
              "#f0f921"
             ]
            ],
            "type": "histogram2d"
           }
          ],
          "histogram2dcontour": [
           {
            "colorbar": {
             "outlinewidth": 0,
             "ticks": ""
            },
            "colorscale": [
             [
              0,
              "#0d0887"
             ],
             [
              0.1111111111111111,
              "#46039f"
             ],
             [
              0.2222222222222222,
              "#7201a8"
             ],
             [
              0.3333333333333333,
              "#9c179e"
             ],
             [
              0.4444444444444444,
              "#bd3786"
             ],
             [
              0.5555555555555556,
              "#d8576b"
             ],
             [
              0.6666666666666666,
              "#ed7953"
             ],
             [
              0.7777777777777778,
              "#fb9f3a"
             ],
             [
              0.8888888888888888,
              "#fdca26"
             ],
             [
              1,
              "#f0f921"
             ]
            ],
            "type": "histogram2dcontour"
           }
          ],
          "mesh3d": [
           {
            "colorbar": {
             "outlinewidth": 0,
             "ticks": ""
            },
            "type": "mesh3d"
           }
          ],
          "parcoords": [
           {
            "line": {
             "colorbar": {
              "outlinewidth": 0,
              "ticks": ""
             }
            },
            "type": "parcoords"
           }
          ],
          "pie": [
           {
            "automargin": true,
            "type": "pie"
           }
          ],
          "scatter": [
           {
            "fillpattern": {
             "fillmode": "overlay",
             "size": 10,
             "solidity": 0.2
            },
            "type": "scatter"
           }
          ],
          "scatter3d": [
           {
            "line": {
             "colorbar": {
              "outlinewidth": 0,
              "ticks": ""
             }
            },
            "marker": {
             "colorbar": {
              "outlinewidth": 0,
              "ticks": ""
             }
            },
            "type": "scatter3d"
           }
          ],
          "scattercarpet": [
           {
            "marker": {
             "colorbar": {
              "outlinewidth": 0,
              "ticks": ""
             }
            },
            "type": "scattercarpet"
           }
          ],
          "scattergeo": [
           {
            "marker": {
             "colorbar": {
              "outlinewidth": 0,
              "ticks": ""
             }
            },
            "type": "scattergeo"
           }
          ],
          "scattergl": [
           {
            "marker": {
             "colorbar": {
              "outlinewidth": 0,
              "ticks": ""
             }
            },
            "type": "scattergl"
           }
          ],
          "scattermap": [
           {
            "marker": {
             "colorbar": {
              "outlinewidth": 0,
              "ticks": ""
             }
            },
            "type": "scattermap"
           }
          ],
          "scattermapbox": [
           {
            "marker": {
             "colorbar": {
              "outlinewidth": 0,
              "ticks": ""
             }
            },
            "type": "scattermapbox"
           }
          ],
          "scatterpolar": [
           {
            "marker": {
             "colorbar": {
              "outlinewidth": 0,
              "ticks": ""
             }
            },
            "type": "scatterpolar"
           }
          ],
          "scatterpolargl": [
           {
            "marker": {
             "colorbar": {
              "outlinewidth": 0,
              "ticks": ""
             }
            },
            "type": "scatterpolargl"
           }
          ],
          "scatterternary": [
           {
            "marker": {
             "colorbar": {
              "outlinewidth": 0,
              "ticks": ""
             }
            },
            "type": "scatterternary"
           }
          ],
          "surface": [
           {
            "colorbar": {
             "outlinewidth": 0,
             "ticks": ""
            },
            "colorscale": [
             [
              0,
              "#0d0887"
             ],
             [
              0.1111111111111111,
              "#46039f"
             ],
             [
              0.2222222222222222,
              "#7201a8"
             ],
             [
              0.3333333333333333,
              "#9c179e"
             ],
             [
              0.4444444444444444,
              "#bd3786"
             ],
             [
              0.5555555555555556,
              "#d8576b"
             ],
             [
              0.6666666666666666,
              "#ed7953"
             ],
             [
              0.7777777777777778,
              "#fb9f3a"
             ],
             [
              0.8888888888888888,
              "#fdca26"
             ],
             [
              1,
              "#f0f921"
             ]
            ],
            "type": "surface"
           }
          ],
          "table": [
           {
            "cells": {
             "fill": {
              "color": "#EBF0F8"
             },
             "line": {
              "color": "white"
             }
            },
            "header": {
             "fill": {
              "color": "#C8D4E3"
             },
             "line": {
              "color": "white"
             }
            },
            "type": "table"
           }
          ]
         },
         "layout": {
          "annotationdefaults": {
           "arrowcolor": "#2a3f5f",
           "arrowhead": 0,
           "arrowwidth": 1
          },
          "autotypenumbers": "strict",
          "coloraxis": {
           "colorbar": {
            "outlinewidth": 0,
            "ticks": ""
           }
          },
          "colorscale": {
           "diverging": [
            [
             0,
             "#8e0152"
            ],
            [
             0.1,
             "#c51b7d"
            ],
            [
             0.2,
             "#de77ae"
            ],
            [
             0.3,
             "#f1b6da"
            ],
            [
             0.4,
             "#fde0ef"
            ],
            [
             0.5,
             "#f7f7f7"
            ],
            [
             0.6,
             "#e6f5d0"
            ],
            [
             0.7,
             "#b8e186"
            ],
            [
             0.8,
             "#7fbc41"
            ],
            [
             0.9,
             "#4d9221"
            ],
            [
             1,
             "#276419"
            ]
           ],
           "sequential": [
            [
             0,
             "#0d0887"
            ],
            [
             0.1111111111111111,
             "#46039f"
            ],
            [
             0.2222222222222222,
             "#7201a8"
            ],
            [
             0.3333333333333333,
             "#9c179e"
            ],
            [
             0.4444444444444444,
             "#bd3786"
            ],
            [
             0.5555555555555556,
             "#d8576b"
            ],
            [
             0.6666666666666666,
             "#ed7953"
            ],
            [
             0.7777777777777778,
             "#fb9f3a"
            ],
            [
             0.8888888888888888,
             "#fdca26"
            ],
            [
             1,
             "#f0f921"
            ]
           ],
           "sequentialminus": [
            [
             0,
             "#0d0887"
            ],
            [
             0.1111111111111111,
             "#46039f"
            ],
            [
             0.2222222222222222,
             "#7201a8"
            ],
            [
             0.3333333333333333,
             "#9c179e"
            ],
            [
             0.4444444444444444,
             "#bd3786"
            ],
            [
             0.5555555555555556,
             "#d8576b"
            ],
            [
             0.6666666666666666,
             "#ed7953"
            ],
            [
             0.7777777777777778,
             "#fb9f3a"
            ],
            [
             0.8888888888888888,
             "#fdca26"
            ],
            [
             1,
             "#f0f921"
            ]
           ]
          },
          "colorway": [
           "#636efa",
           "#EF553B",
           "#00cc96",
           "#ab63fa",
           "#FFA15A",
           "#19d3f3",
           "#FF6692",
           "#B6E880",
           "#FF97FF",
           "#FECB52"
          ],
          "font": {
           "color": "#2a3f5f"
          },
          "geo": {
           "bgcolor": "white",
           "lakecolor": "white",
           "landcolor": "#E5ECF6",
           "showlakes": true,
           "showland": true,
           "subunitcolor": "white"
          },
          "hoverlabel": {
           "align": "left"
          },
          "hovermode": "closest",
          "mapbox": {
           "style": "light"
          },
          "paper_bgcolor": "white",
          "plot_bgcolor": "#E5ECF6",
          "polar": {
           "angularaxis": {
            "gridcolor": "white",
            "linecolor": "white",
            "ticks": ""
           },
           "bgcolor": "#E5ECF6",
           "radialaxis": {
            "gridcolor": "white",
            "linecolor": "white",
            "ticks": ""
           }
          },
          "scene": {
           "xaxis": {
            "backgroundcolor": "#E5ECF6",
            "gridcolor": "white",
            "gridwidth": 2,
            "linecolor": "white",
            "showbackground": true,
            "ticks": "",
            "zerolinecolor": "white"
           },
           "yaxis": {
            "backgroundcolor": "#E5ECF6",
            "gridcolor": "white",
            "gridwidth": 2,
            "linecolor": "white",
            "showbackground": true,
            "ticks": "",
            "zerolinecolor": "white"
           },
           "zaxis": {
            "backgroundcolor": "#E5ECF6",
            "gridcolor": "white",
            "gridwidth": 2,
            "linecolor": "white",
            "showbackground": true,
            "ticks": "",
            "zerolinecolor": "white"
           }
          },
          "shapedefaults": {
           "line": {
            "color": "#2a3f5f"
           }
          },
          "ternary": {
           "aaxis": {
            "gridcolor": "white",
            "linecolor": "white",
            "ticks": ""
           },
           "baxis": {
            "gridcolor": "white",
            "linecolor": "white",
            "ticks": ""
           },
           "bgcolor": "#E5ECF6",
           "caxis": {
            "gridcolor": "white",
            "linecolor": "white",
            "ticks": ""
           }
          },
          "title": {
           "x": 0.05
          },
          "xaxis": {
           "automargin": true,
           "gridcolor": "white",
           "linecolor": "white",
           "ticks": "",
           "title": {
            "standoff": 15
           },
           "zerolinecolor": "white",
           "zerolinewidth": 2
          },
          "yaxis": {
           "automargin": true,
           "gridcolor": "white",
           "linecolor": "white",
           "ticks": "",
           "title": {
            "standoff": 15
           },
           "zerolinecolor": "white",
           "zerolinewidth": 2
          }
         }
        },
        "title": {
         "text": "Modelo Alto"
        },
        "width": 700,
        "xaxis": {
         "title": {
          "text": "Altura Real"
         }
        },
        "yaxis": {
         "title": {
          "text": "Altura Predicha"
         }
        }
       }
      }
     },
     "metadata": {},
     "output_type": "display_data"
    }
   ],
   "source": [
    "fig_elastic = go.Figure()\n",
    "\n",
    "fig_elastic.add_trace(go.Scatter(\n",
    "    x=Y_test_pb, \n",
    "    y=y_pred_2_2,\n",
    "    mode='markers',\n",
    "    name='Modelo Alto',\n",
    "    marker=dict(color='orange')\n",
    "))\n",
    "\n",
    "fig_elastic.add_trace(go.Scatter(\n",
    "    x=Y_test_pb,\n",
    "    y=Y_test_pb,\n",
    "    mode='lines',\n",
    "    name='Línea Ideal',\n",
    "    line=dict(color='red', dash='dash')\n",
    "))\n",
    "\n",
    "fig_elastic.update_layout(\n",
    "    title='Modelo Alto',\n",
    "    xaxis_title='Altura Real',\n",
    "    yaxis_title='Altura Predicha',\n",
    "    width=700,\n",
    "    height=500\n",
    ")\n",
    "\n",
    "fig_elastic.show()"
   ]
  },
  {
   "cell_type": "code",
   "execution_count": 188,
   "metadata": {},
   "outputs": [
    {
     "name": "stdout",
     "output_type": "stream",
     "text": [
      "Modelo 3. Países Bajos. R2 Score: 0.8459358364432689. RMSE: 2.589042736081575\n"
     ]
    }
   ],
   "source": [
    "#3 - AnchoPie\n",
    "modelo_anchopie.fit(x_train_pb_3, Y_train_pb_3)\n",
    "y_pred_3 = modelo_anchopie.predict(X_test_pb_3)\n",
    "r2_pb_3 = r2_score(Y_test_pb_3, y_pred_3)\n",
    "rmse_pb_3 = np.sqrt(mean_squared_error(Y_test_pb_3, y_pred_3))\n",
    "print(f'Modelo 3. Países Bajos. R2 Score: {r2_pb_3}. RMSE: {rmse_pb_3}')"
   ]
  },
  {
   "cell_type": "code",
   "execution_count": 200,
   "metadata": {},
   "outputs": [
    {
     "data": {
      "application/vnd.plotly.v1+json": {
       "config": {
        "plotlyServerURL": "https://plot.ly"
       },
       "data": [
        {
         "marker": {
          "color": "orange"
         },
         "mode": "markers",
         "name": "AnchoPie",
         "type": "scatter",
         "x": {
          "bdata": "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",
          "dtype": "f8",
          "shape": "200, 1"
         },
         "y": {
          "bdata": "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",
          "dtype": "f8",
          "shape": "200, 1"
         }
        },
        {
         "line": {
          "color": "red",
          "dash": "dash"
         },
         "mode": "lines",
         "name": "Línea Ideal",
         "type": "scatter",
         "x": {
          "bdata": "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",
          "dtype": "f8"
         },
         "y": {
          "bdata": "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",
          "dtype": "f8"
         }
        }
       ],
       "layout": {
        "height": 500,
        "template": {
         "data": {
          "bar": [
           {
            "error_x": {
             "color": "#2a3f5f"
            },
            "error_y": {
             "color": "#2a3f5f"
            },
            "marker": {
             "line": {
              "color": "#E5ECF6",
              "width": 0.5
             },
             "pattern": {
              "fillmode": "overlay",
              "size": 10,
              "solidity": 0.2
             }
            },
            "type": "bar"
           }
          ],
          "barpolar": [
           {
            "marker": {
             "line": {
              "color": "#E5ECF6",
              "width": 0.5
             },
             "pattern": {
              "fillmode": "overlay",
              "size": 10,
              "solidity": 0.2
             }
            },
            "type": "barpolar"
           }
          ],
          "carpet": [
           {
            "aaxis": {
             "endlinecolor": "#2a3f5f",
             "gridcolor": "white",
             "linecolor": "white",
             "minorgridcolor": "white",
             "startlinecolor": "#2a3f5f"
            },
            "baxis": {
             "endlinecolor": "#2a3f5f",
             "gridcolor": "white",
             "linecolor": "white",
             "minorgridcolor": "white",
             "startlinecolor": "#2a3f5f"
            },
            "type": "carpet"
           }
          ],
          "choropleth": [
           {
            "colorbar": {
             "outlinewidth": 0,
             "ticks": ""
            },
            "type": "choropleth"
           }
          ],
          "contour": [
           {
            "colorbar": {
             "outlinewidth": 0,
             "ticks": ""
            },
            "colorscale": [
             [
              0,
              "#0d0887"
             ],
             [
              0.1111111111111111,
              "#46039f"
             ],
             [
              0.2222222222222222,
              "#7201a8"
             ],
             [
              0.3333333333333333,
              "#9c179e"
             ],
             [
              0.4444444444444444,
              "#bd3786"
             ],
             [
              0.5555555555555556,
              "#d8576b"
             ],
             [
              0.6666666666666666,
              "#ed7953"
             ],
             [
              0.7777777777777778,
              "#fb9f3a"
             ],
             [
              0.8888888888888888,
              "#fdca26"
             ],
             [
              1,
              "#f0f921"
             ]
            ],
            "type": "contour"
           }
          ],
          "contourcarpet": [
           {
            "colorbar": {
             "outlinewidth": 0,
             "ticks": ""
            },
            "type": "contourcarpet"
           }
          ],
          "heatmap": [
           {
            "colorbar": {
             "outlinewidth": 0,
             "ticks": ""
            },
            "colorscale": [
             [
              0,
              "#0d0887"
             ],
             [
              0.1111111111111111,
              "#46039f"
             ],
             [
              0.2222222222222222,
              "#7201a8"
             ],
             [
              0.3333333333333333,
              "#9c179e"
             ],
             [
              0.4444444444444444,
              "#bd3786"
             ],
             [
              0.5555555555555556,
              "#d8576b"
             ],
             [
              0.6666666666666666,
              "#ed7953"
             ],
             [
              0.7777777777777778,
              "#fb9f3a"
             ],
             [
              0.8888888888888888,
              "#fdca26"
             ],
             [
              1,
              "#f0f921"
             ]
            ],
            "type": "heatmap"
           }
          ],
          "histogram": [
           {
            "marker": {
             "pattern": {
              "fillmode": "overlay",
              "size": 10,
              "solidity": 0.2
             }
            },
            "type": "histogram"
           }
          ],
          "histogram2d": [
           {
            "colorbar": {
             "outlinewidth": 0,
             "ticks": ""
            },
            "colorscale": [
             [
              0,
              "#0d0887"
             ],
             [
              0.1111111111111111,
              "#46039f"
             ],
             [
              0.2222222222222222,
              "#7201a8"
             ],
             [
              0.3333333333333333,
              "#9c179e"
             ],
             [
              0.4444444444444444,
              "#bd3786"
             ],
             [
              0.5555555555555556,
              "#d8576b"
             ],
             [
              0.6666666666666666,
              "#ed7953"
             ],
             [
              0.7777777777777778,
              "#fb9f3a"
             ],
             [
              0.8888888888888888,
              "#fdca26"
             ],
             [
              1,
              "#f0f921"
             ]
            ],
            "type": "histogram2d"
           }
          ],
          "histogram2dcontour": [
           {
            "colorbar": {
             "outlinewidth": 0,
             "ticks": ""
            },
            "colorscale": [
             [
              0,
              "#0d0887"
             ],
             [
              0.1111111111111111,
              "#46039f"
             ],
             [
              0.2222222222222222,
              "#7201a8"
             ],
             [
              0.3333333333333333,
              "#9c179e"
             ],
             [
              0.4444444444444444,
              "#bd3786"
             ],
             [
              0.5555555555555556,
              "#d8576b"
             ],
             [
              0.6666666666666666,
              "#ed7953"
             ],
             [
              0.7777777777777778,
              "#fb9f3a"
             ],
             [
              0.8888888888888888,
              "#fdca26"
             ],
             [
              1,
              "#f0f921"
             ]
            ],
            "type": "histogram2dcontour"
           }
          ],
          "mesh3d": [
           {
            "colorbar": {
             "outlinewidth": 0,
             "ticks": ""
            },
            "type": "mesh3d"
           }
          ],
          "parcoords": [
           {
            "line": {
             "colorbar": {
              "outlinewidth": 0,
              "ticks": ""
             }
            },
            "type": "parcoords"
           }
          ],
          "pie": [
           {
            "automargin": true,
            "type": "pie"
           }
          ],
          "scatter": [
           {
            "fillpattern": {
             "fillmode": "overlay",
             "size": 10,
             "solidity": 0.2
            },
            "type": "scatter"
           }
          ],
          "scatter3d": [
           {
            "line": {
             "colorbar": {
              "outlinewidth": 0,
              "ticks": ""
             }
            },
            "marker": {
             "colorbar": {
              "outlinewidth": 0,
              "ticks": ""
             }
            },
            "type": "scatter3d"
           }
          ],
          "scattercarpet": [
           {
            "marker": {
             "colorbar": {
              "outlinewidth": 0,
              "ticks": ""
             }
            },
            "type": "scattercarpet"
           }
          ],
          "scattergeo": [
           {
            "marker": {
             "colorbar": {
              "outlinewidth": 0,
              "ticks": ""
             }
            },
            "type": "scattergeo"
           }
          ],
          "scattergl": [
           {
            "marker": {
             "colorbar": {
              "outlinewidth": 0,
              "ticks": ""
             }
            },
            "type": "scattergl"
           }
          ],
          "scattermap": [
           {
            "marker": {
             "colorbar": {
              "outlinewidth": 0,
              "ticks": ""
             }
            },
            "type": "scattermap"
           }
          ],
          "scattermapbox": [
           {
            "marker": {
             "colorbar": {
              "outlinewidth": 0,
              "ticks": ""
             }
            },
            "type": "scattermapbox"
           }
          ],
          "scatterpolar": [
           {
            "marker": {
             "colorbar": {
              "outlinewidth": 0,
              "ticks": ""
             }
            },
            "type": "scatterpolar"
           }
          ],
          "scatterpolargl": [
           {
            "marker": {
             "colorbar": {
              "outlinewidth": 0,
              "ticks": ""
             }
            },
            "type": "scatterpolargl"
           }
          ],
          "scatterternary": [
           {
            "marker": {
             "colorbar": {
              "outlinewidth": 0,
              "ticks": ""
             }
            },
            "type": "scatterternary"
           }
          ],
          "surface": [
           {
            "colorbar": {
             "outlinewidth": 0,
             "ticks": ""
            },
            "colorscale": [
             [
              0,
              "#0d0887"
             ],
             [
              0.1111111111111111,
              "#46039f"
             ],
             [
              0.2222222222222222,
              "#7201a8"
             ],
             [
              0.3333333333333333,
              "#9c179e"
             ],
             [
              0.4444444444444444,
              "#bd3786"
             ],
             [
              0.5555555555555556,
              "#d8576b"
             ],
             [
              0.6666666666666666,
              "#ed7953"
             ],
             [
              0.7777777777777778,
              "#fb9f3a"
             ],
             [
              0.8888888888888888,
              "#fdca26"
             ],
             [
              1,
              "#f0f921"
             ]
            ],
            "type": "surface"
           }
          ],
          "table": [
           {
            "cells": {
             "fill": {
              "color": "#EBF0F8"
             },
             "line": {
              "color": "white"
             }
            },
            "header": {
             "fill": {
              "color": "#C8D4E3"
             },
             "line": {
              "color": "white"
             }
            },
            "type": "table"
           }
          ]
         },
         "layout": {
          "annotationdefaults": {
           "arrowcolor": "#2a3f5f",
           "arrowhead": 0,
           "arrowwidth": 1
          },
          "autotypenumbers": "strict",
          "coloraxis": {
           "colorbar": {
            "outlinewidth": 0,
            "ticks": ""
           }
          },
          "colorscale": {
           "diverging": [
            [
             0,
             "#8e0152"
            ],
            [
             0.1,
             "#c51b7d"
            ],
            [
             0.2,
             "#de77ae"
            ],
            [
             0.3,
             "#f1b6da"
            ],
            [
             0.4,
             "#fde0ef"
            ],
            [
             0.5,
             "#f7f7f7"
            ],
            [
             0.6,
             "#e6f5d0"
            ],
            [
             0.7,
             "#b8e186"
            ],
            [
             0.8,
             "#7fbc41"
            ],
            [
             0.9,
             "#4d9221"
            ],
            [
             1,
             "#276419"
            ]
           ],
           "sequential": [
            [
             0,
             "#0d0887"
            ],
            [
             0.1111111111111111,
             "#46039f"
            ],
            [
             0.2222222222222222,
             "#7201a8"
            ],
            [
             0.3333333333333333,
             "#9c179e"
            ],
            [
             0.4444444444444444,
             "#bd3786"
            ],
            [
             0.5555555555555556,
             "#d8576b"
            ],
            [
             0.6666666666666666,
             "#ed7953"
            ],
            [
             0.7777777777777778,
             "#fb9f3a"
            ],
            [
             0.8888888888888888,
             "#fdca26"
            ],
            [
             1,
             "#f0f921"
            ]
           ],
           "sequentialminus": [
            [
             0,
             "#0d0887"
            ],
            [
             0.1111111111111111,
             "#46039f"
            ],
            [
             0.2222222222222222,
             "#7201a8"
            ],
            [
             0.3333333333333333,
             "#9c179e"
            ],
            [
             0.4444444444444444,
             "#bd3786"
            ],
            [
             0.5555555555555556,
             "#d8576b"
            ],
            [
             0.6666666666666666,
             "#ed7953"
            ],
            [
             0.7777777777777778,
             "#fb9f3a"
            ],
            [
             0.8888888888888888,
             "#fdca26"
            ],
            [
             1,
             "#f0f921"
            ]
           ]
          },
          "colorway": [
           "#636efa",
           "#EF553B",
           "#00cc96",
           "#ab63fa",
           "#FFA15A",
           "#19d3f3",
           "#FF6692",
           "#B6E880",
           "#FF97FF",
           "#FECB52"
          ],
          "font": {
           "color": "#2a3f5f"
          },
          "geo": {
           "bgcolor": "white",
           "lakecolor": "white",
           "landcolor": "#E5ECF6",
           "showlakes": true,
           "showland": true,
           "subunitcolor": "white"
          },
          "hoverlabel": {
           "align": "left"
          },
          "hovermode": "closest",
          "mapbox": {
           "style": "light"
          },
          "paper_bgcolor": "white",
          "plot_bgcolor": "#E5ECF6",
          "polar": {
           "angularaxis": {
            "gridcolor": "white",
            "linecolor": "white",
            "ticks": ""
           },
           "bgcolor": "#E5ECF6",
           "radialaxis": {
            "gridcolor": "white",
            "linecolor": "white",
            "ticks": ""
           }
          },
          "scene": {
           "xaxis": {
            "backgroundcolor": "#E5ECF6",
            "gridcolor": "white",
            "gridwidth": 2,
            "linecolor": "white",
            "showbackground": true,
            "ticks": "",
            "zerolinecolor": "white"
           },
           "yaxis": {
            "backgroundcolor": "#E5ECF6",
            "gridcolor": "white",
            "gridwidth": 2,
            "linecolor": "white",
            "showbackground": true,
            "ticks": "",
            "zerolinecolor": "white"
           },
           "zaxis": {
            "backgroundcolor": "#E5ECF6",
            "gridcolor": "white",
            "gridwidth": 2,
            "linecolor": "white",
            "showbackground": true,
            "ticks": "",
            "zerolinecolor": "white"
           }
          },
          "shapedefaults": {
           "line": {
            "color": "#2a3f5f"
           }
          },
          "ternary": {
           "aaxis": {
            "gridcolor": "white",
            "linecolor": "white",
            "ticks": ""
           },
           "baxis": {
            "gridcolor": "white",
            "linecolor": "white",
            "ticks": ""
           },
           "bgcolor": "#E5ECF6",
           "caxis": {
            "gridcolor": "white",
            "linecolor": "white",
            "ticks": ""
           }
          },
          "title": {
           "x": 0.05
          },
          "xaxis": {
           "automargin": true,
           "gridcolor": "white",
           "linecolor": "white",
           "ticks": "",
           "title": {
            "standoff": 15
           },
           "zerolinecolor": "white",
           "zerolinewidth": 2
          },
          "yaxis": {
           "automargin": true,
           "gridcolor": "white",
           "linecolor": "white",
           "ticks": "",
           "title": {
            "standoff": 15
           },
           "zerolinecolor": "white",
           "zerolinewidth": 2
          }
         }
        },
        "title": {
         "text": "AnchoPie"
        },
        "width": 700,
        "xaxis": {
         "title": {
          "text": "Altura Real"
         }
        },
        "yaxis": {
         "title": {
          "text": "Altura Predicha"
         }
        }
       }
      }
     },
     "metadata": {},
     "output_type": "display_data"
    }
   ],
   "source": [
    "fig_elastic = go.Figure()\n",
    "\n",
    "fig_elastic.add_trace(go.Scatter(\n",
    "    x=Y_test_pb_3, \n",
    "    y=y_pred_3,\n",
    "    mode='markers',\n",
    "    name='AnchoPie',\n",
    "    marker=dict(color='orange')\n",
    "))\n",
    "\n",
    "fig_elastic.add_trace(go.Scatter(\n",
    "    x=Y_test_pb,\n",
    "    y=Y_test_pb,\n",
    "    mode='lines',\n",
    "    name='Línea Ideal',\n",
    "    line=dict(color='red', dash='dash')\n",
    "))\n",
    "\n",
    "fig_elastic.update_layout(\n",
    "    title='AnchoPie',\n",
    "    xaxis_title='Altura Real',\n",
    "    yaxis_title='Altura Predicha',\n",
    "    width=700,\n",
    "    height=500\n",
    ")\n",
    "\n",
    "fig_elastic.show()"
   ]
  },
  {
   "cell_type": "code",
   "execution_count": 189,
   "metadata": {},
   "outputs": [
    {
     "name": "stdout",
     "output_type": "stream",
     "text": [
      "Fitting 5 folds for each of 2500 candidates, totalling 12500 fits\n",
      "Modelo 4. Países Bajos. R2 Score: 0.8580757054686154. RMSE: 2.484944972729807\n"
     ]
    }
   ],
   "source": [
    "#4 - ElasticNet \n",
    "grid_search.fit(X_train_pb, Y_train_pb)\n",
    "y_pred_4 = grid_search.predict(X_test_pb)\n",
    "r2_pb_4 = r2_score(Y_test_pb, y_pred_4)\n",
    "rmse_pb_4 = np.sqrt(mean_squared_error(Y_test_pb, y_pred_4))\n",
    "print(f'Modelo 4. Países Bajos. R2 Score: {r2_pb_4}. RMSE: {rmse_pb_4}')"
   ]
  },
  {
   "cell_type": "code",
   "execution_count": 203,
   "metadata": {},
   "outputs": [
    {
     "data": {
      "application/vnd.plotly.v1+json": {
       "config": {
        "plotlyServerURL": "https://plot.ly"
       },
       "data": [
        {
         "marker": {
          "color": "orange"
         },
         "mode": "markers",
         "name": "ElasticNet Pred",
         "type": "scatter",
         "x": {
          "bdata": "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",
          "dtype": "f8"
         },
         "y": {
          "bdata": "nsaUr0EjZ0CG0yv81bVlQMe/YKUZhGZAl4vbfZj8ZkDjth6pW3llQEQzsQ0iKWVANDzYJb2NZUAyNKOZctVmQGDp/EPGDWVAzXeqMrltZUDXcutNAGFlQHl+W5HxG2dAO/MwBSV0ZUBJNmgbF0FlQMrHvz8UB2VAYNgPaqF1ZUAcqBlMAMNmQIwO4coP/2RApMToBqkfZUA17KI0kWhlQEODv4wH7GZAVPOhNBhHZkDrsZpF+bpmQPrgohmk8mZAnId0Ta3PZkClGiTpwLdmQEffFZXaeGVAjPshHv6iZUDwbdu0AkBlQA066OU4DWVAIPv/vdclZUB2T/PWWt5kQKqAE0Kh3GZAeW2MeZmlZUBMqXECFhdlQBKrS50v6mdA/olH3oY+ZUCKpCsraUhlQGjHC9c1tmZAIcnH5TlVZUCTOHWzn4plQI11fJUvpGZAFLzTLZ25ZEC8P40BtNlmQG0+MA6EdWVAEK7Q6UzcZkCUGL+ys6ZmQG4XPK7pFmdAzqqQ6g4OZUBv+157LiZlQG5rrM7FpGZAchji23QrZ0CFDnRD9WllQCB6dRdwQGVALJx7D6I8ZUCSU/CWLVBlQBYNB65uvGVAdlZurLHNZUC07tDllbhmQGOreIMWnWZA7smw2slmZkB0Evm64XJlQJdqL98ElWZAQKDPnhR/ZkDJeeHPMO1lQLPWr88aeGdAcXkwBC7tZkAogBy/TRRnQBFmb+TIWWVAPS5ESbx2ZkCytVSGEQZlQIR9r0FaXWVAeyPIC3FiZkC9UG0oW3NlQDmNWWZ1YGZAOnTukZ2IZkBeb47kpyNlQJyR4z++/WZAvShFVLMsZUCRAkL7goVmQI3wuilw9mRAa27N+y0oZUBTpGwfkx1nQDJAf4kuS2VAjKr1dB1+ZUBdPelseSVlQJyX3LYKrWZAxld30tKQZkCmzO2AEf9kQCctU1mldWVAyx77ezZmZUBZUndFVrJlQHDIK4deSmdA9ybcxoTZZkDm/zM+75NmQMynNcvHCmdA1NQo1SpJZkBVwzVZmDxnQBldecSsgmZANt4lEUxvZUAnGhLlaLxlQOpQ7tC6oWZAwVwFpS9lZUCrZCAr999mQDsAH+S5aGZAEGygbarbZkDX3yuY2GdlQJt8sN5vvWZAxHZatEcBZ0CO7jGTDuBmQMJaSeoI7mZAWcAKxgh8ZkBy6G45pC9nQLqotzZxQWVAZpniVhw5ZUCN1pJRuRhnQDB18VNhAGdAMrORMQa4ZkDnRAUd18tkQLJ8ZOp3d2VAhGNYrQJfZUByzzygIYRlQApv7mxU8GZAGg3tiDU2ZUAY6hsyJ1VmQM13KBUxgmdAT1cdGsXAZkCvPj2lo3NlQA/Qw7uPx2ZAEuHhf/kaZUB+pfc2kmtnQGNLTK6MpmZATMz/ku5gZUCWnCcb0R1lQOebvbaYdWVAONn4VImbZkD6GWYxyxllQFaNo9XRGGdA9+mAOtA+ZUA/T3fXOCRlQGIiZuXrI2VAr0ypJ+HqZECKsWEBqxNnQIImHQhNtWZAweWbWOYCZkAlgmTNB11nQEHSLgl4l2ZAa8L0AX28ZkBzn08pZTxlQPwBHT71x2ZA8594B5R5ZUBXFIdEI+VkQJnJjHnXKGVAxDUQE9nZZkDng5pXAstmQIoHiKjFiGZAKIQ+gU/FZkAYA0Axdw1nQPaG+pdutGZAnvztYAWnZkBPfFf2tgRnQHyjiMgF4GZAAHFozGw3ZUDVncrgq7hmQL18rPM0GWVA+62+xqayZkDS9jsghB9lQMmjBDBkLWVA0Lk3pCdcZUDiQ/QL9SdlQKDJNCBhcmVAFvjfbH/3ZkDNLoJhYfFkQJ5t/GrMCmdA4laUSNIkZkALMclWoH1lQOsGqTQ3aGVABZQPhbbxZkBlYE3gZW1lQLmYyWRgWmVAkJJqGXnBZUDNvw9IvB1nQAQ+MeYbbmVAzxQwT40BZUBm7q1l1LJmQEO/PLrwHmZAnBsHrvffZkDYZXzO+6hmQMTg3wNAaWZA/hJERH2HZkBofQ69YK5mQBARS0UjwGZAwXL+chW5ZUDZPcRa46pmQMV3Wm/+jWZA86uuMo/OZkCiKEV3Y+5mQHnMrBOqaGZAyxQeG1nfZkCTy2iLxgplQA==",
          "dtype": "f8"
         }
        },
        {
         "line": {
          "color": "red",
          "dash": "dash"
         },
         "mode": "lines",
         "name": "Línea Ideal",
         "type": "scatter",
         "x": {
          "bdata": "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",
          "dtype": "f8"
         },
         "y": {
          "bdata": "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",
          "dtype": "f8"
         }
        }
       ],
       "layout": {
        "height": 500,
        "template": {
         "data": {
          "bar": [
           {
            "error_x": {
             "color": "#2a3f5f"
            },
            "error_y": {
             "color": "#2a3f5f"
            },
            "marker": {
             "line": {
              "color": "#E5ECF6",
              "width": 0.5
             },
             "pattern": {
              "fillmode": "overlay",
              "size": 10,
              "solidity": 0.2
             }
            },
            "type": "bar"
           }
          ],
          "barpolar": [
           {
            "marker": {
             "line": {
              "color": "#E5ECF6",
              "width": 0.5
             },
             "pattern": {
              "fillmode": "overlay",
              "size": 10,
              "solidity": 0.2
             }
            },
            "type": "barpolar"
           }
          ],
          "carpet": [
           {
            "aaxis": {
             "endlinecolor": "#2a3f5f",
             "gridcolor": "white",
             "linecolor": "white",
             "minorgridcolor": "white",
             "startlinecolor": "#2a3f5f"
            },
            "baxis": {
             "endlinecolor": "#2a3f5f",
             "gridcolor": "white",
             "linecolor": "white",
             "minorgridcolor": "white",
             "startlinecolor": "#2a3f5f"
            },
            "type": "carpet"
           }
          ],
          "choropleth": [
           {
            "colorbar": {
             "outlinewidth": 0,
             "ticks": ""
            },
            "type": "choropleth"
           }
          ],
          "contour": [
           {
            "colorbar": {
             "outlinewidth": 0,
             "ticks": ""
            },
            "colorscale": [
             [
              0,
              "#0d0887"
             ],
             [
              0.1111111111111111,
              "#46039f"
             ],
             [
              0.2222222222222222,
              "#7201a8"
             ],
             [
              0.3333333333333333,
              "#9c179e"
             ],
             [
              0.4444444444444444,
              "#bd3786"
             ],
             [
              0.5555555555555556,
              "#d8576b"
             ],
             [
              0.6666666666666666,
              "#ed7953"
             ],
             [
              0.7777777777777778,
              "#fb9f3a"
             ],
             [
              0.8888888888888888,
              "#fdca26"
             ],
             [
              1,
              "#f0f921"
             ]
            ],
            "type": "contour"
           }
          ],
          "contourcarpet": [
           {
            "colorbar": {
             "outlinewidth": 0,
             "ticks": ""
            },
            "type": "contourcarpet"
           }
          ],
          "heatmap": [
           {
            "colorbar": {
             "outlinewidth": 0,
             "ticks": ""
            },
            "colorscale": [
             [
              0,
              "#0d0887"
             ],
             [
              0.1111111111111111,
              "#46039f"
             ],
             [
              0.2222222222222222,
              "#7201a8"
             ],
             [
              0.3333333333333333,
              "#9c179e"
             ],
             [
              0.4444444444444444,
              "#bd3786"
             ],
             [
              0.5555555555555556,
              "#d8576b"
             ],
             [
              0.6666666666666666,
              "#ed7953"
             ],
             [
              0.7777777777777778,
              "#fb9f3a"
             ],
             [
              0.8888888888888888,
              "#fdca26"
             ],
             [
              1,
              "#f0f921"
             ]
            ],
            "type": "heatmap"
           }
          ],
          "histogram": [
           {
            "marker": {
             "pattern": {
              "fillmode": "overlay",
              "size": 10,
              "solidity": 0.2
             }
            },
            "type": "histogram"
           }
          ],
          "histogram2d": [
           {
            "colorbar": {
             "outlinewidth": 0,
             "ticks": ""
            },
            "colorscale": [
             [
              0,
              "#0d0887"
             ],
             [
              0.1111111111111111,
              "#46039f"
             ],
             [
              0.2222222222222222,
              "#7201a8"
             ],
             [
              0.3333333333333333,
              "#9c179e"
             ],
             [
              0.4444444444444444,
              "#bd3786"
             ],
             [
              0.5555555555555556,
              "#d8576b"
             ],
             [
              0.6666666666666666,
              "#ed7953"
             ],
             [
              0.7777777777777778,
              "#fb9f3a"
             ],
             [
              0.8888888888888888,
              "#fdca26"
             ],
             [
              1,
              "#f0f921"
             ]
            ],
            "type": "histogram2d"
           }
          ],
          "histogram2dcontour": [
           {
            "colorbar": {
             "outlinewidth": 0,
             "ticks": ""
            },
            "colorscale": [
             [
              0,
              "#0d0887"
             ],
             [
              0.1111111111111111,
              "#46039f"
             ],
             [
              0.2222222222222222,
              "#7201a8"
             ],
             [
              0.3333333333333333,
              "#9c179e"
             ],
             [
              0.4444444444444444,
              "#bd3786"
             ],
             [
              0.5555555555555556,
              "#d8576b"
             ],
             [
              0.6666666666666666,
              "#ed7953"
             ],
             [
              0.7777777777777778,
              "#fb9f3a"
             ],
             [
              0.8888888888888888,
              "#fdca26"
             ],
             [
              1,
              "#f0f921"
             ]
            ],
            "type": "histogram2dcontour"
           }
          ],
          "mesh3d": [
           {
            "colorbar": {
             "outlinewidth": 0,
             "ticks": ""
            },
            "type": "mesh3d"
           }
          ],
          "parcoords": [
           {
            "line": {
             "colorbar": {
              "outlinewidth": 0,
              "ticks": ""
             }
            },
            "type": "parcoords"
           }
          ],
          "pie": [
           {
            "automargin": true,
            "type": "pie"
           }
          ],
          "scatter": [
           {
            "fillpattern": {
             "fillmode": "overlay",
             "size": 10,
             "solidity": 0.2
            },
            "type": "scatter"
           }
          ],
          "scatter3d": [
           {
            "line": {
             "colorbar": {
              "outlinewidth": 0,
              "ticks": ""
             }
            },
            "marker": {
             "colorbar": {
              "outlinewidth": 0,
              "ticks": ""
             }
            },
            "type": "scatter3d"
           }
          ],
          "scattercarpet": [
           {
            "marker": {
             "colorbar": {
              "outlinewidth": 0,
              "ticks": ""
             }
            },
            "type": "scattercarpet"
           }
          ],
          "scattergeo": [
           {
            "marker": {
             "colorbar": {
              "outlinewidth": 0,
              "ticks": ""
             }
            },
            "type": "scattergeo"
           }
          ],
          "scattergl": [
           {
            "marker": {
             "colorbar": {
              "outlinewidth": 0,
              "ticks": ""
             }
            },
            "type": "scattergl"
           }
          ],
          "scattermap": [
           {
            "marker": {
             "colorbar": {
              "outlinewidth": 0,
              "ticks": ""
             }
            },
            "type": "scattermap"
           }
          ],
          "scattermapbox": [
           {
            "marker": {
             "colorbar": {
              "outlinewidth": 0,
              "ticks": ""
             }
            },
            "type": "scattermapbox"
           }
          ],
          "scatterpolar": [
           {
            "marker": {
             "colorbar": {
              "outlinewidth": 0,
              "ticks": ""
             }
            },
            "type": "scatterpolar"
           }
          ],
          "scatterpolargl": [
           {
            "marker": {
             "colorbar": {
              "outlinewidth": 0,
              "ticks": ""
             }
            },
            "type": "scatterpolargl"
           }
          ],
          "scatterternary": [
           {
            "marker": {
             "colorbar": {
              "outlinewidth": 0,
              "ticks": ""
             }
            },
            "type": "scatterternary"
           }
          ],
          "surface": [
           {
            "colorbar": {
             "outlinewidth": 0,
             "ticks": ""
            },
            "colorscale": [
             [
              0,
              "#0d0887"
             ],
             [
              0.1111111111111111,
              "#46039f"
             ],
             [
              0.2222222222222222,
              "#7201a8"
             ],
             [
              0.3333333333333333,
              "#9c179e"
             ],
             [
              0.4444444444444444,
              "#bd3786"
             ],
             [
              0.5555555555555556,
              "#d8576b"
             ],
             [
              0.6666666666666666,
              "#ed7953"
             ],
             [
              0.7777777777777778,
              "#fb9f3a"
             ],
             [
              0.8888888888888888,
              "#fdca26"
             ],
             [
              1,
              "#f0f921"
             ]
            ],
            "type": "surface"
           }
          ],
          "table": [
           {
            "cells": {
             "fill": {
              "color": "#EBF0F8"
             },
             "line": {
              "color": "white"
             }
            },
            "header": {
             "fill": {
              "color": "#C8D4E3"
             },
             "line": {
              "color": "white"
             }
            },
            "type": "table"
           }
          ]
         },
         "layout": {
          "annotationdefaults": {
           "arrowcolor": "#2a3f5f",
           "arrowhead": 0,
           "arrowwidth": 1
          },
          "autotypenumbers": "strict",
          "coloraxis": {
           "colorbar": {
            "outlinewidth": 0,
            "ticks": ""
           }
          },
          "colorscale": {
           "diverging": [
            [
             0,
             "#8e0152"
            ],
            [
             0.1,
             "#c51b7d"
            ],
            [
             0.2,
             "#de77ae"
            ],
            [
             0.3,
             "#f1b6da"
            ],
            [
             0.4,
             "#fde0ef"
            ],
            [
             0.5,
             "#f7f7f7"
            ],
            [
             0.6,
             "#e6f5d0"
            ],
            [
             0.7,
             "#b8e186"
            ],
            [
             0.8,
             "#7fbc41"
            ],
            [
             0.9,
             "#4d9221"
            ],
            [
             1,
             "#276419"
            ]
           ],
           "sequential": [
            [
             0,
             "#0d0887"
            ],
            [
             0.1111111111111111,
             "#46039f"
            ],
            [
             0.2222222222222222,
             "#7201a8"
            ],
            [
             0.3333333333333333,
             "#9c179e"
            ],
            [
             0.4444444444444444,
             "#bd3786"
            ],
            [
             0.5555555555555556,
             "#d8576b"
            ],
            [
             0.6666666666666666,
             "#ed7953"
            ],
            [
             0.7777777777777778,
             "#fb9f3a"
            ],
            [
             0.8888888888888888,
             "#fdca26"
            ],
            [
             1,
             "#f0f921"
            ]
           ],
           "sequentialminus": [
            [
             0,
             "#0d0887"
            ],
            [
             0.1111111111111111,
             "#46039f"
            ],
            [
             0.2222222222222222,
             "#7201a8"
            ],
            [
             0.3333333333333333,
             "#9c179e"
            ],
            [
             0.4444444444444444,
             "#bd3786"
            ],
            [
             0.5555555555555556,
             "#d8576b"
            ],
            [
             0.6666666666666666,
             "#ed7953"
            ],
            [
             0.7777777777777778,
             "#fb9f3a"
            ],
            [
             0.8888888888888888,
             "#fdca26"
            ],
            [
             1,
             "#f0f921"
            ]
           ]
          },
          "colorway": [
           "#636efa",
           "#EF553B",
           "#00cc96",
           "#ab63fa",
           "#FFA15A",
           "#19d3f3",
           "#FF6692",
           "#B6E880",
           "#FF97FF",
           "#FECB52"
          ],
          "font": {
           "color": "#2a3f5f"
          },
          "geo": {
           "bgcolor": "white",
           "lakecolor": "white",
           "landcolor": "#E5ECF6",
           "showlakes": true,
           "showland": true,
           "subunitcolor": "white"
          },
          "hoverlabel": {
           "align": "left"
          },
          "hovermode": "closest",
          "mapbox": {
           "style": "light"
          },
          "paper_bgcolor": "white",
          "plot_bgcolor": "#E5ECF6",
          "polar": {
           "angularaxis": {
            "gridcolor": "white",
            "linecolor": "white",
            "ticks": ""
           },
           "bgcolor": "#E5ECF6",
           "radialaxis": {
            "gridcolor": "white",
            "linecolor": "white",
            "ticks": ""
           }
          },
          "scene": {
           "xaxis": {
            "backgroundcolor": "#E5ECF6",
            "gridcolor": "white",
            "gridwidth": 2,
            "linecolor": "white",
            "showbackground": true,
            "ticks": "",
            "zerolinecolor": "white"
           },
           "yaxis": {
            "backgroundcolor": "#E5ECF6",
            "gridcolor": "white",
            "gridwidth": 2,
            "linecolor": "white",
            "showbackground": true,
            "ticks": "",
            "zerolinecolor": "white"
           },
           "zaxis": {
            "backgroundcolor": "#E5ECF6",
            "gridcolor": "white",
            "gridwidth": 2,
            "linecolor": "white",
            "showbackground": true,
            "ticks": "",
            "zerolinecolor": "white"
           }
          },
          "shapedefaults": {
           "line": {
            "color": "#2a3f5f"
           }
          },
          "ternary": {
           "aaxis": {
            "gridcolor": "white",
            "linecolor": "white",
            "ticks": ""
           },
           "baxis": {
            "gridcolor": "white",
            "linecolor": "white",
            "ticks": ""
           },
           "bgcolor": "#E5ECF6",
           "caxis": {
            "gridcolor": "white",
            "linecolor": "white",
            "ticks": ""
           }
          },
          "title": {
           "x": 0.05
          },
          "xaxis": {
           "automargin": true,
           "gridcolor": "white",
           "linecolor": "white",
           "ticks": "",
           "title": {
            "standoff": 15
           },
           "zerolinecolor": "white",
           "zerolinewidth": 2
          },
          "yaxis": {
           "automargin": true,
           "gridcolor": "white",
           "linecolor": "white",
           "ticks": "",
           "title": {
            "standoff": 15
           },
           "zerolinecolor": "white",
           "zerolinewidth": 2
          }
         }
        },
        "title": {
         "text": "ElasticNet"
        },
        "width": 700,
        "xaxis": {
         "title": {
          "text": "Altura Real"
         }
        },
        "yaxis": {
         "title": {
          "text": "Altura Predicha"
         }
        }
       }
      }
     },
     "metadata": {},
     "output_type": "display_data"
    }
   ],
   "source": [
    "fig_elastic = go.Figure()\n",
    "\n",
    "fig_elastic.add_trace(go.Scatter(\n",
    "    x=Y_test_pb, \n",
    "    y=y_pred_4,\n",
    "    mode='markers',\n",
    "    name='ElasticNet Pred',\n",
    "    marker=dict(color='orange')\n",
    "))\n",
    "\n",
    "fig_elastic.add_trace(go.Scatter(\n",
    "    x=Y_test_pb,\n",
    "    y=Y_test_pb,\n",
    "    mode='lines',\n",
    "    name='Línea Ideal',\n",
    "    line=dict(color='red', dash='dash')\n",
    "))\n",
    "\n",
    "fig_elastic.update_layout(\n",
    "    title='ElasticNet',\n",
    "    xaxis_title='Altura Real',\n",
    "    yaxis_title='Altura Predicha',\n",
    "    width=700,\n",
    "    height=500\n",
    ")\n",
    "\n",
    "fig_elastic.show()"
   ]
  },
  {
   "cell_type": "code",
   "execution_count": 190,
   "metadata": {},
   "outputs": [],
   "source": [
    "x_pb_pie = df_pb[['Pie']]\n",
    "y_pb_altura = df_pb['Altura']\n",
    "X_train_pb_5, X_test_pb_5, Y_train_pb_5, Y_test_pb_5 = train_test_split(x_pb_pie, y_pb_altura, test_size=0.2, random_state=42)"
   ]
  },
  {
   "cell_type": "code",
   "execution_count": 191,
   "metadata": {},
   "outputs": [
    {
     "name": "stdout",
     "output_type": "stream",
     "text": [
      "Modelo 5. Países Bajos. R2 Score: 0.7400026730246843. RMSE: 3.3633560551465074\n"
     ]
    }
   ],
   "source": [
    "#5 - Pie Coef_ Intercept_ \n",
    "Linear_model_coeffs.fit(X_train_pb_5, Y_train_pb_5)\n",
    "y_pred_5 = Linear_model_coeffs.predict(X_test_pb_5)\n",
    "r2_pb_5 = r2_score(Y_test_pb_5, y_pred_5)\n",
    "rmse_pb_5 = np.sqrt(mean_squared_error(Y_test_pb_5, y_pred_5))\n",
    "print(f'Modelo 5. Países Bajos. R2 Score: {r2_pb_5}. RMSE: {rmse_pb_5}')"
   ]
  },
  {
   "cell_type": "code",
   "execution_count": 202,
   "metadata": {},
   "outputs": [
    {
     "data": {
      "application/vnd.plotly.v1+json": {
       "config": {
        "plotlyServerURL": "https://plot.ly"
       },
       "data": [
        {
         "marker": {
          "color": "orange"
         },
         "mode": "markers",
         "name": "Coef_ Intercept_",
         "type": "scatter",
         "x": {
          "bdata": "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",
          "dtype": "f8"
         },
         "y": {
          "bdata": "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",
          "dtype": "f8"
         }
        },
        {
         "line": {
          "color": "red",
          "dash": "dash"
         },
         "mode": "lines",
         "name": "Línea Ideal",
         "type": "scatter",
         "x": {
          "bdata": "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",
          "dtype": "f8"
         },
         "y": {
          "bdata": "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",
          "dtype": "f8"
         }
        }
       ],
       "layout": {
        "height": 500,
        "template": {
         "data": {
          "bar": [
           {
            "error_x": {
             "color": "#2a3f5f"
            },
            "error_y": {
             "color": "#2a3f5f"
            },
            "marker": {
             "line": {
              "color": "#E5ECF6",
              "width": 0.5
             },
             "pattern": {
              "fillmode": "overlay",
              "size": 10,
              "solidity": 0.2
             }
            },
            "type": "bar"
           }
          ],
          "barpolar": [
           {
            "marker": {
             "line": {
              "color": "#E5ECF6",
              "width": 0.5
             },
             "pattern": {
              "fillmode": "overlay",
              "size": 10,
              "solidity": 0.2
             }
            },
            "type": "barpolar"
           }
          ],
          "carpet": [
           {
            "aaxis": {
             "endlinecolor": "#2a3f5f",
             "gridcolor": "white",
             "linecolor": "white",
             "minorgridcolor": "white",
             "startlinecolor": "#2a3f5f"
            },
            "baxis": {
             "endlinecolor": "#2a3f5f",
             "gridcolor": "white",
             "linecolor": "white",
             "minorgridcolor": "white",
             "startlinecolor": "#2a3f5f"
            },
            "type": "carpet"
           }
          ],
          "choropleth": [
           {
            "colorbar": {
             "outlinewidth": 0,
             "ticks": ""
            },
            "type": "choropleth"
           }
          ],
          "contour": [
           {
            "colorbar": {
             "outlinewidth": 0,
             "ticks": ""
            },
            "colorscale": [
             [
              0,
              "#0d0887"
             ],
             [
              0.1111111111111111,
              "#46039f"
             ],
             [
              0.2222222222222222,
              "#7201a8"
             ],
             [
              0.3333333333333333,
              "#9c179e"
             ],
             [
              0.4444444444444444,
              "#bd3786"
             ],
             [
              0.5555555555555556,
              "#d8576b"
             ],
             [
              0.6666666666666666,
              "#ed7953"
             ],
             [
              0.7777777777777778,
              "#fb9f3a"
             ],
             [
              0.8888888888888888,
              "#fdca26"
             ],
             [
              1,
              "#f0f921"
             ]
            ],
            "type": "contour"
           }
          ],
          "contourcarpet": [
           {
            "colorbar": {
             "outlinewidth": 0,
             "ticks": ""
            },
            "type": "contourcarpet"
           }
          ],
          "heatmap": [
           {
            "colorbar": {
             "outlinewidth": 0,
             "ticks": ""
            },
            "colorscale": [
             [
              0,
              "#0d0887"
             ],
             [
              0.1111111111111111,
              "#46039f"
             ],
             [
              0.2222222222222222,
              "#7201a8"
             ],
             [
              0.3333333333333333,
              "#9c179e"
             ],
             [
              0.4444444444444444,
              "#bd3786"
             ],
             [
              0.5555555555555556,
              "#d8576b"
             ],
             [
              0.6666666666666666,
              "#ed7953"
             ],
             [
              0.7777777777777778,
              "#fb9f3a"
             ],
             [
              0.8888888888888888,
              "#fdca26"
             ],
             [
              1,
              "#f0f921"
             ]
            ],
            "type": "heatmap"
           }
          ],
          "histogram": [
           {
            "marker": {
             "pattern": {
              "fillmode": "overlay",
              "size": 10,
              "solidity": 0.2
             }
            },
            "type": "histogram"
           }
          ],
          "histogram2d": [
           {
            "colorbar": {
             "outlinewidth": 0,
             "ticks": ""
            },
            "colorscale": [
             [
              0,
              "#0d0887"
             ],
             [
              0.1111111111111111,
              "#46039f"
             ],
             [
              0.2222222222222222,
              "#7201a8"
             ],
             [
              0.3333333333333333,
              "#9c179e"
             ],
             [
              0.4444444444444444,
              "#bd3786"
             ],
             [
              0.5555555555555556,
              "#d8576b"
             ],
             [
              0.6666666666666666,
              "#ed7953"
             ],
             [
              0.7777777777777778,
              "#fb9f3a"
             ],
             [
              0.8888888888888888,
              "#fdca26"
             ],
             [
              1,
              "#f0f921"
             ]
            ],
            "type": "histogram2d"
           }
          ],
          "histogram2dcontour": [
           {
            "colorbar": {
             "outlinewidth": 0,
             "ticks": ""
            },
            "colorscale": [
             [
              0,
              "#0d0887"
             ],
             [
              0.1111111111111111,
              "#46039f"
             ],
             [
              0.2222222222222222,
              "#7201a8"
             ],
             [
              0.3333333333333333,
              "#9c179e"
             ],
             [
              0.4444444444444444,
              "#bd3786"
             ],
             [
              0.5555555555555556,
              "#d8576b"
             ],
             [
              0.6666666666666666,
              "#ed7953"
             ],
             [
              0.7777777777777778,
              "#fb9f3a"
             ],
             [
              0.8888888888888888,
              "#fdca26"
             ],
             [
              1,
              "#f0f921"
             ]
            ],
            "type": "histogram2dcontour"
           }
          ],
          "mesh3d": [
           {
            "colorbar": {
             "outlinewidth": 0,
             "ticks": ""
            },
            "type": "mesh3d"
           }
          ],
          "parcoords": [
           {
            "line": {
             "colorbar": {
              "outlinewidth": 0,
              "ticks": ""
             }
            },
            "type": "parcoords"
           }
          ],
          "pie": [
           {
            "automargin": true,
            "type": "pie"
           }
          ],
          "scatter": [
           {
            "fillpattern": {
             "fillmode": "overlay",
             "size": 10,
             "solidity": 0.2
            },
            "type": "scatter"
           }
          ],
          "scatter3d": [
           {
            "line": {
             "colorbar": {
              "outlinewidth": 0,
              "ticks": ""
             }
            },
            "marker": {
             "colorbar": {
              "outlinewidth": 0,
              "ticks": ""
             }
            },
            "type": "scatter3d"
           }
          ],
          "scattercarpet": [
           {
            "marker": {
             "colorbar": {
              "outlinewidth": 0,
              "ticks": ""
             }
            },
            "type": "scattercarpet"
           }
          ],
          "scattergeo": [
           {
            "marker": {
             "colorbar": {
              "outlinewidth": 0,
              "ticks": ""
             }
            },
            "type": "scattergeo"
           }
          ],
          "scattergl": [
           {
            "marker": {
             "colorbar": {
              "outlinewidth": 0,
              "ticks": ""
             }
            },
            "type": "scattergl"
           }
          ],
          "scattermap": [
           {
            "marker": {
             "colorbar": {
              "outlinewidth": 0,
              "ticks": ""
             }
            },
            "type": "scattermap"
           }
          ],
          "scattermapbox": [
           {
            "marker": {
             "colorbar": {
              "outlinewidth": 0,
              "ticks": ""
             }
            },
            "type": "scattermapbox"
           }
          ],
          "scatterpolar": [
           {
            "marker": {
             "colorbar": {
              "outlinewidth": 0,
              "ticks": ""
             }
            },
            "type": "scatterpolar"
           }
          ],
          "scatterpolargl": [
           {
            "marker": {
             "colorbar": {
              "outlinewidth": 0,
              "ticks": ""
             }
            },
            "type": "scatterpolargl"
           }
          ],
          "scatterternary": [
           {
            "marker": {
             "colorbar": {
              "outlinewidth": 0,
              "ticks": ""
             }
            },
            "type": "scatterternary"
           }
          ],
          "surface": [
           {
            "colorbar": {
             "outlinewidth": 0,
             "ticks": ""
            },
            "colorscale": [
             [
              0,
              "#0d0887"
             ],
             [
              0.1111111111111111,
              "#46039f"
             ],
             [
              0.2222222222222222,
              "#7201a8"
             ],
             [
              0.3333333333333333,
              "#9c179e"
             ],
             [
              0.4444444444444444,
              "#bd3786"
             ],
             [
              0.5555555555555556,
              "#d8576b"
             ],
             [
              0.6666666666666666,
              "#ed7953"
             ],
             [
              0.7777777777777778,
              "#fb9f3a"
             ],
             [
              0.8888888888888888,
              "#fdca26"
             ],
             [
              1,
              "#f0f921"
             ]
            ],
            "type": "surface"
           }
          ],
          "table": [
           {
            "cells": {
             "fill": {
              "color": "#EBF0F8"
             },
             "line": {
              "color": "white"
             }
            },
            "header": {
             "fill": {
              "color": "#C8D4E3"
             },
             "line": {
              "color": "white"
             }
            },
            "type": "table"
           }
          ]
         },
         "layout": {
          "annotationdefaults": {
           "arrowcolor": "#2a3f5f",
           "arrowhead": 0,
           "arrowwidth": 1
          },
          "autotypenumbers": "strict",
          "coloraxis": {
           "colorbar": {
            "outlinewidth": 0,
            "ticks": ""
           }
          },
          "colorscale": {
           "diverging": [
            [
             0,
             "#8e0152"
            ],
            [
             0.1,
             "#c51b7d"
            ],
            [
             0.2,
             "#de77ae"
            ],
            [
             0.3,
             "#f1b6da"
            ],
            [
             0.4,
             "#fde0ef"
            ],
            [
             0.5,
             "#f7f7f7"
            ],
            [
             0.6,
             "#e6f5d0"
            ],
            [
             0.7,
             "#b8e186"
            ],
            [
             0.8,
             "#7fbc41"
            ],
            [
             0.9,
             "#4d9221"
            ],
            [
             1,
             "#276419"
            ]
           ],
           "sequential": [
            [
             0,
             "#0d0887"
            ],
            [
             0.1111111111111111,
             "#46039f"
            ],
            [
             0.2222222222222222,
             "#7201a8"
            ],
            [
             0.3333333333333333,
             "#9c179e"
            ],
            [
             0.4444444444444444,
             "#bd3786"
            ],
            [
             0.5555555555555556,
             "#d8576b"
            ],
            [
             0.6666666666666666,
             "#ed7953"
            ],
            [
             0.7777777777777778,
             "#fb9f3a"
            ],
            [
             0.8888888888888888,
             "#fdca26"
            ],
            [
             1,
             "#f0f921"
            ]
           ],
           "sequentialminus": [
            [
             0,
             "#0d0887"
            ],
            [
             0.1111111111111111,
             "#46039f"
            ],
            [
             0.2222222222222222,
             "#7201a8"
            ],
            [
             0.3333333333333333,
             "#9c179e"
            ],
            [
             0.4444444444444444,
             "#bd3786"
            ],
            [
             0.5555555555555556,
             "#d8576b"
            ],
            [
             0.6666666666666666,
             "#ed7953"
            ],
            [
             0.7777777777777778,
             "#fb9f3a"
            ],
            [
             0.8888888888888888,
             "#fdca26"
            ],
            [
             1,
             "#f0f921"
            ]
           ]
          },
          "colorway": [
           "#636efa",
           "#EF553B",
           "#00cc96",
           "#ab63fa",
           "#FFA15A",
           "#19d3f3",
           "#FF6692",
           "#B6E880",
           "#FF97FF",
           "#FECB52"
          ],
          "font": {
           "color": "#2a3f5f"
          },
          "geo": {
           "bgcolor": "white",
           "lakecolor": "white",
           "landcolor": "#E5ECF6",
           "showlakes": true,
           "showland": true,
           "subunitcolor": "white"
          },
          "hoverlabel": {
           "align": "left"
          },
          "hovermode": "closest",
          "mapbox": {
           "style": "light"
          },
          "paper_bgcolor": "white",
          "plot_bgcolor": "#E5ECF6",
          "polar": {
           "angularaxis": {
            "gridcolor": "white",
            "linecolor": "white",
            "ticks": ""
           },
           "bgcolor": "#E5ECF6",
           "radialaxis": {
            "gridcolor": "white",
            "linecolor": "white",
            "ticks": ""
           }
          },
          "scene": {
           "xaxis": {
            "backgroundcolor": "#E5ECF6",
            "gridcolor": "white",
            "gridwidth": 2,
            "linecolor": "white",
            "showbackground": true,
            "ticks": "",
            "zerolinecolor": "white"
           },
           "yaxis": {
            "backgroundcolor": "#E5ECF6",
            "gridcolor": "white",
            "gridwidth": 2,
            "linecolor": "white",
            "showbackground": true,
            "ticks": "",
            "zerolinecolor": "white"
           },
           "zaxis": {
            "backgroundcolor": "#E5ECF6",
            "gridcolor": "white",
            "gridwidth": 2,
            "linecolor": "white",
            "showbackground": true,
            "ticks": "",
            "zerolinecolor": "white"
           }
          },
          "shapedefaults": {
           "line": {
            "color": "#2a3f5f"
           }
          },
          "ternary": {
           "aaxis": {
            "gridcolor": "white",
            "linecolor": "white",
            "ticks": ""
           },
           "baxis": {
            "gridcolor": "white",
            "linecolor": "white",
            "ticks": ""
           },
           "bgcolor": "#E5ECF6",
           "caxis": {
            "gridcolor": "white",
            "linecolor": "white",
            "ticks": ""
           }
          },
          "title": {
           "x": 0.05
          },
          "xaxis": {
           "automargin": true,
           "gridcolor": "white",
           "linecolor": "white",
           "ticks": "",
           "title": {
            "standoff": 15
           },
           "zerolinecolor": "white",
           "zerolinewidth": 2
          },
          "yaxis": {
           "automargin": true,
           "gridcolor": "white",
           "linecolor": "white",
           "ticks": "",
           "title": {
            "standoff": 15
           },
           "zerolinecolor": "white",
           "zerolinewidth": 2
          }
         }
        },
        "title": {
         "text": "Coef_ Intercept_"
        },
        "width": 700,
        "xaxis": {
         "title": {
          "text": "Altura Real"
         }
        },
        "yaxis": {
         "title": {
          "text": "Altura Predicha"
         }
        }
       }
      }
     },
     "metadata": {},
     "output_type": "display_data"
    }
   ],
   "source": [
    "fig_elastic = go.Figure()\n",
    "\n",
    "fig_elastic.add_trace(go.Scatter(\n",
    "    x=Y_test_pb_5, \n",
    "    y=y_pred_5,\n",
    "    mode='markers',\n",
    "    name='Coef_ Intercept_',\n",
    "    marker=dict(color='orange')\n",
    "))\n",
    "\n",
    "fig_elastic.add_trace(go.Scatter(\n",
    "    x=Y_test_pb,\n",
    "    y=Y_test_pb,\n",
    "    mode='lines',\n",
    "    name='Línea Ideal',\n",
    "    line=dict(color='red', dash='dash')\n",
    "))\n",
    "\n",
    "fig_elastic.update_layout(\n",
    "    title='Coef_ Intercept_',\n",
    "    xaxis_title='Altura Real',\n",
    "    yaxis_title='Altura Predicha',\n",
    "    width=700,\n",
    "    height=500\n",
    ")\n",
    "\n",
    "fig_elastic.show()"
   ]
  },
  {
   "cell_type": "code",
   "execution_count": 192,
   "metadata": {},
   "outputs": [
    {
     "name": "stdout",
     "output_type": "stream",
     "text": [
      "Modelo 6. Países Bajos. R2 Score: 0.8578909107587857. RMSE: 2.486562226862725\n"
     ]
    }
   ],
   "source": [
    "#6 - Coef_ Intercep_\n",
    "Linear_model_2D.fit(X_train_pb, Y_train_pb)\n",
    "y_pred_6 = Linear_model_2D.predict(X_test_pb)\n",
    "r2_pb_6 = r2_score(Y_test_pb, y_pred_6)\n",
    "rmse_pb_6 = np.sqrt(mean_squared_error(Y_test_pb, y_pred_6))\n",
    "print(f'Modelo 6. Países Bajos. R2 Score: {r2_pb_6}. RMSE: {rmse_pb_6}')\n"
   ]
  },
  {
   "cell_type": "code",
   "execution_count": 201,
   "metadata": {},
   "outputs": [
    {
     "data": {
      "application/vnd.plotly.v1+json": {
       "config": {
        "plotlyServerURL": "https://plot.ly"
       },
       "data": [
        {
         "marker": {
          "color": "orange"
         },
         "mode": "markers",
         "name": "Coef_ Intercep_",
         "type": "scatter",
         "x": {
          "bdata": "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",
          "dtype": "f8"
         },
         "y": {
          "bdata": "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",
          "dtype": "f8"
         }
        },
        {
         "line": {
          "color": "red",
          "dash": "dash"
         },
         "mode": "lines",
         "name": "Línea Ideal",
         "type": "scatter",
         "x": {
          "bdata": "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",
          "dtype": "f8"
         },
         "y": {
          "bdata": "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",
          "dtype": "f8"
         }
        }
       ],
       "layout": {
        "height": 500,
        "template": {
         "data": {
          "bar": [
           {
            "error_x": {
             "color": "#2a3f5f"
            },
            "error_y": {
             "color": "#2a3f5f"
            },
            "marker": {
             "line": {
              "color": "#E5ECF6",
              "width": 0.5
             },
             "pattern": {
              "fillmode": "overlay",
              "size": 10,
              "solidity": 0.2
             }
            },
            "type": "bar"
           }
          ],
          "barpolar": [
           {
            "marker": {
             "line": {
              "color": "#E5ECF6",
              "width": 0.5
             },
             "pattern": {
              "fillmode": "overlay",
              "size": 10,
              "solidity": 0.2
             }
            },
            "type": "barpolar"
           }
          ],
          "carpet": [
           {
            "aaxis": {
             "endlinecolor": "#2a3f5f",
             "gridcolor": "white",
             "linecolor": "white",
             "minorgridcolor": "white",
             "startlinecolor": "#2a3f5f"
            },
            "baxis": {
             "endlinecolor": "#2a3f5f",
             "gridcolor": "white",
             "linecolor": "white",
             "minorgridcolor": "white",
             "startlinecolor": "#2a3f5f"
            },
            "type": "carpet"
           }
          ],
          "choropleth": [
           {
            "colorbar": {
             "outlinewidth": 0,
             "ticks": ""
            },
            "type": "choropleth"
           }
          ],
          "contour": [
           {
            "colorbar": {
             "outlinewidth": 0,
             "ticks": ""
            },
            "colorscale": [
             [
              0,
              "#0d0887"
             ],
             [
              0.1111111111111111,
              "#46039f"
             ],
             [
              0.2222222222222222,
              "#7201a8"
             ],
             [
              0.3333333333333333,
              "#9c179e"
             ],
             [
              0.4444444444444444,
              "#bd3786"
             ],
             [
              0.5555555555555556,
              "#d8576b"
             ],
             [
              0.6666666666666666,
              "#ed7953"
             ],
             [
              0.7777777777777778,
              "#fb9f3a"
             ],
             [
              0.8888888888888888,
              "#fdca26"
             ],
             [
              1,
              "#f0f921"
             ]
            ],
            "type": "contour"
           }
          ],
          "contourcarpet": [
           {
            "colorbar": {
             "outlinewidth": 0,
             "ticks": ""
            },
            "type": "contourcarpet"
           }
          ],
          "heatmap": [
           {
            "colorbar": {
             "outlinewidth": 0,
             "ticks": ""
            },
            "colorscale": [
             [
              0,
              "#0d0887"
             ],
             [
              0.1111111111111111,
              "#46039f"
             ],
             [
              0.2222222222222222,
              "#7201a8"
             ],
             [
              0.3333333333333333,
              "#9c179e"
             ],
             [
              0.4444444444444444,
              "#bd3786"
             ],
             [
              0.5555555555555556,
              "#d8576b"
             ],
             [
              0.6666666666666666,
              "#ed7953"
             ],
             [
              0.7777777777777778,
              "#fb9f3a"
             ],
             [
              0.8888888888888888,
              "#fdca26"
             ],
             [
              1,
              "#f0f921"
             ]
            ],
            "type": "heatmap"
           }
          ],
          "histogram": [
           {
            "marker": {
             "pattern": {
              "fillmode": "overlay",
              "size": 10,
              "solidity": 0.2
             }
            },
            "type": "histogram"
           }
          ],
          "histogram2d": [
           {
            "colorbar": {
             "outlinewidth": 0,
             "ticks": ""
            },
            "colorscale": [
             [
              0,
              "#0d0887"
             ],
             [
              0.1111111111111111,
              "#46039f"
             ],
             [
              0.2222222222222222,
              "#7201a8"
             ],
             [
              0.3333333333333333,
              "#9c179e"
             ],
             [
              0.4444444444444444,
              "#bd3786"
             ],
             [
              0.5555555555555556,
              "#d8576b"
             ],
             [
              0.6666666666666666,
              "#ed7953"
             ],
             [
              0.7777777777777778,
              "#fb9f3a"
             ],
             [
              0.8888888888888888,
              "#fdca26"
             ],
             [
              1,
              "#f0f921"
             ]
            ],
            "type": "histogram2d"
           }
          ],
          "histogram2dcontour": [
           {
            "colorbar": {
             "outlinewidth": 0,
             "ticks": ""
            },
            "colorscale": [
             [
              0,
              "#0d0887"
             ],
             [
              0.1111111111111111,
              "#46039f"
             ],
             [
              0.2222222222222222,
              "#7201a8"
             ],
             [
              0.3333333333333333,
              "#9c179e"
             ],
             [
              0.4444444444444444,
              "#bd3786"
             ],
             [
              0.5555555555555556,
              "#d8576b"
             ],
             [
              0.6666666666666666,
              "#ed7953"
             ],
             [
              0.7777777777777778,
              "#fb9f3a"
             ],
             [
              0.8888888888888888,
              "#fdca26"
             ],
             [
              1,
              "#f0f921"
             ]
            ],
            "type": "histogram2dcontour"
           }
          ],
          "mesh3d": [
           {
            "colorbar": {
             "outlinewidth": 0,
             "ticks": ""
            },
            "type": "mesh3d"
           }
          ],
          "parcoords": [
           {
            "line": {
             "colorbar": {
              "outlinewidth": 0,
              "ticks": ""
             }
            },
            "type": "parcoords"
           }
          ],
          "pie": [
           {
            "automargin": true,
            "type": "pie"
           }
          ],
          "scatter": [
           {
            "fillpattern": {
             "fillmode": "overlay",
             "size": 10,
             "solidity": 0.2
            },
            "type": "scatter"
           }
          ],
          "scatter3d": [
           {
            "line": {
             "colorbar": {
              "outlinewidth": 0,
              "ticks": ""
             }
            },
            "marker": {
             "colorbar": {
              "outlinewidth": 0,
              "ticks": ""
             }
            },
            "type": "scatter3d"
           }
          ],
          "scattercarpet": [
           {
            "marker": {
             "colorbar": {
              "outlinewidth": 0,
              "ticks": ""
             }
            },
            "type": "scattercarpet"
           }
          ],
          "scattergeo": [
           {
            "marker": {
             "colorbar": {
              "outlinewidth": 0,
              "ticks": ""
             }
            },
            "type": "scattergeo"
           }
          ],
          "scattergl": [
           {
            "marker": {
             "colorbar": {
              "outlinewidth": 0,
              "ticks": ""
             }
            },
            "type": "scattergl"
           }
          ],
          "scattermap": [
           {
            "marker": {
             "colorbar": {
              "outlinewidth": 0,
              "ticks": ""
             }
            },
            "type": "scattermap"
           }
          ],
          "scattermapbox": [
           {
            "marker": {
             "colorbar": {
              "outlinewidth": 0,
              "ticks": ""
             }
            },
            "type": "scattermapbox"
           }
          ],
          "scatterpolar": [
           {
            "marker": {
             "colorbar": {
              "outlinewidth": 0,
              "ticks": ""
             }
            },
            "type": "scatterpolar"
           }
          ],
          "scatterpolargl": [
           {
            "marker": {
             "colorbar": {
              "outlinewidth": 0,
              "ticks": ""
             }
            },
            "type": "scatterpolargl"
           }
          ],
          "scatterternary": [
           {
            "marker": {
             "colorbar": {
              "outlinewidth": 0,
              "ticks": ""
             }
            },
            "type": "scatterternary"
           }
          ],
          "surface": [
           {
            "colorbar": {
             "outlinewidth": 0,
             "ticks": ""
            },
            "colorscale": [
             [
              0,
              "#0d0887"
             ],
             [
              0.1111111111111111,
              "#46039f"
             ],
             [
              0.2222222222222222,
              "#7201a8"
             ],
             [
              0.3333333333333333,
              "#9c179e"
             ],
             [
              0.4444444444444444,
              "#bd3786"
             ],
             [
              0.5555555555555556,
              "#d8576b"
             ],
             [
              0.6666666666666666,
              "#ed7953"
             ],
             [
              0.7777777777777778,
              "#fb9f3a"
             ],
             [
              0.8888888888888888,
              "#fdca26"
             ],
             [
              1,
              "#f0f921"
             ]
            ],
            "type": "surface"
           }
          ],
          "table": [
           {
            "cells": {
             "fill": {
              "color": "#EBF0F8"
             },
             "line": {
              "color": "white"
             }
            },
            "header": {
             "fill": {
              "color": "#C8D4E3"
             },
             "line": {
              "color": "white"
             }
            },
            "type": "table"
           }
          ]
         },
         "layout": {
          "annotationdefaults": {
           "arrowcolor": "#2a3f5f",
           "arrowhead": 0,
           "arrowwidth": 1
          },
          "autotypenumbers": "strict",
          "coloraxis": {
           "colorbar": {
            "outlinewidth": 0,
            "ticks": ""
           }
          },
          "colorscale": {
           "diverging": [
            [
             0,
             "#8e0152"
            ],
            [
             0.1,
             "#c51b7d"
            ],
            [
             0.2,
             "#de77ae"
            ],
            [
             0.3,
             "#f1b6da"
            ],
            [
             0.4,
             "#fde0ef"
            ],
            [
             0.5,
             "#f7f7f7"
            ],
            [
             0.6,
             "#e6f5d0"
            ],
            [
             0.7,
             "#b8e186"
            ],
            [
             0.8,
             "#7fbc41"
            ],
            [
             0.9,
             "#4d9221"
            ],
            [
             1,
             "#276419"
            ]
           ],
           "sequential": [
            [
             0,
             "#0d0887"
            ],
            [
             0.1111111111111111,
             "#46039f"
            ],
            [
             0.2222222222222222,
             "#7201a8"
            ],
            [
             0.3333333333333333,
             "#9c179e"
            ],
            [
             0.4444444444444444,
             "#bd3786"
            ],
            [
             0.5555555555555556,
             "#d8576b"
            ],
            [
             0.6666666666666666,
             "#ed7953"
            ],
            [
             0.7777777777777778,
             "#fb9f3a"
            ],
            [
             0.8888888888888888,
             "#fdca26"
            ],
            [
             1,
             "#f0f921"
            ]
           ],
           "sequentialminus": [
            [
             0,
             "#0d0887"
            ],
            [
             0.1111111111111111,
             "#46039f"
            ],
            [
             0.2222222222222222,
             "#7201a8"
            ],
            [
             0.3333333333333333,
             "#9c179e"
            ],
            [
             0.4444444444444444,
             "#bd3786"
            ],
            [
             0.5555555555555556,
             "#d8576b"
            ],
            [
             0.6666666666666666,
             "#ed7953"
            ],
            [
             0.7777777777777778,
             "#fb9f3a"
            ],
            [
             0.8888888888888888,
             "#fdca26"
            ],
            [
             1,
             "#f0f921"
            ]
           ]
          },
          "colorway": [
           "#636efa",
           "#EF553B",
           "#00cc96",
           "#ab63fa",
           "#FFA15A",
           "#19d3f3",
           "#FF6692",
           "#B6E880",
           "#FF97FF",
           "#FECB52"
          ],
          "font": {
           "color": "#2a3f5f"
          },
          "geo": {
           "bgcolor": "white",
           "lakecolor": "white",
           "landcolor": "#E5ECF6",
           "showlakes": true,
           "showland": true,
           "subunitcolor": "white"
          },
          "hoverlabel": {
           "align": "left"
          },
          "hovermode": "closest",
          "mapbox": {
           "style": "light"
          },
          "paper_bgcolor": "white",
          "plot_bgcolor": "#E5ECF6",
          "polar": {
           "angularaxis": {
            "gridcolor": "white",
            "linecolor": "white",
            "ticks": ""
           },
           "bgcolor": "#E5ECF6",
           "radialaxis": {
            "gridcolor": "white",
            "linecolor": "white",
            "ticks": ""
           }
          },
          "scene": {
           "xaxis": {
            "backgroundcolor": "#E5ECF6",
            "gridcolor": "white",
            "gridwidth": 2,
            "linecolor": "white",
            "showbackground": true,
            "ticks": "",
            "zerolinecolor": "white"
           },
           "yaxis": {
            "backgroundcolor": "#E5ECF6",
            "gridcolor": "white",
            "gridwidth": 2,
            "linecolor": "white",
            "showbackground": true,
            "ticks": "",
            "zerolinecolor": "white"
           },
           "zaxis": {
            "backgroundcolor": "#E5ECF6",
            "gridcolor": "white",
            "gridwidth": 2,
            "linecolor": "white",
            "showbackground": true,
            "ticks": "",
            "zerolinecolor": "white"
           }
          },
          "shapedefaults": {
           "line": {
            "color": "#2a3f5f"
           }
          },
          "ternary": {
           "aaxis": {
            "gridcolor": "white",
            "linecolor": "white",
            "ticks": ""
           },
           "baxis": {
            "gridcolor": "white",
            "linecolor": "white",
            "ticks": ""
           },
           "bgcolor": "#E5ECF6",
           "caxis": {
            "gridcolor": "white",
            "linecolor": "white",
            "ticks": ""
           }
          },
          "title": {
           "x": 0.05
          },
          "xaxis": {
           "automargin": true,
           "gridcolor": "white",
           "linecolor": "white",
           "ticks": "",
           "title": {
            "standoff": 15
           },
           "zerolinecolor": "white",
           "zerolinewidth": 2
          },
          "yaxis": {
           "automargin": true,
           "gridcolor": "white",
           "linecolor": "white",
           "ticks": "",
           "title": {
            "standoff": 15
           },
           "zerolinecolor": "white",
           "zerolinewidth": 2
          }
         }
        },
        "title": {
         "text": "Coef_ Intercept_"
        },
        "width": 700,
        "xaxis": {
         "title": {
          "text": "Altura Real"
         }
        },
        "yaxis": {
         "title": {
          "text": "Altura Predicha"
         }
        }
       }
      }
     },
     "metadata": {},
     "output_type": "display_data"
    }
   ],
   "source": [
    "fig_elastic = go.Figure()\n",
    "\n",
    "fig_elastic.add_trace(go.Scatter(\n",
    "    x=Y_test_pb, \n",
    "    y=y_pred_6,\n",
    "    mode='markers',\n",
    "    name='Coef_ Intercep_',\n",
    "    marker=dict(color='orange')\n",
    "))\n",
    "\n",
    "fig_elastic.add_trace(go.Scatter(\n",
    "    x=Y_test_pb,\n",
    "    y=Y_test_pb,\n",
    "    mode='lines',\n",
    "    name='Línea Ideal',\n",
    "    line=dict(color='red', dash='dash')\n",
    "))\n",
    "\n",
    "fig_elastic.update_layout(\n",
    "    title='Coef_ Intercept_',\n",
    "    xaxis_title='Altura Real',\n",
    "    yaxis_title='Altura Predicha',\n",
    "    width=700,\n",
    "    height=500\n",
    ")\n",
    "\n",
    "fig_elastic.show()"
   ]
  },
  {
   "cell_type": "code",
   "execution_count": null,
   "metadata": {},
   "outputs": [],
   "source": []
  }
 ],
 "metadata": {
  "kernelspec": {
   "display_name": "EO",
   "language": "python",
   "name": "python3"
  },
  "language_info": {
   "codemirror_mode": {
    "name": "ipython",
    "version": 3
   },
   "file_extension": ".py",
   "mimetype": "text/x-python",
   "name": "python",
   "nbconvert_exporter": "python",
   "pygments_lexer": "ipython3",
   "version": "3.11.11"
  }
 },
 "nbformat": 4,
 "nbformat_minor": 2
}
